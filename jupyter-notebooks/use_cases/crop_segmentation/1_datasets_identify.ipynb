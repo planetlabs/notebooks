{
 "cells": [
  {
   "cell_type": "markdown",
   "metadata": {},
   "source": [
    "# Identify Datasets\n",
    "\n",
    "This notebook is a part of the [Crop Segmentation and Classification](https://github.com/planetlabs/notebooks/tree/master/jupyter-notebooks/crop-classification) notebook project. In this notebook, we identify and the ground truth data, define the area of intereste, and identify and download imagery data for use in crop segmentation and classification. We do this for two sets of data: a training set, where we will develop our segmentation and classification algorithms, and a testing set, where we test the accuracy of the resulting segmentation and classification.\n",
    "\n",
    "The general sections are:\n",
    "1. [Explore Ground Truth Data](#ground_truth)\n",
    "2. [Identify Area of Interest](#aoi)\n",
    "3. [Download Planet Scene](#pl_scene)\n",
    "\n",
    "Ground truth crop type and boundary data is not easy to come by. Therefore, the area and time of interest for this problem is primarily defined by the availability of ground truth data. The [2015 Sacramento County Land Use DWR Survey Dataset](https://data.cnra.ca.gov/dataset/a6f3035f-0953-4b4b-bcbd-57c3b22cda28/resource/a287d32b-1f23-4aa0-83f5-3fe77c116e6b) is a free dataset covering Sacramento county in 2015. It provides hand-adjusted boundaries and provides crop types.\n",
    "\n",
    "The primary satellite imagery we will use in this study is SSO Planetscope 2 imagery. We will use the [PSScene Analytic Product](https://developers.planet.com/docs/data/psscene/), which is 4-band (Blue, Green Red, Near-IR) and radiometrically corrected to at-sensor radiance. Correction to at-sensor radiance removes any variation in imagery between different satellites and allows for calculating vegetative indices. Further, the coefficients for correcting to at-sensor reflectance are provided in the scene metadata, which further improves the consistency between images taken at different times.\n",
    "\n",
    "SSO Planetscope 2 satellites were launched Feb 14, 2017 ([news release](https://www.planet.com/pulse/planet-launches-satellite-constellation-to-image-the-whole-planet-daily/)), therefore they did not image Sacramento county in 2015. Although at this time we are focusing on PlanetScope imagery, in the future we may use Landsat 8 imagery as a bridge between 2015 and 2017.\n",
    "\n",
    "### Usage Notes\n",
    "\n",
    "To use this notebook, you will need an active [Planet API Key](https://www.planet.com/account/#/user-settings), and will need to make sure you're using [V2 of the Planet Python Client](https://planet-sdk-for-python-v2.readthedocs.io/en/latest/)."
   ]
  },
  {
   "cell_type": "code",
   "execution_count": 1,
   "metadata": {},
   "outputs": [],
   "source": [
    "# Notebook dependencies\n",
    "import copy\n",
    "from datetime import datetime\n",
    "from functools import partial\n",
    "import json\n",
    "import os\n",
    "import zipfile\n",
    "\n",
    "import ipyleaflet as ipyl\n",
    "import ipywidgets as ipyw\n",
    "from IPython import display\n",
    "import fiona\n",
    "import pandas as pd\n",
    "from planet import Auth, data_filter\n",
    "from planet import Session\n",
    "import pyproj\n",
    "from pyproj import CRS, Transformer\n",
    "import shapely\n",
    "from shapely.geometry import shape, mapping\n",
    "from shapely.ops import transform\n",
    "import wget"
   ]
  },
  {
   "cell_type": "markdown",
   "metadata": {},
   "source": [
    "<a id='ground_truth'></a>\n",
    "\n",
    "## Explore Ground Truth Data\n",
    "\n",
    "In this section we will download the ground truth data, filter it to crop features, and save it as a geojson dataset (geojson is our preferred format for processing in these notebooks).\n",
    "\n",
    "\n",
    "#### Unzip data\n",
    "We first start with the shapefile zip file downloaded from (https://data.cnra.ca.gov/dataset/a6f3035f-0953-4b4b-bcbd-57c3b22cda28/resource/a287d32b-1f23-4aa0-83f5-3fe77c116e6b/download/i15_crop_mapping_delta_2015_shp.zip).\n",
    "\n",
    "To download this file yourself, in the `pre-data` directory, run:\n",
    "```\n",
    "$> wget https://water.ca.gov/-/media/DWR-Website/Web-Pages/Programs/Water-Use-And-Efficiency/Land-And-Water-Use/Land-Use-Surveys/Files/2015/15sa.zip\n",
    "```"
   ]
  },
  {
   "cell_type": "code",
   "execution_count": 2,
   "metadata": {
    "scrolled": true
   },
   "outputs": [
    {
     "name": "stdout",
     "output_type": "stream",
     "text": [
      "100% [...................................................................] 59923641 / 59923641"
     ]
    },
    {
     "data": {
      "text/plain": [
       "'pre-data/i15_crop_mapping_delta_2015_shp (1).zip'"
      ]
     },
     "execution_count": 2,
     "metadata": {},
     "output_type": "execute_result"
    }
   ],
   "source": [
    "# To download this file yourself, in the `pre-data` directory, run:\n",
    "url = 'https://data.cnra.ca.gov/dataset/a6f3035f-0953-4b4b-bcbd-57c3b22cda28/resource/a287d32b-1f23-4aa0-83f5-3fe77c116e6b/download/i15_crop_mapping_delta_2015_shp.zip'\n",
    "wget.download(url, 'pre-data')"
   ]
  },
  {
   "cell_type": "code",
   "execution_count": 3,
   "metadata": {},
   "outputs": [],
   "source": [
    "data_dir = 'data'\n",
    "predata_dir = 'pre-data'\n",
    "\n",
    "shapefile_zip = os.path.join(predata_dir, '15sa.zip')\n",
    "shapefile_dir = os.path.join(data_dir, 'dwr_survey')"
   ]
  },
  {
   "cell_type": "code",
   "execution_count": 4,
   "metadata": {},
   "outputs": [],
   "source": [
    "with zipfile.ZipFile(shapefile_zip, 'r') as zip_ref:\n",
    "    zip_ref.extractall(shapefile_dir)"
   ]
  },
  {
   "cell_type": "code",
   "execution_count": 5,
   "metadata": {},
   "outputs": [],
   "source": [
    "# Specify the shapefile location and ensure it indeed exists\n",
    "survey_shapefile = os.path.join(shapefile_dir, 'SA15.shp')\n",
    "assert os.path.isfile(survey_shapefile)"
   ]
  },
  {
   "cell_type": "markdown",
   "metadata": {},
   "source": [
    "#### Prepare data\n",
    "\n",
    "The data is provided as a shapefile. It is easier to process the data as geojson. Therefore, we will convert the data to geojson. Additionally, the data contains polygons that aren't crops. Since we are only interested in crops, we will filter the data to only the crop polygons.\n",
    "\n",
    "We will use [fiona](https://fiona.readthedocs.io/en/latest/) to load the shapefile, [shapely](https://shapely.readthedocs.io/en/stable/) to manage the geometries"
   ]
  },
  {
   "cell_type": "markdown",
   "metadata": {},
   "source": [
    "##### Reproject to WGS84\n",
    "\n",
    "What is the coordinate reference system for this dataset?"
   ]
  },
  {
   "cell_type": "code",
   "execution_count": 6,
   "metadata": {},
   "outputs": [
    {
     "name": "stdout",
     "output_type": "stream",
     "text": [
      "epsg:26910\n"
     ]
    }
   ],
   "source": [
    "src_proj = fiona.open(survey_shapefile, 'r').crs['init']\n",
    "print(src_proj)"
   ]
  },
  {
   "cell_type": "markdown",
   "metadata": {},
   "source": [
    "Turns out it is [EPSG:26910](http://spatialreference.org/ref/epsg/26910/). Geojson only supports [EPSG:4326](http://spatialreference.org/ref/epsg/4326/). We will need to reproject the shapes."
   ]
  },
  {
   "cell_type": "code",
   "execution_count": 7,
   "metadata": {},
   "outputs": [],
   "source": [
    "# define projection\n",
    "# from shapely [docs](https://shapely.readthedocs.io/en/stable/manual.html#other-transformations)\n",
    "def define_to_wkt_projection(dataset):\n",
    "    \"\"\"dataset is obtained from fiona.open(file)\"\"\"\n",
    "    src_proj = dataset.crs['init']\n",
    "    dst_proj = \"EPSG:4326\"\n",
    "    \n",
    "    project_to_wkt = Transformer.from_crs(CRS(src_proj), CRS(dst_proj), always_xy=True).transform\n",
    "\n",
    "    return project_to_wkt\n",
    "\n",
    "def project_feature(feat, projection_fcn):\n",
    "    g1 = shape(feat['geometry'])\n",
    "    g2 = transform(projection_fcn, g1)\n",
    "    feat['geometry'] = mapping(g2)"
   ]
  },
  {
   "cell_type": "markdown",
   "metadata": {},
   "source": [
    "##### Filter to agricultural classes\n",
    "\n",
    "The survey data has attributes that provide the crop type. These attributes are described in a pdf distributed with the shapefile. It was unzipped along with the shapefile files and is located at `data/dwr_survey/09legend.pdf`.\n",
    "\n",
    "We are interested in the agricultural classes. Class is specified by the 'CLASS1' attribute of the feature.\n",
    "\n",
    "The agricultural class label and descriptions are:\n",
    "- G: Grain and Hay Crops\n",
    "- R: Rice\n",
    "- F: Field Crops\n",
    "- P: Pasture\n",
    "- T: Truck, Nursery, and Berry Crops\n",
    "- D: Deciduous Fruits and Nutes\n",
    "- C: Citrus and Tropical\n",
    "- V: Vineyards"
   ]
  },
  {
   "cell_type": "code",
   "execution_count": 8,
   "metadata": {},
   "outputs": [],
   "source": [
    "# Class ids from dwr_survey/09legend.pdf\n",
    "agg_classes = ['G', 'R', 'F', 'P', 'T', 'D', 'C', 'V']\n",
    "\n",
    "def is_agricultural(feat):\n",
    "    return feat['properties']['CLASS1'] in agg_classes"
   ]
  },
  {
   "cell_type": "markdown",
   "metadata": {},
   "source": [
    "#### Finally: Load data\n",
    "\n",
    "Load the ground truth data into a list of geojson features, filtering to only agricultural classes and projecting to wkt. Because this process takes a while, save the loaded features for later use."
   ]
  },
  {
   "cell_type": "code",
   "execution_count": 9,
   "metadata": {},
   "outputs": [
    {
     "name": "stdout",
     "output_type": "stream",
     "text": [
      "7429\n"
     ]
    }
   ],
   "source": [
    "def load_ground_truth(filename):\n",
    "    features = []\n",
    "    with fiona.open(filename) as survey_data:\n",
    "        to_wkt_projection = define_to_wkt_projection(survey_data)\n",
    "        for feat in survey_data:\n",
    "            if is_agricultural(feat):\n",
    "                project_feature(feat, to_wkt_projection)\n",
    "                features.append(feat)\n",
    "    return features\n",
    "\n",
    "features = load_ground_truth(survey_shapefile)\n",
    "print(len(features))"
   ]
  },
  {
   "cell_type": "markdown",
   "metadata": {},
   "source": [
    "<a id='aoi'></a>\n",
    "\n",
    "## Identify Area of Interest\n",
    "\n",
    "In this section we will identify an area of interest (aoi) for each study. \n",
    "\n",
    "Selection of the area of interest for our study is based on the following:\n",
    "1. compact representation of many crop classes\n",
    "2. availability of imagery\n",
    "3. as large as possible but smaller than a planet image (to allow for in-scene analysis)\n",
    "\n",
    "We visualize the ground truth data in an interactive window that allows definition of the aoi. Then we query the Planet API to determine the availability of imatery. After using this interactive visualization, we identified two AOIs, which are defined in the notebook as `aoi_test` and `aoi_train`. Next, we identify the Planet scene we want to download for our study."
   ]
  },
  {
   "cell_type": "markdown",
   "metadata": {},
   "source": [
    "### Criteria 1: compact representation of many crop classes\n",
    "\n",
    "Let's start by identifying a region of compact representation of many crop classes. We will do so by drawing a box (the aoi) over the map of the crops and then displaying the number of unique classes represented in the box."
   ]
  },
  {
   "cell_type": "code",
   "execution_count": 10,
   "metadata": {},
   "outputs": [],
   "source": [
    "# Assign colors to classes\n",
    "# colors determined using [colorbrewer2.org](http://colorbrewer2.org/#type=sequential&scheme=BuGn&n=3)\n",
    "colors = ['#ffffd9','#edf8b1','#c7e9b4','#7fcdbb','#41b6c4','#1d91c0','#225ea8','#0c2c84']\n",
    "class_colors = dict((a,c) for a,c in zip(agg_classes, colors))\n",
    "\n",
    "def get_color(cls):\n",
    "    return class_colors[cls]"
   ]
  },
  {
   "cell_type": "code",
   "execution_count": 11,
   "metadata": {},
   "outputs": [],
   "source": [
    "# Create crop feature layer\n",
    "feature_collection = {\n",
    "    \"type\": \"FeatureCollection\",\n",
    "    \"features\": features\n",
    "}\n",
    "\n",
    "for f in feature_collection['features']:\n",
    "    feature_color = get_color(f['properties']['CLASS1'])\n",
    "    f['properties']['style'] = {\n",
    "        'weight': 0,\n",
    "        'fillColor': feature_color,\n",
    "        'fillOpacity': 1}\n",
    "\n",
    "feature_layer = ipyl.GeoJSON(data=feature_collection)"
   ]
  },
  {
   "cell_type": "code",
   "execution_count": 12,
   "metadata": {},
   "outputs": [],
   "source": [
    "# Initialize map using parameters from above map\n",
    "# and deleting map instance if it exists\n",
    "try:\n",
    "    del aoi_map\n",
    "except NameError:\n",
    "    pass\n",
    "\n",
    "\n",
    "zoom = 11\n",
    "center = [38.3586252, -121.3853994] # lat/lon"
   ]
  },
  {
   "cell_type": "code",
   "execution_count": 13,
   "metadata": {},
   "outputs": [
    {
     "data": {
      "application/vnd.jupyter.widget-view+json": {
       "model_id": "b8402a2b4a104849a394f03c9c42888c",
       "version_major": 2,
       "version_minor": 0
      },
      "text/plain": [
       "VBox(children=(Map(center=[38.3586252, -121.3853994], controls=(ZoomControl(options=['position', 'zoom_in_text…"
      ]
     },
     "metadata": {},
     "output_type": "display_data"
    }
   ],
   "source": [
    "# Create map, adding box drawing controls\n",
    "# Reuse parameters if map already exists\n",
    "try:\n",
    "    center = aoi_map.center\n",
    "    zoom = aoi_map.zoom\n",
    "except NameError:\n",
    "    pass\n",
    "\n",
    "# Change tile layer to one that makes it easier to see crop features\n",
    "# Layer selected using https://leaflet-extras.github.io/leaflet-providers/preview/\n",
    "map_tiles = ipyl.TileLayer(url='http://{s}.basemaps.cartocdn.com/light_all/{z}/{x}/{y}.png')\n",
    "aoi_map = ipyl.Map(\n",
    "        center=center, \n",
    "        zoom=zoom,\n",
    "        default_tiles = map_tiles\n",
    "    )\n",
    "\n",
    "aoi_map.add_layer(feature_layer)  \n",
    "\n",
    "# Add box drawing control\n",
    "# refs:\n",
    "# https://github.com/kscottz/PythonFromSpace/blob/master/TheBasics.ipynb\n",
    "# https://github.com/ellisonbg/ipyleaflet/blob/master/examples/DrawControl.ipynb\n",
    "rectangle = {'shapeOptions': {'color': 'blue'}} \n",
    "dc = ipyl.DrawControl(\n",
    "    polygon={}, polyline={}, # disable polygons and polylines\n",
    "    rectangle={'shapeOptions': {'color': 'blue'}}\n",
    ")\n",
    "\n",
    "# When a box is drawn, update the label with the number of unique classes\n",
    "# and save the box geometry as AOI\n",
    "total_unique_classes = len(set([f['properties']['CLASS1'] for f in features]))\n",
    "label = ipyw.Label(layout=ipyw.Layout(width='100%'))\n",
    "\n",
    "aois = []\n",
    "def handle_draw(self, action, geo_json):\n",
    "    if action == 'created':\n",
    "        box_shape = shape(geo_json['geometry'])\n",
    "        contained_features = [f for f in features\n",
    "                              if shape(f['geometry']).within(box_shape)]\n",
    "        unique_classes = set([f['properties']['CLASS1'] for f in contained_features])\n",
    "        label.value = '{} unique classes out of {} total'.format(\n",
    "            len(unique_classes), total_unique_classes)\n",
    "        aois.append(geo_json)\n",
    "    elif action == 'deleted':\n",
    "        aois.remove(geo_json)\n",
    "    \n",
    "dc.on_draw(handle_draw)\n",
    "aoi_map.add_control(dc) \n",
    "\n",
    "# Display map and label\n",
    "ipyw.VBox([aoi_map, label])"
   ]
  },
  {
   "cell_type": "markdown",
   "metadata": {},
   "source": [
    "From this map, we have identified two potential aois for a training dataset and a testing dataset"
   ]
  },
  {
   "cell_type": "code",
   "execution_count": 14,
   "metadata": {},
   "outputs": [],
   "source": [
    "aoi_train = {\"type\": \"Polygon\",\n",
    "        \"coordinates\": [\n",
    "          [\n",
    "            [\n",
    "              -121.58460974693298,\n",
    "              38.29170496647727\n",
    "            ],\n",
    "            [\n",
    "              -121.58460974693298,\n",
    "              38.32726528409606\n",
    "            ],\n",
    "            [\n",
    "              -121.5248715877533,\n",
    "              38.32726528409606\n",
    "            ],\n",
    "            [\n",
    "              -121.5248715877533,\n",
    "              38.29170496647727\n",
    "            ],\n",
    "            [\n",
    "              -121.58460974693298,\n",
    "              38.29170496647727\n",
    "            ]\n",
    "          ]\n",
    "        ]\n",
    "      }"
   ]
  },
  {
   "cell_type": "code",
   "execution_count": 15,
   "metadata": {},
   "outputs": [],
   "source": [
    "aoi_test = {\"type\":\"Polygon\",\n",
    "            \"coordinates\":[\n",
    "               [\n",
    "                  [\n",
    "                     -121.3113248348236,\n",
    "                     38.28911976564886\n",
    "                  ],\n",
    "                  [\n",
    "                     -121.3113248348236,\n",
    "                     38.34622533958\n",
    "                  ],\n",
    "                  [\n",
    "                     -121.2344205379486,\n",
    "                     38.34622533958\n",
    "                  ],\n",
    "                  [\n",
    "                     -121.2344205379486,\n",
    "                     38.28911976564886\n",
    "                  ],\n",
    "                  [\n",
    "                     -121.3113248348236,\n",
    "                     38.28911976564886\n",
    "                  ]\n",
    "               ]\n",
    "            ]\n",
    "         }\n"
   ]
  },
  {
   "cell_type": "markdown",
   "metadata": {},
   "source": [
    "### Criteria 2: availability of imagery\n",
    "\n",
    "How many Planet images cover the AOI defined above?\n",
    "\n",
    "We will answer this question by querying the Planet Data API, using the Planet Python Client.\n",
    "\n",
    "[Planet Client Documentation](https://planet-sdk-for-python-v2.readthedocs.io/en/latest/) \n",
    "\n",
    "Much of this code is pulled from [PythonFromSpace/TheBasics.ipynb](https://github.com/kscottz/PythonFromSpace/blob/master/TheBasics.ipynb)"
   ]
  },
  {
   "cell_type": "code",
   "execution_count": 16,
   "metadata": {},
   "outputs": [],
   "source": [
    "# if your Planet API Key is not set as an environment variable, you can paste it below\n",
    "if 'PL_API_KEY' in os.environ:\n",
    "    API_KEY = os.environ['PL_API_KEY']\n",
    "else:\n",
    "    API_KEY = 'PASTE_API_KEY_HERE'\n",
    "    os.environ['PL_API_KEY'] = API_KEY\n",
    "\n",
    "client = Auth.from_key(API_KEY)"
   ]
  },
  {
   "cell_type": "markdown",
   "metadata": {},
   "source": [
    "#### Query Planet API\n",
    "\n",
    "Filter to scenes that contain AOI. If the number is zero, go back and redefine the AOI to be smaller."
   ]
  },
  {
   "cell_type": "code",
   "execution_count": 17,
   "metadata": {},
   "outputs": [],
   "source": [
    "# create an API Request from the search specifications for data\n",
    "\n",
    "item_type = ['PSScene']\n",
    "\n",
    "geom_filter_test = data_filter.geometry_filter(aoi_test)\n",
    "geom_filter_train = data_filter.geometry_filter(aoi_train)\n",
    "date_range_filter = data_filter.date_range_filter(\"acquired\", gt=datetime(month=6, day=1, year=2016), lt=datetime(month=10, day=1, year=2016))\n",
    "cloud_cover_filter = data_filter.range_filter('cloud_cover', lt=0.10)\n",
    "\n",
    "combined_filter_test = data_filter.and_filter([geom_filter_test, date_range_filter, cloud_cover_filter])\n",
    "combined_filter_train = data_filter.and_filter([geom_filter_train, date_range_filter, cloud_cover_filter])\n",
    "    \n",
    "# Run a quick search for our TRAIN data\n",
    "async with Session() as sess:\n",
    "    cl = sess.client('data')\n",
    "    results = cl.search(name='temp_search_train',search_filter=combined_filter_train, item_types=item_type)\n",
    "    train_result_list = [i async for i in results]\n",
    "    \n",
    "# Run a quick search for our TEST data\n",
    "async with Session() as sess:\n",
    "    cl = sess.client('data')\n",
    "    results = cl.search(name='temp_search_test',search_filter=combined_filter_test, item_types=item_type)\n",
    "    test_result_list = [i async for i in results]"
   ]
  },
  {
   "cell_type": "markdown",
   "metadata": {},
   "source": [
    "Let's look at our search results:"
   ]
  },
  {
   "cell_type": "code",
   "execution_count": 18,
   "metadata": {},
   "outputs": [
    {
     "name": "stdout",
     "output_type": "stream",
     "text": [
      "Number of train scene results:  51\n",
      "Number of test scene results:  53\n"
     ]
    }
   ],
   "source": [
    "print(\"Number of train scene results: \", len(train_result_list))\n",
    "print(\"Number of test scene results: \", len(test_result_list))"
   ]
  },
  {
   "cell_type": "markdown",
   "metadata": {},
   "source": [
    "That's a lot of results! However, we need to make sure that images we use for our analysis will cover most of our AOI. We do not currently have API support for a `coverage` feature, but we can build this function below!"
   ]
  },
  {
   "cell_type": "code",
   "execution_count": 19,
   "metadata": {},
   "outputs": [
    {
     "name": "stdout",
     "output_type": "stream",
     "text": [
      "Number of near-full coverage train scene results:  6\n",
      "Number of near-full coverage test scene results:  2\n"
     ]
    }
   ],
   "source": [
    "# build a coverage filter to ensure we are getting images that cover most of our AOI!\n",
    "def determine_overlaps(search_aoi, result_list):\n",
    "    scenes = []\n",
    "    planet_map = {}\n",
    "    for item in result_list:\n",
    "        planet_map[item['id']]=item\n",
    "        props = item['properties']\n",
    "        props[\"id\"] = item['id']\n",
    "        props[\"geometry\"] = item[\"geometry\"]\n",
    "        props[\"thumbnail\"] = item[\"_links\"][\"thumbnail\"]\n",
    "        scenes.append(props)\n",
    "    scenes = pd.DataFrame(data=scenes)\n",
    "    \n",
    "    aoi_shape = shape(search_aoi)\n",
    "        \n",
    "    footprints = []\n",
    "    overlaps = []\n",
    "    # go through the geometry from our api call, convert to a shape and calculate overlap area.\n",
    "    # also save the shape for safe keeping\n",
    "    for footprint in scenes[\"geometry\"].tolist():\n",
    "        s = shape(footprint)\n",
    "        footprints.append(s)\n",
    "        overlap = 100.0*(aoi_shape.intersection(s).area / aoi_shape.area)\n",
    "        overlaps.append(overlap)\n",
    "\n",
    "    # take our lists and add them back to our dataframe\n",
    "    scenes['overlap'] = pd.Series(overlaps, index=scenes.index)\n",
    "    scenes['footprint'] = pd.Series(footprints, index=scenes.index)\n",
    "\n",
    "    \n",
    "    near_full_coverage = scenes[\"overlap\"] > 95    \n",
    "    good_scenes = scenes[(near_full_coverage)]\n",
    "    return good_scenes\n",
    "\n",
    "scenes_train = determine_overlaps(aoi_train, train_result_list)\n",
    "print(\"Number of near-full coverage train scene results: \", len(scenes_train))\n",
    "\n",
    "scenes_test = determine_overlaps(aoi_test, test_result_list)\n",
    "print(\"Number of near-full coverage test scene results: \", len(scenes_test))"
   ]
  },
  {
   "cell_type": "markdown",
   "metadata": {},
   "source": [
    "##### Select Scenes"
   ]
  },
  {
   "cell_type": "markdown",
   "metadata": {},
   "source": [
    "That helps us narrow our images by a lot! \n",
    "\n",
    "Now we can explore these resulting images. Feel free to use the tables below to narrow which images you will use. You can also grab the image_ids (`scenes_test['id']`) and put them into Planet Explorer to see what these images look like. "
   ]
  },
  {
   "cell_type": "code",
   "execution_count": 20,
   "metadata": {
    "scrolled": true
   },
   "outputs": [
    {
     "data": {
      "text/html": [
       "<div>\n",
       "<style scoped>\n",
       "    .dataframe tbody tr th:only-of-type {\n",
       "        vertical-align: middle;\n",
       "    }\n",
       "\n",
       "    .dataframe tbody tr th {\n",
       "        vertical-align: top;\n",
       "    }\n",
       "\n",
       "    .dataframe thead th {\n",
       "        text-align: right;\n",
       "    }\n",
       "</style>\n",
       "<table border=\"1\" class=\"dataframe\">\n",
       "  <thead>\n",
       "    <tr style=\"text-align: right;\">\n",
       "      <th></th>\n",
       "      <th>acquired</th>\n",
       "      <th>anomalous_pixels</th>\n",
       "      <th>clear_confidence_percent</th>\n",
       "      <th>clear_percent</th>\n",
       "      <th>cloud_cover</th>\n",
       "      <th>cloud_percent</th>\n",
       "      <th>ground_control</th>\n",
       "      <th>gsd</th>\n",
       "      <th>heavy_haze_percent</th>\n",
       "      <th>instrument</th>\n",
       "      <th>...</th>\n",
       "      <th>sun_elevation</th>\n",
       "      <th>updated</th>\n",
       "      <th>view_angle</th>\n",
       "      <th>visible_confidence_percent</th>\n",
       "      <th>visible_percent</th>\n",
       "      <th>id</th>\n",
       "      <th>geometry</th>\n",
       "      <th>thumbnail</th>\n",
       "      <th>overlap</th>\n",
       "      <th>footprint</th>\n",
       "    </tr>\n",
       "  </thead>\n",
       "  <tbody>\n",
       "    <tr>\n",
       "      <th>15</th>\n",
       "      <td>2016-08-31T18:02:57.353393Z</td>\n",
       "      <td>0</td>\n",
       "      <td>100.0</td>\n",
       "      <td>100.0</td>\n",
       "      <td>0.0</td>\n",
       "      <td>0.0</td>\n",
       "      <td>True</td>\n",
       "      <td>4.1</td>\n",
       "      <td>0.0</td>\n",
       "      <td>PS2</td>\n",
       "      <td>...</td>\n",
       "      <td>49.1</td>\n",
       "      <td>2021-01-27T17:32:34Z</td>\n",
       "      <td>3.2</td>\n",
       "      <td>81.0</td>\n",
       "      <td>100.0</td>\n",
       "      <td>20160831_180257_0e26</td>\n",
       "      <td>{'coordinates': [[[-121.47564640227792, 38.394...</td>\n",
       "      <td>https://tiles.planet.com/data/v1/item-types/PS...</td>\n",
       "      <td>100.000000</td>\n",
       "      <td>POLYGON ((-121.47564640227792 38.3942146960691...</td>\n",
       "    </tr>\n",
       "    <tr>\n",
       "      <th>48</th>\n",
       "      <td>2016-07-14T18:00:05.23729Z</td>\n",
       "      <td>0</td>\n",
       "      <td>100.0</td>\n",
       "      <td>100.0</td>\n",
       "      <td>0.0</td>\n",
       "      <td>0.0</td>\n",
       "      <td>True</td>\n",
       "      <td>4.0</td>\n",
       "      <td>0.0</td>\n",
       "      <td>PS2</td>\n",
       "      <td>...</td>\n",
       "      <td>57.3</td>\n",
       "      <td>2021-01-27T10:57:23Z</td>\n",
       "      <td>1.7</td>\n",
       "      <td>100.0</td>\n",
       "      <td>100.0</td>\n",
       "      <td>20160714_180005_0e26</td>\n",
       "      <td>{'coordinates': [[[-121.45511358606822, 38.388...</td>\n",
       "      <td>https://tiles.planet.com/data/v1/item-types/PS...</td>\n",
       "      <td>98.810225</td>\n",
       "      <td>POLYGON ((-121.45511358606822 38.3881090430578...</td>\n",
       "    </tr>\n",
       "  </tbody>\n",
       "</table>\n",
       "<p>2 rows × 33 columns</p>\n",
       "</div>"
      ],
      "text/plain": [
       "                       acquired  anomalous_pixels  clear_confidence_percent  \\\n",
       "15  2016-08-31T18:02:57.353393Z                 0                     100.0   \n",
       "48   2016-07-14T18:00:05.23729Z                 0                     100.0   \n",
       "\n",
       "    clear_percent  cloud_cover  cloud_percent  ground_control  gsd  \\\n",
       "15          100.0          0.0            0.0            True  4.1   \n",
       "48          100.0          0.0            0.0            True  4.0   \n",
       "\n",
       "    heavy_haze_percent instrument  ... sun_elevation               updated  \\\n",
       "15                 0.0        PS2  ...          49.1  2021-01-27T17:32:34Z   \n",
       "48                 0.0        PS2  ...          57.3  2021-01-27T10:57:23Z   \n",
       "\n",
       "    view_angle visible_confidence_percent visible_percent  \\\n",
       "15         3.2                       81.0           100.0   \n",
       "48         1.7                      100.0           100.0   \n",
       "\n",
       "                      id                                           geometry  \\\n",
       "15  20160831_180257_0e26  {'coordinates': [[[-121.47564640227792, 38.394...   \n",
       "48  20160714_180005_0e26  {'coordinates': [[[-121.45511358606822, 38.388...   \n",
       "\n",
       "                                            thumbnail     overlap  \\\n",
       "15  https://tiles.planet.com/data/v1/item-types/PS...  100.000000   \n",
       "48  https://tiles.planet.com/data/v1/item-types/PS...   98.810225   \n",
       "\n",
       "                                            footprint  \n",
       "15  POLYGON ((-121.47564640227792 38.3942146960691...  \n",
       "48  POLYGON ((-121.45511358606822 38.3881090430578...  \n",
       "\n",
       "[2 rows x 33 columns]"
      ]
     },
     "execution_count": 20,
     "metadata": {},
     "output_type": "execute_result"
    }
   ],
   "source": [
    "scenes_test"
   ]
  },
  {
   "cell_type": "code",
   "execution_count": 21,
   "metadata": {
    "scrolled": true
   },
   "outputs": [
    {
     "data": {
      "text/html": [
       "<div>\n",
       "<style scoped>\n",
       "    .dataframe tbody tr th:only-of-type {\n",
       "        vertical-align: middle;\n",
       "    }\n",
       "\n",
       "    .dataframe tbody tr th {\n",
       "        vertical-align: top;\n",
       "    }\n",
       "\n",
       "    .dataframe thead th {\n",
       "        text-align: right;\n",
       "    }\n",
       "</style>\n",
       "<table border=\"1\" class=\"dataframe\">\n",
       "  <thead>\n",
       "    <tr style=\"text-align: right;\">\n",
       "      <th></th>\n",
       "      <th>acquired</th>\n",
       "      <th>anomalous_pixels</th>\n",
       "      <th>cloud_cover</th>\n",
       "      <th>ground_control</th>\n",
       "      <th>gsd</th>\n",
       "      <th>instrument</th>\n",
       "      <th>item_type</th>\n",
       "      <th>pixel_resolution</th>\n",
       "      <th>provider</th>\n",
       "      <th>published</th>\n",
       "      <th>...</th>\n",
       "      <th>clear_percent</th>\n",
       "      <th>cloud_percent</th>\n",
       "      <th>heavy_haze_percent</th>\n",
       "      <th>light_haze_percent</th>\n",
       "      <th>shadow_percent</th>\n",
       "      <th>snow_ice_percent</th>\n",
       "      <th>visible_confidence_percent</th>\n",
       "      <th>visible_percent</th>\n",
       "      <th>overlap</th>\n",
       "      <th>footprint</th>\n",
       "    </tr>\n",
       "  </thead>\n",
       "  <tbody>\n",
       "    <tr>\n",
       "      <th>3</th>\n",
       "      <td>2016-09-30T18:03:55.671689Z</td>\n",
       "      <td>0</td>\n",
       "      <td>0.0</td>\n",
       "      <td>True</td>\n",
       "      <td>4.0</td>\n",
       "      <td>PS2</td>\n",
       "      <td>PSScene</td>\n",
       "      <td>3</td>\n",
       "      <td>planetscope</td>\n",
       "      <td>2021-01-27T22:26:55Z</td>\n",
       "      <td>...</td>\n",
       "      <td>100.0</td>\n",
       "      <td>0.0</td>\n",
       "      <td>0.0</td>\n",
       "      <td>0.0</td>\n",
       "      <td>0.0</td>\n",
       "      <td>0.0</td>\n",
       "      <td>76.0</td>\n",
       "      <td>100.0</td>\n",
       "      <td>97.263954</td>\n",
       "      <td>POLYGON ((-121.71327278499317 38.3992103520006...</td>\n",
       "    </tr>\n",
       "    <tr>\n",
       "      <th>16</th>\n",
       "      <td>2016-08-31T18:02:31.641717Z</td>\n",
       "      <td>0</td>\n",
       "      <td>0.0</td>\n",
       "      <td>True</td>\n",
       "      <td>4.1</td>\n",
       "      <td>PS2</td>\n",
       "      <td>PSScene</td>\n",
       "      <td>3</td>\n",
       "      <td>planetscope</td>\n",
       "      <td>2021-01-27T17:32:22Z</td>\n",
       "      <td>...</td>\n",
       "      <td>100.0</td>\n",
       "      <td>0.0</td>\n",
       "      <td>0.0</td>\n",
       "      <td>0.0</td>\n",
       "      <td>0.0</td>\n",
       "      <td>0.0</td>\n",
       "      <td>77.0</td>\n",
       "      <td>100.0</td>\n",
       "      <td>100.000000</td>\n",
       "      <td>POLYGON ((-121.67803255865208 38.3633227859237...</td>\n",
       "    </tr>\n",
       "    <tr>\n",
       "      <th>22</th>\n",
       "      <td>2016-08-22T18:12:11.330979Z</td>\n",
       "      <td>0</td>\n",
       "      <td>0.0</td>\n",
       "      <td>True</td>\n",
       "      <td>3.2</td>\n",
       "      <td>PS2</td>\n",
       "      <td>PSScene</td>\n",
       "      <td>3</td>\n",
       "      <td>planetscope</td>\n",
       "      <td>2021-01-27T15:52:01Z</td>\n",
       "      <td>...</td>\n",
       "      <td>100.0</td>\n",
       "      <td>0.0</td>\n",
       "      <td>0.0</td>\n",
       "      <td>0.0</td>\n",
       "      <td>0.0</td>\n",
       "      <td>0.0</td>\n",
       "      <td>98.0</td>\n",
       "      <td>100.0</td>\n",
       "      <td>99.544944</td>\n",
       "      <td>POLYGON ((-121.57834174857301 38.3744768573394...</td>\n",
       "    </tr>\n",
       "    <tr>\n",
       "      <th>38</th>\n",
       "      <td>2016-08-09T18:02:40.705088Z</td>\n",
       "      <td>0</td>\n",
       "      <td>0.0</td>\n",
       "      <td>True</td>\n",
       "      <td>3.9</td>\n",
       "      <td>PS2</td>\n",
       "      <td>PSScene</td>\n",
       "      <td>3</td>\n",
       "      <td>planetscope</td>\n",
       "      <td>2021-01-27T14:21:13Z</td>\n",
       "      <td>...</td>\n",
       "      <td>100.0</td>\n",
       "      <td>0.0</td>\n",
       "      <td>0.0</td>\n",
       "      <td>0.0</td>\n",
       "      <td>0.0</td>\n",
       "      <td>0.0</td>\n",
       "      <td>77.0</td>\n",
       "      <td>100.0</td>\n",
       "      <td>100.000000</td>\n",
       "      <td>POLYGON ((-121.73130158017905 38.3825463300213...</td>\n",
       "    </tr>\n",
       "    <tr>\n",
       "      <th>39</th>\n",
       "      <td>2016-08-08T00:05:47.036676Z</td>\n",
       "      <td>0</td>\n",
       "      <td>0.0</td>\n",
       "      <td>True</td>\n",
       "      <td>3.1</td>\n",
       "      <td>PS2</td>\n",
       "      <td>PSScene</td>\n",
       "      <td>3</td>\n",
       "      <td>planetscope</td>\n",
       "      <td>2021-01-27T13:52:32Z</td>\n",
       "      <td>...</td>\n",
       "      <td>100.0</td>\n",
       "      <td>0.0</td>\n",
       "      <td>0.0</td>\n",
       "      <td>0.0</td>\n",
       "      <td>0.0</td>\n",
       "      <td>0.0</td>\n",
       "      <td>99.0</td>\n",
       "      <td>100.0</td>\n",
       "      <td>98.570159</td>\n",
       "      <td>POLYGON ((-121.47610527998044 38.2034291825701...</td>\n",
       "    </tr>\n",
       "    <tr>\n",
       "      <th>44</th>\n",
       "      <td>2016-07-17T15:32:12.544923Z</td>\n",
       "      <td>0</td>\n",
       "      <td>0.0</td>\n",
       "      <td>True</td>\n",
       "      <td>3.2</td>\n",
       "      <td>PS2</td>\n",
       "      <td>PSScene</td>\n",
       "      <td>3</td>\n",
       "      <td>planetscope</td>\n",
       "      <td>2021-01-27T11:37:53Z</td>\n",
       "      <td>...</td>\n",
       "      <td>100.0</td>\n",
       "      <td>0.0</td>\n",
       "      <td>0.0</td>\n",
       "      <td>0.0</td>\n",
       "      <td>0.0</td>\n",
       "      <td>0.0</td>\n",
       "      <td>99.0</td>\n",
       "      <td>100.0</td>\n",
       "      <td>96.468523</td>\n",
       "      <td>POLYGON ((-121.7197718974563 38.23933282380383...</td>\n",
       "    </tr>\n",
       "  </tbody>\n",
       "</table>\n",
       "<p>6 rows × 33 columns</p>\n",
       "</div>"
      ],
      "text/plain": [
       "                       acquired  anomalous_pixels  cloud_cover  \\\n",
       "3   2016-09-30T18:03:55.671689Z                 0          0.0   \n",
       "16  2016-08-31T18:02:31.641717Z                 0          0.0   \n",
       "22  2016-08-22T18:12:11.330979Z                 0          0.0   \n",
       "38  2016-08-09T18:02:40.705088Z                 0          0.0   \n",
       "39  2016-08-08T00:05:47.036676Z                 0          0.0   \n",
       "44  2016-07-17T15:32:12.544923Z                 0          0.0   \n",
       "\n",
       "    ground_control  gsd instrument item_type  pixel_resolution     provider  \\\n",
       "3             True  4.0        PS2   PSScene                 3  planetscope   \n",
       "16            True  4.1        PS2   PSScene                 3  planetscope   \n",
       "22            True  3.2        PS2   PSScene                 3  planetscope   \n",
       "38            True  3.9        PS2   PSScene                 3  planetscope   \n",
       "39            True  3.1        PS2   PSScene                 3  planetscope   \n",
       "44            True  3.2        PS2   PSScene                 3  planetscope   \n",
       "\n",
       "               published  ... clear_percent cloud_percent  heavy_haze_percent  \\\n",
       "3   2021-01-27T22:26:55Z  ...         100.0           0.0                 0.0   \n",
       "16  2021-01-27T17:32:22Z  ...         100.0           0.0                 0.0   \n",
       "22  2021-01-27T15:52:01Z  ...         100.0           0.0                 0.0   \n",
       "38  2021-01-27T14:21:13Z  ...         100.0           0.0                 0.0   \n",
       "39  2021-01-27T13:52:32Z  ...         100.0           0.0                 0.0   \n",
       "44  2021-01-27T11:37:53Z  ...         100.0           0.0                 0.0   \n",
       "\n",
       "   light_haze_percent shadow_percent  snow_ice_percent  \\\n",
       "3                 0.0            0.0               0.0   \n",
       "16                0.0            0.0               0.0   \n",
       "22                0.0            0.0               0.0   \n",
       "38                0.0            0.0               0.0   \n",
       "39                0.0            0.0               0.0   \n",
       "44                0.0            0.0               0.0   \n",
       "\n",
       "    visible_confidence_percent visible_percent     overlap  \\\n",
       "3                         76.0           100.0   97.263954   \n",
       "16                        77.0           100.0  100.000000   \n",
       "22                        98.0           100.0   99.544944   \n",
       "38                        77.0           100.0  100.000000   \n",
       "39                        99.0           100.0   98.570159   \n",
       "44                        99.0           100.0   96.468523   \n",
       "\n",
       "                                            footprint  \n",
       "3   POLYGON ((-121.71327278499317 38.3992103520006...  \n",
       "16  POLYGON ((-121.67803255865208 38.3633227859237...  \n",
       "22  POLYGON ((-121.57834174857301 38.3744768573394...  \n",
       "38  POLYGON ((-121.73130158017905 38.3825463300213...  \n",
       "39  POLYGON ((-121.47610527998044 38.2034291825701...  \n",
       "44  POLYGON ((-121.7197718974563 38.23933282380383...  \n",
       "\n",
       "[6 rows x 33 columns]"
      ]
     },
     "execution_count": 21,
     "metadata": {},
     "output_type": "execute_result"
    }
   ],
   "source": [
    "scenes_train"
   ]
  },
  {
   "cell_type": "markdown",
   "metadata": {},
   "source": [
    "For the purposes of this example, we've picked two scenes below:"
   ]
  },
  {
   "cell_type": "code",
   "execution_count": 22,
   "metadata": {
    "scrolled": true
   },
   "outputs": [
    {
     "data": {
      "text/html": [
       "<img src=\"https://tiles.planet.com/data/v1/item-types/PSScene/items/20160831_180231_0e0e/thumb?api_key=PLAKafd78c58616c4a059d0551618fa8542b\"/>"
      ],
      "text/plain": [
       "<IPython.core.display.Image object>"
      ]
     },
     "execution_count": 22,
     "metadata": {},
     "output_type": "execute_result"
    }
   ],
   "source": [
    "# Train Scene\n",
    "train_thumbnail = 'https://tiles.planet.com/data/v1/item-types/PSScene/items/20160831_180231_0e0e/thumb?api_key={}'.format(API_KEY)\n",
    "display.Image(url=train_thumbnail)"
   ]
  },
  {
   "cell_type": "code",
   "execution_count": 23,
   "metadata": {},
   "outputs": [
    {
     "data": {
      "text/html": [
       "<img src=\"https://tiles.planet.com/data/v1/item-types/PSScene/items/20160831_180257_0e26/thumb?api_key=PLAKafd78c58616c4a059d0551618fa8542b\"/>"
      ],
      "text/plain": [
       "<IPython.core.display.Image object>"
      ]
     },
     "execution_count": 23,
     "metadata": {},
     "output_type": "execute_result"
    }
   ],
   "source": [
    "# Test Scene\n",
    "test_thumbnail = 'https://tiles.planet.com/data/v1/item-types/PSScene/items/20160831_180257_0e26/thumb?api_key={}'.format(API_KEY)\n",
    "display.Image(url=test_thumbnail)"
   ]
  },
  {
   "cell_type": "markdown",
   "metadata": {},
   "source": [
    "<a id='pl_scene'></a>\n",
    "\n",
    "## Save datasets\n",
    "\n",
    "We will save the train and test AOI and the ground truth data."
   ]
  },
  {
   "cell_type": "code",
   "execution_count": 24,
   "metadata": {},
   "outputs": [],
   "source": [
    "def save_geojson(features, filename):\n",
    "    with open(filename, \"w\") as f:\n",
    "        f.write(json.dumps(features))"
   ]
  },
  {
   "cell_type": "code",
   "execution_count": 25,
   "metadata": {},
   "outputs": [],
   "source": [
    "# save train AOI\n",
    "save_geojson(aoi_train, os.path.join(predata_dir, 'aoi-train.geojson'))\n",
    "\n",
    "# save test\n",
    "save_geojson(aoi_test, os.path.join(predata_dir, 'aoi-test.geojson'))\n",
    "\n",
    "# save ground truth data\n",
    "save_geojson(features, os.path.join(predata_dir, 'ground-truth.geojson'))"
   ]
  }
 ],
 "metadata": {
  "kernelspec": {
   "display_name": "Python 3 (ipykernel)",
   "language": "python",
   "name": "python3"
  },
  "language_info": {
   "codemirror_mode": {
    "name": "ipython",
    "version": 3
   },
   "file_extension": ".py",
   "mimetype": "text/x-python",
   "name": "python",
   "nbconvert_exporter": "python",
   "pygments_lexer": "ipython3",
   "version": "3.8.13"
  }
 },
 "nbformat": 4,
 "nbformat_minor": 2
}
