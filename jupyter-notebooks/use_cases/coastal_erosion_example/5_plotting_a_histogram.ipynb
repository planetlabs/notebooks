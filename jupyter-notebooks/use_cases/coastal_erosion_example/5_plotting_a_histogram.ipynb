{
 "cells": [
  {
   "cell_type": "markdown",
   "id": "34957e06",
   "metadata": {},
   "source": [
    "[![Open in Colab](https://colab.research.google.com/assets/colab-badge.svg)](https://colab.research.google.com/github/planetlabs/notebooks/blob/master/jupyter-notebooks/coastal-erosion-example/5_plotting_a_histogram.ipynb)"
   ]
  },
  {
   "cell_type": "markdown",
   "id": "5717a480",
   "metadata": {},
   "source": [
    "## Preparing Your Workspace"
   ]
  },
  {
   "cell_type": "markdown",
   "id": "d2e3e255",
   "metadata": {},
   "source": [
    "### Option 1: (recommended) Run in Google Colab"
   ]
  },
  {
   "cell_type": "markdown",
   "id": "a55af417",
   "metadata": {},
   "source": [
    "[Open this Notebook in Colab](https://colab.research.google.com/github/planetlabs/notebooks/blob/master/jupyter-notebooks/sdsc-2022-workshop/5_plotting_a_histogram.ipynb), then run the following:"
   ]
  },
  {
   "cell_type": "code",
   "execution_count": null,
   "id": "bccefb7f",
   "metadata": {},
   "outputs": [],
   "source": [
    "!pip install rasterio\n",
    "!wget https://storage.googleapis.com/pdd-stac/disasters/hurricane-harvey/0831/20170831_172754_101c_3B_AnalyticMS.tif"
   ]
  },
  {
   "cell_type": "markdown",
   "id": "6e97b82e",
   "metadata": {},
   "source": [
    "### Option 2: Run local Jupyter instance"
   ]
  },
  {
   "cell_type": "markdown",
   "id": "ec2937c5",
   "metadata": {},
   "source": [
    "You can also choose to open this Notebook in your own local Jupyter instance."
   ]
  },
  {
   "cell_type": "markdown",
   "id": "64f7325f",
   "metadata": {},
   "source": [
    "**Prerequisites**\n",
    "- Install: [rasterio](https://pypi.org/project/rasterio) library\n",
    "- Download example data: [20170831_172754_101c_3B_AnalyticMS.tif](https://storage.googleapis.com/pdd-stac/disasters/hurricane-harvey/0831/20170831_172754_101c_3B_AnalyticMS.tif)"
   ]
  },
  {
   "cell_type": "code",
   "execution_count": 1,
   "id": "1f17f977",
   "metadata": {},
   "outputs": [],
   "source": [
    "import rasterio\n",
    "import numpy as np\n",
    "from matplotlib import pyplot as plt\n",
    "\n",
    "# This notebook explores a single 4-band (blue, green, red, near-infrared) PlanetScope scene in a UTM projection.\n",
    "image_file = \"/content/20170831_172754_101c_3B_AnalyticMS.tif\"\n",
    "\n",
    "# Use Rasterio to open the image.\n",
    "satdat = rasterio.open(image_file)"
   ]
  },
  {
   "cell_type": "code",
   "execution_count": 2,
   "id": "6963b7d3",
   "metadata": {},
   "outputs": [],
   "source": [
    "# Load 3 of the bands into 2d arrays (excluding NIR for this example)\n",
    "# recall that we previously learned 4-band PlanetScope band order is BGRN.\n",
    "with rasterio.open(image_file) as src:\n",
    "    blue = src.read(1)\n",
    "    green = src.read(2)\n",
    "    red = src.read(3)"
   ]
  },
  {
   "cell_type": "code",
   "execution_count": 3,
   "id": "86a94b70",
   "metadata": {},
   "outputs": [
    {
     "data": {
      "image/png": "[encoded data removed]",
      "text/plain": [
       "<Figure size 432x288 with 1 Axes>"
      ]
     },
     "metadata": {
      "needs_background": "light"
     },
     "output_type": "display_data"
    }
   ],
   "source": [
    "# Define a new figure\n",
    "fig = plt.figure()\n",
    "\n",
    "# Give this new figure a subplot, which will contain the histogram itself\n",
    "ax = fig.add_subplot(111)\n",
    "\n",
    "# Add a title & (x,y) labels to the plot\n",
    "plt.title(\"PlanetScope raster bands\", fontsize=18, fontweight='bold')\n",
    "plt.xlabel(\"Pixel values\", fontsize=14)\n",
    "plt.ylabel(\"Number of pixels\", fontsize=14)\n",
    "\n",
    "# For the x-axis, we want to count every pixel that has a non-null value\n",
    "b = blue[np.not_equal(blue, satdat.nodata)]\n",
    "g = green[np.not_equal(green, satdat.nodata)]\n",
    "r = red[np.not_equal(red, satdat.nodata)]\n",
    "\n",
    "# Combine all of the bands into a list, for plotting\n",
    "all_bands = [b, g, r]\n",
    "all_band_colours = ['b','g','r']\n",
    "\n",
    "# Define the number of bins to divide the data into\n",
    "bins = 50\n",
    "\n",
    "# Call 'hist` with our x-axis, bins, and colour details\n",
    "for i in range(len(all_bands)):\n",
    "    ax.hist(all_bands[i], bins, color=all_band_colours[i], alpha=0.4)\n",
    "\n",
    "# Save the generated figure to an external image file\n",
    "fig.savefig(\"histogram.png\", dpi=200, bbox_inches='tight', pad_inches=0)\n",
    "\n",
    "# Finally - let's take a look!\n",
    "plt.show()"
   ]
  },
  {
   "cell_type": "markdown",
   "id": "b70c572d",
   "metadata": {},
   "source": [
    "We can see that most of the blue band values in our image seem to be around the 7000 range, then green and red peak at lower values. In our image, this corresponds to the value of the blue band when we are looking at flooded areas. It makes sense then that most of the blue band would correspond to water values!"
   ]
  }
 ],
 "metadata": {
  "kernelspec": {
   "display_name": "Python 3 (ipykernel)",
   "language": "python",
   "name": "python3"
  },
  "language_info": {
   "codemirror_mode": {
    "name": "ipython",
    "version": 3
   },
   "file_extension": ".py",
   "mimetype": "text/x-python",
   "name": "python",
   "nbconvert_exporter": "python",
   "pygments_lexer": "ipython3",
   "version": "3.9.6"
  }
 },
 "nbformat": 4,
 "nbformat_minor": 5
}
