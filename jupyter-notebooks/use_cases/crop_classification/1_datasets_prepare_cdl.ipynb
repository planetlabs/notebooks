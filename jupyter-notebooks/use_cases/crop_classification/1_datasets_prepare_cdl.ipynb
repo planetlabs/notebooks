{
 "cells": [
  {
   "cell_type": "markdown",
   "metadata": {},
   "source": [
    "***Note***: This notebook uses a deprecated item type `PSOrthoTile` and an old version of our Planet Python Client. A new version of this notebook is currently being developed."
   ]
  },
  {
   "cell_type": "markdown",
   "metadata": {},
   "source": [
    "# Prepare CDL Data\n",
    "\n",
    "In this notebook, we prepare the 2016 from the [USDA 2016 Crop Data Layer](https://www.nass.usda.gov/Research_and_Science/Cropland/Release/index.php) (CDL) for Iowa for use in the crop classification notebooks. This involves taking the CDL data for Iowa, projecting, cropping, and resampling it to match the Planet scene. We perform these steps for the crop classification test and train Planet scenes.\n",
    "\n",
    "The end results will be saved in `pre-data` for use in those notebooks. The initial data is too large to be managed gracefully in git.\n",
    "\n",
    "## Install Dependencies"
   ]
  },
  {
   "cell_type": "code",
   "execution_count": 63,
   "metadata": {},
   "outputs": [],
   "source": [
    "import os\n",
    "import pathlib\n",
    "from subprocess import check_output, STDOUT, CalledProcessError\n",
    "import tempfile\n",
    "import rasterio"
   ]
  },
  {
   "cell_type": "markdown",
   "metadata": {},
   "source": [
    "## Obtain CDL Data File\n",
    "\n",
    "In this section, we download the 2016 Iowa CDL.\n",
    "\n",
    "2016 CDL for Iowa is obtained through the [CropScape](https://nassgeodata.gmu.edu/CropScape/) site. On that site, ensure the layer is 'CropLand Data Layers -> 2016', then click the icon for 'Define Area of Interest by State...' (looks like an outline of the US with the US flag design). Under 'Select a State', select Iowa and click 'Submit.' Next, click the icon for 'Download Defined Area of Interest Data' (looks like a postal letter with an arrow). In the popup, ensure the 'CDL' tab is open and '2016' is selected, then click 'Select.' Another popup should appear with 'Please Wait...' then after a while, the popup should be replaced by a popup that says 'Download files from server'. Click 'Download' and after a bit the download should begin.\n",
    "\n",
    "Unzip the downloaded folder and move the tif, `CDL_2016_19.tif` to the `data` folder."
   ]
  },
  {
   "cell_type": "code",
   "execution_count": 20,
   "metadata": {},
   "outputs": [
    {
     "name": "stdout",
     "output_type": "stream",
     "text": [
      "data/CDL_2016_19.tif\n"
     ]
    }
   ],
   "source": [
    "# ensure the tif file is present\n",
    "cdl_full = os.path.join('data', 'CDL_2016_19.tif')\n",
    "print(cdl_full)\n",
    "assert os.path.isfile(cdl_full)"
   ]
  },
  {
   "cell_type": "markdown",
   "metadata": {},
   "source": [
    "## Prepare Train CDL Dataset\n",
    "\n",
    "The first step in preparing the train CDL dataset is downloading the train scene. We also download the metadata and udm because those are used in another notebook.\n",
    "\n",
    "The train scene is [210879_1558814_2016-07-25_0e16](https://api.planet.com/data/v1/item-types/PSOrthoTile/items/210879_1558814_2016-07-25_0e16/thumb).\n",
    "\n",
    "### Download Scene and Supporting Files"
   ]
  },
  {
   "cell_type": "code",
   "execution_count": 21,
   "metadata": {},
   "outputs": [],
   "source": [
    "# define and, if necessary, create data directory\n",
    "train_folder = os.path.join('data', 'cart', '210879_1558814_2016-07-25_0e16')\n",
    "pathlib.Path(train_folder).mkdir(parents=True, exist_ok=True)\n",
    "\n",
    "train_scene = os.path.join(train_folder, '210879_1558814_2016-07-25_0e16_BGRN_Analytic.tif')"
   ]
  },
  {
   "cell_type": "code",
   "execution_count": 22,
   "metadata": {},
   "outputs": [],
   "source": [
    "# First test if scene file exists, if not, use the Planet commandline tool to download the image, metadata, and udm.\n",
    "# This command assumes a bash shell, available in Unix-based operating systems.\n",
    "!test -f $train_scene\n",
    "\n",
    "!planet data download \\\n",
    "        --item-type PSOrthoTile \\\n",
    "        --dest $train_folder \\\n",
    "        --asset-type analytic,analytic_xml,udm \\\n",
    "        --string-in id 210879_1558814_2016-07-25_0e16 \\\n",
    "        --quiet"
   ]
  },
  {
   "cell_type": "markdown",
   "metadata": {},
   "source": [
    "### Crop and Project CDL\n",
    "\n",
    "We project, resample, and crop the CDL to match the Orthotile and save in train dataset."
   ]
  },
  {
   "cell_type": "code",
   "execution_count": 27,
   "metadata": {},
   "outputs": [],
   "source": [
    "# Utility functions: crop, resample, and project an image\n",
    "\n",
    "# These use gdalwarp. for a description of gdalwarp command line options, see:\n",
    "# http://www.gdal.org/gdalwarp.html\n",
    "\n",
    "def gdalwarp_project_options(src_crs, dst_crs):\n",
    "    return ['-s_srs', src_crs.to_string(), '-t_srs', dst_crs.to_string()]\n",
    "\n",
    "def gdalwarp_crop_options(bounds, crs):\n",
    "    xmin, ymin, xmax, ymax = [str(b) for b in bounds]\n",
    "    # -te xmin ymin xmax ymax\n",
    "    return ['-te', xmin, ymin, xmax, ymax]\n",
    "\n",
    "def gdalwarp_resample_options(width, height, technique='near'):\n",
    "    # for technique options, see: http://www.gdal.org/gdalwarp.html\n",
    "    return ['-ts', width, height, '-r', technique]\n",
    "    \n",
    "def gdalwarp(input_filename, output_filename, options):\n",
    "    commands = _gdalwarp_commands(input_filename, output_filename, options)\n",
    "\n",
    "    # print error if one is encountered\n",
    "    # https://stackoverflow.com/questions/29580663/save-error-message-of-subprocess-command\n",
    "    try:\n",
    "        output = check_output(commands, stderr=STDOUT)\n",
    "    except CalledProcessError as exc:\n",
    "        print(exc.output)\n",
    "\n",
    "def _gdalwarp_commands(input_filename, output_filename, options):\n",
    "    commands = ['gdalwarp'] + options + \\\n",
    "               ['-overwrite',\n",
    "                input_filename,\n",
    "                output_filename]\n",
    "    print(' '.join(commands))\n",
    "    return commands\n",
    "\n",
    "def _test():\n",
    "    TEST_DST_SCENE = train_scene\n",
    "    TEST_SRC_SCENE = cdl_full\n",
    "\n",
    "    with rasterio.open(TEST_DST_SCENE, 'r') as dst:\n",
    "        with rasterio.open(TEST_SRC_SCENE, 'r') as src:\n",
    "            print(gdalwarp_project_options(src.crs, dst.crs))\n",
    "            print(gdalwarp_crop_options(dst.bounds, dst.crs))\n",
    "            print(gdalwarp_resample_options(dst.width, dst.height))\n",
    "# _test()"
   ]
  },
  {
   "cell_type": "code",
   "execution_count": 54,
   "metadata": {},
   "outputs": [],
   "source": [
    "# lossless compression of an image\n",
    "def _compress(input_filename, output_filename):\n",
    "    commands = ['gdal_translate',\n",
    "                '-co', 'compress=LZW',\n",
    "                '-co', 'predictor=2',\n",
    "                input_filename,\n",
    "                output_filename]\n",
    "    print(' '.join(commands))\n",
    "#     subprocess.check_call(commands)\n",
    "\n",
    "    # print error if one is encountered\n",
    "    # https://stackoverflow.com/questions/29580663/save-error-message-of-subprocess-command\n",
    "    try:\n",
    "        output = check_output(commands, stderr=STDOUT)\n",
    "    except CalledProcessError as exc:\n",
    "        print(exc.output)"
   ]
  },
  {
   "cell_type": "code",
   "execution_count": 55,
   "metadata": {},
   "outputs": [],
   "source": [
    "def prepare_cdl_image(cdl_filename, dst_filename, out_filename, compress=False, overwrite=True):\n",
    "    '''Project, crop, and resample cdl image to match dst_filename image.'''\n",
    "    \n",
    "    with rasterio.open(cdl_filename, 'r') as src:\n",
    "        with rasterio.open(dst_filename, 'r') as dst:\n",
    "            # project\n",
    "            src_crs = _add_nad_datum(src.crs) # Manually add NAD83 datum\n",
    "            proj_options = gdalwarp_project_options(src_crs, dst.crs)\n",
    "\n",
    "            # crop\n",
    "            crop_options = gdalwarp_crop_options(dst.bounds, dst.crs)\n",
    "\n",
    "            # resample\n",
    "            width, height = dst.shape\n",
    "            resample_options = gdalwarp_resample_options(str(width), str(height), 'near')\n",
    "\n",
    "            options = proj_options + crop_options + resample_options\n",
    "            \n",
    "    # check to see if output file exists, if it does, do not warp\n",
    "    if os.path.isfile(dst_filename) and not overwrite:\n",
    "        print('{} already exists. Aborting warp of {}'.format(dst_filename, cdl_filename))\n",
    "    elif compress:\n",
    "        with tempfile.NamedTemporaryFile(suffix='.vrt') as vrt_file:\n",
    "            options += ['-of', 'vrt']\n",
    "            gdalwarp(cdl_filename, vrt_file.name, options)\n",
    "            _compress(vrt_file.name, out_filename)\n",
    "    else:\n",
    "        print(options)\n",
    "        gdalwarp(cdl_filename, out_filename, options)\n",
    "\n",
    "def _add_nad_datum(crs):\n",
    "    '''Rasterio is not reading the datum for the CDL image so add it manually'''\n",
    "    crs.update({'datum': 'NAD83'})\n",
    "    return crs\n",
    "\n",
    "def _test(delete=True):\n",
    "    TEST_DST_SCENE = train_scene\n",
    "    TEST_SRC_SCENE = cdl_full\n",
    "    \n",
    "    with tempfile.NamedTemporaryFile(suffix='.tif', delete=delete, dir='.') as out_file:\n",
    "        # create output\n",
    "        prepare_cdl_image(TEST_SRC_SCENE, TEST_DST_SCENE, out_file.name)\n",
    "\n",
    "        # check output\n",
    "        with rasterio.open(TEST_DST_SCENE, 'r') as dst:\n",
    "            with rasterio.open(out_file.name, 'r') as src:\n",
    "                assert dst.crs == src.crs, '{} != {}'.format(src.crs, dst.crs)\n",
    "                assert dst.bounds == src.bounds\n",
    "                assert dst.shape == src.shape\n",
    "# _test()"
   ]
  },
  {
   "cell_type": "code",
   "execution_count": 56,
   "metadata": {},
   "outputs": [],
   "source": [
    "# define and, if necessary, create pre-data directory\n",
    "predata_folder = 'pre-data'\n",
    "pathlib.Path(predata_folder).mkdir(parents=True, exist_ok=True)"
   ]
  },
  {
   "cell_type": "code",
   "execution_count": 57,
   "metadata": {},
   "outputs": [
    {
     "name": "stdout",
     "output_type": "stream",
     "text": [
      "data/cart/210879_1558814_2016-07-25_0e16/210879_1558814_2016-07-25_0e16_BGRN_Analytic.tif already exists. Aborting warp of data/CDL_2016_19.tif\n"
     ]
    }
   ],
   "source": [
    "# create train dataset gold image from CDL image\n",
    "train_CDL_filename = os.path.join(predata_folder, 'CDL_2016_19_train.tif')\n",
    "\n",
    "prepare_cdl_image(cdl_full, train_scene, train_CDL_filename, overwrite=False, compress=True)"
   ]
  },
  {
   "cell_type": "markdown",
   "metadata": {},
   "source": [
    "## Prepare Train CDL Dataset\n",
    "\n",
    "Now we prepare the test CDL dataset.\n",
    "\n",
    "The test scene is [210863_1559015_2016-07-25_0e0f](https://api.planet.com/data/v1/item-types/PSOrthoTile/items/210863_1559015_2016-07-25_0e0f/thumb).\n",
    "\n",
    "### Download Scene and Supporting Files"
   ]
  },
  {
   "cell_type": "code",
   "execution_count": 59,
   "metadata": {},
   "outputs": [],
   "source": [
    "# define and, if necessary, create data directory\n",
    "test_folder = os.path.join('data', 'cart', '210863_1559015_2016-07-25_0e0f')\n",
    "pathlib.Path(test_folder).mkdir(parents=True, exist_ok=True)\n",
    "\n",
    "test_scene = os.path.join(test_folder, '210863_1559015_2016-07-25_0e0f_BGRN_Analytic.tif')"
   ]
  },
  {
   "cell_type": "code",
   "execution_count": 64,
   "metadata": {},
   "outputs": [],
   "source": [
    "# First test if scene file exists, if not, use the Planet commandline tool to download the image, metadata, and udm.\n",
    "# This command assumes a bash shell, available in Unix-based operating systems.\n",
    "# Remove the \"--quiet\" option to see details of the download process\n",
    "!test -f $test_scene\n",
    "\n",
    "!planet data download \\\n",
    "        --item-type PSOrthoTile \\\n",
    "        --dest $test_folder \\\n",
    "        --asset-type analytic,analytic_xml,udm \\\n",
    "        --string-in id 210863_1559015_2016-07-25_0e0f \\\n",
    "        --quiet"
   ]
  },
  {
   "cell_type": "markdown",
   "metadata": {},
   "source": [
    "### Crop and Project CDL\n",
    "\n",
    "We project, resample, and crop the CDL to match the Orthotile and save in test dataset."
   ]
  },
  {
   "cell_type": "code",
   "execution_count": 67,
   "metadata": {},
   "outputs": [
    {
     "name": "stdout",
     "output_type": "stream",
     "text": [
      "data/cart/210863_1559015_2016-07-25_0e0f/210863_1559015_2016-07-25_0e0f_BGRN_Analytic.tif already exists. Aborting warp of data/CDL_2016_19.tif\n"
     ]
    }
   ],
   "source": [
    "# create train dataset gold image from CDL image\n",
    "test_CDL_filename = os.path.join(predata_folder, 'CDL_2016_19_test.tif')\n",
    "\n",
    "prepare_cdl_image(cdl_full, test_scene, test_CDL_filename, overwrite=False, compress=True)"
   ]
  }
 ],
 "metadata": {
  "kernelspec": {
   "display_name": "Python 3 (ipykernel)",
   "language": "python",
   "name": "python3"
  },
  "language_info": {
   "codemirror_mode": {
    "name": "ipython",
    "version": 3
   },
   "file_extension": ".py",
   "mimetype": "text/x-python",
   "name": "python",
   "nbconvert_exporter": "python",
   "pygments_lexer": "ipython3",
   "version": "3.8.13"
  }
 },
 "nbformat": 4,
 "nbformat_minor": 2
}
