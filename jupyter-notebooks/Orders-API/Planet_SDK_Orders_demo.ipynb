{
 "cells": [
  {
   "cell_type": "markdown",
   "metadata": {
    "id": "bEcGVnFww2gV"
   },
   "source": [
    "# Orders API with Planet SDK \n",
    "\n",
    "Getting started with the Orders API using the Planet SDK.\n",
    "This tutorial uses [Planet](https://www.planet.com)'s Orders API with the official [Python client](https://github.com/planetlabs/planet-client-python)."
   ]
  },
  {
   "cell_type": "markdown",
   "metadata": {},
   "source": [
    "## Requirements\n",
    "\n",
    "This tutorial assumes familiarity with the [Python](https://python.org) programming language throughout. Python modules used in this tutorial are:\n",
    "* [IPython](https://ipython.org/) and [Jupyter](https://jupyter.org/)\n",
    "* [planet-python-client](https://github.com/planetlabs/planet-client-python)\n",
    "\n",
    "You should also have an account on the Planet Platform. You will login to create an access token that authenticates your API key from the [account page](https://www.planet.com/account/).\n",
    "\n",
    "## Useful links \n",
    "* [Planet SDK and Developer Resources](https://docs.planet.com/develop/sdks/#planet-sdk-for-python-and-cli/)\n",
    "* [Planet Python Client Repo](https://github.com/planetlabs/planet-client-python)\n",
    "* [Planet Orders API Documentation](https://docs.planet.com/develop/apis/orders/)"
   ]
  },
  {
   "cell_type": "markdown",
   "metadata": {},
   "source": [
    "___"
   ]
  },
  {
   "cell_type": "markdown",
   "metadata": {},
   "source": [
    "# Set up\n",
    "\n",
    "In order to interact with the Planet API using the client, we need to import the necessary packages:"
   ]
  },
  {
   "cell_type": "code",
   "execution_count": null,
   "metadata": {},
   "outputs": [],
   "source": [
    "import planet\n",
    "import os\n",
    "from planet import Auth, Planet, order_request, reporting, Session, OrdersClient"
   ]
  },
  {
   "cell_type": "markdown",
   "metadata": {
    "id": "oA6ODbRP0mN9"
   },
   "source": [
    "## SDK Authentication\n",
    "\n",
    "We next need to create an OAuth2 access token using our Planet login for python client access. \n",
    "If you are not currently logged in to your Planet account, you will be prompted via a login link to do so. \n",
    "For more information, please visit https://docs.planet.com/develop/authentication"
   ]
  },
  {
   "cell_type": "code",
   "execution_count": null,
   "metadata": {},
   "outputs": [],
   "source": [
    "# OAuth2 python client authentication\n",
    "# If you are not already logged in, this will prompt you to open a web browser to log in.\n",
    "\n",
    "auth = Auth.from_profile('planet-user', save_state_to_storage=True)\n",
    "if not auth.is_initialized():\n",
    "    auth.user_login(allow_open_browser=False, allow_tty_prompt=True)\n",
    "\n",
    "session = Session(auth)\n",
    "pl = Planet(session)"
   ]
  },
  {
   "cell_type": "markdown",
   "metadata": {
    "id": "6z6I9B_636Ck"
   },
   "source": [
    "## Building an Order request"
   ]
  },
  {
   "cell_type": "markdown",
   "metadata": {
    "id": "9xOEqQiw5yid"
   },
   "source": [
    "#### Manual JSON Order requests\n",
    "\n",
    "You can build an Order request manually by using a blob of JSON -- you may have used this with Python Client V1, or with `requests` directly to the API:"
   ]
  },
  {
   "cell_type": "code",
   "execution_count": null,
   "metadata": {
    "id": "nh6waD-QzSh-"
   },
   "outputs": [],
   "source": [
    "# No need to write this all out with the SDK\n",
    "request = {\n",
    "  \"name\": \"test_order_sdk_method_1\",\n",
    "  \"products\": [\n",
    "    {\n",
    "     \"item_ids\":[  \n",
    "        \"20200922_183724_23_106a\",\n",
    "        \"20200922_183722_17_106a\"\n",
    "         ],\n",
    "      \"item_type\": \"PSScene\",\n",
    "      \"product_bundle\": \"analytic_udm2\"\n",
    "    }\n",
    "  ],\n",
    "   \"tools\": [\n",
    "    {\n",
    "      \"reproject\": {\n",
    "        \"projection\": \"EPSG:4326\",\n",
    "        \"kernel\": \"cubic\"\n",
    "      }\n",
    "    }\n",
    "  ]\n",
    "}"
   ]
  },
  {
   "cell_type": "markdown",
   "metadata": {
    "id": "1yCzN0Ag64wf"
   },
   "source": [
    "### Orders with Planet SDK\n",
    "\n",
    "In SDK V3, you can build an Order request object using the new `build_request` functionality. You can specify all Order details including products, bundles/fallback bundles, cloud delivery configuration, tools & toolchain operations, etc. [Read more in the docs here](https://docs.planet.com/develop/apis/orders/)."
   ]
  },
  {
   "cell_type": "markdown",
   "metadata": {},
   "source": [
    "#### Build the Order Request\n",
    "\n",
    "Here we will build an order request. We will define for this example:\n",
    "- Products, with 2 `item_ids`,  with the `product_bundle` of 'analytic_udm2', and the `item_type` of 'PSScene'\n",
    "- Optional `tools`, which in this case is the `reproject_tool` \n",
    "    - `order_request.clip_tool` could also be used here and added to the `tools` list.\n",
    "    - This would require a GeoJson aoi.\n",
    "<br>\n",
    "\n",
    "- We will not be providing a delivery location with `order_request.delivery`, `order_request.google_cloud_storage`, etc. \n",
    "- A download link with the `_links` key in the request output is provided instead for this example."
   ]
  },
  {
   "cell_type": "code",
   "execution_count": null,
   "metadata": {
    "id": "FwFi1bktMY2u"
   },
   "outputs": [],
   "source": [
    "# Define request details to properly build your request\n",
    "\n",
    "item_ids = [\"20200922_183724_23_106a\", \"20200922_183722_17_106a\"]\n",
    "\n",
    "products = [\n",
    "    order_request.product(item_ids, 'analytic_udm2', 'PSScene')\n",
    "]\n",
    "\n",
    "tools = [\n",
    "    order_request.reproject_tool(projection='EPSG:4326', kernel='cubic')\n",
    "]\n",
    "\n",
    "request = order_request.build_request(\n",
    "    'test_order_sdk_method_2', products=products, tools=tools)\n"
   ]
  },
  {
   "cell_type": "code",
   "execution_count": null,
   "metadata": {},
   "outputs": [],
   "source": [
    "# View your built order_request:\n",
    "request"
   ]
  },
  {
   "cell_type": "markdown",
   "metadata": {
    "id": "f_k8HHcL8gQ5"
   },
   "source": [
    "### Create the Order\n",
    "\n",
    "The next step after building an Order is to send it to the Orders API to create it using 'create_order'.\n",
    "\n",
    "To do this, we'll create a `Session` to manage our communcation with Planet in general -- this will make use of that `auth` object we created earlier. Within the context of this Session, we'll create an Orders API-specific `client` to handle interactions with the Orders API.\n",
    "\n",
    "After the order is created, we can view the returned dictionary of created_order, which will contain the new `order_id`."
   ]
  },
  {
   "cell_type": "code",
   "execution_count": null,
   "metadata": {
    "id": "GCARBCQZMm2v"
   },
   "outputs": [],
   "source": [
    "# an async Orders client to request order creation\n",
    "async def main():\n",
    "  async with Session(auth=auth) as sess:\n",
    "    cl = OrdersClient(sess)\n",
    "    order = await cl.create_order(request)\n",
    "\n",
    "    return order\n",
    "# async magic to remember: \"async def\" to create a coroutine, then \"await\" to make it run\n",
    "created_order = await main()"
   ]
  },
  {
   "cell_type": "markdown",
   "metadata": {},
   "source": [
    "Congratulations! You have created an order. You can view it below:"
   ]
  },
  {
   "cell_type": "code",
   "execution_count": null,
   "metadata": {},
   "outputs": [],
   "source": [
    "created_order"
   ]
  },
  {
   "cell_type": "markdown",
   "metadata": {},
   "source": [
    "## Manually get the Order after it is created"
   ]
  },
  {
   "cell_type": "markdown",
   "metadata": {},
   "source": [
    "You may have noticed that the `state` key in order you created is 'queued' when the order is first returned. Since `created_order` is just the json return of the order creation, we will need to use `get_order` from the orders API to get our order, and its download links."
   ]
  },
  {
   "cell_type": "code",
   "execution_count": null,
   "metadata": {},
   "outputs": [],
   "source": [
    "# You may need to wait a few minutes for the order to complete\n",
    "order_id = created_order['id']\n",
    "order_output = pl.orders.get_order(order_id)\n",
    "print(f\"Your order request state is: {order_output['state']}\")"
   ]
  },
  {
   "cell_type": "code",
   "execution_count": null,
   "metadata": {
    "scrolled": true
   },
   "outputs": [],
   "source": [
    "# The link to download the order components is is the 'location' key of 'results'\n",
    "order_output"
   ]
  },
  {
   "cell_type": "markdown",
   "metadata": {
    "id": "xOyyXodY6cL0"
   },
   "source": [
    "## Alternative: Create the Order, monitor status until complete, then download the Order"
   ]
  },
  {
   "cell_type": "markdown",
   "metadata": {},
   "source": [
    "Instead of manually checking our order's state with `get_order`, we can instead use an async function with a time tracking that will report when our order is ready. The order will be downloaded to the `output` directory"
   ]
  },
  {
   "cell_type": "code",
   "execution_count": null,
   "metadata": {
    "id": "5lFCwq1cNCda",
    "scrolled": true
   },
   "outputs": [],
   "source": [
    "# remember: \"async def\" to create the async coroutine\n",
    "async def create_poll_and_download():\n",
    "    async with Session(auth=auth) as sess:\n",
    "        cl = OrdersClient(sess)\n",
    "\n",
    "        # Use \"reporting\" to manage polling for order status\n",
    "        with reporting.StateBar(state='creating') as bar:\n",
    "            # create order via Orders client\n",
    "            order = await cl.create_order(request)\n",
    "            bar.update(state='created', order_id=order['id'])\n",
    "\n",
    "            # poll...poll...poll...\n",
    "            await cl.wait(order['id'], callback=bar.update_state)\n",
    "\n",
    "        # if we get here that means the order completed. Yay! Download the files.\n",
    "        cwd = os.getcwd()\n",
    "        output_path = os.path.join(cwd, 'output')\n",
    "        await cl.download_order(order['id'], output_path, progress_bar=True)\n",
    "\n",
    "# remember: \"await\" to run the thing\n",
    "await create_poll_and_download()"
   ]
  }
 ],
 "metadata": {
  "colab": {
   "collapsed_sections": [],
   "provenance": []
  },
  "kernelspec": {
   "display_name": "Python 3 (ipykernel)",
   "language": "python",
   "name": "python3"
  },
  "language_info": {
   "codemirror_mode": {
    "name": "ipython",
    "version": 3
   },
   "file_extension": ".py",
   "mimetype": "text/x-python",
   "name": "python",
   "nbconvert_exporter": "python",
   "pygments_lexer": "ipython3",
   "version": "3.13.7"
  }
 },
 "nbformat": 4,
 "nbformat_minor": 4
}
