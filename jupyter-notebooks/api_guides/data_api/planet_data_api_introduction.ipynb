{
 "cells": [
  {
   "cell_type": "markdown",
   "metadata": {},
   "source": [
    "\n",
    "# Planet Data API Introduction using Python\n",
    "\n",
    "---"
   ]
  },
  {
   "cell_type": "markdown",
   "metadata": {},
   "source": [
    "## Introduction\n",
    "\n",
    "---\n",
    "\n",
    "This tutorial is an introduction to [Planet](https://www.planet.com)'s Data API. It provides code samples on how to write simple Python code to access data.\n",
    "\n",
    "[`https://api.planet.com/data/v1`](https://api.planet.com/data/v1)\n",
    "\n",
    "The focus of this tutorial will be the search portion of the Planet Data API. We will find and download imagery data using complex searches and save them for later use, as well as learn how to get stats on search results. After completing this tutorial, you should feel comfortable interacting with the Data API, and have a good foundation for leveraging the Planet Data API for your own applications.\n"
   ]
  },
  {
   "cell_type": "markdown",
   "metadata": {},
   "source": [
    "## Table of Contents\n",
    "\n",
    "---\n",
    "\n",
    "* **Introduction**\n",
    "    * Requirements\n",
    "       * Software & Modules\n",
    "       * Planet API Key  \n",
    "    * Useful Links\n",
    "    \n",
    "\n",
    "* **Overview**\n",
    "     * The Basic Workflow\n",
    "      * Data API Endpoints\n",
    "      * Planet Explorer\n",
    "      \n",
    "      \n",
    "* **Basic Setup**\n",
    "    * Authentication\n",
    "    * Helper Modules and Functions\n",
    "    * Our First Request\n",
    "    \n",
    "    \n",
    "* **Search Mechanics & Filters**\n",
    "    * Statistics\n",
    "    * Using a Search Filter\n",
    "    * Filter types\n",
    "        * Field Filters\n",
    "        * Logical Filters\n",
    "        * (Field) Filter Type examples\n",
    "    * Complex Queries using Logical Filters\n",
    "    \n",
    "    \n",
    "* **Searching for Items**\n",
    "    * Quick Search\n",
    "        * Mapping Footprints Example\n",
    "        \n",
    "        \n",
    "* **Assets & Permissions**\n",
    "    * Activating Assets\n",
    "    * Downloading Assets\n",
    "    * Rate Limits\n",
    "    \n",
    "    \n",
    "* **Saved Searches**\n",
    "\n",
    "\n",
    "* **Conclusion**  "
   ]
  },
  {
   "cell_type": "markdown",
   "metadata": {},
   "source": [
    "### Requirements\n",
    "\n",
    "---\n",
    "\n",
    "#### Software & Modules\n",
    "\n",
    "This tutorial assumes familiarity with the [Python](https://python.org) programming language throughout. Familiarity with basic REST API concepts and usage is also assumed.\n",
    "\n",
    "We'll be using a **\"Jupyter Notebook\"** (aka Python Notebook) to run through the examples.\n",
    "To learn more about and get started with using Jupyter, visit: [Jupyter](https://jupyter.org/) and [IPython](https://ipython.org/). \n",
    "\n",
    "For the best experience, download this notebook and run it on your system, and make sure to install the modules listed below first. You can also copy the examples' code to a separate Python files an run them directly with Python on your system if you prefer.\n",
    "\n",
    "\n",
    "Python modules used in this tutorial are:\n",
    "* [requests](http://docs.python-requests.org/)\n",
    "* [geojsonio](https://pypi.python.org/pypi/geojsonio)\n",
    "\n",
    "\n",
    "#### Planet API Key\n",
    "\n",
    "You should have an account on the Planet Platform to access the Data API. You may retrieve your API key from your [account page](https://www.planet.com/account/), or from the \"API Tab\" in [Planet Explorer](https://www.planet.com/explorer)."
   ]
  },
  {
   "cell_type": "markdown",
   "metadata": {},
   "source": [
    "### Useful links \n",
    "\n",
    "---\n",
    "\n",
    "* [Planet Data API Reference & Documentation](https://developers.planet.com/docs/apis/data/)\n",
    "* [Planet Explorer](https://www.planet.com/explorer)"
   ]
  },
  {
   "cell_type": "markdown",
   "metadata": {},
   "source": [
    "## Overview\n",
    "\n",
    "---\n",
    "\n",
    "### The Basic Workflow:\n",
    "\n",
    "1. Search item types based on filters\n",
    "1. Activate assets\n",
    "1. Download assets"
   ]
  },
  {
   "cell_type": "markdown",
   "metadata": {},
   "source": [
    "### API Endpoints\n",
    "\n",
    "This tutorial will cover the following API ***endpoints***:\n",
    "\n",
    "* [`/item-types`](https://api.planet.com/data/v1/item-types/)\n",
    "* [`/asset-types`](https://api.planet.com/data/v1/asset-types/)\n",
    "* `/quick-search`\n",
    "* `/searches`\n",
    "* `/stats`\n",
    "\n",
    "There is an additional [`/spec`](https://api.planet.com/data/v1/spec) endpoint that publishes a [Swagger](http://swagger.io/) specification for the Data API.\n",
    "\n",
    "### Exploring Endpoints\n",
    "\n",
    "We can start by exploring two endpoints using our browser.\n",
    "\n",
    "##### What item types are available?\n",
    "\n",
    "https://api.planet.com/data/v1/item-types/\n",
    "\n",
    "##### What assets are available?\n",
    "\n",
    "https://api.planet.com/data/v1/asset-types/"
   ]
  },
  {
   "cell_type": "markdown",
   "metadata": {},
   "source": [
    "\n",
    "***Note:*** *You may choose to install a helpful browser plugin called **JSONView** that formats JSON and makes it easier to read:*\n",
    "\n",
    "* [Chrome Extension](https://chrome.google.com/webstore/detail/jsonview/chklaanhfefbnpoihckbnefhakgolnmc)\n",
    "* [Firefox Plugin](https://addons.mozilla.org/en-us/firefox/addon/jsonview/)"
   ]
  },
  {
   "cell_type": "markdown",
   "metadata": {},
   "source": [
    "### Planet Explorer\n",
    "We can also use Planet Explorer to expose relevant API information for search results. \n",
    "\n",
    "In Planet Explorer, while in *Daily Imagery Mode* click on the *\"Api\"* button in the bottom left corner of the results panel.\n",
    "\n",
    "![Planet Explorer Screenshot](images/planet-explorer.png)\n",
    "\n",
    "Here, you may access your API Key, selected item id's, and `cURL` request information containing filters and options."
   ]
  },
  {
   "cell_type": "markdown",
   "metadata": {},
   "source": [
    "## Basic Setup\n",
    "\n",
    "---\n",
    "\n",
    "Before interacting with the Planet Data API using Python, we will set up our environment with some useful modules and helper functions.\n",
    "\n",
    "* We'll configure *authentication* to the Planet Data API\n",
    "* We'll use the `requests` Python module to make HTTP communication easier. \n",
    "* We'll use the `json` Python module to help us work with JSON responses from the API.\n",
    "* We'll create a function called `p` that will print Python dictionaries nicely.\n",
    "\n",
    "Then we'll be ready to make our first call to the Planet API by hitting the base endpoint at `https://api.planet.com/data/v1`. \n",
    "\n",
    "Let's start by importing needed packages configuring authentication:"
   ]
  },
  {
   "cell_type": "markdown",
   "metadata": {},
   "source": [
    "### Import Packages & Define Helper Functions"
   ]
  },
  {
   "cell_type": "code",
   "execution_count": null,
   "metadata": {},
   "outputs": [],
   "source": [
    "import os\n",
    "import json\n",
    "import requests\n",
    "import geojsonio\n",
    "import time\n",
    "\n",
    "# Helper function to printformatted JSON using the json module\n",
    "def p(data):\n",
    "    print(json.dumps(data, indent=2))"
   ]
  },
  {
   "cell_type": "markdown",
   "metadata": {},
   "source": [
    "### Authentication\n",
    "\n",
    "Authentication with the Planet Data API be achieved using a valid Planet **API key**."
   ]
  },
  {
   "cell_type": "markdown",
   "metadata": {},
   "source": [
    "You can *export* your API Key as an environment variable on your system:\n",
    "\n",
    "`export API_KEY=\"YOUR API KEY HERE\"`\n",
    "\n",
    "Or add the variable to your path, etc. If you are using our Docker environement, it will already be set.\n",
    "\n",
    "To start our Python code, we'll setup an API Key variable from an environment variable to use with our requests:"
   ]
  },
  {
   "cell_type": "code",
   "execution_count": null,
   "metadata": {},
   "outputs": [],
   "source": [
    "# if your Planet API Key is not set as an environment variable, you can paste it below\n",
    "if os.environ.get('PL_API_KEY', ''):\n",
    "    API_KEY = os.environ.get('PL_API_KEY', '')\n",
    "else:\n",
    "    API_KEY = 'PASTE_YOUR_API_KEY_HERE'\n",
    "\n",
    "    # construct auth tuple for use in the requests library\n",
    "BASIC_AUTH = (API_KEY, '')"
   ]
  },
  {
   "cell_type": "markdown",
   "metadata": {},
   "source": [
    "### Our First Request"
   ]
  },
  {
   "cell_type": "code",
   "execution_count": null,
   "metadata": {},
   "outputs": [],
   "source": [
    "# Setup Planet Data API base URL\n",
    "URL = \"https://api.planet.com/data/v1\"\n",
    "\n",
    "# Setup the session\n",
    "session = requests.Session()\n",
    "\n",
    "# Authenticate\n",
    "session.auth = (API_KEY, \"\")"
   ]
  },
  {
   "cell_type": "code",
   "execution_count": null,
   "metadata": {},
   "outputs": [],
   "source": [
    "# Make a GET request to the Planet Data API\n",
    "res = session.get(URL)"
   ]
  },
  {
   "cell_type": "markdown",
   "metadata": {},
   "source": [
    "Now we should get a response, hopefully it's a `200` code, saying everything is OK!"
   ]
  },
  {
   "cell_type": "code",
   "execution_count": null,
   "metadata": {},
   "outputs": [],
   "source": [
    "# Response status code\n",
    "res.status_code"
   ]
  },
  {
   "cell_type": "code",
   "execution_count": null,
   "metadata": {},
   "outputs": [],
   "source": [
    "# Response Body\n",
    "res.text"
   ]
  },
  {
   "cell_type": "code",
   "execution_count": null,
   "metadata": {},
   "outputs": [],
   "source": [
    "# Print formatted JSON response\n",
    "p(res.json())"
   ]
  },
  {
   "cell_type": "code",
   "execution_count": null,
   "metadata": {},
   "outputs": [],
   "source": [
    "# Print the value of the item-types key from _links\n",
    "print(res.json()[\"_links\"][\"item-types\"])"
   ]
  },
  {
   "cell_type": "markdown",
   "metadata": {},
   "source": [
    "**Congratulations!** You just made your first request to the Planet Data API using Python! \n",
    "\n",
    "Now, let's take a look at how to access all that high cadence satellite imagery!"
   ]
  },
  {
   "cell_type": "markdown",
   "metadata": {},
   "source": [
    "## Search Mechanics & Filters\n",
    "\n",
    "---\n",
    "\n",
    "There's a lot of data available on the Planet Data API and in order to find what we're looking for, we'll have to perform various types of searches.\n",
    "\n",
    "To construct a search, we use **filters** that let us limit results based on date, geography or other metadata properties. \n",
    "\n",
    "Using these filters, we are able to **search** for items or get **statistics** for search results.\n",
    "\n",
    "Let's first make a request to the `/stats` endpoint to understand how the filters work:"
   ]
  },
  {
   "cell_type": "markdown",
   "metadata": {},
   "source": [
    "### Statistics `/stats`\n",
    "\n",
    "---\n",
    "\n",
    "The `/stats` endpoint provides a summary of the available data based on some search criteria.\n",
    "\n",
    "`https://api.planet.com/data/v1/stats`\n",
    "\n",
    "We'll need to send a ***`POST`*** request to `/stats`, let's start by setting up the request url:"
   ]
  },
  {
   "cell_type": "code",
   "execution_count": null,
   "metadata": {},
   "outputs": [],
   "source": [
    "# Setup the stats URL\n",
    "stats_url = \"{}/stats\".format(URL)\n",
    "\n",
    "# Print the stats URL\n",
    "print(stats_url)"
   ]
  },
  {
   "cell_type": "markdown",
   "metadata": {},
   "source": [
    "### Using a Search Filter\n",
    "\n",
    "Search filters should have the following properties:\n",
    "\n",
    "* **Type** (`type`) - The type of filter being used\n",
    "* **Configuration** (`config`) - The configuration for this filter\n",
    "* **Field Name** (`field_name`) - The field on which to filter \n",
    "\n",
    "For this example, let's use a filter to get some stats on what data is available for *Planet Scope (3 Band)* and *Rapid Eye (Ortho Tile)* products taken from 2013 until now:"
   ]
  },
  {
   "cell_type": "code",
   "execution_count": null,
   "metadata": {},
   "outputs": [],
   "source": [
    "# Specify the sensors/satellites or \"item types\" to include in our results\n",
    "item_types = [\"PSScene\", \"REOrthoTile\"]"
   ]
  },
  {
   "cell_type": "code",
   "execution_count": null,
   "metadata": {},
   "outputs": [],
   "source": [
    "# Create filter object for all imagery captured between 2013-01-01 and present.\n",
    "date_filter = {\n",
    "    \"type\": \"DateRangeFilter\", # Type of filter -> Date Range\n",
    "    \"field_name\": \"acquired\", # The field to filter on: \"acquired\" -> Date on which the \"image was taken\"\n",
    "    \"config\": {\n",
    "        \"gte\": \"2013-01-01T00:00:00.000Z\", # \"gte\" -> Greater than or equal to\n",
    "    }\n",
    "}"
   ]
  },
  {
   "cell_type": "markdown",
   "metadata": {},
   "source": [
    "Depending on the filter type, some requests may need an `interval` field:\n",
    "\n",
    "The following intervals are possible:\n",
    "* `year`\n",
    "* `month`\n",
    "* `week`\n",
    "* `day`\n",
    "* `hour`\n",
    "\n",
    "An `interval` must be provided with the request so that the number of matching items can be aggregated. We'll use an interval with our date filter. "
   ]
  },
  {
   "cell_type": "markdown",
   "metadata": {},
   "source": [
    "Now let's perform our request using the `date_filter` filter we created above:"
   ]
  },
  {
   "cell_type": "code",
   "execution_count": null,
   "metadata": {},
   "outputs": [],
   "source": [
    "# Construct the request.\n",
    "request = {\n",
    "    \"item_types\" : item_types,\n",
    "    \"interval\" : \"year\",\n",
    "    \"filter\" : date_filter\n",
    "}\n",
    "\n",
    "# Send the POST request to the API stats endpoint\n",
    "res = session.post(stats_url, json=request)\n",
    "\n",
    "# Print response\n",
    "p(res.json())"
   ]
  },
  {
   "cell_type": "markdown",
   "metadata": {},
   "source": [
    "***Good Job!*** You've received a response from the API that contains some statistics like item counts for the search criteria!"
   ]
  },
  {
   "cell_type": "markdown",
   "metadata": {},
   "source": [
    "<div class=\"alert alert-info\">\n",
    "\n",
    "**Exercise:** Create a new date filter to find data from before 2013.\n",
    "\n",
    "</div>"
   ]
  },
  {
   "cell_type": "code",
   "execution_count": null,
   "metadata": {},
   "outputs": [],
   "source": [
    "# Fill in this filter to complete the exercise! \n",
    "date_filter2 = {\n",
    "}\n",
    "\n",
    "request = {\n",
    "    \"item_types\" : item_types,\n",
    "    \"interval\" : \"year\",\n",
    "    \"filter\" : date_filter2\n",
    "}\n",
    "\n",
    "res = session.post(stats_url, json=request)\n",
    "p(res.json())"
   ]
  },
  {
   "cell_type": "markdown",
   "metadata": {},
   "source": [
    "---\n",
    "\n",
    "Next, let's take a closer look at some of the available filters:"
   ]
  },
  {
   "cell_type": "markdown",
   "metadata": {},
   "source": [
    "### Filter types\n",
    "\n",
    "The Planet Data API supports several filter types. The most common are the following:\n",
    "\n",
    "### Field Filters\n",
    "\n",
    "* `DateRangeFilter`\n",
    "* `RangeFilter`\n",
    "* `StringInFilter`\n",
    "* `PermissionFilter`\n",
    "* `GeometryFilter`\n",
    "\n",
    "### Logical Filters\n",
    "\n",
    "* `NotFilter`\n",
    "* `AndFilter`\n",
    "* `OrFilter`\n",
    "\n",
    "More information and examples on filter types can be found at the [API Docs](https://developers.planet.com/docs/apis/). \n",
    "\n",
    "---\n",
    "\n",
    "### (Field) Filter Type examples:"
   ]
  },
  {
   "cell_type": "markdown",
   "metadata": {},
   "source": [
    "#### `DateRangeFilter`\n",
    "\n",
    "Find imagery that was `acquired` or `published` before, after or between certain dates.\n",
    "\n",
    "```\n",
    "{\n",
    "  \"type\": \"DateRangeFilter\",\n",
    "  \"field_name\": \"acquired\",\n",
    "  \"config\": {\n",
    "    \"gt\": \"2016-01-01T00:00:00Z\",\n",
    "    \"lte\": \"2016-03-01T00:00:00Z\"\n",
    "  }\n",
    "}\n",
    "```\n",
    "\n",
    "The upper or lower bound may be omitted."
   ]
  },
  {
   "cell_type": "markdown",
   "metadata": {},
   "source": [
    "#### `RangeFilter`\n",
    "\n",
    "Find imagery that has a metadata that matches a number within a range of numbers.\n",
    "\n",
    "```\n",
    "{\n",
    "  \"type\": \"RangeFilter\",\n",
    "  \"field_name\": \"cloud_cover\",\n",
    "  \"config\": {\n",
    "    \"lt\": 0.2,\n",
    "    \"gt\": 0.1\n",
    "  }\n",
    "}\n",
    "```"
   ]
  },
  {
   "cell_type": "markdown",
   "metadata": {},
   "source": [
    "The following **operators** are supported by the Data API's `DateRangeFilter` and `RangeFilter`:\n",
    "* `gt`: Greater Than\n",
    "* `gte`: Greater Than or Equal To\n",
    "* `lt`: Less Than\n",
    "* `lte`: Less Than or Equal To"
   ]
  },
  {
   "cell_type": "markdown",
   "metadata": {},
   "source": [
    "#### `StringInFilter`\n",
    "\n",
    "Find imagery that has a metadata that matches a string within the array of provided strings.\n",
    "\n",
    "\n",
    "```\n",
    "{\n",
    "  \"type\": \"StringInFilter\",\n",
    "  \"field_name\": \"instrument\",\n",
    "  \"config\": [\"PS2\"]\n",
    "}\n",
    "```"
   ]
  },
  {
   "cell_type": "markdown",
   "metadata": {},
   "source": [
    "#### `PermissionFilter`\n",
    "\n",
    "Find data which has assets that are accessible by the user.\n",
    "\n",
    "```\n",
    "{\n",
    "  \"type\": \"PermissionFilter\",\n",
    "  \"config\": [\"assets.analytic:download\"]\n",
    "}\n",
    "```\n",
    "\n",
    "***Note:*** `assets:download` means *any* downloadable asset."
   ]
  },
  {
   "cell_type": "markdown",
   "metadata": {},
   "source": [
    "#### `GeometryFilter`\n",
    "\n",
    "Find data contained within a given geometry. The filter's config value may be any valid GeoJSON object.\n",
    "\n",
    "```\n",
    "{\n",
    "  \"type\": \"GeometryFilter\",\n",
    "  \"field_name\": \"geometry\",\n",
    "  \"config\": {\n",
    "    \"type\": \"Polygon\",\n",
    "    \"coordinates\": [\n",
    "      [\n",
    "        [\n",
    "          -120.27282714843749,\n",
    "          38.348118547988065\n",
    "        ],\n",
    "        [\n",
    "          -120.27282714843749,\n",
    "          38.74337300148126\n",
    "        ],\n",
    "        [\n",
    "          -119.761962890625,\n",
    "          38.74337300148126\n",
    "        ],\n",
    "        [\n",
    "          -119.761962890625,\n",
    "          38.348118547988065\n",
    "        ],\n",
    "        [\n",
    "          -120.27282714843749,\n",
    "          38.348118547988065\n",
    "        ]\n",
    "      ]\n",
    "    ]\n",
    "  }\n",
    "}\n",
    "```\n",
    "\n",
    "A few quick ways to get a GeoJSON geometry to use in your search:\n",
    "\n",
    "* Draw an Area of Interst (AOI) in [Planet Explorer](http://planet.com/explorer), and use the API button to see the geometry filter config.\n",
    "* Use your favorite GIS tools like [Quantum GIS (QGIS)](http://www.qgis.org) and export GeoJSON.\n",
    "* Draw a polygon in [GeoJSON.io](http://geojson.io).\n",
    "\n",
    "Make sure the `config` property in the geometry filter is in the right format, which should be similar to a `feature` property in a GeoJSON object. "
   ]
  },
  {
   "cell_type": "markdown",
   "metadata": {},
   "source": [
    "---\n",
    "\n",
    "Let's try a few more requests and get some more stats, this time using different filters:"
   ]
  },
  {
   "cell_type": "code",
   "execution_count": null,
   "metadata": {},
   "outputs": [],
   "source": [
    "# Search for imagery only from PlanetScope satellites that have a PS2 telescope\n",
    "\n",
    "# Setup item types\n",
    "item_types = [\"PSScene\"]\n",
    "\n",
    "# Setup a filter for instrument type\n",
    "instrument_filter = {\n",
    "    \"type\": \"StringInFilter\",\n",
    "    \"field_name\": \"instrument\",\n",
    "    \"config\": [\"PS2\"]\n",
    "}"
   ]
  },
  {
   "cell_type": "code",
   "execution_count": null,
   "metadata": {},
   "outputs": [],
   "source": [
    "# Setup the request\n",
    "request = {\n",
    "    \"item_types\" : item_types,\n",
    "    \"interval\" : \"year\",\n",
    "    \"filter\" : instrument_filter\n",
    "}\n",
    "\n",
    "# Send the POST request to the API stats endpoint\n",
    "res = session.post(stats_url, json=request)\n",
    "\n",
    "# Print response\n",
    "p(res.json())"
   ]
  },
  {
   "cell_type": "markdown",
   "metadata": {},
   "source": [
    "<div class=\"alert alert-info\">\n",
    "\n",
    "**Exercise:** Create a new filter that finds all data from PS0 or PS1 telescopes.\n",
    "\n",
    "</div>"
   ]
  },
  {
   "cell_type": "code",
   "execution_count": null,
   "metadata": {},
   "outputs": [],
   "source": [
    "# Fill in this filter to complete the exercise! \n",
    "\n",
    "instrument_filter2 = {\n",
    "}\n",
    "request = {\n",
    "    \"item_types\" : item_types,\n",
    "    \"interval\" : \"year\",\n",
    "    \"filter\" : instrument_filter2\n",
    "}\n",
    "\n",
    "# Send the POST request to the API stats endpoint\n",
    "res=session.post(stats_url, json=request)\n",
    "\n",
    "# Print response\n",
    "p(res.json())"
   ]
  },
  {
   "cell_type": "markdown",
   "metadata": {},
   "source": [
    "Find a GeoJSON geometry from http://geojson.io and copy one `feature`."
   ]
  },
  {
   "cell_type": "code",
   "execution_count": null,
   "metadata": {},
   "outputs": [],
   "source": [
    "# Search for imagery that only intersects with 40N, 90W\n",
    "\n",
    "# Setup GeoJSON \n",
    "geom = {\n",
    "    \"type\": \"Point\",\n",
    "    \"coordinates\": [\n",
    "        -90,\n",
    "         40\n",
    "    ]\n",
    "}\n",
    "\n",
    "# Setup Geometry Filter\n",
    "geometry_filter = {\n",
    "    \"type\": \"GeometryFilter\",\n",
    "    \"field_name\": \"geometry\",\n",
    "    \"config\": geom\n",
    "}"
   ]
  },
  {
   "cell_type": "code",
   "execution_count": null,
   "metadata": {},
   "outputs": [],
   "source": [
    "# Setup the request\n",
    "request = {\n",
    "    \"item_types\" : item_types,\n",
    "    \"interval\" : \"year\",\n",
    "    \"filter\" : geometry_filter\n",
    "}\n",
    "\n",
    "# Send the POST request to the API stats endpoint\n",
    "res=session.post(stats_url, json=request)\n",
    "\n",
    "# Print response\n",
    "p(res.json())"
   ]
  },
  {
   "cell_type": "markdown",
   "metadata": {},
   "source": [
    "### Complex Queries using Logical Filters\n",
    "\n",
    "Complex queries may require combining field filters using **logical filters** (see Filter Types above).\n",
    "\n",
    "Let's try a complex stats search:"
   ]
  },
  {
   "cell_type": "code",
   "execution_count": null,
   "metadata": {},
   "outputs": [],
   "source": [
    "# PS2 imagery; over 40N, 90W; captured between 2013 and present\n",
    "\n",
    "# Setup an \"AND\" logical filter\n",
    "and_filter = {\n",
    "    \"type\": \"AndFilter\",\n",
    "    \"config\": [instrument_filter, geometry_filter, date_filter]\n",
    "}\n",
    "\n",
    "# Print the logical filter\n",
    "p(and_filter)"
   ]
  },
  {
   "cell_type": "code",
   "execution_count": null,
   "metadata": {},
   "outputs": [],
   "source": [
    "# Setup the request\n",
    "request = {\n",
    "    \"item_types\" : item_types,\n",
    "    \"interval\" : \"year\",\n",
    "    \"filter\" : and_filter\n",
    "}\n",
    "\n",
    "# Send the POST request to the API stats endpoint\n",
    "res=session.post(stats_url, json=request)\n",
    "\n",
    "# Print response\n",
    "p(res.json())"
   ]
  },
  {
   "cell_type": "markdown",
   "metadata": {},
   "source": [
    "Here's another complex search query example using a \"Not\" logical filter and \"string in\" field filter. Can you tell what it's requesting?"
   ]
  },
  {
   "cell_type": "code",
   "execution_count": null,
   "metadata": {},
   "outputs": [],
   "source": [
    "# Setup Item Types\n",
    "item_types = [\"PSScene\"]\n",
    "\n",
    "# Setup Instrument Filter\n",
    "instrument_filter = {\n",
    "    \"type\": \"StringInFilter\",\n",
    "    \"field_name\": \"instrument\",\n",
    "    \"config\": [\"PS2\"]\n",
    "}\n",
    "\n",
    "# Setup \"not\" Logical Filter\n",
    "not_filter = {\n",
    "    \"type\": \"NotFilter\",\n",
    "    \"config\": instrument_filter\n",
    "}\n",
    "\n",
    "# Setup the request\n",
    "request = {\n",
    "    \"item_types\" : item_types,\n",
    "    \"interval\" : \"year\",\n",
    "    \"filter\" : not_filter\n",
    "}\n",
    "\n",
    "# Send the POST request to the API stats endpoint\n",
    "res=session.post(stats_url, json=request)\n",
    "\n",
    "# Print response\n",
    "p(res.json())"
   ]
  },
  {
   "cell_type": "markdown",
   "metadata": {},
   "source": [
    "Now that you're comfortable working with **filters**, let's take a look at how to perform searches!"
   ]
  },
  {
   "cell_type": "markdown",
   "metadata": {},
   "source": [
    "## Searching for Items\n",
    "\n",
    "---\n",
    "\n",
    "There are two types of searches: \n",
    "* **\"Quick Search\"** `/quick-search`\n",
    "* **\"Saved Searches\"** `/searches`\n",
    "\n",
    "Saved searches are retained on the Planet Platform and may be performed again at any time in the future. You can use these to setup efficient workflows for repetitive tasks, for example, querying an area that is of interest to you, or getting data for specific sensors.\n",
    "\n",
    "Quick searches are meant to be more fleeting, and are not guaranteed to be available on the API after they are executed.\n",
    "\n",
    "Searches use the same request format as the `/stats` endpoint except without the `interval` field."
   ]
  },
  {
   "cell_type": "markdown",
   "metadata": {},
   "source": [
    "### Quick Search\n",
    "\n",
    "Let's dive right in and create our first `quick search`:"
   ]
  },
  {
   "cell_type": "code",
   "execution_count": null,
   "metadata": {},
   "outputs": [],
   "source": [
    "# Setup the quick search endpoint url\n",
    "quick_url = \"{}/quick-search\".format(URL)"
   ]
  },
  {
   "cell_type": "code",
   "execution_count": null,
   "metadata": {},
   "outputs": [],
   "source": [
    "# Setup Item Types\n",
    "item_types = [\"PSScene\"]\n",
    "\n",
    "# Setup GeoJSON for only imagery that intersects with 40N, 90W\n",
    "geom = {\n",
    "    \"type\": \"Point\",\n",
    "    \"coordinates\": [\n",
    "        -90,\n",
    "         40\n",
    "    ]\n",
    "}\n",
    "\n",
    "# Setup a geometry filter\n",
    "geometry_filter = {\n",
    "    \"type\": \"GeometryFilter\",\n",
    "    \"field_name\": \"geometry\",\n",
    "    \"config\": geom\n",
    "}\n",
    "\n",
    "# Setup the request\n",
    "request = {\n",
    "    \"item_types\" : item_types,\n",
    "    \"filter\" : geometry_filter\n",
    "}"
   ]
  },
  {
   "cell_type": "code",
   "execution_count": null,
   "metadata": {},
   "outputs": [],
   "source": [
    "# Send the POST request to the API quick search endpoint\n",
    "res = session.post(quick_url, json=request)\n",
    "\n",
    "# Assign the response to a variable\n",
    "geojson = res.json()\n",
    "\n",
    "# Print the response\n",
    "p(geojson)"
   ]
  },
  {
   "cell_type": "markdown",
   "metadata": {},
   "source": [
    "Nice! The response gives us search results for Planet Scope (4 Band) for a specific area. \n",
    "\n",
    "Let's do another search, this time using the \"not\" filter we setup earlier:"
   ]
  },
  {
   "cell_type": "code",
   "execution_count": null,
   "metadata": {},
   "outputs": [],
   "source": [
    "# Setup Item Types\n",
    "item_types = [\"PSScene\"]\n",
    "\n",
    "# Setup the request\n",
    "request = {\n",
    "    \"item_types\" : item_types,\n",
    "    \"filter\" : not_filter\n",
    "}\n",
    "\n",
    "# Send the POST request to the API quick search endpoint\n",
    "res = session.post(quick_url, json=request)\n",
    "\n",
    "# Assign the response to a variable\n",
    "geojson = res.json()\n",
    "\n",
    "# Print the response\n",
    "p(list(geojson.items())[1][1][0])"
   ]
  },
  {
   "cell_type": "markdown",
   "metadata": {},
   "source": [
    "Let's take a closer look at our response data:"
   ]
  },
  {
   "cell_type": "code",
   "execution_count": null,
   "metadata": {},
   "outputs": [],
   "source": [
    "# Assign a features variable \n",
    "features = geojson[\"features\"]\n",
    "\n",
    "# Get the number of features present in the response\n",
    "len(features)"
   ]
  },
  {
   "cell_type": "code",
   "execution_count": null,
   "metadata": {},
   "outputs": [],
   "source": [
    "# Loop over all the features from the response\n",
    "for f in features:\n",
    "    # Print the ID for each feature\n",
    "    p(f[\"id\"])"
   ]
  },
  {
   "cell_type": "code",
   "execution_count": null,
   "metadata": {},
   "outputs": [],
   "source": [
    "# Print the first feature\n",
    "p(features[0])"
   ]
  },
  {
   "cell_type": "markdown",
   "metadata": {},
   "source": [
    "What happens when there are A LOT of results? \n",
    "\n",
    "When the number of matching items exceeds 250, the results are delivered in pages. Let's perform a search query that should return a large number of results:"
   ]
  },
  {
   "cell_type": "code",
   "execution_count": null,
   "metadata": {},
   "outputs": [],
   "source": [
    "# Setup a GeoJSON polygon for our geometry filter\n",
    "geom = {\n",
    "    \"type\": \"Polygon\",\n",
    "    \"coordinates\": [\n",
    "      [\n",
    "        [\n",
    "          -125.29632568359376,\n",
    "          48.37084770238366\n",
    "        ],\n",
    "        [\n",
    "          -125.29632568359376,\n",
    "          49.335861591104106\n",
    "        ],\n",
    "        [\n",
    "          -123.2391357421875,\n",
    "          49.335861591104106\n",
    "        ],\n",
    "        [\n",
    "          -123.2391357421875,\n",
    "          48.37084770238366\n",
    "        ],\n",
    "        [\n",
    "          -125.29632568359376,\n",
    "          48.37084770238366\n",
    "        ]\n",
    "      ]\n",
    "    ]\n",
    "  }\n",
    "\n",
    "# Setup the geometry filter\n",
    "geometry_filter = {\n",
    "    \"type\": \"GeometryFilter\",\n",
    "    \"field_name\": \"geometry\",\n",
    "    \"config\": geom\n",
    "}\n",
    "\n",
    "# Setup the request\n",
    "request = {\n",
    "    \"item_types\" : item_types,\n",
    "    \"filter\" : geometry_filter\n",
    "}"
   ]
  },
  {
   "cell_type": "code",
   "execution_count": null,
   "metadata": {},
   "outputs": [],
   "source": [
    "# Send the POST request to the API quick search endpoint\n",
    "res = session.post(quick_url, json=request)\n",
    "\n",
    "# Assign the response to a variable\n",
    "geojson = res.json()"
   ]
  },
  {
   "cell_type": "code",
   "execution_count": null,
   "metadata": {},
   "outputs": [],
   "source": [
    "# Print the response \"_links\" property\n",
    "p(geojson[\"_links\"])"
   ]
  },
  {
   "cell_type": "code",
   "execution_count": null,
   "metadata": {},
   "outputs": [],
   "source": [
    "# Assign the \"_links\" -> \"_next\" property (link to next page of results) to a variable \n",
    "next_url = geojson[\"_links\"][\"_next\"]\n",
    "\n",
    "# Print the link to the next page of results\n",
    "print(next_url)"
   ]
  },
  {
   "cell_type": "markdown",
   "metadata": {},
   "source": [
    "The page size can be set with a `_page_size` parameter in the request:"
   ]
  },
  {
   "cell_type": "code",
   "execution_count": null,
   "metadata": {},
   "outputs": [],
   "source": [
    "# Send the POST request to the API quick search endpoint with a page size of 9\n",
    "res = session.post(quick_url, json=request, params={\"_page_size\" : 9})\n",
    "\n",
    "# Assign the response to a variable\n",
    "geojson = res.json()\n",
    "\n",
    "# Get the number of features present in the response\n",
    "len(geojson[\"features\"])"
   ]
  },
  {
   "cell_type": "markdown",
   "metadata": {},
   "source": [
    "### Mapping Footprints Example\n",
    "\n",
    "The [`geojsonio`](https://pypi.python.org/pypi/geojsonio/) module can be used to map GeoJSON files and is therefore compatible with the output from Planet Data API searches.\n",
    "\n",
    "Make sure you've got the module installed and then let's use it to show our resuls on a map:"
   ]
  },
  {
   "cell_type": "code",
   "execution_count": null,
   "metadata": {},
   "outputs": [],
   "source": [
    "# Assign the url variable to display the geojsonio map\n",
    "url = geojsonio.display(res.text)"
   ]
  },
  {
   "cell_type": "markdown",
   "metadata": {},
   "source": [
    "We can now iterate through the pages of results."
   ]
  },
  {
   "cell_type": "code",
   "execution_count": null,
   "metadata": {},
   "outputs": [],
   "source": [
    "# Assign the next_url variable to the next page of results from the response (Setup the next page of results)\n",
    "next_url = geojson[\"_links\"][\"_next\"]\n",
    "\n",
    "# Get the next page of results\n",
    "res = session.get(next_url)\n",
    "\n",
    "# Assign the response to a variable\n",
    "geojson = res.json()\n",
    "\n",
    "# Get the url see results on geojson.io\n",
    "url = geojsonio.to_geojsonio(res.text)"
   ]
  },
  {
   "cell_type": "code",
   "execution_count": null,
   "metadata": {},
   "outputs": [],
   "source": [
    "# Setup the next page of results\n",
    "next_url = geojson[\"_links\"][\"_next\"]\n",
    "\n",
    "# Get the next page of results\n",
    "res = session.get(next_url)\n",
    "\n",
    "# Assign the response to a variable\n",
    "geojson = res.json()\n",
    "\n",
    "# Get the url see results on geojson.io\n",
    "url = geojsonio.to_geojsonio(res.text)"
   ]
  },
  {
   "cell_type": "markdown",
   "metadata": {},
   "source": [
    "Cool huh? Now that we know how to search and find items we are interested in, let's try activating and downloading some assets."
   ]
  },
  {
   "cell_type": "markdown",
   "metadata": {
    "collapsed": true
   },
   "source": [
    "## Assets & Permissions\n",
    "\n",
    "Assets may be imagery files, image masks, metadata files or some other file type that might be associated with the item.\n",
    "\n",
    "The `_permissions` element in each feature contains a list of assets that the user has access to."
   ]
  },
  {
   "cell_type": "markdown",
   "metadata": {},
   "source": [
    "Let's pick the first item out of our search result to work with, and then see what the permissions are for that item:"
   ]
  },
  {
   "cell_type": "code",
   "execution_count": null,
   "metadata": {},
   "outputs": [],
   "source": [
    "# Assign a variable to the search result features (items)\n",
    "features = geojson[\"features\"]\n",
    "\n",
    "# Get the first result's feature\n",
    "feature = features[0]\n",
    "\n",
    "# Print the ID\n",
    "p(feature[\"id\"])\n",
    "\n",
    "# Print the permissions\n",
    "p(feature[\"_permissions\"])"
   ]
  },
  {
   "cell_type": "markdown",
   "metadata": {},
   "source": [
    "Each item has an `assets` endpoint in the API that lists all of its assets. Let's get a list of available assets for our item:"
   ]
  },
  {
   "cell_type": "code",
   "execution_count": null,
   "metadata": {},
   "outputs": [],
   "source": [
    "# Get the assets link for the item\n",
    "assets_url = feature[\"_links\"][\"assets\"]\n",
    "\n",
    "# Print the assets link\n",
    "print(assets_url)"
   ]
  },
  {
   "cell_type": "code",
   "execution_count": null,
   "metadata": {},
   "outputs": [],
   "source": [
    "# Send a GET request to the assets url for the item (Get the list of available assets for the item)\n",
    "res = session.get(assets_url)\n",
    "\n",
    "# Assign a variable to the response\n",
    "assets = res.json()"
   ]
  },
  {
   "cell_type": "code",
   "execution_count": null,
   "metadata": {},
   "outputs": [],
   "source": [
    "# Print the asset types that are available\n",
    "print(assets.keys())"
   ]
  },
  {
   "cell_type": "markdown",
   "metadata": {},
   "source": [
    "We can see that most items have several assets available. Let's check out the \"basic_analytic_4b\" asset for this item. This is the 4-band analytic asset for the PSScene item."
   ]
  },
  {
   "cell_type": "code",
   "execution_count": null,
   "metadata": {},
   "outputs": [],
   "source": [
    "# Assign a variable to the visual asset from the item's assets\n",
    "basic_analytic4b = assets[\"basic_analytic_4b\"]\n",
    "\n",
    "# Print the visual asset data\n",
    "p(basic_analytic4b)"
   ]
  },
  {
   "cell_type": "markdown",
   "metadata": {},
   "source": [
    "### Activating Assets\n",
    "\n",
    "Before an asset is available for download, it must be **activated**. \n",
    "\n",
    "You can activate an asset by sending a *POST* or *GET* request to the asset's **\"activation link\"**. \n",
    "\n",
    "The activation usually takes a little bit of time, but hey, I'm sure by now you have some ideas on how to automate your workflow. Go robots!"
   ]
  },
  {
   "cell_type": "code",
   "execution_count": null,
   "metadata": {},
   "outputs": [],
   "source": [
    "# Setup the activation url for a particular asset (in this case the basic_analytic_4b asset)\n",
    "activation_url = basic_analytic4b[\"_links\"][\"activate\"]\n",
    "\n",
    "# Send a request to the activation url to activate the item\n",
    "res = session.get(activation_url)\n",
    "\n",
    "# Print the response from the activation request\n",
    "p(res.status_code)"
   ]
  },
  {
   "cell_type": "markdown",
   "metadata": {},
   "source": [
    "#### Activation Response Codes\n",
    "\n",
    "After hitting an activation url, you should get a response code back from the API:\n",
    "\n",
    "* **`202`** - The request has been accepted and the activation will begin shortly. \n",
    "* **`204`** - The asset is already active and no further action is needed. \n",
    "* **`401`** - The user does not have permissions to download this file."
   ]
  },
  {
   "cell_type": "markdown",
   "metadata": {},
   "source": [
    "After requesting to actiate an asset, let's do another request to see if the assset's status has changed. This may take some time."
   ]
  },
  {
   "cell_type": "code",
   "execution_count": null,
   "metadata": {
    "scrolled": true
   },
   "outputs": [],
   "source": [
    "asset_activated = False\n",
    "\n",
    "while asset_activated == False:\n",
    "    # Send a request to the item's assets url\n",
    "    res = session.get(assets_url)\n",
    "\n",
    "    # Assign a variable to the item's assets url response\n",
    "    assets = res.json()\n",
    "\n",
    "    # Assign a variable to the basic_analytic_4b asset from the response\n",
    "    visual = assets[\"basic_analytic_4b\"]\n",
    "\n",
    "    asset_status = basic_analytic4b[\"status\"]\n",
    "    print(asset_status)\n",
    "    \n",
    "    # If asset is already active, we are done\n",
    "    if asset_status == 'active':\n",
    "        asset_activated = True\n",
    "        print(\"Asset is active and ready to download\")\n",
    "\n",
    "# Print the ps3b_analytic asset data    \n",
    "p(basic_analytic4b)"
   ]
  },
  {
   "cell_type": "markdown",
   "metadata": {},
   "source": [
    "#### Activation Status\n",
    "\n",
    "An asset may have a `status` of `inactive`, `activating` or `active`. \n",
    "\n",
    "Once an asset is active, the response will contain a `location`. We'll use the `location` to download the asset!\n",
    "\n",
    "Below, we are polling the API until the item is activated. This may take awhile."
   ]
  },
  {
   "cell_type": "markdown",
   "metadata": {},
   "source": [
    "### Downloading Assets\n",
    "\n",
    "The asset's `location` property points asset file for use to download. Are you ready to download the asset? Let's do it!"
   ]
  },
  {
   "cell_type": "code",
   "execution_count": null,
   "metadata": {},
   "outputs": [],
   "source": [
    "# Assign a variable to the visual asset's location endpoint\n",
    "location_url = basic_analytic4b[\"location\"]\n",
    "\n",
    "# Print the location endpoint\n",
    "print(location_url)"
   ]
  },
  {
   "cell_type": "markdown",
   "metadata": {},
   "source": [
    "There's the location url! You could click on it to open it in a browser and download the file... but why not let your code do it? \n",
    "\n",
    "Let's write a small helper function to download asset files:"
   ]
  },
  {
   "cell_type": "code",
   "execution_count": null,
   "metadata": {},
   "outputs": [],
   "source": [
    "# Create a function to download asset files\n",
    "# Parameters: \n",
    "# - url (the location url)\n",
    "# - filename (the filename to save it as. defaults to whatever the file is called originally)\n",
    "\n",
    "def pl_download(url, filename=None):\n",
    "    \n",
    "    # Send a GET request to the provided location url, using your API Key for authentication\n",
    "    res = requests.get(url, stream=True, auth=(API_KEY, \"\"))\n",
    "    # If no filename argument is given\n",
    "    if not filename:\n",
    "        # Construct a filename from the API response\n",
    "        if \"content-disposition\" in res.headers:\n",
    "            filename = res.headers[\"content-disposition\"].split(\"filename=\")[-1].strip(\"'\\\"\")\n",
    "        # Construct a filename from the location url\n",
    "        else:\n",
    "            filename = url.split(\"=\")[1][:10]\n",
    "    # Save the file\n",
    "    with open('output/' + filename, \"wb\") as f:\n",
    "        for chunk in res.iter_content(chunk_size=1024):\n",
    "            if chunk: # filter out keep-alive new chunks\n",
    "                f.write(chunk)\n",
    "                f.flush()\n",
    "\n",
    "    return filename"
   ]
  },
  {
   "cell_type": "code",
   "execution_count": null,
   "metadata": {},
   "outputs": [],
   "source": [
    "# Download the file from an activated asset's location url\n",
    "pl_download(location_url)"
   ]
  },
  {
   "cell_type": "markdown",
   "metadata": {},
   "source": [
    "**High Five!** You should now be downloading your very own GeoTIFF! We can't wait to see what you'll do with it!"
   ]
  },
  {
   "cell_type": "markdown",
   "metadata": {},
   "source": [
    "### Rate Limits\n",
    "\n",
    "---\n",
    "\n",
    "Now that you know how to download assets, you should probably keep some of the API **rate limits** in mind: \n",
    "\n",
    "* For most endpoints, the rate limit is 10 requests per second, per API key.\n",
    "* For activation endpoints, the rate limit is 5 requests per second, per API key.\n",
    "* For download endpoints, the rate limit is 15 requests per second, per API key.\n",
    "\n",
    "If you're writing to code to automate accessing the API, you should account for `429` responses and handle retries after a *backoff period*. "
   ]
  },
  {
   "cell_type": "markdown",
   "metadata": {},
   "source": [
    "## Saved Searches\n",
    "\n",
    "---\n",
    "\n",
    "The `/searches` endpoint lets you created saved searches that can be reused.\n",
    "\n",
    "To view your saved searches, visit the [`searches/?search_type=saved`](https://api.planet.com/data/v1/searches/?search_type=saved) endpoint.\n",
    "\n",
    "Finally, let's create a saved search:"
   ]
  },
  {
   "cell_type": "code",
   "execution_count": null,
   "metadata": {},
   "outputs": [],
   "source": [
    "# Setup the saved searches endpoint url\n",
    "searches_url = \"{}/searches\".format(URL)"
   ]
  },
  {
   "cell_type": "code",
   "execution_count": null,
   "metadata": {},
   "outputs": [],
   "source": [
    "# Setup the request, specifying a name for the saved search, along with the usual search item_types and filter.\n",
    "request = {\n",
    "    \"name\" : \"Vancouver Island\",\n",
    "    \"item_types\" : item_types,\n",
    "    \"filter\" : geometry_filter\n",
    "}\n",
    "\n",
    "# Send a POST request to the saved searches endpoint (Create the saved search)\n",
    "res = session.post(searches_url, json=request)\n",
    "\n",
    "# Print the response\n",
    "p(res.json())"
   ]
  },
  {
   "cell_type": "markdown",
   "metadata": {},
   "source": [
    "Now that we created a saved search, let's get a list of our saved searches:"
   ]
  },
  {
   "cell_type": "code",
   "execution_count": null,
   "metadata": {},
   "outputs": [],
   "source": [
    "# Send a GET request to the saved searches endpoint with the saved search type parameter (Get saved searches)\n",
    "res = session.get(searches_url, params={\"search_type\" : \"saved\"})\n",
    "\n",
    "# Assign a variable to the searches property in the saved searches response\n",
    "searches = res.json()[\"searches\"]\n",
    "print(searches[2])#['name'])\n",
    "print(len(searches))\n",
    "\n",
    "# Loop through the searches\n",
    "for search in searches:\n",
    "    # Print the ID, Created Time, and Name for each saved search\n",
    "    print(\"id: {} created: {} name: {}\".format(search[\"id\"], search[\"created\"], search['name']))"
   ]
  },
  {
   "cell_type": "markdown",
   "metadata": {},
   "source": [
    "Ok, now let's check out the results from a particular saved search:"
   ]
  },
  {
   "cell_type": "code",
   "execution_count": null,
   "metadata": {},
   "outputs": [],
   "source": [
    "# Setup the saved search url, using the first saved search in the list\n",
    "saved_url = \"{}/{}\".format(searches_url, searches[0][\"id\"])\n",
    "\n",
    "# Print the saved search url\n",
    "p(saved_url)\n",
    "\n",
    "# Setup the saved search's results url\n",
    "results_url = \"{}/results\".format(saved_url)\n",
    "\n",
    "# Print the saved search's results url\n",
    "p(results_url)"
   ]
  },
  {
   "cell_type": "code",
   "execution_count": null,
   "metadata": {},
   "outputs": [],
   "source": [
    "# Send a GET request to the saved search url (Get the saved search data)\n",
    "res = session.get(saved_url)\n",
    "\n",
    "# Print the response\n",
    "p(res.json())"
   ]
  },
  {
   "cell_type": "code",
   "execution_count": null,
   "metadata": {},
   "outputs": [],
   "source": [
    "# Send a GET request to the saved search results url (Get the saved search results)\n",
    "results = session.get(results_url).json()\n",
    "\n",
    "# Print the number of features in the saved search\n",
    "print(len(results[\"features\"]))\n",
    "\n",
    "# Print the first feature in the saved search\n",
    "print(results[\"features\"][0])"
   ]
  },
  {
   "cell_type": "markdown",
   "metadata": {},
   "source": [
    "A saved search can also be updated by senidng a **`PUT`** request with a changed search definition back to the API.\n",
    "\n",
    "Did you know that saved searches can also send you a daily email to alert you to when new items are added to the search resutlts? Oh yeah!"
   ]
  },
  {
   "cell_type": "code",
   "execution_count": null,
   "metadata": {},
   "outputs": [],
   "source": [
    "# Assign a variable to the saved search response\n",
    "search = res.json()\n",
    "\n",
    "# Print the saved search\n",
    "p(search)"
   ]
  },
  {
   "cell_type": "code",
   "execution_count": null,
   "metadata": {},
   "outputs": [],
   "source": [
    "# Change the saved search name to \"South Vancouver Island\"\n",
    "search[\"name\"] = \"South Vancouver Island\"\n",
    "\n",
    "# Set the daily email enabled to true (Get email alerts when new items show up in this search)\n",
    "search[\"__daily_email_enabled\"] = True\n",
    "\n",
    "# Send a PUT request to the saved search endpoint (Update the saved search)\n",
    "res = session.put(saved_url, json=search)\n",
    "\n",
    "# The response status code\n",
    "res.status_code"
   ]
  },
  {
   "cell_type": "markdown",
   "metadata": {},
   "source": [
    "## Conclusion\n",
    "\n",
    "You made it! You should now be able to use the Planet API to find items and assets by searching, get stats and save searches, and activate and download assets using Python code! \n",
    "\n",
    "Don't forget to visit the [Planet API Reference Docs](https://developers.planet.com/docs/apis/).\n"
   ]
  }
 ],
 "metadata": {
  "kernelspec": {
   "display_name": "Python 3 (ipykernel)",
   "language": "python",
   "name": "python3"
  },
  "language_info": {
   "codemirror_mode": {
    "name": "ipython",
    "version": 3
   },
   "file_extension": ".py",
   "mimetype": "text/x-python",
   "name": "python",
   "nbconvert_exporter": "python",
   "pygments_lexer": "ipython3",
   "version": "3.9.12"
  }
 },
 "nbformat": 4,
 "nbformat_minor": 1
}
