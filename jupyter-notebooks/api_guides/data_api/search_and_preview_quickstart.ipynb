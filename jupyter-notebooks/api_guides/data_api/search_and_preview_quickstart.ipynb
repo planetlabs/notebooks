{
 "cells": [
  {
   "cell_type": "markdown",
   "id": "6db765fd-52c6-42d1-853c-4958a42f7099",
   "metadata": {},
   "source": [
    "## Using Data API & Tile Service API to Efficiently Preview Imagery\n",
    "\n",
    "You can often get immediate value from Planet imagery by using image preview tiles without the need for full order activation or processing. Image preview tiles are available in Data API search results and enable pre-filtering and informed decision-making before placing an order, similar to the web app experience of Planet Explorer.\n",
    "\n",
    "\n",
    "This guide demonstrates how to leverage Planet’s preview tiles and the Data API to visualize search results on an interactive map with a clearly demarcated search AOI for quick, efficient imagery review and planning.\n",
    "\n",
    "##Let's search & preview some imagery of farmland near Stockton, CA. Here are the steps we'll follow:\n",
    "1. Define an Area of Interest (AOI)\n",
    "2. Save our AOI's coordinates to GeoJSON format\n",
    "3. Create a few search filters\n",
    "4. Search for imagery using those filters\n",
    "5. Render AOI geometry and preview imagery tiles on a map\n",
    "\n",
    "**note:** if you are familiar with the [Search and Download Quickstart](./search_and_download_quickstart.ipynb) the first several steps will be identical."
   ]
  },
  {
   "cell_type": "markdown",
   "id": "8605d964-2c76-481a-aac7-2385efa686a4",
   "metadata": {},
   "source": [
    "### Requirements\n",
    "- requests\n",
    "- folium\n",
    "- shapely\n",
    "- Planet API Key available from your [Planet Account User Settings](https://www.planet.com/account/#/user-settings)"
   ]
  },
  {
   "cell_type": "code",
   "execution_count": null,
   "id": "521fe87f-0ffd-45bb-923f-45fcca6908ee",
   "metadata": {},
   "outputs": [],
   "source": [
    "## uncomment and run to install dependencies if needed\n",
    "# !pip install requests folium shapely"
   ]
  },
  {
   "cell_type": "code",
   "execution_count": null,
   "id": "1be1ddbb-03e7-4a92-bb06-a248505797c7",
   "metadata": {},
   "outputs": [],
   "source": [
    "import os\n",
    "import requests\n",
    "import folium\n",
    "import shapely"
   ]
  },
  {
   "cell_type": "markdown",
   "id": "197422d2-9cee-4a5a-aba2-eff3dc308b15",
   "metadata": {},
   "source": [
    "## Set Up API Key"
   ]
  },
  {
   "cell_type": "code",
   "execution_count": null,
   "id": "becf6191-4e64-4db8-ab5b-0f6c530474ad",
   "metadata": {},
   "outputs": [],
   "source": [
    "import os\n",
    "\n",
    "# if your Planet API Key is not set as an environment variable, you can paste it below\n",
    "if os.environ.get('PL_API_KEY', ''):\n",
    "    API_KEY = os.environ.get('PL_API_KEY', '')\n",
    "else:\n",
    "    API_KEY = 'PASTE_YOUR_API_KEY_HERE'\n",
    "\n",
    "assert API_KEY and not API_KEY.startswith('PASTE')"
   ]
  },
  {
   "cell_type": "markdown",
   "id": "c6d284a3-e29a-4e93-97a1-437ca9bf1af6",
   "metadata": {},
   "source": [
    "## Define an Area of Interest"
   ]
  },
  {
   "cell_type": "markdown",
   "id": "926f7e4b-65a6-41f6-ba56-5c1c284e54c7",
   "metadata": {},
   "source": [
    "An **Area of Interest** (or *AOI*) is how we define the geographic \"window\" out of which we want to get data.\n",
    "\n",
    "For the Data API, this could be a simple bounding box with four corners, or a more complex shape, as long as the definition is in [GeoJSON](http://geojson.org/) format. \n",
    "\n",
    "For this example, let's just use a simple box. To make it easy, I'll use [geojson.io](http://geojson.io/) to quickly draw a shape & generate GeoJSON output for our box:"
   ]
  },
  {
   "cell_type": "markdown",
   "id": "054e2e39-b416-4c51-a90a-2416f16cf81e",
   "metadata": {},
   "source": [
    "![geojsonio.png](images/geojsonio.png)"
   ]
  },
  {
   "cell_type": "markdown",
   "id": "ec502524-d283-48d5-a88d-068209f218d7",
   "metadata": {},
   "source": [
    "We only need the \"geometry\" object for our Data API request:"
   ]
  },
  {
   "cell_type": "markdown",
   "id": "dcee5767-5c55-49f6-a9e2-9081e809e5f3",
   "metadata": {},
   "source": [
    "**ATTENTION** You may need to modify this geometry to be in a region where you have Planet data \"Tile View\" access."
   ]
  },
  {
   "cell_type": "code",
   "execution_count": null,
   "id": "92199c6c-5bb3-4c36-abe3-4bd9ee2ba352",
   "metadata": {
    "scrolled": true
   },
   "outputs": [],
   "source": [
    "# Stockton, CA bounding box (created via geojson.io)\n",
    "geojson_geometry = {\n",
    "  \"type\": \"Polygon\",\n",
    "  \"coordinates\": [\n",
    "    [ \n",
    "      [-121.59290313720705, 37.93444993515032],\n",
    "      [-121.27017974853516, 37.93444993515032],\n",
    "      [-121.27017974853516, 38.065932950547484],\n",
    "      [-121.59290313720705, 38.065932950547484],\n",
    "      [-121.59290313720705, 37.93444993515032]\n",
    "    ]\n",
    "  ]\n",
    "}"
   ]
  },
  {
   "cell_type": "markdown",
   "id": "f44c1e8a-11ac-4fbf-87ac-3e0a143e7af7",
   "metadata": {},
   "source": [
    "## Create Filters"
   ]
  },
  {
   "cell_type": "markdown",
   "id": "73cea2b0-c7a8-472a-a828-e62805842cd1",
   "metadata": {},
   "source": [
    "Now let's set up some **filters** to further constrain our Data API search:"
   ]
  },
  {
   "cell_type": "code",
   "execution_count": null,
   "id": "71da2b1d-735e-475e-9a22-196763fb2003",
   "metadata": {},
   "outputs": [],
   "source": [
    "# get images that overlap with our AOI \n",
    "geometry_filter = {\n",
    "  \"type\": \"GeometryFilter\",\n",
    "  \"field_name\": \"geometry\",\n",
    "  \"config\": geojson_geometry\n",
    "}\n",
    "\n",
    "# get images acquired within a date range\n",
    "date_range_filter = {\n",
    "  \"type\": \"DateRangeFilter\",\n",
    "  \"field_name\": \"acquired\",\n",
    "  \"config\": {\n",
    "    \"gte\": \"2024-08-28T00:00:00.000Z\",\n",
    "    \"lte\": \"2024-09-01T00:00:00.000Z\"\n",
    "  }\n",
    "}\n",
    "\n",
    "# only get images which have <50% cloud coverage\n",
    "cloud_cover_filter = {\n",
    "  \"type\": \"RangeFilter\",\n",
    "  \"field_name\": \"cloud_cover\",\n",
    "  \"config\": {\n",
    "    \"lte\": 0.5\n",
    "  }\n",
    "}\n",
    "\n",
    "# combine our geo, date, cloud filters\n",
    "combined_filter = {\n",
    "  \"type\": \"AndFilter\",\n",
    "  \"config\": [geometry_filter, date_range_filter, cloud_cover_filter]\n",
    "}"
   ]
  },
  {
   "cell_type": "markdown",
   "id": "030e2bf3-c466-4e61-a309-02c583d7e14f",
   "metadata": {},
   "source": [
    "## Searching: Items and Assets"
   ]
  },
  {
   "cell_type": "markdown",
   "id": "aefded24-5e74-4b7c-bafc-28587667c0db",
   "metadata": {},
   "source": [
    "Planet's products are categorized as **items** and **assets**: an item is a single picture taken by a satellite at a certain time. Items have multiple asset types including the image in different formats, along with supporting metadata files.\n",
    "\n",
    "For this demonstration, let's get a satellite image that is best suited for analytic applications; i.e., a 4-band image with spectral data for Red, Green, Blue and Near-infrared values. To get the image we want, we will specify an item type of `PSScene`, and asset type `ps4b_analytic` (to get a PSScene4Band Analytic asset).\n",
    "\n",
    "You can learn more about item & asset types in Planet's Data API [here](https://developers.planet.com/docs/apis/data/items-assets/).\n",
    "\n",
    "Now let's search for all the items that match our filters:"
   ]
  },
  {
   "cell_type": "code",
   "execution_count": null,
   "id": "fd01670d-84a6-4299-a41a-7cb78d5de9d4",
   "metadata": {},
   "outputs": [],
   "source": [
    "import json\n",
    "import pprint\n",
    "import requests\n",
    "from requests.auth import HTTPBasicAuth\n",
    "\n",
    "item_type = \"PSScene\"\n",
    "\n",
    "# API request object\n",
    "search_request = {\n",
    "  \"item_types\": [item_type], \n",
    "  \"filter\": combined_filter\n",
    "}\n",
    "\n",
    "# fire off the POST request\n",
    "search_result = \\\n",
    "  requests.post(\n",
    "    'https://api.planet.com/data/v1/quick-search',\n",
    "    auth=HTTPBasicAuth(API_KEY, ''),\n",
    "    json=search_request)\n",
    "\n",
    "geojson = search_result.json()\n",
    "\n",
    "# let's look at the first result\n",
    "pprint.pprint(geojson['features'][0])"
   ]
  },
  {
   "cell_type": "markdown",
   "id": "12280313-c7f6-497b-8a84-98660c404b25",
   "metadata": {},
   "source": [
    "Our search returns metadata for all of the images within our AOI that match our date range and cloud coverage filters. It looks like there are multiple images here; let's extract a list of just those image IDs:"
   ]
  },
  {
   "cell_type": "code",
   "execution_count": null,
   "id": "8b5a1ad0-9c33-424f-92bd-9d448beb1114",
   "metadata": {},
   "outputs": [],
   "source": [
    "# extract image IDs only\n",
    "image_ids = [feature['id'] for feature in geojson['features']]\n",
    "print(image_ids)"
   ]
  },
  {
   "cell_type": "markdown",
   "id": "3dac64f6-12c9-4b92-908f-236d739c044c",
   "metadata": {},
   "source": [
    "Since we just want a single image, and this is only a demonstration, for our purposes here we can arbitrarily select the first image in that list. Let's do that, and get the `asset` list available for that image:"
   ]
  },
  {
   "cell_type": "code",
   "execution_count": null,
   "id": "50e6cd5c-78c4-48fc-a9e6-f0430217a51e",
   "metadata": {},
   "outputs": [],
   "source": [
    "# For demo purposes, just grab the first image ID\n",
    "id0 = image_ids[0]\n",
    "id0_url = 'https://api.planet.com/data/v1/item-types/{}/items/{}/assets'.format(item_type, id0)\n",
    "\n",
    "# Returns JSON metadata for assets in this ID. Learn more: planet.com/docs/reference/data-api/items-assets/#asset\n",
    "result = \\\n",
    "  requests.get(\n",
    "    id0_url,\n",
    "    auth=HTTPBasicAuth(API_KEY, '')\n",
    "  )\n",
    "\n",
    "# List of asset types available for this particular satellite image\n",
    "print(result.json().keys())\n"
   ]
  },
  {
   "cell_type": "markdown",
   "id": "64156628-28d3-4a27-97a1-1a297cc1a54b",
   "metadata": {},
   "source": [
    "## Rendering Previews On a Map"
   ]
  },
  {
   "cell_type": "markdown",
   "id": "5a31b94a-9db1-4907-b0eb-dab11436287e",
   "metadata": {},
   "source": [
    "First let's make a folium map centered around our area of interest. We use shapely to convert our geojson to a shape and then extract the centroid coordinates."
   ]
  },
  {
   "cell_type": "code",
   "execution_count": null,
   "id": "e21ec620-8707-444e-a4a7-cac027dc9e3d",
   "metadata": {},
   "outputs": [],
   "source": [
    "import folium\n",
    "from shapely.geometry import shape\n",
    "\n",
    "# Convert GeoJSON polygon to shapely geometry to calculate bounds/centroid\n",
    "polygon = shape(geojson_geometry)\n",
    "bounds = polygon.bounds\n",
    "centroid = polygon.centroid\n",
    "\n",
    "# Calculate center and zoom based on bounds or centroid\n",
    "map_center = [centroid.y, centroid.x]\n",
    "print(f\"Map Center (based on centroid): {map_center}\")\n",
    "\n",
    "# Initialize the Folium map centered on the centroid of the polygon\n",
    "folium_map = folium.Map(location=map_center, zoom_start=12)\n",
    "\n",
    "# Optional: add the GeoJSON polygon to the map for visualization\n",
    "style_function = lambda feature: {\n",
    "    'fillOpacity': 0,  # Transparent fill\n",
    "    'color': 'black',  # Black border\n",
    "    'weight': 3,       # Thickness of 3 pixels\n",
    "    'dashArray': '5, 5'  # Dashed border\n",
    "}\n",
    "folium.GeoJson(geojson_geometry, style_function=style_function, name=\"Search Area\").add_to(folium_map)\n",
    "\n",
    "folium_map"
   ]
  },
  {
   "cell_type": "markdown",
   "id": "51391381-8941-42f0-9bfa-8fc3de8d481b",
   "metadata": {},
   "source": [
    "Next, we will add preview scene tile layers to the map. To do this, we will leverage [Planet's Tile Services API](https://developers.planet.com/docs/basemaps/tile-services/#api-tile-service)"
   ]
  },
  {
   "cell_type": "code",
   "execution_count": null,
   "id": "84141ebf-6473-4fd6-8682-407b161641cd",
   "metadata": {},
   "outputs": [],
   "source": [
    "PLANET_TILE_URL_TEMPLATE = \"https://tiles.planet.com/data/v1/{item_type}/{item_id}/{{z}}/{{x}}/{{y}}.png?api_key={API_KEY}\""
   ]
  },
  {
   "cell_type": "code",
   "execution_count": null,
   "id": "3d4fbb3c-ed93-419b-8121-8154899317d2",
   "metadata": {},
   "outputs": [],
   "source": [
    "# Add planet tiles from search results\n",
    "for result in geojson['features']:\n",
    "    # item_id is the geojson feature id\n",
    "    item_id = result[\"id\"]\n",
    "    # item_type is in the geojson feature properties\n",
    "    item_type = result[\"properties\"][\"item_type\"]\n",
    "\n",
    "    # Create the Planet tile URL for this specific item\n",
    "    tile_url = PLANET_TILE_URL_TEMPLATE.format(item_id=item_id, item_type=item_type, API_KEY=API_KEY)\n",
    "\n",
    "    # Add the planet tile layer to the map\n",
    "    folium.TileLayer(\n",
    "        tiles=tile_url,\n",
    "        attr='Planet Labs PBC',\n",
    "        name=f\"Planet item {item_type}:{item_id}\",\n",
    "        overlay=True,\n",
    "        control=True\n",
    "    ).add_to(folium_map)\n",
    "\n",
    "# Add layer control so users can toggle between layers\n",
    "folium.LayerControl().add_to(folium_map)\n",
    "\n",
    "print(\"Map with styled GeoJSON and Planet tiles created! Open 'planet_tiles_map_styled.html' to view it.\")\n",
    "folium_map"
   ]
  },
  {
   "cell_type": "markdown",
   "id": "c2642792-5ef3-407c-b2bd-d73afe3cc42b",
   "metadata": {},
   "source": [
    "You can save your map for later viewing outside of the notebook.\n",
    "\n",
    "**WARNING** if you do save the map, this html artifact will contain your API key in the streaming URLs."
   ]
  },
  {
   "cell_type": "code",
   "execution_count": null,
   "id": "db0d440a-b228-4b14-85d4-0c7551e21bf5",
   "metadata": {},
   "outputs": [],
   "source": [
    "# Save the map to an HTML file\n",
    "save_path = 'planet_search_preview_demo_map.html'\n",
    "\n",
    "# only save with user confirmation\n",
    "confirm = input(f'Are you sure you want to save this map containing your credentials to path: {save_path}? y/N')\n",
    "if confirm.lower().strip() != 'y':\n",
    "    print('NOT SAVING...')\n",
    "else:\n",
    "    folium_map.save(save_path)\n",
    "    print(f'SAVED: {save_path}')"
   ]
  },
  {
   "cell_type": "markdown",
   "id": "7623e6a4-63a9-43d4-9848-61843f1f5dea",
   "metadata": {},
   "source": [
    "Your final map should look something like this"
   ]
  },
  {
   "cell_type": "markdown",
   "id": "6077a205-8cdb-4fa3-9b17-75cc2bcba845",
   "metadata": {},
   "source": [
    "![folium-map.png](images/folium-map.png)"
   ]
  },
  {
   "cell_type": "markdown",
   "id": "fed9a050-2cf2-4a99-a0da-1b5cb9dd4641",
   "metadata": {},
   "source": [
    "You can use the folium layer selector to toggle individual results on and off"
   ]
  },
  {
   "cell_type": "markdown",
   "id": "f6c9fe58-48fe-4cb0-9364-ae3724fd264e",
   "metadata": {},
   "source": [
    "![layer-selector.png](images/layer-selector.png)"
   ]
  },
  {
   "cell_type": "markdown",
   "id": "7f59cb9f-e8b6-4a46-9940-e46ee8d82efc",
   "metadata": {},
   "source": [
    "Congrats! Now you know how to stream Planet Preview Tiles to a map so that you can visualize and review your Data API Search Results."
   ]
  }
 ],
 "metadata": {
  "kernelspec": {
   "display_name": "Python 3 (ipykernel)",
   "language": "python",
   "name": "python3"
  },
  "language_info": {
   "codemirror_mode": {
    "name": "ipython",
    "version": 3
   },
   "file_extension": ".py",
   "mimetype": "text/x-python",
   "name": "python",
   "nbconvert_exporter": "python",
   "pygments_lexer": "ipython3",
   "version": "3.12.4"
  }
 },
 "nbformat": 4,
 "nbformat_minor": 5
}
