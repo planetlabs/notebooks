{
 "cells": [
  {
   "cell_type": "markdown",
   "metadata": {},
   "source": [
    "# Planet API Python Client Introduction\n"
   ]
  },
  {
   "cell_type": "markdown",
   "metadata": {},
   "source": [
    "This tutorial is an introduction to [Planet](https://www.planet.com)'s Data API using the official [Python client](https://github.com/planetlabs/planet-client-python), the `Planet` module. The Data API is used here to check for PlanetScope coverage in a known area of interest during a known time range.\n",
    "\n",
    "## Requirements\n",
    "\n",
    "An account on the [Planet Platform](https://www.planet.com/account/) is required to access any of Planet's API's. If you are not logged in, you will be prompted to do so below in the *SDK Authentication* section.\n",
    "\n",
    "## Useful links \n",
    "* [Planet SDK for Python](https://planet-sdk-for-python.readthedocs.io/en/stable/get-started/quick-start-guide/)\n",
    "* [Planet Python Client Repo](https://github.com/planetlabs/planet-client-python)\n",
    "* [Planet Data API Documentation](https://docs.planet.com/develop/apis/data/)"
   ]
  },
  {
   "cell_type": "markdown",
   "metadata": {},
   "source": [
    "This tutorial will cover the basic operations possible with the Python client interacting with the Data API."
   ]
  },
  {
   "cell_type": "markdown",
   "metadata": {},
   "source": [
    "The basic workflow for interacting with the Data API is:\n",
    "1. Search item types based on filters\n",
    "2. Activate assets\n",
    "3. Download assets\n",
    "\n",
    "Additional features like saving searches and getting summary statistics are included at the end of the tutorial."
   ]
  },
  {
   "cell_type": "markdown",
   "metadata": {},
   "source": [
    "____"
   ]
  },
  {
   "cell_type": "markdown",
   "metadata": {},
   "source": [
    "## Set up\n",
    "\n",
    "In order to interact with the Planet API using the Python client, we need to import the necessary packages, authenticate our Planet account credentials, and define helper functions."
   ]
  },
  {
   "cell_type": "markdown",
   "metadata": {},
   "source": [
    "### Imports"
   ]
  },
  {
   "cell_type": "code",
   "execution_count": 1,
   "metadata": {},
   "outputs": [],
   "source": [
    "import json\n",
    "import os\n",
    "\n",
    "from datetime import datetime\n",
    "from planet import Auth, Planet, Session, data_filter \n",
    "\n",
    "# We will also create a small helper function to print out JSON with proper indentation.\n",
    "def indent(data):\n",
    "    print(json.dumps(data, indent=2))"
   ]
  },
  {
   "cell_type": "markdown",
   "metadata": {},
   "source": [
    "### SDK Authentication\n",
    "\n",
    "Your Planet login is used to authenticate and activate the Python SDK. You will be prompted via a link below to login and confirm on the page that the code displayed matches the authorization code printed. \n",
    "If you would like to know more, please visit the [authentication documentation](https://docs.planet.com/develop/authentication)."
   ]
  },
  {
   "cell_type": "code",
   "execution_count": 2,
   "metadata": {},
   "outputs": [],
   "source": [
    "# OAuth2 python client authentication\n",
    "# If you are not already logged in, this will prompt you to open a web browser to log in.\n",
    "\n",
    "auth = Auth.from_profile('planet-user', save_state_to_storage=True)\n",
    "auth.ensure_initialized(allow_open_browser=False, allow_tty_prompt=True)\n",
    "\n",
    "session = Session(auth)\n",
    "pl = Planet(session)"
   ]
  },
  {
   "cell_type": "markdown",
   "metadata": {},
   "source": [
    "_____"
   ]
  },
  {
   "cell_type": "markdown",
   "metadata": {},
   "source": [
    "## Searching\n",
    "\n",
    "We can search for items that are interesting by using the `quick_search` member function. Searches, however, always require a proper request that includes a filter that selects the specific items to return as seach results."
   ]
  },
  {
   "cell_type": "markdown",
   "metadata": {},
   "source": [
    "#### Define Area of Interest"
   ]
  },
  {
   "cell_type": "markdown",
   "metadata": {},
   "source": [
    "There is a provided Geojson of San Francisco to use for this example. We will read a GeoJSON's geometry into a variable so we can use it during testing. \n",
    "<br><br>\n",
    "You can create your own custom geometry with a free tool [geojson.io](https://geojson.io/) instead if you wish."
   ]
  },
  {
   "cell_type": "code",
   "execution_count": 3,
   "metadata": {},
   "outputs": [],
   "source": [
    "geojson_path = os.path.join(os.getcwd(), \"data\", \"san-francisco.json\")\n",
    "\n",
    "with open(geojson_path) as f:\n",
    "    geom = json.loads(f.read())"
   ]
  },
  {
   "cell_type": "code",
   "execution_count": 4,
   "metadata": {},
   "outputs": [
    {
     "data": {
      "text/plain": [
       "{'type': 'Polygon',\n",
       " 'coordinates': [[[-122.47455596923828, 37.810326435534755],\n",
       "   [-122.49172210693358, 37.795406713958236],\n",
       "   [-122.52056121826172, 37.784282779035216],\n",
       "   [-122.51953124999999, 37.6971326434885],\n",
       "   [-122.38941192626953, 37.69441603823106],\n",
       "   [-122.38872528076173, 37.705010235842614],\n",
       "   [-122.36228942871092, 37.70935613533687],\n",
       "   [-122.34992980957031, 37.727280276860036],\n",
       "   [-122.37773895263672, 37.76230130281876],\n",
       "   [-122.38494873046875, 37.794592824285104],\n",
       "   [-122.40554809570311, 37.813310018173155],\n",
       "   [-122.46150970458983, 37.805715207044685],\n",
       "   [-122.47455596923828, 37.810326435534755]]]}"
      ]
     },
     "execution_count": 4,
     "metadata": {},
     "output_type": "execute_result"
    }
   ],
   "source": [
    "geom"
   ]
  },
  {
   "cell_type": "markdown",
   "metadata": {},
   "source": [
    "### Filters"
   ]
  },
  {
   "cell_type": "markdown",
   "metadata": {},
   "source": [
    "The possible filters include `and_filter`, `date_range_filter`, `range_filter` and so on, mirroring the options supported by the Planet API.\n",
    "- Here we are searching for \"PSScene\" item types with `and_filter` that are:\n",
    "    - `clear_percent` of 90 or more from cloud, haze, shadow, or snow.\n",
    "    - `acquired` after January 1st, 2017\n",
    "    - `cloud_cover` value of less than 0.1\n"
   ]
  },
  {
   "cell_type": "code",
   "execution_count": 5,
   "metadata": {},
   "outputs": [],
   "source": [
    "# Define the filters we'll use to find our data\n",
    "\n",
    "item_types = [\"PSScene\"]\n",
    "\n",
    "geom_filter = data_filter.geometry_filter(geom)\n",
    "clear_percent_filter = data_filter.range_filter('clear_percent', 90)\n",
    "date_range_filter = data_filter.date_range_filter(\"acquired\", gt=datetime(month=1, day=1, year=2017))\n",
    "cloud_cover_filter = data_filter.range_filter('cloud_cover', None, 0.1)\n",
    "\n",
    "combined_filter = data_filter.and_filter([geom_filter, clear_percent_filter, date_range_filter, cloud_cover_filter])"
   ]
  },
  {
   "cell_type": "code",
   "execution_count": 6,
   "metadata": {},
   "outputs": [
    {
     "data": {
      "text/plain": [
       "{'type': 'AndFilter',\n",
       " 'config': [{'type': 'GeometryFilter',\n",
       "   'field_name': 'geometry',\n",
       "   'config': {'type': 'Polygon',\n",
       "    'coordinates': [[[-122.47455596923828, 37.810326435534755],\n",
       "      [-122.49172210693358, 37.795406713958236],\n",
       "      [-122.52056121826172, 37.784282779035216],\n",
       "      [-122.51953124999999, 37.6971326434885],\n",
       "      [-122.38941192626953, 37.69441603823106],\n",
       "      [-122.38872528076173, 37.705010235842614],\n",
       "      [-122.36228942871092, 37.70935613533687],\n",
       "      [-122.34992980957031, 37.727280276860036],\n",
       "      [-122.37773895263672, 37.76230130281876],\n",
       "      [-122.38494873046875, 37.794592824285104],\n",
       "      [-122.40554809570311, 37.813310018173155],\n",
       "      [-122.46150970458983, 37.805715207044685],\n",
       "      [-122.47455596923828, 37.810326435534755]]]}},\n",
       "  {'type': 'RangeFilter', 'field_name': 'clear_percent', 'config': {'gt': 90}},\n",
       "  {'type': 'DateRangeFilter',\n",
       "   'field_name': 'acquired',\n",
       "   'config': {'gt': '2017-01-01T00:00:00Z'}},\n",
       "  {'type': 'RangeFilter', 'field_name': 'cloud_cover', 'config': {'lt': 0.1}}]}"
      ]
     },
     "execution_count": 6,
     "metadata": {},
     "output_type": "execute_result"
    }
   ],
   "source": [
    "combined_filter"
   ]
  },
  {
   "cell_type": "markdown",
   "metadata": {},
   "source": [
    "Now let's build the request block using `create_search`:"
   ]
  },
  {
   "cell_type": "code",
   "execution_count": 7,
   "metadata": {},
   "outputs": [],
   "source": [
    "search_request = pl.data.create_search(item_types=item_types, search_filter=combined_filter, name='planet_sdk_demo')"
   ]
  },
  {
   "cell_type": "code",
   "execution_count": 8,
   "metadata": {
    "scrolled": true
   },
   "outputs": [
    {
     "data": {
      "text/plain": [
       "{'__daily_email_enabled': False,\n",
       " '_links': {'_self': 'https://api.planet.com/data/v1/searches/9a898d5bfef74c0e93906ab99c19e2a5',\n",
       "  'results': 'https://api.planet.com/data/v1/searches/9a898d5bfef74c0e93906ab99c19e2a5/results'},\n",
       " 'created': '2025-10-29T21:27:24.906026Z',\n",
       " 'filter': {'config': [{'config': {'coordinates': [[[-122.47455596923828,\n",
       "        37.810326435534755],\n",
       "       [-122.49172210693358, 37.795406713958236],\n",
       "       [-122.52056121826172, 37.784282779035216],\n",
       "       [-122.51953124999999, 37.6971326434885],\n",
       "       [-122.38941192626953, 37.69441603823106],\n",
       "       [-122.38872528076173, 37.705010235842614],\n",
       "       [-122.36228942871092, 37.70935613533687],\n",
       "       [-122.34992980957031, 37.727280276860036],\n",
       "       [-122.37773895263672, 37.76230130281876],\n",
       "       [-122.38494873046875, 37.794592824285104],\n",
       "       [-122.40554809570311, 37.813310018173155],\n",
       "       [-122.46150970458983, 37.805715207044685],\n",
       "       [-122.47455596923828, 37.810326435534755]]],\n",
       "     'type': 'Polygon'},\n",
       "    'field_name': 'geometry',\n",
       "    'type': 'GeometryFilter'},\n",
       "   {'config': {'gt': 90.0},\n",
       "    'field_name': 'clear_percent',\n",
       "    'type': 'RangeFilter'},\n",
       "   {'config': {'gt': '2017-01-01T00:00:00.000000Z'},\n",
       "    'field_name': 'acquired',\n",
       "    'type': 'DateRangeFilter'},\n",
       "   {'config': {'lt': 0.1},\n",
       "    'field_name': 'cloud_cover',\n",
       "    'type': 'RangeFilter'}],\n",
       "  'type': 'AndFilter'},\n",
       " 'id': '9a898d5bfef74c0e93906ab99c19e2a5',\n",
       " 'item_types': ['PSScene'],\n",
       " 'last_executed': None,\n",
       " 'name': 'planet_sdk_demo',\n",
       " 'search_type': 'saved',\n",
       " 'updated': '2025-10-29T21:27:24.906026Z'}"
      ]
     },
     "execution_count": 8,
     "metadata": {},
     "output_type": "execute_result"
    }
   ],
   "source": [
    "search_request"
   ]
  },
  {
   "cell_type": "markdown",
   "metadata": {},
   "source": [
    "Then, we run the search that we just built using its `id`. We will be limiting the results to `50` for this example."
   ]
  },
  {
   "cell_type": "code",
   "execution_count": 9,
   "metadata": {},
   "outputs": [],
   "source": [
    "# Search the Data API\n",
    "\n",
    "# The limit paramter allows us to limit the number of results from our search that are returned.\n",
    "# The default limit is 100.\n",
    "\n",
    "search_id = search_request['id']\n",
    "limit = 50\n",
    "item_list = pl.data.run_search(search_id=search_id, limit=limit)\n",
    "item_list = list(item_list)"
   ]
  },
  {
   "cell_type": "markdown",
   "metadata": {},
   "source": [
    "Now, we can iterate through our search results:"
   ]
  },
  {
   "cell_type": "code",
   "execution_count": 10,
   "metadata": {
    "scrolled": true
   },
   "outputs": [
    {
     "name": "stdout",
     "output_type": "stream",
     "text": [
      "20251028_192515_32_24dc PSScene\n",
      "20251028_193853_99_24d3 PSScene\n",
      "20251028_193855_99_24d3 PSScene\n",
      "20251027_192345_89_252b PSScene\n",
      "20251027_192343_59_252b PSScene\n",
      "20251021_192241_94_2546 PSScene\n",
      "20251020_192339_04_2541 PSScene\n",
      "20251020_192336_72_2541 PSScene\n",
      "20251017_192356_05_250e PSScene\n",
      "20251017_192353_88_250e PSScene\n",
      "20251017_192217_37_250b PSScene\n",
      "20251017_192219_55_250b PSScene\n",
      "20251016_193446_16_24f6 PSScene\n",
      "20251016_193448_23_24f6 PSScene\n",
      "20251012_192305_82_2549 PSScene\n",
      "20251012_192303_51_2549 PSScene\n",
      "20251012_192524_21_251e PSScene\n",
      "20251012_192521_91_251e PSScene\n",
      "20251010_192423_53_2508 PSScene\n",
      "20251010_192427_80_2508 PSScene\n",
      "20251010_192425_67_2508 PSScene\n",
      "20251007_192406_92_24b8 PSScene\n",
      "20251007_192409_23_24b8 PSScene\n",
      "20251006_192656_13_253d PSScene\n",
      "20251006_192224_45_250a PSScene\n",
      "20251006_192347_92_24dc PSScene\n",
      "20251006_192345_76_24dc PSScene\n",
      "20251006_192812_70_252d PSScene\n",
      "20251006_192810_38_252d PSScene\n",
      "20251005_192225_17_24fe PSScene\n",
      "20251005_192227_47_24fe PSScene\n",
      "20251004_193524_57_24f4 PSScene\n",
      "20251004_193522_49_24f4 PSScene\n",
      "20251004_192542_54_2518 PSScene\n",
      "20251004_192538_27_2518 PSScene\n",
      "20251004_192540_40_2518 PSScene\n",
      "20250927_192606_07_253d PSScene\n",
      "20250926_192540_31_2527 PSScene\n",
      "20250926_192538_01_2527 PSScene\n",
      "20250926_192326_27_2531 PSScene\n",
      "20250926_192323_96_2531 PSScene\n",
      "20250923_192443_55_24b8 PSScene\n",
      "20250923_192445_87_24b8 PSScene\n",
      "20250923_192323_44_24fa PSScene\n",
      "20250923_192321_28_24fa PSScene\n",
      "20250919_191703_17_250a PSScene\n",
      "20250919_191700_97_250a PSScene\n",
      "20250917_192935_26_24df PSScene\n",
      "20250917_192200_03_24d1 PSScene\n",
      "20250916_191655_04_2515 PSScene\n"
     ]
    }
   ],
   "source": [
    "for item in item_list:\n",
    "    print(item['id'], item['properties']['item_type'])"
   ]
  },
  {
   "cell_type": "markdown",
   "metadata": {},
   "source": [
    "If the number of items requested is more than 250, the client will automatically fetch more pages of results in order to get the exact number requested."
   ]
  },
  {
   "cell_type": "markdown",
   "metadata": {},
   "source": [
    "_____"
   ]
  },
  {
   "cell_type": "markdown",
   "metadata": {
    "collapsed": true,
    "jupyter": {
     "outputs_hidden": true
    }
   },
   "source": [
    "## Assets and downloads\n",
    "\n",
    "After a search returns results, the Python client can be used to check for assets and initiate downloads. Let's start by looking at one item and the assets available to download for that item.\n",
    "\n",
    "For more information on Items and Assets, check out [Items & Assets](https://developers.planet.com/docs/apis/data/items-assets/) on the Planet Developer Center."
   ]
  },
  {
   "cell_type": "code",
   "execution_count": 11,
   "metadata": {},
   "outputs": [
    {
     "data": {
      "text/plain": [
       "{'acquired': '2025-10-28T19:25:15.324109Z',\n",
       " 'anomalous_pixels': 0,\n",
       " 'clear_confidence_percent': 93,\n",
       " 'clear_percent': 99,\n",
       " 'cloud_cover': 0,\n",
       " 'cloud_percent': 0,\n",
       " 'ground_control': True,\n",
       " 'gsd': 3.6,\n",
       " 'heavy_haze_percent': 0,\n",
       " 'instrument': 'PSB.SD',\n",
       " 'item_type': 'PSScene',\n",
       " 'light_haze_percent': 0,\n",
       " 'pixel_resolution': 3,\n",
       " 'provider': 'planetscope',\n",
       " 'published': '2025-10-29T02:12:59Z',\n",
       " 'publishing_stage': 'finalized',\n",
       " 'quality_category': 'test',\n",
       " 'satellite_azimuth': 277.9,\n",
       " 'satellite_id': '24dc',\n",
       " 'shadow_percent': 0,\n",
       " 'snow_ice_percent': 1,\n",
       " 'strip_id': '8390078',\n",
       " 'sun_azimuth': 171,\n",
       " 'sun_elevation': 38.4,\n",
       " 'updated': '2025-10-29T10:02:27Z',\n",
       " 'view_angle': 5,\n",
       " 'visible_confidence_percent': 77,\n",
       " 'visible_percent': 100}"
      ]
     },
     "execution_count": 11,
     "metadata": {},
     "output_type": "execute_result"
    }
   ],
   "source": [
    "item_list[0]['properties']"
   ]
  },
  {
   "cell_type": "code",
   "execution_count": 12,
   "metadata": {},
   "outputs": [
    {
     "name": "stdout",
     "output_type": "stream",
     "text": [
      "20251028_192515_32_24dc PSScene\n"
     ]
    }
   ],
   "source": [
    "# As an example, let's look at the first result in our item_list and grab the item_id and item_type:\n",
    "item = item_list[0]\n",
    "\n",
    "item_id = item['id']\n",
    "item_type = item['properties']['item_type']\n",
    "\n",
    "print(item_id, item_type)"
   ]
  },
  {
   "cell_type": "code",
   "execution_count": 13,
   "metadata": {},
   "outputs": [
    {
     "data": {
      "text/plain": [
       "['assets.ortho_visual:download',\n",
       " 'assets.ortho_analytic_4b:download',\n",
       " 'assets.ortho_analytic_4b_xml:download',\n",
       " 'assets.basic_analytic_4b:download',\n",
       " 'assets.basic_analytic_4b_xml:download',\n",
       " 'assets.basic_analytic_4b_rpc:download',\n",
       " 'assets.ortho_analytic_4b_sr:download',\n",
       " 'assets.ortho_udm2:download',\n",
       " 'assets.basic_udm2:download',\n",
       " 'assets.ortho_analytic_8b:download',\n",
       " 'assets.ortho_analytic_8b_xml:download',\n",
       " 'assets.basic_analytic_8b:download',\n",
       " 'assets.basic_analytic_8b_xml:download',\n",
       " 'assets.ortho_analytic_8b_sr:download']"
      ]
     },
     "execution_count": 13,
     "metadata": {},
     "output_type": "execute_result"
    }
   ],
   "source": [
    "# The list of assets for an item that a user has access to can be retrieved with `permissions`\n",
    "item['_permissions']"
   ]
  },
  {
   "cell_type": "markdown",
   "metadata": {},
   "source": [
    "There are a few steps involved in order to download an asset using the Planet Python Client:\n",
    "\n",
    "* **Get Asset:** Get a description of our asset based on the specifications we're looking for\n",
    "* **Activate Asset:** Activate the asset with the given description\n",
    "* **Wait Asset:** Wait for the asset to be activated\n",
    "* **Download Asset:** Now our asset is ready for download!\n",
    "\n",
    "Let's go through these steps below. We'll do this for our analytic asset, as well as the analytic_xml asset."
   ]
  },
  {
   "cell_type": "code",
   "execution_count": 14,
   "metadata": {},
   "outputs": [
    {
     "name": "stdout",
     "output_type": "stream",
     "text": [
      "20251028_192515_32_24dc activated\n",
      "Awaiting ortho_analytic_4b activation\n"
     ]
    },
    {
     "name": "stderr",
     "output_type": "stream",
     "text": [
      "output/20251028_192515_32_24dc_3B_AnalyticMS.tif: 100%|██████████| 489k/489k [00:09<00:00, 53.0MB/s] "
     ]
    },
    {
     "name": "stdout",
     "output_type": "stream",
     "text": [
      "20251028_192515_32_24dc downloaded to: output/20251028_192515_32_24dc_3B_AnalyticMS.tif\n"
     ]
    },
    {
     "name": "stderr",
     "output_type": "stream",
     "text": [
      "\n"
     ]
    }
   ],
   "source": [
    "# Analytic Asset\n",
    "asset_type_id = 'ortho_analytic_4b'\n",
    "asset_desc = pl.data.get_asset(item_type_id=item_type, item_id=item_id, asset_type_id=asset_type_id)\n",
    "\n",
    "pl.data.activate_asset(asset_desc)\n",
    "print(f'{item_id} activated')\n",
    "\n",
    "print(f'Awaiting {asset_type_id} activation')\n",
    "pl.data.wait_asset(asset_desc)\n",
    "\n",
    "asset_path = pl.data.download_asset(asset=asset_desc, directory='output', overwrite=True)\n",
    "print(f'{item_id} downloaded to: {asset_path}')"
   ]
  },
  {
   "cell_type": "code",
   "execution_count": 15,
   "metadata": {},
   "outputs": [
    {
     "name": "stdout",
     "output_type": "stream",
     "text": [
      "20251028_192515_32_24dc activated\n",
      "Awaiting ortho_analytic_4b_xml activation\n"
     ]
    },
    {
     "name": "stderr",
     "output_type": "stream",
     "text": [
      "output/20251028_192515_32_24dc_3B_AnalyticMS_metadata.xml: 100%|██████████| 0.01k/0.01k [00:00<00:00, 12.8MB/s]"
     ]
    },
    {
     "name": "stdout",
     "output_type": "stream",
     "text": [
      "20251028_192515_32_24dc downloaded to: output/20251028_192515_32_24dc_3B_AnalyticMS_metadata.xml\n"
     ]
    },
    {
     "name": "stderr",
     "output_type": "stream",
     "text": [
      "\n"
     ]
    }
   ],
   "source": [
    "# Analytic XML Asset\n",
    "asset_type_id = 'ortho_analytic_4b_xml'\n",
    "asset_desc = pl.data.get_asset(item_type_id=item_type, item_id=item_id, asset_type_id=asset_type_id)\n",
    "\n",
    "pl.data.activate_asset(asset_desc)\n",
    "print(f'{item_id} activated')\n",
    "\n",
    "print(f'Awaiting {asset_type_id} activation')\n",
    "pl.data.wait_asset(asset_desc)\n",
    "\n",
    "asset_path = pl.data.download_asset(asset=asset_desc, directory='output', overwrite=True)\n",
    "print(f'{item_id} downloaded to: {asset_path}')"
   ]
  },
  {
   "cell_type": "markdown",
   "metadata": {},
   "source": [
    "Congratulations! Both the `ortho_analytic_4b` and `ortho_analytic_4b_xml` assets should be saved in our `output` directory."
   ]
  },
  {
   "cell_type": "markdown",
   "metadata": {},
   "source": [
    "_______"
   ]
  },
  {
   "cell_type": "markdown",
   "metadata": {},
   "source": [
    "# Other Data-API Features"
   ]
  },
  {
   "cell_type": "markdown",
   "metadata": {},
   "source": [
    "## Saved Searches\n",
    "\n",
    "The Data API client can also help in managing saved searches on the Planet Platform."
   ]
  },
  {
   "cell_type": "code",
   "execution_count": 16,
   "metadata": {},
   "outputs": [
    {
     "name": "stdout",
     "output_type": "stream",
     "text": [
      "number of searches: 28\n"
     ]
    }
   ],
   "source": [
    "data_searches = [search for search in pl.data.list_searches()]\n",
    "\n",
    "# We may have a lot of saved searches!\n",
    "print(f'number of searches: {len(data_searches)}')"
   ]
  },
  {
   "cell_type": "markdown",
   "metadata": {},
   "source": [
    "View your saved searches. Here we're viewing our first 50 results."
   ]
  },
  {
   "cell_type": "code",
   "execution_count": null,
   "metadata": {
    "scrolled": true
   },
   "outputs": [],
   "source": [
    "for search in data_searches[:50]:\n",
    "    print(search['id'], search['name'])"
   ]
  },
  {
   "cell_type": "markdown",
   "metadata": {},
   "source": [
    "We can find the saved search we're looking for by filtering on our search id:"
   ]
  },
  {
   "cell_type": "code",
   "execution_count": 18,
   "metadata": {},
   "outputs": [],
   "source": [
    "search = pl.data.get_search(data_searches[0]['id'])"
   ]
  },
  {
   "cell_type": "code",
   "execution_count": 23,
   "metadata": {},
   "outputs": [
    {
     "data": {
      "text/plain": [
       "{'__daily_email_enabled': False,\n",
       " '_links': {'_self': '<redacted>', 'results': '<redacted>'},\n",
       " 'created': '2025-10-01T18:27:48.527670Z',\n",
       " 'filter': {'config': [{'config': {'coordinates': [[[-122.47455596923828,\n",
       "        37.810326435534755],\n",
       "       [-122.49172210693358, 37.795406713958236],\n",
       "       [-122.52056121826172, 37.784282779035216],\n",
       "       [-122.51953124999999, 37.6971326434885],\n",
       "       [-122.38941192626953, 37.69441603823106],\n",
       "       [-122.38872528076173, 37.705010235842614],\n",
       "       [-122.36228942871092, 37.70935613533687],\n",
       "       [-122.34992980957031, 37.727280276860036],\n",
       "       [-122.37773895263672, 37.76230130281876],\n",
       "       [-122.38494873046875, 37.794592824285104],\n",
       "       [-122.40554809570311, 37.813310018173155],\n",
       "       [-122.46150970458983, 37.805715207044685],\n",
       "       [-122.47455596923828, 37.810326435534755]]],\n",
       "     'type': 'Polygon'},\n",
       "    'field_name': 'geometry',\n",
       "    'type': 'GeometryFilter'},\n",
       "   {'config': {'gt': 90.0},\n",
       "    'field_name': 'clear_percent',\n",
       "    'type': 'RangeFilter'},\n",
       "   {'config': {'gt': '2017-01-01T00:00:00.000000Z'},\n",
       "    'field_name': 'acquired',\n",
       "    'type': 'DateRangeFilter'},\n",
       "   {'config': {'lt': 0.1},\n",
       "    'field_name': 'cloud_cover',\n",
       "    'type': 'RangeFilter'}],\n",
       "  'type': 'AndFilter'},\n",
       " 'id': '8aea1b2080fd423cb999f5e61ceeea20',\n",
       " 'item_types': ['PSScene'],\n",
       " 'last_executed': '2025-10-01T18:28:21.633590Z',\n",
       " 'name': 'planet_sdk_demo',\n",
       " 'search_type': 'saved',\n",
       " 'updated': '2025-10-01T18:28:21.633783Z'}"
      ]
     },
     "execution_count": 23,
     "metadata": {},
     "output_type": "execute_result"
    }
   ],
   "source": [
    "search"
   ]
  },
  {
   "cell_type": "markdown",
   "metadata": {},
   "source": [
    "# Statistics\n",
    "\n",
    "The Data API client can also help report statistical summaries of the amount of data in the Planet API."
   ]
  },
  {
   "cell_type": "code",
   "execution_count": 20,
   "metadata": {},
   "outputs": [],
   "source": [
    "stats = pl.data.get_stats(interval='year', search_filter=combined_filter, item_types=item_types)"
   ]
  },
  {
   "cell_type": "code",
   "execution_count": 21,
   "metadata": {},
   "outputs": [
    {
     "name": "stdout",
     "output_type": "stream",
     "text": [
      "{\n",
      "  \"buckets\": [\n",
      "    {\n",
      "      \"count\": 374,\n",
      "      \"start_time\": \"2017-01-01T00:00:00.000000Z\"\n",
      "    },\n",
      "    {\n",
      "      \"count\": 475,\n",
      "      \"start_time\": \"2018-01-01T00:00:00.000000Z\"\n",
      "    },\n",
      "    {\n",
      "      \"count\": 624,\n",
      "      \"start_time\": \"2019-01-01T00:00:00.000000Z\"\n",
      "    },\n",
      "    {\n",
      "      \"count\": 742,\n",
      "      \"start_time\": \"2020-01-01T00:00:00.000000Z\"\n",
      "    },\n",
      "    {\n",
      "      \"count\": 659,\n",
      "      \"start_time\": \"2021-01-01T00:00:00.000000Z\"\n",
      "    },\n",
      "    {\n",
      "      \"count\": 450,\n",
      "      \"start_time\": \"2022-01-01T00:00:00.000000Z\"\n",
      "    },\n",
      "    {\n",
      "      \"count\": 297,\n",
      "      \"start_time\": \"2023-01-01T00:00:00.000000Z\"\n",
      "    },\n",
      "    {\n",
      "      \"count\": 421,\n",
      "      \"start_time\": \"2024-01-01T00:00:00.000000Z\"\n",
      "    },\n",
      "    {\n",
      "      \"count\": 274,\n",
      "      \"start_time\": \"2025-01-01T00:00:00.000000Z\"\n",
      "    }\n",
      "  ],\n",
      "  \"interval\": \"year\",\n",
      "  \"utc_offset\": \"+0h\"\n",
      "}\n"
     ]
    }
   ],
   "source": [
    "indent(stats)"
   ]
  }
 ],
 "metadata": {
  "kernelspec": {
   "display_name": ".venv",
   "language": "python",
   "name": "python3"
  },
  "language_info": {
   "codemirror_mode": {
    "name": "ipython",
    "version": 3
   },
   "file_extension": ".py",
   "mimetype": "text/x-python",
   "name": "python",
   "nbconvert_exporter": "python",
   "pygments_lexer": "ipython3",
   "version": "3.13.0"
  }
 },
 "nbformat": 4,
 "nbformat_minor": 4
}
