{
 "cells": [
  {
   "cell_type": "markdown",
   "metadata": {},
   "source": [
    "# Orders API - Sentinel Hub Hosting\n",
    "\n",
    "This notebook demonstrates using the hosting block in the Planet Orders API to deliver data to Sentinel Hub collections.\n",
    "\n",
    "- Creating PlanetScope orders and delivering data to Sentinel Hub\n",
    "  - Creating the order payloads\n",
    "  - Submitting the payload to create the order\n",
    "  - Checking the status of order"
   ]
  },
  {
   "cell_type": "code",
   "execution_count": 54,
   "metadata": {},
   "outputs": [],
   "source": [
    "import os\n",
    "\n",
    "# Planet Python SDK\n",
    "import planet\n",
    "if float(planet.__version__) < 2.8: print(\"Please update Planet python package to 2.8 or greater\")\n",
    "\n",
    "import logging\n",
    "logging.basicConfig(\n",
    "    level=logging.INFO, format=\"%(asctime)s - %(levelname)s - %(message)s\"\n",
    ")"
   ]
  },
  {
   "cell_type": "markdown",
   "metadata": {},
   "source": [
    "## Creating PlanetScope orders and delivering data to Sentinel Hub\n",
    "\n",
    "We will order a handful of SkySatCollect items. We will split the items into two orders to demonstrate how to re-use an existing collection."
   ]
  },
  {
   "cell_type": "code",
   "execution_count": 61,
   "metadata": {},
   "outputs": [],
   "source": [
    "# Set up authentication\n",
    "pl_api_key = os.getenv(\"PL_API_KEY\")\n",
    "auth = planet.Auth.from_key(pl_api_key)"
   ]
  },
  {
   "cell_type": "code",
   "execution_count": 50,
   "metadata": {},
   "outputs": [
    {
     "name": "stderr",
     "output_type": "stream",
     "text": [
      "2024-06-10 13:13:16,237 - INFO - Session read timeout set to 30.0.\n",
      "2024-06-10 13:13:16,252 - INFO - POST https://api.planet.com/compute/ops/orders/v2 - Sent\n",
      "2024-06-10 13:13:21,444 - INFO - HTTP Request: POST https://api.planet.com/compute/ops/orders/v2 \"HTTP/1.1 202 Accepted\"\n",
      "2024-06-10 13:13:21,444 - INFO - POST https://api.planet.com/compute/ops/orders/v2 - Status 202\n",
      "2024-06-10 13:13:21,448 - INFO - POST https://api.planet.com/compute/ops/orders/v2 - Sent\n"
     ]
    },
    {
     "name": "stdout",
     "output_type": "stream",
     "text": [
      "Collection ID: 396da26c-56ec-415b-8343-9fcbec78c802\n"
     ]
    },
    {
     "name": "stderr",
     "output_type": "stream",
     "text": [
      "2024-06-10 13:13:23,916 - INFO - HTTP Request: POST https://api.planet.com/compute/ops/orders/v2 \"HTTP/1.1 202 Accepted\"\n",
      "2024-06-10 13:13:23,917 - INFO - POST https://api.planet.com/compute/ops/orders/v2 - Status 202\n"
     ]
    },
    {
     "name": "stdout",
     "output_type": "stream",
     "text": [
      "{'_links': {'_self': 'https://api.planet.com/compute/ops/orders/v2/a7d3244a-b5ab-4d87-a92b-40ab3373ed8d'}, 'created_on': '2024-06-10T18:13:21.103Z', 'error_hints': [], 'hosting': {'sentinel_hub': {'collection_id': '396da26c-56ec-415b-8343-9fcbec78c802'}}, 'id': 'a7d3244a-b5ab-4d87-a92b-40ab3373ed8d', 'last_message': 'Preparing order', 'last_modified': '2024-06-10T18:13:21.103Z', 'name': 'order-skysat-to-sentinel-hub-1', 'products': [{'item_ids': ['20240526_205646_ssc9_u0002', '20240526_205646_ssc9_u0001', '20240526_205624_ssc9_u0002', '20240526_205624_ssc9_u0001', '20240526_155658_ssc2_u0002'], 'item_type': 'SkySatCollect', 'product_bundle': 'pansharpened_udm2'}], 'state': 'queued', 'tools': [{'file_format': {'format': 'COG'}}]}\n",
      "{'_links': {'_self': 'https://api.planet.com/compute/ops/orders/v2/8da27807-2914-4713-8558-dd1b16f2a7de'}, 'created_on': '2024-06-10T18:13:23.599Z', 'error_hints': [], 'hosting': {'sentinel_hub': {'collection_id': '396da26c-56ec-415b-8343-9fcbec78c802'}}, 'id': '8da27807-2914-4713-8558-dd1b16f2a7de', 'last_message': 'Preparing order', 'last_modified': '2024-06-10T18:13:23.599Z', 'name': 'order-skysat-to-sentinel-hub-2', 'products': [{'item_ids': ['20240526_155658_ssc2_u0001', '20240526_155647_ssc2_u0002', '20240526_155647_ssc2_u0001', '20240526_155639_ssc2_u0001', '20240526_155547_ssc2_u0001'], 'item_type': 'SkySatCollect', 'product_bundle': 'pansharpened_udm2'}], 'state': 'queued', 'tools': [{'file_format': {'format': 'COG'}}]}\n"
     ]
    }
   ],
   "source": [
    "from planet import Auth, order_request, OrdersClient\n",
    "import os\n",
    "\n",
    "auth = Auth.from_key(os.getenv(\"PL_API_KEY\"))\n",
    "\n",
    "# Define the items and products to order\n",
    "# This example uses SkySat items and the pansharpened_udm2 bundle\n",
    "item_ids_order1 = [\"20240526_205646_ssc9_u0002\", \"20240526_205646_ssc9_u0001\", \"20240526_205624_ssc9_u0002\", \"20240526_205624_ssc9_u0001\", \"20240526_155658_ssc2_u0002\"]\n",
    "item_ids_order2 = [\"20240526_155658_ssc2_u0001\", \"20240526_155647_ssc2_u0002\", \"20240526_155647_ssc2_u0001\", \"20240526_155639_ssc2_u0001\", \"20240526_155547_ssc2_u0001\"]\n",
    "products_order1 = [order_request.product(item_ids_order1, 'pansharpened_udm2', 'SkySatCollect')]\n",
    "products_order2 = [order_request.product(item_ids_order2, 'pansharpened_udm2', 'SkySatCollect')]\n",
    "\n",
    "# build the first request, note that hosting is set to \"sentinel_hub\" and no collection_id id provided, meaning\n",
    "# a new collection will be created on your behalf\n",
    "request_1 = order_request.build_request(\"order-skysat-to-sentinel-hub-1\", products=products_order1, hosting=\"sentinel_hub\")\n",
    "\n",
    "# orders after they are created will be added to this list to use in other cells\n",
    "orders = []\n",
    "\n",
    "async with planet.Session(auth=auth) as sess:\n",
    "    cl = OrdersClient(sess)\n",
    "\n",
    "    # create the first order\n",
    "    order1 = await cl.create_order(request_1)\n",
    "    orders.append(order1)\n",
    "    # access the collection_id created on your behalf\n",
    "    collection_id = order1[\"hosting\"][\"sentinel_hub\"][\"collection_id\"]\n",
    "    print(f\"Collection ID: {collection_id}\")\n",
    "\n",
    "    # use the collection_id from the first order to create the second order\n",
    "    # if the items you are ordering are compatible will an existing collection, you can send more data to an existing collection\n",
    "    request_2 = order_request.build_request(\n",
    "        \"order-skysat-to-sentinel-hub-2\", products=products_order2, hosting=\"sentinel_hub\", collection_id=collection_id\n",
    "    )\n",
    "\n",
    "    # create the second order\n",
    "    order2 = await cl.create_order(request_2)\n",
    "    orders.append(order2)\n",
    "\n",
    "# print the orders for inspection (if desired)\n",
    "for ord in orders:\n",
    "    print(ord)\n"
   ]
  },
  {
   "cell_type": "code",
   "execution_count": 67,
   "metadata": {},
   "outputs": [
    {
     "name": "stderr",
     "output_type": "stream",
     "text": [
      "2024-06-10 13:51:04,029 - INFO - Session read timeout set to 30.0.\n",
      "2024-06-10 13:51:04,042 - INFO - GET https://api.planet.com/compute/ops/orders/v2/8da27807-2914-4713-8558-dd1b16f2a7de - Sent\n",
      "2024-06-10 13:51:04,132 - INFO - HTTP Request: GET https://api.planet.com/compute/ops/orders/v2/8da27807-2914-4713-8558-dd1b16f2a7de \"HTTP/1.1 200 OK\"\n",
      "2024-06-10 13:51:04,133 - INFO - GET https://api.planet.com/compute/ops/orders/v2/8da27807-2914-4713-8558-dd1b16f2a7de - Status 200\n",
      "2024-06-10 13:51:04,146 - INFO - GET https://api.planet.com/compute/ops/orders/v2/8da27807-2914-4713-8558-dd1b16f2a7de - Sent\n",
      "2024-06-10 13:51:04,195 - INFO - HTTP Request: GET https://api.planet.com/compute/ops/orders/v2/8da27807-2914-4713-8558-dd1b16f2a7de \"HTTP/1.1 200 OK\"\n",
      "2024-06-10 13:51:04,196 - INFO - GET https://api.planet.com/compute/ops/orders/v2/8da27807-2914-4713-8558-dd1b16f2a7de - Status 200\n"
     ]
    },
    {
     "name": "stdout",
     "output_type": "stream",
     "text": [
      "------\n",
      "Collection ID: 396da26c-56ec-415b-8343-9fcbec78c802\n",
      "Order ID: a7d3244a-b5ab-4d87-a92b-40ab3373ed8d (success)\n",
      "Order ID: 8da27807-2914-4713-8558-dd1b16f2a7de (success)\n"
     ]
    }
   ],
   "source": [
    "# Check the status of the orders - rerun this cell as much as you would like to check on the status\n",
    "# of your orders. This will print out the order ID and the current state of each order.\n",
    "\n",
    "async with planet.Session(auth=auth) as sess:\n",
    "    cl = OrdersClient(sess)\n",
    "\n",
    "    states = []\n",
    "    for order in orders:\n",
    "        order_details = await cl.get_order(ord[\"id\"])\n",
    "        order_state = order_details[\"state\"]\n",
    "        states.append(f\"Order ID: {order['id']} ({order_state})\")\n",
    "\n",
    "# print out the results\n",
    "print(\"------\")\n",
    "print(f\"Collection ID: {collection_id}\")\n",
    "for state in states:\n",
    "    print(state)"
   ]
  },
  {
   "cell_type": "markdown",
   "metadata": {},
   "source": [
    "When the orders are in a 'success' state, you can access the data you ordered through the Orders API in Sentinel Hub. You can view the data by going to the 'Tiles' tab for the created collection. The collection name will be the name of the first order (collections inherit the order name if not created manually in the UI).  \n",
    "Url: https://apps.sentinel-hub.com/dashboard/#/collections/collection/{your_collection_id}/"
   ]
  }
 ],
 "metadata": {
  "kernelspec": {
   "display_name": "Python 3",
   "language": "python",
   "name": "python3"
  },
  "language_info": {
   "codemirror_mode": {
    "name": "ipython",
    "version": 3
   },
   "file_extension": ".py",
   "mimetype": "text/x-python",
   "name": "python",
   "nbconvert_exporter": "python",
   "pygments_lexer": "ipython3",
   "version": "3.10.14"
  }
 },
 "nbformat": 4,
 "nbformat_minor": 2
}
