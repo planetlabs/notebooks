{
 "cells": [
  {
   "cell_type": "markdown",
   "metadata": {
    "id": "bEcGVnFww2gV"
   },
   "source": [
    "# Orders API with Planet SDK \n",
    "\n",
    "Getting started with the Orders API using the Planet SDK.\n",
    "This tutorial uses [Planet](https://www.planet.com)'s Orders API with the official [Python client](https://github.com/planetlabs/planet-client-python)."
   ]
  },
  {
   "cell_type": "markdown",
   "metadata": {},
   "source": [
    "## Requirements\n",
    "\n",
    "An account on the [Planet Platform](https://www.planet.com/account/) is required to access any of Planet's API's. If you are not logged in, you will be prompted to do so below in the *SDK Authentication* section.\n",
    "\n",
    "## Useful links \n",
    "* [Planet SDK for Python](https://planet-sdk-for-python.readthedocs.io/en/stable/get-started/quick-start-guide/)\n",
    "* [Planet Python Client Repo](https://github.com/planetlabs/planet-client-python)\n",
    "* [Planet Orders API Documentation](https://docs.planet.com/develop/apis/orders/)"
   ]
  },
  {
   "cell_type": "markdown",
   "metadata": {},
   "source": [
    "___"
   ]
  },
  {
   "cell_type": "markdown",
   "metadata": {},
   "source": [
    "# Set up\n",
    "\n",
    "In order to interact with the Planet API using the Python client, we need to import the necessary packages and authenticate our Planet account credentials."
   ]
  },
  {
   "cell_type": "code",
   "execution_count": 20,
   "metadata": {},
   "outputs": [],
   "source": [
    "import os\n",
    "from planet import Auth, Planet, Session, order_request, reporting"
   ]
  },
  {
   "cell_type": "markdown",
   "metadata": {
    "id": "oA6ODbRP0mN9"
   },
   "source": [
    "Your Planet login is used to authenticate and activate the Python SDK.\n",
    "If you are not currently logged in to your Planet account, you will be prompted via a login link to do so. Confirm on the page that the code displayed matches the authorization code below. \n",
    "If you would like to know more, please visit the [authentication documentation](https://docs.planet.com/develop/authentication)."
   ]
  },
  {
   "cell_type": "code",
   "execution_count": null,
   "metadata": {},
   "outputs": [],
   "source": [
    "# OAuth2 python client authentication\n",
    "# If you are not already logged in, this will prompt you to open a web browser to log in.\n",
    "\n",
    "auth = Auth.from_profile('planet-user', save_state_to_storage=True)\n",
    "auth.ensure_initialized(allow_open_browser=False, allow_tty_prompt=True)\n",
    "\n",
    "session = Session(auth)\n",
    "pl = Planet(session)"
   ]
  },
  {
   "cell_type": "markdown",
   "metadata": {
    "id": "6z6I9B_636Ck"
   },
   "source": [
    "## Building an Order request"
   ]
  },
  {
   "cell_type": "markdown",
   "metadata": {
    "id": "9xOEqQiw5yid"
   },
   "source": [
    "#### Manual JSON Order requests\n",
    "\n",
    "You can build an Order request manually by using a blob of JSON -- you may have used this with Python Client V1, or with `requests` directly to the API:"
   ]
  },
  {
   "cell_type": "code",
   "execution_count": null,
   "metadata": {
    "id": "nh6waD-QzSh-"
   },
   "outputs": [],
   "source": [
    "# No need to write this all out with the SDK!\n",
    "\n",
    "request = {\n",
    "  \"name\": \"test_order_sdk_method_1\",\n",
    "  \"products\": [\n",
    "    {\n",
    "     \"item_ids\":[\n",
    "        \"20200922_183724_23_106a\",\n",
    "        \"20200922_183722_17_106a\"\n",
    "         ],\n",
    "      \"item_type\": \"PSScene\",\n",
    "      \"product_bundle\": \"analytic_udm2\"\n",
    "    }\n",
    "  ],\n",
    "   \"tools\": [\n",
    "    {\n",
    "      \"reproject\": {\n",
    "        \"projection\": \"EPSG:4326\",\n",
    "        \"kernel\": \"cubic\"\n",
    "      }\n",
    "    }\n",
    "  ]\n",
    "}"
   ]
  },
  {
   "cell_type": "markdown",
   "metadata": {
    "id": "1yCzN0Ag64wf"
   },
   "source": [
    "### Orders with Planet SDK\n",
    "\n",
    "In SDK V2 and newer, you can build an Order request block using `build_request`. You can specify all Order details including products, bundles/fallback bundles, optional cloud delivery configuration, tools & toolchain operations, etc. [Read more in the docs here](https://docs.planet.com/develop/apis/orders/)."
   ]
  },
  {
   "cell_type": "markdown",
   "metadata": {},
   "source": [
    "#### Build the Order Request\n",
    "\n",
    "Here we will build an order request. We will define for this example:\n",
    "- Products, with 2 `item_ids`,  with the `product_bundle` of 'analytic_udm2', and the `item_type` of 'PSScene'\n",
    "- Optional `tools`, which in this case is the `reproject_tool` \n",
    "    - `order_request.clip_tool` could also be used here and added to the `tools` list.\n",
    "    - This would require a GeoJson aoi."
   ]
  },
  {
   "cell_type": "code",
   "execution_count": 15,
   "metadata": {},
   "outputs": [
    {
     "name": "stdout",
     "output_type": "stream",
     "text": [
      "Object `order_request.product` not found.\n"
     ]
    }
   ],
   "source": [
    "order_request.product?"
   ]
  },
  {
   "cell_type": "code",
   "execution_count": 22,
   "metadata": {
    "id": "FwFi1bktMY2u"
   },
   "outputs": [],
   "source": [
    "# Define request details to properly build your request\n",
    "\n",
    "item_ids = [\"20200922_183724_23_106a\", \"20200922_183722_17_106a\"]\n",
    "\n",
    "products = [\n",
    "    order_request.product(item_ids, 'analytic_udm2', 'PSScene')\n",
    "]\n",
    "\n",
    "tools = [\n",
    "    order_request.reproject_tool(projection='EPSG:4326', kernel='cubic')\n",
    "]\n",
    "\n",
    "request = order_request.build_request(\n",
    "    'test_order_from_sdk', products=products, tools=tools)\n"
   ]
  },
  {
   "cell_type": "code",
   "execution_count": 23,
   "metadata": {},
   "outputs": [
    {
     "data": {
      "text/plain": [
       "{'name': 'test_order_from_sdk',\n",
       " 'products': [{'item_ids': ['20200922_183724_23_106a',\n",
       "    '20200922_183722_17_106a'],\n",
       "   'item_type': 'PSScene',\n",
       "   'product_bundle': 'analytic_udm2'}],\n",
       " 'tools': [{'reproject': {'projection': 'EPSG:4326', 'kernel': 'cubic'}}]}"
      ]
     },
     "execution_count": 23,
     "metadata": {},
     "output_type": "execute_result"
    }
   ],
   "source": [
    "# View your built order_request:\n",
    "request"
   ]
  },
  {
   "cell_type": "markdown",
   "metadata": {
    "id": "f_k8HHcL8gQ5"
   },
   "source": [
    "### Create the Order\n",
    "\n",
    "The next step after building an Order is to send it to the Orders API to create it using 'create_order'.\n",
    "\n",
    "To do this, we'll create a `Session` to manage our communcation with Planet in general -- this will make use of that `auth` object we created earlier. Within the context of this Session, we'll create an Orders API-specific `client` to handle interactions with the Orders API.\n",
    "\n",
    "After the order is created, we can view the returned dictionary of created_order, which will contain the new `order_id`."
   ]
  },
  {
   "cell_type": "code",
   "execution_count": 24,
   "metadata": {},
   "outputs": [],
   "source": [
    "created_order = pl.orders.create_order(request)"
   ]
  },
  {
   "cell_type": "markdown",
   "metadata": {},
   "source": [
    "Congratulations! You have created an order. You can view it below:"
   ]
  },
  {
   "cell_type": "code",
   "execution_count": 25,
   "metadata": {},
   "outputs": [
    {
     "data": {
      "text/plain": [
       "{'_links': {'_self': 'https://api.planet.com/compute/ops/orders/v2/18389c7e-1831-4de7-8187-d30ffe88b4b7'},\n",
       " 'created_on': '2025-10-01T20:41:21.52333Z',\n",
       " 'error_hints': [],\n",
       " 'id': '18389c7e-1831-4de7-8187-d30ffe88b4b7',\n",
       " 'last_message': 'Preparing order',\n",
       " 'last_modified': '2025-10-01T20:41:21.52333Z',\n",
       " 'name': 'test_order_from_sdk',\n",
       " 'products': [{'item_ids': ['20200922_183724_23_106a',\n",
       "    '20200922_183722_17_106a'],\n",
       "   'item_type': 'PSScene',\n",
       "   'product_bundle': 'analytic_udm2'}],\n",
       " 'state': 'queued',\n",
       " 'tools': [{'reproject': {'kernel': 'cubic', 'projection': 'EPSG:4326'}}]}"
      ]
     },
     "execution_count": 25,
     "metadata": {},
     "output_type": "execute_result"
    }
   ],
   "source": [
    "created_order"
   ]
  },
  {
   "cell_type": "markdown",
   "metadata": {},
   "source": [
    "______"
   ]
  },
  {
   "cell_type": "markdown",
   "metadata": {},
   "source": [
    "### Get your Order after it is created"
   ]
  },
  {
   "cell_type": "markdown",
   "metadata": {},
   "source": [
    "When you first submit your order, the `state` key in the order you created is 'queued'. Our variable *created_order* is just the json return of the order creation, and will not be updated automatically when the order is `running` or `success`. Instead, use the methods below that utilize `get_order` from the orders API to get our order, and its download links. More information about order states may be found [here](https://docs.planet.com/develop/apis/orders/#states)."
   ]
  },
  {
   "cell_type": "markdown",
   "metadata": {},
   "source": [
    "#### Manually get the Order"
   ]
  },
  {
   "cell_type": "code",
   "execution_count": 29,
   "metadata": {},
   "outputs": [
    {
     "name": "stdout",
     "output_type": "stream",
     "text": [
      "Your order request state is: success\n"
     ]
    }
   ],
   "source": [
    "# We can run get_order() until the status is 'complete'...\n",
    "order_id = created_order['id']\n",
    "\n",
    "order_output = pl.orders.get_order(order_id)\n",
    "print(f\"Your order request state is: {order_output['state']}\")"
   ]
  },
  {
   "cell_type": "code",
   "execution_count": null,
   "metadata": {
    "scrolled": true
   },
   "outputs": [],
   "source": [
    "# The link to download the order components is is the 'location' key of 'results'\n",
    "order_output"
   ]
  },
  {
   "cell_type": "markdown",
   "metadata": {
    "id": "xOyyXodY6cL0"
   },
   "source": [
    "#### Alternative: Monitor Order status until complete, then download the Order"
   ]
  },
  {
   "cell_type": "markdown",
   "metadata": {},
   "source": [
    "Instead of manually checking our order's state with `orders.get_order`, we can instead use `orders.wait()` with  `reporting.StateBar()` that will run until our order is ready. The order will be downloaded with `download_order` to the `output` directory afterwords."
   ]
  },
  {
   "cell_type": "code",
   "execution_count": 31,
   "metadata": {
    "id": "5lFCwq1cNCda",
    "scrolled": true
   },
   "outputs": [
    {
     "name": "stdout",
     "output_type": "stream",
     "text": [
      "Your order request state is: success\n"
     ]
    },
    {
     "name": "stderr",
     "output_type": "stream",
     "text": [
      "00:00 - order  - state: success\n"
     ]
    },
    {
     "data": {
      "text/plain": [
       "['/home/jovyan/work/jupyter-notebooks/Orders-API/output/18389c7e-1831-4de7-8187-d30ffe88b4b7/PSScene/20200922_183722_17_106a_3B_AnalyticMS_reproject.tif',\n",
       " '/home/jovyan/work/jupyter-notebooks/Orders-API/output/18389c7e-1831-4de7-8187-d30ffe88b4b7/PSScene/20200922_183722_17_106a_metadata.json',\n",
       " '/home/jovyan/work/jupyter-notebooks/Orders-API/output/18389c7e-1831-4de7-8187-d30ffe88b4b7/PSScene/20200922_183722_17_106a_3B_udm2_reproject.tif',\n",
       " '/home/jovyan/work/jupyter-notebooks/Orders-API/output/18389c7e-1831-4de7-8187-d30ffe88b4b7/PSScene/20200922_183722_17_106a_3B_AnalyticMS_metadata.xml',\n",
       " '/home/jovyan/work/jupyter-notebooks/Orders-API/output/18389c7e-1831-4de7-8187-d30ffe88b4b7/PSScene/20200922_183724_23_106a_metadata.json',\n",
       " '/home/jovyan/work/jupyter-notebooks/Orders-API/output/18389c7e-1831-4de7-8187-d30ffe88b4b7/PSScene/20200922_183724_23_106a_3B_udm2_reproject.tif',\n",
       " '/home/jovyan/work/jupyter-notebooks/Orders-API/output/18389c7e-1831-4de7-8187-d30ffe88b4b7/PSScene/20200922_183724_23_106a_3B_AnalyticMS_reproject.tif',\n",
       " '/home/jovyan/work/jupyter-notebooks/Orders-API/output/18389c7e-1831-4de7-8187-d30ffe88b4b7/PSScene/20200922_183724_23_106a_3B_AnalyticMS_metadata.xml',\n",
       " '/home/jovyan/work/jupyter-notebooks/Orders-API/output/18389c7e-1831-4de7-8187-d30ffe88b4b7/manifest.json']"
      ]
     },
     "execution_count": 31,
     "metadata": {},
     "output_type": "execute_result"
    }
   ],
   "source": [
    "# You may need to wait a few minutes for the order to complete\n",
    "order_id = created_order['id']\n",
    "order = pl.orders.get_order(order_id)\n",
    "print(f\"Your order request state is: {order_output['state']}\")\n",
    "with reporting.StateBar() as bar:\n",
    "    pl.orders.wait(order_id, callback=bar.update_state)\n",
    "\n",
    "# if we get here that means the order completed. Yay! Download the files.\n",
    "cwd = os.getcwd()\n",
    "output_dir = os.path.join(cwd, 'output')\n",
    "output_paths = pl.orders.download_order(order_id, output_dir)\n",
    "output_paths = [os.path.abspath(path) for path in output_paths]\n",
    "output_paths"
   ]
  },
  {
   "cell_type": "code",
   "execution_count": null,
   "metadata": {},
   "outputs": [],
   "source": []
  }
 ],
 "metadata": {
  "colab": {
   "collapsed_sections": [],
   "provenance": []
  },
  "kernelspec": {
   "display_name": "Python 3 (ipykernel)",
   "language": "python",
   "name": "python3"
  },
  "language_info": {
   "codemirror_mode": {
    "name": "ipython",
    "version": 3
   },
   "file_extension": ".py",
   "mimetype": "text/x-python",
   "name": "python",
   "nbconvert_exporter": "python",
   "pygments_lexer": "ipython3",
   "version": "3.13.7"
  }
 },
 "nbformat": 4,
 "nbformat_minor": 4
}
