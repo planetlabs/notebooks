{
 "cells": [
  {
   "cell_type": "markdown",
   "metadata": {},
   "source": [
    "# Order a Basemap Using the Orders API & SDK via AOI & Quad ID"
   ]
  },
  {
   "cell_type": "markdown",
   "metadata": {},
   "source": [
    "## Overview ##\n",
    "---\n",
    "In this notebook, you will learn how to order a [Planet Basemap](https://developers.planet.com/docs/data/visual-basemaps/) using your [Area of Interest](https://developers.planet.com/apis/orders/basemaps/#order-basemaps-by-area-of-interest-aoi) (AOI) and a [Quad ID](https://developers.planet.com/apis/orders/basemaps/#order-basemaps-by-quad-ids-and-deliver-to-cloud). We will place this order via Planet's [Orders API](https://developers.planet.com/apis/orders/) using our Planet Python [SDK](https://planet-sdk-for-python-v2.readthedocs.io/en/latest/python/sdk-guide/). \n",
    "\n",
    "1. Get a Basemap ID using either [Planet Explorer](https://developers.planet.com/docs/apps/explorer/) or the [Basemap Viewer](https://www.planet.com/basemaps/#/mosaic/). \n",
    "2. Create a JSON order packet with order parameters.\n",
    "3. Set up a session with the Planet SDK, and place the order, [delivering]((https://developers.planet.com/apis/orders/delivery/)) the resulting Basemap to a Google Cloud Storage bucket. \n",
    "4. Repeat steps 1-3 using quad IDs. "
   ]
  },
  {
   "cell_type": "markdown",
   "metadata": {},
   "source": [
    "## Order a Basemap using an AOI\n",
    "---\n",
    "### First, find a Basemap to order\n",
    "You can get a Basemap ID from Planet Explorer or the Basemap Viewer.\n",
    "\n",
    "#### Option 1: Get a basemap ID from Planet Explorer\n",
    "You'll need a basemap ID to identify what basemap to download.\n",
    "\n",
    "To pick a basemap, you can open [Planet Explorer](https://www.planet.com/explorer/#) (you can learn more about Planet Explorer [here](https://developers.planet.com/docs/apps/explorer/)) and select a basemap from the dropdown menu in the lower left corner. (If you don't have access to basemaps, you'll see a message confirming in the lower right corner. Select \"Get Access\" to sign up for Basemaps or speak to your customer service manager.)\n",
    "\n",
    "Once you've selected a Basemap, the Explorer updates to include that basemap in the view.\n",
    "\n",
    "Select the search icon and time cadence, for example `monthly` or `quarterly`. Then select one of the resulting basemap IDs, such as `global_monthly_2022_01_mosaic`. That's the value you'll be passing into the Orders API. \n",
    "\n",
    "#### Option 2: Get a basemap ID from the Basemap Viewer\n",
    "\n",
    "To pick a basemap, you can open the [Basemap Viewer](https://www.planet.com/basemaps/#/mosaic/) (you can learn more about the Basemap Viewer [here](https://developers.planet.com/docs/apps/basemapsviewer/)) and select a basemap from the left sidebar menu, using the filter to narrow down the basemap you want. \n",
    "\n",
    "Once you've selected a basemap, and selected the right arrow >, the basemap ID displays, such as `global_monthly_2022_01_mosaic`. That's the value you'll be passing into the Orders API."
   ]
  },
  {
   "cell_type": "markdown",
   "metadata": {},
   "source": [
    "### Import Planet and Related Packages\n",
    "\n",
    "---\n",
    "\n",
    "Make sure you have Planet's Python SDK properly downloaded. You can find out more about this [here](https://developers.planet.com/docs/pythonclient/). Find your [API key](https://developers.planet.com/quickstart/apis/).\n",
    "\n",
    "Next set up a session by importing needed Python packages, pulling in your API Key, and make an initial request (to retrieve the Orders API parameters) to confirm a connection with the server.\n",
    "\n",
    "Create a Google Cloud Platform (GCP) storage bucket with these [instructions](https://cloud.google.com/storage/docs/creating-buckets). This is where we are delivering the data. Creating the bucket will create the credentials for you, and you can convert it to Base64 using these [instructions](https://cloud.google.com/vision/docs/base64) and save this as an environment variable. "
   ]
  },
  {
   "cell_type": "code",
   "execution_count": null,
   "metadata": {},
   "outputs": [],
   "source": [
    "import planet\n",
    "import os\n",
    "import copy\n",
    "import asyncio\n",
    "import math"
   ]
  },
  {
   "cell_type": "code",
   "execution_count": null,
   "metadata": {},
   "outputs": [],
   "source": [
    "PL_API_KEY = os.environ.get('PL_API_KEY')\n",
    "GCP_CREDENTIALS = os.environ.get('GCP_CREDENTIALS')\n",
    "auth = planet.Auth.from_key(PL_API_KEY)"
   ]
  },
  {
   "cell_type": "markdown",
   "metadata": {},
   "source": [
    "### Create an order packet\n",
    "---\n",
    "Package up the details of your order in a [JSON object](https://developers.planet.com/apis/orders/basemaps/#example-order-query-json-block) and make a POST request, passing in the Orders URL, your JSON, your API key, and the content-type header. We are [delivering](https://developers.planet.com/apis/orders/delivery/) this order to a Google Cloud Storage bucket. You can see examples of using tools [here](https://developers.planet.com/apis/orders/tools/). Make sure to replace the mosaic name and coordinates with your specifications."
   ]
  },
  {
   "cell_type": "code",
   "execution_count": null,
   "metadata": {},
   "outputs": [],
   "source": [
    "BASEMAP_API_URL = 'https://api.planet.com/basemaps/v1/mosaics'"
   ]
  },
  {
   "cell_type": "code",
   "execution_count": null,
   "metadata": {},
   "outputs": [],
   "source": [
    "order_params = {\n",
    "    \"name\": \"basemap order with geometry\",\n",
    "    \"source_type\": \"basemaps\",\n",
    "    \"order_type\": \"partial\",\n",
    "    \"products\": [\n",
    "        {\n",
    "            \"mosaic_name\": \"global_monthly_2022_01_mosaic\",\n",
    "            \"geometry\": {\n",
    "                \"type\": \"Polygon\",\n",
    "                \"coordinates\": [\n",
    "                   [\n",
    "                       [4.607406, 52.353994],\n",
    "                       [4.680005, 52.353994],\n",
    "                       [4.680005, 52.395523],\n",
    "                       [4.607406, 52.395523],\n",
    "                       [4.607406, 52.353994]\n",
    "                   ]\n",
    "                ]\n",
    "            }\n",
    "        }\n",
    "    ],\n",
    "    \"delivery\": {\n",
    "        \"google_cloud_storage\": {\n",
    "            \"bucket\": \"devrel-notebooks\",\n",
    "            \"credentials\": GCP_CREDENTIALS,\n",
    "            \"path_prefix\": \"basemaps-to-cloud/\"\n",
    "        }\n",
    "    }\n",
    "}"
   ]
  },
  {
   "cell_type": "markdown",
   "metadata": {},
   "source": [
    "### Create a session with SDK and poll for success\n",
    "\n",
    "Here, we are creating an order using the SDK. Then we are waiting for the order to be delievered to our GCP storage bucket. Note that this can take some time."
   ]
  },
  {
   "cell_type": "code",
   "execution_count": null,
   "metadata": {},
   "outputs": [],
   "source": [
    "async def create_and_deliver_order(order_params, client):\n",
    "    '''Create an order and wait for it to delivered\n",
    "\n",
    "    Parameters:\n",
    "        order_params: An order request\n",
    "        client: An Order client object\n",
    "    '''\n",
    "    with planet.reporting.StateBar(state='creating') as reporter:\n",
    "        # Place an order to the Orders API\n",
    "        order = await client.create_order(order_params)\n",
    "        reporter.update(state='created', order_id=order['id'])\n",
    "        # Wait while the order is being completed\n",
    "        await client.wait(order['id'], callback=reporter.update_state,\n",
    "                          max_attempts=0)"
   ]
  },
  {
   "cell_type": "code",
   "execution_count": null,
   "metadata": {},
   "outputs": [],
   "source": [
    "async with planet.Session() as ps:\n",
    "    # The Orders API client\n",
    "    client = ps.client('orders')\n",
    "    # Create the order and deliver it to GCP\n",
    "    await create_and_deliver_order(order_params, client)"
   ]
  },
  {
   "cell_type": "markdown",
   "metadata": {},
   "source": [
    "### Check your results\n",
    "\n",
    "After a few simple steps, we have a basemap delivered to our Google Cloud Platform bucket using the Planet Python SDK."
   ]
  },
  {
   "cell_type": "markdown",
   "metadata": {},
   "source": [
    "## Use Basemaps API to get the Basemap and quad IDs\n",
    "---\n",
    "\n",
    "### What is a Quad ID? \n",
    "\n",
    "A quad ID is a unique identifer to access a square tile of imagery of the Earth's surface, whereas a Basemap is a combination of squares. \n",
    "\n",
    "Use the Basemap APIs to retrieve the basemap you want and the quad IDs you are looking for. You can get the base URL you'll need to communicate with the Basemap API service:\n",
    "\n",
    "1. Go to the [Basemap API reference](https://developers.planet.com/docs/basemaps/reference/) at https://developers.planet.com/docs/basemaps/reference/. \n",
    "2. Under List Mosaics, select GET /mosaics.\n",
    "\n",
    "A dropdown UI element appears with the URL to use:\n",
    "\n",
    "https://api.planet.com/basemaps/v1/mosaics\n"
   ]
  },
  {
   "cell_type": "markdown",
   "metadata": {},
   "source": [
    "#### Ordering basemaps using quad IDs 2 ways: Bounding Box Search and Polygon Search\n",
    "\n",
    "1. Bounding Box Search: uses a rectangular area, does not require specific geometrical parameters.\n",
    "2. Polygon Search: searches for quad IDs in a polygonal shape; it is necessary to provide geometrical parameters. "
   ]
  },
  {
   "cell_type": "markdown",
   "metadata": {},
   "source": [
    "### Part 1: Bounding Box Search"
   ]
  },
  {
   "cell_type": "code",
   "execution_count": null,
   "metadata": {},
   "outputs": [],
   "source": [
    "from requests.adapters import HTTPAdapter\n",
    "from urllib3.util.retry import Retry"
   ]
  },
  {
   "cell_type": "markdown",
   "metadata": {},
   "source": [
    "### Handle pagination \n",
    "---\n",
    "It is necessary to always make sure you are reading every page of results as each mosaic can contain up to thousands of quad IDs that would be missed if you do not handle pagination like in the code below. "
   ]
  },
  {
   "cell_type": "code",
   "execution_count": null,
   "metadata": {},
   "outputs": [],
   "source": [
    "def handle_pagination(session, url, params, key='items'):\n",
    "    \"\"\"\n",
    "    Handle paginated URLs by making multiple requests and yielding individual items.\n",
    "\n",
    "    Parameters:\n",
    "        session (requests.Session): The session object to make HTTP requests.\n",
    "        url (str): The base URL for the paginated resource.\n",
    "        params (dict): Query parameters to be sent with the request.\n",
    "        key (str, optional): The key in the response JSON containing the list of items. Defaults to 'items'.\n",
    "\n",
    "    Yields:\n",
    "        dict: Individual items from the paginated resource.\n",
    "\n",
    "    Raises:\n",
    "        requests.HTTPError: If any HTTP errors occur during the requests.\n",
    "\n",
    "    \"\"\"\n",
    "    while True:\n",
    "        # Make a GET request to the specified URL with the given parameters\n",
    "        response = session.get(url, params=params)\n",
    "\n",
    "        # Raise an exception if the response has an HTTP error status code\n",
    "        response.raise_for_status()\n",
    "\n",
    "        # Parse the response body as JSON\n",
    "        body = response.json()\n",
    "\n",
    "        # Iterate over each item in the 'key' list of the response body and yield it\n",
    "        for item in body[key]:\n",
    "            yield item\n",
    "\n",
    "        # Check if there is a next page link in the response body\n",
    "        if '_next' in body['_links']:\n",
    "            # Update the URL to the next page URL\n",
    "            url = body['_links']['_next']\n",
    "        else:\n",
    "            # If there is no next page link, break the loop and stop pagination\n",
    "            break"
   ]
  },
  {
   "cell_type": "markdown",
   "metadata": {},
   "source": [
    "### Retrieve quad IDs using Bounding Box Search\n",
    "---\n",
    "This code retrieves quad IDs for a specific basemap mosaic. It searches for the quad IDs using the mosaic name and the bounding box parameters."
   ]
  },
  {
   "cell_type": "code",
   "execution_count": null,
   "metadata": {},
   "outputs": [],
   "source": [
    "def bounding_box_search(mosaic_name, bbox=None):\n",
    "    \"\"\"\n",
    "    Retrieve quad IDs associated with a specific mosaic from the Planet Basemaps API.\n",
    "    Quads that you do not have download access to will be skipped.\n",
    "    \n",
    "    Parameters:\n",
    "        mosaic_name (str): The name of the mosaic to download.\n",
    "        bbox (sequence): A lonmin, latmin, lonmax, latmax tuple or None for all quads\n",
    "\n",
    "    Returns:\n",
    "        list: A list of quad IDs.\n",
    "    \"\"\"\n",
    "\n",
    "    # Set the base URL for the Planet Basemaps API\n",
    "    BASEMAP_API_URL = 'https://api.planet.com/basemaps/v1/mosaics'\n",
    "\n",
    "    # Wait and retry automatically on 429 \"slow down\" responses\n",
    "    retries = Retry(total=10, backoff_factor=1, status_forcelist=[429])\n",
    "    session.mount('https://', HTTPAdapter(max_retries=retries))\n",
    "\n",
    "    # Set parameters to filter the mosaic by name\n",
    "    basemap_params = {'name__is': mosaic_name}\n",
    "\n",
    "    session.headers.update({'content-type': 'application/json'})\n",
    "\n",
    "    # Retrieve the mosaic\n",
    "    mosaic, = handle_pagination(session, BASEMAP_API_URL, basemap_params, 'mosaics')\n",
    "\n",
    "    # Set parameters for retrieving quads associated with the mosaic using bounding box\n",
    "    if bbox is None:\n",
    "        bbox = mosaic['bbox']\n",
    "        \n",
    "    quad_params = {\n",
    "        'bbox': ','.join(map(str, bbox))\n",
    "    }\n",
    "\n",
    "    quads_url = \"{}/{}/quads\".format(BASEMAP_API_URL, mosaic['id'])\n",
    "\n",
    "    # Retrieve the quads associated with the mosaic\n",
    "    quads = handle_pagination(session, quads_url, quad_params)\n",
    "\n",
    "    # Extract the quad IDs\n",
    "    quad_ids = [item['id'] for item in quads if 'download' in item['_links']]\n",
    "\n",
    "    return quad_ids"
   ]
  },
  {
   "cell_type": "code",
   "execution_count": null,
   "metadata": {},
   "outputs": [],
   "source": [
    "mosaic_name = 'ps_biweekly_sen2_normalized_analytic_subscription_2023-04-17_2023-05-01_mosaic'\n",
    "quad_ids = bounding_box_search(mosaic_name, [-90.0, 34.0, -80.0, 38.0])"
   ]
  },
  {
   "cell_type": "markdown",
   "metadata": {},
   "source": [
    "### Create an order packet\n",
    "---\n",
    "Create an order packet with details including the mosaic name and quad IDs, and the tools and delivery method. In this example, we are using the tool [bandmath](https://developers.planet.com/apis/orders/tools/#band-math)."
   ]
  },
  {
   "cell_type": "markdown",
   "metadata": {},
   "source": [
    "#### Bandmath \n",
    "\n",
    "The bandmath tool allows you to apply band math expressions to the bands of your input files to produce derived outputs and indices for analysis. Note that `b5` in this example is being assigned to [NDVI](https://en.wikipedia.org/wiki/Normalized_difference_vegetation_index). "
   ]
  },
  {
   "cell_type": "code",
   "execution_count": null,
   "metadata": {},
   "outputs": [],
   "source": [
    "bounding_box_order_params = {\n",
    "    \"name\": \"basemap order with quad_ids\",\n",
    "    \"source_type\": \"basemaps\",\n",
    "    \"products\": [\n",
    "        {\n",
    "            \"mosaic_name\": mosaic_name,\n",
    "            \"quad_ids\": quad_ids\n",
    "        }\n",
    "    ],\n",
    "    \"tools\": [\n",
    "        {\n",
    "            \"bandmath\": {\n",
    "                \"b1\": \"b1\",\n",
    "                \"b2\": \"b2\",\n",
    "                \"b3\": \"b3\",\n",
    "                \"b4\": \"b4\",\n",
    "                \"b5\": \"(b4-b3)/(b4+b3)\",\n",
    "                \"pixel_type\": \"32R\"\n",
    "            }\n",
    "        }\n",
    "    ],\n",
    "    \"delivery\": {\n",
    "        \"google_cloud_storage\": {\n",
    "            \"bucket\": \"devrel-notebooks\",\n",
    "            \"credentials\": GCP_CREDENTIALS,\n",
    "            \"path_prefix\": \"basemaps-to-cloud/\",\n",
    "        }\n",
    "    }\n",
    "}"
   ]
  },
  {
   "cell_type": "markdown",
   "metadata": {},
   "source": [
    "### Batch quad IDs and place the orders\n",
    "---\n",
    "It is only possible to place orders with 100 quad IDs at a time. This function will batch the quad IDs into lists of 100 each and place each of those orders. "
   ]
  },
  {
   "cell_type": "code",
   "execution_count": null,
   "metadata": {},
   "outputs": [],
   "source": [
    "async def batch_lists_and_place_orders(quad_ids, order_params):\n",
    "    \"\"\"\n",
    "    Process quad IDs in batches and create orders.\n",
    "\n",
    "    Parameters:\n",
    "        quad_ids (list): A list of quad IDs to be processed in batches.\n",
    "        order_params (dict): The order parameters dictionary that contains the details of the order.\n",
    "\n",
    "    \"\"\"\n",
    "\n",
    "    # Calculate the number of batches\n",
    "    num_batches = math.ceil(len(quad_ids) / 100)\n",
    "\n",
    "    # Create batched quad IDs lists\n",
    "    batched_quad_ids = [\n",
    "        quad_ids[i:i + 100] for i in range(0, len(quad_ids), 100)\n",
    "    ]\n",
    "\n",
    "    # Duplicate the order_params dictionary for each batch\n",
    "    all_order_params = [\n",
    "        copy.deepcopy(order_params) for _ in range(num_batches)\n",
    "    ]\n",
    "\n",
    "    # Assign batched quad IDs to each order_params dictionary\n",
    "    for i, params in enumerate(all_order_params):\n",
    "        params['products'][0]['quad_ids'] = batched_quad_ids[i]\n",
    "\n",
    "    async with planet.Session() as ps:\n",
    "        # The Orders API client\n",
    "        client = ps.client('orders')\n",
    "\n",
    "        # Create the order and deliver it to GCP for each batch\n",
    "        await asyncio.gather(*[\n",
    "            create_and_deliver_order(params, client) \n",
    "            for params in all_order_params\n",
    "        ])"
   ]
  },
  {
   "cell_type": "code",
   "execution_count": null,
   "metadata": {},
   "outputs": [],
   "source": [
    "await batch_lists_and_place_orders(quad_ids, bounding_box_order_params)"
   ]
  },
  {
   "cell_type": "markdown",
   "metadata": {},
   "source": [
    "### Part 2: Polygon Search"
   ]
  },
  {
   "cell_type": "markdown",
   "metadata": {},
   "source": [
    "### Define parameters\n",
    "---\n",
    "Define the mosaic name and coordinates within the mosoaic below. "
   ]
  },
  {
   "cell_type": "code",
   "execution_count": null,
   "metadata": {},
   "outputs": [],
   "source": [
    "mosaic_name = 'ps_biweekly_sen2_normalized_analytic_subscription_2023-04-17_2023-05-01_mosaic'\n",
    "geometry = {\n",
    "    \"coordinates\": [[[-93.2969252074559, 31.625920464644352],\n",
    "                     [-91.12907701200592, 31.462828609443292],\n",
    "                     [-89.55957445650489, 35.19041389553804],\n",
    "                     [-84.17442809744674, 37.558687870257046],\n",
    "                     [-90.25210159772769, 37.773797433818345],\n",
    "                     [-92.93646531283778, 35.481589006307814],\n",
    "                     [-93.2969252074559, 31.625920464644352]]],\n",
    "    \"type\": \"Polygon\"\n",
    "}"
   ]
  },
  {
   "cell_type": "code",
   "execution_count": null,
   "metadata": {},
   "outputs": [],
   "source": [
    "polygon_search_order_params = {\n",
    "    \"name\": \"basemap order with quad_ids\",\n",
    "    \"source_type\": \"basemaps\",\n",
    "    \"products\": [\n",
    "        {\n",
    "            \"mosaic_name\": mosaic_name,\n",
    "            \"quad_ids\": quad_ids\n",
    "        }\n",
    "    ],\n",
    "    \"tools\": [\n",
    "        {\n",
    "            \"bandmath\": {\n",
    "                \"b1\": \"b1\",\n",
    "                \"b2\": \"b2\",\n",
    "                \"b3\": \"b3\",\n",
    "                \"b4\": \"b4\",\n",
    "                \"b5\": \"(b4-b3)/(b4+b3)\",\n",
    "                \"pixel_type\": \"32R\"\n",
    "            }\n",
    "        }\n",
    "    ],\n",
    "    \"delivery\": {\n",
    "        \"google_cloud_storage\": {\n",
    "            \"bucket\": \"devrel-notebooks\",\n",
    "            \"credentials\": GCP_CREDENTIALS,\n",
    "            \"path_prefix\": \"basemaps-to-cloud/\",\n",
    "        }\n",
    "    }\n",
    "}"
   ]
  },
  {
   "cell_type": "markdown",
   "metadata": {},
   "source": [
    "### Retrieve quad IDs using Polygon Search\n",
    "---\n",
    "This function searches for a polygon specified above within a mosaic and returns the quad IDs. "
   ]
  },
  {
   "cell_type": "code",
   "execution_count": null,
   "metadata": {},
   "outputs": [],
   "source": [
    "def polygon_search(mosaic_name, geometry):\n",
    "    \"\"\"Searches for quad ID's within a polygon geometry using the Planet Basemaps API.\n",
    "\n",
    "    Parameters:\n",
    "        mosaic_name (str): The name of the mosaic to search within.\n",
    "        geometry (dict): The polygon geometry to search with.\n",
    "\n",
    "    Yields:\n",
    "        dict: The quad IDs found within the polygon geometry.\n",
    "\n",
    "    Raises:\n",
    "        requests.exceptions.HTTPError: If any HTTP error occurs during the API requests.\n",
    "\n",
    "    \"\"\"\n",
    "    base_url = 'https://api.planet.com/basemaps/v1'\n",
    "\n",
    "    # Configure retry logic for handling rate limiting (status code 429)\n",
    "    retries = Retry(total=5, backoff_factor=0.2, status_forcelist=[429])\n",
    "    session.mount('https://', HTTPAdapter(max_retries=retries))\n",
    "\n",
    "    # Retrieve the mosaic ID from the mosaic name\n",
    "    rv = session.get(f'{base_url}/mosaics', params={'name__is': mosaic_name})\n",
    "    rv.raise_for_status()\n",
    "    mosaic_id = rv.json()['mosaics'][0]['id']\n",
    "\n",
    "    url = None\n",
    "    while True:\n",
    "        if url is None:\n",
    "            # Initial request to search for quads within the mosaic\n",
    "            url = f'{base_url}/mosaics/{mosaic_id}/quads/search'\n",
    "            rv = session.post(url, json=geometry)\n",
    "        else:\n",
    "            # Request subsequent pages of quad search results\n",
    "            rv = session.get(url)\n",
    "        rv.raise_for_status()\n",
    "        response = rv.json()\n",
    "\n",
    "        # Yield item information for each result item\n",
    "        for item in response['items']:\n",
    "            yield item\n",
    "\n",
    "        # Check if there are more pages of results\n",
    "        if '_next' in response['_links']:\n",
    "            url = response['_links']['_next']\n",
    "        else:\n",
    "            break"
   ]
  },
  {
   "cell_type": "code",
   "execution_count": null,
   "metadata": {},
   "outputs": [],
   "source": [
    "quad_ids = []\n",
    "\n",
    "# Search for quad IDs and add them to a list.\n",
    "for quad in polygon_search(mosaic_name, geometry):\n",
    "    quad_ids.append(quad['id'])"
   ]
  },
  {
   "cell_type": "markdown",
   "metadata": {},
   "source": [
    "### Place the orders"
   ]
  },
  {
   "cell_type": "code",
   "execution_count": null,
   "metadata": {},
   "outputs": [],
   "source": [
    "await batch_lists_and_place_orders(quad_ids, polygon_search_order_params)"
   ]
  },
  {
   "cell_type": "markdown",
   "metadata": {},
   "source": [
    "### Check your results\n",
    "\n",
    "After a few simple steps, we have a basemap delivered to our Google Cloud Platform bucket using the Planet Python SDK.  For more information, check out the SDK docs [here](https://planet-sdk-for-python-v2.readthedocs.io/en/latest/python/sdk-guide/). "
   ]
  },
  {
   "cell_type": "markdown",
   "metadata": {},
   "source": [
    "Local Download\n",
    "-----------------------\n",
    "\n",
    "If you'd prefer to download files locally, instead of using delivery to a cloud bucket, you can use the `download_order` method of the python client.\n",
    "\n",
    "As an example, let's use a single order for a polygon AOI.  The orders API supports operating on a specific region as well as operating on explicit quad IDs, so we'll demonstrate that here as well. "
   ]
  },
  {
   "cell_type": "code",
   "execution_count": null,
   "metadata": {},
   "outputs": [],
   "source": [
    "# This is a modestly sized AOI near Eugene, OR\n",
    "polygon = {\n",
    "  \"type\": \"Polygon\",\n",
    "  \"coordinates\": [[[-122.73219098396953, 44.15220139060904],\n",
    "                   [-122.66262472736378, 44.13500655167138],\n",
    "                   [-122.56252661369214, 44.21788388484899],\n",
    "                   [-122.54861336237099, 44.26744366989948],\n",
    "                   [-122.5470674455577, 44.334103466868896],\n",
    "                   [-122.5992421380118, 44.35704346885345],\n",
    "                   [-122.6668759986008, 44.34184326612478],\n",
    "                   [-122.66339768577055, 44.321938861051336],\n",
    "                   [-122.64677908002584, 44.25249707096535],\n",
    "                   [-122.6753785410749, 44.21234388573231],\n",
    "                   [-122.71402646141134, 44.17715272885442],\n",
    "                   [-122.72987210874928, 44.16079693196022],\n",
    "                   [-122.73219098396953, 44.15220139060904]]]\n",
    "\n",
    "}\n",
    "\n",
    "local_download_search_order_params = {\n",
    "    \"name\": \"basemap order with geometry\",\n",
    "    \"source_type\": \"basemaps\",\n",
    "    \"products\": [\n",
    "        {\n",
    "            \"mosaic_name\": \"ps_biweekly_sen2_normalized_analytic_subscription_2023-04-17_2023-05-01_mosaic\",\n",
    "            \"geometry\": polygon\n",
    "        }\n",
    "    ],\n",
    "    \"tools\": [\n",
    "        {\n",
    "            \"bandmath\": {\n",
    "                \"b1\": \"b1\",\n",
    "                \"b2\": \"b2\",\n",
    "                \"b3\": \"b3\",\n",
    "                \"b4\": \"b4\",\n",
    "                \"b5\": \"(b4-b3)/(b4+b3)\",\n",
    "                \"pixel_type\": \"32R\"\n",
    "            }\n",
    "        }\n",
    "    ]\n",
    "}"
   ]
  },
  {
   "cell_type": "markdown",
   "metadata": {},
   "source": [
    "Now we can use the python client to create the order, wait on it, and download it locally. Note that this may take awhile to run."
   ]
  },
  {
   "cell_type": "code",
   "execution_count": null,
   "metadata": {},
   "outputs": [],
   "source": [
    "async def create_wait_and_download(request):\n",
    "    \"\"\"\n",
    "    Create an order, wait on it to finish, and then download it locally.\n",
    "    \n",
    "    Parameters:\n",
    "        request (list): The order parameters dictionary that contains the details of the order.\n",
    "    \"\"\"\n",
    "    async with planet.Session() as sess:\n",
    "        cl = sess.client('orders')\n",
    "        order = await cl.create_order(request)\n",
    "        await cl.wait(order['id'])\n",
    "        files = await cl.download_order(order['id'])\n",
    "    return files\n",
    "\n",
    "files = await create_wait_and_download(local_download_search_order_params)\n",
    "\n",
    "for path in files:\n",
    "    print(path)"
   ]
  }
 ],
 "metadata": {
  "kernelspec": {
   "display_name": "Python 3 (ipykernel)",
   "language": "python",
   "name": "python3"
  },
  "language_info": {
   "codemirror_mode": {
    "name": "ipython",
    "version": 3
   },
   "file_extension": ".py",
   "mimetype": "text/x-python",
   "name": "python",
   "nbconvert_exporter": "python",
   "pygments_lexer": "ipython3",
   "version": "3.10.12"
  },
  "vscode": {
   "interpreter": {
    "hash": "40d3a090f54c6569ab1632332b64b2c03c39dcf918b08424e98f38b5ae0af88f"
   }
  }
 },
 "nbformat": 4,
 "nbformat_minor": 2
}
