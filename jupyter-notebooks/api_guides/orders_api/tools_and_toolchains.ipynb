{
 "cells": [
  {
   "cell_type": "markdown",
   "metadata": {},
   "source": [
    "# Tools and Toolchains\n",
    "\n",
    "This notebook demonstrates using tools and toolchains when ordering with the orders api. Specifically, this notebook demonstrates the following toolchains:\n",
    " - [clip](#clip)\n",
    " - [bandmath](#bandmath)\n",
    " - [toar](#toar)\n",
    " - [composite](#composite)\n",
    " - [clip -> bandmath](#clip_bandmath)\n",
    " - [toar -> reproject -> tile](#toar_reproject_tile)\n",
    "\n",
    "For background on ordering and downloading with the orders api, see the [Ordering and Delivery](https://github.com/planetlabs/notebooks/blob/master/jupyter-notebooks/orders_api_tutorials/ordering_and_delivery.ipynb) notebook.\n",
    "\n",
    "Reference information can be found at [Tools & toolchains](https://developers.planet.com/apis/orders/tools/).\n",
    "\n",
    "## Setup"
   ]
  },
  {
   "cell_type": "code",
   "execution_count": null,
   "metadata": {},
   "outputs": [],
   "source": [
    "import json\n",
    "import os\n",
    "import pathlib\n",
    "import time\n",
    "\n",
    "import numpy as np\n",
    "from planet import Auth, reporting\n",
    "from planet import Session, DataClient, OrdersClient\n",
    "import rasterio\n",
    "from rasterio.plot import show\n",
    "import requests"
   ]
  },
  {
   "cell_type": "code",
   "execution_count": null,
   "metadata": {},
   "outputs": [],
   "source": [
    "# API Key stored as an env variable\n",
    "# if your Planet API Key is not set as an environment variable, you can paste it below\n",
    "if os.environ.get('PL_API_KEY', ''):\n",
    "    API_KEY = os.environ.get('PL_API_KEY', '')\n",
    "else:\n",
    "    API_KEY = 'PASTE_API_KEY_HERE'\n",
    "\n",
    "# construct auth tuple for use in the requests library\n",
    "BASIC_AUTH = (API_KEY, '')\n",
    "\n",
    "# Setup the session\n",
    "session = requests.Session()\n",
    "\n",
    "# Authenticate\n",
    "session.auth = (API_KEY, \"\")\n",
    "\n",
    "# Establish headers & Orders URL\n",
    "headers = {'content-type': 'application/json'}\n",
    "orders_url = 'https://api.planet.com/compute/ops/orders/v2'"
   ]
  },
  {
   "cell_type": "code",
   "execution_count": null,
   "metadata": {},
   "outputs": [],
   "source": [
    "# define products part of order\n",
    "single_product = [\n",
    "    {\n",
    "      \"item_ids\": [\"20151119_025740_0c74\"],\n",
    "      \"item_type\": \"PSScene\",\n",
    "      \"product_bundle\": \"analytic_udm2\"\n",
    "    }\n",
    "]\n",
    "\n",
    "same_src_products = [\n",
    "    {\n",
    "      \"item_ids\": [\"20151119_025740_0c74\",\n",
    "                   \"20151119_025739_0c74\"],\n",
    "      \"item_type\": \"PSScene\",\n",
    "      \"product_bundle\": \"analytic_udm2\"\n",
    "    }\n",
    "]\n",
    "\n",
    "multi_src_products = [\n",
    "    {\n",
    "      \"item_ids\": [\"20151119_025740_0c74\"],\n",
    "      \"item_type\": \"PSScene\",\n",
    "      \"product_bundle\": \"analytic_udm2\"\n",
    "    },\n",
    "    {\n",
    "      \"item_ids\": [\"LC81330492015320LGN01\"],\n",
    "      \"item_type\": \"Landsat8L1G\",\n",
    "      \"product_bundle\": \"analytic\"\n",
    "    },\n",
    "    \n",
    "]"
   ]
  },
  {
   "cell_type": "code",
   "execution_count": null,
   "metadata": {},
   "outputs": [],
   "source": [
    "async def poll_and_download(order):\n",
    "    async with Session() as sess:\n",
    "        cl = OrdersClient(sess)\n",
    "\n",
    "        # Use \"reporting\" to manage polling for order status\n",
    "        with reporting.StateBar(state='creating') as bar:\n",
    "            # Grab the order ID\n",
    "            bar.update(state='created', order_id=order['id'])\n",
    "\n",
    "            # poll...poll...poll...\n",
    "            await cl.wait(order['id'], callback=bar.update_state)\n",
    "\n",
    "        # if we get here that means the order completed. Yay! Download the files.\n",
    "        filenames = await cl.download_order(order['id'])"
   ]
  },
  {
   "cell_type": "code",
   "execution_count": null,
   "metadata": {},
   "outputs": [],
   "source": [
    "# define helpful functions for visualizing downloaded imagery\n",
    "def show_rgb(img_file):\n",
    "    with rasterio.open(img_file) as src:\n",
    "        b,g,r,n = src.read()\n",
    "\n",
    "    rgb = np.stack((r,g,b), axis=0)\n",
    "    show(rgb/rgb.max())\n",
    "    \n",
    "def show_gray(img_file):\n",
    "    with rasterio.open(img_file) as src:\n",
    "        g = src.read(1)\n",
    "    show(g/g.max())"
   ]
  },
  {
   "cell_type": "markdown",
   "metadata": {},
   "source": [
    "## Tool Demos\n",
    "\n",
    "### No Processing (reference)\n",
    "\n",
    "We will order and download the unprocessed image for comparison with the output of the toolchains defined below."
   ]
  },
  {
   "cell_type": "code",
   "execution_count": null,
   "metadata": {},
   "outputs": [],
   "source": [
    "request = {\n",
    "  \"name\": \"no processing\",\n",
    "  \"products\": single_product,\n",
    "}"
   ]
  },
  {
   "cell_type": "code",
   "execution_count": null,
   "metadata": {},
   "outputs": [],
   "source": [
    "# allow for caching, replace this with your image file\n",
    "img_file = 'data/50df6201-ea94-48f1-bec9-65dd9cd8354b/1/files/PSScene/20151119_025740_0c74/analytic_udm2/20151119_025740_0c74_3B_AnalyticMS.tif'\n",
    "img_file"
   ]
  },
  {
   "cell_type": "code",
   "execution_count": null,
   "metadata": {},
   "outputs": [],
   "source": [
    "if not os.path.isfile(img_file):\n",
    "    async with Session() as sess:\n",
    "        cl = OrdersClient(sess)\n",
    "        order = await cl.create_order(request)\n",
    "        download = await cl.poll_and_download(order)\n",
    "    img_file = next(download[d] for d in download\n",
    "                    if d.endswith('_3B_AnalyticMS.tif'))\n",
    "print(img_file)"
   ]
  },
  {
   "cell_type": "markdown",
   "metadata": {},
   "source": [
    "### Clip\n",
    "<a id='clip'></a>\n",
    "\n",
    "Clipping is likely the most common tool that will be used. It allows us to only download the pixels we are interested in."
   ]
  },
  {
   "cell_type": "code",
   "execution_count": null,
   "metadata": {},
   "outputs": [],
   "source": [
    "clip_aoi = {\n",
    "    \"type\":\"Polygon\",\n",
    "    \"coordinates\":[[[94.81858044862747,15.858073043526062],\n",
    "                    [94.86242249608041,15.858073043526062],\n",
    "                    [94.86242249608041,15.894323164978303],\n",
    "                    [94.81858044862747,15.894323164978303],\n",
    "                    [94.81858044862747,15.858073043526062]]]\n",
    "}"
   ]
  },
  {
   "cell_type": "code",
   "execution_count": null,
   "metadata": {},
   "outputs": [],
   "source": [
    "# define the clip tool\n",
    "clip = {\n",
    "    \"clip\": {\n",
    "        \"aoi\": clip_aoi\n",
    "    }\n",
    "}"
   ]
  },
  {
   "cell_type": "code",
   "execution_count": null,
   "metadata": {},
   "outputs": [],
   "source": [
    "# create an order request with the clipping tool\n",
    "request_clip = {\n",
    "  \"name\": \"just clip\",\n",
    "  \"products\": single_product,\n",
    "  \"tools\": [clip]\n",
    "}\n",
    "\n",
    "request_clip"
   ]
  },
  {
   "cell_type": "code",
   "execution_count": null,
   "metadata": {},
   "outputs": [],
   "source": [
    "# allow for caching so we don't always run clip\n",
    "run_clip = True\n",
    "\n",
    "clip_img_file = 'data/6c23f9e1-d86a-47fe-9eb2-2693196168e0/1/files/20151119_025740_0c74_3B_AnalyticMS_clip.tif'\n",
    "if os.path.isfile(clip_img_file): run_clip = False"
   ]
  },
  {
   "cell_type": "code",
   "execution_count": null,
   "metadata": {},
   "outputs": [],
   "source": [
    "if run_clip:\n",
    "    async with Session() as sess:\n",
    "        cl = OrdersClient(sess)\n",
    "        order = await cl.create_order(request_clip)\n",
    "        download = await poll_and_download(order)\n",
    "    clip_img_file = next(downloaded_clip_files[d] for d in downloaded_clip_files\n",
    "                     if d.endswith('_3B_AnalyticMS_clip.tif'))\n",
    "clip_img_file"
   ]
  },
  {
   "cell_type": "code",
   "execution_count": null,
   "metadata": {
    "scrolled": true
   },
   "outputs": [],
   "source": [
    "show_rgb(img_file)\n",
    "show_rgb(clip_img_file)"
   ]
  },
  {
   "cell_type": "markdown",
   "metadata": {},
   "source": [
    "Alright! Clipping worked. Beautiful! This saves a lot of download bandwidth and processing on our end."
   ]
  },
  {
   "cell_type": "markdown",
   "metadata": {},
   "source": [
    "### Band Math\n",
    "<a id='bandmath'></a>\n",
    "\n",
    "To demonstrate band math we will order an NDVI image."
   ]
  },
  {
   "cell_type": "code",
   "execution_count": null,
   "metadata": {},
   "outputs": [],
   "source": [
    "bandmath = {\n",
    "  \"bandmath\": {\n",
    "    \"pixel_type\": \"32R\",\n",
    "    \"b1\": \"(b4 - b3) / (b4 + b3)\"\n",
    "  }\n",
    "}"
   ]
  },
  {
   "cell_type": "code",
   "execution_count": null,
   "metadata": {},
   "outputs": [],
   "source": [
    "bandmath_request = {\n",
    "  \"name\": \"band math\",\n",
    "  \"products\": single_product,\n",
    "  \"tools\": [bandmath]\n",
    "}\n",
    "bandmath_request"
   ]
  },
  {
   "cell_type": "code",
   "execution_count": null,
   "metadata": {},
   "outputs": [],
   "source": [
    "run_bandmath = True\n",
    "\n",
    "# allow for caching so we don't always run clip\n",
    "bandmath_img_file = 'data/06a733ff-3034-4ffe-b1c4-8f5d004feaff/1/files/20151119_025740_0c74_3B_AnalyticMS_bandmath.tif'\n",
    "if os.path.isfile(bandmath_img_file): run_bandmath = False"
   ]
  },
  {
   "cell_type": "code",
   "execution_count": null,
   "metadata": {},
   "outputs": [],
   "source": [
    "if run_bandmath:\n",
    "    async with Session() as sess:\n",
    "        cl = OrdersClient(sess)\n",
    "        order = await cl.create_order(bandmath_request)\n",
    "        download = await poll_and_download(order)\n",
    "    bandmath_img_file = next(downloaded_bandmath_files[d] for d in downloaded_bandmath_files\n",
    "                             if d.endswith('_bandmath.tif'))\n",
    "bandmath_img_file"
   ]
  },
  {
   "cell_type": "code",
   "execution_count": null,
   "metadata": {
    "scrolled": true
   },
   "outputs": [],
   "source": [
    "show_rgb(img_file)\n",
    "show_gray(bandmath_img_file)"
   ]
  },
  {
   "cell_type": "markdown",
   "metadata": {},
   "source": [
    "This is a beautiful NDVI image!"
   ]
  },
  {
   "cell_type": "markdown",
   "metadata": {},
   "source": [
    "### TOAR\n",
    "<a id='toar'></a>\n",
    "\n",
    "The `toar` tool converts imagery to Top of Atmosphere Reflectance."
   ]
  },
  {
   "cell_type": "code",
   "execution_count": null,
   "metadata": {},
   "outputs": [],
   "source": [
    "toar = {\n",
    "      \"toar\": {\n",
    "        \"scale_factor\": 10000\n",
    "      }\n",
    "}\n",
    "toar_request = {\n",
    "  \"name\": \"toar\",\n",
    "  \"products\": single_product,\n",
    "  \"tools\": [toar]\n",
    "}\n",
    "toar_request"
   ]
  },
  {
   "cell_type": "code",
   "execution_count": null,
   "metadata": {},
   "outputs": [],
   "source": [
    "run_toar = True\n",
    "\n",
    "# allow for caching so we don't always run clip\n",
    "toar_img_file = 'data/d22684ab-49b5-4696-ab9c-d0a893e5c193/1/files/20151119_025740_0c74_3B_AnalyticMS_toar.tif'\n",
    "if os.path.isfile(toar_img_file): run_toar = False"
   ]
  },
  {
   "cell_type": "code",
   "execution_count": null,
   "metadata": {},
   "outputs": [],
   "source": [
    "if run_toar:\n",
    "    async with Session() as sess:\n",
    "        cl = OrdersClient(sess)\n",
    "        order = await cl.create_order(toar_request)\n",
    "        download = await poll_and_download(order)\n",
    "    toar_img_file = next(downloaded_toar_files[d] for d in downloaded_toar_files\n",
    "                     if d.endswith('_toar.tif'))\n",
    "toar_img_file"
   ]
  },
  {
   "cell_type": "code",
   "execution_count": null,
   "metadata": {
    "scrolled": true
   },
   "outputs": [],
   "source": [
    "show_rgb(img_file)\n",
    "show_rgb(toar_img_file)"
   ]
  },
  {
   "cell_type": "markdown",
   "metadata": {},
   "source": [
    "The effect of conversion to reflectance isn't really apparent in one image. But when comparing two images taken at different times of the year, the conversion to reflectance will remove effects of the sun's location and make the images more similar."
   ]
  },
  {
   "cell_type": "markdown",
   "metadata": {},
   "source": [
    "### Composite\n",
    "<a id='composite'></a>\n",
    "\n",
    "The composite tool combines multiple images into one image, similar to mosaicing. The input images must have the same band configuration, and that band configuration will be propagated to the output image."
   ]
  },
  {
   "cell_type": "code",
   "execution_count": null,
   "metadata": {},
   "outputs": [],
   "source": [
    "composite = {  \n",
    "   \"composite\":{  \n",
    "   }\n",
    "}\n",
    "\n",
    "composite_request = {\n",
    "  \"name\": \"composite\",\n",
    "  \"products\": same_src_products,\n",
    "  \"tools\": [composite]\n",
    "}\n",
    "\n",
    "composite_request"
   ]
  },
  {
   "cell_type": "code",
   "execution_count": null,
   "metadata": {},
   "outputs": [],
   "source": [
    "run_composite = True\n",
    "\n",
    "composite_file = 'data/be20feb1-b084-43b9-9c1c-b1d4a1ffb9fc/1/files/composite.tif'\n",
    "if os.path.isfile(composite_file): run_composite = False"
   ]
  },
  {
   "cell_type": "code",
   "execution_count": null,
   "metadata": {},
   "outputs": [],
   "source": [
    "if run_composite:\n",
    "    async with Session() as sess:\n",
    "        cl = OrdersClient(sess)\n",
    "        order = await cl.create_order(composite_request)\n",
    "        download = await poll_and_download(order)\n",
    "    composite_file = next(downloaded_composite_files[d] for d in downloaded_composite_files\n",
    "                          if d.endswith('composite.tif'))\n",
    "composite_file"
   ]
  },
  {
   "cell_type": "code",
   "execution_count": null,
   "metadata": {},
   "outputs": [],
   "source": [
    "show_rgb(composite_file)"
   ]
  },
  {
   "cell_type": "markdown",
   "metadata": {},
   "source": [
    "Beautiful! The images have been combined into one seamless image."
   ]
  },
  {
   "cell_type": "markdown",
   "metadata": {},
   "source": [
    "### Combined Tools - Clip and Band Math\n",
    "<a id='clip_bandmath'></a>\n",
    "\n",
    "This toolchain demonstrates how we can combine the clipping tool with the NDVI band math tool to only process and download the NDVI values for pixels we are interested in. Combining tools is as simple as combining the tool definitions in a list in the order request."
   ]
  },
  {
   "cell_type": "code",
   "execution_count": null,
   "metadata": {},
   "outputs": [],
   "source": [
    "clip_bandmath_request = {\n",
    "  \"name\": \"clip and bandmath\",\n",
    "  \"products\": single_product,\n",
    "  \"tools\": [clip, bandmath]\n",
    "}\n",
    "clip_bandmath_request"
   ]
  },
  {
   "cell_type": "code",
   "execution_count": null,
   "metadata": {},
   "outputs": [],
   "source": [
    "run_clip_bandmath = True\n",
    "\n",
    "clip_bandmath_file = 'data/d1a94528-c1c3-4fe2-b3e5-6ff0c340a1d6/1/files/20151119_025740_0c74_3B_AnalyticMS_clip_bandmath.tif'\n",
    "if os.path.isfile(clip_bandmath_file): run_clip_bandmath = False"
   ]
  },
  {
   "cell_type": "code",
   "execution_count": null,
   "metadata": {},
   "outputs": [],
   "source": [
    "if run_clip_bandmath:\n",
    "    async with Session() as sess:\n",
    "        cl = OrdersClient(sess)\n",
    "        order = await cl.create_order(clip_bandmath_request)\n",
    "        download = await poll_and_download(order)\n",
    "    clip_bandmath_file = next(downloaded_clip_bandmath_files[d] for d in downloaded_clip_bandmath_files\n",
    "                     if d.endswith('_clip_bandmath.tif'))\n",
    "clip_bandmath_file"
   ]
  },
  {
   "cell_type": "code",
   "execution_count": null,
   "metadata": {},
   "outputs": [],
   "source": [
    "show_gray(clip_bandmath_file)"
   ]
  },
  {
   "cell_type": "markdown",
   "metadata": {},
   "source": [
    "It is easy to add tools into a toolchain and saves a 'ton' of unnecessary pixel downloads and processing on our end. Big win!"
   ]
  },
  {
   "cell_type": "markdown",
   "metadata": {},
   "source": [
    "## TOAR, Reproject, Tile\n",
    "<a id='toar_reproject_tile'></a>\n",
    "\n",
    "For a more complicated example, we will convert the pixels to reflectance, project them to WGS84, and then tile them."
   ]
  },
  {
   "cell_type": "code",
   "execution_count": null,
   "metadata": {},
   "outputs": [],
   "source": [
    "reproject =     {\n",
    "    \"reproject\": {\n",
    "        \"projection\": \"WGS84\",\n",
    "        \"kernel\": \"cubic\"\n",
    "    }\n",
    "}\n",
    "\n",
    "tile = {\n",
    "  \"tile\": {\n",
    "    \"tile_size\": 1232,\n",
    "    \"origin_x\": -180,\n",
    "    \"origin_y\": -90,\n",
    "    \"pixel_size\": 0.000027056277056,\n",
    "    \"name_template\": \"C1232_30_30_{tilex:04d}_{tiley:04d}\"\n",
    "  }\n",
    "}"
   ]
  },
  {
   "cell_type": "code",
   "execution_count": null,
   "metadata": {},
   "outputs": [],
   "source": [
    "trt_request = {\n",
    "  \"name\": \"toar reproject tile\",\n",
    "  \"products\": single_product,\n",
    "  \"tools\": [toar, reproject, tile]\n",
    "}\n",
    "trt_request"
   ]
  },
  {
   "cell_type": "code",
   "execution_count": null,
   "metadata": {},
   "outputs": [],
   "source": [
    "run_trt = True\n",
    "\n",
    "tile_files = [\n",
    "    'data/8482721f-7711-49f6-8e12-6874c6decb38/1/files/C1232_30_30_8243_3175.tif',\n",
    "    'data/8482721f-7711-49f6-8e12-6874c6decb38/1/files/C1232_30_30_8242_3175.tif',\n",
    "    'data/8482721f-7711-49f6-8e12-6874c6decb38/1/files/C1232_30_30_8247_3178.tif',\n",
    "    'data/8482721f-7711-49f6-8e12-6874c6decb38/1/files/C1232_30_30_8243_3174.tif',\n",
    "    'data/8482721f-7711-49f6-8e12-6874c6decb38/1/files/C1232_30_30_8244_3174.tif',\n",
    "    'data/8482721f-7711-49f6-8e12-6874c6decb38/1/files/C1232_30_30_8244_3177.tif',\n",
    "    'data/8482721f-7711-49f6-8e12-6874c6decb38/1/files/C1232_30_30_8243_3176.tif',\n",
    "    'data/8482721f-7711-49f6-8e12-6874c6decb38/1/files/C1232_30_30_8247_3177.tif',\n",
    "    'data/8482721f-7711-49f6-8e12-6874c6decb38/1/files/C1232_30_30_8242_3176.tif',\n",
    "    'data/8482721f-7711-49f6-8e12-6874c6decb38/1/files/C1232_30_30_8244_3175.tif',\n",
    "    'data/8482721f-7711-49f6-8e12-6874c6decb38/1/files/C1232_30_30_8246_3177.tif',\n",
    "    'data/8482721f-7711-49f6-8e12-6874c6decb38/1/files/C1232_30_30_8245_3175.tif',\n",
    "    'data/8482721f-7711-49f6-8e12-6874c6decb38/1/files/C1232_30_30_8244_3176.tif',\n",
    "    'data/8482721f-7711-49f6-8e12-6874c6decb38/1/files/C1232_30_30_8245_3177.tif',\n",
    "    'data/8482721f-7711-49f6-8e12-6874c6decb38/1/files/C1232_30_30_8246_3178.tif',\n",
    "    'data/8482721f-7711-49f6-8e12-6874c6decb38/1/files/C1232_30_30_8245_3176.tif',\n",
    "    'data/8482721f-7711-49f6-8e12-6874c6decb38/1/files/C1232_30_30_8245_3178.tif',\n",
    "    'data/8482721f-7711-49f6-8e12-6874c6decb38/1/files/C1232_30_30_8246_3176.tif',\n",
    "    'data/8482721f-7711-49f6-8e12-6874c6decb38/1/files/C1232_30_30_8246_3179.tif'\n",
    "]\n",
    "if os.path.isfile(tile_files[0]): run_trt = False"
   ]
  },
  {
   "cell_type": "code",
   "execution_count": null,
   "metadata": {},
   "outputs": [],
   "source": [
    "if run_trt:\n",
    "    async with Session() as sess:\n",
    "        cl = OrdersClient(sess)\n",
    "        order = await cl.create_order(trt_request)\n",
    "        download = await poll_and_download(order)\n",
    "    tile_files = list(d for d in downloaded_trt_files.values()\n",
    "                     if d.name.startswith('C1232_30_30_'))\n",
    "    \n",
    "for f in tile_files:\n",
    "    print(f)"
   ]
  },
  {
   "cell_type": "code",
   "execution_count": null,
   "metadata": {
    "scrolled": true
   },
   "outputs": [],
   "source": [
    "for f in tile_files[:4]:\n",
    "    show_rgb(f)"
   ]
  },
  {
   "cell_type": "code",
   "execution_count": null,
   "metadata": {},
   "outputs": [],
   "source": [
    "test_file = tile_files[0]"
   ]
  },
  {
   "cell_type": "code",
   "execution_count": null,
   "metadata": {},
   "outputs": [],
   "source": [
    "!gdalinfo $test_file"
   ]
  },
  {
   "cell_type": "markdown",
   "metadata": {},
   "source": [
    "The files have indeed been reprojected to WSG 84 and tiled. It is that easy!"
   ]
  }
 ],
 "metadata": {
  "kernelspec": {
   "display_name": "Python 3 (ipykernel)",
   "language": "python",
   "name": "python3"
  },
  "language_info": {
   "codemirror_mode": {
    "name": "ipython",
    "version": 3
   },
   "file_extension": ".py",
   "mimetype": "text/x-python",
   "name": "python",
   "nbconvert_exporter": "python",
   "pygments_lexer": "ipython3",
   "version": "3.9.12"
  }
 },
 "nbformat": 4,
 "nbformat_minor": 2
}
