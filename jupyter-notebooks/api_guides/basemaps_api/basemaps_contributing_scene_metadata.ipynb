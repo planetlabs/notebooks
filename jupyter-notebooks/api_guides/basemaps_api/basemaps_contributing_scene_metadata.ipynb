{
 "cells": [
  {
   "cell_type": "markdown",
   "id": "3acd7e63",
   "metadata": {},
   "source": [
    "# Contributing scenes metadata for a region in a Planet Basemap\n",
    "\n",
    "This example demonstrates how to use the [Planet APIs](https://developers.planet.com/docs/apis/) to retrieve *contributing scene metadata* for an area of interest or region of a Planet basemap. Scene metadata includes geographic footprints as well as other information about the scene like the type of instrument, capture times, azimuth etc.\n",
    "\n",
    "[Planet Basemaps](https://www.planet.com/products/basemap/) are created by compositing and mosaicking individual scenes, and it's often useful to see which scenes were used to create the basemap. Basemap data is stored as a collection of \"quads\", geotiff files spanning a regular grid, and each [representation of a quad on the Basemaps API links](https://developers.planet.com/docs/basemaps/reference/#operation/getQuad) to information on which scenes were used in it's creation.\n",
    "\n",
    "Using the [Planet Basemaps API](https://developers.planet.com/docs/basemaps/) we can search for the quads that comprise a region in a particular basemap, and then use the [Planet Data API](https://developers.planet.com/docs/apis/data/) to retrieve the complete scene metadata that describes each scene present in each quad.\n",
    "\n",
    "\n",
    "In this example, we use the [Python](https://www.python.org/) programming language with some basic packages like [requests](https://requests.readthedocs.io/en/latest/) to help us interact with the Planet APIs to download the data we want, outputting our result as a [GeoJSON FeatureCollection](https://geojson.org/) whose features are each one of the contributing scenes to the region for the basemap. The scene metadata format can be see in [this response sample](https://developers.planet.com/docs/apis/data/reference/#operation/GetItem) from the Planet Data API. At the end of this notebook, we've combined the steps to create a small utility function that can be used to get contributing scenes metadata for a given basemap and region.\n",
    "\n",
    "Basemap quads and their contributing scene information can also be viewed in the [Planet Basemaps Viewer](https://www.planet.com/basemaps/) web application, although this script makes it easier to get data for many quads and larger regions."
   ]
  },
  {
   "cell_type": "markdown",
   "id": "92ccb198",
   "metadata": {},
   "source": [
    "### Import Pacakges"
   ]
  },
  {
   "cell_type": "code",
   "execution_count": 1,
   "id": "4a351534",
   "metadata": {},
   "outputs": [],
   "source": [
    "# Import packages\n",
    "import os\n",
    "import json\n",
    "import requests\n",
    "from requests.auth import HTTPBasicAuth"
   ]
  },
  {
   "cell_type": "markdown",
   "id": "0f621ce5",
   "metadata": {},
   "source": [
    "### Setup Authentication to Planet APIs"
   ]
  },
  {
   "cell_type": "code",
   "execution_count": 2,
   "id": "fd44e418",
   "metadata": {},
   "outputs": [],
   "source": [
    "# if your Planet API Key is not set as an environment variable, you can paste it below\n",
    "if 'PL_API_KEY' in os.environ:\n",
    "    API_KEY = os.environ['PL_API_KEY']\n",
    "else:\n",
    "    API_KEY = 'PASTE_YOUR_API_KEY_HERE'\n",
    "    os.environ['PL_API_KEY'] = API_KEY\n",
    "\n",
    "# We can use our API key as the \"username\" in the basic auth method for our requests\n",
    "auth = HTTPBasicAuth(API_KEY, '')"
   ]
  },
  {
   "cell_type": "markdown",
   "id": "cfa9a470",
   "metadata": {},
   "source": [
    "### Use the Basemaps API to get quads"
   ]
  },
  {
   "cell_type": "code",
   "execution_count": 3,
   "id": "67021bd8",
   "metadata": {},
   "outputs": [],
   "source": [
    "# Setup a base url for the Planet Basemaps API\n",
    "BASE_URL = 'https://api.planet.com/basemaps/v1/mosaics/'"
   ]
  },
  {
   "cell_type": "markdown",
   "id": "e639e329",
   "metadata": {},
   "source": [
    "Next we can make a request to get our basemap. We'll need to either know or retrieve the basemap's Id. In the cell below, we can find the basemap's Id by using the `name__is` query parameter with the list [`/mosaics`](https://developers.planet.com/docs/basemaps/reference/#operation/listMosaics) endpoint on the Basemaps API. If you already know the Id of the basemap, you can skip this part and set the `BASEMAP_ID` in subsequent cells.\n",
    "\n",
    "*Note: \"basemaps\" and \"mosaics\" can be referred to interchangeably* "
   ]
  },
  {
   "cell_type": "code",
   "execution_count": 4,
   "id": "8c5d6c1b",
   "metadata": {},
   "outputs": [
    {
     "name": "stdout",
     "output_type": "stream",
     "text": [
      "Basemap Name: global_monthly_2022_05_mosaic\n",
      "Id: 045711ab-a3c1-455a-8a2e-b9ff3b699f8a\n",
      "Link: https://api.planet.com/basemaps/v1/mosaics/045711ab-a3c1-455a-8a2e-b9ff3b699f8a?api_key=PLAKd4412d77080146a8bdf3e629239a7b37\n"
     ]
    }
   ],
   "source": [
    "# Get basemap by name\n",
    "BASEMAP_NAME = 'global_monthly_2022_05_mosaic'\n",
    "\n",
    "# NOTE: Alternatively you could use 'name__contains' query parameter to search the basemap by name \n",
    "res = requests.get(url=BASE_URL, auth=auth, params={'name__is': BASEMAP_NAME}).json()\n",
    "\n",
    "# Inspect the response\n",
    "#print(json.dumps(res, indent=1))\n",
    "\n",
    "# Get the first result from the response, this should be our basemap\n",
    "mosaic = res['mosaics'][0]\n",
    "\n",
    "# Get the basemap ID\n",
    "BASEMAP_ID = mosaic['id']\n",
    "\n",
    "print('Basemap Name: {}\\nId: {}\\nLink: {}'.format(mosaic['name'], BASEMAP_ID, mosaic['_links']['_self']))"
   ]
  },
  {
   "cell_type": "markdown",
   "id": "1eb1ec5c",
   "metadata": {},
   "source": [
    "### Define our area of interst\n",
    "\n",
    "We'll use a [GeoJSON geometry](https://datatracker.ietf.org/doc/html/rfc7946#section-3.1) to define our Area of Interest (AOI) to bound our search for quads in the basemap. The AOI can either be defined manually, or imported from a GeoJSON file on our computer."
   ]
  },
  {
   "cell_type": "code",
   "execution_count": 5,
   "id": "f353484b",
   "metadata": {},
   "outputs": [],
   "source": [
    "# Define aoi using a GeoJSON geometry (Polygon in this case)\n",
    "AOI = {\n",
    "        \"type\": \"Polygon\",\n",
    "        \"coordinates\": [\n",
    "          [\n",
    "            [\n",
    "              -93.12973022460938,\n",
    "              40.80029619806279\n",
    "            ],\n",
    "            [\n",
    "              -92.977294921875,\n",
    "              40.80029619806279\n",
    "            ],\n",
    "            [\n",
    "              -92.977294921875,\n",
    "              40.91247477328731\n",
    "            ],\n",
    "            [\n",
    "              -93.12973022460938,\n",
    "              40.91247477328731\n",
    "            ],\n",
    "            [\n",
    "              -93.12973022460938,\n",
    "              40.80029619806279\n",
    "            ]\n",
    "          ]\n",
    "        ]\n",
    "      }\n",
    "\n",
    "# Alternatively, we can load a GeoJSON file from our computer\n",
    "#with open('path/to/my.geojson', 'r') as f:\n",
    "#    aoi = json.load(f)['geometry']\n",
    "\n",
    "# Inspect our AOI\n",
    "#print(json.dumps(AOI, indent=1))"
   ]
  },
  {
   "cell_type": "markdown",
   "id": "26f251a6",
   "metadata": {},
   "source": [
    "### Get Basemap Quads that intersect our region"
   ]
  },
  {
   "cell_type": "markdown",
   "id": "71fef09e",
   "metadata": {},
   "source": [
    "Now that we have a region, we can setup a POST request the `/quads/search` endpoint on the Mosaics API and pass our region geometry in order to get back a list of quads that intersect our region. Quads on the Mosaics API follow the format in the response sample section [here](https://developers.planet.com/docs/basemaps/reference/#operation/getQuad)."
   ]
  },
  {
   "cell_type": "code",
   "execution_count": 6,
   "id": "22805f17",
   "metadata": {},
   "outputs": [
    {
     "name": "stdout",
     "output_type": "stream",
     "text": [
      "\n",
      "Found 4 quads that intersect region.\n"
     ]
    }
   ],
   "source": [
    "# Construct the quad search url and pass our aoi as the json body to the POST request\n",
    "# https://api.planet.com/basemaps/v1/mosaics/BASEMAP_ID/quads/search\n",
    "quads_url = BASE_URL + BASEMAP_ID + '/quads/search'\n",
    "quads_res = requests.post(url=quads_url, auth=auth, json=AOI).json()\n",
    "\n",
    "# The \"items\" list in the response contains the list on intersected quads\n",
    "quads = quads_res['items']\n",
    "\n",
    "# Handle pagination (when there are many quad results... default page_size is 50 items per page)\n",
    "next_page = quads_res[\"_links\"].get(\"_next\")\n",
    "while next_page:\n",
    "    print('Getting Additional Page of Quads:\\n {}'.format(next_page))\n",
    "    paged_res = requests.get(url=next_page, auth=auth).json()\n",
    "    quads = quads + paged_res['items']\n",
    "    next_page = paged_res[\"_links\"].get(\"_next\")\n",
    "\n",
    "print(\"\\nFound {} quads that intersect region.\".format(len(quads)))\n",
    "    \n",
    "# Inspect response\n",
    "#print(json.dumps(quads_res, indent=1))"
   ]
  },
  {
   "cell_type": "markdown",
   "id": "ae4cbcad",
   "metadata": {},
   "source": [
    "### Get the scene metadata for each contributing scene for every quad\n",
    "\n",
    "Finally, we can create a GeoJSON FeatureCollection that will be used to store all the contributing scene metadata we're retrieving. \n",
    "\n",
    "Then we can process each intersecting quad and follow the `items` link from the `_links` section which will give us a list of urls to each contributing scene on the Planet Data API for the quad. This may take some time if our region or number of quads is large, because this means there will likely be a large number of contributing scenes."
   ]
  },
  {
   "cell_type": "code",
   "execution_count": 7,
   "id": "c2010092",
   "metadata": {},
   "outputs": [],
   "source": [
    "# Setup a GeoJSON FeatureCollection to contain all contributing scenes\n",
    "contributing_scenes = {\n",
    "  \"type\": \"FeatureCollection\",\n",
    "  \"features\": []\n",
    "}"
   ]
  },
  {
   "cell_type": "code",
   "execution_count": 8,
   "id": "fec994dd",
   "metadata": {},
   "outputs": [
    {
     "name": "stdout",
     "output_type": "stream",
     "text": [
      "Found 17 contributing scenes\n"
     ]
    }
   ],
   "source": [
    "# Get all contributing scenes for each quad\n",
    "\n",
    "# Loop through our intersecting quads\n",
    "for quad in quads:\n",
    "    \n",
    "    # Get the contributing scenes links for each quad\n",
    "    contrib_scenes_url = quad['_links']['items']\n",
    "    contrib_scenes_links = requests.get(url=contrib_scenes_url, auth=auth).json()['items']\n",
    "    \n",
    "    # Get each of the contributing scenes' metadata\n",
    "    for link in contrib_scenes_links:\n",
    "        scene_metadata = requests.get(url=link['link'], auth=auth).json()\n",
    "        \n",
    "        # Inspect each scene\n",
    "        #print('\\nScene Id: {}'.format(scene_metadata['id']))\n",
    "        #print(scene_metadata)\n",
    "        \n",
    "        # Add each scene metadata to the FeatureCollection\n",
    "        contributing_scenes['features'].append(scene_metadata)\n",
    "\n",
    "print(\"Found {} contributing scenes\".format(len(contributing_scenes['features'])))\n",
    "        \n",
    "# Inspect Contributing Scenes GeoJSON\n",
    "#print(json.dumps(contributing_scenes, indent=1))"
   ]
  },
  {
   "cell_type": "markdown",
   "id": "2c5871fa",
   "metadata": {},
   "source": [
    "#### Save the list of contributing scene metadata\n",
    "\n",
    "We can now save our list of contributing scene metadata as a GeoJSON file:"
   ]
  },
  {
   "cell_type": "code",
   "execution_count": 9,
   "id": "ac7e9312",
   "metadata": {},
   "outputs": [],
   "source": [
    "with open('contributing-scenes-metadata.geojson', 'w') as outfile:\n",
    "    json.dump(contributing_scenes, outfile)"
   ]
  },
  {
   "cell_type": "markdown",
   "id": "abf94d23",
   "metadata": {},
   "source": [
    "### Conclusion\n",
    "\n",
    "We've demonstrated how to retrieve contributing scene metadata for a region in a Planet Basemap! \n",
    "\n",
    "The GeoJSON file containing the list of scenes includes footprint geometies that can be visualized with most GIS viewers and applications such as [QGIS](https://www.qgis.org/) or [geojson.io](http://geojson.io/), or used in scripts and workflows built in another notebook like this one. \n",
    "\n",
    "Furthermore, you can use the `_links` section in each of the contributing scene metadata to activate and download the scenes, or view them using the [Planet Data API](https://developers.planet.com/docs/apis/data/) or [Planet Web Tile Services](https://developers.planet.com/docs/basemaps/tile-services/), provided you have access. \n",
    "\n",
    "Note that not all contributing scenes will intersect with your region, since parts of a quad may lay outside of the intersection, although you can further intersect your region with the list of scenes to identify only scenes that intersect your region or area of interest. \n",
    "\n"
   ]
  },
  {
   "cell_type": "markdown",
   "id": "7fcedc65",
   "metadata": {},
   "source": [
    "### Sample Utility\n",
    "\n",
    "Below we've provided a sample utility function to get contributing scenes for a region in a basemap that brings together the steps we followed in this notebook.\n",
    "\n",
    "The utility takes: \n",
    "* A `basemap` parameter, which can be a basemap name or id\n",
    "* A `region` parameter, which can be a GeoJSON geometry python dict, or a path to a valid GeoJSON Feature file.\n",
    "* A `save` parameter, indicating whether to save the output to a GeoJSON file."
   ]
  },
  {
   "cell_type": "code",
   "execution_count": 10,
   "id": "470c2a7d",
   "metadata": {},
   "outputs": [],
   "source": [
    "def get_contributing_scenes_for_basemap_region(basemap, region, save=False):\n",
    "    '''\n",
    "    Gets contributing scenes metadata for a defined region in a basemap.\n",
    "    \n",
    "    :param string basemap: The basemap name or ID.\n",
    "    :param string region: The area of interest or region geometry. \n",
    "                          Can be a dict containing a GeoJSON geometry or a GeoJSON Feature.\n",
    "    :param bool save: Whether or not to save an output GeoJSON file.\n",
    "                      By default, does not save an output file.\n",
    "    :returns dict: A GeoJSON FeatureCollection dict with contributing scenes\n",
    "    '''\n",
    "    \n",
    "    # Create a session for our API requests\n",
    "    s = requests.Session()\n",
    "    s.auth = HTTPBasicAuth(os.getenv('PL_API_KEY'), '')\n",
    "    \n",
    "    BASE_URL = 'https://api.planet.com/basemaps/v1/mosaics/'\n",
    "    \n",
    "    # Use the mosaic name to retrieve the basemap\n",
    "    res = s.get(url=BASE_URL, params={'name__is': basemap}).json() \n",
    "\n",
    "    if len(res['mosaics']) >= 1:\n",
    "        # Get the first result from the response, this should be our basemap\n",
    "        mosaic = res['mosaics'][0]\n",
    "\n",
    "    else:\n",
    "        # Use a mosaic id to retrieve the basemap\n",
    "        mosaic = s.get(url=BASE_URL + basemap).json()\n",
    "        \n",
    "        if 'message' in mosaic:\n",
    "            print(mosaic['message'])\n",
    "            return\n",
    "    \n",
    "    print('Mosaic Name: {}\\n  Mosaic Id: {}\\n   API Link: {}'.format(mosaic['name'], mosaic['id'], mosaic['_links']['_self']))\n",
    "   \n",
    "    # Get the Geometry, if region is a string, open a file\n",
    "    if isinstance(region, str):\n",
    "        with open(region, 'r') as f:\n",
    "            aoi = json.load(f)['geometry']\n",
    "    elif isinstance(region, dict):\n",
    "        aoi = region\n",
    "    else:\n",
    "        print(\"Please provide a valid region (JSON dict or path to GeoJSON file)!\")\n",
    "        return\n",
    "    \n",
    "    # Construct the quad search url and pass our aoi as the json body to the POST request\n",
    "    # https://api.planet.com/basemaps/v1/mosaics/BASEMAP_ID/quads/search\n",
    "    quads_res = s.post(url=BASE_URL + mosaic['id'] + '/quads/search', json=aoi).json()\n",
    "\n",
    "    # The \"items\" list in the response contains the list on intersected quads\n",
    "    quads = quads_res['items']\n",
    "    \n",
    "    # Handle pagination (when there are many quad results... default page_size is 50 items per page)\n",
    "    next_page = quads_res[\"_links\"].get(\"_next\")\n",
    "    while next_page:\n",
    "        paged_res = s.get(url=next_page).json()\n",
    "        quads = quads + paged_res['items']\n",
    "        next_page = paged_res[\"_links\"].get(\"_next\")\n",
    "\n",
    "    print(\"\\nFound {} quads that intersect region.\".format(len(quads)))\n",
    "    \n",
    "    # Setup a GeoJSON FeatureCollection to contain all contributing scenes\n",
    "    contributing_scenes = {\n",
    "      \"type\": \"FeatureCollection\",\n",
    "      \"features\": []\n",
    "    }\n",
    "    \n",
    "    # Get all contributing scenes for each quad\n",
    "    # Loop through our intersecting quads\n",
    "    for quad in quads:\n",
    "\n",
    "        # Get the contributing scenes links for each quad\n",
    "        contrib_scenes_url = quad['_links']['items']\n",
    "        contrib_scenes_links = requests.get(url=contrib_scenes_url).json()['items']\n",
    "\n",
    "        # Get each of the contributing scenes' metadata\n",
    "        for link in contrib_scenes_links:\n",
    "            scene_metadata = s.get(url=link['link']).json()\n",
    "            \n",
    "            # Add each scene metadata to the FeatureCollection\n",
    "            contributing_scenes['features'].append(scene_metadata)\n",
    "    \n",
    "    print(\"Found {} contributing scenes\".format(len(contributing_scenes['features'])))\n",
    "    \n",
    "    if save:\n",
    "        # Save the contributing scenes list to a file\n",
    "        filename = mosaic['name'] + '-contrib-scenes.geojson'\n",
    "        with open(filename, 'w') as outfile:\n",
    "            json.dump(contributing_scenes, outfile)\n",
    "        print(\"Saved contributing scenes to file: {}\".format(filename))\n",
    "    else:\n",
    "        # Report output\n",
    "        print('\\nContributing Scenes GeoJSON FeatureCollection:')\n",
    "        \n",
    "    return\n",
    "    # Note: un-comment the below line to see the full metadata for all contributing scenes\n",
    "    # return contributing_scenes"
   ]
  },
  {
   "cell_type": "code",
   "execution_count": 11,
   "id": "c2fe02ca",
   "metadata": {},
   "outputs": [
    {
     "name": "stdout",
     "output_type": "stream",
     "text": [
      "Mosaic Name: global_monthly_2022_05_mosaic\n",
      "  Mosaic Id: 045711ab-a3c1-455a-8a2e-b9ff3b699f8a\n",
      "   API Link: https://api.planet.com/basemaps/v1/mosaics/045711ab-a3c1-455a-8a2e-b9ff3b699f8a?api_key=PLAKd4412d77080146a8bdf3e629239a7b37\n",
      "\n",
      "Found 4 quads that intersect region.\n",
      "Found 17 contributing scenes\n",
      "Saved contributing scenes to file: global_monthly_2022_05_mosaic-contrib-scenes.geojson\n"
     ]
    }
   ],
   "source": [
    "# Example Usage:\n",
    "# Get contributing scenes for a region in the May 2022 Global Monthly basemap and save the output\n",
    "get_contributing_scenes_for_basemap_region('global_monthly_2022_05_mosaic', AOI, True)"
   ]
  }
 ],
 "metadata": {
  "kernelspec": {
   "display_name": "Python 3 (ipykernel)",
   "language": "python",
   "name": "python3"
  },
  "language_info": {
   "codemirror_mode": {
    "name": "ipython",
    "version": 3
   },
   "file_extension": ".py",
   "mimetype": "text/x-python",
   "name": "python",
   "nbconvert_exporter": "python",
   "pygments_lexer": "ipython3",
   "version": "3.9.5"
  }
 },
 "nbformat": 4,
 "nbformat_minor": 5
}
