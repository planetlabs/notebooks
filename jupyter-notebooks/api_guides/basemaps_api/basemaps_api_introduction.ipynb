{
 "cells": [
  {
   "cell_type": "markdown",
   "id": "c3913705",
   "metadata": {},
   "source": [
    "Using the Basemaps API\n",
    "====================\n",
    "\n",
    "The Basemaps API allows access to data and metadata for basemaps you have access to as well as searching for and downloading quad data.\n",
    "\n",
    "This tutorial will introduce key concepts such as the relationship between Series, Mosaics, and Quads.  Along the way, we'll construct a small python client that you can use to do things like download quads through time for an AOI and TOI.\n",
    "\n",
    "Dependencies\n",
    "--------------------\n",
    "\n",
    "We'll only be using two non-stdlib python libraries, and both are very common dependencies.  We'll use `requests` and `urllib3`.  If you have `requests` installed, then you also have `urllib3` installed. If you don't, use `pip install requests` or similar approaches to install the `requests` library.\n",
    "\n",
    "\n",
    "Planet API Concepts\n",
    "-----------------------------\n",
    "\n",
    "For all Planet APIs, you'll need to set up authentication, retry \"slow down\" responses automatically, and handle pagination of responses.  None of these are specific to the basemaps API, but it's important to understand how to handle all of them in whatever language or environment you're using whenever you're working with any Planet API.\n",
    "\n",
    "First off, let's set up your API key and set up the `requests` library to pass it along and automatically retry some types of error codes.  Read the overview of API mechanics for any of Planet's APIs here to more fully understand what is being set up: https://developers.planet.com/docs/analytics/api-mechanics/"
   ]
  },
  {
   "cell_type": "code",
   "execution_count": null,
   "id": "94a865c0",
   "metadata": {},
   "outputs": [],
   "source": [
    "import os\n",
    "import time\n",
    "\n",
    "import requests\n",
    "from requests.adapters import HTTPAdapter\n",
    "from urllib3.util.retry import Retry\n",
    "\n",
    "# Let's get your API key. I'm assuming it's been set in the environment in this example\n",
    "# but you can also pass it along here...\n",
    "api_key = os.getenv(\"PL_API_KEY\")\n",
    "\n",
    "# Next, let's set up requests so that it will pass along the API key automatically\n",
    "session = requests.Session()\n",
    "session.auth = (api_key, '')\n",
    "\n",
    "# We also need to set up requests to honor and retry common \"slow down\" status codes\n",
    "# that the API may respond with as well as other retryable statuses.\n",
    "retries = Retry(total=10, backoff_factor=1, status_forcelist=[429, 502, 503])\n",
    "session.mount('https://', HTTPAdapter(max_retries=retries))"
   ]
  },
  {
   "cell_type": "markdown",
   "id": "0fe143d8",
   "metadata": {},
   "source": [
    "Just to aid readability and avoid displaying any sensitive information, let's also set up a quick utility printing method:"
   ]
  },
  {
   "cell_type": "code",
   "execution_count": null,
   "id": "2673a62d",
   "metadata": {},
   "outputs": [],
   "source": [
    "import re\n",
    "import pprint\n",
    "\n",
    "def display(content):\n",
    "    result = pprint.pformat(content)\n",
    "    result = re.sub(r'api_key=\\w+', 'api_key=XXXX', result)\n",
    "    print(result)"
   ]
  },
  {
   "cell_type": "markdown",
   "id": "0af8ec27",
   "metadata": {},
   "source": [
    "Next, let's list all mosaics you have access to.  This may be anywhere from just a few to tens of thousands.  To do so, we'll also need ot understand a key part of all Planet APIs: pagination.  The results from any search or listing response are paginated and return \"chunks\" of values rather than the entire set at once to reduce response time.  Therefore, for all Planet APIs, you need to handle pagination in the client code you write to interface with the APIs.  When results are paginated, there will be a `_next` URL inside the `_links` section of the response to retrieve the next chunk of results.\n",
    "\n",
    "So for example, let's try to list all mosaics that you have access to. For most users, you'll only get the first few responses and there will be a link for the next chunk of results. However, if you only have access to a few basemaps, there might only be one chunk and therefore no `_next` link."
   ]
  },
  {
   "cell_type": "code",
   "execution_count": null,
   "id": "c0a0c0dd",
   "metadata": {},
   "outputs": [],
   "source": [
    "basemaps_api_url = 'https://api.planet.com/basemaps/v1'\n",
    "url = f'{basemaps_api_url}/mosaics'\n",
    "\n",
    "rv = session.get(url)\n",
    "rv.raise_for_status()\n",
    "result = rv.json()\n",
    "display(result)"
   ]
  },
  {
   "cell_type": "markdown",
   "id": "152816d9",
   "metadata": {},
   "source": [
    "Okay, that's a big blob of JSON that's hard to read. Let's take a closer look at its structure..."
   ]
  },
  {
   "cell_type": "code",
   "execution_count": null,
   "id": "8b161415",
   "metadata": {},
   "outputs": [],
   "source": [
    "print(f\"This chunk has {len(result['mosaics'])} mosaics\")\n",
    "if '_next' in result['_links']:\n",
    "    print(\"There are more chunks to fetch - we did not get all results in the first page\")\n",
    "else:\n",
    "    print(\"We recieved all results in the first page\")"
   ]
  },
  {
   "cell_type": "markdown",
   "id": "401e5d88",
   "metadata": {},
   "source": [
    "For most users, you'll have multiple pages of results.  Even if you don't, you should still write the code in a way that expects multiple pages, as we'll use a similar pattern when searching for quads and doing other operations where there will always be multiple pages of results.\n",
    "\n",
    "Here's an example of what that might look like:"
   ]
  },
  {
   "cell_type": "code",
   "execution_count": null,
   "id": "6e58a739",
   "metadata": {},
   "outputs": [],
   "source": [
    "basemaps_api_url = 'https://api.planet.com/basemaps/v1'\n",
    "url = f'{basemaps_api_url}/mosaics'\n",
    "\n",
    "pages = []\n",
    "while True:\n",
    "    rv = session.get(url)\n",
    "    rv.raise_for_status()\n",
    "    page = rv.json()\n",
    "    pages.append(page)\n",
    "    if '_next' in page['_links']:\n",
    "        url = page['_links']['_next']\n",
    "    else:\n",
    "        break"
   ]
  },
  {
   "cell_type": "markdown",
   "id": "4c10f64b",
   "metadata": {},
   "source": [
    "That will work, but it's quite inconvient because the pages are an implementation detail that we shouldn't need to care about.  We just want an iterator over the individual items in each page.  Therefore, let's rewrite that a bit to something that's a touch more general:"
   ]
  },
  {
   "cell_type": "code",
   "execution_count": null,
   "id": "53ec089d",
   "metadata": {},
   "outputs": [],
   "source": [
    "def paginated_get(session, url, item_key, **kwargs):\n",
    "    while True:\n",
    "        rv = session.get(url, **kwargs)\n",
    "        rv.raise_for_status()\n",
    "        page = rv.json()\n",
    "        \n",
    "        for item in page[item_key]:\n",
    "            yield item\n",
    "            \n",
    "        if '_next' in page['_links']:\n",
    "            url = page['_links']['_next']\n",
    "        else:\n",
    "            break"
   ]
  },
  {
   "cell_type": "markdown",
   "id": "3ff1ee24",
   "metadata": {},
   "source": [
    "The general structure of making requests in the example above needs to be applied to any listing or searching operation for all Planet APIs.  Otherwise, you won't get all requests and you'll see only the first handful.  With that out of the way, we can dive a bit deeper into interacting with the Planet Basemaps API and look at mosaics, which are a dataset for a single time interval."
   ]
  },
  {
   "cell_type": "markdown",
   "id": "fbcbe9d4",
   "metadata": {},
   "source": [
    "Understanding Mosaic Metadata\n",
    "----------------------------------------------\n",
    "\n",
    "Let's back up a bit and take a look at one of the items that we listed earlier:"
   ]
  },
  {
   "cell_type": "code",
   "execution_count": null,
   "id": "00f75459",
   "metadata": {},
   "outputs": [],
   "source": [
    "display(result['mosaics'][0])"
   ]
  },
  {
   "cell_type": "markdown",
   "id": "f3de2ad1",
   "metadata": {},
   "source": [
    "That's the metadata for an individual mosaic.  The https://api.planet.com/basemaps/v1/mosaics endpoint retrieves info for mosaics, and each mosaic is a spatially consistent dataset for a specific time period.  The time period of data used is indicated by the `first_acquired` and `last_acquired` timestamps. Note that these are full timestamps in UTC time and 00:00 hours represents midnight of the following day per ISO specification.  In other words, `2024-01-01T00:00:00.000Z` is midnight in UTC time between December 31st 2023 and January 1st 2024.  See https://developers.planet.com/docs/basemaps/reference/#tag/Basemaps-and-Mosaics/operation/listMosaics for a description of all fields.\n",
    "\n",
    "Note that the `_self` entry under `_links` uses the `id`, which is a relatively non-human-readable UUID and not the mosaic name.  In the basemaps API, you can't directly request an item by name. Instead, you need to search with things for that name.  You can directly request an item by `id`, but it's rare that you'll have the `id` for a mosaic or series.  Most of the time, you'll know the name, not the `id`.\n",
    "\n",
    "Let's look up a mosaic by name. To do this, we'll use the `name__is` parameter (there is also `name__contains` if you want to search for mosaics that have a specific string in their names)."
   ]
  },
  {
   "cell_type": "code",
   "execution_count": null,
   "id": "00cf71d6",
   "metadata": {},
   "outputs": [],
   "source": [
    "mosaic_name = 'global_monthly_2021_02_mosaic'\n",
    "\n",
    "rv = session.get(f'{basemaps_api_url}/mosaics', params={'name__is': mosaic_name})\n",
    "rv.raise_for_status()\n",
    "display(rv.json()['mosaics'][0])"
   ]
  },
  {
   "cell_type": "markdown",
   "id": "53626ea4",
   "metadata": {},
   "source": [
    "Working with Series\n",
    "-----------------------------\n",
    "\n",
    "The basemaps product is a timeseries-focused analysis ready dataset.  While these examples focus on visual mosaics, note that SR mosaics are also common and are readily available.  Mosaics represent individual timesteps.  Series represent a timeseries of related data and each mosaic in the series is a different time interval. While not all mosaics belong to a larger time series, for most use cases, you'll want to start with a series rather than individual mosaics.\n",
    "\n",
    "Let's start by listing the names of all series that you have access to:"
   ]
  },
  {
   "cell_type": "code",
   "execution_count": null,
   "id": "4b6fd406",
   "metadata": {},
   "outputs": [],
   "source": [
    "all_series = paginated_get(session, f'{basemaps_api_url}/series', 'series')\n",
    "for item in all_series:\n",
    "    print(item['name'])"
   ]
  },
  {
   "cell_type": "markdown",
   "id": "ad5e8e34",
   "metadata": {},
   "source": [
    "Similar to mosaics, we can search based on a substring within the name and also look up a specific item by name. E.g. let's search for all standard \"select basemap\" series by listing all series with \"subscription\" in their names:"
   ]
  },
  {
   "cell_type": "code",
   "execution_count": null,
   "id": "0ad0dab0",
   "metadata": {
    "scrolled": true
   },
   "outputs": [],
   "source": [
    "results = paginated_get(\n",
    "    session, \n",
    "    f'{basemaps_api_url}/series', \n",
    "    'series', \n",
    "    params={'name__contains': 'subscription'},\n",
    ")\n",
    "for item in results:\n",
    "    print(item['name'])"
   ]
  },
  {
   "cell_type": "markdown",
   "id": "0f71b93c",
   "metadata": {},
   "source": [
    "Similar to mosaics, we can look up an indiviual mosaic by a `name__is` query when we don't know the ID of the series:"
   ]
  },
  {
   "cell_type": "code",
   "execution_count": null,
   "id": "e86edba2",
   "metadata": {},
   "outputs": [],
   "source": [
    "series_name = 'Global Monthly'\n",
    "\n",
    "rv = session.get(f'{basemaps_api_url}/series', params={'name__is': series_name})\n",
    "rv.raise_for_status()\n",
    "display(rv.json()['series'][0])"
   ]
  },
  {
   "cell_type": "markdown",
   "id": "6cbfbee1",
   "metadata": {},
   "source": [
    "Note the `interval` field in the series metadata displayed above. A series is a time-ordered set of mosaics on a regular cadence. Each mosaic within the series will have the same `interval` as the series.\n",
    "\n",
    "A key part of using a series is listing mosaics within that series. We can also limit the results to a particular time window via the `acquired__lt` and `acquired__gt` parameters.  Let's take a quick look at what that looks like:"
   ]
  },
  {
   "cell_type": "code",
   "execution_count": null,
   "id": "1815558d",
   "metadata": {},
   "outputs": [],
   "source": [
    "def series_metadata(session, series_name):\n",
    "    rv = session.get(f'{basemaps_api_url}/series', params={'name__is': series_name})\n",
    "    rv.raise_for_status()\n",
    "    return rv.json()['series'][0]\n",
    "\n",
    "def mosaics_in_series(session, series_name, start_date=None, end_date=None):\n",
    "    info = series_metadata(session, series_name)\n",
    "    url = info['_links']['mosaics']\n",
    "    mosaics = paginated_get(\n",
    "        session, \n",
    "        url, \n",
    "        'mosaics', \n",
    "        params={\n",
    "            'acquired__lt': end_date, \n",
    "            'acquired__gt': start_date,\n",
    "        },\n",
    "    )\n",
    "    return mosaics\n",
    "\n",
    "mosaics = mosaics_in_series(session, 'Global Monthly', start_date='2018-01-01', end_date='2019-01-01')\n",
    "for mosaic in mosaics:\n",
    "    display(mosaic)\n",
    "    print('\\n')"
   ]
  },
  {
   "cell_type": "markdown",
   "id": "718b654b",
   "metadata": {},
   "source": [
    "Searching for Quads\n",
    "------------------------------"
   ]
  },
  {
   "cell_type": "markdown",
   "id": "8dac83d0",
   "metadata": {},
   "source": [
    "Each mosaic is a single seamless dataset. However, the data is stored in smaller pieces called quads.  To download data via the basemaps API, you need to search for quads within a mosaic and download the data for each one.  Quads also contain critical localized metadata such as the scenes that contributed the data for each quad.\n",
    "\n",
    "There are two ways to search for quads: An arbitrary polygon search and a rectangular bounding box search. Let's explore some quick examples of both. To start with, we'll use a bounding box search:"
   ]
  },
  {
   "cell_type": "code",
   "execution_count": null,
   "id": "02810e2c",
   "metadata": {},
   "outputs": [],
   "source": [
    "def mosaic_metadata(session, mosaic_name):\n",
    "    rv = session.get(f'{basemaps_api_url}/mosaics', params={'name__is': mosaic_name})\n",
    "    rv.raise_for_status()\n",
    "    return rv.json()['mosaics'][0]\n",
    "\n",
    "def bbox_quad_search(session, mosaic_name, bbox):\n",
    "    info = mosaic_metadata(session, mosaic_name)\n",
    "    url = f'{basemaps_api_url}/mosaics/{info[\"id\"]}/quads'\n",
    "    quads = paginated_get(\n",
    "        session, \n",
    "        url, \n",
    "        'items', \n",
    "        params={'bbox': ','.join(map(str, bbox))}\n",
    "    )\n",
    "    return quads\n",
    "    \n",
    "# lon_min, lat_min, lon_max, lat_max\n",
    "bbox = -87.1, 35, -87, 35.1\n",
    "\n",
    "for item in bbox_quad_search(session, 'global_monthly_2021_02_mosaic', bbox):\n",
    "    display(item)"
   ]
  },
  {
   "cell_type": "markdown",
   "id": "6e8e39be",
   "metadata": {},
   "source": [
    "Note that each quad that's returned has some basic metadata such as a bounding box for the quad, the percentage of coverage (i.e. non-nodata pixels) and an ID.  You can also retrieve a quad directly by its ID. See the structure of the `_self` link to see an exmaple of a URL for a single quad.\n",
    "\n",
    "The `download` link gives a URL that can be used to download the data for each quad.  We'll come back to that in a future example.\n",
    "\n",
    "The `items` link can be used to retrieve contributing scene information for each quad.  The results will be a list of Planet Data API urls to the scenes that contributed. Let's take a quick look at an exmaple of those:"
   ]
  },
  {
   "cell_type": "code",
   "execution_count": null,
   "id": "ad5c942f",
   "metadata": {},
   "outputs": [],
   "source": [
    "for quad in bbox_quad_search(session, 'global_monthly_2021_02_mosaic', bbox):\n",
    "    url = quad['_links']['items']\n",
    "    rv = session.get(url)\n",
    "    rv.raise_for_status()\n",
    "    print(quad['id'])\n",
    "    print(rv.json()['items'])\n",
    "    print('\\n')"
   ]
  },
  {
   "cell_type": "markdown",
   "id": "e67c4299",
   "metadata": {},
   "source": [
    "Let's go back to searching for quads for a bit. In addition to bounding box searches, we can also make arbitrary polygon searches for quads. \n",
    "\n",
    "To do that, let's get an AOI set up. You could use `fiona` to read a polgyon from a shapefile, if that's easier. Note that this is a single geometry (can be a multipolygon or a polygon), and not a `FeatureCollection` or a `Feature`, just the raw geometry portion."
   ]
  },
  {
   "cell_type": "code",
   "execution_count": null,
   "id": "9560a33a",
   "metadata": {},
   "outputs": [],
   "source": [
    "# The API expects a geometry, not a feature or a feature collection!\n",
    "# This is a large AOI in the southeastern US.\n",
    "polygon = {\n",
    "    \"type\": \"Polygon\",\n",
    "    \"coordinates\": [[[-84.8280089534599, 33.593106818093858],\n",
    "                     [-85.054128959451859, 33.140866806109933],\n",
    "                     [-84.266356035350825, 32.783451312767802],\n",
    "                     [-83.693761826629256, 33.523811977547936],\n",
    "                     [-84.295532810317539, 33.954169408306832],\n",
    "                     [-84.8280089534599, 33.593106818093858]]]\n",
    "}"
   ]
  },
  {
   "cell_type": "markdown",
   "id": "76587f72",
   "metadata": {},
   "source": [
    "Arbitrary polygon quad searches work slightly differently than bounding box searches. Instead of using a GET request to the quads endpoint with a bbox parameter, we'll need to POST a geometry to the `quads/search` endpoint.  That means the pattern is slightly different:"
   ]
  },
  {
   "cell_type": "code",
   "execution_count": null,
   "id": "77e7ef0e",
   "metadata": {},
   "outputs": [],
   "source": [
    "def paginated_query(session, url, payload, item_key, **kwargs):\n",
    "    rv = session.post(url, json=payload, **kwargs)\n",
    "    rv.raise_for_status()\n",
    "    page = rv.json()\n",
    "    for item in page[item_key]:\n",
    "        yield item\n",
    "    \n",
    "    if '_next' in page['_links']:\n",
    "        url = page['_links']['_next']\n",
    "        for item in paginated_get(session, url, item_key, **kwargs):\n",
    "            yield item\n",
    "            \n",
    "def polygon_quad_search(session, mosaic_name, polygon):\n",
    "    info = mosaic_metadata(session, mosaic_name)\n",
    "    url = f'{basemaps_api_url}/mosaics/{info[\"id\"]}/quads/search'\n",
    "    return paginated_query(session, url, polygon, 'items')\n",
    "\n",
    "for quad in polygon_quad_search(session, 'global_monthly_2021_02_mosaic', polygon):\n",
    "    display(quad)\n",
    "    print('\\n')"
   ]
  },
  {
   "cell_type": "markdown",
   "id": "477166a1",
   "metadata": {},
   "source": [
    "Building a Client\n",
    "------------------------\n",
    "\n",
    "Up until now, we've been doing a lot of rather suboptimal things like passing around a `session` object everywhere and relying on a lot of global variables from previous cells.  These get clunky quickly, and you can see how it would be more convienent to have a few classes that handle this state for us with convienent methods to do common tasks with the basemaps API.  Put another way, the examples shown so far aren't reusable.  It would be nice to have something a bit more reusable and cleaner.\n",
    "\n",
    "With that in mind, let's tie all of these examples together into a simple client for the basemaps API that we can use to search for quads, list mosaics in a series, etc. This client is also provided in the `basemaps_client.py` file alongside this notebook. Let's load that file and inspect what it does:"
   ]
  },
  {
   "cell_type": "code",
   "execution_count": null,
   "id": "a637948d",
   "metadata": {},
   "outputs": [],
   "source": [
    "%load basemaps_client.py"
   ]
  },
  {
   "cell_type": "markdown",
   "id": "0105ca37",
   "metadata": {},
   "source": [
    "Using the Demo Client\n",
    "--------------------------------\n",
    "\n",
    "Now that we've created a client, we can use it to download data and/or retrieve information.  For example, let's repeat the previous example displaying quads inside an AOI for a specific mosaic:"
   ]
  },
  {
   "cell_type": "code",
   "execution_count": null,
   "id": "41433297",
   "metadata": {},
   "outputs": [],
   "source": [
    "# Assumes PL_API_KEY is set in environment variables. If not, pass it in.\n",
    "client = BasemapsClient(api_key=None) \n",
    "mosaic = client.mosaic(name='global_monthly_2021_02_mosaic')\n",
    "for quad in mosaic.quads(region=polygon):\n",
    "    display(quad.info)\n",
    "    print('\\n')"
   ]
  },
  {
   "cell_type": "markdown",
   "id": "c726e2a0",
   "metadata": {},
   "source": [
    "More usefully, though, we can operate on series easily as well. For example, let's summarize coverage for that same AOI for the full series:"
   ]
  },
  {
   "cell_type": "code",
   "execution_count": null,
   "id": "3647713b",
   "metadata": {},
   "outputs": [],
   "source": [
    "series = client.series(name='Global Monthly')\n",
    "for mosaic in series.mosaics(start_date='2017-01-01', end_date='2018-01-01'):\n",
    "    coverage = [quad.coverage for quad in mosaic.quads(region=polygon)]\n",
    "    avg = sum(coverage) / (len(coverage) or 1)\n",
    "    print(f'{mosaic.name} has {len(coverage)} quads in the AOI averaging {avg:0.1f}% coverage')"
   ]
  },
  {
   "cell_type": "markdown",
   "id": "d6e54f57",
   "metadata": {},
   "source": [
    "Note that the number of quads changes through time from 168 to 51.  That's because the tiling system changes through time. Therefore, it's important to always search for quads rather than trying to guess what quad IDs will be.  The same quad ID may be in a very different location for a different mosaic, as ID depends on the tiling system. If you do need to check if the tiling system for two mosaics is the same, check the `grid.quad_size`, `grid.resolution`, and `coordinate_system` metadata."
   ]
  },
  {
   "cell_type": "markdown",
   "id": "3a77543b",
   "metadata": {},
   "source": [
    "Contributing Scenes\n",
    "------------------------------\n",
    "Another common type of metadata we might want is the scenes that contributed to each mosaic quad. Let's get all contributing scenes for the AOI we've been working with for a single timestep. Note that adjacent quads will always use some of the same scenes, so it's important to de-duplicate contributing scenes when working with more than one quad.  We can do this by searching for quads and using the `items` endpoint for the quad, which returns contributing scenes in the form of Planet Data API URLs.  In our client, this is accessed via the `contribution` method of the `MosaicQuad`:"
   ]
  },
  {
   "cell_type": "code",
   "execution_count": null,
   "id": "ca5b77fa",
   "metadata": {},
   "outputs": [],
   "source": [
    "contributing_scenes = []\n",
    "for quad in client.mosaic('global_monthly_2017_06_mosaic').quads(region=polygon):\n",
    "    contributing_scenes += quad.contribution()\n",
    "    \n",
    "for item in sorted(set(contributing_scenes)):\n",
    "    print(item)"
   ]
  },
  {
   "cell_type": "markdown",
   "id": "573a37b1",
   "metadata": {},
   "source": [
    "Quad Download\n",
    "-----------------------\n",
    "\n",
    "If you have download access, you can also download quads for the series or for an individual mosaic. Let's use a bit of a smaller AOI for this example to avoid downloading large amounts of data:"
   ]
  },
  {
   "cell_type": "code",
   "execution_count": null,
   "id": "ae490e0e",
   "metadata": {},
   "outputs": [],
   "source": [
    "bbox = -87, 35, -86.9, 35.1\n",
    "# Note that we need to exhaust the iterator to actually download things!\n",
    "for item in series.download_quads(bbox=bbox, start_date='2023-01-01', end_date='2024-01-01'):\n",
    "    print(item)"
   ]
  },
  {
   "cell_type": "markdown",
   "id": "4d6350ac",
   "metadata": {},
   "source": [
    "As you can see, we downloaded quads overlapping the bounding box into directories based on the mosaic name.  Feel free to inspect the files/etc.  Then, let's clean those up:"
   ]
  },
  {
   "cell_type": "code",
   "execution_count": null,
   "id": "bbf5deb8",
   "metadata": {},
   "outputs": [],
   "source": [
    "import glob\n",
    "import shutil\n",
    "\n",
    "for dirname in glob.glob('global_monthly_*'):\n",
    "    shutil.rmtree(dirname)"
   ]
  }
 ],
 "metadata": {
  "kernelspec": {
   "display_name": "Python 3 (ipykernel)",
   "language": "python",
   "name": "python3"
  },
  "language_info": {
   "codemirror_mode": {
    "name": "ipython",
    "version": 3
   },
   "file_extension": ".py",
   "mimetype": "text/x-python",
   "name": "python",
   "nbconvert_exporter": "python",
   "pygments_lexer": "ipython3",
   "version": "3.10.12"
  }
 },
 "nbformat": 4,
 "nbformat_minor": 5
}
