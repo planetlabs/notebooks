{
 "cells": [
  {
   "cell_type": "markdown",
   "metadata": {},
   "source": [
    "###  Planet Analytics API Tutorial\n",
    "\n",
    "<h1 style=\"margin-top:10px;\">Getting Started with Planet Analytics API</h1>\n",
    "\n",
    "## Overview\n",
    "\n",
    "1. [Introduction](#1.-Introduction) \n",
    "\n",
    "> Introduction to Planet Analytics capabilities and concepts: Feeds, Subscriptions, Results.\n",
    "\n",
    "2. [API Mechanics](#2.-API-mechanics)\n",
    "\n",
    "> Overview of available API endpoints, specifications, documentation, and authentication. We'll also introduce the `Requests` library.\n",
    "\n",
    "3. [Making our first request to the Planet Analytics API](#3.-Making-our-first-request-to-the-Planet-Analytics-API)\n",
    "\n",
    "> Use the `Requests` python library to authenticate, connect, and download data from the Planet Analytics API\n",
    "\n",
    "\n",
    "4. [Working with Planet Analytics Data](#4.-Working-with-Planet-Analytics-API-data)\n",
    "\n",
    "> Explore and visualize Planet Analytics data using `GeoPandas` and `iPyLeaflet`\n",
    "\n"
   ]
  },
  {
   "cell_type": "markdown",
   "metadata": {},
   "source": [
    "## 1. Introduction\n",
    "\n",
    "The Planet Analytics API leverages computer vision to transform Planet imagery into *analytic feeds* that detect and classify objects, identify geographic features, and monitor change over time across the globe. \n",
    "\n",
    "This tutorial series corresponds with the Analytics Feeds [User Guide](https://developers.planet.com/docs/analytics/), and is intended to help developers access the Planet Analytics API in order to build applications and solutions on top of this unique dataset.\n",
    "\n",
    "This installment of the tutorial series will focus on connecting to the API and serve as an overview of the concepts of **Feeds** and **Subscriptions**, the two basic building blocks of an \"analytics feed\".\n",
    "\n",
    "### Feeds \n",
    "A **Feed** represents an analytic derived from Planet imagery. Each feed essentially represents an analytic capability that has been uniquely configured to optimize performance and quality, and each have unique types of outputs. For example, a Road Detection Feed represents roads detected on monthly Planet Basemaps, and outputs raster \"segmentation mask\" data. Several types of Feeds are currently available on the Planet Analytics API, and we plan on releasing new feeds in the future.\n",
    "\n",
    "### Subscriptions \n",
    "Users have *subscriptions to feeds* in a specific Area of Interest (AOI) and Time Interval of Interest (TOI). For example, a **Subscription** could be Road Detections over 12 months in San Francisco, California. \"Subscribing\" to a Feed is how a user can initiate the process of leveraging an analytic capability over an AOI/TOI and generate analytics datasets called \"Results\".\n",
    "\n",
    "We'll be covering how to access the available Feeds and Subscriptions in this tutorial.\n",
    "\n",
    "### Results\n",
    "\n",
    "When new Planet imagery is published that intersects a Subscription's AOI and TOI, Planet’s computer vision models process the imagery and the output is added to a \"collection\" of **Results** associated with the Subscription. \n",
    "\n",
    "The next tutorial in this series will examine results in more detail.\n",
    "\n",
    "Visit us at [planet.com](https://www.planet.com/products/analytics/) to learn more about Planet's unique analytics capabilities and offerings."
   ]
  },
  {
   "cell_type": "markdown",
   "metadata": {},
   "source": [
    "## 2. API mechanics\n",
    "---\n",
    "\n",
    "### API Endpoints\n",
    "\n",
    "The Planet Analytics API can be accessed at the following base URL: `api.planet.com/analytics`\n",
    "\n",
    "The main endpoints available correspond to the three types of data exposed on the API: **Feeds**, **Subscriptions**, and **Results**\n",
    "\n",
    "* `/feeds` - Feeds\n",
    "* `/subscriptions` - Subscriptions\n",
    "* `/collections` - Subscription Results \"Collections\"\n",
    "    * `/collections/{COLLECTION ID}/items` - Subscription Results \"Features\" (Detections)\n",
    "\n",
    "\n",
    "In this tutorial, we'll make some example requests to the Planet Analytics API programmatically to demonstrate how the **Feeds** and **Subscriptions** endpoints work and what data they can provide us.\n",
    "\n",
    "The next tutorials in this series will cover **Results** endpoints and working with analytics data in more detail.\n",
    "\n",
    "Before we dive into working with these endpoints, let's go over some more API mechanics and make sure we know how to access the documentation!"
   ]
  },
  {
   "cell_type": "markdown",
   "metadata": {},
   "source": [
    "\n",
    "### Documentation\n",
    "\n",
    "The documentation extensively lists all the available endpoints and their available `HTTP methods`, as well as any options or `query parameters` that are available for us to control.\n",
    "\n",
    "For a full listing and more information on each endpoint, view the interactive API documentation website: [developers.planet.com/docs/analytics](https://developers.planet.com/docs/analytics/)\n",
    "\n",
    "There you can view in depth listings on all available endpoints, query parameters, and response payloads and statuses."
   ]
  },
  {
   "cell_type": "markdown",
   "metadata": {},
   "source": [
    "### API Specifications\n",
    "\n",
    "The Planet Analytics API follows a RESTful (Representational State Transfer) API interface over HTTP:\n",
    "\n",
    "\n",
    "#### HTTP Basics\n",
    "\n",
    "Communicating with the Planet Analytics API is achieved via [Hypertext Transfer Protocol](https://en.wikipedia.org/wiki/Hypertext_Transfer_Protocol) (HTTP) by sending \"HTTP requests\" from a \"client\" (your computer or another server) to the Planet Analytics API server, which will issue \"responses\" back to the requester. \n",
    "\n",
    "There are many ways to make an HTTP request including command line programs such as [cURL](https://curl.haxx.se/) and libraries written for specific programming languages like [httplib](https://docs.python.org/2/library/httplib.html) in Python.\n",
    "\n",
    "Requests can also be made from your favorite web browser, or other graphical user interfaces (GUI) such as [Insomnia](https://insomnia.rest/). We can even use [QGIS](https://www.qgis.org) to request our Planet Analytics API results.\n",
    "\n",
    "\n",
    "To facilitate ease-of-use and ensure quality and compliance for a wide variety of applications, the Planet Analytics API implements two standardized specifications: \n",
    "* OpenAPI\n",
    "* WFS 3.0\n",
    "\n",
    "\n",
    "#### OpenAPI\n",
    "\n",
    "<img src=\"https://www.openapis.org/wp-content/uploads/sites/3/2018/02/OpenAPI_Logo_Pantone-1.png\" align=\"right\" style=\"margin-left: 20px\" width=\"100\"></img>\n",
    "\n",
    "The Planet Analytics API conforms to the **[OpenAPI Specfication](https://github.com/OAI/OpenAPI-Specification)**. \n",
    "\n",
    "> The OpenAPI Specification, formerly known as the Swagger Specification, is the world’s standard for defining RESTful interfaces. The OAS enables developers to design a technology-agnostic API interface that forms the basis of their API development and consumption.\n",
    "\n",
    "\n",
    "\n",
    "#### WFS 3.0\n",
    "\n",
    "<img src=\"http://www.opengeospatial.org/pub/www/files/OGC_Logo_2D_Blue_x_0_0.png\" align=\"right\" style=\"margin-left: 20px\" width=\"100\"></img>\n",
    "\n",
    "The Planet Analytics API's **Results** (`collections` and `items`) endpoints follow the [Open Geospatial Consortium's](http://www.opengeospatial.org) (OGC) [Web Feature Service 3.0](https://github.com/opengeospatial/WFS_FES) (WFS) specification.\n",
    "\n",
    "\n",
    "> A Web Feature Service (WFS) is a standard API that represents collections of geospatial data.\n",
    "\n",
    "\n",
    "Conformance information for the Planet Analytics API is available at [https://api.planet.com/analytics/conformance](https://api.planet.com/analytics/conformance)\n",
    "\n",
    "You can view the the Planet Analytics API spec `swagger` definition document at **[https://api.planet.com/analytics/swagger.json](https://api.planet.com/analytics/swagger.json)** \n",
    "\n"
   ]
  },
  {
   "cell_type": "markdown",
   "metadata": {},
   "source": [
    "### Using the Requests library\n",
    "\n",
    "In this tutorial, we'll use the **[Requests](http://docs.python-requests.org)** python library to make our `HTTP requests` to the Planet Analytics API.\n",
    "\n",
    "<img src=\"imgs/requests-logo.png\" align=\"right\" style=\"margin-right: 20px\" width=\"50\"></img>\n",
    "\n",
    "> Requests is an elegant and simple HTTP library for Python, built for human beings.\n",
    "\n",
    "\n",
    "*Remember, any libraries or applications that can perform HTTP requests can be used to access the Planet Analytics API. The mechanics will be fairly identical to how we use the Requests library here, so feel free to try your favorite client!* "
   ]
  },
  {
   "cell_type": "markdown",
   "metadata": {},
   "source": [
    "### API Authentication\n",
    "\n",
    "#### Setup authentication for Requests\n",
    "\n",
    "Some of the content on the Planet Analytics API is only be available to specific users. We'll need to authenticate each of our requests to the Planet Analytics API in order to access the content that is available to us. \n",
    "\n",
    "We can do this by setting an `Authorization` [`HTTP header`](https://developer.mozilla.org/en-US/docs/Web/HTTP/Headers) on our requests to one of the three available authentication types:\n",
    "\n",
    "\n",
    "\n",
    "* `api-key`\n",
    "* `Basic`\n",
    "* `Bearer` (JWT - JSON Web Token)\n",
    "\n",
    "To find more information on each of these authentication approaches, see the [authentication section](https://api.planet.com/analytics/docs#section/Authentication) in the Planet Analytics API documentation. \n",
    "\n",
    "\n",
    "##### Basic Authentication\n",
    "\n",
    "We'll use [Basic Authentication](https://api.planet.com/analytics/docs#section/Authentication/Basic) to authenticate with the Planet Analytics API, via Requests' [`HTTPBasicAuth`](http://docs.python-requests.org/en/master/user/authentication/?highlight=auth#basic-authentication) package. \n",
    "\n",
    "Using the Requests library's helpful shorthand argument `auth=('USERNAME','PASSWORD')` makes it very easy to send an authenticated HTTP request! \n",
    "\n",
    "We can use either our Planet `username` and `password`, or simply pass in our `Planet API key` as the username."
   ]
  },
  {
   "cell_type": "markdown",
   "metadata": {},
   "source": [
    "##### Import Packages "
   ]
  },
  {
   "cell_type": "code",
   "execution_count": null,
   "metadata": {},
   "outputs": [],
   "source": [
    "# Before we start, let's first import the packages we will need for this tutorial\n",
    "\n",
    "import os\n",
    "import requests\n",
    "import json\n",
    "import pprint\n",
    "import pandas as pd\n",
    "import geopandas as gpd\n",
    "from shapely.geometry import shape\n",
    "from fiona.crs import from_epsg\n",
    "from ipyleaflet import Map, GeoData, basemaps, LayersControl"
   ]
  },
  {
   "cell_type": "markdown",
   "metadata": {},
   "source": [
    "To find your Planet API key, you can visit your [Planet Account Page](https://www.planet.com/account). If you don't have an account yet, [sign up for one here](https://www.planet.com/login/?mode=signup) !\n",
    "\n",
    "Let's set our API key in a variable called `API_KEY`. "
   ]
  },
  {
   "cell_type": "code",
   "execution_count": null,
   "metadata": {},
   "outputs": [],
   "source": [
    "# Here, we've already stored our Planet API key as an environment variable on our system \n",
    "# Alternatively, you can just set your API key directly as a string variable:\n",
    "if os.environ.get('PL_API_KEY', ''):\n",
    "    API_KEY = os.environ.get('PL_API_KEY', '')\n",
    "else:\n",
    "    API_KEY = 'YOUR_API_KEY_HERE'"
   ]
  },
  {
   "cell_type": "code",
   "execution_count": null,
   "metadata": {},
   "outputs": [],
   "source": [
    "# Use our API key as the basic authentication username\n",
    "apiAuth = (API_KEY, '')\n",
    "\n",
    "# Alternatively, you can use your Planet username and password\n",
    "# apiAuth = (\"me@planet.com\", 'mypassword')"
   ]
  },
  {
   "cell_type": "markdown",
   "metadata": {},
   "source": [
    "After we've got our API credentials set up, we're ready to continue to the next section and make our first request!"
   ]
  },
  {
   "cell_type": "markdown",
   "metadata": {},
   "source": [
    "## 3. Making our first request to the Planet Analytics API\n",
    "---"
   ]
  },
  {
   "cell_type": "markdown",
   "metadata": {},
   "source": [
    "Let's start to explore the **Feeds** and **Subscriptions** data available to us by interacting directly with the API and making our first request! \n",
    "\n",
    "#### Configure the base URL\n",
    "\n",
    "Once we have our authentication variable set up, we can create a variable that holds the \"base URL\" of the Planet Analytics API. This is the root URL onto which we add endpoints."
   ]
  },
  {
   "cell_type": "code",
   "execution_count": null,
   "metadata": {},
   "outputs": [],
   "source": [
    "# Planet Analytics API base url\n",
    "PAA_BASE_URL = \"https://api.planet.com/analytics/\""
   ]
  },
  {
   "cell_type": "markdown",
   "metadata": {},
   "source": [
    "### First request: Get a list of available Feeds\n",
    "\n",
    "Let's make a request to get information on all our available `Feeds`. \n",
    "\n",
    "The request should go to the following address: https://api.planet.com/analytics/feeds"
   ]
  },
  {
   "cell_type": "markdown",
   "metadata": {},
   "source": [
    "#### Setup the Request Endpoint"
   ]
  },
  {
   "cell_type": "code",
   "execution_count": null,
   "metadata": {},
   "outputs": [],
   "source": [
    "# Define our endpoint to point to \"feeds\"\n",
    "feeds_endpoint = \"feeds\"\n",
    "\n",
    "# Construct the URL for the HTTP request \n",
    "#(Planet Analytics API base URL + desired endpoint)\n",
    "request_url = PAA_BASE_URL + feeds_endpoint"
   ]
  },
  {
   "cell_type": "markdown",
   "metadata": {},
   "source": [
    "#### Make the Request\n",
    "Since we're making a `GET` request, we'll use Requests' `.get` method. Now, let's create our request by passing our request URL and auth variable. Running the next cell should make a call out to the Planet Analytics API."
   ]
  },
  {
   "cell_type": "code",
   "execution_count": null,
   "metadata": {},
   "outputs": [],
   "source": [
    "# Make the GET request\n",
    "response = requests.get(request_url, auth=apiAuth)\n",
    "\n",
    "print(response)"
   ]
  },
  {
   "cell_type": "markdown",
   "metadata": {},
   "source": [
    "If our request call above was **successful** we should get back a response with a [`200 OK`](https://developer.mozilla.org/en-US/docs/Web/HTTP/Status/200) `HTTP status code`! \n",
    "\n",
    "\n",
    "If we get any other type response, we may be doing something wrong and be running into an error. There should be a message and an `HTTP status code` in the response with more information to help us debug. \n",
    "\n",
    "\n",
    "All expected response codes and their messages are listed in the `Response Schema` section for each endpoint in the Planet Analytics API documentation.\n",
    "\n",
    "Most importantly, our successful response also delivers a payload in the response `body` that should contain **[`JSON`](https://www.json.org/)** data.\n",
    "\n",
    "###### *Congratulations!* You've just made your first request to the Planet Analytics API!\n",
    "\n",
    "Next, let's take a look at the data we received."
   ]
  },
  {
   "cell_type": "markdown",
   "metadata": {},
   "source": [
    "### Reading Response Data\n",
    "\n",
    "We need to decode our response `JSON` to inspect the payload. \n",
    "Once we do, we should see a `data` property in the payload that contains a list or array of **Feed** objects:"
   ]
  },
  {
   "cell_type": "code",
   "execution_count": null,
   "metadata": {},
   "outputs": [],
   "source": [
    "# Decode the response JSON body to a python dict\n",
    "response_json = response.json()\n",
    "\n",
    "print(response_json)"
   ]
  },
  {
   "cell_type": "markdown",
   "metadata": {},
   "source": [
    "If the response field 'data' property is an empty array, this means you don't have any Analaytic subscriptions in your account. Please contact your customer support manager or contact sales at [https://www.planet.com/contact-sales/](https://www.planet.com/contact-sales/) to resolve this problem.\n",
    "\n",
    "Further on in this tutorial we'll cover the specifics of this response, but for now let's focus on the format of our responses."
   ]
  },
  {
   "cell_type": "markdown",
   "metadata": {},
   "source": [
    "#### JSON Responses\n",
    "\n",
    "If you're used to working with `JSON` then you should be able to understand the above output. `JSON` contains `key-value` pairs of data. \n",
    "\n",
    "\n",
    "All responses from the Planet Analytics API should return `JSON` data, either single `JSON` objects or sometimes nested lists of objects along with other properties. \n",
    "\n",
    "\n",
    "The raw, unformatted output above is a bit hard to read for most humans though...\n",
    "\n",
    "Using the `json` python package, we can \"beautify\" the response data to make it easier to read:"
   ]
  },
  {
   "cell_type": "code",
   "execution_count": null,
   "metadata": {},
   "outputs": [],
   "source": [
    "# \"Beautify\" JSON with json.dumps\n",
    "beautified_json = json.dumps(response_json, sort_keys=True, indent=4)\n",
    "\n",
    "print(beautified_json)"
   ]
  },
  {
   "cell_type": "markdown",
   "metadata": {},
   "source": [
    "Alternatively, we can also use python's [`pprint`](https://docs.python.org/3.7/library/pprint.html) module to \"beautify\" our dict"
   ]
  },
  {
   "cell_type": "code",
   "execution_count": null,
   "metadata": {},
   "outputs": [],
   "source": [
    "# Use the pprint module\n",
    "pp = pprint.PrettyPrinter(indent=4)"
   ]
  },
  {
   "cell_type": "code",
   "execution_count": null,
   "metadata": {},
   "outputs": [],
   "source": [
    "# Beautify our response_json dict with pp\n",
    "pp.pprint(response_json)"
   ]
  },
  {
   "cell_type": "markdown",
   "metadata": {},
   "source": [
    "Finally, let's export the \"beautified\" data into a `JSON` file that we'll call `feeds.json`:"
   ]
  },
  {
   "cell_type": "code",
   "execution_count": null,
   "metadata": {},
   "outputs": [],
   "source": [
    "# Write a new .json file to disk\n",
    "with open('feeds.json', 'w') as file:\n",
    "    file.write(beautified_json)\n",
    "\n",
    "# Alternatively, you could write the data directly from the response without beautifying it first\n",
    "# with open('subscriptions.json', 'w') as file:\n",
    "#    file.write(response.text)"
   ]
  },
  {
   "cell_type": "markdown",
   "metadata": {},
   "source": [
    "The code in the cell above should save a new file with our feeds list."
   ]
  },
  {
   "cell_type": "markdown",
   "metadata": {},
   "source": [
    "### Interpreting Response Data\n",
    "\n",
    "Our response from the `feeds` endpoint request contains a property called \"`data`\", which in this case contains a list of individual **Feed** objects available on the API. The `subscriptions` endpoint also contains a `data` property with analogous objects for **Subscriptions**. The `data` property in the top level response object contains most of the data we'd expect to be looking for, while the other properties like `links` are meta data. \n",
    "\n",
    "##### Links\n",
    "\n",
    "We also see the OpenAPI style `links` property which is useful to get direct links to the request we made. We'll see similar `links` properties for both **Subscriptions** and **Results** that will give us an easy way to follow pagination and get related assets as well!\n",
    "\n",
    "Since the **Results** section of the API follows the `WFS3` spec, the responses will look a bit different. We'll go in depth on Results in the second tutorial in this series.\n",
    "\n",
    "##### Query Parameters\n",
    "\n",
    "Many endpoints also expose `query parameters` like `before` and `limit`, that can help us paginate through responses or look for specific types of responses. We'll cover some of these later on, but you can always refer the documentation to see which `query parameters` are available for each endpoint."
   ]
  },
  {
   "cell_type": "markdown",
   "metadata": {},
   "source": [
    "### Putting it all together\n",
    "\n",
    "We've broken the steps down above, but making this request is as easy as this simple one-liner in python code:\n",
    "\n",
    "\n",
    "\n",
    "```\n",
    "requests.get(\"https://api.planet.com/analytics/feeds\", auth=(API_KEY,'')).json()\n",
    "```\n",
    "\n",
    "\n"
   ]
  },
  {
   "cell_type": "markdown",
   "metadata": {},
   "source": [
    "## 4. Working with Planet Analytics API data\n",
    "---\n",
    "\n",
    "Let's take a closer look at **Feeds** and **Subscriptions** by looking at a single Feed and a list of Subscriptions for a Feed."
   ]
  },
  {
   "cell_type": "markdown",
   "metadata": {},
   "source": [
    "### Feed Info\n",
    "\n",
    "The response from the `/feeds/` endpoint gives us a list of available Feeds under that `data` property. We'll discuss what the data for each of these Feeds means next, but first let's use the `id` property to request an individual Feed directly. \n",
    "\n",
    "The `id` is a [Universally Unique Identifier](https://en.wikipedia.org/wiki/Universally_unique_identifier) (UUID) string, and as the name suggests, is unique to each element.\n",
    "\n",
    "Here's how we can construct the url to a single Feed using it's `id`:"
   ]
  },
  {
   "cell_type": "code",
   "execution_count": null,
   "metadata": {},
   "outputs": [],
   "source": [
    "# Get a feed ID the user has access to\n",
    "feed_id = requests.get(\"https://api.planet.com/analytics/feeds\", auth=(API_KEY,'')).json()['data'][0]['id']\n",
    "print('feed_id: {}'.format(feed_id))\n",
    "\n",
    "# URL to request a single feed\n",
    "single_feed_url = PAA_BASE_URL + feeds_endpoint + \"/\" + feed_id\n",
    "\n",
    "print('single_feed_url: {}'.format(single_feed_url))"
   ]
  },
  {
   "cell_type": "markdown",
   "metadata": {},
   "source": [
    "Now let's make a request using the single Feed url:"
   ]
  },
  {
   "cell_type": "code",
   "execution_count": null,
   "metadata": {},
   "outputs": [],
   "source": [
    "# Get the single Feed from our GET request response\n",
    "single_feed = requests.get(single_feed_url, auth=(API_KEY,'')).json()\n",
    "\n",
    "print(json.dumps(single_feed, indent=1))"
   ]
  },
  {
   "cell_type": "markdown",
   "metadata": {},
   "source": [
    "We can see that the **Feed** includes information like the `title`, `description`, `id`, and dates indicating when the Feed was `created` and `updated`. \n",
    "\n",
    "We also see a `target` property containing `type`, which will let us know what kind of **Results** the Feed generates (collections of features vs raster mosaics).\n",
    "\n",
    "Under the `source` property, we see the configuration for the source imagery that the Feed operates on. The `query` property under `source` `config` should be familiar if you've worked with the [Planet Data API](https://developers.planet.com/docs/apis/data/), and we can see which Planet `item type` the Feed is configured to use (ex. `PSScene`). \n",
    "\n",
    "Finally the `links` property is also available as we've seen before.\n",
    "\n",
    "In the next section, let's take a look at a **Subscription** associated with a particular **Feed**."
   ]
  },
  {
   "cell_type": "markdown",
   "metadata": {},
   "source": [
    "### Working with Subscriptions\n",
    "\n",
    "We can get a list of available **Subscriptions** in the same we we did for Feeds, by making a request to the `/subscriptions` endpoint. We can also get a single Subscription using it's `id` by appending it to the Subscriptions endpoint: `/subscriptions/{SUBSCRIPTION_ID}`. "
   ]
  },
  {
   "cell_type": "code",
   "execution_count": null,
   "metadata": {},
   "outputs": [],
   "source": [
    "# Define the subscriptions endpoint \n",
    "subscriptions_endpoint = 'subscriptions'\n",
    "\n",
    "# Construct a URL to list all available subscriptions\n",
    "feed_subscriptions_url = PAA_BASE_URL + subscriptions_endpoint\n",
    "\n",
    "print(feed_subscriptions_url)"
   ]
  },
  {
   "cell_type": "markdown",
   "metadata": {},
   "source": [
    "The `/subscriptions` endpoint additionally exposes a `query parameter` that let's us get a list of available Subscriptions that are associated with a particular Feed, using the Feed's `id`. The parameter is called `feedID` and takes a valid Feed `id` uuid.\n",
    "\n",
    "Let's make a request that lists all Subscriptions for the Feed we just looked at: "
   ]
  },
  {
   "cell_type": "code",
   "execution_count": null,
   "metadata": {},
   "outputs": [],
   "source": [
    "# Set query parameters for the request\n",
    "# Use the feedID`\n",
    "feed_subscriptions_params = {\"feedID\": feed_id}\n",
    "\n",
    "# Make the request to the api\n",
    "feed_subscriptions_response = requests.get(feed_subscriptions_url, params=feed_subscriptions_params, auth=(API_KEY,'')).json()\n",
    "\n",
    "# Get the list of subscriptions from the 'data' property of the response\n",
    "subscriptions = feed_subscriptions_response['data']\n",
    "\n",
    "# Print the number of subscriptions found for the given feed\n",
    "print(\"{} subscriptions found for Feed with id:\\n{}\\n\".format(len(subscriptions), feed_id))\n",
    "\n",
    "# Print the subscriptions list\n",
    "print(json.dumps(subscriptions, indent=1))"
   ]
  },
  {
   "cell_type": "markdown",
   "metadata": {},
   "source": [
    "We should now have a list of **Subscriptions** associated with the Feed from the previous section!\n",
    "\n",
    "### Subscription Info\n",
    "\n",
    "Once again, we can see that each Subscription object in the list contains properties for `id`, `title`, `description`, `links`, and timestamps for `created` and `updated`.\n",
    "\n",
    "For Subscriptions, we also see a `feedID` property which contains the `uuid` of the associated **Feed**."
   ]
  },
  {
   "cell_type": "markdown",
   "metadata": {},
   "source": [
    "#### Time of Interest (TOI) \n",
    "\n",
    "There are also two additional timestamps available in our Subscription data, under the `startTime` and `endTime` properties. \n",
    "\n",
    "These two timestamps are used to indicate the \"Time of Interest\" (TOI) for the Subscription, meaning the Subscription will process over Planet imagery that was collected or published (according to the Feed configuration) over that time span. No `endTime` property means that the Subscription will continue to run indefinitely. "
   ]
  },
  {
   "cell_type": "markdown",
   "metadata": {},
   "source": [
    "#### Subscription Geometry (AOI)\n",
    "\n",
    "The Subscription's `geometry` property is a [`GeoJSON geometry`](https://tools.ietf.org/html/rfc7946#section-3.1) object, and indicates the shape and location of the \"Area of Interest\" (AOI) where the Feed is processing Planet imagery and making new detections.\n",
    "\n",
    "\n",
    "Valid geometry `types` for subscriptions are: \n",
    "\n",
    "* [Point](https://tools.ietf.org/html/rfc7946#section-3.1.2)\n",
    "* [LineString](https://tools.ietf.org/html/rfc7946#section-3.1.4)\n",
    "* [Polygon](https://tools.ietf.org/html/rfc7946#section-3.1.6)\n",
    "* [MultiPoint](https://tools.ietf.org/html/rfc7946#section-3.1.3)\n",
    "* [MultiLineString](https://tools.ietf.org/html/rfc7946#section-3.1.5)\n",
    "* [MultiPolygon](https://tools.ietf.org/html/rfc7946#section-3.1.7)\n",
    "\n",
    "\n",
    "Here's an example of what a Subscription's geometry looks like:"
   ]
  },
  {
   "cell_type": "code",
   "execution_count": null,
   "metadata": {},
   "outputs": [],
   "source": [
    "subscriptions[0]['geometry']"
   ]
  },
  {
   "cell_type": "markdown",
   "metadata": {},
   "source": [
    "We can see that the `geometry` object is made up of **longitutde** and **latitude** coordinate pairs, and has a `GeoJSON` type property, in this case \"Polygon\". \n",
    "\n",
    "You may already have a sense of what part of the Earth our Subscription AOI covers from these coordinates, but let's see how we can use Python to visualize the AOI and also explore our data in the next section."
   ]
  },
  {
   "cell_type": "markdown",
   "metadata": {},
   "source": [
    "### Exploring and visualizing Planet Analytics Data\n",
    "\n",
    "The python data science eco-system is teeming with useful libraries, packages, and tools to help us explore our data. Let's use [Pandas](https://pandas.pydata.org/) to take a closer look."
   ]
  },
  {
   "cell_type": "markdown",
   "metadata": {},
   "source": [
    "\n",
    "### Pandas\n",
    "\n",
    "In order to make our Planet Analytics API data a little easier to work with in our Jupyter Notebook, we can take our Subscriptions list from the response data and convert it to a `Pandas DataFrame`.\n",
    "\n",
    "   \n",
    "#### Python Data Analysis Library (pandas)   \n",
    "<img src=\"https://pandas.pydata.org/static/img/pandas.svg\" align=\"right\" style=\"margin-left: 20px\" width=\"150\"></img>\n",
    "\n",
    "> pandas is an open source, BSD-licensed library providing high-performance, easy-to-use data structures and data analysis tools for the Python programming language.\n",
    "\n",
    "It's pretty easy to create a new `DataFrame` from our `JSON` data. We just need to pass in our Subscriptions array/list:"
   ]
  },
  {
   "cell_type": "code",
   "execution_count": null,
   "metadata": {},
   "outputs": [],
   "source": [
    "# Create a Pandas DataFrame with our subscriptions list data\n",
    "df = pd.DataFrame(subscriptions)\n",
    "\n",
    "# Same as:\n",
    "# pd.DataFrame.from_dict(subscriptions)\n",
    "\n",
    "# Show the first 5 rows of our DataFrame in a table\n",
    "df.head()"
   ]
  },
  {
   "cell_type": "markdown",
   "metadata": {},
   "source": [
    "Great! We now have a neat table output that's easy to read and comes with some built in data manipulation functionality. This should be familiar to anyone that's done some data-science with Python and Jupyter Notebooks. We can see all the properties we discussed earlier are now our DataFrame columns."
   ]
  },
  {
   "cell_type": "markdown",
   "metadata": {},
   "source": [
    "Let's browse the titles and descriptions for our Subscriptions:"
   ]
  },
  {
   "cell_type": "code",
   "execution_count": null,
   "metadata": {},
   "outputs": [],
   "source": [
    "df[['title', 'description']].head(20)"
   ]
  },
  {
   "cell_type": "markdown",
   "metadata": {},
   "source": [
    "\n",
    "#### GeoPandas\n",
    "\n",
    "Since one of the most important aspects of our Subscription data is the location/AOI or `geometry` which it covers, we can also use **[GeoPandas](http://geopandas.org/)** to work with our Subscriptions.\n",
    "\n",
    "    \n",
    "> GeoPandas extends the datatypes used by `pandas` to allow spatial operations on geometric types. Geometric operations are performed by [`shapely`](https://github.com/Toblerity/Shapely). Geopandas further depends on [`Fiona`](https://fiona.readthedocs.io)  for file access and `descartes` and `matplotlib` for plotting.\n",
    "\n",
    "\n",
    "\n",
    "In order to take advantage of GeoPanda's geographic functionality, we'll need to convert each subscription geometry from a `GeoJSON geometry` object to a [`shapely`](https://github.com/Toblerity/Shapely) geometry object. GeoPandas will be able to understand the geometry natively from `shapely` and create a [`GeoSeries`](http://geopandas.org/data_structures.html#geoseries), which it uses to unlock the additional geospatial capabilities it brings to Pandas."
   ]
  },
  {
   "cell_type": "code",
   "execution_count": null,
   "metadata": {},
   "outputs": [],
   "source": [
    "# Create a new GeoPandas DataFrame from our subscriptions data \n",
    "gdf = gpd.GeoDataFrame(subscriptions)\n",
    "\n",
    "# Transform geometry column values into shapely objects\n",
    "gdf.set_geometry(gdf['geometry'].apply(shape), inplace=True)\n",
    "\n",
    "# Show first 5 subscriptions    \n",
    "gdf.head()"
   ]
  },
  {
   "cell_type": "markdown",
   "metadata": {},
   "source": [
    "Our geometry data type has now changed to a `GeoSeries`:"
   ]
  },
  {
   "cell_type": "code",
   "execution_count": null,
   "metadata": {
    "scrolled": true
   },
   "outputs": [],
   "source": [
    "# Get the type for the geometry column\n",
    "type(gdf['geometry'])"
   ]
  },
  {
   "cell_type": "markdown",
   "metadata": {},
   "source": [
    "Let's take a look at a single subscription in a bit more detail. "
   ]
  },
  {
   "cell_type": "code",
   "execution_count": null,
   "metadata": {},
   "outputs": [],
   "source": [
    "# Select the first subscription row as a DataFrame\n",
    "subscription_1 = gdf.iloc[[0]]\n",
    "\n",
    "# Print out the GeoDataFrame for the first subscription row\n",
    "subscription_1"
   ]
  },
  {
   "cell_type": "code",
   "execution_count": null,
   "metadata": {},
   "outputs": [],
   "source": [
    "subscription_1['geometry']"
   ]
  },
  {
   "cell_type": "markdown",
   "metadata": {},
   "source": [
    "### Geospatial applications with GeoPandas\n",
    "\n",
    "GeoPandas allows us to manipulate and do calculations on our **Subscription** `geometry`. \n",
    "\n",
    "#### Example: Getting the Subscription AOI's Area\n",
    "\n",
    "For starters, let's use GeoPandas to get the **area** of our geometry (in km²)! Before we do, we need to understand how GeoPandas handles our data in a bit more detail.\n",
    "\n",
    "\n",
    "##### Geometry CRS\n",
    "\n",
    "The coordinate pairs that make up our original `GeoJSON` geometries are all expressed in [Longitude and Latitude](https://en.wikipedia.org/wiki/Geographic_coordinate_system#Latitude_and_longitude). \n",
    "\n",
    "But the geometric shapes we created with `shapely` in our GeoDataFrame's `GeoSeries` are currently just a collection of coordinates in an arbitrary space.\n",
    "\n",
    "Before we can do geospatial queries on our `DataFrame`, we need to set a [coordinate reference system](https://en.wikipedia.org/wiki/Spatial_reference_system) (CRS) for the `GeoSeries` to ensure our calculations are done in the correct units, for example `meters`.\n",
    "\n",
    "*For more about how GeoPandas handles projections, visit the GeoPandas documentation [here](http://geopandas.org/projections.html#managing-projections).*\n",
    "\n",
    "\n",
    "Let's start by checking for a CRS in our row's `GeoSeries`:"
   ]
  },
  {
   "cell_type": "code",
   "execution_count": null,
   "metadata": {},
   "outputs": [],
   "source": [
    "# Check our initial CRS \n",
    "initial_crs = subscription_1.crs\n",
    "\n",
    "print(\"Initial CRS: {}\".format(initial_crs))\n",
    "\n",
    "# Should be 'None' at first"
   ]
  },
  {
   "cell_type": "markdown",
   "metadata": {},
   "source": [
    "We didn't specify a CRS when we created our `GeoSeries`, so `None` is expected here. So what CRS should we use then?\n",
    "\n",
    "    \n",
    "According to the [GeoJSON spec](https://tools.ietf.org/html/rfc7946#section-4), the CRS used by `GeoJSON` is the [World Geodetic System 1984](https://en.wikipedia.org/wiki/World_Geodetic_System) (`WGS84`). \n",
    "\n",
    ">The coordinate reference system for all GeoJSON coordinates is a\n",
    "   geographic coordinate reference system, using the World Geodetic\n",
    "   System 1984 (`WGS84`) datum, with longitude and latitude units\n",
    "   of decimal degrees. \n",
    "\n",
    "This means our original geometry data uses `WGS84`. The EPSG code for `WGS84` is [`EPSG:4326`](http://spatialreference.org/ref/epsg/wgs-84/). \n",
    "\n",
    "**This will be true for any geographic (GeoJSON) data available via the Planet Analytics API.**\n",
    "\n",
    "Let's get the CRS definition for `EPSG:4326` using a helper function from the [Fiona](https://fiona.readthedocs.io) library (represented as a mapping of [proj.4](https://proj4.org/) parameters):"
   ]
  },
  {
   "cell_type": "code",
   "execution_count": null,
   "metadata": {},
   "outputs": [],
   "source": [
    "# Get a projection definition using Fiona's `from_epsg` to access the proj4 definition\n",
    "proj_def = from_epsg('4326')['init']\n",
    "\n",
    "print(\"Projection Definition: {}\".format(proj_def))"
   ]
  },
  {
   "cell_type": "markdown",
   "metadata": {},
   "source": [
    "Now that we've got the definition, let's set the intial CRS on our `GeoSeries` to `WGS84` using the `proj_def` from the previous cell:"
   ]
  },
  {
   "cell_type": "code",
   "execution_count": null,
   "metadata": {},
   "outputs": [],
   "source": [
    "# Set the GeoSeries CRS\n",
    "subscription_1.crs = proj_def\n",
    "\n",
    "# Check our NEW CRS\n",
    "print(\"New CRS: {}\".format(subscription_1.crs))"
   ]
  },
  {
   "cell_type": "markdown",
   "metadata": {},
   "source": [
    "Perfect! Our `GeoSeries` now uses the correct CRS!\n",
    "\n",
    "Now that we've understood what's going on under the hood, there's actually a way we could have set the CRS when we initially transformed our `GeoJSON` geometries into `shapely` objects to create the GeoSeries by using the `crs` argument and passing in our projection definition `proj_def`:\n",
    "\n",
    "\n",
    "```\n",
    "gdf.set_geometry(gdf['geometry'].apply(shape), inplace=True, crs=proj_def)\n",
    "```\n",
    "\n",
    "\n",
    "Either way, it's important that an intial CRS is set on our `GeoSeries`* so that we can re-project the data if we need to, which we'll see is the case when calculating the area. Undoubtedly these concepts will be important when we take other approaches as well.\n",
    "\n",
    "\\* *So far in this notebook, we've only set the CRS on the first subscription row. The alternative method described in this cell would set the CRS for all rows' geometries* "
   ]
  },
  {
   "cell_type": "markdown",
   "metadata": {},
   "source": [
    "#### Projected Coordinate Systems\n",
    "\n",
    "Now that we have an initial CRS set to `WGS84`, we know that the current units of our `GeoSeries` are in (decimal) **degrees**. \n",
    "\n",
    "Since we're interested in getting the area in **square kilometers**, first we'll need to reproject out geometry to a Cartesian projected coordinate system like [EPSG:3857](https://epsg.io/3857), whose units are expressed in **meters**:"
   ]
  },
  {
   "cell_type": "code",
   "execution_count": null,
   "metadata": {},
   "outputs": [],
   "source": [
    "# Re-project row geometry to EPSG:3857\n",
    "projected = subscription_1.to_crs(epsg=3857)\n",
    "\n",
    "# Display the CRS of our re-projected row geometry\n",
    "projected.crs"
   ]
  },
  {
   "cell_type": "markdown",
   "metadata": {},
   "source": [
    "#### Calculate the area of the subscription geometry\n",
    "\n",
    "Finally we can use the `.area` [`GeoSeries` attribute](http://geopandas.org/data_structures.html#attributes) on the re-projected `GeoSeries` to get the area of our subscription geometry "
   ]
  },
  {
   "cell_type": "code",
   "execution_count": null,
   "metadata": {},
   "outputs": [],
   "source": [
    "# Get the area (will be in meters)\n",
    "area_m = projected.area.values[0]\n",
    "\n",
    "# Convert the area to squared kilometers and round to two decimal places\n",
    "area_km2 = round(area_m / 100000, 2)\n",
    "\n",
    "# Print the subscription area in km2\n",
    "print(\"\\n Subscription Area: {} km\\xB2\".format(area_km2))"
   ]
  },
  {
   "cell_type": "markdown",
   "metadata": {},
   "source": [
    "### Visualizing the subscription geometry"
   ]
  },
  {
   "cell_type": "markdown",
   "metadata": {},
   "source": [
    "Let's visually inspect at our first subscription's geometry. We can use [GeoPanda's built in `.plot()` method](http://geopandas.org/mapping.html) to render a [matplotlib](https://matplotlib.org/) chart:"
   ]
  },
  {
   "cell_type": "code",
   "execution_count": null,
   "metadata": {},
   "outputs": [],
   "source": [
    "subscription_1"
   ]
  },
  {
   "cell_type": "code",
   "execution_count": null,
   "metadata": {},
   "outputs": [],
   "source": [
    "# Plot the subscription geometry\n",
    "subscription_1.plot()"
   ]
  },
  {
   "cell_type": "markdown",
   "metadata": {},
   "source": [
    "The above gives us the shape and location of the subscription geometry, but doesn't provide much context...\n",
    "\n",
    "#### Interactive Visualizations with iPyLeaflet\n",
    "\n",
    "Let's use **[ipyleaflet](https://ipyleaflet.readthedocs.io/en/latest/#)** to create an interactive web map with the subscription geometry so we can see a bit more context around the geometry. \n",
    "\n",
    "Leaflet is one of the most popular open-source JavaScript libraries for interactive maps. It’s widely used by GIS applications like OpenStreetMap, Mapbox, and CartoDB.\n",
    "\n",
    "The ipyleaflet Python package makes it easy to integrate and control Leaflet maps in Python. It is released as part of the [PyViz](http://pyviz.org/) suite.\n"
   ]
  },
  {
   "cell_type": "code",
   "execution_count": null,
   "metadata": {},
   "outputs": [],
   "source": [
    "# Let's look at our multipolygon centroid in (Lat, Long)\n",
    "import warnings\n",
    "warnings.simplefilter('ignore')\n",
    "print(subscription_1['geometry'].centroid)\n",
    "\n",
    "# We need to input the center of our map in reverse order (Long, Lat) \n",
    "# because we are working with a geodataframe (Shapely object)\n",
    "# Make sure the coordinates below match the ones printed using the line above, in reverse order.\n",
    "m = Map(center=(-10.21351, -48.39203), zoom = 7, basemap= basemaps.Esri.WorldTopoMap)\n",
    "\n",
    "geo_data = GeoData(geo_dataframe = subscription_1, columns=['geometry'], name = 'MultiPolygon')\n",
    "\n",
    "\n",
    "\n",
    "m.add_layer(geo_data)\n",
    "m.add_control(LayersControl())\n",
    "\n",
    "m"
   ]
  },
  {
   "cell_type": "markdown",
   "metadata": {},
   "source": [
    "**Voila!** We've got an interactive web map that let's us zoom and pan around our geometry, with an `xyz` web map tile layer as a basemap. \n",
    "\n",
    "Of course, we could have created a similar visualization with other python/jupyter mapping libraries like [Cartopy](https://scitools.org.uk/cartopy/docs/latest/), [Folium](https://python-visualization.github.io/folium/), [GeoViews](https://geoviews.org/), or [mapboxgl-jupyter](https://github.com/mapbox/mapboxgl-jupyter). But so far we've only just scratched the surface of using these tools to explore our data. We'll see some more of the power the PyViz suite further along in our tutorials. "
   ]
  },
  {
   "cell_type": "markdown",
   "metadata": {},
   "source": [
    "### Exporting a Subscription"
   ]
  },
  {
   "cell_type": "markdown",
   "metadata": {},
   "source": [
    "The last thing we'll do in this tutorial is to save our Subscription along with it's `geometry` as an [ESRI Shapefile](https://en.wikipedia.org/wiki/Shapefile) that we can open in our GIS software of choice. You can read more about the various I/O capabilities built into GeoPandas [here](http://geopandas.org/io.html#writing-spatial-data)."
   ]
  },
  {
   "cell_type": "markdown",
   "metadata": {},
   "source": [
    "## Conclusion\n",
    "\n",
    "In the next tutorial, we'll explore Planet Analytics API **Results** and dive deeper into how we can use Planet's Analytic data to unlock impactful insights!"
   ]
  }
 ],
 "metadata": {
  "kernelspec": {
   "display_name": "Python 3 (ipykernel)",
   "language": "python",
   "name": "python3"
  },
  "language_info": {
   "codemirror_mode": {
    "name": "ipython",
    "version": 3
   },
   "file_extension": ".py",
   "mimetype": "text/x-python",
   "name": "python",
   "nbconvert_exporter": "python",
   "pygments_lexer": "ipython3",
   "version": "3.13.7"
  }
 },
 "nbformat": 4,
 "nbformat_minor": 4
}
