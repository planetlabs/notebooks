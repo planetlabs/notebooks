{
 "cells": [
  {
   "cell_type": "markdown",
   "metadata": {},
   "source": [
    "###  Planet Analytics API Tutorial\n",
    "\n",
    "<h1 style=\"margin-top:10px;\">Change Detection</h1>\n",
    "\n",
    "## Overview\n",
    "\n",
    "1. [Introduction](#1.-Introduction) \n",
    "\n",
    "> Introduction to Planet Change Detection Feeds\n",
    "\n",
    "2. [Change Detection Results](#2.-Change-Detection-Results)\n",
    "\n",
    "> Investigate change detection results data\n",
    "    \n",
    "3. [Visualizing Change Detections](#3.-Visualizing-Change-Detections)\n",
    "    \n",
    "> Explore change detection datasets visually and against Planet imagery\n",
    "\n",
    "4. [Change Detections Tip & Cue Tasking](#4.-Change-Detections-Tip-&-Cue-Tasking)\n",
    "    \n",
    "> Task high resolution collects using change detections\n"
   ]
  },
  {
   "cell_type": "markdown",
   "metadata": {},
   "source": [
    "## 1. Introduction\n",
    "\n",
    "In the previous notebook, we took a look at accessing Planet Analytic Feeds Results for both segmentation and object detection, and showed how to visualize Analytic Feeds data with maps and Planet imagery. \n",
    "\n",
    "In this notebook, we take a closer look at a specific type of change: Road & Building Constructions. We'll show how to use Analytic Feeds and Subscriptions to get this type of Change Detection result, and we'll show how this data can be visualized."
   ]
  },
  {
   "cell_type": "markdown",
   "metadata": {},
   "source": [
    "## 2. Change Detection Results\n",
    "\n",
    "Planet's Road & Building Change Detection product has been built through the following steps:\n",
    "\n",
    "1. Develop a high performing road and building detection model and leverage it to extract roads and buildings from imagery\n",
    "2. Run road and building detection over an AOI for an extended period of time, gathering as many data points as possible. From month to month, variations in atmosphere, shadows and other factors cause very small differences in the outputs over time leading to significant noise or “flicker”\n",
    "3. We de-noise the results by considering the temporal context of each pixel detected. This leads to a more consistent output, however it does introduce a \"lag\" in when we are able to detect change\n",
    "4. We then compare the most recent de-noised output with the previous de-noised output, pull out the differences and vectorize them into polygons, or more specifically into grid cells. This has the benefit of signaling where our model has detected a change.\n",
    "\n",
    "#### How do we define building and road construction?\n",
    "\n",
    "By buildings, we refer to any 3D man-made structure that is static and where a person could take shelter in. For example, this includes residential buildings, stadiums, warehouses and storage tanks. \n",
    "\n",
    "By roads, we mean any man-made path designed for cars to drive on. \n",
    "\n",
    "Our definition of construction is the transition of land into these man-made structures. It does not include reconstruction or modification of existing structures. For example, new stories added to a building will not be detected.\n",
    "\n",
    "#### What does a change detection result represent?\n",
    "\n",
    "In the building construction feed, a change result contains a geographic polygon or grid cell that represents the footprint of a contiguous area where we have detected building construction. Thus, these polygons represent general built-up area, and may not identify individual buildings. They may be a group of small buildings clumped together, or a new adjacent wing of an existing building.\n",
    "\n",
    "In the case of the road construction feed, the change results also contain a polygon or grid cell. It represents the footprint of a contiguous area where a road segment has been constructed.\n",
    "\n",
    "#### When did the change actually occur?\n",
    "\n",
    "Building construction is typically detected an average of two months after the event took place, while road construction is detected an average of two and half months after the event took place. Our system performs statistical inference on the time series of images at the pixel level, and issues a change detection once there is enough confidence that a true transition occurred. Currently, we use images from Planet's Monthly Basemaps, which have a monthly sampling rate. This results in an average lag of two to two and half month lag and a monthly cadence. \n",
    "\n",
    "![Diagram that explains the relationship between when a building or road event happens and when it is actually detected to illustrate cadence/lag](./imgs/cadence_lag_diagram.png)"
   ]
  },
  {
   "cell_type": "markdown",
   "metadata": {},
   "source": [
    "### Accessing Change Detection Results\n",
    "\n",
    "Let's get started by accessing one of our Subscriptions. We'll see how we can get it's associated **Results** and we'll explore and visualize the data!\n",
    "\n",
    "First we'll setup our API `base url` and `authentication` so we can make our `request`, just like in the previous tutorial.\n"
   ]
  },
  {
   "cell_type": "code",
   "execution_count": null,
   "metadata": {},
   "outputs": [],
   "source": [
    "import os\n",
    "import requests\n",
    "\n",
    "# Configure Auth and Base URL\n",
    "\n",
    "# Planet Analytics API base URL\n",
    "PAA_BASE_URL = \"https://api.planet.com/analytics/\"\n",
    "\n",
    "# API Key Config\n",
    "API_KEY = os.environ['PL_API_KEY']\n",
    "\n",
    "# Alternatively, you can just set your API key directly as a string variable:\n",
    "# API_KEY = \"YOUR_PLANET_API_KEY_HERE\"\n",
    "\n",
    "# Setup Auth\n",
    "BASIC_AUTH = (API_KEY, '')\n",
    "\n",
    "# Create a requests session to use\n",
    "session = requests.Session()\n",
    "\n",
    "# Setup authentication on our requests session\n",
    "session.auth=BASIC_AUTH"
   ]
  },
  {
   "cell_type": "markdown",
   "metadata": {},
   "source": [
    "Next we'll use the `Requests` library to get a list of our available Subscriptions. "
   ]
  },
  {
   "cell_type": "code",
   "execution_count": null,
   "metadata": {},
   "outputs": [],
   "source": [
    "# Check that everything is setup correctly\n",
    "subscriptions_list_url = PAA_BASE_URL + 'subscriptions' + '?limit=1000'\n",
    "resp = session.get(subscriptions_list_url)\n",
    "if resp.status_code == 200:\n",
    "    print('Successfully accessed Planet Analytics API')\n",
    "    subscriptions = resp.json()['data']\n",
    "    print('Available subscriptions:', len(subscriptions))\n",
    "else:\n",
    "    print('There was an error accessing the Planet Analytics API:', resp.content)"
   ]
  },
  {
   "cell_type": "markdown",
   "metadata": {},
   "source": [
    "We'll make a couple helper functions for \"pretty printing\" our responses:"
   ]
  },
  {
   "cell_type": "code",
   "execution_count": null,
   "metadata": {},
   "outputs": [],
   "source": [
    "# Pretty Print Helper\n",
    "import pprint\n",
    "pp = pprint.PrettyPrinter(indent=4)\n",
    "\n",
    "# JSON Pretty Print Helper\n",
    "import json\n",
    "\n",
    "def jpp(data):\n",
    "    print(json.dumps(data, indent=4))"
   ]
  },
  {
   "cell_type": "markdown",
   "metadata": {
    "slideshow": {
     "slide_type": "fragment"
    }
   },
   "source": [
    "#### Change Detection Subscription\n",
    "\n",
    "Now let's access a Change Detection subscription by making a request to the `subscriptions` endpoint using a **subscription id**."
   ]
  },
  {
   "cell_type": "code",
   "execution_count": null,
   "metadata": {},
   "outputs": [],
   "source": [
    "# Define the Subscripton UUID\n",
    "#subscription_id = \"PASTE_YOUR_SUBSCRIPTION ID HERE\"\n",
    "\n",
    "# Define the Subscripton UUID\n",
    "#subscription_id = \"PASTE_YOUR_SUBSCRIPTION ID HERE\"\n",
    "\n",
    "# Example subcription IDs:\n",
    "\n",
    "# Melbourne, Australia:\n",
    "subscription_id = \"2f71f34a-c9f0-4348-9c5d-278b1d7a6b02\" # Monthly Road Construction\n",
    "#subscription_id = \"234e9cb1-49f1-418a-899e-52e4edfd55d4\" # Monthly Building Construction\n",
    "\n",
    "# Mckinney City, Texas, USA:\n",
    "#subscription_id = \"c84d91c5-2d04-4447-a0a6-806b2a297343\" # Monthly Building Construction\n",
    "\n",
    "# Old Baldy, New Mexico, USA:\n",
    "#subscription_id = \"c4ed4a53-dacf-4fa3-8570-5804f67c330b\"\n",
    "\n",
    "# Construct the URL for the Subscription\n",
    "subscription_url = PAA_BASE_URL + 'subscriptions/' + subscription_id\n",
    "\n",
    "print(\"Request URL: {}\".format(subscription_url))\n",
    "\n",
    "# Make the GET request for Subscriptions list \n",
    "subscription = session.get(subscription_url).json()\n",
    "\n",
    "# Print the subscription object\n",
    "print(json.dumps(subscription, sort_keys=True, indent=4))\n",
    "\n",
    "# Print subscription data\n",
    "print(\"{} \\n{}\\nSubscription Id: {}\\n\".format(subscription['title'], subscription['description'], subscription['id']))\n"
   ]
  },
  {
   "cell_type": "markdown",
   "metadata": {},
   "source": [
    "The above output should look familiar from the previous tutorials. We see the title, AOI, TOI, and other metadata about the Subscription.\n",
    "\n",
    "Now we can move on to getting the change detection items from the **Results** collection for this Subscription:"
   ]
  },
  {
   "cell_type": "markdown",
   "metadata": {},
   "source": [
    "#### Change Detection Results Items\n",
    "\n",
    "We can use the Subscription `id` property to get the `items` from the **Results** `collection`  for this Subscription. \n",
    "\n",
    "Since there are multiple pages of results returned from the API, we'll follow the `next` links provided in the API response and fetch all of the results using our `get_next_link` helper function:"
   ]
  },
  {
   "cell_type": "code",
   "execution_count": null,
   "metadata": {},
   "outputs": [],
   "source": [
    "# Helper to get the \"next\" link\n",
    "def get_next_link(links):\n",
    "    for link in links:\n",
    "        if link['rel'] == 'next':\n",
    "            return link['href']"
   ]
  },
  {
   "cell_type": "code",
   "execution_count": null,
   "metadata": {},
   "outputs": [],
   "source": [
    "# Get the URL for the subscription's results collection items, using the 'rel' link from the subscription object\n",
    "subscription_items_url = list(filter(lambda link: link['rel'] == 'results', subscription['links']))[0]['href']\n",
    "\n",
    "print(\"Subscription Items URL:\\n{}\\n\".format(subscription_items_url))\n",
    "\n",
    "# Get subscription results items (Change Detections)\n",
    "subscription_items = session.get(subscription_items_url).json()\n",
    "\n",
    "# First next link\n",
    "next_link =  get_next_link(subscription_items['links'])\n",
    "\n",
    "# Loop to get all pages of features\n",
    "while next_link:\n",
    "    \n",
    "    print('Getting page: {}'.format(next_link))\n",
    "    \n",
    "    # Use \"next\" link to request next page\n",
    "    next_collection = session.get(next_link).json()\n",
    "    \n",
    "    # Add features from new page to our original list of features\n",
    "    subscription_items['features'].extend(next_collection['features'])\n",
    "            \n",
    "    # Get the next \"next\" link\n",
    "    next_link = get_next_link(next_collection[\"links\"])"
   ]
  },
  {
   "cell_type": "code",
   "execution_count": null,
   "metadata": {},
   "outputs": [],
   "source": [
    "# Inspect our subscription items GeoJSON FeatureCollection\n",
    "\n",
    "print('Total Change Detection Items: {}'.format(len(subscription_items['features'])))\n",
    "\n",
    "subscription_items"
   ]
  },
  {
   "cell_type": "markdown",
   "metadata": {},
   "source": [
    "### Working with Change Detection Results\n",
    "\n",
    "Now that we've got our Change Detection items, let's use use GeoPandas to explore our data:"
   ]
  },
  {
   "cell_type": "code",
   "execution_count": null,
   "metadata": {},
   "outputs": [],
   "source": [
    "import geopandas as gpd\n",
    "import pandas as pd\n",
    "\n",
    "# Make a GeoPandas data frame from our collection items\n",
    "items_gdf = gpd.GeoDataFrame.from_features(subscription_items['features'])\n",
    "\n",
    "# Show the first five results from our GeoDataFrame\n",
    "items_gdf.head()"
   ]
  },
  {
   "cell_type": "markdown",
   "metadata": {},
   "source": [
    "### Result Item Properties\n",
    "\n",
    "Let's take a look at the rest of the columns available to us:"
   ]
  },
  {
   "cell_type": "code",
   "execution_count": null,
   "metadata": {},
   "outputs": [],
   "source": [
    "# List the item properties (columns)\n",
    "for column in items_gdf.columns.values:\n",
    "    print(column)"
   ]
  },
  {
   "cell_type": "markdown",
   "metadata": {},
   "source": [
    "##### Source Properties\n",
    "The `source_` properties all relate to the source satellite imagery that the detections were made against. The `source_quad_id` is the [Planet Basemaps Quad](https://developers.planet.com/docs/basemaps/) file identifier of the original source imagery file.\n",
    "\n",
    "##### Detection Object Properties\n",
    "The `object_` properties describe some meta-data about each detection, like the area (for polygons). \n",
    "\n",
    "Also relevant are the `geometry` (the \"footprint\" of the detection) and `observed`. \n",
    "\n",
    "The properties of each change detection result include dates that confidently delimit the possible time range of the event.  `date_after` is when change is detected, and `date_before` represents an estimation of the latest month before change took place.  "
   ]
  },
  {
   "cell_type": "markdown",
   "metadata": {},
   "source": [
    "## 3. Visualizing Change Detections"
   ]
  },
  {
   "cell_type": "markdown",
   "metadata": {},
   "source": [
    "In this section, we'll take a look at our Change Detection **Results** with interactive visualizations using [PyViz tools](https://pyviz.org). We'll create the following visualizations to explore the change detection dataset:\n",
    "\n",
    "* Change Detections Overview\n",
    "* Monthly Change Detections\n",
    "* Monthly Change Detection Heatmap\n",
    "* Individual Change Detection"
   ]
  },
  {
   "cell_type": "markdown",
   "metadata": {},
   "source": [
    "### Change Detections Overview\n",
    "\n",
    "Our first visualization will plot all of the change detections for the loaded subscription."
   ]
  },
  {
   "cell_type": "code",
   "execution_count": null,
   "metadata": {},
   "outputs": [],
   "source": [
    "# Import visualization dependencies\n",
    "import holoviews as hv\n",
    "import geoviews as gv\n",
    "from geoviews import tile_sources as gvts\n",
    "import shapely\n",
    "from shapely.geometry import shape, Polygon\n",
    "\n",
    "gv.extension('bokeh')"
   ]
  },
  {
   "cell_type": "markdown",
   "metadata": {},
   "source": [
    "First let's make a plot for the basemap and the subscription area of interest (AOI):"
   ]
  },
  {
   "cell_type": "code",
   "execution_count": null,
   "metadata": {},
   "outputs": [],
   "source": [
    "# Create a basemap element\n",
    "basemap = gv.tile_sources.CartoLight().options(responsive=True, height=400, active_tools=['pan', 'wheel_zoom'])\n",
    "\n",
    "# Create a subscription aoi plot using the susbscription geometry\n",
    "subscription_aoi_plot = gv.Shape(shape(subscription['geometry']), label='Subscription AOI').options(fill_alpha=0, line_color='blue', show_legend=True, padding=0.1)"
   ]
  },
  {
   "cell_type": "markdown",
   "metadata": {},
   "source": [
    "Next we can plot all of the change detection items on a map, and color each by the month it was detected on:"
   ]
  },
  {
   "cell_type": "code",
   "execution_count": null,
   "metadata": {},
   "outputs": [],
   "source": [
    "# Create the change detection items plot\n",
    "\n",
    "# Handle Polygons vs LineStrings\n",
    "if type(items_gdf.iloc[0].geometry) == Polygon:\n",
    "    all_change_detections_plot = gv.Polygons(items_gdf, vdims='observed', group=\"Change Detections\").options(color='observed', cmap='Spectral', show_legend=True)\n",
    "else:\n",
    "    all_change_detections_plot = gv.Path(items_gdf, vdims='observed', group=\"Change Detections\").options(color='observed', cmap='Spectral', show_legend=True)\n",
    "\n",
    "basemap * subscription_aoi_plot * all_change_detections_plot"
   ]
  },
  {
   "cell_type": "markdown",
   "metadata": {},
   "source": [
    "### Monthly Change Detections"
   ]
  },
  {
   "cell_type": "markdown",
   "metadata": {},
   "source": [
    "In order to visualize monthly change detection, we'll need to define the date range over which our detections take place. Let's also convert the columns representing dates `observed`, `date_before`, and `date_after` to `datetime` objects. "
   ]
  },
  {
   "cell_type": "code",
   "execution_count": null,
   "metadata": {},
   "outputs": [],
   "source": [
    "# Convert date columns into a datetime datatype\n",
    "items_gdf[\"observed\"] = pd.to_datetime(items_gdf[\"observed\"], utc=True)\n",
    "items_gdf[\"date_before\"] = pd.to_datetime(items_gdf[\"date_before\"], utc=True)\n",
    "items_gdf[\"date_after\"] = pd.to_datetime(items_gdf[\"date_after\"], utc=True)"
   ]
  },
  {
   "cell_type": "code",
   "execution_count": null,
   "metadata": {},
   "outputs": [],
   "source": [
    "# Get the first and last observed dates\n",
    "first_observed = items_gdf['observed'].min()\n",
    "last_observed = items_gdf['observed'].max()\n",
    "\n",
    "# Create a date range\n",
    "date_range = pd.date_range(start=first_observed, end=last_observed, freq='MS')\n",
    "date_range"
   ]
  },
  {
   "cell_type": "markdown",
   "metadata": {},
   "source": [
    "In order to show our Planet imagery, we'll create a helper function to create basemap tile server URLs from mosaic names. We'll be using the `source_mosaic_after` property from our change detection items to set our basemap."
   ]
  },
  {
   "cell_type": "code",
   "execution_count": null,
   "metadata": {},
   "outputs": [],
   "source": [
    "def get_mosaic_url(mosaic_name):\n",
    "    return 'https://tiles.planet.com/basemaps/v1/planet-tiles/'+mosaic_name+'/gmap/{Z}/{X}/{Y}.png?api_key='+ API_KEY"
   ]
  },
  {
   "cell_type": "markdown",
   "metadata": {},
   "source": [
    "We'll also create a control to show/hide the imagery layer using a [Panel](https://panel.holoviz.org/) widget: "
   ]
  },
  {
   "cell_type": "code",
   "execution_count": null,
   "metadata": {},
   "outputs": [],
   "source": [
    "import panel as pn\n",
    "pn.extension()\n",
    "\n",
    "show_imagery_widget = pn.widgets.Checkbox(name='Show Imagery')"
   ]
  },
  {
   "cell_type": "markdown",
   "metadata": {},
   "source": [
    "Finally let's use a Holoviews DynamicMap to create our visualization:"
   ]
  },
  {
   "cell_type": "code",
   "execution_count": null,
   "metadata": {},
   "outputs": [],
   "source": [
    "# Define the dynamic map callback function that takes an observed time, \n",
    "# and an argument to show the basemap using the @pn.depends decorater.\n",
    "\n",
    "@pn.depends(show_imagery=show_imagery_widget)\n",
    "def render_items_for_month(observed, show_imagery):\n",
    "    # Ensure observed datetime is in the proper format\n",
    "    observed = pd.to_datetime(observed, utc=True)\n",
    "    \n",
    "    # Select only the items with selected observed date\n",
    "    month_items = items_gdf.loc[items_gdf['observed'] == observed]\n",
    "    \n",
    "    # Create a geoviews polygons element to plot change detection items\n",
    "    if type(items_gdf.iloc[0].geometry) == Polygon:\n",
    "        items_plot = gv.Polygons(month_items, label='Change Detections').options(fill_color='red', line_width=0, show_legend=True)\n",
    "    else:\n",
    "        items_plot = gv.Path(month_items, label='Change Detections').options(line_color='red', show_legend=True)\n",
    "\n",
    "    # Show corresponding Planet basemaps imagery using a WMTS element\n",
    "    current_mosaic = month_items.iloc[0]['source_mosaic_after']\n",
    "    mosaic_url = get_mosaic_url(current_mosaic)\n",
    "    imagery_plot = gv.WMTS(mosaic_url).options(alpha=1 if show_imagery else 0)\n",
    "        \n",
    "    return imagery_plot * items_plot\n",
    "    \n",
    "# Use a dynamic map to show items\n",
    "# Here we set the range for our observed values from the date range we created above\n",
    "items_plot = hv.DynamicMap(render_items_for_month, kdims=[('observed', 'Date')]).redim.values(observed=date_range)\n",
    "\n",
    "# Output the combined plots using a panel layout\n",
    "pn.Column(\n",
    "    pn.Row(basemap * subscription_aoi_plot * items_plot, ),\n",
    "    pn.Row(show_imagery_widget),\n",
    "    sizing_mode='stretch_width'\n",
    ")"
   ]
  },
  {
   "cell_type": "markdown",
   "metadata": {},
   "source": [
    "### Monthly Change Detections Heatmap"
   ]
  },
  {
   "cell_type": "markdown",
   "metadata": {},
   "source": [
    "Let's aggregate our change detection points into a heatmap that will give us some insight into where the most change is happening for each month. \n",
    "\n",
    "We'll use the same approach as we did with the monthly change detection by using a `DynamicMap` to plot different data for different months, but this time we'll use a Geoviews `HexTiles` element to plot a heatmap instead of polygons for items. We'll also add a control for changing the bin size (the area over which to aggregate detections) for the heatmap."
   ]
  },
  {
   "cell_type": "code",
   "execution_count": null,
   "metadata": {},
   "outputs": [],
   "source": [
    "# Create a widget to control bin size\n",
    "# NOTE: Change date to see bin size recalculated\n",
    "bin_size_widget = pn.widgets.IntSlider(name='Bin Size', start=5, end=15, step=1, value=5)\n",
    "\n",
    "# Create a widget to toggle showing detection items\n",
    "show_items_widget = pn.widgets.Checkbox(name='Show Items')\n",
    "\n",
    "# Define the dynamic map callback function that takes an observed time, \n",
    "# and an argument to show the basemap using the @pn.depends decorater.\n",
    "@pn.depends(show_imagery=show_imagery_widget, bin_size=bin_size_widget, show_items=show_items_widget)\n",
    "def render_items_for_month(observed, show_imagery, bin_size, show_items):\n",
    "    # Ensure observed datetime is in the proper format\n",
    "    observed = pd.to_datetime(observed, utc=True)\n",
    "    \n",
    "    # Select only the items with selected observed date\n",
    "    month_items = items_gdf.loc[items_gdf['observed'] == observed]\n",
    "    \n",
    "    # The heatmap rendering requires 2 or more distinct geometries. If there is only one,\n",
    "    # let's duplicate it and offset the new geometry by a small amount\n",
    "    if len(month_items) == 1:\n",
    "        geom = month_items.iloc[0]['geometry']\n",
    "        new_geom = shapely.affinity.translate(geom, xoff=0.01)\n",
    "        duplicate_row = month_items.copy()\n",
    "        duplicate_row['geometry'] = new_geom\n",
    "        # Add row with new geometry\n",
    "        month_items = month_items.append(duplicate_row)\n",
    "    \n",
    "    # Use centroids to cacluclate heatmap\n",
    "    centroid_month_items = month_items.copy()\n",
    "    centroid_month_items['geometry'] = centroid_month_items['geometry'].centroid\n",
    "    \n",
    "    # Create a geoviews HexTiles element to plot change detection item counts  \n",
    "    items_heatmap = gv.HexTiles(centroid_month_items, label='Detection Count').options(\n",
    "        gridsize=bin_size,\n",
    "        fill_alpha=0.5 if show_imagery else 1,\n",
    "        cmap='YlOrRd', colorbar=True, colorbar_position='bottom', show_legend=True, tools=['hover']\n",
    "    )\n",
    "    \n",
    "    # Create a geoviews polygons element to plot change detection items\n",
    "    if type(items_gdf.iloc[0].geometry) == Polygon:\n",
    "        items_plot = gv.Polygons(month_items, label='Change Detections').options(\n",
    "            line_alpha=1 if show_items else 0, \n",
    "            line_width=2, line_color='black', fill_alpha=0, show_legend=True\n",
    "        )\n",
    "    else:\n",
    "        items_plot = gv.Path(month_items, label='Change Detections').options(\n",
    "            line_alpha=1 if show_items else 0, \n",
    "            line_width=2, line_color='black', show_legend=True\n",
    "        )\n",
    "        \n",
    "    \n",
    "    # Show corresponding Planet basemaps imagery using a WMTS element\n",
    "    current_mosaic = month_items.iloc[0]['source_mosaic_after']\n",
    "    mosaic_url = get_mosaic_url(current_mosaic)\n",
    "    imagery_plot = gv.WMTS(mosaic_url).options(alpha=1 if show_imagery else 0)\n",
    "        \n",
    "    return imagery_plot * items_heatmap * items_plot\n",
    "    \n",
    "# Use a dynamic map to show items\n",
    "# Here we set the range for our observed values from the date range we created above\n",
    "heatmap_plot = hv.DynamicMap(render_items_for_month, kdims=[('observed', 'Date')]).redim.values(observed=date_range)\n",
    "\n",
    "# Combine the plots into an overlay\n",
    "combined_plots = (basemap * subscription_aoi_plot * heatmap_plot)\n",
    "\n",
    "# Output the combined plots using a panel layout\n",
    "pn.Column(\n",
    "    pn.Row(combined_plots),\n",
    "    pn.Row(show_imagery_widget, show_items_widget, bin_size_widget),\n",
    "    sizing_mode='stretch_width'\n",
    ")"
   ]
  },
  {
   "cell_type": "markdown",
   "metadata": {},
   "source": [
    "### Inspecting a single change detection item\n",
    "Let's use our GeoPandas GeoDataFrame to look at a single detection. We are selecting a single detection using it's index from the list of subscriptions. To look at a different subscription, we can simply change the index number at `items_gdf.iloc[N]`"
   ]
  },
  {
   "cell_type": "code",
   "execution_count": null,
   "metadata": {},
   "outputs": [],
   "source": [
    "# Select the first detection by index\n",
    "single_detection = items_gdf.iloc[10]\n",
    "single_detection"
   ]
  },
  {
   "cell_type": "markdown",
   "metadata": {},
   "source": [
    "Now let's visualize the detection and compare the ground truth imagery for the `observed` date and the `before_date` to see the change on the ground. \n",
    "\n",
    "As we saw above, the change detection item includes the names of the Planet basemaps against which the detection was made: `source_mosaic_after`, `source_mosaic_before`. \n",
    "\n",
    "We'll create a plot to compare this imagery and see the change that was detected!"
   ]
  },
  {
   "cell_type": "code",
   "execution_count": null,
   "metadata": {},
   "outputs": [],
   "source": [
    "# Create a plot for the detection\n",
    "detection_plot = gv.Shape(shape(single_detection['geometry'])).options(padding=3, fill_alpha=0, line_color='red', active_tools=['pan', 'wheel_zoom'])\n",
    "\n",
    "# Format dates\n",
    "before_date = single_detection['date_before'].strftime('%B, %Y')\n",
    "observed_date = single_detection['observed'].strftime('%B, %Y')\n",
    "\n",
    "# Create plots for the imagery\n",
    "before_imagery_plot = gv.WMTS(get_mosaic_url(single_detection['source_mosaic_before'])).options(title=before_date, width=400, height=400)\n",
    "observed_imagery_plot = gv.WMTS(get_mosaic_url(single_detection['source_mosaic_after'])).options(title=observed_date, width=400, height=400)\n",
    "\n",
    "# Show the combined plots\n",
    "detection_plot * (before_imagery_plot + observed_imagery_plot)\n"
   ]
  },
  {
   "cell_type": "markdown",
   "metadata": {},
   "source": [
    "## 4. Change Detections Tip & Cue Tasking\n",
    "\n",
    "3-5 m resolution and global daily coverage is perfectly fit to scan country-wide areas to find areas that have experienced **road development** and/or **building construction**. This provides a signal of **where to allocate 50 cm resolution assets** which can then be used to derive **routable road networks** and **building footprints** and integrate them into your workflows.\n",
    "\n",
    "Planet has satellite constellations capable of **doing both**.\n",
    "\n",
    "Throughout this notebook we’ve learned how to use **the Roads & Building Construction API** to find, assure quality of and visualize meaningful changes from the petabytes of data from PlanetScope, imagery derived from **our first constellation**.\n",
    "\n",
    "![TipAndCue.png](imgs/TipAndCue.png)\n",
    "\n",
    "As of today, these two constellations operate independently - once the GeoJSON geometries from the Change Detection results has been manually extracted, it is possible to use our Tasking API or our Tasking Dashboard to task a SkySat and get a higher-resolution image. It is then possible to run Computer Vision models on SkySat Imagery to extract building footprints and road networks.\n"
   ]
  },
  {
   "cell_type": "markdown",
   "metadata": {},
   "source": [
    "For more information on how to task SkySats using the API, check out:\n",
    "* [Tasking API User Guide](https://developers.planet.com/docs/tasking/)\n",
    "* [Tasking API Reference Information](https://developers.planet.com/docs/tasking/reference/)\n",
    "\n",
    "If you’re interested in trying out SkySat tasking, please contact your Sales Representative.\n",
    "\n",
    "For any additional information or feedback on Change detection, please contact  [Justin Davis](justin@planet.com) and/or [Jonathan Evens](jonathan.evens@planet.com)\n",
    "\n",
    "*Note: Tasking provides programmatic capabilities (API and GUI implementations) to automatically task satellites that will produce various types of satellite imagery for a certain period of time that is also defined by the end-to-end user.*"
   ]
  }
 ],
 "metadata": {
  "kernelspec": {
   "display_name": "Python 3",
   "language": "python",
   "name": "python3"
  },
  "language_info": {
   "codemirror_mode": {
    "name": "ipython",
    "version": 3
   },
   "file_extension": ".py",
   "mimetype": "text/x-python",
   "name": "python",
   "nbconvert_exporter": "python",
   "pygments_lexer": "ipython3",
   "version": "3.7.6"
  },
  "varInspector": {
   "cols": {
    "lenName": 16,
    "lenType": 16,
    "lenVar": 40
   },
   "kernels_config": {
    "python": {
     "delete_cmd_postfix": "",
     "delete_cmd_prefix": "del ",
     "library": "var_list.py",
     "varRefreshCmd": "print(var_dic_list())"
    },
    "r": {
     "delete_cmd_postfix": ") ",
     "delete_cmd_prefix": "rm(",
     "library": "var_list.r",
     "varRefreshCmd": "cat(var_dic_list()) "
    }
   },
   "types_to_exclude": [
    "module",
    "function",
    "builtin_function_or_method",
    "instance",
    "_Feature"
   ],
   "window_display": false
  }
 },
 "nbformat": 4,
 "nbformat_minor": 2
}
