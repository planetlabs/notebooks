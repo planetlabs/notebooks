{
 "cells": [
  {
   "cell_type": "markdown",
   "metadata": {},
   "source": [
    "# Planet Tasking API Monitoring Tasking Orders\n",
    "\n",
    "---"
   ]
  },
  {
   "cell_type": "markdown",
   "metadata": {},
   "source": [
    "## Introduction\n",
    "\n",
    "---\n",
    "\n",
    "This tutorial is an introduction on the bulk creation of tasking orders using [Planet](https://www.planet.com)'s Tasking API. It provides code samples on how to write simple Python code to do this.\n",
    "\n",
    "The API reference documentation can be found at https://developers.planet.com/docs/tasking"
   ]
  },
  {
   "cell_type": "markdown",
   "metadata": {},
   "source": [
    "### Requirements\n",
    "\n",
    "---\n",
    "\n",
    "#### Software & Modules\n",
    "\n",
    "This tutorial assumes familiarity with the [Python](https://python.org) programming language throughout. Familiarity with basic REST API concepts and usage is also assumed.\n",
    "\n",
    "We'll be using a **\"Jupyter Notebook\"** (aka Python Notebook) to run through the examples.\n",
    "To learn more about and get started with using Jupyter, visit: [Jupyter](https://jupyter.org/) and [IPython](https://ipython.org/). \n",
    "\n",
    "For the best experience, download this notebook and run it on your system, and make sure to install the modules listed below first. You can also copy the examples' code to a separate Python files an run them directly with Python on your system if you prefer.\n",
    "\n",
    "#### Planet API Key\n",
    "\n",
    "You should have an account on the Planet Platform to access the Tasking API. You may retrieve your API key from your [account page](https://www.planet.com/account/), or from the \"API Tab\" in [Planet Explorer](https://www.planet.com/explorer)."
   ]
  },
  {
   "cell_type": "markdown",
   "metadata": {},
   "source": [
    "## Overview\n",
    "\n",
    "---\n",
    "\n",
    "### The basic workflow\n",
    "\n",
    "1. Create a bulk tasking order\n",
    "1. Check the progress of the bulk tasking order"
   ]
  },
  {
   "cell_type": "markdown",
   "metadata": {},
   "source": [
    "### API Endpoints\n",
    "\n",
    "This tutorial will cover the following API ***endpoint***:\n",
    "\n",
    "* [`/bulk`](https://api.planet.com/tasking/v2/bulk/)"
   ]
  },
  {
   "cell_type": "markdown",
   "metadata": {},
   "source": [
    "## Basic Setup\n",
    "\n",
    "---\n",
    "\n",
    "Before interacting with the Planet Tasking API using Python, we will set up our environment with some useful modules and helper functions.\n",
    "\n",
    "* We'll configure *authentication* to the Planet Tasking API\n",
    "* We'll use the `requests` Python module to make HTTP communication easier. \n",
    "* We'll use the `json` Python module to help us work with JSON responses from the API.\n",
    "* We'll use the `pytz` Python module to define the time frame for the order that we will be creating.\n",
    "* We'll create a function called `p` that will print Python dictionaries nicely.\n",
    "\n",
    "Then we'll be ready to make our first call to the Planet Tasking API by hitting the base endpoint at `https://api.planet.com/tasking/v2`. \n",
    "\n",
    "Let's start by configuring authentication:"
   ]
  },
  {
   "cell_type": "markdown",
   "metadata": {},
   "source": [
    "### Authentication\n",
    "\n",
    "Authentication with the Planet Tasking API can be achieved using a valid Planet **API key**.\n",
    "\n",
    "You can *export* your API Key as an environment variable on your system:\n",
    "\n",
    "`export PL_API_KEY=\"YOUR API KEY HERE\"`\n",
    "\n",
    "Or add the variable to your path, etc.\n",
    "\n",
    "To start our Python code, we'll setup an API Key variable from an environment variable to use with our requests:"
   ]
  },
  {
   "cell_type": "code",
   "execution_count": null,
   "metadata": {},
   "outputs": [],
   "source": [
    "# Import the os module in order to access environment variables\n",
    "import os\n",
    "\n",
    "API_KEY = os.environ.get('PL_API_KEY', 'PASTE_API_KEY_HERE')"
   ]
  },
  {
   "cell_type": "markdown",
   "metadata": {},
   "source": [
    "### Helper Modules and Functions"
   ]
  },
  {
   "cell_type": "code",
   "execution_count": null,
   "metadata": {},
   "outputs": [],
   "source": [
    "# Import helper modules\n",
    "import json\n",
    "import requests\n",
    "import pytz\n",
    "from time import sleep\n",
    "from datetime import datetime, timedelta"
   ]
  },
  {
   "cell_type": "code",
   "execution_count": null,
   "metadata": {},
   "outputs": [],
   "source": [
    "# Helper function to printformatted JSON using the json module\n",
    "def p(data):\n",
    "    print(json.dumps(data, indent=2))"
   ]
  },
  {
   "cell_type": "code",
   "execution_count": null,
   "metadata": {},
   "outputs": [],
   "source": [
    "# Setup Planet Tasking PLANET_API_HOST\n",
    "TASKING_API_URL = \"https://api.planet.com/tasking/v2\"\n",
    "\n",
    "# Setup the session\n",
    "session = requests.Session()\n",
    "\n",
    "# Authenticate\n",
    "session.headers.update({\n",
    "    'Authorization': f'api-key {API_KEY}',\n",
    "    'Content-Type': 'application/json'\n",
    "})"
   ]
  },
  {
   "cell_type": "markdown",
   "metadata": {},
   "source": [
    "## 1 | Compose the bulk tasking order\n",
    "\n",
    "A bulk tasking order is an asynchronous way to create many tasking orders with a single call. Once the initial POST request has been made it is then possible to make subsequent calls to be informed of the status of the request and the various orders that comprised the payload that are to be created. A bulk tasking order can be comprised of up to 1000 tasking orders of any kind that are supported by the Tasking service. \n",
    "\n",
    "For the purpose of this notebook we will create a handful of standard, flexible tasking orders that can then be submitted collectively viat the bulk endpoint. To make things easier we will default the start and end time of each order to start tomorrow and end 7 days from now. Of course feel free to change this to suit your needs but if you do take note that all times should be in UTC format. The start and end times are optional,but we include them in this tutorial to provide a better picture of what can be done."
   ]
  },
  {
   "cell_type": "code",
   "execution_count": null,
   "metadata": {},
   "outputs": [],
   "source": [
    "\n",
    "orders=[]\n",
    "\n",
    "for x in range(5):\n",
    "    # Define the name and coordinates for the order\n",
    "    name=input(\"Give the order a name\")\n",
    "    latitude=float(input(\"Provide the latitude\"))\n",
    "    longitude=float(input(\"Provide the longitude\"))\n",
    "\n",
    "    # Because the geometry is GeoJSON, the coordinates must be longitude,latitude. \n",
    "    # It is also necessary to set the scheduling_type to \"MONITORING\"\n",
    "    order = {\n",
    "        'name': name,\n",
    "        'geometry': {\n",
    "            'type': 'Point',\n",
    "            'coordinates': [\n",
    "                longitude,\n",
    "                latitude\n",
    "            ]\n",
    "        }\n",
    "    }\n",
    "\n",
    "    # Set a start and end time, giving the order a week to complete\n",
    "    tomorrow = datetime.now(pytz.utc) + timedelta(days=1)\n",
    "    one_week_later = tomorrow + timedelta(days=7)\n",
    "\n",
    "    datetime_parameters = {\n",
    "        'start_time': tomorrow.isoformat(),\n",
    "        'end_time': one_week_later.isoformat()\n",
    "    }\n",
    "\n",
    "    # Add the monitoring parameters\n",
    "    order.update(datetime_parameters)\n",
    "\n",
    "    orders.append(order)"
   ]
  },
  {
   "cell_type": "markdown",
   "metadata": {},
   "source": [
    "We then create the bulk tasking order payload using the list of orders we just defined. The bulk payload can take a pre-defined UUID as the ```id``` of the bulk tasking order, but this is optional. If it is left out then an id will be set by the system and returned as part of the ```location``` field in the response header, which we will look at later."
   ]
  },
  {
   "cell_type": "code",
   "execution_count": null,
   "metadata": {},
   "outputs": [],
   "source": [
    "bulk_tasking_order = {\n",
    "    'order_payloads': orders\n",
    "}"
   ]
  },
  {
   "cell_type": "code",
   "execution_count": null,
   "metadata": {},
   "outputs": [],
   "source": [
    "#View the payload before posting\n",
    "p(bulk_tasking_order)"
   ]
  },
  {
   "cell_type": "code",
   "execution_count": null,
   "metadata": {},
   "outputs": [],
   "source": [
    "# The creation of an order is a POST request to the /orders endpoint\n",
    "res = session.request('POST', TASKING_API_URL + '/bulk/', json=bulk_tasking_order)\n",
    "\n",
    "if res.status_code == 403:\n",
    "    print('Your PLANET_API_KEY is valid, but you are not authorized.')\n",
    "elif res.status_code == 401:\n",
    "    print('Your PLANET_API_KEY is incorrect')\n",
    "elif res.status_code == 201:\n",
    "    print('Your order was created successfully')\n",
    "else:\n",
    "    print(f'Received status code {res.status_code} from the API. Please contact support.')\n",
    "\n",
    "# View the location header in the response\n",
    "print(res.headers['location'])"
   ]
  },
  {
   "cell_type": "markdown",
   "metadata": {},
   "source": [
    "## 2 | Check the progress of the bulk tasking order\n",
    "\n",
    "As mentioned, a bulk tasking order is an asynchronous request so once made the builk endopint can then be polled to check the progress of the bulk tasking order as the Tasking service works its way through the orders that were provided in the payload.\n",
    "\n",
    "The quickest way to do this is to retrieve the URL that is in the ```location``` header that is part of the response of the intial bulk POST request. This URL includes an ID which, when part of a GET request, will return the current status of the bulk request in the system:"
   ]
  },
  {
   "cell_type": "code",
   "execution_count": null,
   "metadata": {},
   "outputs": [],
   "source": [
    "location = res.headers['location']\n",
    "\n",
    "# The url is the entire path minus the domain\n",
    "res = session.request('GET', 'https://api.planet.com' + location)\n",
    "\n",
    "if res.status_code == 403:\n",
    "    print('Your PLANET_API_KEY is valid, but you are not authorized.')\n",
    "elif res.status_code == 401:\n",
    "    print('Your PLANET_API_KEY is incorrect')\n",
    "elif res.status_code == 201:\n",
    "    print('Your order was created successfully')\n",
    "else:\n",
    "    print(f'Received status code {res.status_code} from the API. Please contact support.')\n",
    "\n",
    "p(res.json())"
   ]
  },
  {
   "cell_type": "markdown",
   "metadata": {},
   "source": [
    "The response to this request will show a summary of the progress that Tasking service has made in processing the bulk tasking order request. It will show the total size of the original payload: ```payload_count```, the number of tasking orders currently still being processed, the number of successfully processed tasking orders and the number of tasking orders that for one reason or another failed, these fields being ```processing_payload_count```, ```successful_payload_count``` and ```failed_payload_count``` respectively.\n",
    "\n",
    "But what if we want to see those tasking orders that are still being processed or, more importantly, any tasking orders that failed and why they failed? This is easily done by appending \"/payloads\" to the end of the url that we just used in the previous GET request:"
   ]
  },
  {
   "cell_type": "code",
   "execution_count": null,
   "metadata": {},
   "outputs": [],
   "source": [
    "# The url is the entire path minus the domain\n",
    "res = session.request('GET', 'https://api.planet.com' + location + '/payloads')\n",
    "\n",
    "if res.status_code == 403:\n",
    "    print('Your PLANET_API_KEY is valid, but you are not authorized.')\n",
    "elif res.status_code == 401:\n",
    "    print('Your PLANET_API_KEY is incorrect')\n",
    "elif res.status_code == 201:\n",
    "    print('Your order was created successfully')\n",
    "else:\n",
    "    print(f'Received status code {res.status_code} from the API. Please contact support.')\n",
    "\n",
    "p(res.json())"
   ]
  },
  {
   "cell_type": "markdown",
   "metadata": {},
   "source": [
    "# Conclusion\n",
    "\n",
    "As you can see, creating tasking orders in bulk is a relatively straightforward operation. It is also possible to use the ```/bulk``` endpoint to **edit** or even **cancel** multiple tasking orders at the same time. More information on how to do this can be found at https://developers.planet.com/docs/tasking/examples/bulk"
   ]
  }
 ],
 "metadata": {
  "kernelspec": {
   "display_name": "Python 3 (ipykernel)",
   "language": "python",
   "name": "python3"
  },
  "language_info": {
   "codemirror_mode": {
    "name": "ipython",
    "version": 3
   },
   "file_extension": ".py",
   "mimetype": "text/x-python",
   "name": "python",
   "nbconvert_exporter": "python",
   "pygments_lexer": "ipython3",
   "version": "3.8.13"
  }
 },
 "nbformat": 4,
 "nbformat_minor": 2
}
