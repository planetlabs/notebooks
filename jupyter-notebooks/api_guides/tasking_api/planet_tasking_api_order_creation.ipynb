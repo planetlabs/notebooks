{
 "cells": [
  {
   "cell_type": "markdown",
   "metadata": {},
   "source": [
    "# Planet Tasking API Order Creation\n",
    "\n",
    "---"
   ]
  },
  {
   "cell_type": "markdown",
   "metadata": {},
   "source": [
    "## Introduction\n",
    "\n",
    "---\n",
    "\n",
    "This tutorial is an introduction on how to create tasking orders using [Planet](https://www.planet.com)'s Tasking API. It provides code samples on how to write simple Python code to do this.\n",
    "\n",
    "The API reference documentation can be found at https://developers.planet.com/docs/tasking"
   ]
  },
  {
   "cell_type": "markdown",
   "metadata": {},
   "source": [
    "### Requirements\n",
    "\n",
    "---\n",
    "\n",
    "#### Software & Modules\n",
    "\n",
    "This tutorial assumes familiarity with the [Python](https://python.org) programming language throughout. Familiarity with basic REST API concepts and usage is also assumed.\n",
    "\n",
    "We'll be using a **\"Jupyter Notebook\"** (aka Python Notebook) to run through the examples.\n",
    "To learn more about and get started with using Jupyter, visit: [Jupyter](https://jupyter.org/) and [IPython](https://ipython.org/). \n",
    "\n",
    "For the best experience, download this notebook and run it on your system, and make sure to install the modules listed below first. You can also copy the examples' code to a separate Python files an run them directly with Python on your system if you prefer.\n",
    "\n",
    "#### Planet API Key\n",
    "\n",
    "You should have an account on the Planet Platform to access the Tasking API. You may retrieve your API key from your [account page](https://www.planet.com/account/), or from the \"API Tab\" in [Planet Explorer](https://www.planet.com/explorer)."
   ]
  },
  {
   "cell_type": "markdown",
   "metadata": {},
   "source": [
    "## Overview\n",
    "\n",
    "---\n",
    "\n",
    "### The basic workflow\n",
    "\n",
    "1. Create a tasking order\n",
    "1. Check the status of the tasking order\n",
    "1. Download images captured by the tasking order\n",
    "\n",
    "Examples on how to edit or cancel existing tasking orders can be found in the notebook [planet_tasking_api_order_edit_and_cancel.ipynb](planet_tasking_api_order_edit_and_cancel.ipynb)"
   ]
  },
  {
   "cell_type": "markdown",
   "metadata": {},
   "source": [
    "### API Endpoints\n",
    "\n",
    "This tutorial will cover the following API ***endpoint***:\n",
    "\n",
    "* [`/order`](https://api.planet.com/tasking/v2/order/)\n",
    "* [`https://api.planet.com/data/v1/quick-search`](https://api.planet.com/data/v1/quick-search)\n"
   ]
  },
  {
   "cell_type": "markdown",
   "metadata": {},
   "source": [
    "## Basic Setup\n",
    "\n",
    "---\n",
    "\n",
    "Before interacting with the Planet Tasking API using Python, we will set up our environment with some useful modules and helper functions.\n",
    "\n",
    "* We'll configure *authentication* to the Planet Tasking API\n",
    "* We'll use the `requests` Python module to make HTTP communication easier. \n",
    "* We'll use the `json` Python module to help us work with JSON responses from the API.\n",
    "* We'll use the `pytz` Python module to define the time frame for the order that we will be creating.\n",
    "* We'll create a function called `p` that will print Python dictionaries nicely.\n",
    "\n",
    "Then we'll be ready to make our first call to the Planet Tasking API by hitting the base endpoint at `https://api.planet.com/tasking/v2`. \n",
    "\n",
    "Let's start by configuring authentication:"
   ]
  },
  {
   "cell_type": "markdown",
   "metadata": {},
   "source": [
    "### Authentication\n",
    "\n",
    "Authentication with the Planet Tasking API can be achieved using a valid Planet **API key**."
   ]
  },
  {
   "cell_type": "markdown",
   "metadata": {},
   "source": [
    "You can *export* your API Key as an environment variable on your system:\n",
    "\n",
    "`export PL_API_KEY=\"YOUR API KEY HERE\"`\n",
    "\n",
    "Or add the variable to your path, etc.\n",
    "\n",
    "To start our Python code, we'll setup an API Key variable from an environment variable to use with our requests:"
   ]
  },
  {
   "cell_type": "code",
   "execution_count": null,
   "metadata": {},
   "outputs": [],
   "source": [
    "# Import the os module in order to access environment variables\n",
    "import os\n",
    "\n",
    "#If you are running this notebook outside of the docker environment that comes with the repo, you can uncomment the next line to provide your API key\n",
    "#os.environ['PL_API_KEY']=input('Please provide your API Key')\n",
    "\n",
    "# Setup the API Key from the `PL_API_KEY` environment variable\n",
    "PLANET_API_KEY = os.getenv('PL_API_KEY')"
   ]
  },
  {
   "cell_type": "markdown",
   "metadata": {},
   "source": [
    "### Helper Modules and Functions"
   ]
  },
  {
   "cell_type": "code",
   "execution_count": null,
   "metadata": {},
   "outputs": [],
   "source": [
    "# Import helper modules\n",
    "import json\n",
    "import requests\n",
    "import pytz\n",
    "from time import sleep\n",
    "from datetime import datetime, timedelta"
   ]
  },
  {
   "cell_type": "code",
   "execution_count": null,
   "metadata": {},
   "outputs": [],
   "source": [
    "# Helper function to printformatted JSON using the json module\n",
    "def p(data):\n",
    "    print(json.dumps(data, indent=2))"
   ]
  },
  {
   "cell_type": "code",
   "execution_count": null,
   "metadata": {},
   "outputs": [],
   "source": [
    "# Setup Planet Tasking PLANET_API_HOST\n",
    "TASKING_API_URL = \"https://api.planet.com/tasking/v2\"\n",
    "\n",
    "# Setup the session\n",
    "session = requests.Session()\n",
    "\n",
    "# Authenticate\n",
    "session.headers.update({\n",
    "    'Authorization': f'api-key {PLANET_API_KEY}',\n",
    "    'Content-Type': 'application/json'\n",
    "})"
   ]
  },
  {
   "cell_type": "markdown",
   "metadata": {},
   "source": [
    "### 1 | Creating a tasking order"
   ]
  },
  {
   "source": [
    "## Compose the tasking order\n",
    "\n",
    "We want to create a tasking order that can return an image to us. To keep things simple we are going to create a Point order, which takes a single latitude/longitude coordinate pair. Since this is your tasking order, you need to provide the details of what the tasing order is called and the coordinates for the tasking order.\n",
    "\n",
    "To make things easier we will default the start and end time to start tomorrow and end 7 days from now. Of course feel free to change this to suit your needs but if you do take note that all times should be in UTC format. The start and end times are optional,but we include them in this tutorial to provide a better picture of what can be done."
   ],
   "cell_type": "code",
   "metadata": {},
   "execution_count": null,
   "outputs": []
  },
  {
   "cell_type": "code",
   "execution_count": null,
   "metadata": {},
   "outputs": [],
   "source": [
    "# Define the name and coordinates for the order\n",
    "name=input(\"Give the order a name\")\n",
    "latitude=float(input(\"Provide the latitude\"))\n",
    "longitude=float(input(\"Provide the longitude\"))\n",
    "\n",
    "# Because the geometry is GeoJSON, the coordinates must be longitude,latitude\n",
    "order = {\n",
    "    'name': name,\n",
    "    'geometry': {\n",
    "        'type': 'Point',\n",
    "        'coordinates': [\n",
    "            longitude,\n",
    "            latitude\n",
    "        ]\n",
    "    }\n",
    "}\n",
    "\n",
    "# Set a start and end time, giving the order a week to complete\n",
    "tomorrow = datetime.now(pytz.utc) + timedelta(days=1)\n",
    "one_week_later = tomorrow + timedelta(days=7)\n",
    "\n",
    "datetime_parameters = {\n",
    "    'start_time': tomorrow.isoformat(),\n",
    "    'end_time': one_week_later.isoformat()\n",
    "}\n",
    "\n",
    "# Add the datetime parameters\n",
    "order.update(datetime_parameters)\n"
   ]
  },
  {
   "cell_type": "code",
   "execution_count": null,
   "metadata": {},
   "outputs": [],
   "source": [
    "#View the payload before posting\n",
    "p(order)"
   ]
  },
  {
   "cell_type": "code",
   "execution_count": null,
   "metadata": {},
   "outputs": [],
   "source": [
    "# The creation of an order is a POST request to the /orders endpoint\n",
    "res = session.request('POST', TASKING_API_URL + '/orders/', json=order)\n",
    "\n",
    "if res.status_code == 403:\n",
    "    print('Your PLANET_API_KEY is valid, but you are not authorized.')\n",
    "elif res.status_code == 401:\n",
    "    print('Your PLANET_API_KEY is incorrect')\n",
    "elif res.status_code == 201:\n",
    "    print('Your order was created successfully')\n",
    "else:\n",
    "    print(f'Received status code {res.status_code} from the API. Please contact support.')\n",
    "\n",
    "# View the response\n",
    "p(res.json())"
   ]
  },
  {
   "cell_type": "markdown",
   "metadata": {},
   "source": [
    "**Congratulations!** You just created your first tasking order to the Planet Tasking API. Depending on the start and end time that you provided, a satellite will be attempting to take an image over your given coordinates in the near future."
   ]
  },
  {
   "cell_type": "markdown",
   "metadata": {},
   "source": [
    "### 2 | Check the status of the tasking order\n",
    "\n",
    "To see the status an existing tasking order, the tasking order id is required. Depending on the tasking order, it can take some time for the status of the tasking order to change, and so you may need to come back to this section once some time has elapsed before changes to the tasking order can be seen. It is recommended to run the next part of this notebook to extract the ID of the newly created order and save that for later use."
   ]
  },
  {
   "cell_type": "code",
   "execution_count": null,
   "metadata": {},
   "outputs": [],
   "source": [
    "# Get the response JSON and extract the ID of the order\n",
    "response = res.json()\n",
    "new_order_id = response[\"id\"]\n",
    "p(new_order_id)"
   ]
  },
  {
   "cell_type": "code",
   "execution_count": null,
   "metadata": {},
   "outputs": [],
   "source": [
    "def check_order_status(order_id):\n",
    "    # Make a GET request with the order_id concatenated to the end of the /orders url; e.g. https://api.planet.com/tasking/v2/orders/<ORDER_ID>\n",
    "    res = session.request('GET', TASKING_API_URL + '/orders/' + order_id)\n",
    "\n",
    "    if res.status_code == 403:\n",
    "        print('Your PLANET_API_KEYPLANET_API_KEY is valid, but you are not authorized to view this order.')\n",
    "    elif res.status_code == 401:\n",
    "        print('Your PLANET_API_KEYPLANET_API_KEY is incorrect')\n",
    "    elif res.status_code == 404:\n",
    "        print(f'Your order ({order_id}) does not exist')\n",
    "    elif res.status_code != 200:\n",
    "        print(f'Received status code {res.status_code} from the API. Please contact support.')\n",
    "    else:\n",
    "        order = res.json()\n",
    "        p(res.json())\n",
    "        print(f'Your order is {order[\"status\"]} with {order[\"capture_status_published_count\"]} published captures '\n",
    "                f'and {order[\"capture_assessment_success_count\"]} successful captures')"
   ]
  },
  {
   "cell_type": "code",
   "execution_count": null,
   "metadata": {},
   "outputs": [],
   "source": [
    "check_order_status(new_order_id)"
   ]
  },
  {
   "cell_type": "markdown",
   "metadata": {},
   "source": [
    "### 3 | Download successfully captured images\n",
    "\n",
    "Once the status of the tasking order has reached \"FULFILLED\" you can be certain that there are images associated with the tasking order that can be downloaded. To do this we need to use another api, the Planet Data API, to retreive the images. If you want to know more about the Planet Data API,there is Jupyter Notebok 'jupyter-notebooks/data-api-tutorials/planet_data_api_introduction.ipynb' which can provide a more complete tutorial.\n",
    "\n",
    "As with monitoring the tasking order, the tasking order id is required."
   ]
  },
  {
   "cell_type": "code",
   "execution_count": null,
   "metadata": {},
   "outputs": [],
   "source": [
    "def download_successful_captures(order_id):\n",
    "\n",
    "    # Make a GET request to the captures endpoint \n",
    "    res = session.request('GET', TASKING_API_URL + '/captures/?order_id' + order_id + '&fulfilling=true')\n",
    "\n",
    "    if res.status_code == 403:\n",
    "        print('Your API KEY is valid, but you are not authorized to view this order.')\n",
    "    elif res.status_code == 401:\n",
    "        print('Your API KEY is incorrect')\n",
    "    elif res.status_code != 200:\n",
    "        print(f'Received status code {res.status_code} from the API. Please contact support.')\n",
    "    else:\n",
    "        p(res.json())\n",
    "\n",
    "        # Retrieve the captures from the response\n",
    "        captures = res.json()['results']\n",
    "\n",
    "        # For each capture, take the strip ID and create a payload that will be sent to the Data API\n",
    "        strip_ids = [capture['strip_id'] for capture in captures]\n",
    "        search_data = {\n",
    "            \"filter\": {\n",
    "                \"config\": strip_ids,\n",
    "                \"field_name\": \"strip_id\",\n",
    "                \"type\": \"StringInFilter\"\n",
    "            },\n",
    "            \"item_types\": [\"SkySatCollect\"]\n",
    "        }\n",
    "\n",
    "        # Make a POST requst to the Data API\n",
    "        data_api_response = session.request('POST', 'https://api.planet.com/data/v1/quick-search',search_data)\n",
    "\n",
    "        asset_urls = [feature['_links']['assets'] for feature in data_api_response.json()['features']]\n",
    "\n",
    "        # Activate the ortho_visual asset(s)\n",
    "        ortho_visual_urls = []\n",
    "        for asset_url in asset_urls:\n",
    "            assets = requests.get(asset_url, headers=headers).json()\n",
    "            activation_url = assets['ortho_visual']['_links']['activate']\n",
    "            requests.get(activation_url, headers=headers)\n",
    "            ortho_visual_urls.append(assets['ortho_visual']['_links']['_self'])\n",
    "\n",
    "        # Wait for activation and print\n",
    "        for ortho_visual_url in ortho_visual_urls:\n",
    "            ortho_visual = requests.get(ortho_visual_url, headers=headers).json()\n",
    "            while 'location' not in ortho_visual:\n",
    "                sleep(10)\n",
    "                print('Waiting 10 seconds for asset to unlock...')\n",
    "                ortho_visual = requests.get(ortho_visual_url, headers=headers).json()\n",
    "            print(f'Open the following link in a browser or download it to a file:\\n{ortho_visual[\"location\"]}')"
   ]
  },
  {
   "cell_type": "code",
   "execution_count": null,
   "metadata": {},
   "outputs": [],
   "source": [
    "download_successful_captures(new_order_id)"
   ]
  }
 ],
 "metadata": {
  "kernelspec": {
   "display_name": "Python 3",
   "language": "python",
   "name": "python3"
  },
  "language_info": {
   "codemirror_mode": {
    "name": "ipython",
    "version": 3
   },
   "file_extension": ".py",
   "mimetype": "text/x-python",
   "name": "python",
   "nbconvert_exporter": "python",
   "pygments_lexer": "ipython3",
   "version": "3.7.6"
  }
 },
 "nbformat": 4,
 "nbformat_minor": 2
}