{
 "metadata": {
  "language_info": {
   "codemirror_mode": {
    "name": "ipython",
    "version": 3
   },
   "file_extension": ".py",
   "mimetype": "text/x-python",
   "name": "python",
   "nbconvert_exporter": "python",
   "pygments_lexer": "ipython3",
   "version": 3
  },
  "orig_nbformat": 2
 },
 "nbformat": 4,
 "nbformat_minor": 2,
 "cells": [
  {
   "source": [
    "# Planet Tasking API Monitoring Tasking Orders\n",
    "\n",
    "---"
   ],
   "cell_type": "markdown",
   "metadata": {}
  },
  {
   "source": [
    "## Introduction\n",
    "\n",
    "---\n",
    "\n",
    "This tutorial is an introduction on how to create monitoring tasking orders using [Planet](https://www.planet.com)'s Tasking API. It provides code samples on how to write simple Python code to do this.\n",
    "\n",
    "The API reference documentation can be found at https://developers.planet.com/docs/tasking"
   ],
   "cell_type": "markdown",
   "metadata": {}
  },
  {
   "source": [
    "### Requirements\n",
    "\n",
    "---\n",
    "\n",
    "#### Software & Modules\n",
    "\n",
    "This tutorial assumes familiarity with the [Python](https://python.org) programming language throughout. Familiarity with basic REST API concepts and usage is also assumed.\n",
    "\n",
    "We'll be using a **\"Jupyter Notebook\"** (aka Python Notebook) to run through the examples.\n",
    "To learn more about and get started with using Jupyter, visit: [Jupyter](https://jupyter.org/) and [IPython](https://ipython.org/). \n",
    "\n",
    "For the best experience, download this notebook and run it on your system, and make sure to install the modules listed below first. You can also copy the examples' code to a separate Python files an run them directly with Python on your system if you prefer.\n",
    "\n",
    "#### Planet API Key\n",
    "\n",
    "You should have an account on the Planet Platform to access the Tasking API. You may retrieve your API key from your [account page](https://www.planet.com/account/), or from the \"API Tab\" in [Planet Explorer](https://www.planet.com/explorer)."
   ],
   "cell_type": "markdown",
   "metadata": {}
  },
  {
   "source": [
    "## Overview\n",
    "\n",
    "---\n",
    "\n",
    "### The basic workflow\n",
    "\n",
    "1. Create a monitoring tasking order\n",
    "1. Check the status of the tasking order"
   ],
   "cell_type": "markdown",
   "metadata": {}
  },
  {
   "source": [
    "### API Endpoints\n",
    "\n",
    "This tutorial will cover the following API ***endpoint***:\n",
    "\n",
    "* [`/order`](https://api.planet.com/tasking/v2/order/)"
   ],
   "cell_type": "markdown",
   "metadata": {}
  },
  {
   "source": [
    "## Basic Setup\n",
    "\n",
    "---\n",
    "\n",
    "Before interacting with the Planet Tasking API using Python, we will set up our environment with some useful modules and helper functions.\n",
    "\n",
    "* We'll configure *authentication* to the Planet Tasking API\n",
    "* We'll use the `requests` Python module to make HTTP communication easier. \n",
    "* We'll use the `json` Python module to help us work with JSON responses from the API.\n",
    "* We'll use the `pytz` Python module to define the time frame for the order that we will be creating.\n",
    "* We'll create a function called `p` that will print Python dictionaries nicely.\n",
    "\n",
    "Then we'll be ready to make our first call to the Planet Tasking API by hitting the base endpoint at `https://api.planet.com/tasking/v2`. \n",
    "\n",
    "Let's start by configuring authentication:"
   ],
   "cell_type": "markdown",
   "metadata": {}
  },
  {
   "source": [
    "### Authentication\n",
    "\n",
    "Authentication with the Planet Tasking API can be achieved using a valid Planet **API key**.\n",
    "\n",
    "You can *export* your API Key as an environment variable on your system:\n",
    "\n",
    "`export PL_API_KEY=\"YOUR API KEY HERE\"`\n",
    "\n",
    "Or add the variable to your path, etc.\n",
    "\n",
    "To start our Python code, we'll setup an API Key variable from an environment variable to use with our requests:"
   ],
   "cell_type": "markdown",
   "metadata": {}
  },
  {
   "cell_type": "code",
   "execution_count": null,
   "metadata": {},
   "outputs": [],
   "source": [
    "# Import the os module in order to access environment variables\n",
    "import os\n",
    "\n",
    "#If you are running this notebook outside of the docker environment that comes with the repo, you can uncomment the next line to provide your API key\n",
    "#os.environ['PL_API_KEY']=input('Please provide your API Key')\n",
    "\n",
    "# Setup the API Key from the `PL_API_KEY` environment variable\n",
    "PLANET_API_KEY = os.getenv('PL_API_KEY')"
   ]
  },
  {
   "source": [
    "### Helper Modules and Functions"
   ],
   "cell_type": "markdown",
   "metadata": {}
  },
  {
   "cell_type": "code",
   "execution_count": null,
   "metadata": {},
   "outputs": [],
   "source": [
    "# Import helper modules\n",
    "import json\n",
    "import requests\n",
    "import pytz\n",
    "from time import sleep\n",
    "from datetime import datetime, timedelta"
   ]
  },
  {
   "cell_type": "code",
   "execution_count": null,
   "metadata": {},
   "outputs": [],
   "source": [
    "# Helper function to printformatted JSON using the json module\n",
    "def p(data):\n",
    "    print(json.dumps(data, indent=2))"
   ]
  },
  {
   "cell_type": "code",
   "execution_count": null,
   "metadata": {},
   "outputs": [],
   "source": [
    "# Setup Planet Tasking PLANET_API_HOST\n",
    "TASKING_API_URL = \"https://api.planet.com/tasking/v2\"\n",
    "\n",
    "# Setup the session\n",
    "session = requests.Session()\n",
    "\n",
    "# Authenticate\n",
    "session.headers.update({\n",
    "    'Authorization': f'api-key {PLANET_API_KEY}',\n",
    "    'Content-Type': 'application/json'\n",
    "})"
   ]
  },
  {
   "source": [
    "## 1 | Compose the monitoring tasking order\n",
    "\n",
    "We want to create a monitoring tasking order that can be set up to take images of the same location at a defined cadence, in this example once per week for a month. To keep things simple we are going to create a Point order, which takes a single latitude/longitude coordinate pair. Since this is your monitoring order, you need to provide the details of what the tasking order is called and the coordinates. \n",
    "\n",
    "To make things easier, we will default the start time to start tomorrow with the aim of taking four images if we stick to the weekly cadence. Of course, feel free to change this to suit your needs, but if you do, take note that all times should be in UTC format.\n",
    "\n",
    "Monitoring Tasking Orders are composed slightly different than other types of Tasking Order in that they do not require an *end time* to be defined, in fact the end time is ignored even if it is provided. Instead it requires a **rrule** string to be defined that will set the frequency, the interval and the count, which, when taken together, define the overall cadence pattern for the monitoring order. The only required field in the rrule string is the **count**, although in this example we are also defining the frequency, the interval and the day that each cadence event should begin using the **BYDAY** parameter. More information on the rrule and how it is used for Tasking Orders can be found in the [Planet Developers Portal](https://developers.planet.com/docs/tasking/examples/monitoring)\n"
   ],
   "cell_type": "code",
   "metadata": {},
   "execution_count": null,
   "outputs": []
  },
  {
   "cell_type": "code",
   "execution_count": null,
   "metadata": {},
   "outputs": [],
   "source": [
    "# Define the name and coordinates for the order\n",
    "name=input(\"Give the order a name\")\n",
    "latitude=float(input(\"Provide the latitude\"))\n",
    "longitude=float(input(\"Provide the longitude\"))\n",
    "\n",
    "# Because the geometry is GeoJSON, the coordinates must be longitude,latitude. \n",
    "# It is also necessary to set the scheduling_type to \"MONITORING\"\n",
    "order = {\n",
    "    'name': name,\n",
    "    'geometry': {\n",
    "        'type': 'Point',\n",
    "        'coordinates': [\n",
    "            longitude,\n",
    "            latitude\n",
    "        ]\n",
    "    },\n",
    "    \"scheduling_type\": \"MONITORING\"\n",
    "}\n",
    "\n",
    "# Set a start time\n",
    "tomorrow = datetime.now(pytz.utc) + timedelta(days=1)\n",
    "\n",
    "# define the rrule\n",
    "rrule=\"FREQ=WEEKLY;COUNT=4;INTERVAL=1;BYDAY=MO\"\n",
    "\n",
    "monitoring_parameters = {\n",
    "    'start_time': tomorrow.isoformat(),\n",
    "    'rrule': rrule\n",
    "}\n",
    "\n",
    "# Add the monitoring parameters\n",
    "order.update(monitoring_parameters)"
   ]
  },
  {
   "cell_type": "code",
   "execution_count": null,
   "metadata": {},
   "outputs": [],
   "source": [
    "#View the payload before posting\n",
    "p(order)"
   ]
  },
  {
   "cell_type": "code",
   "execution_count": null,
   "metadata": {},
   "outputs": [],
   "source": [
    "# The creation of an order is a POST request to the /orders endpoint\n",
    "res = session.request('POST', TASKING_API_URL + '/orders/', json=order)\n",
    "\n",
    "if res.status_code == 403:\n",
    "    print('Your PLANET_API_KEY is valid, but you are not authorized.')\n",
    "elif res.status_code == 401:\n",
    "    print('Your PLANET_API_KEY is incorrect')\n",
    "elif res.status_code == 201:\n",
    "    print('Your order was created successfully')\n",
    "else:\n",
    "    print(f'Received status code {res.status_code} from the API. Please contact support.')\n",
    "\n",
    "# View the response\n",
    "p(res.json())"
   ]
  },
  {
   "cell_type": "markdown",
   "metadata": {},
   "source": [
    "**Congratulations!** You just created a monitoring tasking order using the Planet Tasking API. Depending on the parameters that you provided, a satellite will be attempting to take an image over your given coordinates in the near future."
   ]
  },
  {
   "cell_type": "markdown",
   "metadata": {},
   "source": [
    "## 2 | Check the status of the monitoring order\n",
    "\n",
    "To see the status of the new monitoring tasking order, the tasking order id is required. Depending on the tasking order, it can take some time for the status of the tasking order to change, and so you may need to come back to this section once some time has elapsed before changes to the tasking order can be seen. It is recommended to run the next part of this notebook to extract the ID of the newly created order and save that for later use."
   ]
  },
  {
   "cell_type": "code",
   "execution_count": null,
   "metadata": {},
   "outputs": [],
   "source": [
    "# Get the response JSON and extract the ID of the order\n",
    "response = res.json()\n",
    "new_order_id = response[\"id\"]\n",
    "p(new_order_id)"
   ]
  },
  {
   "cell_type": "code",
   "execution_count": null,
   "metadata": {},
   "outputs": [],
   "source": [
    "def check_order_status(order_id):\n",
    "    # Make a GET request with the order_id concatenated to the end of the /orders url; e.g. https://api.planet.com/tasking/v2/orders/<ORDER_ID>\n",
    "    res = session.request('GET', TASKING_API_URL + '/orders/' + order_id)\n",
    "\n",
    "    if res.status_code == 403:\n",
    "        print('Your PLANET_API_KEYPLANET_API_KEY is valid, but you are not authorized to view this order.')\n",
    "    elif res.status_code == 401:\n",
    "        print('Your PLANET_API_KEYPLANET_API_KEY is incorrect')\n",
    "    elif res.status_code == 404:\n",
    "        print(f'Your order ({order_id}) does not exist')\n",
    "    elif res.status_code != 200:\n",
    "        print(f'Received status code {res.status_code} from the API. Please contact support.')\n",
    "    else:\n",
    "        order = res.json()\n",
    "        p(res.json())\n",
    "        print(f'Your order is {order[\"status\"]} with {order[\"capture_status_published_count\"]} published captures '\n",
    "                f'and {order[\"capture_assessment_success_count\"]} successful captures')"
   ]
  },
  {
   "cell_type": "code",
   "execution_count": null,
   "metadata": {},
   "outputs": [],
   "source": [
    "check_order_status(new_order_id)"
   ]
  }
 ]
}