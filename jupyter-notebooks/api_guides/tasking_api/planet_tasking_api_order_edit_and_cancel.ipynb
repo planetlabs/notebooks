{
 "cells": [
  {
   "cell_type": "markdown",
   "metadata": {},
   "source": [
    "# Tasking API Order Edit and Cancellation\n",
    "\n",
    "---"
   ]
  },
  {
   "cell_type": "markdown",
   "metadata": {},
   "source": [
    "## Introduction\n",
    "\n",
    "---\n",
    "\n",
    "This tutorial is an introduction on how to edit and cancel tasking orders using [Planet](https://www.planet.com)'s Tasking API. It provides code samples on how to write simple Python code to do this.\n",
    "\n",
    "The API reference documentation can be found at https://developers.planet.com/docs/tasking"
   ]
  },
  {
   "cell_type": "markdown",
   "metadata": {},
   "source": [
    "### Requirements\n",
    "\n",
    "---\n",
    "\n",
    "#### Software & Modules\n",
    "\n",
    "This tutorial assumes familiarity with the [Python](https://python.org) programming language throughout. Familiarity with basic REST API concepts and usage is also assumed.\n",
    "\n",
    "We'll be using a **\"Jupyter Notebook\"** (aka Python Notebook) to run through the examples.\n",
    "To learn more about and get started with using Jupyter, visit: [Jupyter](https://jupyter.org/) and [IPython](https://ipython.org/). \n",
    "\n",
    "For the best experience, download this notebook and run it on your system, and make sure to install the modules listed below first. You can also copy the examples' code to a separate Python files an run them directly with Python on your system if you prefer.\n",
    "\n",
    "#### Planet API Key\n",
    "\n",
    "You should have an account on the Planet Platform to access the Tasking API. You may retrieve your API key from your [account page](https://www.planet.com/account/), or from the \"API Tab\" in [Planet Explorer](https://www.planet.com/explorer)."
   ]
  },
  {
   "cell_type": "markdown",
   "metadata": {},
   "source": [
    "### Before continuing\n",
    "\n",
    "It is highly recommended that before continuing with these examples you first complete the Tasking API Order Creation Notebook, which will give instructions on how to first create a tasking order. We will be creating a tasking order as part of this notebook but will not be going into details."
   ]
  },
  {
   "cell_type": "markdown",
   "metadata": {},
   "source": [
    "## Overview\n",
    "\n",
    "---\n",
    "\n",
    "### The basic workflow\n",
    "\n",
    "1. Create the tasking order\n",
    "1. Edit the tasking order\n",
    "1. Cancel the tasking order\n",
    "\n",
    "Examples on how to create tasking orders and view their captures can be found in the notebook [planet_tasking_api_order_creation.ipynb](planet_tasking_api_order_creations.ipynb)"
   ]
  },
  {
   "cell_type": "markdown",
   "metadata": {},
   "source": [
    "### API Endpoints\n",
    "\n",
    "This tutorial will cover the following API ***endpoint***:\n",
    "\n",
    "* [`/order`](https://api.planet.com/tasking/v2/order/)"
   ]
  },
  {
   "cell_type": "markdown",
   "metadata": {},
   "source": [
    "## Basic Setup\n",
    "\n",
    "---\n",
    "\n",
    "Before interacting with the Planet Tasking API using Python, we will set up our environment with some useful modules and helper functions.\n",
    "\n",
    "* We'll configure *authentication* to the Planet Tasking API\n",
    "* We'll use the `requests` Python module to make HTTP communication easier. \n",
    "* We'll use the `json` Python module to help us work with JSON responses from the API.\n",
    "* We'll use the `pytz` Python module to define the time frame for the order that we will be creating.\n",
    "* We'll create a function called `p` that will print Python dictionaries nicely.\n",
    "\n",
    "Then we'll be ready to make our first call to the Planet Tasking API by hitting the base endpoint at `https://api.planet.com/tasking/v2`. \n",
    "\n",
    "Let's start by configuring authentication:"
   ]
  },
  {
   "cell_type": "markdown",
   "metadata": {},
   "source": [
    "### Authentication\n",
    "\n",
    "Authentication with the Planet Tasking API can be achieved using a valid Planet **API key**."
   ]
  },
  {
   "cell_type": "markdown",
   "metadata": {},
   "source": [
    "You can *export* your API Key as an environment variable on your system:\n",
    "\n",
    "`export PL_API_KEY=\"YOUR API KEY HERE\"`\n",
    "\n",
    "Or add the variable to your path, etc.\n",
    "\n",
    "To start our Python code, we'll setup an API Key variable from an environment variable to use with our requests:"
   ]
  },
  {
   "cell_type": "code",
   "execution_count": null,
   "metadata": {},
   "outputs": [],
   "source": [
    "# Import the os module in order to access environment variables\n",
    "import os\n",
    "\n",
    "#If you are running this notebook outside of the docker environment that comes with the repo, you can uncomment the next line to provide your API key\n",
    "#os.environ['PL_API_KEY']=input('Please provide your API Key')\n",
    "\n",
    "# Setup the API Key from the `PL_API_KEY` environment variable\n",
    "PLANET_API_KEY = os.getenv('PL_API_KEY')"
   ]
  },
  {
   "cell_type": "markdown",
   "metadata": {},
   "source": [
    "### Helper Modules and Functions"
   ]
  },
  {
   "cell_type": "code",
   "execution_count": null,
   "metadata": {},
   "outputs": [],
   "source": [
    "# Import helper modules\n",
    "import json\n",
    "import requests\n",
    "import pytz\n",
    "from time import sleep\n",
    "from datetime import datetime, timedelta"
   ]
  },
  {
   "cell_type": "code",
   "execution_count": null,
   "metadata": {},
   "outputs": [],
   "source": [
    "# Helper function to printformatted JSON using the json module\n",
    "def p(data):\n",
    "    print(json.dumps(data, indent=2))"
   ]
  },
  {
   "cell_type": "code",
   "execution_count": null,
   "metadata": {},
   "outputs": [],
   "source": [
    "# Setup Planet Tasking PLANET_API_HOST\n",
    "TASKING_ORDERS_API_URL = \"https://api.planet.com/tasking/v2/orders/\"\n",
    "\n",
    "# Setup the session\n",
    "session = requests.Session()\n",
    "\n",
    "# Authenticate\n",
    "session.headers.update({\n",
    "    'Authorization': f'api-key {PLANET_API_KEY}',\n",
    "    'Content-Type': 'application/json'\n",
    "})"
   ]
  },
  {
   "cell_type": "markdown",
   "metadata": {},
   "source": [
    "### 1 | Creating an order"
   ]
  },
  {
   "cell_type": "code",
   "execution_count": null,
   "metadata": {},
   "outputs": [],
   "source": [
    "# Define the name and coordinates for the order\n",
    "name=input(\"Give the order a name\")\n",
    "latitude=float(input(\"Provide the latitude\"))\n",
    "longitude=float(input(\"Provide the longitude\"))\n",
    "\n",
    "# Because the geometry is GeoJSON, the coordinates must be longitude,latitude\n",
    "order = {\n",
    "    'name': name,\n",
    "    'geometry': {\n",
    "        'type': 'Point',\n",
    "        'coordinates': [\n",
    "            longitude,\n",
    "            latitude\n",
    "        ]\n",
    "    }\n",
    "}\n",
    "\n",
    "# Set a start and end time, giving the order a week to complete\n",
    "tomorrow = datetime.now(pytz.utc) + timedelta(days=1)\n",
    "one_week_later = tomorrow + timedelta(days=7)\n",
    "\n",
    "datetime_parameters = {\n",
    "    'start_time': tomorrow.isoformat(),\n",
    "    'end_time': one_week_later.isoformat()\n",
    "}\n",
    "\n",
    "# Add use datetime parameters\n",
    "order.update(datetime_parameters)"
   ]
  },
  {
   "cell_type": "code",
   "execution_count": null,
   "metadata": {},
   "outputs": [],
   "source": [
    "# The creation of an order is a POST request to the /orders endpoint\n",
    "res = session.request('POST', TASKING_ORDERS_API_URL, json=order)\n",
    "\n",
    "if response.status_code == 403:\n",
    "    print('Your PLANET_API_KEY is valid, but you are not authorized.')\n",
    "elif response.status_code == 401:\n",
    "    print('Your PLANET_API_KEY is incorrect')\n",
    "elif response.status_code == 201:\n",
    "    print('Your order was created successfully')\n",
    "else:\n",
    "    print(f'Received status code {res.status_code} from the API. Please contact support.')\n",
    "\n",
    "# Order created. Here is the response\n",
    "p(res.json())"
   ]
  },
  {
   "cell_type": "markdown",
   "metadata": {},
   "source": [
    "### 2 | Editing the tasking order\n",
    "\n",
    "Changing the tasking order that we have just created is possible but with a few restrictions that you need to be aware of. Only the name, the rank, the start time and the end time of a tasking order can be changed. The geometry of an existing tasking order cannot be altered after creation. If the geometry is wrong, then the only recourse is to cancel the tasking order and start anew.\n",
    "\n",
    "With editing, the \"when can a tasking order be edited\" is just as important as the \"what can be edited\". A tasking order can have the following states: **PENDING**, **REQUESTED**, **IN PROGRESS**, **FULFILLED**, **CANCELLED** and **EXPIRED**. A tasking order can only be edited in the first three states, **PENDING**, **REQUESTED** and **IN PROGRESS** and of these states, the start time of a tasking order can only be edited whilst the tasking order is in **PENDING** or **REQUESTED**. The start time cannot be changed once a tasking order is in progress.kwargs\n",
    "\n",
    "With that, let's look at editing the order that we just created to give it a different name:"
   ]
  },
  {
   "cell_type": "code",
   "execution_count": null,
   "metadata": {},
   "outputs": [],
   "source": [
    "# Get the response JSON and extract the ID of the order\n",
    "response = res.json()\n",
    "order_id = response[\"id\"]\n",
    "\n",
    "# Provide a new name for the order\n",
    "new_name=input(\"Provide a new name for the order\")\n",
    "\n",
    "# Define the payload\n",
    "edit_payload = {\n",
    "    'name': new_name\n",
    "}"
   ]
  },
  {
   "cell_type": "code",
   "execution_count": null,
   "metadata": {},
   "outputs": [],
   "source": [
    "# Editing an order requires a PUT request to be made. The order id is concantenated to the end of the URl. E.g. https://api.planet.com/tasking/v2/orders/<ORDER_ID>\n",
    "res = session.request('PUT', TASKING_ORDERS_API_URL + order_id, json=edit_payload)\n",
    "\n",
    "p(res.json())"
   ]
  },
  {
   "cell_type": "markdown",
   "metadata": {},
   "source": [
    "### 3 | Cancelling the tasking order\n",
    "\n",
    "As with editing a tasking order, cancellation has some limitations on when a tasking order can be cancelled. Tasking orders can only be cancelled only when the tasking order is in one of the following states: **PENDING**, **IN PROGRESS**, **RECEIVED** and **REQUESTED**.\n",
    "\n",
    "Let's delete the tasking order that we have created:"
   ]
  },
  {
   "cell_type": "code",
   "execution_count": null,
   "metadata": {},
   "outputs": [],
   "source": [
    "# Get the response JSON and extract the ID of the order\n",
    "response = res.json()\n",
    "order_id = response[\"id\"]\n",
    "\n",
    "# Cancel an order by sending a DELETE request to the orders endpoint\n",
    "res = session.request('DELETE', TASKING_ORDERS_API_URL + order_id)\n",
    "\n",
    "p(res.json())"
   ]
  }
 ],
 "metadata": {
  "kernelspec": {
   "display_name": "Python 3",
   "language": "python",
   "name": "python3"
  },
  "language_info": {
   "codemirror_mode": {
    "name": "ipython",
    "version": 3
   },
   "file_extension": ".py",
   "mimetype": "text/x-python",
   "name": "python",
   "nbconvert_exporter": "python",
   "pygments_lexer": "ipython3",
   "version": "3.7.6"
  }
 },
 "nbformat": 4,
 "nbformat_minor": 4
}