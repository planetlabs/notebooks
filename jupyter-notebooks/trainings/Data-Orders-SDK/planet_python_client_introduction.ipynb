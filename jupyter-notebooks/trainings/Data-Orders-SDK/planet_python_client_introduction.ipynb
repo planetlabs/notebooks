{
 "cells": [
  {
   "cell_type": "markdown",
   "metadata": {},
   "source": [
    "# Planet API Python Client\n"
   ]
  },
  {
   "cell_type": "markdown",
   "metadata": {},
   "source": [
    "This tutorial is an introduction to [Planet](https://www.planet.com)'s Data and Orders API using the official [Python client](https://github.com/planetlabs/planet-client-python), the `planet` module. It shows you how to filter for clouds based on a specific AOI.\n",
    "\n",
    "## Requirements\n",
    "\n",
    "This tutorial assumes familiarity with the [Python](https://python.org) programming language throughout. Python modules used in this tutorial are:\n",
    "* [IPython](https://ipython.org/) and [Jupyter](https://jupyter.org/)\n",
    "* [planet](https://github.com/planetlabs/planet-client-python)\n",
    "* [geojsonio](https://pypi.python.org/pypi/geojsonio)\n",
    "* [rasterio](https://rasterio.readthedocs.io/en/latest/index.html)\n",
    "* [shapely](https://shapely.readthedocs.io/en/stable/index.html)\n",
    "* [asyncio](https://docs.python.org/3/library/asyncio.html)\n",
    "\n",
    "You should also have an account on the Planet Platform and retrieve your API key from your [account page](https://www.planet.com/account/).\n",
    "\n",
    "## Useful links \n",
    "* [Planet Client V2 Documentation](https://github.com/planetlabs/planet-client-python)\n",
    "* [Planet Data API reference](https://developers.planet.com/docs/apis/data/)"
   ]
  },
  {
   "cell_type": "markdown",
   "metadata": {},
   "source": [
    "This tutorial will cover the basic operations possible with the Python client, particularly those that interact with the Data API and Orders API"
   ]
  },
  {
   "cell_type": "markdown",
   "metadata": {},
   "source": [
    "## Set up\n",
    "\n",
    "In order to interact with the Planet API using the client, we need to import the necessary packages & define helper functions."
   ]
  },
  {
   "cell_type": "code",
   "execution_count": null,
   "metadata": {},
   "outputs": [],
   "source": [
    "#general packages\n",
    "import os\n",
    "import json\n",
    "import asyncio\n",
    "import rasterio\n",
    "import numpy as np\n",
    "import nest_asyncio\n",
    "from datetime import datetime\n",
    "\n",
    "#geospatial packages\n",
    "import geopandas as gpd\n",
    "from rasterio.mask import mask\n",
    "from shapely.geometry import shape\n",
    "from shapely.ops import unary_union\n",
    "from shapely.geometry import mapping\n",
    "\n",
    "#planet SDK\n",
    "from planet import Auth\n",
    "from planet import Session, data_filter\n",
    "\n",
    "\n",
    "# We will also create a small helper function to print out JSON with proper indentation.\n",
    "def indent(data):\n",
    "    print(json.dumps(data, indent=2))"
   ]
  },
  {
   "cell_type": "markdown",
   "metadata": {},
   "source": [
    "We next need to create a `client` object registered with our API key. The API key will be automatically read from the `PL_API_KEY` environment variable if it exists. If not, you can provide it below. You can also authenticate via the CLI using [`auth init`](https://planet-sdk-for-python-v2.readthedocs.io/en/latest/cli/cli-reference/?h=auth#auth:~:text=message%20and%20exit.-,auth,-%C2%B6), this will store your API key as an environment variable."
   ]
  },
  {
   "cell_type": "code",
   "execution_count": null,
   "metadata": {},
   "outputs": [],
   "source": [
    "# if your Planet API Key is not set as an environment variable, you can paste it below\n",
    "if 'PL_API_KEY' in os.environ:\n",
    "    API_KEY = os.environ['PL_API_KEY']\n",
    "else:\n",
    "    API_KEY = 'PASTE_API_KEY_HERE'\n",
    "    os.environ['PL_API_KEY'] = API_KEY\n",
    "\n",
    "client = Auth.from_key(API_KEY)"
   ]
  },
  {
   "cell_type": "markdown",
   "metadata": {},
   "source": [
    "## Searching\n",
    "\n",
    "We can search for items that are interesting by using the `quick_search` member function. Searches, however, always require a proper request that includes a filter that selects the specific items to return as seach results."
   ]
  },
  {
   "cell_type": "markdown",
   "metadata": {},
   "source": [
    "Let's also read in a GeoJSON geometry into a variable so we can use it during testing. The geometry can only have one polygon to work with the data API"
   ]
  },
  {
   "cell_type": "code",
   "execution_count": null,
   "metadata": {},
   "outputs": [],
   "source": [
    "with open(\"sf_all.geojson\") as f:\n",
    "    geom_all = json.loads(f.read())\n"
   ]
  },
  {
   "cell_type": "markdown",
   "metadata": {},
   "source": [
    "### Filters"
   ]
  },
  {
   "cell_type": "markdown",
   "metadata": {},
   "source": [
    "The possible filters include `and_filter`, `date_range_filter`, `range_filter` and so on, mirroring the options supported by the Planet API. Additional filters are described [here](https://planet-sdk-for-python-v2.readthedocs.io/en/latest/python/sdk-guide/#filter:~:text=(main())-,Filter,-%C2%B6)."
   ]
  },
  {
   "cell_type": "code",
   "execution_count": null,
   "metadata": {},
   "outputs": [],
   "source": [
    "# Define the filters we'll use to find our data\n",
    "\n",
    "item_types = [\"PSScene\"]\n",
    "\n",
    "#Geometry filter\n",
    "geom_filter = data_filter.geometry_filter(geom_all)\n",
    "\n",
    "#Date range filter\n",
    "date_range_filter = data_filter.date_range_filter(\"acquired\", gt = datetime(month=5, day=1, year=2023))#, lt = datetime(month=2, day=1, year=2023))\n",
    "\n",
    "#Cloud cover filter\n",
    "clear_percent_filter = data_filter.range_filter('clear_percent', 0,None)\n",
    "\n",
    "#Combine all of the filters\n",
    "combined_filter = data_filter.and_filter([geom_filter, clear_percent_filter, date_range_filter])"
   ]
  },
  {
   "cell_type": "code",
   "execution_count": null,
   "metadata": {
    "scrolled": true
   },
   "outputs": [],
   "source": [
    "combined_filter"
   ]
  },
  {
   "cell_type": "markdown",
   "metadata": {},
   "source": [
    "Now let's build the request:"
   ]
  },
  {
   "cell_type": "code",
   "execution_count": null,
   "metadata": {},
   "outputs": [],
   "source": [
    "async with Session() as sess:\n",
    "    cl = sess.client('data')\n",
    "    request = await cl.create_search(name='planet_client_demo',search_filter=combined_filter, item_types=item_types)"
   ]
  },
  {
   "cell_type": "code",
   "execution_count": null,
   "metadata": {},
   "outputs": [],
   "source": [
    "request"
   ]
  },
  {
   "cell_type": "code",
   "execution_count": null,
   "metadata": {},
   "outputs": [],
   "source": [
    "# Search the Data API\n",
    "\n",
    "# The limit paramter allows us to limit the number of results from our search that are returned.\n",
    "# The default limit is 100. Here, we're setting our result limit to 50.\n",
    "async with Session() as sess:\n",
    "    cl = sess.client('data')\n",
    "    items = cl.run_search(search_id=request['id'], limit=1000)\n",
    "    item_list = [i async for i in items]"
   ]
  },
  {
   "cell_type": "code",
   "execution_count": null,
   "metadata": {},
   "outputs": [],
   "source": [
    "print(len(item_list))"
   ]
  },
  {
   "cell_type": "markdown",
   "metadata": {},
   "source": [
    "If the number of items requested is more than 250, the client will automatically fetch more pages of results in order to get the exact number requested.\n",
    "\n",
    "Then we can save the output to be visualized as a geojson"
   ]
  },
  {
   "cell_type": "markdown",
   "metadata": {},
   "source": [
    "Now, we can iterate through our search results."
   ]
  },
  {
   "cell_type": "code",
   "execution_count": null,
   "metadata": {
    "scrolled": true
   },
   "outputs": [],
   "source": [
    "for item in item_list:\n",
    "    print(item['id'], item['properties']['clear_percent'])"
   ]
  },
  {
   "cell_type": "code",
   "execution_count": null,
   "metadata": {},
   "outputs": [],
   "source": [
    "geoms = {\n",
    "  \"type\": \"FeatureCollection\",\n",
    "  \"features\": []\n",
    "}\n",
    "\n",
    "if not os.path.isdir('output'):\n",
    "    os.mkdir('output')\n",
    "else:\n",
    "    if os.path.isfile('output/results.geojson'):\n",
    "        os.remove('output/results.geojson')\n",
    "\n",
    "with open('output/results.geojson','w') as f:\n",
    "    for item in item_list:\n",
    "        geom_out =     {\n",
    "          \"type\": \"Feature\",\n",
    "          \"properties\": {},\n",
    "          \"geometry\": item['geometry']\n",
    "        }\n",
    "        geoms['features'].append(geom_out)\n",
    "    jsonStr = json.dumps(geoms)\n",
    "    f.write(jsonStr)\n",
    "    f.close()"
   ]
  },
  {
   "cell_type": "markdown",
   "metadata": {},
   "source": [
    "Now we can import our multiple geometries"
   ]
  },
  {
   "cell_type": "code",
   "execution_count": null,
   "metadata": {},
   "outputs": [],
   "source": [
    "with open(\"sf_84.geojson\") as f:\n",
    "    geom_84 = json.loads(f.read())\n",
    "geom_84 = geom_84['features']"
   ]
  },
  {
   "cell_type": "markdown",
   "metadata": {},
   "source": [
    "A function that takes the geometry of the scenes and compares them with the AOIs in order to measuer coverage"
   ]
  },
  {
   "cell_type": "code",
   "execution_count": null,
   "metadata": {},
   "outputs": [],
   "source": [
    "#Calculate the area of overlap between two geometries\n",
    "def get_overlap(geometry1, geometry2):\n",
    "    # Parse the JSON into geometry objects.\n",
    "    shape1 = unary_union([shape(geom_1['geometry']) for geom_1 in geometry1])\n",
    "    shape2 = shape(geometry2)\n",
    "\n",
    "    # Compute the intersection of the two geometries.\n",
    "    intersection = shape1.intersection(shape2)\n",
    "\n",
    "    # Compute the areas of the geometries and their intersection.\n",
    "    area1 = shape1.area\n",
    "    area2 = shape2.area\n",
    "    intersection_area = intersection.area\n",
    "\n",
    "    # Compute the overlap as a percentage of the total area.\n",
    "    if intersection_area == 0:\n",
    "        return 0\n",
    "    overlap = intersection_area / area1 * 100\n",
    "\n",
    "    return overlap"
   ]
  },
  {
   "cell_type": "markdown",
   "metadata": {},
   "source": [
    "Use the filter function in order to get 100% coverage over your two AOIs"
   ]
  },
  {
   "cell_type": "code",
   "execution_count": null,
   "metadata": {},
   "outputs": [],
   "source": [
    "#recreate a geometry\n",
    "geoms = {\n",
    "  \"type\": \"FeatureCollection\",\n",
    "  \"features\": []\n",
    "}\n",
    "\n",
    "#make a new list of IDs\n",
    "covered_list = []\n",
    "\n",
    "\n",
    "with open('output/results_coverage.geojson','w') as f:\n",
    "    for item in item_list:\n",
    "        overlap = get_overlap(geom_84, item['geometry'])\n",
    "        print(overlap)\n",
    "        if overlap >= 100:\n",
    "            scene =     {\n",
    "              \"type\": \"Feature\",\n",
    "              \"properties\": {},\n",
    "              \"geometry\": item['geometry']\n",
    "            }\n",
    "            geoms['features'].append(scene)\n",
    "            covered_list.append(item)\n",
    "    jsonStr = json.dumps(geoms)\n",
    "    f.write(jsonStr)\n",
    "    f.close()"
   ]
  },
  {
   "cell_type": "markdown",
   "metadata": {},
   "source": [
    "Comparing the number of items overall compared to the ones that cover the entirety of our two AOIs"
   ]
  },
  {
   "cell_type": "code",
   "execution_count": null,
   "metadata": {},
   "outputs": [],
   "source": [
    "print(len(item_list))\n",
    "print(len(covered_list))"
   ]
  },
  {
   "cell_type": "markdown",
   "metadata": {},
   "source": [
    "This GeoJSON file can be opened and viewed in any compatible application."
   ]
  },
  {
   "cell_type": "markdown",
   "metadata": {},
   "source": [
    "## Assets and downloads\n",
    "\n",
    "After a search returns results, the Python client can be used to check for assets and initiate downloads. Let's start by looking at one item and the assets available to download for that item.\n",
    "\n",
    "For more information on Items and Assets, check out [Items & Assets](https://developers.planet.com/docs/apis/data/items-assets/) on the Planet Developer Center."
   ]
  },
  {
   "cell_type": "code",
   "execution_count": null,
   "metadata": {},
   "outputs": [],
   "source": [
    "# As an example, let's look at the first result in our item_list and grab the item_id and item_type:\n",
    "item = covered_list[0]\n",
    "print(indent(item))\n",
    "print(item['id'], item['properties']['cloud_percent'])"
   ]
  },
  {
   "cell_type": "markdown",
   "metadata": {},
   "source": [
    "There are a few steps involved in order to download an asset using the Planet Python Client:\n",
    "\n",
    "* **Get Asset:** Get a description of our asset based on the specifications we're looking for\n",
    "* **Activate Asset:** Activate the asset with the given description\n",
    "* **Wait Asset:** Wait for the asset to be activated\n",
    "* **Download Asset:** Now our asset is ready for download!\n",
    "\n",
    "Let's go through these steps below. We'll do this for our cloud asset the ortho_udm2."
   ]
  },
  {
   "cell_type": "code",
   "execution_count": null,
   "metadata": {},
   "outputs": [],
   "source": [
    "nest_asyncio.apply()\n",
    "\n",
    "async def download_cloud(item):\n",
    "    async with Session() as sess:\n",
    "        cl = sess.client('data')\n",
    "        # Get Asset\n",
    "        asset_desc = await cl.get_asset(item_type_id=item['properties']['item_type'],item_id=item['id'], asset_type_id='ortho_udm2')\n",
    "        # Activate Asset\n",
    "        await cl.activate_asset(asset=asset_desc)\n",
    "        # Wait Asset\n",
    "        await cl.wait_asset(asset=asset_desc)\n",
    "        # Download Asset\n",
    "        for i in range(5):  # retry 3 times\n",
    "            try:\n",
    "                asset_path = await cl.download_asset(asset=asset_desc, directory='cloud_output', overwrite=True)\n",
    "                return asset_path\n",
    "            except Exception as e:\n",
    "                print(f\"Attempt {i+1} failed with error: {e}\")\n",
    "                if i < 4:  # if not the last attempt\n",
    "                    await asyncio.sleep(5)  # wait for 5 seconds before retrying\n",
    "                else:\n",
    "                    raise  # re-raise the last exception if all attempts fail\n",
    "\n",
    "\n",
    "        asset_path = await cl.download_asset(asset=asset_desc, directory='cloud_output', overwrite=True)\n",
    "        return asset_path"
   ]
  },
  {
   "cell_type": "code",
   "execution_count": null,
   "metadata": {},
   "outputs": [],
   "source": [
    "await download_cloud(item)"
   ]
  },
  {
   "cell_type": "markdown",
   "metadata": {},
   "source": [
    "A function that takes in a geometry and a cloud masks and outputs the percent of clear imagery within the AOI"
   ]
  },
  {
   "cell_type": "code",
   "execution_count": null,
   "metadata": {},
   "outputs": [],
   "source": [
    "def calculate_mask_coverage(file_path, geometry):\n",
    "    # Convert geometry to GeoDataFrame\n",
    "    gdf = gpd.GeoDataFrame([1], geometry=[geometry], crs='32610')\n",
    "\n",
    "    # Open the geotiff file\n",
    "    with rasterio.open(file_path) as src:\n",
    "        # Transform geometry to raster CRS\n",
    "        gdf = gdf.to_crs(src.crs)\n",
    "\n",
    "        # Mask the geotiff with the geometry\n",
    "        out_image, out_transform = mask(src, [mapping(gdf.geometry.values[0])], crop=True, filled=False)\n",
    "\n",
    "        # Band 1 is the mask layer\n",
    "        mask_band = out_image[0]\n",
    "\n",
    "        # Convert the masked array to a regular numpy array and set a specific value for the masked pixels\n",
    "        mask_band = np.where(mask_band.mask, -1, mask_band)\n",
    "        \n",
    "        # Calculate the total number of pixels\n",
    "        total_pixels = np.sum(mask_band >= 0)  # Only count pixels with value 0 or 1\n",
    "\n",
    "        # Calculate the number of 1s (True) and 0s (False)\n",
    "        unique, counts = np.unique(mask_band[mask_band >= 0], return_counts=True)\n",
    "        counts_dict = dict(zip(unique, counts))\n",
    "\n",
    "        # Calculate the percentages\n",
    "        percent_ones = (counts_dict.get(1, 0) / total_pixels) * 100\n",
    "        percent_zeros = (counts_dict.get(0, 0) / total_pixels) * 100\n",
    "\n",
    "        return percent_ones\n"
   ]
  },
  {
   "cell_type": "markdown",
   "metadata": {},
   "source": [
    "We need a geojson that has the same CRS as the images which in this case is UDM 10N"
   ]
  },
  {
   "cell_type": "code",
   "execution_count": null,
   "metadata": {},
   "outputs": [],
   "source": [
    "with open(\"sf_UTM.geojson\") as f:\n",
    "    geom_utm = json.loads(f.read())\n",
    "geom_utm = geom_utm['features']"
   ]
  },
  {
   "cell_type": "code",
   "execution_count": null,
   "metadata": {},
   "outputs": [],
   "source": [
    "calculate_mask_coverage(\"cloud_output/20240616_190907_10_2477_3B_udm2.tif\",shape(geom_utm[0]['geometry']))"
   ]
  },
  {
   "cell_type": "markdown",
   "metadata": {},
   "source": [
    "Now we run the function to download all the UDMs asyncronously. The output is rather busy so it is being stored in the captured variable"
   ]
  },
  {
   "cell_type": "code",
   "execution_count": null,
   "metadata": {},
   "outputs": [],
   "source": [
    "%%capture captured\n",
    "\n",
    "nest_asyncio.apply()\n",
    "\n",
    "async with Session() as sess:\n",
    "    tasks = [download_cloud(item) for item in covered_list]\n",
    "    await asyncio.gather(*tasks)\n",
    "\n",
    "    \n",
    "print(captured.stderr)"
   ]
  },
  {
   "cell_type": "markdown",
   "metadata": {},
   "source": [
    "This reads all of the cloud tiff files and creates a list of cloud cover over each AOI as well as a dictionary for each with scene ID and cloud values"
   ]
  },
  {
   "cell_type": "code",
   "execution_count": null,
   "metadata": {},
   "outputs": [],
   "source": [
    "import glob\n",
    "\n",
    "cloud_tifs = glob.glob(\"cloud_output/*\")\n",
    "sunset = []\n",
    "mission = []\n",
    "sunset_free = {}\n",
    "mission_free = {}\n",
    "for cloud in cloud_tifs:\n",
    "    sunset_free[cloud] = calculate_mask_coverage(cloud,shape(geom_utm[1]['geometry']))\n",
    "    mission_free[cloud] = calculate_mask_coverage(cloud,shape(geom_utm[0]['geometry']))\n",
    "    sunset.append(sunset_free[cloud])\n",
    "    mission.append(mission_free[cloud])\n",
    "    "
   ]
  },
  {
   "cell_type": "markdown",
   "metadata": {},
   "source": [
    "### Cloud Percent\n",
    "\n",
    "Now you print out the cloud cover of each AOI"
   ]
  },
  {
   "cell_type": "code",
   "execution_count": null,
   "metadata": {},
   "outputs": [],
   "source": [
    "print(np.mean(sunset))\n",
    "print(np.mean(mission))"
   ]
  },
  {
   "cell_type": "markdown",
   "metadata": {},
   "source": [
    "## Ordering"
   ]
  },
  {
   "cell_type": "markdown",
   "metadata": {},
   "source": [
    "In this example, we will order a PSScene ortho_visual image. For variations on this kind of order, see Ordering Data.\n",
    "\n",
    "In this order, we request a visual bundle. A bundle is a group of assets for an item. See the Scenes Product Bundles Reference to learn about other bundles and other items."
   ]
  },
  {
   "cell_type": "markdown",
   "metadata": {},
   "source": [
    "### Place Order\n",
    "Create the order structure using `planet` functions"
   ]
  },
  {
   "cell_type": "code",
   "execution_count": null,
   "metadata": {},
   "outputs": [],
   "source": [
    "from planet import order_request\n",
    "\n",
    "\n",
    "async def assemble_order(item_ids):\n",
    "    products = [\n",
    "        order_request.product(item_ids, 'visual', 'PSScene')\n",
    "    ]\n",
    "\n",
    "    tools = [order_request.clip_tool(aoi=geom_all)]\n",
    "\n",
    "    request = order_request.build_request(\n",
    "        'test_order_sdk_method_2', products=products, tools=tools)\n",
    "    return request\n",
    "    \n",
    "request =  await assemble_order(['20240615_190730_26_24d7'])"
   ]
  },
  {
   "cell_type": "markdown",
   "metadata": {},
   "source": [
    "Having created the order we can now place it and await it for download"
   ]
  },
  {
   "cell_type": "code",
   "execution_count": null,
   "metadata": {},
   "outputs": [],
   "source": [
    "from planet import reporting, Session, OrdersClient\n",
    "\n",
    "\n",
    "# an async Orders client to request order creation\n",
    "async with Session() as sess:\n",
    "    cl = OrdersClient(sess)\n",
    "    with reporting.StateBar(state='creating') as bar:\n",
    "        # create order via Orders client\n",
    "        order = await cl.create_order(request)\n",
    "        bar.update(state='created', order_id=order['id'])\n",
    "\n",
    "        # poll...poll...poll...\n",
    "        await cl.wait(order['id'], callback=bar.update_state)\n",
    "\n",
    "    # if we get here that means the order completed. Yay! Download the files.\n",
    "    await cl.download_order(order['id'])"
   ]
  },
  {
   "cell_type": "markdown",
   "metadata": {},
   "source": [
    "Now lets put it in as a function"
   ]
  },
  {
   "cell_type": "code",
   "execution_count": null,
   "metadata": {},
   "outputs": [],
   "source": [
    "async def do_order(order):\n",
    "    async with Session() as sess:\n",
    "        cl = OrdersClient(sess)\n",
    "        with reporting.StateBar(state='creating') as bar:\n",
    "            order = await cl.create_order(order)\n",
    "            bar.update(state='created', order_id=order['id'])\n",
    "\n",
    "            await cl.wait(order['id'], callback=bar.update_state)\n",
    "\n",
    "        # if we get here that means the order completed. Yay! Download the files.\n",
    "        await cl.download_order(order['id'])\n"
   ]
  },
  {
   "cell_type": "markdown",
   "metadata": {},
   "source": [
    "Now we can order all the scenes at once"
   ]
  },
  {
   "cell_type": "code",
   "execution_count": null,
   "metadata": {},
   "outputs": [],
   "source": [
    "ids = []\n",
    "for info in covered_list:\n",
    "    ids.append(info['id'])\n",
    "\n",
    "\n",
    "request = await assemble_order(ids)\n",
    "print(request)\n",
    "await do_order(request)"
   ]
  },
  {
   "cell_type": "code",
   "execution_count": null,
   "metadata": {},
   "outputs": [],
   "source": [
    "nest_asyncio.apply()\n",
    "\n",
    "\n",
    "#now all you need to do to have them run in parallel is to create an array of order requests\n",
    "async with Session() as sess:\n",
    "    tasks = [do_order(o) for o in order_list]\n",
    "    await asyncio.gather(*tasks)"
   ]
  },
  {
   "cell_type": "code",
   "execution_count": null,
   "metadata": {},
   "outputs": [],
   "source": []
  }
 ],
 "metadata": {
  "kernelspec": {
   "display_name": "Python 3 (ipykernel)",
   "language": "python",
   "name": "python3"
  },
  "language_info": {
   "codemirror_mode": {
    "name": "ipython",
    "version": 3
   },
   "file_extension": ".py",
   "mimetype": "text/x-python",
   "name": "python",
   "nbconvert_exporter": "python",
   "pygments_lexer": "ipython3",
   "version": "3.12.3"
  }
 },
 "nbformat": 4,
 "nbformat_minor": 4
}
