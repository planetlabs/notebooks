{
 "cells": [
  {
   "cell_type": "markdown",
   "id": "4ff14791",
   "metadata": {},
   "source": [
    "# Subscriptions API: Planet SDK Quickstart\n",
    "\n",
    "\n",
    "Getting started with Planet SDK and the Subscriptions API.\n",
    "\n",
    "The Subscriptions API is Planet's next-gen data delivery API; subscribe to continuous delivery of imagery and metadata collections which meet your item filter criteria with a single API call. Subscriptions must be delivered or hosted on cloud storage and cannot be delivered to your local machine like deliveries from the Data or Orders API's.\n",
    "\n",
    "\n",
    "This tutorial will take a look at the functionality of the Subscription API with the Python SDK and how you might be able to incorporate it into your own workflows."
   ]
  },
  {
   "cell_type": "markdown",
   "id": "439db3f4-ef08-48b9-84bb-ce1ad99058cf",
   "metadata": {},
   "source": [
    "## Requirements\n",
    "\n",
    "An account on the [Planet Platform](https://www.planet.com/account/) is required to access any of Planet's API's. If you are not logged in, you will be prompted to do so below in the *SDK Authentication* section.\n",
    "\n",
    "For Subscriptions, local delivery is not supported and subscriptions must be delivered to a cloud bucket or hosting service. For details on delivery schema for the supported cloud delivery platforms, see the [Subscriptions API Delivery Documentation](https://developers.planet.com/docs/subscriptions/delivery/).\n",
    "\n",
    "Supported Cloud platforms include:\n",
    "- Google Cloud Storage (used in this tutorial)\n",
    "- Google Earth Engine\n",
    "- Amazon S3 and other S3-compatible cloud storage providers\n",
    "- Oracle Cloud Storage\n",
    "- Microsoft Azure\n",
    "<br>\n",
    "Note that subscriptions can also use the data hosting feature on Sentinel Hub/Planet Insights Platform, and 'hosting' is used instead of 'delivery' in API calls.\n",
    "<br> <br>\n",
    "\n",
    "Regardless of the platform you're using, ensure the credentials you provide have **both write and delete access** to your storage location."
   ]
  },
  {
   "cell_type": "markdown",
   "id": "3c64700a-c3b9-474b-839d-885009e9a623",
   "metadata": {},
   "source": [
    "## Useful links \n",
    "* [Planet SDK for Python](https://planet-sdk-for-python.readthedocs.io/en/stable/get-started/quick-start-guide/)\n",
    "* [Planet Python Client Repo](https://github.com/planetlabs/planet-client-python)\n",
    "* [Planet Subscriptions API Documentation](https://docs.planet.com/develop/apis/subscriptions/)"
   ]
  },
  {
   "cell_type": "markdown",
   "id": "07bae0b2-1980-48c4-920b-086d426eaa49",
   "metadata": {},
   "source": [
    "_____"
   ]
  },
  {
   "cell_type": "markdown",
   "id": "71282e88-9085-406d-b337-17f1b04c093f",
   "metadata": {},
   "source": [
    "## Setup\n",
    "\n",
    "In order to interact with the Planet API using the Python client, we need to authenticate our Planet account credentials and import the necessary packages."
   ]
  },
  {
   "cell_type": "code",
   "execution_count": 1,
   "id": "6f19d411",
   "metadata": {},
   "outputs": [],
   "source": [
    "import os\n",
    "from datetime import datetime\n",
    "from planet import Auth, Session, Planet, subscription_request"
   ]
  },
  {
   "cell_type": "markdown",
   "id": "97ef388f-ddf7-449f-9033-2fbffe0aa5c6",
   "metadata": {},
   "source": [
    "### SDK Authentication\n",
    "\n",
    "Your Planet login is used to authenticate and activate the Python SDK. You will be prompted via a link below to login and confirm on the page that the code displayed matches the authorization code printed. \n",
    "If you would like to know more, please visit the [authentication documentation](https://docs.planet.com/develop/authentication)."
   ]
  },
  {
   "cell_type": "code",
   "execution_count": 2,
   "id": "0153bddd-0006-4382-8421-596a2a1502cd",
   "metadata": {},
   "outputs": [],
   "source": [
    "# OAuth2 python client authentication\n",
    "# If you are not already logged in, this will prompt you to open a web browser to log in.\n",
    "\n",
    "auth = Auth.from_profile('planet-user', save_state_to_storage=True)\n",
    "if not auth.is_initialized():\n",
    "    auth.user_login(allow_open_browser=False, allow_tty_prompt=True)\n",
    "\n",
    "session = Session(auth)\n",
    "pl = Planet(session)"
   ]
  },
  {
   "cell_type": "markdown",
   "id": "c61ffab1-29bf-4426-9ba2-2b2f0538c33b",
   "metadata": {},
   "source": [
    "_____"
   ]
  },
  {
   "cell_type": "markdown",
   "id": "e9cd5453",
   "metadata": {},
   "source": [
    "## Listing a Subscription"
   ]
  },
  {
   "cell_type": "markdown",
   "id": "37cdef91",
   "metadata": {},
   "source": [
    "First, let's try listing any existing subscriptions we already have in our Planet accounts. \n",
    "<br>\n",
    "If you've never made a subscription before, this will show up as an empty list. <br> <br> We'll try this again below after we've created our first subscription."
   ]
  },
  {
   "cell_type": "code",
   "execution_count": null,
   "id": "f3986691-4942-464d-8b7e-0e2dabc8f20b",
   "metadata": {},
   "outputs": [],
   "source": [
    "existing_subscriptions = list(pl.subscriptions.list_subscriptions(status=['running', 'pending', 'completed'], limit=5))"
   ]
  },
  {
   "cell_type": "code",
   "execution_count": 37,
   "id": "9205dbb0-a36f-4c53-af88-c8b355aa0fc7",
   "metadata": {},
   "outputs": [
    {
     "data": {
      "text/plain": [
       "[]"
      ]
     },
     "execution_count": 37,
     "metadata": {},
     "output_type": "execute_result"
    }
   ],
   "source": [
    "existing_subscriptions"
   ]
  },
  {
   "cell_type": "markdown",
   "id": "c5fbfb96-11f9-4cc4-bedf-7b80c778c1bc",
   "metadata": {},
   "source": [
    "_______"
   ]
  },
  {
   "cell_type": "markdown",
   "id": "fffa6e0e",
   "metadata": {},
   "source": [
    "## Creating a Subscription"
   ]
  },
  {
   "cell_type": "markdown",
   "id": "1f7010fe-c520-45a0-b89a-0589c5496e5f",
   "metadata": {},
   "source": [
    "**WARNING: Creating a Request below will consume quota! Be sure about the filter params so you can create a useful subscription. The variables below are meant as placeholders.**\n",
    "\n",
    "In order to create a subscription using the Python Client, we must provide a subscription request. This will include a `name`, `source` block, along with a `delivery` or a `hosting` block with a specified cloud storage location or cloud hosting platform, respectively. Subscriptions also support select tools. We will accomplish this all using `build_request()`."
   ]
  },
  {
   "cell_type": "markdown",
   "id": "99d2453c-2e6b-450b-821e-5ed083346cb1",
   "metadata": {},
   "source": [
    "#### Cloud Delivery Parameters:\n",
    "\n",
    "Your delivery or hosting parameters may be specified here. Below is a template for delivery to a Google Cloud Storage bucket. Note that you will need a service account with create, delete, and get permissions. It is recommended to store your GCS credentials as an environment variable. See the [Google Cloud documentation](https://cloud.google.com/iam/docs/keys-create-delete#iam-service-account-keys-create-console) on how to create a service account key with the appropriate permissions. More information about GCS hosting is available [here](https://docs.planet.com/develop/apis/subscriptions/delivery/#google-cloud-storage). "
   ]
  },
  {
   "cell_type": "code",
   "execution_count": null,
   "id": "d91291a9-52b0-43df-bd74-ba7f52e3f6f8",
   "metadata": {},
   "outputs": [],
   "source": [
    "# Google Cloud Storage placeholder\n",
    "gcs_key = os.getenv('GCS_CREDENTIALS')\n",
    "bucket_name = 'your_bucket_name'\n",
    "# optional path_prefix\n",
    "path_prefix = ''\n",
    "bucket_delivery = subscription_request.google_cloud_storage(\n",
    "    credentials=gcs_key, bucket=bucket_name, path_prefix=path_prefix)"
   ]
  },
  {
   "cell_type": "markdown",
   "id": "023188bf-0fe6-4506-8e51-3084902cd63b",
   "metadata": {
    "jp-MarkdownHeadingCollapsed": true
   },
   "source": [
    "#### Alternative to cloud delivery: Sentinel Hub Hosting\n",
    "\n",
    "You may wish to host your subscription data with a Cloud hosting service like a Sentinel Hub Collection or Google Earth Engine. The `hosting` arg should be used *instead* of the `delivery` arg below in `create_subscription()`. Cloud hosting documentation for subscriptions can be found [here](https://docs.planet.com/develop/apis/subscriptions/delivery/#hosting)."
   ]
  },
  {
   "cell_type": "code",
   "execution_count": null,
   "id": "81272d06-6c71-4669-a9d8-c1f8eb234991",
   "metadata": {},
   "outputs": [],
   "source": [
    "# Sentinel Hub collection hosting\n",
    "collection_id = 'collection_id'\n",
    "collection_hosting = subscription_request.sentinel_hub(collection_id=collection_id)"
   ]
  },
  {
   "cell_type": "code",
   "execution_count": null,
   "id": "2377bd2d-c719-4d89-adc2-3f6ed9cc43c8",
   "metadata": {},
   "outputs": [],
   "source": [
    "# GEE collection hosting\n",
    "project = 'project_name'\n",
    "collection = 'collection_name'\n",
    "credentials = 'gee_credentials'\n",
    "collection_hosting = subscription_request.google_earth_engine(project, collection, credentials)"
   ]
  },
  {
   "cell_type": "code",
   "execution_count": null,
   "id": "b3cabb5a-35d9-4aba-b460-db5aa515ae04",
   "metadata": {},
   "outputs": [],
   "source": [
    "collection_hosting"
   ]
  },
  {
   "cell_type": "markdown",
   "id": "f8a04abe-ffed-48ba-b815-fb270e270633",
   "metadata": {},
   "source": [
    "____"
   ]
  },
  {
   "cell_type": "markdown",
   "id": "9aaa0378-da71-4b14-9ca4-73357bcf8fe6",
   "metadata": {},
   "source": [
    "#### Build your Subscription\n",
    "For this example, our `source` block will be created from `subscription_request.catalog_source()` and will contain item_types, asset_types, geometry, start_time, end_time. \n",
    "\n",
    "\n",
    "Alternatively you may need `subscription_request.subscription_source` for Planetery variables or Analysis Ready PlanetScope. More info for subscription_source can be found [here](https://docs.planet.com/develop/apis/subscriptions/sources/#planetary-variable-and-analysis-ready-source-types)."
   ]
  },
  {
   "cell_type": "markdown",
   "id": "ce4e87b4",
   "metadata": {},
   "source": [
    "The `rrule` attribute leverages [iCalendar recurrence rules](https://icalendar.org/iCalendar-RFC-5545/3-8-5-3-recurrence-rule.html). This can be used to create subscriptions that deliver items for recurring periods within the total coverage time. In this example, we are getting monthly data between March through October, from 2022 to 2025. More information on how to use this attribute can be found [here](https://developers.planet.com/docs/subscriptions/source/#rrules-recurrence-rules).\n",
    "\n",
    "Feel free to use the below request format as a template to input the parameters you need for your own subscription."
   ]
  },
  {
   "cell_type": "code",
   "execution_count": 9,
   "id": "c44eb1c4-81ce-48bc-a535-64342410b3a3",
   "metadata": {},
   "outputs": [
    {
     "data": {
      "text/plain": [
       "{'parameters': {'item_types': ['PSScene'],\n",
       "  'asset_types': ['ortho_visual'],\n",
       "  'geometry': {'coordinates': [[[-122.33026701728114, 37.75207301385534],\n",
       "     [-122.20961421268103, 37.75207301385534],\n",
       "     [-122.20961421268103, 37.84571423146804],\n",
       "     [-122.33026701728114, 37.84571423146804],\n",
       "     [-122.33026701728114, 37.75207301385534]]],\n",
       "   'type': 'Polygon'},\n",
       "  'start_time': '2025-09-01T00:00:00+00:00',\n",
       "  'end_time': '2025-11-01T00:00:00+00:00',\n",
       "  'rrule': 'FREQ=MONTHLY;BYMONTH=3,4,5,6,7,8,9,10'}}"
      ]
     },
     "execution_count": 9,
     "metadata": {},
     "output_type": "execute_result"
    }
   ],
   "source": [
    "# Example catalog parameters\n",
    "item_types = [\"PSScene\"]\n",
    "asset_types = [\"ortho_visual\"]\n",
    "\n",
    "geometry = {\n",
    "        \"coordinates\": [[\n",
    "           [-122.33026701728114, 37.75207301385534],\n",
    "           [-122.20961421268103, 37.75207301385534],\n",
    "           [-122.20961421268103, 37.84571423146804],\n",
    "           [-122.33026701728114, 37.84571423146804],\n",
    "           [-122.33026701728114, 37.75207301385534]]],\n",
    "        \"type\": \"Polygon\"\n",
    "      }\n",
    "\n",
    "start_time = datetime.fromisoformat(\"2025-09-01T00:00:00Z\")\n",
    "end_time = datetime.fromisoformat(\"2025-11-01T00:00:00Z\")\n",
    "rrule = \"FREQ=MONTHLY;BYMONTH=3,4,5,6,7,8,9,10\"\n",
    "\n",
    "source = subscription_request.catalog_source(\n",
    "    item_types=item_types, asset_types=asset_types, geometry=geometry,\n",
    "    start_time=start_time, end_time=end_time, rrule=rrule)\n",
    "\n",
    "source"
   ]
  },
  {
   "cell_type": "code",
   "execution_count": null,
   "id": "17a3aa17-0f76-4f37-9515-98d4a4e6ce39",
   "metadata": {},
   "outputs": [],
   "source": [
    "sub_built = subscription_request.build_request(\n",
    "    name=\"recurring_sub_test_api_quickstart\", source=source,\n",
    "    delivery=bucket_delivery)"
   ]
  },
  {
   "cell_type": "code",
   "execution_count": 14,
   "id": "8a478e01-4ee3-4e93-85fe-918c5943a06f",
   "metadata": {},
   "outputs": [
    {
     "data": {
      "text/plain": [
       "{'name': 'recurring_sub_test_api_quickstart',\n",
       " 'source': {'parameters': {'item_types': ['PSScene'],\n",
       "   'asset_types': ['ortho_visual'],\n",
       "   'geometry': {'coordinates': [[[-122.33026701728114, 37.75207301385534],\n",
       "      [-122.20961421268103, 37.75207301385534],\n",
       "      [-122.20961421268103, 37.84571423146804],\n",
       "      [-122.33026701728114, 37.84571423146804],\n",
       "      [-122.33026701728114, 37.75207301385534]]],\n",
       "    'type': 'Polygon'},\n",
       "   'start_time': '2025-09-01T00:00:00+00:00',\n",
       "   'end_time': '2025-11-01T00:00:00+00:00',\n",
       "   'rrule': 'FREQ=MONTHLY;BYMONTH=3,4,5,6,7,8,9,10'}},\n",
       " 'delivery': {'type': 'google_cloud_storage',\n",
       "  'parameters': {'bucket': 'test_bucket', 'credentials': '<redacted>'}}}"
      ]
     },
     "execution_count": 14,
     "metadata": {},
     "output_type": "execute_result"
    }
   ],
   "source": [
    "sub_built"
   ]
  },
  {
   "cell_type": "markdown",
   "id": "86bea497-f20e-47fe-a8a7-9afe64258aaa",
   "metadata": {},
   "source": [
    "#### Create your subscription:"
   ]
  },
  {
   "cell_type": "code",
   "execution_count": 12,
   "id": "5f068cb8-89db-4dc8-958a-e4f641f4acd5",
   "metadata": {},
   "outputs": [],
   "source": [
    "sub_created = pl.subscriptions.create_subscription(sub_built)"
   ]
  },
  {
   "cell_type": "code",
   "execution_count": 15,
   "id": "1d51e43f",
   "metadata": {},
   "outputs": [
    {
     "data": {
      "text/plain": [
       "{'name': 'recurring_sub_test_api_quickstart',\n",
       " 'source': {'type': 'catalog',\n",
       "  'parameters': {'item_types': ['PSScene'],\n",
       "   'asset_types': ['ortho_visual'],\n",
       "   'publishing_stages': ['standard', 'finalized'],\n",
       "   'time_range_type': 'acquired',\n",
       "   'geometry': {'type': 'Polygon',\n",
       "    'coordinates': [[[-122.33026701728114, 37.75207301385534],\n",
       "      [-122.20961421268103, 37.75207301385534],\n",
       "      [-122.20961421268103, 37.84571423146804],\n",
       "      [-122.33026701728114, 37.84571423146804],\n",
       "      [-122.33026701728114, 37.75207301385534]]]},\n",
       "   'start_time': '2025-09-01T00:00:00Z',\n",
       "   'end_time': '2025-11-01T00:00:00Z',\n",
       "   'rrule': 'FREQ=MONTHLY;BYMONTH=3,4,5,6,7,8,9,10'}},\n",
       " 'delivery': {'type': 'google_cloud_storage',\n",
       "  'parameters': {'bucket': 'simon-test-bucket-pl',\n",
       "   'credentials': '<REDACTED>'}},\n",
       " 'created': '2025-10-01T22:29:29.513542Z',\n",
       " '_links': {'_self': 'https://api.planet.com/subscriptions/v1/33867e00-3f40-4116-88c9-1a7215255324',\n",
       "  'results': 'https://api.planet.com/subscriptions/v1/33867e00-3f40-4116-88c9-1a7215255324/results'},\n",
       " 'status': 'preparing',\n",
       " 'id': '33867e00-3f40-4116-88c9-1a7215255324',\n",
       " 'updated': '2025-10-01T22:29:29.513542Z'}"
      ]
     },
     "execution_count": 15,
     "metadata": {},
     "output_type": "execute_result"
    }
   ],
   "source": [
    "sub_created"
   ]
  },
  {
   "cell_type": "markdown",
   "id": "2db35345-6b31-4a1a-a0c1-3671518b087c",
   "metadata": {},
   "source": [
    "___"
   ]
  },
  {
   "cell_type": "markdown",
   "id": "50446022",
   "metadata": {},
   "source": [
    "## Listing a Subscription"
   ]
  },
  {
   "cell_type": "markdown",
   "id": "edbbe508",
   "metadata": {},
   "source": [
    "Now that created a subscription, let's try listing our 5 most recent subscriptions associated with our Planet account. We should see the subscription we just created above as part of this.\n",
    "\n",
    "You can filter the subscriptions listed by status- `preparing`, `running`, `pending`, `completed`, or `canceled`.\n",
    "\n",
    "For this example, we will only list the subscriptions we have that have not been canceled. We will save the ID of the most recent subscription."
   ]
  },
  {
   "cell_type": "code",
   "execution_count": 16,
   "id": "c83fa336-3f3e-47c8-b952-12b6fdc53f54",
   "metadata": {},
   "outputs": [],
   "source": [
    "sub_list = list(pl.subscriptions.list_subscriptions(status=['preparing', 'running', 'pending', 'completed'], limit=5))\n",
    "sub_to_check = sub_list[0]"
   ]
  },
  {
   "cell_type": "code",
   "execution_count": 18,
   "id": "9283cc6c-bb32-41a5-ad21-6f5e2573112a",
   "metadata": {},
   "outputs": [
    {
     "data": {
      "text/plain": [
       "{'name': 'recurring_sub_test_api_quickstart',\n",
       " 'source': {'type': 'catalog',\n",
       "  'parameters': {'item_types': ['PSScene'],\n",
       "   'asset_types': ['ortho_visual'],\n",
       "   'publishing_stages': ['standard', 'finalized'],\n",
       "   'time_range_type': 'acquired',\n",
       "   'geometry': {'type': 'Polygon',\n",
       "    'coordinates': [[[-122.33026701728114, 37.75207301385534],\n",
       "      [-122.20961421268103, 37.75207301385534],\n",
       "      [-122.20961421268103, 37.84571423146804],\n",
       "      [-122.33026701728114, 37.84571423146804],\n",
       "      [-122.33026701728114, 37.75207301385534]]]},\n",
       "   'start_time': '2025-09-01T00:00:00Z',\n",
       "   'end_time': '2025-11-01T00:00:00Z',\n",
       "   'rrule': 'FREQ=MONTHLY;BYMONTH=3,4,5,6,7,8,9,10'}},\n",
       " 'delivery': {'type': 'google_cloud_storage',\n",
       "  'parameters': {'bucket': 'simon-test-bucket-pl',\n",
       "   'credentials': '<REDACTED>'}},\n",
       " 'created': '2025-10-01T22:29:29.513542Z',\n",
       " '_links': {'_self': 'https://api.planet.com/subscriptions/v1/33867e00-3f40-4116-88c9-1a7215255324',\n",
       "  'results': 'https://api.planet.com/subscriptions/v1/33867e00-3f40-4116-88c9-1a7215255324/results'},\n",
       " 'status': 'running',\n",
       " 'id': '33867e00-3f40-4116-88c9-1a7215255324',\n",
       " 'updated': '2025-10-01T22:29:35.331464Z'}"
      ]
     },
     "execution_count": 18,
     "metadata": {},
     "output_type": "execute_result"
    }
   ],
   "source": [
    "sub_to_check"
   ]
  },
  {
   "cell_type": "markdown",
   "id": "0eb5aeac-a198-451e-a7eb-58b199e198ba",
   "metadata": {},
   "source": [
    "_____"
   ]
  },
  {
   "cell_type": "markdown",
   "id": "536476c9",
   "metadata": {},
   "source": [
    "## Get a Subscription"
   ]
  },
  {
   "cell_type": "markdown",
   "id": "381ce7bf",
   "metadata": {},
   "source": [
    "We can use our subscription ID for a given subscription to retrieve the corresponding subscription's description. Let's see this in action using the subscription ID we saved above."
   ]
  },
  {
   "cell_type": "code",
   "execution_count": 19,
   "id": "5fabfff0-db7a-4f6b-82f9-05758e0e9644",
   "metadata": {},
   "outputs": [],
   "source": [
    "sub_id = sub_to_check['id']\n",
    "sub_desc = pl.subscriptions.get_subscription(sub_id)"
   ]
  },
  {
   "cell_type": "code",
   "execution_count": 20,
   "id": "c40db9e2-8ac4-4827-9b40-a439ea8816ba",
   "metadata": {},
   "outputs": [
    {
     "data": {
      "text/plain": [
       "{'name': 'recurring_sub_test_api_quickstart',\n",
       " 'source': {'type': 'catalog',\n",
       "  'parameters': {'item_types': ['PSScene'],\n",
       "   'asset_types': ['ortho_visual'],\n",
       "   'publishing_stages': ['standard', 'finalized'],\n",
       "   'time_range_type': 'acquired',\n",
       "   'geometry': {'type': 'Polygon',\n",
       "    'coordinates': [[[-122.33026701728114, 37.75207301385534],\n",
       "      [-122.20961421268103, 37.75207301385534],\n",
       "      [-122.20961421268103, 37.84571423146804],\n",
       "      [-122.33026701728114, 37.84571423146804],\n",
       "      [-122.33026701728114, 37.75207301385534]]]},\n",
       "   'start_time': '2025-09-01T00:00:00Z',\n",
       "   'end_time': '2025-11-01T00:00:00Z',\n",
       "   'rrule': 'FREQ=MONTHLY;BYMONTH=3,4,5,6,7,8,9,10'}},\n",
       " 'delivery': {'type': 'google_cloud_storage',\n",
       "  'parameters': {'bucket': 'simon-test-bucket-pl',\n",
       "   'credentials': '<REDACTED>'}},\n",
       " 'created': '2025-10-01T22:29:29.513542Z',\n",
       " '_links': {'_self': 'https://api.planet.com/subscriptions/v1/33867e00-3f40-4116-88c9-1a7215255324',\n",
       "  'results': 'https://api.planet.com/subscriptions/v1/33867e00-3f40-4116-88c9-1a7215255324/results'},\n",
       " 'status': 'running',\n",
       " 'id': '33867e00-3f40-4116-88c9-1a7215255324',\n",
       " 'updated': '2025-10-01T22:29:35.331464Z'}"
      ]
     },
     "execution_count": 20,
     "metadata": {},
     "output_type": "execute_result"
    }
   ],
   "source": [
    "sub_desc"
   ]
  },
  {
   "cell_type": "markdown",
   "id": "487003bc-aa8b-4f4c-afa2-b98e5ad18ff5",
   "metadata": {},
   "source": [
    "___"
   ]
  },
  {
   "cell_type": "markdown",
   "id": "6a937955",
   "metadata": {},
   "source": [
    "## Update a Subscription"
   ]
  },
  {
   "cell_type": "markdown",
   "id": "5497b7c8",
   "metadata": {},
   "source": [
    "What if we see something about our subscription that we want to change? We can update a subscription by specifying the subscription ID whose attributes we want to alter, along with a new request with the updated parameters. \n",
    "\n",
    "**Note some restrictions apply after a subscription transitions to `running`:**\n",
    "- Changes to the `item_types` fields are not allowed.\n",
    "- Changes to `start_time` is not allowed if the `start_time` has already happened.\n",
    "    - The edit will only apply to future item publications and deliveries and no items will be redelivered.\n",
    "- Changes to `tools` are not allowed.\n",
    "    - If tools was left as `None` when you created your subscription, the default tools need be to set when you update the subscription.\n",
    "- Backfill subscriptions cannot be edited.\n",
    "    - If you need to reorder archive items based on an updated filter or tool specifications, you can search for and order archive items with the Data API and Orders API."
   ]
  },
  {
   "cell_type": "code",
   "execution_count": 21,
   "id": "7846787f",
   "metadata": {
    "scrolled": true
   },
   "outputs": [
    {
     "data": {
      "text/plain": [
       "{'name': 'recurring_sub_test_api_quickstart',\n",
       " 'source': {'type': 'catalog',\n",
       "  'parameters': {'item_types': ['PSScene'],\n",
       "   'asset_types': ['ortho_visual'],\n",
       "   'publishing_stages': ['standard', 'finalized'],\n",
       "   'time_range_type': 'acquired',\n",
       "   'geometry': {'type': 'Polygon',\n",
       "    'coordinates': [[[-122.33026701728114, 37.75207301385534],\n",
       "      [-122.20961421268103, 37.75207301385534],\n",
       "      [-122.20961421268103, 37.84571423146804],\n",
       "      [-122.33026701728114, 37.84571423146804],\n",
       "      [-122.33026701728114, 37.75207301385534]]]},\n",
       "   'start_time': '2025-09-01T00:00:00Z',\n",
       "   'end_time': '2025-11-01T00:00:00Z',\n",
       "   'rrule': 'FREQ=MONTHLY;BYMONTH=3,4,5,6,7,8,9,10'}},\n",
       " 'delivery': {'type': 'google_cloud_storage',\n",
       "  'parameters': {'bucket': 'simon-test-bucket-pl',\n",
       "   'credentials': '<REDACTED>'}},\n",
       " 'created': '2025-10-01T22:29:29.513542Z',\n",
       " '_links': {'_self': 'https://api.planet.com/subscriptions/v1/33867e00-3f40-4116-88c9-1a7215255324',\n",
       "  'results': 'https://api.planet.com/subscriptions/v1/33867e00-3f40-4116-88c9-1a7215255324/results'},\n",
       " 'status': 'running',\n",
       " 'id': '33867e00-3f40-4116-88c9-1a7215255324',\n",
       " 'updated': '2025-10-01T22:29:35.331464Z'}"
      ]
     },
     "execution_count": 21,
     "metadata": {},
     "output_type": "execute_result"
    }
   ],
   "source": [
    "# Let's look at our original request once more:\n",
    "sub_desc"
   ]
  },
  {
   "cell_type": "code",
   "execution_count": null,
   "id": "f1efd324-e54a-43a6-8a8e-e3d2cd1c8b54",
   "metadata": {},
   "outputs": [],
   "source": [
    "# We will reuse our 'id', 'name' from the description above.\n",
    "# We will use the same delivery variable from before.\n",
    "# If you used any tools in your original subscription, make sure to reuse them.\n",
    "\n",
    "sub_id = sub_desc['id']\n",
    "sub_name = sub_desc['name']"
   ]
  },
  {
   "cell_type": "markdown",
   "id": "d967322a",
   "metadata": {},
   "source": [
    "Let's change our end time January 1st, change our end year to 2027, and only look at images every other month."
   ]
  },
  {
   "cell_type": "code",
   "execution_count": null,
   "id": "f6c3fa92-4250-4215-8636-b1aafecaceac",
   "metadata": {},
   "outputs": [],
   "source": [
    "# We will reuse all variables set above, changing only end_time and rrule:\n",
    "end_time_update = datetime.fromisoformat(\"2027-01-01T00:00:00Z\")\n",
    "rrule_update = \"FREQ=MONTHLY;BYMONTH=2,4,6,8,10,12\"\n",
    "\n",
    "source_update = subscription_request.catalog_source(\n",
    "    item_types=item_types, asset_types=asset_types, geometry=geometry,\n",
    "    start_time=start_time, end_time=end_time_update, rrule=rrule_update)\n",
    "\n",
    "sub_update = subscription_request.build_request(\n",
    "    name = sub_name, source = source_update, delivery=bucket_delivery)"
   ]
  },
  {
   "cell_type": "code",
   "execution_count": 24,
   "id": "e9613db6-9b63-491d-ab98-6eabe8cdcb37",
   "metadata": {
    "scrolled": true
   },
   "outputs": [
    {
     "data": {
      "text/plain": [
       "{'name': 'recurring_sub_test_api_quickstart',\n",
       " 'source': {'parameters': {'item_types': ['PSScene'],\n",
       "   'asset_types': ['ortho_visual'],\n",
       "   'geometry': {'coordinates': [[[-122.33026701728114, 37.75207301385534],\n",
       "      [-122.20961421268103, 37.75207301385534],\n",
       "      [-122.20961421268103, 37.84571423146804],\n",
       "      [-122.33026701728114, 37.84571423146804],\n",
       "      [-122.33026701728114, 37.75207301385534]]],\n",
       "    'type': 'Polygon'},\n",
       "   'start_time': '2025-09-01T00:00:00+00:00',\n",
       "   'end_time': '2027-01-01T00:00:00+00:00',\n",
       "   'rrule': 'FREQ=MONTHLY;BYMONTH=2,4,6,8,10,12'}},\n",
       " 'delivery': {'type': 'google_cloud_storage',\n",
       "  'parameters': {'bucket': 'test_bucket', 'credentials': '<redacted>'}}}"
      ]
     },
     "execution_count": 24,
     "metadata": {},
     "output_type": "execute_result"
    }
   ],
   "source": [
    "sub_update"
   ]
  },
  {
   "cell_type": "markdown",
   "id": "a8c56a30",
   "metadata": {},
   "source": [
    "Now, we can update our subscription with this new request:"
   ]
  },
  {
   "cell_type": "code",
   "execution_count": 28,
   "id": "ab5f9387-4684-490f-99d0-f26bbf4ac261",
   "metadata": {},
   "outputs": [],
   "source": [
    "updated_sub = pl.subscriptions.update_subscription(subscription_id=sub_id, request=sub_update)"
   ]
  },
  {
   "cell_type": "markdown",
   "id": "d747f142",
   "metadata": {},
   "source": [
    "Check out the new parameters of our subscription below. Notice that the frequency and end dates of the subscription have changed! Also note that this is still the same subscription ID as we were working with above."
   ]
  },
  {
   "cell_type": "code",
   "execution_count": 29,
   "id": "9a674243",
   "metadata": {
    "scrolled": true
   },
   "outputs": [
    {
     "data": {
      "text/plain": [
       "{'name': 'recurring_sub_test_api_quickstart',\n",
       " 'source': {'type': 'catalog',\n",
       "  'parameters': {'item_types': ['PSScene'],\n",
       "   'asset_types': ['ortho_visual'],\n",
       "   'publishing_stages': ['standard', 'finalized'],\n",
       "   'time_range_type': 'acquired',\n",
       "   'geometry': {'type': 'Polygon',\n",
       "    'coordinates': [[[-122.33026701728114, 37.75207301385534],\n",
       "      [-122.20961421268103, 37.75207301385534],\n",
       "      [-122.20961421268103, 37.84571423146804],\n",
       "      [-122.33026701728114, 37.84571423146804],\n",
       "      [-122.33026701728114, 37.75207301385534]]]},\n",
       "   'start_time': '2025-09-01T00:00:00Z',\n",
       "   'end_time': '2027-01-01T00:00:00Z',\n",
       "   'rrule': 'FREQ=MONTHLY;BYMONTH=3,4,5,6,7,8,9,10'}},\n",
       " 'delivery': {'type': 'google_cloud_storage',\n",
       "  'parameters': {'bucket': 'simon-test-bucket-pl',\n",
       "   'credentials': '<REDACTED>'}},\n",
       " 'created': '2025-10-01T22:29:29.513542Z',\n",
       " '_links': {'_self': 'https://api.planet.com/subscriptions/v1/33867e00-3f40-4116-88c9-1a7215255324',\n",
       "  'results': 'https://api.planet.com/subscriptions/v1/33867e00-3f40-4116-88c9-1a7215255324/results'},\n",
       " 'status': 'running',\n",
       " 'id': '33867e00-3f40-4116-88c9-1a7215255324',\n",
       " 'updated': '2025-10-01T22:39:52.642767Z'}"
      ]
     },
     "execution_count": 29,
     "metadata": {},
     "output_type": "execute_result"
    }
   ],
   "source": [
    "updated_sub"
   ]
  },
  {
   "cell_type": "markdown",
   "id": "f640fa6e-60c0-42ee-834e-48e9adcb5726",
   "metadata": {},
   "source": [
    "____"
   ]
  },
  {
   "cell_type": "markdown",
   "id": "69e76a96",
   "metadata": {},
   "source": [
    "## Get Subscription Results"
   ]
  },
  {
   "attachments": {},
   "cell_type": "markdown",
   "id": "58d18618-7033-4f70-84c9-dcbd1e532bdb",
   "metadata": {},
   "source": [
    "Now that we've made sure our subscription description matches what we want, we can see our subscription results using the `get_results` method. This step will only work for subscriptions that are already began running. \n",
    "If you get an empty list, it may mean that your subscription is still pending, especially if the start date of the subscription has not arrived yet.\n",
    "<br> <br>\n",
    "Check out the results description below. Note that we can see the both when we created the subscription and when we updated it, as well as the status. \n",
    "<br>\n"
   ]
  },
  {
   "cell_type": "code",
   "execution_count": 30,
   "id": "60678939-32f0-45ca-9db0-790e98815c7b",
   "metadata": {},
   "outputs": [],
   "source": [
    "results_desc = pl.subscriptions.get_results(sub_id)\n",
    "results_list = [result for result in results_desc]"
   ]
  },
  {
   "cell_type": "code",
   "execution_count": 31,
   "id": "f555f289",
   "metadata": {
    "scrolled": true
   },
   "outputs": [
    {
     "data": {
      "text/plain": [
       "[{'id': 'daef022a-d4ce-4c15-b905-28ad59e316e7',\n",
       "  'status': 'success',\n",
       "  'properties': {'item_id': '20250927_192504_20_253a',\n",
       "   'item_types': ['PSScene']},\n",
       "  'created': '2025-10-01T22:29:33.483662Z',\n",
       "  'updated': '2025-10-01T22:31:05.351179Z',\n",
       "  'completed': '2025-10-01T22:31:05.351179Z',\n",
       "  'errors': {},\n",
       "  'outputs': ['33867e00-3f40-4116-88c9-1a7215255324/20250927_192504_20_253a/20250927_192504_20_253a_metadata.json',\n",
       "   '33867e00-3f40-4116-88c9-1a7215255324/20250927_192504_20_253a/20250927_192504_20_253a_3B_Visual.tif']},\n",
       " {'id': '7e6edaba-592d-427d-8aaf-654a1da721f6',\n",
       "  'status': 'success',\n",
       "  'properties': {'item_id': '20250923_192445_87_24b8',\n",
       "   'item_types': ['PSScene']},\n",
       "  'created': '2025-10-01T22:29:33.441197Z',\n",
       "  'updated': '2025-10-01T22:39:07.97061Z',\n",
       "  'completed': '2025-10-01T22:39:07.97061Z',\n",
       "  'errors': {},\n",
       "  'outputs': ['33867e00-3f40-4116-88c9-1a7215255324/20250923_192445_87_24b8/20250923_192445_87_24b8_metadata.json',\n",
       "   '33867e00-3f40-4116-88c9-1a7215255324/20250923_192445_87_24b8/20250923_192445_87_24b8_3B_Visual.tif']},\n",
       " {'id': '8c32a153-7b99-42d3-b645-dcea2159c9c1',\n",
       "  'status': 'success',\n",
       "  'properties': {'item_id': '20250902_192245_14_252b',\n",
       "   'item_types': ['PSScene']},\n",
       "  'created': '2025-10-01T22:29:33.337709Z',\n",
       "  'updated': '2025-10-01T22:38:25.599097Z',\n",
       "  'completed': '2025-10-01T22:38:25.599097Z',\n",
       "  'errors': {},\n",
       "  'outputs': ['33867e00-3f40-4116-88c9-1a7215255324/20250902_192245_14_252b/20250902_192245_14_252b_metadata.json',\n",
       "   '33867e00-3f40-4116-88c9-1a7215255324/20250902_192245_14_252b/20250902_192245_14_252b_3B_Visual.tif']},\n",
       " {'id': '97142c10-2973-4a03-832a-0896ebc442d1',\n",
       "  'status': 'success',\n",
       "  'properties': {'item_id': '20250922_192738_13_2540',\n",
       "   'item_types': ['PSScene']},\n",
       "  'created': '2025-10-01T22:29:33.331746Z',\n",
       "  'updated': '2025-10-01T22:37:52.026264Z',\n",
       "  'completed': '2025-10-01T22:37:52.026264Z',\n",
       "  'errors': {},\n",
       "  'outputs': ['33867e00-3f40-4116-88c9-1a7215255324/20250922_192738_13_2540/20250922_192738_13_2540_metadata.json',\n",
       "   '33867e00-3f40-4116-88c9-1a7215255324/20250922_192738_13_2540/20250922_192738_13_2540_3B_Visual.tif']},\n",
       " {'id': 'd17129c0-5fb8-4e43-8da6-0b2170b9bcb1',\n",
       "  'status': 'success',\n",
       "  'properties': {'item_id': '20250904_192331_71_253d',\n",
       "   'item_types': ['PSScene']},\n",
       "  'created': '2025-10-01T22:29:33.331743Z',\n",
       "  'updated': '2025-10-01T22:37:16.380242Z',\n",
       "  'completed': '2025-10-01T22:37:16.380242Z',\n",
       "  'errors': {},\n",
       "  'outputs': ['33867e00-3f40-4116-88c9-1a7215255324/20250904_192331_71_253d/20250904_192331_71_253d_metadata.json',\n",
       "   '33867e00-3f40-4116-88c9-1a7215255324/20250904_192331_71_253d/20250904_192331_71_253d_3B_Visual.tif']},\n",
       " {'id': '2d9455cc-f471-4c72-9e8f-1fe00a2d5eae',\n",
       "  'status': 'success',\n",
       "  'properties': {'item_id': '20250909_192248_11_24ee',\n",
       "   'item_types': ['PSScene']},\n",
       "  'created': '2025-10-01T22:29:33.331202Z',\n",
       "  'updated': '2025-10-01T22:39:48.951189Z',\n",
       "  'completed': '2025-10-01T22:39:48.951189Z',\n",
       "  'errors': {},\n",
       "  'outputs': ['33867e00-3f40-4116-88c9-1a7215255324/20250909_192248_11_24ee/20250909_192248_11_24ee_metadata.json',\n",
       "   '33867e00-3f40-4116-88c9-1a7215255324/20250909_192248_11_24ee/20250909_192248_11_24ee_3B_Visual.tif']},\n",
       " {'id': 'bdd3d0c6-0d87-4e1c-b796-5457003db34a',\n",
       "  'status': 'success',\n",
       "  'properties': {'item_id': '20250930_191653_07_251d',\n",
       "   'item_types': ['PSScene']},\n",
       "  'created': '2025-10-01T22:29:33.328941Z',\n",
       "  'updated': '2025-10-01T22:30:36.346685Z',\n",
       "  'completed': '2025-10-01T22:30:36.346685Z',\n",
       "  'errors': {},\n",
       "  'outputs': ['33867e00-3f40-4116-88c9-1a7215255324/20250930_191653_07_251d/20250930_191653_07_251d_metadata.json',\n",
       "   '33867e00-3f40-4116-88c9-1a7215255324/20250930_191653_07_251d/20250930_191653_07_251d_3B_Visual.tif']},\n",
       " {'id': 'fddd6ef9-7ddb-44ba-83f7-0af8e8ed240d',\n",
       "  'status': 'success',\n",
       "  'properties': {'item_id': '20250926_192535_71_2527',\n",
       "   'item_types': ['PSScene']},\n",
       "  'created': '2025-10-01T22:29:33.327466Z',\n",
       "  'updated': '2025-10-01T22:30:42.961532Z',\n",
       "  'completed': '2025-10-01T22:30:42.961532Z',\n",
       "  'errors': {},\n",
       "  'outputs': ['33867e00-3f40-4116-88c9-1a7215255324/20250926_192535_71_2527/20250926_192535_71_2527_metadata.json',\n",
       "   '33867e00-3f40-4116-88c9-1a7215255324/20250926_192535_71_2527/20250926_192535_71_2527_3B_Visual.tif']},\n",
       " {'id': 'f361c637-1c55-4429-bead-30a3b35febcd',\n",
       "  'status': 'success',\n",
       "  'properties': {'item_id': '20250919_191700_97_250a',\n",
       "   'item_types': ['PSScene']},\n",
       "  'created': '2025-10-01T22:29:33.323997Z',\n",
       "  'updated': '2025-10-01T22:39:54.224852Z',\n",
       "  'completed': '2025-10-01T22:39:54.224852Z',\n",
       "  'errors': {},\n",
       "  'outputs': ['33867e00-3f40-4116-88c9-1a7215255324/20250919_191700_97_250a/20250919_191700_97_250a_metadata.json',\n",
       "   '33867e00-3f40-4116-88c9-1a7215255324/20250919_191700_97_250a/20250919_191700_97_250a_3B_Visual.tif']},\n",
       " {'id': '010d1281-3f53-46d8-9992-313bdc867327',\n",
       "  'status': 'success',\n",
       "  'properties': {'item_id': '20250912_192535_52_2508',\n",
       "   'item_types': ['PSScene']},\n",
       "  'created': '2025-10-01T22:29:33.32113Z',\n",
       "  'updated': '2025-10-01T22:39:48.952073Z',\n",
       "  'completed': '2025-10-01T22:39:48.952073Z',\n",
       "  'errors': {},\n",
       "  'outputs': ['33867e00-3f40-4116-88c9-1a7215255324/20250912_192535_52_2508/20250912_192535_52_2508_metadata.json',\n",
       "   '33867e00-3f40-4116-88c9-1a7215255324/20250912_192535_52_2508/20250912_192535_52_2508_3B_Visual.tif']},\n",
       " {'id': '41743368-7716-481b-8ca6-3ec3d430a325',\n",
       "  'status': 'success',\n",
       "  'properties': {'item_id': '20250927_192603_76_253d',\n",
       "   'item_types': ['PSScene']},\n",
       "  'created': '2025-10-01T22:29:33.321109Z',\n",
       "  'updated': '2025-10-01T22:38:46.889977Z',\n",
       "  'completed': '2025-10-01T22:38:46.889977Z',\n",
       "  'errors': {},\n",
       "  'outputs': ['33867e00-3f40-4116-88c9-1a7215255324/20250927_192603_76_253d/20250927_192603_76_253d_metadata.json',\n",
       "   '33867e00-3f40-4116-88c9-1a7215255324/20250927_192603_76_253d/20250927_192603_76_253d_3B_Visual.tif']},\n",
       " {'id': 'e29dffcb-b197-4699-a267-547bcf36e95e',\n",
       "  'status': 'success',\n",
       "  'properties': {'item_id': '20250917_192200_03_24d1',\n",
       "   'item_types': ['PSScene']},\n",
       "  'created': '2025-10-01T22:29:33.320768Z',\n",
       "  'updated': '2025-10-01T22:38:52.306638Z',\n",
       "  'completed': '2025-10-01T22:38:52.306638Z',\n",
       "  'errors': {},\n",
       "  'outputs': ['33867e00-3f40-4116-88c9-1a7215255324/20250917_192200_03_24d1/20250917_192200_03_24d1_metadata.json',\n",
       "   '33867e00-3f40-4116-88c9-1a7215255324/20250917_192200_03_24d1/20250917_192200_03_24d1_3B_Visual.tif']},\n",
       " {'id': 'f69493f6-5a78-482c-914d-40cd4a55886d',\n",
       "  'status': 'processing',\n",
       "  'properties': {'item_id': '20250910_192021_31_24dc',\n",
       "   'item_types': ['PSScene']},\n",
       "  'created': '2025-10-01T22:29:33.319678Z',\n",
       "  'updated': '2025-10-01T22:38:37.246373Z',\n",
       "  'errors': {},\n",
       "  'outputs': []},\n",
       " {'id': '2b30e460-1bf4-433e-8acc-2fda6f422577',\n",
       "  'status': 'success',\n",
       "  'properties': {'item_id': '20250914_191728_83_24f7',\n",
       "   'item_types': ['PSScene']},\n",
       "  'created': '2025-10-01T22:29:33.318398Z',\n",
       "  'updated': '2025-10-01T22:37:20.916495Z',\n",
       "  'completed': '2025-10-01T22:37:20.916495Z',\n",
       "  'errors': {},\n",
       "  'outputs': ['33867e00-3f40-4116-88c9-1a7215255324/20250914_191728_83_24f7/20250914_191728_83_24f7_metadata.json',\n",
       "   '33867e00-3f40-4116-88c9-1a7215255324/20250914_191728_83_24f7/20250914_191728_83_24f7_3B_Visual.tif']},\n",
       " {'id': '394db00b-a17e-47ef-bee7-d5dd4ff337bf',\n",
       "  'status': 'success',\n",
       "  'properties': {'item_id': '20250927_192501_92_253a',\n",
       "   'item_types': ['PSScene']},\n",
       "  'created': '2025-10-01T22:29:33.317661Z',\n",
       "  'updated': '2025-10-01T22:30:37.258156Z',\n",
       "  'completed': '2025-10-01T22:30:37.258156Z',\n",
       "  'errors': {},\n",
       "  'outputs': ['33867e00-3f40-4116-88c9-1a7215255324/20250927_192501_92_253a/20250927_192501_92_253a_metadata.json',\n",
       "   '33867e00-3f40-4116-88c9-1a7215255324/20250927_192501_92_253a/20250927_192501_92_253a_3B_Visual.tif']},\n",
       " {'id': '91c1fd16-88ab-4599-9b06-d2fdc5109443',\n",
       "  'status': 'success',\n",
       "  'properties': {'item_id': '20250921_192109_78_24fe',\n",
       "   'item_types': ['PSScene']},\n",
       "  'created': '2025-10-01T22:29:33.31765Z',\n",
       "  'updated': '2025-10-01T22:37:46.556746Z',\n",
       "  'completed': '2025-10-01T22:37:46.556746Z',\n",
       "  'errors': {},\n",
       "  'outputs': ['33867e00-3f40-4116-88c9-1a7215255324/20250921_192109_78_24fe/20250921_192109_78_24fe_metadata.json',\n",
       "   '33867e00-3f40-4116-88c9-1a7215255324/20250921_192109_78_24fe/20250921_192109_78_24fe_3B_Visual.tif']},\n",
       " {'id': 'd336d9dc-a029-4e6e-8570-16f06e65294c',\n",
       "  'status': 'success',\n",
       "  'properties': {'item_id': '20250917_192202_16_24d1',\n",
       "   'item_types': ['PSScene']},\n",
       "  'created': '2025-10-01T22:29:33.316015Z',\n",
       "  'updated': '2025-10-01T22:38:38.523982Z',\n",
       "  'completed': '2025-10-01T22:38:38.523982Z',\n",
       "  'errors': {},\n",
       "  'outputs': ['33867e00-3f40-4116-88c9-1a7215255324/20250917_192202_16_24d1/20250917_192202_16_24d1_metadata.json',\n",
       "   '33867e00-3f40-4116-88c9-1a7215255324/20250917_192202_16_24d1/20250917_192202_16_24d1_3B_Visual.tif']},\n",
       " {'id': '9b6f71de-9954-4fc6-88c6-2c3362308937',\n",
       "  'status': 'success',\n",
       "  'properties': {'item_id': '20250910_192417_54_252e',\n",
       "   'item_types': ['PSScene']},\n",
       "  'created': '2025-10-01T22:29:33.315529Z',\n",
       "  'updated': '2025-10-01T22:38:21.689089Z',\n",
       "  'completed': '2025-10-01T22:38:21.689089Z',\n",
       "  'errors': {},\n",
       "  'outputs': ['33867e00-3f40-4116-88c9-1a7215255324/20250910_192417_54_252e/20250910_192417_54_252e_metadata.json',\n",
       "   '33867e00-3f40-4116-88c9-1a7215255324/20250910_192417_54_252e/20250910_192417_54_252e_3B_Visual.tif']},\n",
       " {'id': '88e24bea-fc9d-44a6-b1ea-efdcc2c212c0',\n",
       "  'status': 'success',\n",
       "  'properties': {'item_id': '20250913_192344_66_24e9',\n",
       "   'item_types': ['PSScene']},\n",
       "  'created': '2025-10-01T22:29:33.315353Z',\n",
       "  'updated': '2025-10-01T22:37:55.430151Z',\n",
       "  'completed': '2025-10-01T22:37:55.430151Z',\n",
       "  'errors': {},\n",
       "  'outputs': ['33867e00-3f40-4116-88c9-1a7215255324/20250913_192344_66_24e9/20250913_192344_66_24e9_metadata.json',\n",
       "   '33867e00-3f40-4116-88c9-1a7215255324/20250913_192344_66_24e9/20250913_192344_66_24e9_3B_Visual.tif']},\n",
       " {'id': '4a672158-87c9-4e48-82f7-01b467b9c779',\n",
       "  'status': 'success',\n",
       "  'properties': {'item_id': '20250919_191658_77_250a',\n",
       "   'item_types': ['PSScene']},\n",
       "  'created': '2025-10-01T22:29:33.31511Z',\n",
       "  'updated': '2025-10-01T22:38:16.223163Z',\n",
       "  'completed': '2025-10-01T22:38:16.223163Z',\n",
       "  'errors': {},\n",
       "  'outputs': ['33867e00-3f40-4116-88c9-1a7215255324/20250919_191658_77_250a/20250919_191658_77_250a_metadata.json',\n",
       "   '33867e00-3f40-4116-88c9-1a7215255324/20250919_191658_77_250a/20250919_191658_77_250a_3B_Visual.tif']},\n",
       " {'id': '69d928ce-fbc5-43b1-8e3c-826d5c443f85',\n",
       "  'status': 'success',\n",
       "  'properties': {'item_id': '20250904_191728_98_24f7',\n",
       "   'item_types': ['PSScene']},\n",
       "  'created': '2025-10-01T22:29:33.314674Z',\n",
       "  'updated': '2025-10-01T22:37:35.423367Z',\n",
       "  'completed': '2025-10-01T22:37:35.423367Z',\n",
       "  'errors': {},\n",
       "  'outputs': ['33867e00-3f40-4116-88c9-1a7215255324/20250904_191728_98_24f7/20250904_191728_98_24f7_metadata.json',\n",
       "   '33867e00-3f40-4116-88c9-1a7215255324/20250904_191728_98_24f7/20250904_191728_98_24f7_3B_Visual.tif']},\n",
       " {'id': '3db4b1b8-c72e-47e0-8da9-dc4be88ae9a9',\n",
       "  'status': 'success',\n",
       "  'properties': {'item_id': '20250916_192557_00_252b',\n",
       "   'item_types': ['PSScene']},\n",
       "  'created': '2025-10-01T22:29:33.314355Z',\n",
       "  'updated': '2025-10-01T22:38:33.266724Z',\n",
       "  'completed': '2025-10-01T22:38:33.266724Z',\n",
       "  'errors': {},\n",
       "  'outputs': ['33867e00-3f40-4116-88c9-1a7215255324/20250916_192557_00_252b/20250916_192557_00_252b_metadata.json',\n",
       "   '33867e00-3f40-4116-88c9-1a7215255324/20250916_192557_00_252b/20250916_192557_00_252b_3B_Visual.tif']},\n",
       " {'id': '05d3b659-3728-436a-8df1-24fea1e17f3f',\n",
       "  'status': 'success',\n",
       "  'properties': {'item_id': '20250911_193000_27_24ed',\n",
       "   'item_types': ['PSScene']},\n",
       "  'created': '2025-10-01T22:29:33.313523Z',\n",
       "  'updated': '2025-10-01T22:37:33.62154Z',\n",
       "  'completed': '2025-10-01T22:37:33.62154Z',\n",
       "  'errors': {},\n",
       "  'outputs': ['33867e00-3f40-4116-88c9-1a7215255324/20250911_193000_27_24ed/20250911_193000_27_24ed_metadata.json',\n",
       "   '33867e00-3f40-4116-88c9-1a7215255324/20250911_193000_27_24ed/20250911_193000_27_24ed_3B_Visual.tif']},\n",
       " {'id': '8abf42e8-e5e5-49c8-ade5-4a2899cc7737',\n",
       "  'status': 'success',\n",
       "  'properties': {'item_id': '20250906_193013_04_24fb',\n",
       "   'item_types': ['PSScene']},\n",
       "  'created': '2025-10-01T22:29:33.313225Z',\n",
       "  'updated': '2025-10-01T22:38:20.964982Z',\n",
       "  'completed': '2025-10-01T22:38:20.964982Z',\n",
       "  'errors': {},\n",
       "  'outputs': ['33867e00-3f40-4116-88c9-1a7215255324/20250906_193013_04_24fb/20250906_193013_04_24fb_metadata.json',\n",
       "   '33867e00-3f40-4116-88c9-1a7215255324/20250906_193013_04_24fb/20250906_193013_04_24fb_3B_Visual.tif']},\n",
       " {'id': '6b540e3d-25b8-442c-8022-1bef4cedecba',\n",
       "  'status': 'success',\n",
       "  'properties': {'item_id': '20250909_193409_14_24b7',\n",
       "   'item_types': ['PSScene']},\n",
       "  'created': '2025-10-01T22:29:33.312449Z',\n",
       "  'updated': '2025-10-01T22:38:16.552693Z',\n",
       "  'completed': '2025-10-01T22:38:16.552693Z',\n",
       "  'errors': {},\n",
       "  'outputs': ['33867e00-3f40-4116-88c9-1a7215255324/20250909_193409_14_24b7/20250909_193409_14_24b7_metadata.json',\n",
       "   '33867e00-3f40-4116-88c9-1a7215255324/20250909_193409_14_24b7/20250909_193409_14_24b7_3B_Visual.tif']},\n",
       " {'id': 'e9ace17f-b4da-433a-9229-616789c0da5b',\n",
       "  'status': 'success',\n",
       "  'properties': {'item_id': '20250912_191936_94_2523',\n",
       "   'item_types': ['PSScene']},\n",
       "  'created': '2025-10-01T22:29:33.312303Z',\n",
       "  'updated': '2025-10-01T22:38:37.222509Z',\n",
       "  'completed': '2025-10-01T22:38:37.222509Z',\n",
       "  'errors': {},\n",
       "  'outputs': ['33867e00-3f40-4116-88c9-1a7215255324/20250912_191936_94_2523/20250912_191936_94_2523_metadata.json',\n",
       "   '33867e00-3f40-4116-88c9-1a7215255324/20250912_191936_94_2523/20250912_191936_94_2523_3B_Visual.tif']},\n",
       " {'id': 'be2a500a-7963-47f2-9b96-8d0757546847',\n",
       "  'status': 'success',\n",
       "  'properties': {'item_id': '20250921_191733_16_251a',\n",
       "   'item_types': ['PSScene']},\n",
       "  'created': '2025-10-01T22:29:33.310437Z',\n",
       "  'updated': '2025-10-01T22:38:04.737372Z',\n",
       "  'completed': '2025-10-01T22:38:04.737372Z',\n",
       "  'errors': {},\n",
       "  'outputs': ['33867e00-3f40-4116-88c9-1a7215255324/20250921_191733_16_251a/20250921_191733_16_251a_metadata.json',\n",
       "   '33867e00-3f40-4116-88c9-1a7215255324/20250921_191733_16_251a/20250921_191733_16_251a_3B_Visual.tif']},\n",
       " {'id': 'f19a12de-a895-495d-b716-960ecfe4b4cd',\n",
       "  'status': 'success',\n",
       "  'properties': {'item_id': '20250923_192321_28_24fa',\n",
       "   'item_types': ['PSScene']},\n",
       "  'created': '2025-10-01T22:29:33.309385Z',\n",
       "  'updated': '2025-10-01T22:37:23.195776Z',\n",
       "  'completed': '2025-10-01T22:37:23.195776Z',\n",
       "  'errors': {},\n",
       "  'outputs': ['33867e00-3f40-4116-88c9-1a7215255324/20250923_192321_28_24fa/20250923_192321_28_24fa_metadata.json',\n",
       "   '33867e00-3f40-4116-88c9-1a7215255324/20250923_192321_28_24fa/20250923_192321_28_24fa_3B_Visual.tif']},\n",
       " {'id': 'a143fcbb-6b3a-458e-9377-e012d0971117',\n",
       "  'status': 'success',\n",
       "  'properties': {'item_id': '20250930_191655_29_251d',\n",
       "   'item_types': ['PSScene']},\n",
       "  'created': '2025-10-01T22:29:33.308757Z',\n",
       "  'updated': '2025-10-01T22:31:06.854077Z',\n",
       "  'completed': '2025-10-01T22:31:06.854077Z',\n",
       "  'errors': {},\n",
       "  'outputs': ['33867e00-3f40-4116-88c9-1a7215255324/20250930_191655_29_251d/20250930_191655_29_251d_metadata.json',\n",
       "   '33867e00-3f40-4116-88c9-1a7215255324/20250930_191655_29_251d/20250930_191655_29_251d_3B_Visual.tif']},\n",
       " {'id': '8f400679-bc8f-4523-bc87-58483434f510',\n",
       "  'status': 'success',\n",
       "  'properties': {'item_id': '20250916_191652_83_2515',\n",
       "   'item_types': ['PSScene']},\n",
       "  'created': '2025-10-01T22:29:33.308102Z',\n",
       "  'updated': '2025-10-01T22:38:24.69609Z',\n",
       "  'completed': '2025-10-01T22:38:24.69609Z',\n",
       "  'errors': {},\n",
       "  'outputs': ['33867e00-3f40-4116-88c9-1a7215255324/20250916_191652_83_2515/20250916_191652_83_2515_metadata.json',\n",
       "   '33867e00-3f40-4116-88c9-1a7215255324/20250916_191652_83_2515/20250916_191652_83_2515_3B_Visual.tif']},\n",
       " {'id': 'a89ab7b3-95a8-429b-a7e0-7ea5a6152809',\n",
       "  'status': 'success',\n",
       "  'properties': {'item_id': '20250903_192649_38_253b',\n",
       "   'item_types': ['PSScene']},\n",
       "  'created': '2025-10-01T22:29:33.307755Z',\n",
       "  'updated': '2025-10-01T22:37:51.019382Z',\n",
       "  'completed': '2025-10-01T22:37:51.019382Z',\n",
       "  'errors': {},\n",
       "  'outputs': ['33867e00-3f40-4116-88c9-1a7215255324/20250903_192649_38_253b/20250903_192649_38_253b_metadata.json',\n",
       "   '33867e00-3f40-4116-88c9-1a7215255324/20250903_192649_38_253b/20250903_192649_38_253b_3B_Visual.tif']},\n",
       " {'id': 'df35415c-199b-499b-b11e-fcb6012a514b',\n",
       "  'status': 'queued',\n",
       "  'properties': {'item_id': '20250923_192443_55_24b8',\n",
       "   'item_types': ['PSScene']},\n",
       "  'created': '2025-10-01T22:29:33.306686Z',\n",
       "  'updated': '2025-10-01T22:30:04.42239Z',\n",
       "  'errors': {},\n",
       "  'outputs': []},\n",
       " {'id': '26c42fdc-e609-4a5c-892c-2a1f7722d5d3',\n",
       "  'status': 'success',\n",
       "  'properties': {'item_id': '20250912_192600_83_2527',\n",
       "   'item_types': ['PSScene']},\n",
       "  'created': '2025-10-01T22:29:33.305431Z',\n",
       "  'updated': '2025-10-01T22:37:56.026738Z',\n",
       "  'completed': '2025-10-01T22:37:56.026738Z',\n",
       "  'errors': {},\n",
       "  'outputs': ['33867e00-3f40-4116-88c9-1a7215255324/20250912_192600_83_2527/20250912_192600_83_2527_metadata.json',\n",
       "   '33867e00-3f40-4116-88c9-1a7215255324/20250912_192600_83_2527/20250912_192600_83_2527_3B_Visual.tif']},\n",
       " {'id': '91213a0e-386c-4792-b3f1-54f9f651cc5c',\n",
       "  'status': 'success',\n",
       "  'properties': {'item_id': '20250927_192606_07_253d',\n",
       "   'item_types': ['PSScene']},\n",
       "  'created': '2025-10-01T22:29:33.305416Z',\n",
       "  'updated': '2025-10-01T22:38:09.253401Z',\n",
       "  'completed': '2025-10-01T22:38:09.253401Z',\n",
       "  'errors': {},\n",
       "  'outputs': ['33867e00-3f40-4116-88c9-1a7215255324/20250927_192606_07_253d/20250927_192606_07_253d_metadata.json',\n",
       "   '33867e00-3f40-4116-88c9-1a7215255324/20250927_192606_07_253d/20250927_192606_07_253d_3B_Visual.tif']},\n",
       " {'id': 'c23070fe-f91d-4b94-976b-7fa8312b12f7',\n",
       "  'status': 'success',\n",
       "  'properties': {'item_id': '20250904_191731_16_24f7',\n",
       "   'item_types': ['PSScene']},\n",
       "  'created': '2025-10-01T22:29:33.304832Z',\n",
       "  'updated': '2025-10-01T22:38:10.508933Z',\n",
       "  'completed': '2025-10-01T22:38:10.508933Z',\n",
       "  'errors': {},\n",
       "  'outputs': ['33867e00-3f40-4116-88c9-1a7215255324/20250904_191731_16_24f7/20250904_191731_16_24f7_metadata.json',\n",
       "   '33867e00-3f40-4116-88c9-1a7215255324/20250904_191731_16_24f7/20250904_191731_16_24f7_3B_Visual.tif']},\n",
       " {'id': 'e6fad154-f905-4b78-964c-9756736d4a8e',\n",
       "  'status': 'success',\n",
       "  'properties': {'item_id': '20250914_192354_80_24de',\n",
       "   'item_types': ['PSScene']},\n",
       "  'created': '2025-10-01T22:29:33.302399Z',\n",
       "  'updated': '2025-10-01T22:37:22.881723Z',\n",
       "  'completed': '2025-10-01T22:37:22.881723Z',\n",
       "  'errors': {},\n",
       "  'outputs': ['33867e00-3f40-4116-88c9-1a7215255324/20250914_192354_80_24de/20250914_192354_80_24de_metadata.json',\n",
       "   '33867e00-3f40-4116-88c9-1a7215255324/20250914_192354_80_24de/20250914_192354_80_24de_3B_Visual.tif']},\n",
       " {'id': 'a3fec4fc-66ac-4d70-aec6-0837f3bb9ae6',\n",
       "  'status': 'success',\n",
       "  'properties': {'item_id': '20250921_192112_09_24fe',\n",
       "   'item_types': ['PSScene']},\n",
       "  'created': '2025-10-01T22:29:33.301675Z',\n",
       "  'updated': '2025-10-01T22:39:38.067813Z',\n",
       "  'completed': '2025-10-01T22:39:38.067813Z',\n",
       "  'errors': {},\n",
       "  'outputs': ['33867e00-3f40-4116-88c9-1a7215255324/20250921_192112_09_24fe/20250921_192112_09_24fe_metadata.json',\n",
       "   '33867e00-3f40-4116-88c9-1a7215255324/20250921_192112_09_24fe/20250921_192112_09_24fe_3B_Visual.tif']},\n",
       " {'id': 'a175ce83-86ac-46a5-b370-51dcf66c1347',\n",
       "  'status': 'success',\n",
       "  'properties': {'item_id': '20250912_191934_76_2523',\n",
       "   'item_types': ['PSScene']},\n",
       "  'created': '2025-10-01T22:29:33.300768Z',\n",
       "  'updated': '2025-10-01T22:38:37.173723Z',\n",
       "  'completed': '2025-10-01T22:38:37.173723Z',\n",
       "  'errors': {},\n",
       "  'outputs': ['33867e00-3f40-4116-88c9-1a7215255324/20250912_191934_76_2523/20250912_191934_76_2523_metadata.json',\n",
       "   '33867e00-3f40-4116-88c9-1a7215255324/20250912_191934_76_2523/20250912_191934_76_2523_3B_Visual.tif']},\n",
       " {'id': 'ccd7a318-799b-4f41-9a7c-7cbeaafdbe57',\n",
       "  'status': 'success',\n",
       "  'properties': {'item_id': '20250907_192238_65_254a',\n",
       "   'item_types': ['PSScene']},\n",
       "  'created': '2025-10-01T22:29:33.300438Z',\n",
       "  'updated': '2025-10-01T22:38:46.841872Z',\n",
       "  'completed': '2025-10-01T22:38:46.841872Z',\n",
       "  'errors': {},\n",
       "  'outputs': ['33867e00-3f40-4116-88c9-1a7215255324/20250907_192238_65_254a/20250907_192238_65_254a_metadata.json',\n",
       "   '33867e00-3f40-4116-88c9-1a7215255324/20250907_192238_65_254a/20250907_192238_65_254a_3B_Visual.tif']},\n",
       " {'id': 'e6e4b214-80ba-4f57-bb98-f3e08172d3d9',\n",
       "  'status': 'success',\n",
       "  'properties': {'item_id': '20250907_191734_89_251c',\n",
       "   'item_types': ['PSScene']},\n",
       "  'created': '2025-10-01T22:29:33.300438Z',\n",
       "  'updated': '2025-10-01T22:38:26.677255Z',\n",
       "  'completed': '2025-10-01T22:38:26.677255Z',\n",
       "  'errors': {},\n",
       "  'outputs': ['33867e00-3f40-4116-88c9-1a7215255324/20250907_191734_89_251c/20250907_191734_89_251c_metadata.json',\n",
       "   '33867e00-3f40-4116-88c9-1a7215255324/20250907_191734_89_251c/20250907_191734_89_251c_3B_Visual.tif']},\n",
       " {'id': '836cd715-a7bd-4d42-ad41-fd83fb8b2189',\n",
       "  'status': 'success',\n",
       "  'properties': {'item_id': '20250923_192323_44_24fa',\n",
       "   'item_types': ['PSScene']},\n",
       "  'created': '2025-10-01T22:29:33.299687Z',\n",
       "  'updated': '2025-10-01T22:37:59.837258Z',\n",
       "  'completed': '2025-10-01T22:37:59.837258Z',\n",
       "  'errors': {},\n",
       "  'outputs': ['33867e00-3f40-4116-88c9-1a7215255324/20250923_192323_44_24fa/20250923_192323_44_24fa_metadata.json',\n",
       "   '33867e00-3f40-4116-88c9-1a7215255324/20250923_192323_44_24fa/20250923_192323_44_24fa_3B_Visual.tif']},\n",
       " {'id': '4ed5a7f2-2cda-4783-8b06-367e1819d16d',\n",
       "  'status': 'processing',\n",
       "  'properties': {'item_id': '20250908_192223_22_253b',\n",
       "   'item_types': ['PSScene']},\n",
       "  'created': '2025-10-01T22:29:33.299459Z',\n",
       "  'updated': '2025-10-01T22:38:37.602341Z',\n",
       "  'errors': {},\n",
       "  'outputs': []},\n",
       " {'id': 'a319342c-6575-4809-9126-ab072d662acf',\n",
       "  'status': 'success',\n",
       "  'properties': {'item_id': '20250926_192326_27_2531',\n",
       "   'item_types': ['PSScene']},\n",
       "  'created': '2025-10-01T22:29:33.298968Z',\n",
       "  'updated': '2025-10-01T22:30:42.373396Z',\n",
       "  'completed': '2025-10-01T22:30:42.373396Z',\n",
       "  'errors': {},\n",
       "  'outputs': ['33867e00-3f40-4116-88c9-1a7215255324/20250926_192326_27_2531/20250926_192326_27_2531_metadata.json',\n",
       "   '33867e00-3f40-4116-88c9-1a7215255324/20250926_192326_27_2531/20250926_192326_27_2531_3B_Visual.tif']},\n",
       " {'id': 'fc928b15-b886-4447-81f3-1c79d1b7d797',\n",
       "  'status': 'queued',\n",
       "  'properties': {'item_id': '20250912_192603_14_2527',\n",
       "   'item_types': ['PSScene']},\n",
       "  'created': '2025-10-01T22:29:33.294812Z',\n",
       "  'updated': '2025-10-01T22:30:05.241044Z',\n",
       "  'errors': {},\n",
       "  'outputs': []},\n",
       " {'id': '4a120443-69b6-41e9-ae8c-3a631b952b81',\n",
       "  'status': 'success',\n",
       "  'properties': {'item_id': '20250905_192212_08_2533',\n",
       "   'item_types': ['PSScene']},\n",
       "  'created': '2025-10-01T22:29:33.291418Z',\n",
       "  'updated': '2025-10-01T22:38:51.603522Z',\n",
       "  'completed': '2025-10-01T22:38:51.603522Z',\n",
       "  'errors': {},\n",
       "  'outputs': ['33867e00-3f40-4116-88c9-1a7215255324/20250905_192212_08_2533/20250905_192212_08_2533_metadata.json',\n",
       "   '33867e00-3f40-4116-88c9-1a7215255324/20250905_192212_08_2533/20250905_192212_08_2533_3B_Visual.tif']},\n",
       " {'id': '66582b51-7151-4e87-acc9-60a9f1347c5f',\n",
       "  'status': 'success',\n",
       "  'properties': {'item_id': '20250921_191735_35_251a',\n",
       "   'item_types': ['PSScene']},\n",
       "  'created': '2025-10-01T22:29:33.291235Z',\n",
       "  'updated': '2025-10-01T22:39:09.193937Z',\n",
       "  'completed': '2025-10-01T22:39:09.193937Z',\n",
       "  'errors': {},\n",
       "  'outputs': ['33867e00-3f40-4116-88c9-1a7215255324/20250921_191735_35_251a/20250921_191735_35_251a_metadata.json',\n",
       "   '33867e00-3f40-4116-88c9-1a7215255324/20250921_191735_35_251a/20250921_191735_35_251a_3B_Visual.tif']},\n",
       " {'id': 'a3ab4ec7-374d-409c-8cd2-6c66b854648b',\n",
       "  'status': 'success',\n",
       "  'properties': {'item_id': '20250906_193017_20_24fb',\n",
       "   'item_types': ['PSScene']},\n",
       "  'created': '2025-10-01T22:29:33.288889Z',\n",
       "  'updated': '2025-10-01T22:38:20.941713Z',\n",
       "  'completed': '2025-10-01T22:38:20.941713Z',\n",
       "  'errors': {},\n",
       "  'outputs': ['33867e00-3f40-4116-88c9-1a7215255324/20250906_193017_20_24fb/20250906_193017_20_24fb_metadata.json',\n",
       "   '33867e00-3f40-4116-88c9-1a7215255324/20250906_193017_20_24fb/20250906_193017_20_24fb_3B_Visual.tif']},\n",
       " {'id': '1d029718-f756-48de-9f3b-0c029deb11bc',\n",
       "  'status': 'success',\n",
       "  'properties': {'item_id': '20250926_192323_96_2531',\n",
       "   'item_types': ['PSScene']},\n",
       "  'created': '2025-10-01T22:29:33.278934Z',\n",
       "  'updated': '2025-10-01T22:30:37.75896Z',\n",
       "  'completed': '2025-10-01T22:30:37.75896Z',\n",
       "  'errors': {},\n",
       "  'outputs': ['33867e00-3f40-4116-88c9-1a7215255324/20250926_192323_96_2531/20250926_192323_96_2531_metadata.json',\n",
       "   '33867e00-3f40-4116-88c9-1a7215255324/20250926_192323_96_2531/20250926_192323_96_2531_3B_Visual.tif']},\n",
       " {'id': 'ff03ec2b-b51a-4a6e-b15a-ad2f33027ca7',\n",
       "  'status': 'success',\n",
       "  'properties': {'item_id': '20250925_193338_31_24f9',\n",
       "   'item_types': ['PSScene']},\n",
       "  'created': '2025-10-01T22:29:33.275704Z',\n",
       "  'updated': '2025-10-01T22:39:52.103096Z',\n",
       "  'completed': '2025-10-01T22:39:52.103096Z',\n",
       "  'errors': {},\n",
       "  'outputs': ['33867e00-3f40-4116-88c9-1a7215255324/20250925_193338_31_24f9/20250925_193338_31_24f9_metadata.json',\n",
       "   '33867e00-3f40-4116-88c9-1a7215255324/20250925_193338_31_24f9/20250925_193338_31_24f9_3B_Visual.tif']},\n",
       " {'id': '8e6732a2-12a6-41b9-ac6c-e0d1c0c0ce6b',\n",
       "  'status': 'success',\n",
       "  'properties': {'item_id': '20250917_192937_35_24df',\n",
       "   'item_types': ['PSScene']},\n",
       "  'created': '2025-10-01T22:29:33.274272Z',\n",
       "  'updated': '2025-10-01T22:39:36.763394Z',\n",
       "  'completed': '2025-10-01T22:39:36.763394Z',\n",
       "  'errors': {},\n",
       "  'outputs': ['33867e00-3f40-4116-88c9-1a7215255324/20250917_192937_35_24df/20250917_192937_35_24df_metadata.json',\n",
       "   '33867e00-3f40-4116-88c9-1a7215255324/20250917_192937_35_24df/20250917_192937_35_24df_3B_Visual.tif']},\n",
       " {'id': 'be2b967e-586c-443c-8921-aef9b1259a30',\n",
       "  'status': 'success',\n",
       "  'properties': {'item_id': '20250904_193512_91_24b7',\n",
       "   'item_types': ['PSScene']},\n",
       "  'created': '2025-10-01T22:29:33.272996Z',\n",
       "  'updated': '2025-10-01T22:38:18.557147Z',\n",
       "  'completed': '2025-10-01T22:38:18.557147Z',\n",
       "  'errors': {},\n",
       "  'outputs': ['33867e00-3f40-4116-88c9-1a7215255324/20250904_193512_91_24b7/20250904_193512_91_24b7_metadata.json',\n",
       "   '33867e00-3f40-4116-88c9-1a7215255324/20250904_193512_91_24b7/20250904_193512_91_24b7_3B_Visual.tif']},\n",
       " {'id': '34113cf4-3e83-4ff5-978c-5d44ec887adb',\n",
       "  'status': 'success',\n",
       "  'properties': {'item_id': '20250907_192236_33_254a',\n",
       "   'item_types': ['PSScene']},\n",
       "  'created': '2025-10-01T22:29:33.268398Z',\n",
       "  'updated': '2025-10-01T22:37:20.717458Z',\n",
       "  'completed': '2025-10-01T22:37:20.717458Z',\n",
       "  'errors': {},\n",
       "  'outputs': ['33867e00-3f40-4116-88c9-1a7215255324/20250907_192236_33_254a/20250907_192236_33_254a_metadata.json',\n",
       "   '33867e00-3f40-4116-88c9-1a7215255324/20250907_192236_33_254a/20250907_192236_33_254a_3B_Visual.tif']},\n",
       " {'id': 'c366abb2-db5d-4b58-9947-8ecaf66e8d21',\n",
       "  'status': 'success',\n",
       "  'properties': {'item_id': '20250911_193002_13_24ed',\n",
       "   'item_types': ['PSScene']},\n",
       "  'created': '2025-10-01T22:29:33.268001Z',\n",
       "  'updated': '2025-10-01T22:37:07.060287Z',\n",
       "  'completed': '2025-10-01T22:37:07.060287Z',\n",
       "  'errors': {},\n",
       "  'outputs': ['33867e00-3f40-4116-88c9-1a7215255324/20250911_193002_13_24ed/20250911_193002_13_24ed_metadata.json',\n",
       "   '33867e00-3f40-4116-88c9-1a7215255324/20250911_193002_13_24ed/20250911_193002_13_24ed_3B_Visual.tif']},\n",
       " {'id': '36509ae3-6319-44fb-b349-02f9da946934',\n",
       "  'status': 'queued',\n",
       "  'properties': {'item_id': '20250907_191737_09_251c',\n",
       "   'item_types': ['PSScene']},\n",
       "  'created': '2025-10-01T22:29:33.267438Z',\n",
       "  'updated': '2025-10-01T22:30:04.416991Z',\n",
       "  'errors': {},\n",
       "  'outputs': []},\n",
       " {'id': '0dacd320-9337-42f1-9e75-8467717e08cf',\n",
       "  'status': 'success',\n",
       "  'properties': {'item_id': '20250922_192740_42_2540',\n",
       "   'item_types': ['PSScene']},\n",
       "  'created': '2025-10-01T22:29:33.26476Z',\n",
       "  'updated': '2025-10-01T22:38:21.188132Z',\n",
       "  'completed': '2025-10-01T22:38:21.188132Z',\n",
       "  'errors': {},\n",
       "  'outputs': ['33867e00-3f40-4116-88c9-1a7215255324/20250922_192740_42_2540/20250922_192740_42_2540_metadata.json',\n",
       "   '33867e00-3f40-4116-88c9-1a7215255324/20250922_192740_42_2540/20250922_192740_42_2540_3B_Visual.tif']},\n",
       " {'id': '87bc1a83-5f7e-420c-bcbd-61a89f12c3f3',\n",
       "  'status': 'success',\n",
       "  'properties': {'item_id': '20250917_192935_26_24df',\n",
       "   'item_types': ['PSScene']},\n",
       "  'created': '2025-10-01T22:29:33.263904Z',\n",
       "  'updated': '2025-10-01T22:38:28.222335Z',\n",
       "  'completed': '2025-10-01T22:38:28.222335Z',\n",
       "  'errors': {},\n",
       "  'outputs': ['33867e00-3f40-4116-88c9-1a7215255324/20250917_192935_26_24df/20250917_192935_26_24df_metadata.json',\n",
       "   '33867e00-3f40-4116-88c9-1a7215255324/20250917_192935_26_24df/20250917_192935_26_24df_3B_Visual.tif']},\n",
       " {'id': '1551ba29-5509-4255-84b5-eb39b1a557bd',\n",
       "  'status': 'success',\n",
       "  'properties': {'item_id': '20250906_193015_12_24fb',\n",
       "   'item_types': ['PSScene']},\n",
       "  'created': '2025-10-01T22:29:33.262429Z',\n",
       "  'updated': '2025-10-01T22:38:45.985633Z',\n",
       "  'completed': '2025-10-01T22:38:45.985633Z',\n",
       "  'errors': {},\n",
       "  'outputs': ['33867e00-3f40-4116-88c9-1a7215255324/20250906_193015_12_24fb/20250906_193015_12_24fb_metadata.json',\n",
       "   '33867e00-3f40-4116-88c9-1a7215255324/20250906_193015_12_24fb/20250906_193015_12_24fb_3B_Visual.tif']},\n",
       " {'id': '9c73c30c-1828-4ced-9d69-4ac13088e030',\n",
       "  'status': 'success',\n",
       "  'properties': {'item_id': '20250904_192334_03_253d',\n",
       "   'item_types': ['PSScene']},\n",
       "  'created': '2025-10-01T22:29:33.261734Z',\n",
       "  'updated': '2025-10-01T22:37:48.613162Z',\n",
       "  'completed': '2025-10-01T22:37:48.613162Z',\n",
       "  'errors': {},\n",
       "  'outputs': ['33867e00-3f40-4116-88c9-1a7215255324/20250904_192334_03_253d/20250904_192334_03_253d_metadata.json',\n",
       "   '33867e00-3f40-4116-88c9-1a7215255324/20250904_192334_03_253d/20250904_192334_03_253d_3B_Visual.tif']},\n",
       " {'id': 'b64126e7-949d-4935-9734-c8c42f952bfb',\n",
       "  'status': 'success',\n",
       "  'properties': {'item_id': '20250902_192247_46_252b',\n",
       "   'item_types': ['PSScene']},\n",
       "  'created': '2025-10-01T22:29:33.260029Z',\n",
       "  'updated': '2025-10-01T22:38:52.305333Z',\n",
       "  'completed': '2025-10-01T22:38:52.305333Z',\n",
       "  'errors': {},\n",
       "  'outputs': ['33867e00-3f40-4116-88c9-1a7215255324/20250902_192247_46_252b/20250902_192247_46_252b_metadata.json',\n",
       "   '33867e00-3f40-4116-88c9-1a7215255324/20250902_192247_46_252b/20250902_192247_46_252b_3B_Visual.tif']},\n",
       " {'id': 'f490543e-a676-43d0-98e7-f81fe666fc79',\n",
       "  'status': 'success',\n",
       "  'properties': {'item_id': '20250912_192533_37_2508',\n",
       "   'item_types': ['PSScene']},\n",
       "  'created': '2025-10-01T22:29:33.257794Z',\n",
       "  'updated': '2025-10-01T22:38:11.865388Z',\n",
       "  'completed': '2025-10-01T22:38:11.865388Z',\n",
       "  'errors': {},\n",
       "  'outputs': ['33867e00-3f40-4116-88c9-1a7215255324/20250912_192533_37_2508/20250912_192533_37_2508_metadata.json',\n",
       "   '33867e00-3f40-4116-88c9-1a7215255324/20250912_192533_37_2508/20250912_192533_37_2508_3B_Visual.tif']},\n",
       " {'id': 'a0049338-6241-4b76-8b46-d4d1b9c0495d',\n",
       "  'status': 'success',\n",
       "  'properties': {'item_id': '20250914_191726_66_24f7',\n",
       "   'item_types': ['PSScene']},\n",
       "  'created': '2025-10-01T22:29:33.257643Z',\n",
       "  'updated': '2025-10-01T22:38:44.852655Z',\n",
       "  'completed': '2025-10-01T22:38:44.852655Z',\n",
       "  'errors': {},\n",
       "  'outputs': ['33867e00-3f40-4116-88c9-1a7215255324/20250914_191726_66_24f7/20250914_191726_66_24f7_metadata.json',\n",
       "   '33867e00-3f40-4116-88c9-1a7215255324/20250914_191726_66_24f7/20250914_191726_66_24f7_3B_Visual.tif']},\n",
       " {'id': '541e66cc-4ce7-4ba1-9aab-43e7e0e4cbac',\n",
       "  'status': 'success',\n",
       "  'properties': {'item_id': '20250913_192346_97_24e9',\n",
       "   'item_types': ['PSScene']},\n",
       "  'created': '2025-10-01T22:29:33.257233Z',\n",
       "  'updated': '2025-10-01T22:36:48.45841Z',\n",
       "  'completed': '2025-10-01T22:36:48.45841Z',\n",
       "  'errors': {},\n",
       "  'outputs': ['33867e00-3f40-4116-88c9-1a7215255324/20250913_192346_97_24e9/20250913_192346_97_24e9_metadata.json',\n",
       "   '33867e00-3f40-4116-88c9-1a7215255324/20250913_192346_97_24e9/20250913_192346_97_24e9_3B_Visual.tif']},\n",
       " {'id': 'b674c741-ffa4-4cba-9352-063ef22bc321',\n",
       "  'status': 'success',\n",
       "  'properties': {'item_id': '20250903_192647_04_253b',\n",
       "   'item_types': ['PSScene']},\n",
       "  'created': '2025-10-01T22:29:33.253404Z',\n",
       "  'updated': '2025-10-01T22:38:54.561858Z',\n",
       "  'completed': '2025-10-01T22:38:54.561858Z',\n",
       "  'errors': {},\n",
       "  'outputs': ['33867e00-3f40-4116-88c9-1a7215255324/20250903_192647_04_253b/20250903_192647_04_253b_metadata.json',\n",
       "   '33867e00-3f40-4116-88c9-1a7215255324/20250903_192647_04_253b/20250903_192647_04_253b_3B_Visual.tif']},\n",
       " {'id': 'ebe0123f-210c-4493-9c82-d9465766f5bc',\n",
       "  'status': 'processing',\n",
       "  'properties': {'item_id': '20250910_192023_48_24dc',\n",
       "   'item_types': ['PSScene']},\n",
       "  'created': '2025-10-01T22:29:33.252214Z',\n",
       "  'updated': '2025-10-01T22:38:37.847671Z',\n",
       "  'errors': {},\n",
       "  'outputs': []},\n",
       " {'id': '29f03c6e-1f11-493e-8180-314a28607197',\n",
       "  'status': 'success',\n",
       "  'properties': {'item_id': '20250905_192214_42_2533',\n",
       "   'item_types': ['PSScene']},\n",
       "  'created': '2025-10-01T22:29:33.251561Z',\n",
       "  'updated': '2025-10-01T22:37:56.409765Z',\n",
       "  'completed': '2025-10-01T22:37:56.409765Z',\n",
       "  'errors': {},\n",
       "  'outputs': ['33867e00-3f40-4116-88c9-1a7215255324/20250905_192214_42_2533/20250905_192214_42_2533_metadata.json',\n",
       "   '33867e00-3f40-4116-88c9-1a7215255324/20250905_192214_42_2533/20250905_192214_42_2533_3B_Visual.tif']},\n",
       " {'id': 'fce139f6-48a2-4e11-b6ea-842112c64787',\n",
       "  'status': 'success',\n",
       "  'properties': {'item_id': '20250926_192538_01_2527',\n",
       "   'item_types': ['PSScene']},\n",
       "  'created': '2025-10-01T22:29:33.251274Z',\n",
       "  'updated': '2025-10-01T22:31:43.384464Z',\n",
       "  'completed': '2025-10-01T22:31:43.384464Z',\n",
       "  'errors': {},\n",
       "  'outputs': ['33867e00-3f40-4116-88c9-1a7215255324/20250926_192538_01_2527/20250926_192538_01_2527_metadata.json',\n",
       "   '33867e00-3f40-4116-88c9-1a7215255324/20250926_192538_01_2527/20250926_192538_01_2527_3B_Visual.tif']},\n",
       " {'id': '119be00b-6ad4-414e-a6cb-ab51d4fb9c7a',\n",
       "  'status': 'processing',\n",
       "  'properties': {'item_id': '20250925_193336_26_24f9',\n",
       "   'item_types': ['PSScene']},\n",
       "  'created': '2025-10-01T22:29:33.251175Z',\n",
       "  'updated': '2025-10-01T22:38:39.582786Z',\n",
       "  'errors': {},\n",
       "  'outputs': []},\n",
       " {'id': '52a5b369-8ee1-4b84-ad8b-ed8599388e50',\n",
       "  'status': 'processing',\n",
       "  'properties': {'item_id': '20250914_192352_64_24de',\n",
       "   'item_types': ['PSScene']},\n",
       "  'created': '2025-10-01T22:29:33.249453Z',\n",
       "  'updated': '2025-10-01T22:38:45.032323Z',\n",
       "  'errors': {},\n",
       "  'outputs': []}]"
      ]
     },
     "execution_count": 31,
     "metadata": {},
     "output_type": "execute_result"
    }
   ],
   "source": [
    "results_list"
   ]
  },
  {
   "cell_type": "markdown",
   "id": "94f916f0-0e58-4580-ad5a-1f0ccd5379e8",
   "metadata": {},
   "source": [
    "_____"
   ]
  },
  {
   "cell_type": "markdown",
   "id": "52b980b3",
   "metadata": {},
   "source": [
    "## Cancel A Subscription"
   ]
  },
  {
   "cell_type": "markdown",
   "id": "b7894f6b",
   "metadata": {},
   "source": [
    "We can cancel a subscription by using the `cancel_subscription` method and providing the subscription_id corresponding to the subscription we want to cancel."
   ]
  },
  {
   "cell_type": "code",
   "execution_count": 32,
   "id": "7925c4d3-8db9-4b06-adf3-e083e2b05cfb",
   "metadata": {},
   "outputs": [],
   "source": [
    "# There is no return for this\n",
    "pl.subscriptions.cancel_subscription(sub_id)"
   ]
  },
  {
   "cell_type": "markdown",
   "id": "0fec6ea5",
   "metadata": {},
   "source": [
    "We can confirm this subscription is canceled by getting a description of this subscription using this ID. We should its status reported as 'canceled'."
   ]
  },
  {
   "cell_type": "code",
   "execution_count": 33,
   "id": "528d4c23-d5f9-4046-9a85-d4bd2cbf212f",
   "metadata": {},
   "outputs": [],
   "source": [
    "cancelled_sub = pl.subscriptions.get_subscription(sub_id)"
   ]
  },
  {
   "cell_type": "code",
   "execution_count": 34,
   "id": "9388bb6a-a07f-4b48-8a4e-67aebbfd5e97",
   "metadata": {},
   "outputs": [
    {
     "data": {
      "text/plain": [
       "'cancelled'"
      ]
     },
     "execution_count": 34,
     "metadata": {},
     "output_type": "execute_result"
    }
   ],
   "source": [
    "cancelled_sub['status']"
   ]
  },
  {
   "cell_type": "markdown",
   "id": "cad6f5c7",
   "metadata": {},
   "source": [
    "## Congratulations!"
   ]
  },
  {
   "cell_type": "markdown",
   "id": "78e51bd8",
   "metadata": {},
   "source": [
    "You now have all the tools you need to create and edit your own subscriptions using the Subscriptions API in the Python SDK. For more information on the Subscriptions API, please check out our [Subscriptions API  Documentation](https://developers.planet.com/docs/subscriptions/)"
   ]
  },
  {
   "cell_type": "markdown",
   "id": "70e2e9d4",
   "metadata": {},
   "source": []
  }
 ],
 "metadata": {
  "kernelspec": {
   "display_name": "Python 3 (ipykernel)",
   "language": "python",
   "name": "python3"
  },
  "language_info": {
   "codemirror_mode": {
    "name": "ipython",
    "version": 3
   },
   "file_extension": ".py",
   "mimetype": "text/x-python",
   "name": "python",
   "nbconvert_exporter": "python",
   "pygments_lexer": "ipython3",
   "version": "3.13.7"
  }
 },
 "nbformat": 4,
 "nbformat_minor": 5
}
