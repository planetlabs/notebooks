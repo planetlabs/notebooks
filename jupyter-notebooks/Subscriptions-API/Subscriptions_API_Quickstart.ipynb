{
 "cells": [
  {
   "cell_type": "markdown",
   "id": "4ff14791",
   "metadata": {},
   "source": [
    "# Subscriptions API: Planet SDK Quickstart\n",
    "\n",
    "\n",
    "Getting started with Planet SDK and the Subscriptions API.\n",
    "\n",
    "The Subscriptions API is Planet's next-gen data delivery API; subscribe to continuous delivery of imagery and metadata collections which meet your item filter criteria with a single API call. Subscriptions must be delivered or hosted on cloud storage and cannot be delivered to your local machine like deliveries from Data or Orders API's.\n",
    "\n",
    "\n",
    "This tutorial will take a look at the functionality of the Subscription API with the Python SDK and how you might be able to incorporate it into your own workflows."
   ]
  },
  {
   "cell_type": "markdown",
   "id": "3c64700a-c3b9-474b-839d-885009e9a623",
   "metadata": {},
   "source": [
    "## Requirements\n",
    "\n",
    "This tutorial assumes familiarity with the [Python](https://python.org) programming language throughout. Python modules used in this tutorial are:\n",
    "* [IPython](https://ipython.org/) and [Jupyter](https://jupyter.org/)\n",
    "* [planet-python-client](https://github.com/planetlabs/planet-client-python)\n",
    "\n",
    "You should also have an account on the Planet Platform. You will login to create an access token that authenticates your API key from the [account page](https://www.planet.com/account/).\n",
    "\n",
    "## Useful links \n",
    "* [Planet SDK and Developer Resources](https://docs.planet.com/develop/sdks/#planet-sdk-for-python-and-cli/)\n",
    "* [Planet Python Client Repo](https://github.com/planetlabs/planet-client-python)\n",
    "* [Planet Subscriptions API Documentation](https://docs.planet.com/develop/apis/subscriptions/)"
   ]
  },
  {
   "cell_type": "markdown",
   "id": "add66e0a",
   "metadata": {},
   "source": [
    "### Subscriptions Delivery \n",
    "\n",
    "For Subscriptions, local delivery is not supported and subscriptions must be delivered to a cloud bucket or hosting service. For details on delivery schema for the supported cloud delivery platforms, see the [Subscriptions API Delivery Documentation](https://developers.planet.com/docs/subscriptions/delivery/).\n",
    "<br>\n",
    "<br>\n",
    "\n",
    "Valid Cloud platforms include:\n",
    " - Google Cloud Storage (used in this tutorial)\n",
    " - Google Earth Engine \n",
    " - Amazon S3 (and other services that use the S3 API)\n",
    " - Oracle Cloud Storage\n",
    " - Microsoft Azure\n",
    "<br>\n",
    "Note that subscriptions can also use the data hosting feature on Sentinel Hub/Planet Insights Platform, and 'hosting' is used instead of 'delivery' in API calls.\n",
    "<br>\n",
    "\n",
    "Regardless of the platform you're using, ensure that you have **both write and delete access** to your storage location."
   ]
  },
  {
   "cell_type": "markdown",
   "id": "07bae0b2-1980-48c4-920b-086d426eaa49",
   "metadata": {},
   "source": [
    "_____"
   ]
  },
  {
   "cell_type": "markdown",
   "id": "71282e88-9085-406d-b337-17f1b04c093f",
   "metadata": {},
   "source": [
    "## Set up\n",
    "\n",
    "In order to interact with the Planet API using the Python client, we need to authenticate our Planet account credentials and import the necessary packages."
   ]
  },
  {
   "cell_type": "code",
   "execution_count": null,
   "id": "6f19d411",
   "metadata": {},
   "outputs": [],
   "source": [
    "import os\n",
    "from datetime import datetime\n",
    "from planet import Auth, Session, Planet, subscription_request"
   ]
  },
  {
   "cell_type": "markdown",
   "id": "97ef388f-ddf7-449f-9033-2fbffe0aa5c6",
   "metadata": {},
   "source": [
    "### SDK Authentication\n",
    "\n",
    "We need to create an OAuth2 access token using our Planet login for python client access. \n",
    "If you are not currently logged in to your Planet account, you will be prompted via a login link to do so. \n",
    "For more information, please visit https://docs.planet.com/develop/authentication"
   ]
  },
  {
   "cell_type": "code",
   "execution_count": null,
   "id": "0153bddd-0006-4382-8421-596a2a1502cd",
   "metadata": {},
   "outputs": [],
   "source": [
    "# OAuth2 python client authentication\n",
    "# If you are not already logged in, this will prompt you to open a web browser to log in.\n",
    "\n",
    "auth = Auth.from_profile('planet-user', save_state_to_storage=True)\n",
    "if not auth.is_initialized():\n",
    "    auth.user_login(allow_open_browser=False, allow_tty_prompt=True)\n",
    "\n",
    "session = Session(auth)\n",
    "pl = Planet(session)"
   ]
  },
  {
   "cell_type": "markdown",
   "id": "c61ffab1-29bf-4426-9ba2-2b2f0538c33b",
   "metadata": {},
   "source": [
    "_____"
   ]
  },
  {
   "cell_type": "markdown",
   "id": "e9cd5453",
   "metadata": {},
   "source": [
    "## Listing a Subscription"
   ]
  },
  {
   "cell_type": "markdown",
   "id": "37cdef91",
   "metadata": {},
   "source": [
    "First, let's try listing any existing subscriptions we already have in our Planet accounts. \n",
    "<br>\n",
    "If you've never made a subscription before, this will show up as an empty list. <br> <br> We'll try this again below after we've created our first subscription."
   ]
  },
  {
   "cell_type": "code",
   "execution_count": null,
   "id": "f3986691-4942-464d-8b7e-0e2dabc8f20b",
   "metadata": {},
   "outputs": [],
   "source": [
    "existing_subscriptions = list(pl.subscriptions.list_subscriptions(status=['running', 'pending', 'completed'], limit=5))"
   ]
  },
  {
   "cell_type": "code",
   "execution_count": null,
   "id": "bb05d7f0-d0a7-4b0a-bce0-ba1ac41d5ea8",
   "metadata": {},
   "outputs": [],
   "source": [
    "existing_subscriptions"
   ]
  },
  {
   "cell_type": "markdown",
   "id": "c5fbfb96-11f9-4cc4-bedf-7b80c778c1bc",
   "metadata": {},
   "source": [
    "_______"
   ]
  },
  {
   "cell_type": "markdown",
   "id": "fffa6e0e",
   "metadata": {},
   "source": [
    "## Creating a Subscription"
   ]
  },
  {
   "cell_type": "markdown",
   "id": "1f7010fe-c520-45a0-b89a-0589c5496e5f",
   "metadata": {},
   "source": [
    "**WARNING: Creating a Request below will consume quota! Be sure about the filter params so you can create a useful subscription. The variables below are meant as placeholders**\n",
    "\n",
    "In order to create a subscription using the Python Client, we must provide a subscription description dictionary. This will include a `name`, `source` block, along with a `delivery` or a `hosting` block with a specified cloud storage location or cloud hosting platform, respectively. Subscriptions also support select tools. We will accomplish this all using `build_request()`."
   ]
  },
  {
   "cell_type": "markdown",
   "id": "99d2453c-2e6b-450b-821e-5ed083346cb1",
   "metadata": {},
   "source": [
    "#### Cloud Delivery Parameters:\n",
    "\n",
    " Your delivery or hosting parameters may be specified here. Below is a template for delivery to a Google Cloud Storage bucket. Note that you will need a serivce account with create, delete, and get persmissions and it is recommended to store your GCS credentials as an environment variable. More information is available [here](https://docs.planet.com/develop/apis/subscriptions/delivery/#google-cloud-storage). Other options may be found with `subscription_request.amazon_s3`, `subscription_request.oracle_cloud_storage`, etc...\n"
   ]
  },
  {
   "cell_type": "code",
   "execution_count": null,
   "id": "d91291a9-52b0-43df-bd74-ba7f52e3f6f8",
   "metadata": {},
   "outputs": [],
   "source": [
    "# Google Cloud Storage placeholder\n",
    "gcs_key = os.getenv('GCS_CREDENTIALS')\n",
    "bucket_name = 'your_bucket_name'\n",
    "# optional path_prefix\n",
    "path_prefix = ''\n",
    "bucket_delivery = subscription_request.google_cloud_storage(\n",
    "    credentials=gcs_key, bucket=bucket_name, path_prefix=path_prefix)"
   ]
  },
  {
   "cell_type": "markdown",
   "id": "023188bf-0fe6-4506-8e51-3084902cd63b",
   "metadata": {
    "jp-MarkdownHeadingCollapsed": true
   },
   "source": [
    "#### Alternative to cloud delivery: Sentinel Hub Hosting\n",
    "\n",
    "You may wish to host your subscription data with a Cloud hosting service like a Sentinel Hub Collection or Google Earth Engine. The `hosting` arg should be used *instead* of the `delivery` arg below in `create_subscription()`. \n",
    "<br> <br>\n",
    "For using Sentinel Hub collections, note that your Planet and Sentinel Hub accounts should be linked. Cloud hosting documentation for subscriptions can be found [here](https://docs.planet.com/develop/apis/subscriptions/delivery/#hosting).\n",
    "<br> <br>\n",
    "If you do not have a collection set up already, set `create_config` to True, and pass in `collection_id = None`. The collection will be created for you, with the name you use for the subscription. "
   ]
  },
  {
   "cell_type": "code",
   "execution_count": null,
   "id": "81272d06-6c71-4669-a9d8-c1f8eb234991",
   "metadata": {},
   "outputs": [],
   "source": [
    "# Sentinel Hub collection hosting\n",
    "collection_id = 'collection_id'\n",
    "create_config = False #leave false if you have a collection id already\n",
    "collection_hosting = subscription_request.sentinel_hub(collection_id=collection_id, create_configuration=create_config)"
   ]
  },
  {
   "cell_type": "code",
   "execution_count": null,
   "id": "2377bd2d-c719-4d89-adc2-3f6ed9cc43c8",
   "metadata": {},
   "outputs": [],
   "source": [
    "# GEE collection hosting\n",
    "project = 'project_name'\n",
    "collection = 'collection_name'\n",
    "credentials = 'gee_credentials'\n",
    "collection_hosting = subscription_request.google_earth_engine(project, collection, credentials)"
   ]
  },
  {
   "cell_type": "code",
   "execution_count": null,
   "id": "b3cabb5a-35d9-4aba-b460-db5aa515ae04",
   "metadata": {},
   "outputs": [],
   "source": [
    "collection_hosting"
   ]
  },
  {
   "cell_type": "markdown",
   "id": "f8a04abe-ffed-48ba-b815-fb270e270633",
   "metadata": {},
   "source": [
    "____"
   ]
  },
  {
   "cell_type": "markdown",
   "id": "9aaa0378-da71-4b14-9ca4-73357bcf8fe6",
   "metadata": {},
   "source": [
    "#### Source\n",
    "For this example, our `source` block will be created from `subscription_request.catalog_source()` and will contain item_types, asset_types, geometry, start_time, end_time. \n",
    "\n",
    "\n",
    "Alternatively you may need `subscription_request.subscription_source` for Planetery variables or Analysis Ready PlanetScope. More info for subscription_source can be found [here](https://docs.planet.com/develop/apis/subscriptions/sources/#planetary-variable-and-analysis-ready-source-types)."
   ]
  },
  {
   "cell_type": "markdown",
   "id": "ce4e87b4",
   "metadata": {},
   "source": [
    "The `rrule` attribute leverages [iCalendar recurrence rules](https://icalendar.org/iCalendar-RFC-5545/3-8-5-3-recurrence-rule.html). This can be used to create subscriptions that deliver items for recurring periods within the total coverage time. In this example, we are getting monthly data between M to November, from 2022 to 2025. More information on how to use this attribute can be found [here](https://developers.planet.com/docs/subscriptions/source/#rrules-recurrence-rules).\n",
    "\n",
    "Feel free to use the below request format as a template to input the parameters you need for your own subscription."
   ]
  },
  {
   "cell_type": "code",
   "execution_count": null,
   "id": "c44eb1c4-81ce-48bc-a535-64342410b3a3",
   "metadata": {},
   "outputs": [],
   "source": [
    "# Example catalog parameters\n",
    "item_types = [\"PSScene\"]\n",
    "asset_types = [\"ortho_visual\"]\n",
    "\n",
    "geometry = {\n",
    "        \"coordinates\": [[\n",
    "           [-122.33026701728114, 37.75207301385534],\n",
    "           [-122.20961421268103, 37.75207301385534],\n",
    "           [-122.20961421268103, 37.84571423146804],\n",
    "           [-122.33026701728114, 37.84571423146804],\n",
    "           [-122.33026701728114, 37.75207301385534]]],\n",
    "        \"type\": \"Polygon\"\n",
    "      }\n",
    "\n",
    "start_time = datetime.fromisoformat(\"2025-09-01T00:00:00Z\")\n",
    "end_time = datetime.fromisoformat(\"2025-11-01T00:00:00Z\")\n",
    "rrule = \"FREQ=MONTHLY;BYMONTH=3,4,5,6,7,8,9,10\"\n",
    "\n",
    "source = subscription_request.catalog_source(\n",
    "    item_types=item_types, asset_types=asset_types, geometry=geometry,\n",
    "    start_time=start_time, end_time=end_time, rrule=rrule)\n",
    "\n",
    "source"
   ]
  },
  {
   "cell_type": "code",
   "execution_count": null,
   "id": "17a3aa17-0f76-4f37-9515-98d4a4e6ce39",
   "metadata": {},
   "outputs": [],
   "source": [
    "sub_built = subscription_request.build_request(\n",
    "    name = \"recurring_sub_test_api_quickstart\", source = source,\n",
    "    delivery=bucket_delivery) "
   ]
  },
  {
   "cell_type": "code",
   "execution_count": null,
   "id": "8a478e01-4ee3-4e93-85fe-918c5943a06f",
   "metadata": {},
   "outputs": [],
   "source": [
    "sub_built"
   ]
  },
  {
   "cell_type": "code",
   "execution_count": null,
   "id": "5f068cb8-89db-4dc8-958a-e4f641f4acd5",
   "metadata": {},
   "outputs": [],
   "source": [
    "sub_created = pl.subscriptions.create_subscription(sub_built)"
   ]
  },
  {
   "cell_type": "code",
   "execution_count": null,
   "id": "1d51e43f",
   "metadata": {},
   "outputs": [],
   "source": [
    "sub_created"
   ]
  },
  {
   "cell_type": "markdown",
   "id": "50446022",
   "metadata": {},
   "source": [
    "## Listing a Subscription"
   ]
  },
  {
   "cell_type": "markdown",
   "id": "edbbe508",
   "metadata": {},
   "source": [
    "Now that created a subscription, let's try listing our 5 most recent subscriptions associated with our Planet account. We should see the subscription we just created above as part of this.\n",
    "\n",
    "You can filter the subscriptions listed by status- `preparing`, `running`, `pending`, `completed`, or `canceled`.\n",
    "\n",
    "For this example, we will only list the subscriptions we have that have not been canceled. We will save the ID of the most recent subscription."
   ]
  },
  {
   "cell_type": "code",
   "execution_count": null,
   "id": "c83fa336-3f3e-47c8-b952-12b6fdc53f54",
   "metadata": {},
   "outputs": [],
   "source": [
    "sub_list = list(pl.subscriptions.list_subscriptions(status=['preparing', 'running', 'pending', 'completed'], limit=5))\n",
    "sub_to_check = sub_list[0]"
   ]
  },
  {
   "cell_type": "code",
   "execution_count": null,
   "id": "9283cc6c-bb32-41a5-ad21-6f5e2573112a",
   "metadata": {},
   "outputs": [],
   "source": [
    "sub_list"
   ]
  },
  {
   "cell_type": "markdown",
   "id": "536476c9",
   "metadata": {},
   "source": [
    "## Get a Subscription"
   ]
  },
  {
   "cell_type": "markdown",
   "id": "381ce7bf",
   "metadata": {},
   "source": [
    "We can use our subscription ID for a given subscription to retrieve the corresponding subscription's description. Let's see this in action using the subscription ID we saved above."
   ]
  },
  {
   "cell_type": "code",
   "execution_count": null,
   "id": "5fabfff0-db7a-4f6b-82f9-05758e0e9644",
   "metadata": {},
   "outputs": [],
   "source": [
    "sub_id = sub_to_check['id']\n",
    "sub_desc = pl.subscriptions.get_subscription(sub_id)"
   ]
  },
  {
   "cell_type": "code",
   "execution_count": null,
   "id": "c40db9e2-8ac4-4827-9b40-a439ea8816ba",
   "metadata": {},
   "outputs": [],
   "source": [
    "sub_desc"
   ]
  },
  {
   "cell_type": "markdown",
   "id": "6a937955",
   "metadata": {},
   "source": [
    "## Update a Subscription"
   ]
  },
  {
   "cell_type": "markdown",
   "id": "5497b7c8",
   "metadata": {},
   "source": [
    "What if we see something about our subscription that we want to change? We can update a subscription by specifying the subscription ID whose attributes we want to alter, along with a new request with the updated parameters. \n",
    "\n",
    "**Note some restrictions apply after a subscription transitions to `running`:**\n",
    "- Changes to the `item_types` fields are not allowed.\n",
    "- Changes to `start_time` is not allowed if the `start_time` has already happened.\n",
    "    - The edit will only apply to future item publications and deliveries and no items will be redelivered.\n",
    "- Changes to `tools` are not allowed.\n",
    "    - If tools was left as `None` when you created your subscription, the default tools need be to set when you update the subscription.\n",
    "- Backfill subscriptions cannot be edited.\n",
    "    - If you need to reorder archive items based on an updated filter or tool specifications, you can search for and order archive items with the Data API and Orders API."
   ]
  },
  {
   "cell_type": "code",
   "execution_count": null,
   "id": "7846787f",
   "metadata": {
    "scrolled": true
   },
   "outputs": [],
   "source": [
    "# Let's look at our original request once more:\n",
    "sub_desc"
   ]
  },
  {
   "cell_type": "code",
   "execution_count": null,
   "id": "f1efd324-e54a-43a6-8a8e-e3d2cd1c8b54",
   "metadata": {},
   "outputs": [],
   "source": [
    "# We will reuse our 'id', 'name', 'tools', and 'delivery' keys from the subscription we submitted already:\n",
    "\n",
    "sub_id = sub_desc['id']\n",
    "sub_name = sub_desc['name']"
   ]
  },
  {
   "cell_type": "markdown",
   "id": "d967322a",
   "metadata": {},
   "source": [
    "Let's change our end time January 1st, change our end year to 2027, and only look at images every other month."
   ]
  },
  {
   "cell_type": "code",
   "execution_count": null,
   "id": "f6c3fa92-4250-4215-8636-b1aafecaceac",
   "metadata": {},
   "outputs": [],
   "source": [
    "# We will reuse all variables set above, changing only end_time and rrule:\n",
    "end_time_update = datetime.fromisoformat(\"2027-01-01T00:00:00Z\")\n",
    "rrule_update = \"FREQ=MONTHLY;BYMONTH=2,4,6,8,10,12\"\n",
    "\n",
    "source_update = subscription_request.catalog_source(\n",
    "    item_types=item_types, asset_types=asset_types, geometry=geometry,\n",
    "    start_time=start_time, end_time=end_time_update, rrule=rrule_update)\n",
    "\n",
    "sub_update = subscription_request.build_request(\n",
    "    name = sub_name, source = source_update, delivery=bucket_delivery) "
   ]
  },
  {
   "cell_type": "code",
   "execution_count": null,
   "id": "e9613db6-9b63-491d-ab98-6eabe8cdcb37",
   "metadata": {
    "scrolled": true
   },
   "outputs": [],
   "source": [
    "sub_update"
   ]
  },
  {
   "cell_type": "markdown",
   "id": "a8c56a30",
   "metadata": {},
   "source": [
    "Now, we can update our subscription with this new request:"
   ]
  },
  {
   "cell_type": "code",
   "execution_count": null,
   "id": "ab5f9387-4684-490f-99d0-f26bbf4ac261",
   "metadata": {},
   "outputs": [],
   "source": [
    "updated_sub = pl.subscriptions.update_subscription(subscription_id=sub_id, request=sub_update)"
   ]
  },
  {
   "cell_type": "markdown",
   "id": "d747f142",
   "metadata": {},
   "source": [
    "Check out the new parameters of our subscription below. Notice that the frequency and end dates of the subscription have changed! Also note that this is still the same subscription ID as we were working with above."
   ]
  },
  {
   "cell_type": "code",
   "execution_count": null,
   "id": "9a674243",
   "metadata": {
    "scrolled": true
   },
   "outputs": [],
   "source": [
    "updated_sub"
   ]
  },
  {
   "cell_type": "markdown",
   "id": "69e76a96",
   "metadata": {},
   "source": [
    "## Get Subscription Results"
   ]
  },
  {
   "attachments": {},
   "cell_type": "markdown",
   "id": "58d18618-7033-4f70-84c9-dcbd1e532bdb",
   "metadata": {},
   "source": [
    "Now that we've made sure our subscription description matches what we want, we can see our subscription results using the `get_results` Client method.\n",
    "<br>\n",
    "Check out the results description below. Note that we can see the subscription created and updated date, as well as the status. \n",
    "<br>\n",
    "This step will only work for subscriptions that are currently running. \n",
    "If you get an empty list, it may mean that your subscription is still pending, especially if the start date of the subscription has not arrived yet."
   ]
  },
  {
   "cell_type": "code",
   "execution_count": null,
   "id": "60678939-32f0-45ca-9db0-790e98815c7b",
   "metadata": {},
   "outputs": [],
   "source": [
    "results_desc = pl.subscriptions.get_results(sub_id)\n",
    "results_list = [result for result in results_desc]"
   ]
  },
  {
   "cell_type": "code",
   "execution_count": null,
   "id": "f555f289",
   "metadata": {
    "scrolled": true
   },
   "outputs": [],
   "source": [
    "results_list"
   ]
  },
  {
   "cell_type": "markdown",
   "id": "52b980b3",
   "metadata": {},
   "source": [
    "## Cancel A Subscription"
   ]
  },
  {
   "cell_type": "markdown",
   "id": "b7894f6b",
   "metadata": {},
   "source": [
    "We can cancel a subscription by using the `cancel_subscription` method and providing the subscription_id corresponding to the subscription we want to cancel."
   ]
  },
  {
   "cell_type": "code",
   "execution_count": null,
   "id": "7925c4d3-8db9-4b06-adf3-e083e2b05cfb",
   "metadata": {},
   "outputs": [],
   "source": [
    "# There is no return for this\n",
    "pl.subscriptions.cancel_subscription(sub_id)"
   ]
  },
  {
   "cell_type": "markdown",
   "id": "0fec6ea5",
   "metadata": {},
   "source": [
    "We can confirm this subscription is canceled by getting a description of this subscription using this ID. We should its status reported as 'canceled'."
   ]
  },
  {
   "cell_type": "code",
   "execution_count": null,
   "id": "528d4c23-d5f9-4046-9a85-d4bd2cbf212f",
   "metadata": {},
   "outputs": [],
   "source": [
    "cancelled_sub = pl.subscriptions.get_subscription(sub_id)"
   ]
  },
  {
   "cell_type": "code",
   "execution_count": null,
   "id": "9388bb6a-a07f-4b48-8a4e-67aebbfd5e97",
   "metadata": {},
   "outputs": [],
   "source": [
    "cancelled_sub['status']"
   ]
  },
  {
   "cell_type": "markdown",
   "id": "cad6f5c7",
   "metadata": {},
   "source": [
    "## Congratulations!"
   ]
  },
  {
   "cell_type": "markdown",
   "id": "78e51bd8",
   "metadata": {},
   "source": [
    "You now have all the tools you need to create and edit your own subscriptions using our Subscriptions API Client tool. For more information on our subscriptions API, please check out our [Subscriptions API  Documentation](https://developers.planet.com/docs/subscriptions/)"
   ]
  }
 ],
 "metadata": {
  "kernelspec": {
   "display_name": "Python 3 (ipykernel)",
   "language": "python",
   "name": "python3"
  },
  "language_info": {
   "codemirror_mode": {
    "name": "ipython",
    "version": 3
   },
   "file_extension": ".py",
   "mimetype": "text/x-python",
   "name": "python",
   "nbconvert_exporter": "python",
   "pygments_lexer": "ipython3",
   "version": "3.13.7"
  }
 },
 "nbformat": 4,
 "nbformat_minor": 5
}
