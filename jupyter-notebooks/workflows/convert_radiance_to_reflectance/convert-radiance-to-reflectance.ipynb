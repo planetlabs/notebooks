{
 "cells": [
  {
   "cell_type": "markdown",
   "metadata": {},
   "source": [
    "# Converting PlanetScope Imagery from Radiance to Reflectance"
   ]
  },
  {
   "cell_type": "markdown",
   "metadata": {},
   "source": [
    "### _How to use this exercise_\n",
    "\n",
    "_Adjacent to this notebook, you'll find a notebook titled `convert-radiance-to-reflectance-key.ipynb`: that notebook contains the \"answers\", while the code in *this* notebook is incomplete. As you work through this notebook, you'll see some codeblocks that contain `None` values: replace these `None` instances with your own code until the codeblocks here run successfully. If you get stuck try to use outside resources like documentation, previous work, or even other students here in this class before taking a peek at the Key._\n",
    "\n",
    "### Background\n",
    "\n",
    "Planet's analytic satellite data products are reported in units of radiance: that is to say, every pixel in an _analytic_-type PlanetScope image answers the question, \"How much light was captured over this spot of ground?\" The mathematical representation of this radiance is $W*m^{-2}*sr^{-1}$.\n",
    "\n",
    "But over the course of a day or year, the number of photons that the sun shines on the scene rises and falls. If you naively compare the radiance values of two scenes over the same spot on Earth from the same satellite but a few weeks (or even just hours) apart, you will likely find dramatic radiance differences **even if nothing on the ground has changed.**\n",
    "\n",
    "In addition to this variation, each of Planet Labs' 150+ satllites have small amounts of variation in their spectral filters which yields slight differences in radiance measurements, even from two satellites taking pictures of the same exact place at the same exact moment.\n",
    "\n",
    "To correct all this radiance variation you would have to do a lot of math using the exact location and local time of day to find the angle to the sun and sun-earth distance, then compute a solar irradiance model to estimate how many photons of each band are present in the image, and finally convolve that spectrum with the spectral response of the individual satellite to yield the number of photons of each band that are actually recorded by that sensor. Dividing by this number normalizes the measured brightness to the brightness of the sun at that time and place through that particular filter, yielding a much more comparable number: **reflectance**.\n",
    "\n",
    "One type of reflectance correction is known as \"_Top of Atmosphere Reflectance_\" (TOAR). TOAR is extremely useful because it is an apples-to-apples comparable number from any satellite over any location that does not change with time of day or time of year **unless the content of the scene changes.** It is very commonly used in geospatial applications that compute spectral indices such as NDVI. If you'd like to learn how to compute the NDVI index, [see this in-class exercise](../band-math-generate-ndvi/generate-ndvi-exercise.ipynb).\n",
    "\n",
    "TOAR is so broadly useful that Planet has already done the math for us, and provides all the coefficients necessary to convert a radiance image into a reflectance image."
   ]
  },
  {
   "cell_type": "markdown",
   "metadata": {},
   "source": [
    "$$\n",
    "\\begin{equation*}\n",
    "\\mathbf{img}_{reflectance} =  \\begin{vmatrix}\n",
    "a \\\\\n",
    "b \\\\\n",
    "c \\\\\n",
    "d \n",
    "\\end{vmatrix}\n",
    "\\times \\mathbf{img}_{radiance}\n",
    "\\end{equation*}\n",
    "$$\n"
   ]
  },
  {
   "cell_type": "markdown",
   "metadata": {},
   "source": [
    "The four coefficients $a, b, c, d$ are calculated and provided with every analytic image that Planet provides and can be used as simple scaling factors to convert from radiance to reflectance. Their values change with the image's local \n",
    "time of day and time of year, and do so uniquely per satellite."
   ]
  },
  {
   "cell_type": "markdown",
   "metadata": {},
   "source": [
    "**In this exercise, you'll learn perform a basic Radiance to Reflectance calculation on PlanetScope imagery using Python. Here are the steps to follow:**\n",
    "\n",
    "1. Download a PlanetScope image\n",
    "2. Extract data from each spectral band\n",
    "3. Extract the coefficients\n",
    "4. Convert Radiance to Reflectance\n",
    "5. Save the Reflectance"
   ]
  },
  {
   "cell_type": "markdown",
   "metadata": {},
   "source": [
    "### Requirements\n",
    "- Python 2.7 or 3+\n",
    "- [Planet's Python Client](https://developers.planet.com/docs/planetschool/get-started-with-planet-cli-searching-for-data/?gclid=Cj0KCQiAm5ycBhCXARIsAPldzoV1kaH5RV3yIx96l0vCd34nXWORqGqgIrs5f0thv-TYy5FtbZP6b9gaAtZCEALw_wcB)\n",
    "- [rasterio](https://github.com/mapbox/rasterio)\n",
    "- [numpy](http://www.numpy.org/)\n",
    "- [matplotlib](https://matplotlib.org/)\n",
    "- [Planet API Key](https://www.planet.com/account/#/), stored as environment variable `$PL_API_KEY`.\n",
    "- [Planet 4-Band Imagery](https://developers.planet.com/docs/api/psscene/) with the following specifications: `item-type`: `PSScene`; `asset-type`: `ortho_analytic_4b`"
   ]
  },
  {
   "cell_type": "markdown",
   "metadata": {},
   "source": [
    "## Step 1. Download a PlanetScope Image "
   ]
  },
  {
   "cell_type": "markdown",
   "metadata": {},
   "source": [
    "For this exercise you'll need a 4-band PlanetScope Analytioc product. You can search for & download your own data, or use the demo data provided in-class. If you choose to use the demo data, skip to **Step 2**.\n",
    "\n",
    "To search for your own data, you'll first need to define an Area of Interest (AOI). [http://geojson.io](http://geojson.io) is a free browser-based tool that makes generating a GeoJSON-formatted AOI easy.\n",
    "\n",
    "Once that's done, use one of the following methods to search for & download data:\n",
    "- using [Planet's Python CLI](https://developers.planet.com/docs/planetschool/get-started-with-planet-cli-searching-for-data/?gclid=Cj0KCQiAm5ycBhCXARIsAPldzoV1kaH5RV3yIx96l0vCd34nXWORqGqgIrs5f0thv-TYy5FtbZP6b9gaAtZCEALw_wcB) to interact with Planet's API from the command line\n",
    "- using Planet's API directly to [search](https://developers.planet.com/docs/quickstart/searching-for-imagery/) and [download](https://developers.planet.com/docs/quickstart/downloading-imagery/)\n",
    "- using the [Planet Explorer](https://www.planet.com/products/explorer/) site to visually search for & download data\n",
    "\n",
    "With all of the above, you'll want to filter for 4-Band PlanetScope data (item type: `PSScene`) and download the associated analytic product (asset type: `ortho_analytic_4b`)."
   ]
  },
  {
   "cell_type": "markdown",
   "metadata": {},
   "source": [
    "### Option 1: Searching & Downloading via CLI"
   ]
  },
  {
   "cell_type": "markdown",
   "metadata": {},
   "source": [
    "If you choose to use Planet's CLI, you might fight these [search](https://developers.planet.com/quickstart/apis/#:~:text=Conducting%20an%20image%20search) and [download](https://developers.planet.com/quickstart/apis/#:~:text=Activating%20%26%20downloading%20the%20image) quickstart guides to be useful."
   ]
  },
  {
   "cell_type": "code",
   "execution_count": null,
   "metadata": {
    "scrolled": true
   },
   "outputs": [],
   "source": [
    "# To use Planet's CLI from this Notebook, begin your line as follows:\n",
    "!planet data\n",
    "\n",
    "# < add your own code here >"
   ]
  },
  {
   "cell_type": "markdown",
   "metadata": {},
   "source": [
    "### Option 2: Searching & Downloading via API\n",
    "\n",
    "If you prefer to use Planet's API directly via Python, this [search & download quickstart Notebook](../../data-api-tutorials/search_and_download_quickstart.ipynb) may be useful."
   ]
  },
  {
   "cell_type": "code",
   "execution_count": null,
   "metadata": {},
   "outputs": [],
   "source": [
    "# To use Planet's API, you'll probably begin by importing your favorite HTTP toolkit, e.g.:\n",
    "import requests\n",
    "from requests.auth import HTTPBasicAuth\n",
    "\n",
    "# Your Planet API key is available in this Notebook as an env variable, e.g.:\n",
    "import os\n",
    "PLANET_API_KEY = os.getenv('PL_API_KEY')\n",
    "\n",
    "# < add your own code here >"
   ]
  },
  {
   "cell_type": "markdown",
   "metadata": {},
   "source": [
    "### Option 3: Searching & Downloading via Planet Explorer\n",
    "\n",
    "If you prefer to browse for images visually, log in to your Planet account and use [Planet Explorer](https://www.planet.com/explorer/) to search for PlanetScope imagery. You'll want to make sure to set the Source filter to show only `4-band PlanetScope Scene` results.\n",
    "\n",
    "You can [click here for an example search](4-band PlanetScope Scene) showing 4-band PlanetScope data in California's Central Valley."
   ]
  },
  {
   "cell_type": "markdown",
   "metadata": {},
   "source": [
    "### Success! Data Obtained\n",
    "\n",
    "Regardless of the path you chose to obtain data for this exercise, once you have successfully aquired a 4-band PlanetScope `analytic`-type GeoTIFF and associated .xml file, place the files in the [data/](data/) directory adjacent to this Notebook. The first of these two files is a GeoTIFF, the image you requested with spatial reference data embedded. The second file is a metadata file for that image that includes the data you'll need to convert from radiance to reflectance. "
   ]
  },
  {
   "cell_type": "markdown",
   "metadata": {},
   "source": [
    "## Step 2. Extract the Data from Each Spectral Band "
   ]
  },
  {
   "cell_type": "markdown",
   "metadata": {},
   "source": [
    "In this step, you'll use [Rasterio](https://github.com/mapbox/rasterio), a Python library for reading and writing geospatial raster datasets, to open the raster image you downloaded (the .tif file). Then you'll extract the data from the red and near-infrared bands and load the band data into arrays that you can manipulate using Python's [NumPy](http://www.numpy.org/) libary. \n",
    "\n",
    "*Note: in PlanetScope 4-band images, the band order is BGRN: (1) Blue, (2) Green, (3) Red, (4) Near-infrared.*"
   ]
  },
  {
   "cell_type": "code",
   "execution_count": null,
   "metadata": {},
   "outputs": [],
   "source": [
    "import rasterio\n",
    "import numpy as np\n",
    "\n",
    "filename = None\n",
    "# < update above with your own code >\n",
    "\n",
    "\n",
    "# Load blue, green, red and NIR bands - note all PlanetScope 4-band images have band order BGRN\n",
    "with rasterio.open(filename) as src:\n",
    "    band_blue_radiance = None\n",
    "# < update above with your own code >\n",
    "\n",
    "# ...\n",
    "\n",
    "# < add your own code here >"
   ]
  },
  {
   "cell_type": "markdown",
   "metadata": {},
   "source": [
    "## Step 3. Extract the Coefficients"
   ]
  },
  {
   "cell_type": "markdown",
   "metadata": {},
   "source": [
    "Before we can convert to reflectance, the conversion coefficients from the metadata file (the .xml file) must be extracted. For the purposes of this exercise, we've included this process here:"
   ]
  },
  {
   "cell_type": "code",
   "execution_count": null,
   "metadata": {},
   "outputs": [],
   "source": [
    "from xml.dom import minidom\n",
    "\n",
    "xmldoc = minidom.parse(\"data/20170623_180038_0f34_3B_AnalyticMS_metadata.xml\")\n",
    "nodes = xmldoc.getElementsByTagName(\"ps:bandSpecificMetadata\")\n",
    "\n",
    "# XML parser refers to bands by numbers 1-4\n",
    "coeffs = {}\n",
    "for node in nodes:\n",
    "    bn = node.getElementsByTagName(\"ps:bandNumber\")[0].firstChild.data\n",
    "    if bn in ['1', '2', '3', '4']:\n",
    "        i = int(bn)\n",
    "        value = node.getElementsByTagName(\"ps:reflectanceCoefficient\")[0].firstChild.data\n",
    "        coeffs[i] = float(value)\n",
    "\n",
    "print(\"Conversion coefficients:\", coeffs)"
   ]
  },
  {
   "cell_type": "markdown",
   "metadata": {},
   "source": [
    "Note that the coefficients are all of order `1e-5`, and that the coefficient for NIR is significantly higher than the coefficient for blue. This is a big deal if your use case involves performing band math because a pixel with a `NIR/blue` ratio of `1.0` in the radiance image will have a `NIR/blue` ratio of `3.35/1.929=1.73` in the reflectance image.\n",
    "\n",
    "Most spectral indices are defined in terms of reflectance, not radiance."
   ]
  },
  {
   "cell_type": "markdown",
   "metadata": {},
   "source": [
    "## Step 4: Convert Radiance to Reflectance"
   ]
  },
  {
   "cell_type": "markdown",
   "metadata": {},
   "source": [
    "Radiance is measured in SI units: $W/m^2$. Reflectance is a ratio from 0 to 1. The conversion is performed as a per-band scalar multiplication:"
   ]
  },
  {
   "cell_type": "code",
   "execution_count": null,
   "metadata": {},
   "outputs": [],
   "source": [
    "# Multiply the current values in each band by the TOA reflectance coefficients\n",
    "band_blue_reflectance = None\n",
    "# < update above with your own code >\n",
    "\n",
    "# ...\n",
    "\n",
    "# < add your own code here >\n"
   ]
  },
  {
   "cell_type": "markdown",
   "metadata": {},
   "source": [
    "As a quick check of our calculations, let's print the minimum and maximum values in both the original (radiance) values, as well as our new (reflectance) values. \n",
    "\n",
    "_(HINT: these band values are stored as numpy arrays, so use numpy functions here)_."
   ]
  },
  {
   "cell_type": "code",
   "execution_count": null,
   "metadata": {},
   "outputs": [],
   "source": [
    "import numpy as np\n",
    "\n",
    "# < add your own code here >"
   ]
  },
  {
   "cell_type": "markdown",
   "metadata": {},
   "source": [
    "## Step 5. Save the Reflectance Image "
   ]
  },
  {
   "cell_type": "markdown",
   "metadata": {},
   "source": [
    "Finally, we'll save the calculated reflectance values to a new image file, making sure the new image file has the same geospatial metadata as the original GeoTIFF we downloaded.\n",
    "\n",
    "_A note:_\n",
    "Reflectance is generally defined as a floating point number between 0 and 1, but image file formats are much more commonly stored as unsigned integers. A common practice in the industry is to multiply the reflectance value by 10,000, then save the result as a file with data type `uint16`."
   ]
  },
  {
   "cell_type": "code",
   "execution_count": null,
   "metadata": {},
   "outputs": [],
   "source": [
    "# get the metadata of original GeoTIFF:\n",
    "\n",
    "# < add your own code here >\n",
    "\n",
    "\n",
    "# set the source metadata as kwargs we'll use to write the new data:\n",
    "\n",
    "# < add your own code here >\n",
    "\n",
    "\n",
    "# update the 'dtype' value to 'uint16':\n",
    "\n",
    "# < add your own code here >\n",
    "\n",
    "\n",
    "# As noted above, scale reflectance values by a factor of 10k:\n",
    "scale = 10000\n",
    "blue_ref_scaled = None\n",
    "\n",
    "# < update above with your own code >\n",
    "\n",
    "# ...\n",
    "# < add your own code here >\n",
    "\n",
    "\n",
    "# Compute new min & max values for the scaled red band & print them, just for comparison\n",
    "\n",
    "# < add your own code here >\n",
    "\n",
    "\n",
    "# set the type for each band to uint16\n",
    "# hint: remember, bands are just numpy arrays!\n",
    "from rasterio import uint16\n",
    "\n",
    "# < add your own code here >\n",
    "\n",
    "\n",
    "# Finally, write band calculations to a new raster file 'data/reflectance.tif'\n",
    "# Hint: rasterio.write_band() to write individual bands\n",
    "\n",
    "# < add your own code here >"
   ]
  },
  {
   "cell_type": "markdown",
   "metadata": {},
   "source": [
    "Congratulations! You've learned how to apply coefficient metadata to a GeoTIFF in order to atmospherically correct radiance values, converting them to reflectance.\n",
    "\n",
    "From here, you could use your new reflectance image to generate indices such as an NDVI. To learn more about how to do that, see [band-math-generate-ndvi/generate-ndvi-exercise.ipynb](https://github.com/planetlabs/notebooks/blob/master/jupyter-notebooks/in-class-exercises/band-math-generate-ndvi/generate-ndvi-exercise.ipynb)."
   ]
  }
 ],
 "metadata": {
  "kernelspec": {
   "display_name": "Python 3 (ipykernel)",
   "language": "python",
   "name": "python3"
  },
  "language_info": {
   "codemirror_mode": {
    "name": "ipython",
    "version": 3
   },
   "file_extension": ".py",
   "mimetype": "text/x-python",
   "name": "python",
   "nbconvert_exporter": "python",
   "pygments_lexer": "ipython3",
   "version": "3.9.12"
  }
 },
 "nbformat": 4,
 "nbformat_minor": 2
}
