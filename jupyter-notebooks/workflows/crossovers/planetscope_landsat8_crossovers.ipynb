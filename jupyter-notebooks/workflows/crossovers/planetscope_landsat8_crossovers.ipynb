{
 "cells": [
  {
   "cell_type": "markdown",
   "metadata": {},
   "source": [
    "# PS Scene and Landsat 8 Crossovers\n",
    "\n",
    "Have you ever wanted to compare PSScene images to Landsat 8 images? Both image collections are made available via the Planet API. However, it takes a bit of work to identify crossovers - that is, images of the same area that were collected within a reasonable time difference of each other. Also, you may be interested in filtering out some imagery, e.g. cloudy images.\n",
    "\n",
    "This notebook walks you through the process of finding crossovers between PSScene images and Landsat 8 scenes. In this notebook, we specify 'crossovers' as images that have been taken within 1hr of eachother. This time gap is sufficiently small that we expect the atmospheric conditions won't change much (this assumption doesn't always hold, but is the best we can do for now). We also filter out cloudy images and constrain our search to images collected in 2017, January 1 through August 23."
   ]
  },
  {
   "cell_type": "code",
   "execution_count": 1,
   "metadata": {},
   "outputs": [],
   "source": [
    "# Notebook dependencies\n",
    "from __future__ import print_function\n",
    "\n",
    "import datetime\n",
    "import json\n",
    "import os\n",
    "\n",
    "import ipyleaflet as ipyl\n",
    "import ipywidgets as ipyw\n",
    "from IPython.core.display import HTML\n",
    "from IPython.display import display\n",
    "import pandas as pd\n",
    "from planet import Auth\n",
    "from planet import Session, DataClient, OrdersClient\n",
    "from shapely import geometry as sgeom"
   ]
  },
  {
   "cell_type": "code",
   "execution_count": 2,
   "metadata": {},
   "outputs": [],
   "source": [
    "# if your Planet API Key is not set as an environment variable, you can paste it below\n",
    "if 'PL_API_KEY' in os.environ:\n",
    "    API_KEY = os.environ['PL_API_KEY']\n",
    "else:\n",
    "    API_KEY = 'PASTE_API_KEY_HERE'\n",
    "    os.environ['PL_API_KEY'] = API_KEY\n",
    "\n",
    "client = Auth.from_key(API_KEY)"
   ]
  },
  {
   "cell_type": "markdown",
   "metadata": {},
   "source": [
    "## Define AOI\n",
    "\n",
    "Define the AOI as a geojson polygon. This can be done at [geojson.io](http://geojson.io). If you use geojson.io, only copy the single aoi feature, not the entire feature collection."
   ]
  },
  {
   "cell_type": "code",
   "execution_count": 3,
   "metadata": {},
   "outputs": [],
   "source": [
    "aoi = {u'type': u'Polygon', u'coordinates': [[[-121.3113248348236, 38.28911976564886], [-121.3113248348236, 38.34622533958], [-121.2344205379486, 38.34622533958], [-121.2344205379486, 38.28911976564886], [-121.3113248348236, 38.28911976564886]]]}"
   ]
  },
  {
   "cell_type": "code",
   "execution_count": 4,
   "metadata": {},
   "outputs": [
    {
     "data": {
      "text/plain": [
       "'{\"type\": \"Polygon\", \"coordinates\": [[[-121.3113248348236, 38.28911976564886], [-121.3113248348236, 38.34622533958], [-121.2344205379486, 38.34622533958], [-121.2344205379486, 38.28911976564886], [-121.3113248348236, 38.28911976564886]]]}'"
      ]
     },
     "execution_count": 4,
     "metadata": {},
     "output_type": "execute_result"
    }
   ],
   "source": [
    "json.dumps(aoi)"
   ]
  },
  {
   "cell_type": "markdown",
   "metadata": {},
   "source": [
    "## Build Request\n",
    "\n",
    "Build the Planet API Filter request for the Landsat 8 and PSScene imagery taken in 2017 through August 23."
   ]
  },
  {
   "cell_type": "code",
   "execution_count": 5,
   "metadata": {},
   "outputs": [],
   "source": [
    "# Define the filters we'll use to find our data\n",
    "\n",
    "item_type_LS = ['Landsat8L1G']\n",
    "\n",
    "item_type_PS = ['PSScene']\n",
    "\n",
    "geom_filter = {\n",
    "   \"type\":\"GeometryFilter\",\n",
    "   \"field_name\":\"geometry\",\n",
    "   \"config\":aoi\n",
    "}\n",
    "\n",
    "sun_elevation_filter = {\n",
    "   \"type\":\"RangeFilter\",\n",
    "   \"field_name\":\"sun_elevation\",\n",
    "   \"config\":{\n",
    "       \"lt\": 0}\n",
    "}\n",
    "\n",
    "cloud_cover_filter = {\n",
    "\"type\":\"RangeFilter\",\n",
    "\"field_name\":\"cloud_cover\",\n",
    "\"config\":{\n",
    "  \"lt\":5 }\n",
    "}\n",
    "\n",
    "date_range_filter = {\n",
    "\"type\":\"DateRangeFilter\",\n",
    "\"field_name\":\"acquired\",\n",
    "\"config\":{\n",
    "  \"gt\":\"2017-01-01T00:00:00Z\", \n",
    "   \"lt\": \"2017-08-23T00:00:00Z\"}\n",
    "}\n",
    "\n",
    "combined_filter_LS = {\n",
    "\"type\":\"AndFilter\",\n",
    "\"config\":[\n",
    "    geom_filter,\n",
    "    date_range_filter,\n",
    "    cloud_cover_filter,\n",
    "    sun_elevation_filter]\n",
    "}\n",
    "\n",
    "combined_filter_PS = {\n",
    "\"type\":\"AndFilter\",\n",
    "\"config\":[\n",
    "    geom_filter,\n",
    "    date_range_filter,\n",
    "    cloud_cover_filter]\n",
    "}\n"
   ]
  },
  {
   "cell_type": "markdown",
   "metadata": {},
   "source": [
    "## Search Planet API\n",
    "\n",
    "The client is how we interact with the planet api. It is created with the user-specific api key, which is pulled from $PL_API_KEY environment variable. Create the client then use it to search for PSScene and Landsat 8 scenes. Save a subset of the metadata provided by Planet API as our 'scene'."
   ]
  },
  {
   "cell_type": "code",
   "execution_count": 6,
   "metadata": {},
   "outputs": [
    {
     "name": "stdout",
     "output_type": "stream",
     "text": [
      "10\n",
      "100\n"
     ]
    }
   ],
   "source": [
    "# Run a quick search for our LANDSAT data\n",
    "async with Session() as sess:\n",
    "    cl = DataClient(sess)\n",
    "    results = cl.search(name='landsat_search',search_filter=combined_filter_LS, item_types=item_type_LS)\n",
    "    landsat_list = [i async for i in results]\n",
    "    \n",
    "print(len(landsat_list))\n",
    "    \n",
    "# Run a quick search for our PSScene data\n",
    "async with Session() as sess:\n",
    "    cl = DataClient(sess)\n",
    "    results = cl.search(name='ps_search',search_filter=combined_filter_PS, item_types=item_type_PS)\n",
    "    ps_list = [i async for i in results]\n",
    "    \n",
    "print(len(ps_list))"
   ]
  },
  {
   "cell_type": "markdown",
   "metadata": {},
   "source": [
    "In processing the items to scenes, we are only using a small subset of the [product metadata](https://www.planet.com/docs/spec-sheets/sat-imagery/#product-metadata). "
   ]
  },
  {
   "cell_type": "code",
   "execution_count": 7,
   "metadata": {},
   "outputs": [],
   "source": [
    "def items_to_scenes(items):\n",
    "    item_types = []\n",
    "\n",
    "    def _get_props(item):\n",
    "        props = item['properties']\n",
    "        props.update({\n",
    "            'thumbnail': item['_links']['thumbnail'],\n",
    "            'item_type': item['properties']['item_type'],\n",
    "            'id': item['id'],\n",
    "            'acquired': item['properties']['acquired'],\n",
    "            'footprint': item['geometry']\n",
    "        })\n",
    "        return props\n",
    "    \n",
    "    scenes = pd.DataFrame(data=[_get_props(i) for i in items])\n",
    "    \n",
    "    # acquired column to index, it is unique and will be used a lot for processing\n",
    "    scenes.index = pd.to_datetime(scenes['acquired'])\n",
    "    del scenes['acquired']\n",
    "    scenes.sort_index(inplace=True)\n",
    "    \n",
    "    return scenes"
   ]
  },
  {
   "cell_type": "markdown",
   "metadata": {},
   "source": [
    "## Investigate Landsat Scenes\n",
    "\n",
    "There are quite a few Landsat 8 scenes that are returned by our query. What do the footprints look like relative to our AOI and what is the collection time of the scenes?"
   ]
  },
  {
   "cell_type": "code",
   "execution_count": 8,
   "metadata": {},
   "outputs": [
    {
     "name": "stdout",
     "output_type": "stream",
     "text": [
      "10\n"
     ]
    }
   ],
   "source": [
    "landsat_scenes = items_to_scenes(landsat_list)\n",
    "\n",
    "# How many Landsat 8 scenes match the query?\n",
    "print(len(landsat_scenes))"
   ]
  },
  {
   "cell_type": "markdown",
   "metadata": {},
   "source": [
    "### Show Landsat 8 Footprints on Map"
   ]
  },
  {
   "cell_type": "code",
   "execution_count": 10,
   "metadata": {},
   "outputs": [],
   "source": [
    "def landsat_scenes_to_features_layer(scenes):\n",
    "    features_style = {\n",
    "            'color': 'grey',\n",
    "            'weight': 1,\n",
    "            'fillColor': 'grey',\n",
    "            'fillOpacity': 0.15}\n",
    "\n",
    "    features = [{\"geometry\": r.footprint,\n",
    "                 \"type\": \"Feature\",\n",
    "                 \"properties\": {\"style\": features_style,\n",
    "                                \"wrs_path\": r.wrs_path,\n",
    "                                \"wrs_row\": r.wrs_row}}\n",
    "                for r in scenes.itertuples()]\n",
    "    return features\n",
    "\n",
    "def create_landsat_hover_handler(scenes, label):\n",
    "    def hover_handler(event=None, id=None, properties=None):\n",
    "        wrs_path = properties['wrs_path']\n",
    "        wrs_row = properties['wrs_row']\n",
    "        path_row_query = 'wrs_path=={} and wrs_row=={}'.format(wrs_path, wrs_row)\n",
    "        count = len(scenes.query(path_row_query))\n",
    "        label.value = 'path: {}, row: {}, count: {}'.format(wrs_path, wrs_row, count)\n",
    "    return hover_handler\n",
    "\n",
    "\n",
    "def create_landsat_feature_layer(scenes, label):\n",
    "    \n",
    "    features = landsat_scenes_to_features_layer(scenes)\n",
    "    \n",
    "    # Footprint feature layer\n",
    "    feature_collection = {\n",
    "        \"type\": \"FeatureCollection\",\n",
    "        \"features\": features\n",
    "    }\n",
    "\n",
    "    feature_layer = ipyl.GeoJSON(data=feature_collection)\n",
    "\n",
    "    feature_layer.on_hover(create_landsat_hover_handler(scenes, label))\n",
    "    return feature_layer"
   ]
  },
  {
   "cell_type": "code",
   "execution_count": 11,
   "metadata": {},
   "outputs": [],
   "source": [
    "# Initialize map using parameters from above map\n",
    "# and deleting map instance if it exists\n",
    "try:\n",
    "    del fp_map\n",
    "except NameError:\n",
    "    pass\n",
    "\n",
    "\n",
    "zoom = 6\n",
    "center = [38.28993659801203, -120.14648437499999] # lat/lon"
   ]
  },
  {
   "cell_type": "code",
   "execution_count": 12,
   "metadata": {},
   "outputs": [
    {
     "data": {
      "application/vnd.jupyter.widget-view+json": {
       "model_id": "802677f33f90431496a506dcc9f741f3",
       "version_major": 2,
       "version_minor": 0
      },
      "text/plain": [
       "VBox(children=(Map(center=[38.28993659801203, -120.14648437499999], controls=(ZoomControl(options=['position',…"
      ]
     },
     "metadata": {},
     "output_type": "display_data"
    },
    {
     "ename": "TypeError",
     "evalue": "hover_handler() got an unexpected keyword argument 'feature'",
     "output_type": "error",
     "traceback": [
      "\u001b[0;31m---------------------------------------------------------------------------\u001b[0m",
      "\u001b[0;31mTypeError\u001b[0m                                 Traceback (most recent call last)",
      "\u001b[0;31mTypeError\u001b[0m: hover_handler() got an unexpected keyword argument 'feature'"
     ]
    },
    {
     "ename": "TypeError",
     "evalue": "hover_handler() got an unexpected keyword argument 'feature'",
     "output_type": "error",
     "traceback": [
      "\u001b[0;31m---------------------------------------------------------------------------\u001b[0m",
      "\u001b[0;31mTypeError\u001b[0m                                 Traceback (most recent call last)",
      "\u001b[0;31mTypeError\u001b[0m: hover_handler() got an unexpected keyword argument 'feature'"
     ]
    },
    {
     "ename": "TypeError",
     "evalue": "hover_handler() got an unexpected keyword argument 'feature'",
     "output_type": "error",
     "traceback": [
      "\u001b[0;31m---------------------------------------------------------------------------\u001b[0m",
      "\u001b[0;31mTypeError\u001b[0m                                 Traceback (most recent call last)",
      "\u001b[0;31mTypeError\u001b[0m: hover_handler() got an unexpected keyword argument 'feature'"
     ]
    }
   ],
   "source": [
    "# Create map, adding box drawing controls\n",
    "# Reuse parameters if map already exists\n",
    "try:\n",
    "    center = fp_map.center\n",
    "    zoom = fp_map.zoom\n",
    "    print(zoom)\n",
    "    print(center)\n",
    "except NameError:\n",
    "    pass\n",
    "\n",
    "# Change tile layer to one that makes it easier to see crop features\n",
    "# Layer selected using https://leaflet-extras.github.io/leaflet-providers/preview/\n",
    "map_tiles = ipyl.TileLayer(url='http://{s}.basemaps.cartocdn.com/light_all/{z}/{x}/{y}.png')\n",
    "fp_map = ipyl.Map(\n",
    "        center=center, \n",
    "        zoom=zoom,\n",
    "        default_tiles = map_tiles\n",
    "    )\n",
    "\n",
    "label = ipyw.Label(layout=ipyw.Layout(width='100%'))\n",
    "fp_map.add_layer(create_landsat_feature_layer(landsat_scenes, label)) # landsat layer\n",
    "fp_map.add_layer(ipyl.GeoJSON(data=aoi)) # aoi layer\n",
    "    \n",
    "# Display map and label\n",
    "ipyw.VBox([fp_map, label])"
   ]
  },
  {
   "cell_type": "markdown",
   "metadata": {},
   "source": [
    "This AOI is located in a region covered by 3 different path/row tiles. This means there is 3x the coverage than in regions only covered by one path/row tile. This is particularly lucky!\n",
    "\n",
    "What about the within each path/row tile. How long and how consistent is the Landsat 8 collect period for each path/row?"
   ]
  },
  {
   "cell_type": "code",
   "execution_count": 13,
   "metadata": {},
   "outputs": [
    {
     "data": {
      "text/html": [
       "<div>\n",
       "<style scoped>\n",
       "    .dataframe tbody tr th:only-of-type {\n",
       "        vertical-align: middle;\n",
       "    }\n",
       "\n",
       "    .dataframe tbody tr th {\n",
       "        vertical-align: top;\n",
       "    }\n",
       "\n",
       "    .dataframe thead th {\n",
       "        text-align: right;\n",
       "    }\n",
       "</style>\n",
       "<table border=\"1\" class=\"dataframe\">\n",
       "  <thead>\n",
       "    <tr style=\"text-align: right;\">\n",
       "      <th></th>\n",
       "      <th></th>\n",
       "      <th>median</th>\n",
       "      <th>mean</th>\n",
       "      <th>std</th>\n",
       "      <th>count</th>\n",
       "      <th>min</th>\n",
       "      <th>max</th>\n",
       "    </tr>\n",
       "    <tr>\n",
       "      <th>wrs_path</th>\n",
       "      <th>wrs_row</th>\n",
       "      <th></th>\n",
       "      <th></th>\n",
       "      <th></th>\n",
       "      <th></th>\n",
       "      <th></th>\n",
       "      <th></th>\n",
       "    </tr>\n",
       "  </thead>\n",
       "  <tbody>\n",
       "    <tr>\n",
       "      <th rowspan=\"2\" valign=\"top\">141</th>\n",
       "      <th>210</th>\n",
       "      <td>15 days 23:59:52.399054</td>\n",
       "      <td>15 days 23:59:52.452082500</td>\n",
       "      <td>0 days 00:00:01.454449292</td>\n",
       "      <td>6</td>\n",
       "      <td>15 days 23:59:50.567734</td>\n",
       "      <td>15 days 23:59:54.273422</td>\n",
       "    </tr>\n",
       "    <tr>\n",
       "      <th>211</th>\n",
       "      <td>15 days 23:59:52.399054500</td>\n",
       "      <td>15 days 23:59:52.452082666</td>\n",
       "      <td>0 days 00:00:01.453739585</td>\n",
       "      <td>6</td>\n",
       "      <td>15 days 23:59:50.576207</td>\n",
       "      <td>15 days 23:59:54.273422</td>\n",
       "    </tr>\n",
       "  </tbody>\n",
       "</table>\n",
       "</div>"
      ],
      "text/plain": [
       "                                     median                       mean  \\\n",
       "wrs_path wrs_row                                                         \n",
       "141      210        15 days 23:59:52.399054 15 days 23:59:52.452082500   \n",
       "         211     15 days 23:59:52.399054500 15 days 23:59:52.452082666   \n",
       "\n",
       "                                       std  count                     min  \\\n",
       "wrs_path wrs_row                                                            \n",
       "141      210     0 days 00:00:01.454449292      6 15 days 23:59:50.567734   \n",
       "         211     0 days 00:00:01.453739585      6 15 days 23:59:50.576207   \n",
       "\n",
       "                                     max  \n",
       "wrs_path wrs_row                          \n",
       "141      210     15 days 23:59:54.273422  \n",
       "         211     15 days 23:59:54.273422  "
      ]
     },
     "execution_count": 13,
     "metadata": {},
     "output_type": "execute_result"
    }
   ],
   "source": [
    "def time_diff_stats(group):\n",
    "    time_diff = group.index.to_series().diff() # time difference between rows in group\n",
    "    stats = {'median': time_diff.median(),\n",
    "             'mean': time_diff.mean(),\n",
    "             'std': time_diff.std(),\n",
    "             'count': time_diff.count(),\n",
    "             'min': time_diff.min(),\n",
    "             'max': time_diff.max()}\n",
    "    return pd.Series(stats)\n",
    "\n",
    "landsat_scenes.groupby(['wrs_path', 'wrs_row']).apply(time_diff_stats)"
   ]
  },
  {
   "cell_type": "markdown",
   "metadata": {},
   "source": [
    "It looks like the collection period is 16 days, which lines up with the [Landsat 8 mission description](https://www.usgs.gov/landsat-missions/landsat-8).\n",
    "\n",
    "path/row 43/33 is missing one image which causes an unusually long collect period.\n",
    "\n",
    "What this means is that we don't need to look at every Landsat 8 scene collect time to find crossovers with Planet scenes. We could look at the first scene for each path/row, then look at every 16 day increment. However, we will need to account for dropped Landsat 8 scenes in some way.\n",
    "\n",
    "What is the time difference between the tiles?"
   ]
  },
  {
   "cell_type": "code",
   "execution_count": 14,
   "metadata": {},
   "outputs": [
    {
     "data": {
      "text/plain": [
       "wrs_path  wrs_row\n",
       "141       210       2017-03-02 05:55:38.435617+00:00\n",
       "          211       2017-03-02 05:56:02.318182+00:00\n",
       "dtype: datetime64[ns, UTC]"
      ]
     },
     "execution_count": 14,
     "metadata": {},
     "output_type": "execute_result"
    }
   ],
   "source": [
    "import pytz\n",
    "def find_closest(date_time, data_frame):\n",
    "    # inspired by:\n",
    "    # https://stackoverflow.com/questions/36933725/pandas-time-series-join-by-closest-time\n",
    "    \n",
    "    # add timezone to datetime object before subtracting\n",
    "    if date_time.tzinfo is None:\n",
    "        date_time = pytz.utc.localize(date_time)\n",
    "    \n",
    "    \n",
    "    time_deltas = (data_frame.index - date_time).to_series().reset_index(drop=True).abs()\n",
    "    #time_deltas = (data_frame.index - pytz.utc.localize(date_time)).to_series().reset_index(drop=True).abs()\n",
    "    #time_deltas = (data_frame.index.tz_localize(None) - date_time).to_series().reset_index(drop=True).abs()\n",
    "    idx_min = time_deltas.idxmin()\n",
    "\n",
    "    min_delta = time_deltas[idx_min]\n",
    "    return (idx_min, min_delta)\n",
    "\n",
    "def closest_time(group):\n",
    "    '''group: data frame with acquisition time as index'''\n",
    "    inquiry_date = datetime.datetime(year=2017,month=3,day=7)\n",
    "    idx, _ = find_closest(inquiry_date, group)\n",
    "    return group.index.to_series().iloc[idx]\n",
    "\n",
    "\n",
    "# for accurate results, we look at the closest time for each path/row tile to a given time\n",
    "# using just the first entry could result in a longer time gap between collects due to\n",
    "# the timing of the first entries\n",
    "\n",
    "landsat_scenes.groupby(['wrs_path', 'wrs_row']).apply(closest_time)"
   ]
  },
  {
   "cell_type": "markdown",
   "metadata": {},
   "source": [
    "So the tiles that are in the same path are very close (36sec) together from the same day. Therefore, we would want to only use one tile and pick the best image.\n",
    "\n",
    "Tiles that are in different paths are 7 days apart. Therefore, we want to keep tiles from different paths, as they represent unique crossovers."
   ]
  },
  {
   "cell_type": "markdown",
   "metadata": {},
   "source": [
    "## Investigate PSScene Images\n",
    "\n",
    "There are also quite a few PSScene images that match our query. Some of those scenes may not have much overlap with our AOI. We will want to filter those out. Also, we are interested in knowing how many unique days of coverage we have, so we will group PSScene images by collect day, since we may have days with more than one collect (due multiple PS satellites collecting imagery)."
   ]
  },
  {
   "cell_type": "code",
   "execution_count": 15,
   "metadata": {},
   "outputs": [
    {
     "name": "stdout",
     "output_type": "stream",
     "text": [
      "100\n"
     ]
    },
    {
     "data": {
      "text/html": [
       "<div>\n",
       "<style scoped>\n",
       "    .dataframe tbody tr th:only-of-type {\n",
       "        vertical-align: middle;\n",
       "    }\n",
       "\n",
       "    .dataframe tbody tr th {\n",
       "        vertical-align: top;\n",
       "    }\n",
       "\n",
       "    .dataframe thead th {\n",
       "        text-align: right;\n",
       "    }\n",
       "</style>\n",
       "<table border=\"1\" class=\"dataframe\">\n",
       "  <thead>\n",
       "    <tr style=\"text-align: right;\">\n",
       "      <th></th>\n",
       "      <th>anomalous_pixels</th>\n",
       "      <th>cloud_cover</th>\n",
       "      <th>ground_control</th>\n",
       "      <th>gsd</th>\n",
       "      <th>instrument</th>\n",
       "      <th>item_type</th>\n",
       "      <th>pixel_resolution</th>\n",
       "      <th>provider</th>\n",
       "      <th>published</th>\n",
       "      <th>publishing_stage</th>\n",
       "      <th>...</th>\n",
       "      <th>satellite_azimuth</th>\n",
       "      <th>satellite_id</th>\n",
       "      <th>strip_id</th>\n",
       "      <th>sun_azimuth</th>\n",
       "      <th>sun_elevation</th>\n",
       "      <th>updated</th>\n",
       "      <th>view_angle</th>\n",
       "      <th>thumbnail</th>\n",
       "      <th>id</th>\n",
       "      <th>footprint</th>\n",
       "    </tr>\n",
       "    <tr>\n",
       "      <th>acquired</th>\n",
       "      <th></th>\n",
       "      <th></th>\n",
       "      <th></th>\n",
       "      <th></th>\n",
       "      <th></th>\n",
       "      <th></th>\n",
       "      <th></th>\n",
       "      <th></th>\n",
       "      <th></th>\n",
       "      <th></th>\n",
       "      <th></th>\n",
       "      <th></th>\n",
       "      <th></th>\n",
       "      <th></th>\n",
       "      <th></th>\n",
       "      <th></th>\n",
       "      <th></th>\n",
       "      <th></th>\n",
       "      <th></th>\n",
       "      <th></th>\n",
       "      <th></th>\n",
       "    </tr>\n",
       "  </thead>\n",
       "  <tbody>\n",
       "    <tr>\n",
       "      <th>2017-07-11 18:05:04.155145+00:00</th>\n",
       "      <td>0.01</td>\n",
       "      <td>0.0</td>\n",
       "      <td>True</td>\n",
       "      <td>3.9</td>\n",
       "      <td>PS2</td>\n",
       "      <td>PSScene</td>\n",
       "      <td>3</td>\n",
       "      <td>planetscope</td>\n",
       "      <td>2021-02-13T03:27:25Z</td>\n",
       "      <td>finalized</td>\n",
       "      <td>...</td>\n",
       "      <td>107.7</td>\n",
       "      <td>1004</td>\n",
       "      <td>616044</td>\n",
       "      <td>112.3</td>\n",
       "      <td>58.7</td>\n",
       "      <td>2021-02-13T03:27:25Z</td>\n",
       "      <td>1.2</td>\n",
       "      <td>https://tiles.planet.com/data/v1/item-types/PS...</td>\n",
       "      <td>20170711_180504_1004</td>\n",
       "      <td>{'coordinates': [[[-121.35906151531412, 38.436...</td>\n",
       "    </tr>\n",
       "  </tbody>\n",
       "</table>\n",
       "<p>1 rows × 21 columns</p>\n",
       "</div>"
      ],
      "text/plain": [
       "                                  anomalous_pixels  cloud_cover  \\\n",
       "acquired                                                          \n",
       "2017-07-11 18:05:04.155145+00:00              0.01          0.0   \n",
       "\n",
       "                                  ground_control  gsd instrument item_type  \\\n",
       "acquired                                                                     \n",
       "2017-07-11 18:05:04.155145+00:00            True  3.9        PS2   PSScene   \n",
       "\n",
       "                                  pixel_resolution     provider  \\\n",
       "acquired                                                          \n",
       "2017-07-11 18:05:04.155145+00:00                 3  planetscope   \n",
       "\n",
       "                                             published publishing_stage  ...  \\\n",
       "acquired                                                                 ...   \n",
       "2017-07-11 18:05:04.155145+00:00  2021-02-13T03:27:25Z        finalized  ...   \n",
       "\n",
       "                                 satellite_azimuth  satellite_id strip_id  \\\n",
       "acquired                                                                    \n",
       "2017-07-11 18:05:04.155145+00:00             107.7          1004   616044   \n",
       "\n",
       "                                 sun_azimuth  sun_elevation  \\\n",
       "acquired                                                      \n",
       "2017-07-11 18:05:04.155145+00:00       112.3           58.7   \n",
       "\n",
       "                                               updated view_angle  \\\n",
       "acquired                                                            \n",
       "2017-07-11 18:05:04.155145+00:00  2021-02-13T03:27:25Z        1.2   \n",
       "\n",
       "                                                                          thumbnail  \\\n",
       "acquired                                                                              \n",
       "2017-07-11 18:05:04.155145+00:00  https://tiles.planet.com/data/v1/item-types/PS...   \n",
       "\n",
       "                                                    id  \\\n",
       "acquired                                                 \n",
       "2017-07-11 18:05:04.155145+00:00  20170711_180504_1004   \n",
       "\n",
       "                                                                          footprint  \n",
       "acquired                                                                             \n",
       "2017-07-11 18:05:04.155145+00:00  {'coordinates': [[[-121.35906151531412, 38.436...  \n",
       "\n",
       "[1 rows x 21 columns]"
      ]
     },
     "execution_count": 15,
     "metadata": {},
     "output_type": "execute_result"
    }
   ],
   "source": [
    "all_ps_scenes = items_to_scenes(ps_list)\n",
    "\n",
    "# How many PS scenes match query?\n",
    "print(len(all_ps_scenes))\n",
    "all_ps_scenes[:1]"
   ]
  },
  {
   "cell_type": "markdown",
   "metadata": {},
   "source": [
    "What about overlap? We really only want images that overlap over 20% of the AOI.\n",
    "\n",
    "Note: we do this calculation in WGS84, the geographic coordinate system supported by geojson. The calculation of coverage expects that the geometries entered are 2D, which WGS84 is not. This will cause a small inaccuracy in the coverage area calculation, but not enough to bother us here."
   ]
  },
  {
   "cell_type": "code",
   "execution_count": 16,
   "metadata": {},
   "outputs": [
    {
     "data": {
      "text/html": [
       "<div>\n",
       "<style scoped>\n",
       "    .dataframe tbody tr th:only-of-type {\n",
       "        vertical-align: middle;\n",
       "    }\n",
       "\n",
       "    .dataframe tbody tr th {\n",
       "        vertical-align: top;\n",
       "    }\n",
       "\n",
       "    .dataframe thead th {\n",
       "        text-align: right;\n",
       "    }\n",
       "</style>\n",
       "<table border=\"1\" class=\"dataframe\">\n",
       "  <thead>\n",
       "    <tr style=\"text-align: right;\">\n",
       "      <th></th>\n",
       "      <th>anomalous_pixels</th>\n",
       "      <th>cloud_cover</th>\n",
       "      <th>ground_control</th>\n",
       "      <th>gsd</th>\n",
       "      <th>instrument</th>\n",
       "      <th>item_type</th>\n",
       "      <th>pixel_resolution</th>\n",
       "      <th>provider</th>\n",
       "      <th>published</th>\n",
       "      <th>publishing_stage</th>\n",
       "      <th>...</th>\n",
       "      <th>satellite_id</th>\n",
       "      <th>strip_id</th>\n",
       "      <th>sun_azimuth</th>\n",
       "      <th>sun_elevation</th>\n",
       "      <th>updated</th>\n",
       "      <th>view_angle</th>\n",
       "      <th>thumbnail</th>\n",
       "      <th>id</th>\n",
       "      <th>footprint</th>\n",
       "      <th>overlap_percent</th>\n",
       "    </tr>\n",
       "    <tr>\n",
       "      <th>acquired</th>\n",
       "      <th></th>\n",
       "      <th></th>\n",
       "      <th></th>\n",
       "      <th></th>\n",
       "      <th></th>\n",
       "      <th></th>\n",
       "      <th></th>\n",
       "      <th></th>\n",
       "      <th></th>\n",
       "      <th></th>\n",
       "      <th></th>\n",
       "      <th></th>\n",
       "      <th></th>\n",
       "      <th></th>\n",
       "      <th></th>\n",
       "      <th></th>\n",
       "      <th></th>\n",
       "      <th></th>\n",
       "      <th></th>\n",
       "      <th></th>\n",
       "      <th></th>\n",
       "    </tr>\n",
       "  </thead>\n",
       "  <tbody>\n",
       "    <tr>\n",
       "      <th>2017-07-11 18:05:04.155145+00:00</th>\n",
       "      <td>0.01</td>\n",
       "      <td>0.0</td>\n",
       "      <td>True</td>\n",
       "      <td>3.9</td>\n",
       "      <td>PS2</td>\n",
       "      <td>PSScene</td>\n",
       "      <td>3</td>\n",
       "      <td>planetscope</td>\n",
       "      <td>2021-02-13T03:27:25Z</td>\n",
       "      <td>finalized</td>\n",
       "      <td>...</td>\n",
       "      <td>1004</td>\n",
       "      <td>616044</td>\n",
       "      <td>112.3</td>\n",
       "      <td>58.7</td>\n",
       "      <td>2021-02-13T03:27:25Z</td>\n",
       "      <td>1.2</td>\n",
       "      <td>https://tiles.planet.com/data/v1/item-types/PS...</td>\n",
       "      <td>20170711_180504_1004</td>\n",
       "      <td>{'coordinates': [[[-121.35906151531412, 38.436...</td>\n",
       "      <td>0.045713</td>\n",
       "    </tr>\n",
       "    <tr>\n",
       "      <th>2017-07-11 18:05:06.259145+00:00</th>\n",
       "      <td>0.01</td>\n",
       "      <td>0.0</td>\n",
       "      <td>True</td>\n",
       "      <td>3.9</td>\n",
       "      <td>PS2</td>\n",
       "      <td>PSScene</td>\n",
       "      <td>3</td>\n",
       "      <td>planetscope</td>\n",
       "      <td>2021-02-13T03:27:23Z</td>\n",
       "      <td>finalized</td>\n",
       "      <td>...</td>\n",
       "      <td>1004</td>\n",
       "      <td>616044</td>\n",
       "      <td>112.1</td>\n",
       "      <td>58.7</td>\n",
       "      <td>2021-02-13T03:27:23Z</td>\n",
       "      <td>1.2</td>\n",
       "      <td>https://tiles.planet.com/data/v1/item-types/PS...</td>\n",
       "      <td>20170711_180506_1004</td>\n",
       "      <td>{'coordinates': [[[-121.39749625848998, 38.304...</td>\n",
       "      <td>0.000031</td>\n",
       "    </tr>\n",
       "    <tr>\n",
       "      <th>2017-07-12 18:06:29.181869+00:00</th>\n",
       "      <td>0.01</td>\n",
       "      <td>0.0</td>\n",
       "      <td>True</td>\n",
       "      <td>3.9</td>\n",
       "      <td>PS2</td>\n",
       "      <td>PSScene</td>\n",
       "      <td>3</td>\n",
       "      <td>planetscope</td>\n",
       "      <td>2021-02-13T03:55:05Z</td>\n",
       "      <td>finalized</td>\n",
       "      <td>...</td>\n",
       "      <td>1033</td>\n",
       "      <td>619625</td>\n",
       "      <td>112.6</td>\n",
       "      <td>58.5</td>\n",
       "      <td>2021-02-13T03:55:05Z</td>\n",
       "      <td>2.6</td>\n",
       "      <td>https://tiles.planet.com/data/v1/item-types/PS...</td>\n",
       "      <td>20170712_180629_1033</td>\n",
       "      <td>{'coordinates': [[[-121.37369937311475, 38.419...</td>\n",
       "      <td>0.372850</td>\n",
       "    </tr>\n",
       "    <tr>\n",
       "      <th>2017-07-12 18:06:30.225784+00:00</th>\n",
       "      <td>0.01</td>\n",
       "      <td>0.0</td>\n",
       "      <td>True</td>\n",
       "      <td>3.9</td>\n",
       "      <td>PS2</td>\n",
       "      <td>PSScene</td>\n",
       "      <td>3</td>\n",
       "      <td>planetscope</td>\n",
       "      <td>2021-02-13T03:55:08Z</td>\n",
       "      <td>finalized</td>\n",
       "      <td>...</td>\n",
       "      <td>1033</td>\n",
       "      <td>619625</td>\n",
       "      <td>112.5</td>\n",
       "      <td>58.6</td>\n",
       "      <td>2021-02-13T03:55:08Z</td>\n",
       "      <td>2.5</td>\n",
       "      <td>https://tiles.planet.com/data/v1/item-types/PS...</td>\n",
       "      <td>20170712_180630_1033</td>\n",
       "      <td>{'coordinates': [[[-121.39260264240319, 38.354...</td>\n",
       "      <td>0.772277</td>\n",
       "    </tr>\n",
       "    <tr>\n",
       "      <th>2017-07-13 18:06:17.048410+00:00</th>\n",
       "      <td>0.01</td>\n",
       "      <td>0.0</td>\n",
       "      <td>True</td>\n",
       "      <td>3.9</td>\n",
       "      <td>PS2</td>\n",
       "      <td>PSScene</td>\n",
       "      <td>3</td>\n",
       "      <td>planetscope</td>\n",
       "      <td>2021-02-13T04:53:03Z</td>\n",
       "      <td>finalized</td>\n",
       "      <td>...</td>\n",
       "      <td>1003</td>\n",
       "      <td>621263</td>\n",
       "      <td>112.7</td>\n",
       "      <td>58.4</td>\n",
       "      <td>2021-02-13T04:53:03Z</td>\n",
       "      <td>3.2</td>\n",
       "      <td>https://tiles.planet.com/data/v1/item-types/PS...</td>\n",
       "      <td>20170713_180617_1003</td>\n",
       "      <td>{'coordinates': [[[-121.27662044116802, 38.387...</td>\n",
       "      <td>0.509247</td>\n",
       "    </tr>\n",
       "  </tbody>\n",
       "</table>\n",
       "<p>5 rows × 22 columns</p>\n",
       "</div>"
      ],
      "text/plain": [
       "                                  anomalous_pixels  cloud_cover  \\\n",
       "acquired                                                          \n",
       "2017-07-11 18:05:04.155145+00:00              0.01          0.0   \n",
       "2017-07-11 18:05:06.259145+00:00              0.01          0.0   \n",
       "2017-07-12 18:06:29.181869+00:00              0.01          0.0   \n",
       "2017-07-12 18:06:30.225784+00:00              0.01          0.0   \n",
       "2017-07-13 18:06:17.048410+00:00              0.01          0.0   \n",
       "\n",
       "                                  ground_control  gsd instrument item_type  \\\n",
       "acquired                                                                     \n",
       "2017-07-11 18:05:04.155145+00:00            True  3.9        PS2   PSScene   \n",
       "2017-07-11 18:05:06.259145+00:00            True  3.9        PS2   PSScene   \n",
       "2017-07-12 18:06:29.181869+00:00            True  3.9        PS2   PSScene   \n",
       "2017-07-12 18:06:30.225784+00:00            True  3.9        PS2   PSScene   \n",
       "2017-07-13 18:06:17.048410+00:00            True  3.9        PS2   PSScene   \n",
       "\n",
       "                                  pixel_resolution     provider  \\\n",
       "acquired                                                          \n",
       "2017-07-11 18:05:04.155145+00:00                 3  planetscope   \n",
       "2017-07-11 18:05:06.259145+00:00                 3  planetscope   \n",
       "2017-07-12 18:06:29.181869+00:00                 3  planetscope   \n",
       "2017-07-12 18:06:30.225784+00:00                 3  planetscope   \n",
       "2017-07-13 18:06:17.048410+00:00                 3  planetscope   \n",
       "\n",
       "                                             published publishing_stage  ...  \\\n",
       "acquired                                                                 ...   \n",
       "2017-07-11 18:05:04.155145+00:00  2021-02-13T03:27:25Z        finalized  ...   \n",
       "2017-07-11 18:05:06.259145+00:00  2021-02-13T03:27:23Z        finalized  ...   \n",
       "2017-07-12 18:06:29.181869+00:00  2021-02-13T03:55:05Z        finalized  ...   \n",
       "2017-07-12 18:06:30.225784+00:00  2021-02-13T03:55:08Z        finalized  ...   \n",
       "2017-07-13 18:06:17.048410+00:00  2021-02-13T04:53:03Z        finalized  ...   \n",
       "\n",
       "                                 satellite_id  strip_id sun_azimuth  \\\n",
       "acquired                                                              \n",
       "2017-07-11 18:05:04.155145+00:00         1004    616044       112.3   \n",
       "2017-07-11 18:05:06.259145+00:00         1004    616044       112.1   \n",
       "2017-07-12 18:06:29.181869+00:00         1033    619625       112.6   \n",
       "2017-07-12 18:06:30.225784+00:00         1033    619625       112.5   \n",
       "2017-07-13 18:06:17.048410+00:00         1003    621263       112.7   \n",
       "\n",
       "                                 sun_elevation               updated  \\\n",
       "acquired                                                               \n",
       "2017-07-11 18:05:04.155145+00:00          58.7  2021-02-13T03:27:25Z   \n",
       "2017-07-11 18:05:06.259145+00:00          58.7  2021-02-13T03:27:23Z   \n",
       "2017-07-12 18:06:29.181869+00:00          58.5  2021-02-13T03:55:05Z   \n",
       "2017-07-12 18:06:30.225784+00:00          58.6  2021-02-13T03:55:08Z   \n",
       "2017-07-13 18:06:17.048410+00:00          58.4  2021-02-13T04:53:03Z   \n",
       "\n",
       "                                  view_angle  \\\n",
       "acquired                                       \n",
       "2017-07-11 18:05:04.155145+00:00         1.2   \n",
       "2017-07-11 18:05:06.259145+00:00         1.2   \n",
       "2017-07-12 18:06:29.181869+00:00         2.6   \n",
       "2017-07-12 18:06:30.225784+00:00         2.5   \n",
       "2017-07-13 18:06:17.048410+00:00         3.2   \n",
       "\n",
       "                                                                          thumbnail  \\\n",
       "acquired                                                                              \n",
       "2017-07-11 18:05:04.155145+00:00  https://tiles.planet.com/data/v1/item-types/PS...   \n",
       "2017-07-11 18:05:06.259145+00:00  https://tiles.planet.com/data/v1/item-types/PS...   \n",
       "2017-07-12 18:06:29.181869+00:00  https://tiles.planet.com/data/v1/item-types/PS...   \n",
       "2017-07-12 18:06:30.225784+00:00  https://tiles.planet.com/data/v1/item-types/PS...   \n",
       "2017-07-13 18:06:17.048410+00:00  https://tiles.planet.com/data/v1/item-types/PS...   \n",
       "\n",
       "                                                    id  \\\n",
       "acquired                                                 \n",
       "2017-07-11 18:05:04.155145+00:00  20170711_180504_1004   \n",
       "2017-07-11 18:05:06.259145+00:00  20170711_180506_1004   \n",
       "2017-07-12 18:06:29.181869+00:00  20170712_180629_1033   \n",
       "2017-07-12 18:06:30.225784+00:00  20170712_180630_1033   \n",
       "2017-07-13 18:06:17.048410+00:00  20170713_180617_1003   \n",
       "\n",
       "                                                                          footprint  \\\n",
       "acquired                                                                              \n",
       "2017-07-11 18:05:04.155145+00:00  {'coordinates': [[[-121.35906151531412, 38.436...   \n",
       "2017-07-11 18:05:06.259145+00:00  {'coordinates': [[[-121.39749625848998, 38.304...   \n",
       "2017-07-12 18:06:29.181869+00:00  {'coordinates': [[[-121.37369937311475, 38.419...   \n",
       "2017-07-12 18:06:30.225784+00:00  {'coordinates': [[[-121.39260264240319, 38.354...   \n",
       "2017-07-13 18:06:17.048410+00:00  {'coordinates': [[[-121.27662044116802, 38.387...   \n",
       "\n",
       "                                 overlap_percent  \n",
       "acquired                                          \n",
       "2017-07-11 18:05:04.155145+00:00        0.045713  \n",
       "2017-07-11 18:05:06.259145+00:00        0.000031  \n",
       "2017-07-12 18:06:29.181869+00:00        0.372850  \n",
       "2017-07-12 18:06:30.225784+00:00        0.772277  \n",
       "2017-07-13 18:06:17.048410+00:00        0.509247  \n",
       "\n",
       "[5 rows x 22 columns]"
      ]
     },
     "execution_count": 16,
     "metadata": {},
     "output_type": "execute_result"
    }
   ],
   "source": [
    "def aoi_overlap_percent(footprint, aoi):\n",
    "    aoi_shape = sgeom.shape(aoi)\n",
    "    footprint_shape = sgeom.shape(footprint)\n",
    "    overlap = aoi_shape.intersection(footprint_shape)\n",
    "    return overlap.area / aoi_shape.area\n",
    "\n",
    "overlap_percent = all_ps_scenes.footprint.apply(aoi_overlap_percent, args=(aoi,))\n",
    "all_ps_scenes = all_ps_scenes.assign(overlap_percent = overlap_percent)\n",
    "all_ps_scenes.head()"
   ]
  },
  {
   "cell_type": "code",
   "execution_count": 17,
   "metadata": {},
   "outputs": [
    {
     "name": "stdout",
     "output_type": "stream",
     "text": [
      "100\n",
      "68\n"
     ]
    }
   ],
   "source": [
    "print(len(all_ps_scenes))\n",
    "ps_scenes = all_ps_scenes[all_ps_scenes.overlap_percent > 0.20]\n",
    "print(len(ps_scenes))"
   ]
  },
  {
   "cell_type": "markdown",
   "metadata": {},
   "source": [
    "Ideally, PS scenes have daily coverage over all regions. How many days have PS coverage and how many PS scenes were taken on the same day?"
   ]
  },
  {
   "cell_type": "code",
   "execution_count": 18,
   "metadata": {},
   "outputs": [],
   "source": [
    "# ps_scenes.index.to_series().head()\n",
    "# ps_scenes.filter(items=['id']).groupby(pd.Grouper(freq='D')).agg('count')"
   ]
  },
  {
   "cell_type": "code",
   "execution_count": 19,
   "metadata": {},
   "outputs": [],
   "source": [
    "# Use PS acquisition year, month, and day as index and group by those indices\n",
    "# https://stackoverflow.com/questions/14646336/pandas-grouping-intra-day-timeseries-by-date\n",
    "daily_ps_scenes = ps_scenes.index.to_series().groupby([ps_scenes.index.year,\n",
    "                                                       ps_scenes.index.month,\n",
    "                                                       ps_scenes.index.day])"
   ]
  },
  {
   "cell_type": "code",
   "execution_count": 20,
   "metadata": {},
   "outputs": [
    {
     "name": "stdout",
     "output_type": "stream",
     "text": [
      "Out of 26 days of coverage, 21 days have multiple collects.\n"
     ]
    },
    {
     "data": {
      "text/plain": [
       "y     m  d \n",
       "2017  7  12    2\n",
       "         13    6\n",
       "         16    2\n",
       "         17    3\n",
       "         18    2\n",
       "Name: acquired, dtype: int64"
      ]
     },
     "execution_count": 20,
     "metadata": {},
     "output_type": "execute_result"
    }
   ],
   "source": [
    "daily_count = daily_ps_scenes.agg('count')\n",
    "daily_count.index.names = ['y', 'm', 'd']\n",
    "\n",
    "# How many days is the count greater than 1?\n",
    "daily_multiple_count = daily_count[daily_count > 1]\n",
    "\n",
    "print('Out of {} days of coverage, {} days have multiple collects.'.format( \\\n",
    "    len(daily_count), len(daily_multiple_count)))\n",
    "\n",
    "daily_multiple_count.head()"
   ]
  },
  {
   "cell_type": "code",
   "execution_count": 21,
   "metadata": {},
   "outputs": [
    {
     "data": {
      "text/html": [
       "<div>\n",
       "<style scoped>\n",
       "    .dataframe tbody tr th:only-of-type {\n",
       "        vertical-align: middle;\n",
       "    }\n",
       "\n",
       "    .dataframe tbody tr th {\n",
       "        vertical-align: top;\n",
       "    }\n",
       "\n",
       "    .dataframe thead th {\n",
       "        text-align: right;\n",
       "    }\n",
       "</style>\n",
       "<table border=\"1\" class=\"dataframe\">\n",
       "  <thead>\n",
       "    <tr style=\"text-align: right;\">\n",
       "      <th></th>\n",
       "      <th></th>\n",
       "      <th></th>\n",
       "      <th></th>\n",
       "      <th>count</th>\n",
       "      <th>acquisition_time</th>\n",
       "    </tr>\n",
       "    <tr>\n",
       "      <th>y</th>\n",
       "      <th>m</th>\n",
       "      <th>d</th>\n",
       "      <th>num</th>\n",
       "      <th></th>\n",
       "      <th></th>\n",
       "    </tr>\n",
       "  </thead>\n",
       "  <tbody>\n",
       "    <tr>\n",
       "      <th rowspan=\"38\" valign=\"top\">2017</th>\n",
       "      <th rowspan=\"38\" valign=\"top\">7</th>\n",
       "      <th rowspan=\"2\" valign=\"top\">12</th>\n",
       "      <th>0</th>\n",
       "      <td>2</td>\n",
       "      <td>2017-07-12 18:06:29.181869+00:00</td>\n",
       "    </tr>\n",
       "    <tr>\n",
       "      <th>1</th>\n",
       "      <td>2</td>\n",
       "      <td>2017-07-12 18:06:30.225784+00:00</td>\n",
       "    </tr>\n",
       "    <tr>\n",
       "      <th rowspan=\"6\" valign=\"top\">13</th>\n",
       "      <th>0</th>\n",
       "      <td>6</td>\n",
       "      <td>2017-07-13 18:06:17.048410+00:00</td>\n",
       "    </tr>\n",
       "    <tr>\n",
       "      <th>1</th>\n",
       "      <td>6</td>\n",
       "      <td>2017-07-13 18:06:18.100410+00:00</td>\n",
       "    </tr>\n",
       "    <tr>\n",
       "      <th>2</th>\n",
       "      <td>6</td>\n",
       "      <td>2017-07-13 18:07:40.302462+00:00</td>\n",
       "    </tr>\n",
       "    <tr>\n",
       "      <th>3</th>\n",
       "      <td>6</td>\n",
       "      <td>2017-07-13 18:07:41.338462+00:00</td>\n",
       "    </tr>\n",
       "    <tr>\n",
       "      <th>4</th>\n",
       "      <td>6</td>\n",
       "      <td>2017-07-13 18:07:49.840306+00:00</td>\n",
       "    </tr>\n",
       "    <tr>\n",
       "      <th>5</th>\n",
       "      <td>6</td>\n",
       "      <td>2017-07-13 18:07:50.882306+00:00</td>\n",
       "    </tr>\n",
       "    <tr>\n",
       "      <th rowspan=\"2\" valign=\"top\">16</th>\n",
       "      <th>0</th>\n",
       "      <td>2</td>\n",
       "      <td>2017-07-16 18:06:32.406464+00:00</td>\n",
       "    </tr>\n",
       "    <tr>\n",
       "      <th>1</th>\n",
       "      <td>2</td>\n",
       "      <td>2017-07-16 18:06:33.449464+00:00</td>\n",
       "    </tr>\n",
       "    <tr>\n",
       "      <th rowspan=\"3\" valign=\"top\">17</th>\n",
       "      <th>0</th>\n",
       "      <td>3</td>\n",
       "      <td>2017-07-17 18:05:41.353902+00:00</td>\n",
       "    </tr>\n",
       "    <tr>\n",
       "      <th>1</th>\n",
       "      <td>3</td>\n",
       "      <td>2017-07-17 18:07:58.214699+00:00</td>\n",
       "    </tr>\n",
       "    <tr>\n",
       "      <th>2</th>\n",
       "      <td>3</td>\n",
       "      <td>2017-07-17 18:07:59.266699+00:00</td>\n",
       "    </tr>\n",
       "    <tr>\n",
       "      <th rowspan=\"2\" valign=\"top\">18</th>\n",
       "      <th>0</th>\n",
       "      <td>2</td>\n",
       "      <td>2017-07-18 18:12:51.958982+00:00</td>\n",
       "    </tr>\n",
       "    <tr>\n",
       "      <th>1</th>\n",
       "      <td>2</td>\n",
       "      <td>2017-07-18 18:12:53.022982+00:00</td>\n",
       "    </tr>\n",
       "    <tr>\n",
       "      <th rowspan=\"3\" valign=\"top\">20</th>\n",
       "      <th>0</th>\n",
       "      <td>3</td>\n",
       "      <td>2017-07-20 18:06:20.855891+00:00</td>\n",
       "    </tr>\n",
       "    <tr>\n",
       "      <th>1</th>\n",
       "      <td>3</td>\n",
       "      <td>2017-07-20 18:06:51.308177+00:00</td>\n",
       "    </tr>\n",
       "    <tr>\n",
       "      <th>2</th>\n",
       "      <td>3</td>\n",
       "      <td>2017-07-20 18:06:52.367405+00:00</td>\n",
       "    </tr>\n",
       "    <tr>\n",
       "      <th rowspan=\"2\" valign=\"top\">21</th>\n",
       "      <th>0</th>\n",
       "      <td>2</td>\n",
       "      <td>2017-07-21 18:06:25.235750+00:00</td>\n",
       "    </tr>\n",
       "    <tr>\n",
       "      <th>1</th>\n",
       "      <td>2</td>\n",
       "      <td>2017-07-21 18:06:26.287145+00:00</td>\n",
       "    </tr>\n",
       "    <tr>\n",
       "      <th rowspan=\"2\" valign=\"top\">25</th>\n",
       "      <th>0</th>\n",
       "      <td>2</td>\n",
       "      <td>2017-07-25 18:06:03.194477+00:00</td>\n",
       "    </tr>\n",
       "    <tr>\n",
       "      <th>1</th>\n",
       "      <td>2</td>\n",
       "      <td>2017-07-25 18:06:04.230011+00:00</td>\n",
       "    </tr>\n",
       "    <tr>\n",
       "      <th rowspan=\"4\" valign=\"top\">26</th>\n",
       "      <th>0</th>\n",
       "      <td>4</td>\n",
       "      <td>2017-07-26 18:06:39.940367+00:00</td>\n",
       "    </tr>\n",
       "    <tr>\n",
       "      <th>1</th>\n",
       "      <td>4</td>\n",
       "      <td>2017-07-26 18:06:40.991971+00:00</td>\n",
       "    </tr>\n",
       "    <tr>\n",
       "      <th>2</th>\n",
       "      <td>4</td>\n",
       "      <td>2017-07-26 18:09:11.120062+00:00</td>\n",
       "    </tr>\n",
       "    <tr>\n",
       "      <th>3</th>\n",
       "      <td>4</td>\n",
       "      <td>2017-07-26 18:09:12.176802+00:00</td>\n",
       "    </tr>\n",
       "    <tr>\n",
       "      <th rowspan=\"4\" valign=\"top\">27</th>\n",
       "      <th>0</th>\n",
       "      <td>4</td>\n",
       "      <td>2017-07-27 18:06:40.586389+00:00</td>\n",
       "    </tr>\n",
       "    <tr>\n",
       "      <th>1</th>\n",
       "      <td>4</td>\n",
       "      <td>2017-07-27 18:06:41.638778+00:00</td>\n",
       "    </tr>\n",
       "    <tr>\n",
       "      <th>2</th>\n",
       "      <td>4</td>\n",
       "      <td>2017-07-27 18:07:32.145195+00:00</td>\n",
       "    </tr>\n",
       "    <tr>\n",
       "      <th>3</th>\n",
       "      <td>4</td>\n",
       "      <td>2017-07-27 18:07:33.205533+00:00</td>\n",
       "    </tr>\n",
       "    <tr>\n",
       "      <th rowspan=\"4\" valign=\"top\">28</th>\n",
       "      <th>0</th>\n",
       "      <td>4</td>\n",
       "      <td>2017-07-28 18:06:58.513592+00:00</td>\n",
       "    </tr>\n",
       "    <tr>\n",
       "      <th>1</th>\n",
       "      <td>4</td>\n",
       "      <td>2017-07-28 18:06:59.551114+00:00</td>\n",
       "    </tr>\n",
       "    <tr>\n",
       "      <th>2</th>\n",
       "      <td>4</td>\n",
       "      <td>2017-07-28 18:07:50.843765+00:00</td>\n",
       "    </tr>\n",
       "    <tr>\n",
       "      <th>3</th>\n",
       "      <td>4</td>\n",
       "      <td>2017-07-28 18:07:51.902431+00:00</td>\n",
       "    </tr>\n",
       "    <tr>\n",
       "      <th rowspan=\"2\" valign=\"top\">29</th>\n",
       "      <th>0</th>\n",
       "      <td>2</td>\n",
       "      <td>2017-07-29 18:06:42.712533+00:00</td>\n",
       "    </tr>\n",
       "    <tr>\n",
       "      <th>1</th>\n",
       "      <td>2</td>\n",
       "      <td>2017-07-29 18:06:43.755733+00:00</td>\n",
       "    </tr>\n",
       "    <tr>\n",
       "      <th rowspan=\"2\" valign=\"top\">31</th>\n",
       "      <th>0</th>\n",
       "      <td>2</td>\n",
       "      <td>2017-07-31 18:05:16.666047+00:00</td>\n",
       "    </tr>\n",
       "    <tr>\n",
       "      <th>1</th>\n",
       "      <td>2</td>\n",
       "      <td>2017-07-31 18:05:17.718314+00:00</td>\n",
       "    </tr>\n",
       "  </tbody>\n",
       "</table>\n",
       "</div>"
      ],
      "text/plain": [
       "               count                 acquisition_time\n",
       "y    m d  num                                        \n",
       "2017 7 12 0        2 2017-07-12 18:06:29.181869+00:00\n",
       "          1        2 2017-07-12 18:06:30.225784+00:00\n",
       "       13 0        6 2017-07-13 18:06:17.048410+00:00\n",
       "          1        6 2017-07-13 18:06:18.100410+00:00\n",
       "          2        6 2017-07-13 18:07:40.302462+00:00\n",
       "          3        6 2017-07-13 18:07:41.338462+00:00\n",
       "          4        6 2017-07-13 18:07:49.840306+00:00\n",
       "          5        6 2017-07-13 18:07:50.882306+00:00\n",
       "       16 0        2 2017-07-16 18:06:32.406464+00:00\n",
       "          1        2 2017-07-16 18:06:33.449464+00:00\n",
       "       17 0        3 2017-07-17 18:05:41.353902+00:00\n",
       "          1        3 2017-07-17 18:07:58.214699+00:00\n",
       "          2        3 2017-07-17 18:07:59.266699+00:00\n",
       "       18 0        2 2017-07-18 18:12:51.958982+00:00\n",
       "          1        2 2017-07-18 18:12:53.022982+00:00\n",
       "       20 0        3 2017-07-20 18:06:20.855891+00:00\n",
       "          1        3 2017-07-20 18:06:51.308177+00:00\n",
       "          2        3 2017-07-20 18:06:52.367405+00:00\n",
       "       21 0        2 2017-07-21 18:06:25.235750+00:00\n",
       "          1        2 2017-07-21 18:06:26.287145+00:00\n",
       "       25 0        2 2017-07-25 18:06:03.194477+00:00\n",
       "          1        2 2017-07-25 18:06:04.230011+00:00\n",
       "       26 0        4 2017-07-26 18:06:39.940367+00:00\n",
       "          1        4 2017-07-26 18:06:40.991971+00:00\n",
       "          2        4 2017-07-26 18:09:11.120062+00:00\n",
       "          3        4 2017-07-26 18:09:12.176802+00:00\n",
       "       27 0        4 2017-07-27 18:06:40.586389+00:00\n",
       "          1        4 2017-07-27 18:06:41.638778+00:00\n",
       "          2        4 2017-07-27 18:07:32.145195+00:00\n",
       "          3        4 2017-07-27 18:07:33.205533+00:00\n",
       "       28 0        4 2017-07-28 18:06:58.513592+00:00\n",
       "          1        4 2017-07-28 18:06:59.551114+00:00\n",
       "          2        4 2017-07-28 18:07:50.843765+00:00\n",
       "          3        4 2017-07-28 18:07:51.902431+00:00\n",
       "       29 0        2 2017-07-29 18:06:42.712533+00:00\n",
       "          1        2 2017-07-29 18:06:43.755733+00:00\n",
       "       31 0        2 2017-07-31 18:05:16.666047+00:00\n",
       "          1        2 2017-07-31 18:05:17.718314+00:00"
      ]
     },
     "execution_count": 21,
     "metadata": {},
     "output_type": "execute_result"
    }
   ],
   "source": [
    "def scenes_and_count(group):\n",
    "    entry = {'count': len(group),\n",
    "             'acquisition_time': group.index.tolist()}\n",
    "    return pd.DataFrame(entry)\n",
    "\n",
    "daily_count_and_scenes = daily_ps_scenes.apply(scenes_and_count)\n",
    "# need to rename indices because right now multiple are called 'acquired', which\n",
    "# causes a bug when we try to run the query\n",
    "daily_count_and_scenes.index.names = ['y', 'm', 'd', 'num']\n",
    "\n",
    "multiplecoverage = daily_count_and_scenes.query('count > 1')\n",
    "\n",
    "multiplecoverage.query('m == 7')  # look at just occurrence in July"
   ]
  },
  {
   "cell_type": "markdown",
   "metadata": {},
   "source": [
    "Looks like the multiple collects on the same day are just a few minutes apart. They are likely crossovers between different PS satellites. Cool! Since we only want to us one PS image for a crossover, we will chose the best collect for days with multiple collects."
   ]
  },
  {
   "cell_type": "markdown",
   "metadata": {},
   "source": [
    "## Find Crossovers\n",
    "\n",
    "Now that we have the PSScene filtered to what we want and have investigated the Landsat 8 scenes, let's look for crossovers between the two.\n",
    "\n",
    "First we find concurrent crossovers, PS and Landsat collects that occur within 48hours of each other."
   ]
  },
  {
   "cell_type": "code",
   "execution_count": 30,
   "metadata": {},
   "outputs": [
    {
     "name": "stdout",
     "output_type": "stream",
     "text": [
      "20\n"
     ]
    },
    {
     "data": {
      "text/html": [
       "<div>\n",
       "<style scoped>\n",
       "    .dataframe tbody tr th:only-of-type {\n",
       "        vertical-align: middle;\n",
       "    }\n",
       "\n",
       "    .dataframe tbody tr th {\n",
       "        vertical-align: top;\n",
       "    }\n",
       "\n",
       "    .dataframe thead th {\n",
       "        text-align: right;\n",
       "    }\n",
       "</style>\n",
       "<table border=\"1\" class=\"dataframe\">\n",
       "  <thead>\n",
       "    <tr style=\"text-align: right;\">\n",
       "      <th></th>\n",
       "      <th>landsat_acquisition</th>\n",
       "      <th>delta</th>\n",
       "    </tr>\n",
       "    <tr>\n",
       "      <th>acquired</th>\n",
       "      <th></th>\n",
       "      <th></th>\n",
       "    </tr>\n",
       "  </thead>\n",
       "  <tbody>\n",
       "    <tr>\n",
       "      <th>2017-07-11 18:05:04.155145+00:00</th>\n",
       "      <td>2017-04-19 05:55:36.338299+00:00</td>\n",
       "      <td>83 days 12:09:27.816846</td>\n",
       "    </tr>\n",
       "    <tr>\n",
       "      <th>2017-07-11 18:05:06.259145+00:00</th>\n",
       "      <td>2017-04-19 05:55:36.338299+00:00</td>\n",
       "      <td>83 days 12:09:29.920846</td>\n",
       "    </tr>\n",
       "    <tr>\n",
       "      <th>2017-07-12 18:06:29.181869+00:00</th>\n",
       "      <td>2017-04-19 05:55:36.338299+00:00</td>\n",
       "      <td>84 days 12:10:52.843570</td>\n",
       "    </tr>\n",
       "    <tr>\n",
       "      <th>2017-07-12 18:06:30.225784+00:00</th>\n",
       "      <td>2017-04-19 05:55:36.338299+00:00</td>\n",
       "      <td>84 days 12:10:53.887485</td>\n",
       "    </tr>\n",
       "    <tr>\n",
       "      <th>2017-07-13 18:06:17.048410+00:00</th>\n",
       "      <td>2017-04-19 05:55:36.338299+00:00</td>\n",
       "      <td>85 days 12:10:40.710111</td>\n",
       "    </tr>\n",
       "    <tr>\n",
       "      <th>2017-07-13 18:06:18.100410+00:00</th>\n",
       "      <td>2017-04-19 05:55:36.338299+00:00</td>\n",
       "      <td>85 days 12:10:41.762111</td>\n",
       "    </tr>\n",
       "    <tr>\n",
       "      <th>2017-07-13 18:07:40.302462+00:00</th>\n",
       "      <td>2017-04-19 05:55:36.338299+00:00</td>\n",
       "      <td>85 days 12:12:03.964163</td>\n",
       "    </tr>\n",
       "    <tr>\n",
       "      <th>2017-07-13 18:07:41.338462+00:00</th>\n",
       "      <td>2017-04-19 05:55:36.338299+00:00</td>\n",
       "      <td>85 days 12:12:05.000163</td>\n",
       "    </tr>\n",
       "    <tr>\n",
       "      <th>2017-07-13 18:07:49.840306+00:00</th>\n",
       "      <td>2017-04-19 05:55:36.338299+00:00</td>\n",
       "      <td>85 days 12:12:13.502007</td>\n",
       "    </tr>\n",
       "    <tr>\n",
       "      <th>2017-07-13 18:07:50.882306+00:00</th>\n",
       "      <td>2017-04-19 05:55:36.338299+00:00</td>\n",
       "      <td>85 days 12:12:14.544007</td>\n",
       "    </tr>\n",
       "    <tr>\n",
       "      <th>2017-07-14 18:04:47.799767+00:00</th>\n",
       "      <td>2017-04-19 05:55:36.338299+00:00</td>\n",
       "      <td>86 days 12:09:11.461468</td>\n",
       "    </tr>\n",
       "    <tr>\n",
       "      <th>2017-07-14 18:04:48.852767+00:00</th>\n",
       "      <td>2017-04-19 05:55:36.338299+00:00</td>\n",
       "      <td>86 days 12:09:12.514468</td>\n",
       "    </tr>\n",
       "    <tr>\n",
       "      <th>2017-07-15 18:06:50.948264+00:00</th>\n",
       "      <td>2017-04-19 05:55:36.338299+00:00</td>\n",
       "      <td>87 days 12:11:14.609965</td>\n",
       "    </tr>\n",
       "    <tr>\n",
       "      <th>2017-07-15 18:06:51.999264+00:00</th>\n",
       "      <td>2017-04-19 05:55:36.338299+00:00</td>\n",
       "      <td>87 days 12:11:15.660965</td>\n",
       "    </tr>\n",
       "    <tr>\n",
       "      <th>2017-07-16 18:06:32.406464+00:00</th>\n",
       "      <td>2017-04-19 05:55:36.338299+00:00</td>\n",
       "      <td>88 days 12:10:56.068165</td>\n",
       "    </tr>\n",
       "    <tr>\n",
       "      <th>2017-07-16 18:06:33.449464+00:00</th>\n",
       "      <td>2017-04-19 05:55:36.338299+00:00</td>\n",
       "      <td>88 days 12:10:57.111165</td>\n",
       "    </tr>\n",
       "    <tr>\n",
       "      <th>2017-07-17 18:05:40.294902+00:00</th>\n",
       "      <td>2017-04-19 05:55:36.338299+00:00</td>\n",
       "      <td>89 days 12:10:03.956603</td>\n",
       "    </tr>\n",
       "    <tr>\n",
       "      <th>2017-07-17 18:05:41.353902+00:00</th>\n",
       "      <td>2017-04-19 05:55:36.338299+00:00</td>\n",
       "      <td>89 days 12:10:05.015603</td>\n",
       "    </tr>\n",
       "    <tr>\n",
       "      <th>2017-07-17 18:07:58.214699+00:00</th>\n",
       "      <td>2017-04-19 05:55:36.338299+00:00</td>\n",
       "      <td>89 days 12:12:21.876400</td>\n",
       "    </tr>\n",
       "    <tr>\n",
       "      <th>2017-07-17 18:07:59.266699+00:00</th>\n",
       "      <td>2017-04-19 05:55:36.338299+00:00</td>\n",
       "      <td>89 days 12:12:22.928400</td>\n",
       "    </tr>\n",
       "  </tbody>\n",
       "</table>\n",
       "</div>"
      ],
      "text/plain": [
       "                                              landsat_acquisition  \\\n",
       "acquired                                                            \n",
       "2017-07-11 18:05:04.155145+00:00 2017-04-19 05:55:36.338299+00:00   \n",
       "2017-07-11 18:05:06.259145+00:00 2017-04-19 05:55:36.338299+00:00   \n",
       "2017-07-12 18:06:29.181869+00:00 2017-04-19 05:55:36.338299+00:00   \n",
       "2017-07-12 18:06:30.225784+00:00 2017-04-19 05:55:36.338299+00:00   \n",
       "2017-07-13 18:06:17.048410+00:00 2017-04-19 05:55:36.338299+00:00   \n",
       "2017-07-13 18:06:18.100410+00:00 2017-04-19 05:55:36.338299+00:00   \n",
       "2017-07-13 18:07:40.302462+00:00 2017-04-19 05:55:36.338299+00:00   \n",
       "2017-07-13 18:07:41.338462+00:00 2017-04-19 05:55:36.338299+00:00   \n",
       "2017-07-13 18:07:49.840306+00:00 2017-04-19 05:55:36.338299+00:00   \n",
       "2017-07-13 18:07:50.882306+00:00 2017-04-19 05:55:36.338299+00:00   \n",
       "2017-07-14 18:04:47.799767+00:00 2017-04-19 05:55:36.338299+00:00   \n",
       "2017-07-14 18:04:48.852767+00:00 2017-04-19 05:55:36.338299+00:00   \n",
       "2017-07-15 18:06:50.948264+00:00 2017-04-19 05:55:36.338299+00:00   \n",
       "2017-07-15 18:06:51.999264+00:00 2017-04-19 05:55:36.338299+00:00   \n",
       "2017-07-16 18:06:32.406464+00:00 2017-04-19 05:55:36.338299+00:00   \n",
       "2017-07-16 18:06:33.449464+00:00 2017-04-19 05:55:36.338299+00:00   \n",
       "2017-07-17 18:05:40.294902+00:00 2017-04-19 05:55:36.338299+00:00   \n",
       "2017-07-17 18:05:41.353902+00:00 2017-04-19 05:55:36.338299+00:00   \n",
       "2017-07-17 18:07:58.214699+00:00 2017-04-19 05:55:36.338299+00:00   \n",
       "2017-07-17 18:07:59.266699+00:00 2017-04-19 05:55:36.338299+00:00   \n",
       "\n",
       "                                                   delta  \n",
       "acquired                                                  \n",
       "2017-07-11 18:05:04.155145+00:00 83 days 12:09:27.816846  \n",
       "2017-07-11 18:05:06.259145+00:00 83 days 12:09:29.920846  \n",
       "2017-07-12 18:06:29.181869+00:00 84 days 12:10:52.843570  \n",
       "2017-07-12 18:06:30.225784+00:00 84 days 12:10:53.887485  \n",
       "2017-07-13 18:06:17.048410+00:00 85 days 12:10:40.710111  \n",
       "2017-07-13 18:06:18.100410+00:00 85 days 12:10:41.762111  \n",
       "2017-07-13 18:07:40.302462+00:00 85 days 12:12:03.964163  \n",
       "2017-07-13 18:07:41.338462+00:00 85 days 12:12:05.000163  \n",
       "2017-07-13 18:07:49.840306+00:00 85 days 12:12:13.502007  \n",
       "2017-07-13 18:07:50.882306+00:00 85 days 12:12:14.544007  \n",
       "2017-07-14 18:04:47.799767+00:00 86 days 12:09:11.461468  \n",
       "2017-07-14 18:04:48.852767+00:00 86 days 12:09:12.514468  \n",
       "2017-07-15 18:06:50.948264+00:00 87 days 12:11:14.609965  \n",
       "2017-07-15 18:06:51.999264+00:00 87 days 12:11:15.660965  \n",
       "2017-07-16 18:06:32.406464+00:00 88 days 12:10:56.068165  \n",
       "2017-07-16 18:06:33.449464+00:00 88 days 12:10:57.111165  \n",
       "2017-07-17 18:05:40.294902+00:00 89 days 12:10:03.956603  \n",
       "2017-07-17 18:05:41.353902+00:00 89 days 12:10:05.015603  \n",
       "2017-07-17 18:07:58.214699+00:00 89 days 12:12:21.876400  \n",
       "2017-07-17 18:07:59.266699+00:00 89 days 12:12:22.928400  "
      ]
     },
     "execution_count": 30,
     "metadata": {},
     "output_type": "execute_result"
    }
   ],
   "source": [
    "def find_crossovers(acquired_time, landsat_scenes):\n",
    "    '''landsat_scenes: pandas dataframe with acquisition time as index'''\n",
    "    closest_idx, closest_delta = find_closest(acquired_time, landsat_scenes)\n",
    "    closest_landsat = landsat_scenes.iloc[closest_idx]\n",
    "\n",
    "    crossover = {'landsat_acquisition': closest_landsat.name,\n",
    "                 'delta': closest_delta}\n",
    "    return pd.Series(crossover)\n",
    "\n",
    "\n",
    "# fetch PS scenes\n",
    "ps_scenes = items_to_scenes(ps_list)\n",
    "\n",
    "\n",
    "# for each PS scene, find the closest Landsat scene\n",
    "# Remove timezone info from the datetime index in order to subtract\n",
    "crossovers = ps_scenes.index.to_series().apply(find_crossovers, args=(landsat_scenes,))\n",
    "\n",
    "# filter to crossovers within 90 days\n",
    "concurrent_crossovers = crossovers[crossovers['delta'] < pd.Timedelta('90 days')]\n",
    "print(len(concurrent_crossovers))\n",
    "concurrent_crossovers"
   ]
  },
  {
   "cell_type": "markdown",
   "metadata": {},
   "source": [
    "Now that we have the crossovers, what we are really interested in is the IDs of the landsat and PS scenes, as well as how much they overlap the AOI."
   ]
  },
  {
   "cell_type": "code",
   "execution_count": 31,
   "metadata": {},
   "outputs": [
    {
     "name": "stdout",
     "output_type": "stream",
     "text": [
      "20\n"
     ]
    }
   ],
   "source": [
    "def get_crossover_info(crossovers, aoi):\n",
    "    def get_scene_info(acquisition_time, scenes):\n",
    "        scene = scenes.loc[acquisition_time]\n",
    "        scene_info = {'id': scene.id,\n",
    "                      'thumbnail': scene.thumbnail,\n",
    "                      # we are going to use the footprints as shapes so convert to shapes now\n",
    "                      'footprint': sgeom.shape(scene.footprint)}\n",
    "        return pd.Series(scene_info)\n",
    "\n",
    "    landsat_info = crossovers.landsat_acquisition.apply(get_scene_info, args=(landsat_scenes,))\n",
    "    ps_info = crossovers.index.to_series().apply(get_scene_info, args=(ps_scenes,))\n",
    "\n",
    "    footprint_info = pd.DataFrame({'landsat': landsat_info.footprint,\n",
    "                                   'ps': ps_info.footprint})\n",
    "    overlaps = footprint_info.apply(lambda x: x.landsat.intersection(x.ps),\n",
    "                                    axis=1)\n",
    "    \n",
    "    aoi_shape = sgeom.shape(aoi)\n",
    "    overlap_percent = overlaps.apply(lambda x: x.intersection(aoi_shape).area / aoi_shape.area)\n",
    "    crossover_info = pd.DataFrame({'overlap': overlaps,\n",
    "                                   'overlap_percent': overlap_percent,\n",
    "                                   'ps_id': ps_info.id,\n",
    "                                   'ps_thumbnail': ps_info.thumbnail,\n",
    "                                   'landsat_id': landsat_info.id,\n",
    "                                   'landsat_thumbnail': landsat_info.thumbnail})\n",
    "    return crossover_info\n",
    "\n",
    "crossover_info = get_crossover_info(concurrent_crossovers, aoi)\n",
    "print(len(crossover_info))"
   ]
  },
  {
   "cell_type": "markdown",
   "metadata": {},
   "source": [
    "Next, we check to see if there are overlaps that cover a significant portion of the AOI. In this case there are not."
   ]
  },
  {
   "cell_type": "code",
   "execution_count": 36,
   "metadata": {},
   "outputs": [
    {
     "name": "stdout",
     "output_type": "stream",
     "text": [
      "0\n"
     ]
    }
   ],
   "source": [
    "significant_crossovers_info = crossover_info[crossover_info.overlap_percent > 0.9]\n",
    "print(len(significant_crossovers_info))"
   ]
  },
  {
   "cell_type": "markdown",
   "metadata": {},
   "source": [
    "Browsing through the crossovers, we see that in some instances, multiple crossovers take place on the same day. Really, we are interested in 'unique crossovers', that is, crossovers that take place on unique days. Therefore, we will look at the concurrent crossovers by day."
   ]
  },
  {
   "cell_type": "code",
   "execution_count": 37,
   "metadata": {},
   "outputs": [
    {
     "name": "stdout",
     "output_type": "stream",
     "text": [
      "7\n",
      "acquired  acquired  acquired\n",
      "2017      7         11          2\n",
      "                    12          2\n",
      "                    13          6\n",
      "                    14          2\n",
      "                    15          2\n",
      "                    16          2\n",
      "                    17          4\n",
      "Name: acquired, dtype: int64\n"
     ]
    }
   ],
   "source": [
    "def group_by_day(data_frame):\n",
    "    return data_frame.groupby([data_frame.index.year,\n",
    "                               data_frame.index.month,\n",
    "                               data_frame.index.day])\n",
    "\n",
    "unique_crossover_days = group_by_day(crossover_info.index.to_series()).count()\n",
    "print(len(unique_crossover_days))\n",
    "print(unique_crossover_days)"
   ]
  },
  {
   "cell_type": "markdown",
   "metadata": {},
   "source": [
    "There are 7 unique crossovers between Landsat 8 and PS that cover over 90% of our AOI between January and August in 2017. Not bad! That is definitely enough to perform comparison."
   ]
  },
  {
   "cell_type": "markdown",
   "metadata": {},
   "source": [
    "### Display Crossovers\n",
    "\n",
    "Let's take a quick look at the crossovers we found to make sure that they don't look cloudy, hazy, or have any other quality issues that would affect the comparison."
   ]
  },
  {
   "cell_type": "code",
   "execution_count": 38,
   "metadata": {},
   "outputs": [
    {
     "name": "stdout",
     "output_type": "stream",
     "text": [
      "2017-07-11 18:05:04.155145+00:00\n"
     ]
    },
    {
     "data": {
      "text/html": [
       "<img src=\"https://tiles.planet.com/data/v1/item-types/PSScene/items/20170711_180504_1004/thumb\" alt=\"https://tiles.planet.com/data/v1/item-types/PSScene/items/20170711_180504_1004/thumb\"style=\"display:inline;margin:1px\"/><img src=\"https://tiles.planet.com/data/v1/item-types/Landsat8L1G/items/LC81412112017109LGN00/thumb\" alt=\"https://tiles.planet.com/data/v1/item-types/Landsat8L1G/items/LC81412112017109LGN00/thumb\"style=\"display:inline;margin:1px\"/>"
      ],
      "text/plain": [
       "<IPython.core.display.HTML object>"
      ]
     },
     "metadata": {},
     "output_type": "display_data"
    },
    {
     "name": "stdout",
     "output_type": "stream",
     "text": [
      "2017-07-11 18:05:06.259145+00:00\n"
     ]
    },
    {
     "data": {
      "text/html": [
       "<img src=\"https://tiles.planet.com/data/v1/item-types/PSScene/items/20170711_180506_1004/thumb\" alt=\"https://tiles.planet.com/data/v1/item-types/PSScene/items/20170711_180506_1004/thumb\"style=\"display:inline;margin:1px\"/><img src=\"https://tiles.planet.com/data/v1/item-types/Landsat8L1G/items/LC81412112017109LGN00/thumb\" alt=\"https://tiles.planet.com/data/v1/item-types/Landsat8L1G/items/LC81412112017109LGN00/thumb\"style=\"display:inline;margin:1px\"/>"
      ],
      "text/plain": [
       "<IPython.core.display.HTML object>"
      ]
     },
     "metadata": {},
     "output_type": "display_data"
    },
    {
     "name": "stdout",
     "output_type": "stream",
     "text": [
      "2017-07-12 18:06:29.181869+00:00\n"
     ]
    },
    {
     "data": {
      "text/html": [
       "<img src=\"https://tiles.planet.com/data/v1/item-types/PSScene/items/20170712_180629_1033/thumb\" alt=\"https://tiles.planet.com/data/v1/item-types/PSScene/items/20170712_180629_1033/thumb\"style=\"display:inline;margin:1px\"/><img src=\"https://tiles.planet.com/data/v1/item-types/Landsat8L1G/items/LC81412112017109LGN00/thumb\" alt=\"https://tiles.planet.com/data/v1/item-types/Landsat8L1G/items/LC81412112017109LGN00/thumb\"style=\"display:inline;margin:1px\"/>"
      ],
      "text/plain": [
       "<IPython.core.display.HTML object>"
      ]
     },
     "metadata": {},
     "output_type": "display_data"
    },
    {
     "name": "stdout",
     "output_type": "stream",
     "text": [
      "2017-07-12 18:06:30.225784+00:00\n"
     ]
    },
    {
     "data": {
      "text/html": [
       "<img src=\"https://tiles.planet.com/data/v1/item-types/PSScene/items/20170712_180630_1033/thumb\" alt=\"https://tiles.planet.com/data/v1/item-types/PSScene/items/20170712_180630_1033/thumb\"style=\"display:inline;margin:1px\"/><img src=\"https://tiles.planet.com/data/v1/item-types/Landsat8L1G/items/LC81412112017109LGN00/thumb\" alt=\"https://tiles.planet.com/data/v1/item-types/Landsat8L1G/items/LC81412112017109LGN00/thumb\"style=\"display:inline;margin:1px\"/>"
      ],
      "text/plain": [
       "<IPython.core.display.HTML object>"
      ]
     },
     "metadata": {},
     "output_type": "display_data"
    },
    {
     "name": "stdout",
     "output_type": "stream",
     "text": [
      "2017-07-13 18:06:17.048410+00:00\n"
     ]
    },
    {
     "data": {
      "text/html": [
       "<img src=\"https://tiles.planet.com/data/v1/item-types/PSScene/items/20170713_180617_1003/thumb\" alt=\"https://tiles.planet.com/data/v1/item-types/PSScene/items/20170713_180617_1003/thumb\"style=\"display:inline;margin:1px\"/><img src=\"https://tiles.planet.com/data/v1/item-types/Landsat8L1G/items/LC81412112017109LGN00/thumb\" alt=\"https://tiles.planet.com/data/v1/item-types/Landsat8L1G/items/LC81412112017109LGN00/thumb\"style=\"display:inline;margin:1px\"/>"
      ],
      "text/plain": [
       "<IPython.core.display.HTML object>"
      ]
     },
     "metadata": {},
     "output_type": "display_data"
    },
    {
     "name": "stdout",
     "output_type": "stream",
     "text": [
      "2017-07-13 18:06:18.100410+00:00\n"
     ]
    },
    {
     "data": {
      "text/html": [
       "<img src=\"https://tiles.planet.com/data/v1/item-types/PSScene/items/20170713_180618_1003/thumb\" alt=\"https://tiles.planet.com/data/v1/item-types/PSScene/items/20170713_180618_1003/thumb\"style=\"display:inline;margin:1px\"/><img src=\"https://tiles.planet.com/data/v1/item-types/Landsat8L1G/items/LC81412112017109LGN00/thumb\" alt=\"https://tiles.planet.com/data/v1/item-types/Landsat8L1G/items/LC81412112017109LGN00/thumb\"style=\"display:inline;margin:1px\"/>"
      ],
      "text/plain": [
       "<IPython.core.display.HTML object>"
      ]
     },
     "metadata": {},
     "output_type": "display_data"
    },
    {
     "name": "stdout",
     "output_type": "stream",
     "text": [
      "2017-07-13 18:07:40.302462+00:00\n"
     ]
    },
    {
     "data": {
      "text/html": [
       "<img src=\"https://tiles.planet.com/data/v1/item-types/PSScene/items/20170713_180740_1029/thumb\" alt=\"https://tiles.planet.com/data/v1/item-types/PSScene/items/20170713_180740_1029/thumb\"style=\"display:inline;margin:1px\"/><img src=\"https://tiles.planet.com/data/v1/item-types/Landsat8L1G/items/LC81412112017109LGN00/thumb\" alt=\"https://tiles.planet.com/data/v1/item-types/Landsat8L1G/items/LC81412112017109LGN00/thumb\"style=\"display:inline;margin:1px\"/>"
      ],
      "text/plain": [
       "<IPython.core.display.HTML object>"
      ]
     },
     "metadata": {},
     "output_type": "display_data"
    },
    {
     "name": "stdout",
     "output_type": "stream",
     "text": [
      "2017-07-13 18:07:41.338462+00:00\n"
     ]
    },
    {
     "data": {
      "text/html": [
       "<img src=\"https://tiles.planet.com/data/v1/item-types/PSScene/items/20170713_180741_1029/thumb\" alt=\"https://tiles.planet.com/data/v1/item-types/PSScene/items/20170713_180741_1029/thumb\"style=\"display:inline;margin:1px\"/><img src=\"https://tiles.planet.com/data/v1/item-types/Landsat8L1G/items/LC81412112017109LGN00/thumb\" alt=\"https://tiles.planet.com/data/v1/item-types/Landsat8L1G/items/LC81412112017109LGN00/thumb\"style=\"display:inline;margin:1px\"/>"
      ],
      "text/plain": [
       "<IPython.core.display.HTML object>"
      ]
     },
     "metadata": {},
     "output_type": "display_data"
    },
    {
     "name": "stdout",
     "output_type": "stream",
     "text": [
      "2017-07-13 18:07:49.840306+00:00\n"
     ]
    },
    {
     "data": {
      "text/html": [
       "<img src=\"https://tiles.planet.com/data/v1/item-types/PSScene/items/20170713_180749_1008/thumb\" alt=\"https://tiles.planet.com/data/v1/item-types/PSScene/items/20170713_180749_1008/thumb\"style=\"display:inline;margin:1px\"/><img src=\"https://tiles.planet.com/data/v1/item-types/Landsat8L1G/items/LC81412112017109LGN00/thumb\" alt=\"https://tiles.planet.com/data/v1/item-types/Landsat8L1G/items/LC81412112017109LGN00/thumb\"style=\"display:inline;margin:1px\"/>"
      ],
      "text/plain": [
       "<IPython.core.display.HTML object>"
      ]
     },
     "metadata": {},
     "output_type": "display_data"
    },
    {
     "name": "stdout",
     "output_type": "stream",
     "text": [
      "2017-07-13 18:07:50.882306+00:00\n"
     ]
    },
    {
     "data": {
      "text/html": [
       "<img src=\"https://tiles.planet.com/data/v1/item-types/PSScene/items/20170713_180750_1008/thumb\" alt=\"https://tiles.planet.com/data/v1/item-types/PSScene/items/20170713_180750_1008/thumb\"style=\"display:inline;margin:1px\"/><img src=\"https://tiles.planet.com/data/v1/item-types/Landsat8L1G/items/LC81412112017109LGN00/thumb\" alt=\"https://tiles.planet.com/data/v1/item-types/Landsat8L1G/items/LC81412112017109LGN00/thumb\"style=\"display:inline;margin:1px\"/>"
      ],
      "text/plain": [
       "<IPython.core.display.HTML object>"
      ]
     },
     "metadata": {},
     "output_type": "display_data"
    },
    {
     "name": "stdout",
     "output_type": "stream",
     "text": [
      "2017-07-14 18:04:47.799767+00:00\n"
     ]
    },
    {
     "data": {
      "text/html": [
       "<img src=\"https://tiles.planet.com/data/v1/item-types/PSScene/items/20170714_180447_1028/thumb\" alt=\"https://tiles.planet.com/data/v1/item-types/PSScene/items/20170714_180447_1028/thumb\"style=\"display:inline;margin:1px\"/><img src=\"https://tiles.planet.com/data/v1/item-types/Landsat8L1G/items/LC81412112017109LGN00/thumb\" alt=\"https://tiles.planet.com/data/v1/item-types/Landsat8L1G/items/LC81412112017109LGN00/thumb\"style=\"display:inline;margin:1px\"/>"
      ],
      "text/plain": [
       "<IPython.core.display.HTML object>"
      ]
     },
     "metadata": {},
     "output_type": "display_data"
    },
    {
     "name": "stdout",
     "output_type": "stream",
     "text": [
      "2017-07-14 18:04:48.852767+00:00\n"
     ]
    },
    {
     "data": {
      "text/html": [
       "<img src=\"https://tiles.planet.com/data/v1/item-types/PSScene/items/20170714_180448_1028/thumb\" alt=\"https://tiles.planet.com/data/v1/item-types/PSScene/items/20170714_180448_1028/thumb\"style=\"display:inline;margin:1px\"/><img src=\"https://tiles.planet.com/data/v1/item-types/Landsat8L1G/items/LC81412112017109LGN00/thumb\" alt=\"https://tiles.planet.com/data/v1/item-types/Landsat8L1G/items/LC81412112017109LGN00/thumb\"style=\"display:inline;margin:1px\"/>"
      ],
      "text/plain": [
       "<IPython.core.display.HTML object>"
      ]
     },
     "metadata": {},
     "output_type": "display_data"
    },
    {
     "name": "stdout",
     "output_type": "stream",
     "text": [
      "2017-07-15 18:06:50.948264+00:00\n"
     ]
    },
    {
     "data": {
      "text/html": [
       "<img src=\"https://tiles.planet.com/data/v1/item-types/PSScene/items/20170715_180650_1042/thumb\" alt=\"https://tiles.planet.com/data/v1/item-types/PSScene/items/20170715_180650_1042/thumb\"style=\"display:inline;margin:1px\"/><img src=\"https://tiles.planet.com/data/v1/item-types/Landsat8L1G/items/LC81412112017109LGN00/thumb\" alt=\"https://tiles.planet.com/data/v1/item-types/Landsat8L1G/items/LC81412112017109LGN00/thumb\"style=\"display:inline;margin:1px\"/>"
      ],
      "text/plain": [
       "<IPython.core.display.HTML object>"
      ]
     },
     "metadata": {},
     "output_type": "display_data"
    },
    {
     "name": "stdout",
     "output_type": "stream",
     "text": [
      "2017-07-15 18:06:51.999264+00:00\n"
     ]
    },
    {
     "data": {
      "text/html": [
       "<img src=\"https://tiles.planet.com/data/v1/item-types/PSScene/items/20170715_180651_1042/thumb\" alt=\"https://tiles.planet.com/data/v1/item-types/PSScene/items/20170715_180651_1042/thumb\"style=\"display:inline;margin:1px\"/><img src=\"https://tiles.planet.com/data/v1/item-types/Landsat8L1G/items/LC81412112017109LGN00/thumb\" alt=\"https://tiles.planet.com/data/v1/item-types/Landsat8L1G/items/LC81412112017109LGN00/thumb\"style=\"display:inline;margin:1px\"/>"
      ],
      "text/plain": [
       "<IPython.core.display.HTML object>"
      ]
     },
     "metadata": {},
     "output_type": "display_data"
    },
    {
     "name": "stdout",
     "output_type": "stream",
     "text": [
      "2017-07-16 18:06:32.406464+00:00\n"
     ]
    },
    {
     "data": {
      "text/html": [
       "<img src=\"https://tiles.planet.com/data/v1/item-types/PSScene/items/20170716_180632_103c/thumb\" alt=\"https://tiles.planet.com/data/v1/item-types/PSScene/items/20170716_180632_103c/thumb\"style=\"display:inline;margin:1px\"/><img src=\"https://tiles.planet.com/data/v1/item-types/Landsat8L1G/items/LC81412112017109LGN00/thumb\" alt=\"https://tiles.planet.com/data/v1/item-types/Landsat8L1G/items/LC81412112017109LGN00/thumb\"style=\"display:inline;margin:1px\"/>"
      ],
      "text/plain": [
       "<IPython.core.display.HTML object>"
      ]
     },
     "metadata": {},
     "output_type": "display_data"
    },
    {
     "name": "stdout",
     "output_type": "stream",
     "text": [
      "2017-07-16 18:06:33.449464+00:00\n"
     ]
    },
    {
     "data": {
      "text/html": [
       "<img src=\"https://tiles.planet.com/data/v1/item-types/PSScene/items/20170716_180633_103c/thumb\" alt=\"https://tiles.planet.com/data/v1/item-types/PSScene/items/20170716_180633_103c/thumb\"style=\"display:inline;margin:1px\"/><img src=\"https://tiles.planet.com/data/v1/item-types/Landsat8L1G/items/LC81412112017109LGN00/thumb\" alt=\"https://tiles.planet.com/data/v1/item-types/Landsat8L1G/items/LC81412112017109LGN00/thumb\"style=\"display:inline;margin:1px\"/>"
      ],
      "text/plain": [
       "<IPython.core.display.HTML object>"
      ]
     },
     "metadata": {},
     "output_type": "display_data"
    },
    {
     "name": "stdout",
     "output_type": "stream",
     "text": [
      "2017-07-17 18:05:40.294902+00:00\n"
     ]
    },
    {
     "data": {
      "text/html": [
       "<img src=\"https://tiles.planet.com/data/v1/item-types/PSScene/items/20170717_180540_0f3f/thumb\" alt=\"https://tiles.planet.com/data/v1/item-types/PSScene/items/20170717_180540_0f3f/thumb\"style=\"display:inline;margin:1px\"/><img src=\"https://tiles.planet.com/data/v1/item-types/Landsat8L1G/items/LC81412112017109LGN00/thumb\" alt=\"https://tiles.planet.com/data/v1/item-types/Landsat8L1G/items/LC81412112017109LGN00/thumb\"style=\"display:inline;margin:1px\"/>"
      ],
      "text/plain": [
       "<IPython.core.display.HTML object>"
      ]
     },
     "metadata": {},
     "output_type": "display_data"
    },
    {
     "name": "stdout",
     "output_type": "stream",
     "text": [
      "2017-07-17 18:05:41.353902+00:00\n"
     ]
    },
    {
     "data": {
      "text/html": [
       "<img src=\"https://tiles.planet.com/data/v1/item-types/PSScene/items/20170717_180541_0f3f/thumb\" alt=\"https://tiles.planet.com/data/v1/item-types/PSScene/items/20170717_180541_0f3f/thumb\"style=\"display:inline;margin:1px\"/><img src=\"https://tiles.planet.com/data/v1/item-types/Landsat8L1G/items/LC81412112017109LGN00/thumb\" alt=\"https://tiles.planet.com/data/v1/item-types/Landsat8L1G/items/LC81412112017109LGN00/thumb\"style=\"display:inline;margin:1px\"/>"
      ],
      "text/plain": [
       "<IPython.core.display.HTML object>"
      ]
     },
     "metadata": {},
     "output_type": "display_data"
    },
    {
     "name": "stdout",
     "output_type": "stream",
     "text": [
      "2017-07-17 18:07:58.214699+00:00\n"
     ]
    },
    {
     "data": {
      "text/html": [
       "<img src=\"https://tiles.planet.com/data/v1/item-types/PSScene/items/20170717_180758_1009/thumb\" alt=\"https://tiles.planet.com/data/v1/item-types/PSScene/items/20170717_180758_1009/thumb\"style=\"display:inline;margin:1px\"/><img src=\"https://tiles.planet.com/data/v1/item-types/Landsat8L1G/items/LC81412112017109LGN00/thumb\" alt=\"https://tiles.planet.com/data/v1/item-types/Landsat8L1G/items/LC81412112017109LGN00/thumb\"style=\"display:inline;margin:1px\"/>"
      ],
      "text/plain": [
       "<IPython.core.display.HTML object>"
      ]
     },
     "metadata": {},
     "output_type": "display_data"
    },
    {
     "name": "stdout",
     "output_type": "stream",
     "text": [
      "2017-07-17 18:07:59.266699+00:00\n"
     ]
    },
    {
     "data": {
      "text/html": [
       "<img src=\"https://tiles.planet.com/data/v1/item-types/PSScene/items/20170717_180759_1009/thumb\" alt=\"https://tiles.planet.com/data/v1/item-types/PSScene/items/20170717_180759_1009/thumb\"style=\"display:inline;margin:1px\"/><img src=\"https://tiles.planet.com/data/v1/item-types/Landsat8L1G/items/LC81412112017109LGN00/thumb\" alt=\"https://tiles.planet.com/data/v1/item-types/Landsat8L1G/items/LC81412112017109LGN00/thumb\"style=\"display:inline;margin:1px\"/>"
      ],
      "text/plain": [
       "<IPython.core.display.HTML object>"
      ]
     },
     "metadata": {},
     "output_type": "display_data"
    }
   ],
   "source": [
    "# https://stackoverflow.com/questions/36006136/how-to-display-images-in-a-row-with-ipython-display\n",
    "def make_html(image):\n",
    "     return '<img src=\"{0}\" alt=\"{0}\"style=\"display:inline;margin:1px\"/>' \\\n",
    "            .format(image)\n",
    "\n",
    "\n",
    "def display_thumbnails(row):\n",
    "    print(row.name)\n",
    "    display(HTML(''.join(make_html(t)\n",
    "                         for t in (row.ps_thumbnail, row.landsat_thumbnail))))\n",
    "\n",
    "_ = crossover_info.apply(display_thumbnails, axis=1)"
   ]
  },
  {
   "cell_type": "markdown",
   "metadata": {},
   "source": [
    "They all look pretty good although the last crossover (2017-08-10) could be a little hazy."
   ]
  }
 ],
 "metadata": {
  "kernelspec": {
   "display_name": "Python 3 (ipykernel)",
   "language": "python",
   "name": "python3"
  },
  "language_info": {
   "codemirror_mode": {
    "name": "ipython",
    "version": 3
   },
   "file_extension": ".py",
   "mimetype": "text/x-python",
   "name": "python",
   "nbconvert_exporter": "python",
   "pygments_lexer": "ipython3",
   "version": "3.9.5"
  }
 },
 "nbformat": 4,
 "nbformat_minor": 4
}
