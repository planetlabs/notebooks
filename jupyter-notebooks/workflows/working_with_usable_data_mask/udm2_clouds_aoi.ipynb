{
 "cells": [
  {
   "cell_type": "markdown",
   "metadata": {},
   "source": [
    "# Usable Data Mask (UDM2) Cloud Detection within an AOI"
   ]
  },
  {
   "cell_type": "markdown",
   "metadata": {},
   "source": [
    "This guide is a follow up to the [UDM2 Cloud Detection](udm2_clouds.ipynb) notebook. Please refer to that notebook for further details on specifications and usage of the UDM2 asset. In this notebook, we apply cloud detection to a specific area of interest (AOI).\n",
    "\n",
    "The `ortho_udm2` asset is available for `PSScene` 4-band items created after 2018-08-01. Therefore, our search should be limited to these items and this date range. In this notebook, we focus on `PSScene` imagery taken within the month of April, 2019."
   ]
  },
  {
   "cell_type": "markdown",
   "metadata": {},
   "source": [
    "## Import dependencies"
   ]
  },
  {
   "cell_type": "code",
   "execution_count": null,
   "metadata": {},
   "outputs": [],
   "source": [
    "import datetime\n",
    "import json\n",
    "import os\n",
    "import time\n",
    "\n",
    "from datetime import datetime\n",
    "from planet import Auth\n",
    "from planet import Session, DataClient, OrdersClient, data_filter\n",
    "import rasterio\n",
    "from rasterio.plot import show\n",
    "import requests"
   ]
  },
  {
   "cell_type": "code",
   "execution_count": null,
   "metadata": {},
   "outputs": [],
   "source": [
    "# if your Planet API Key is not set as an environment variable, you can paste it below\n",
    "API_KEY = os.getenv('PL_API_KEY', 'PASTE_YOUR_KEY_HERE')\n",
    "\n",
    "client = Auth.from_key(API_KEY)"
   ]
  },
  {
   "cell_type": "markdown",
   "metadata": {},
   "source": [
    "## Finding clear imagery\n",
    "\n",
    "One of the benefits of accurate and automated cloud detection is that it allows users to filter out images that don't meet a certain quality threshold. Planet's Data API allows users to [search](https://developers.planet.com/docs/apis/data/searches-filtering/) based on the value of the imagery metadata.\n",
    "    \n",
    "Planet's cloud detection algorithm classifies every pixel into one of six different categories, each of which has a corresponding metadata field that reflects the percentage of data that falls into the category.\n",
    "\n",
    "| Class | Metadata field |\n",
    "| --- | --- |\n",
    "| clear | `clear_percent` |\n",
    "| snow | `snow_ice_percent` |\n",
    "| shadow | `shadow_percent` |\n",
    "| light haze | `light_haze_percent` |\n",
    "| heavy haze| `heavy_haze_percent` |\n",
    "| cloud | `cloud_percent` |\n",
    "\n",
    "The [UDM2 Cloud Detection](udm2_clouds.ipynb) notebook provides examples for how to perform searches using the Planet Python Client command-line interface.\n",
    "\n",
    "The following example will show how use Planet's Python Client to perform a search for PSScene images that are 70-95% clear (not totally clear so the UDM2 has some interesting content), taken within the month of April, 2019, and within an AOI.\n",
    "\n",
    "### UDM2.1\n",
    "\n",
    "After November 2023, with the launch of UDM2.1, the heavy haze class has been deprecated. A new computer vision model trained at Planet returns more accurate class masks, and includes only a single haze class. For backwards compatibility, `light_haze` will store this haze detection, whereas `heavy_haze` will return zero for all pixels going forward."
   ]
  },
  {
   "cell_type": "code",
   "execution_count": null,
   "metadata": {},
   "outputs": [],
   "source": [
    "# define the aoi for imagery\n",
    "aoi = {\"geometry\": \n",
    "       {\n",
    "        \"type\":\"Polygon\",\n",
    "        \"coordinates\":\n",
    "            [[\n",
    "                [25.42429478260258, 1.0255377823058893],\n",
    "                [25.592960813580472, 1.0255377823058893],\n",
    "                [25.592960813580472, 1.1196578801254304],\n",
    "                [25.42429478260258, 1.1196578801254304],\n",
    "                [25.42429478260258, 1.0255377823058893]\n",
    "            ]]\n",
    "        }\n",
    "      }\n",
    "\n",
    "\n",
    "item_types = ['PSScene']"
   ]
  },
  {
   "cell_type": "code",
   "execution_count": null,
   "metadata": {},
   "outputs": [],
   "source": [
    "# filter by our gemoetry defined above\n",
    "geom_filter = data_filter.geometry_filter(aoi)\n",
    "\n",
    "# clear_percent between 70 and 95, inclusive\n",
    "clear_percent_filter = data_filter.range_filter('clear_percent', None, None, 70, 95)\n",
    "\n",
    "# imagery acquired between April 1st and May 1st 2019\n",
    "date_range_filter = data_filter.date_range_filter(\"acquired\", datetime(month=4, day=1, year=2019), datetime(month=5, day=1, year=2019))\n",
    "\n",
    "# combine all these filters together\n",
    "combined_filter = data_filter.and_filter([geom_filter, clear_percent_filter, date_range_filter])"
   ]
  },
  {
   "cell_type": "code",
   "execution_count": null,
   "metadata": {},
   "outputs": [],
   "source": [
    "async with Session() as sess:\n",
    "    cl = DataClient(sess)\n",
    "    request = await cl.create_search(name='udm2_clouds_aoi',search_filter=combined_filter, item_types=item_types)"
   ]
  },
  {
   "cell_type": "code",
   "execution_count": null,
   "metadata": {},
   "outputs": [],
   "source": [
    "request"
   ]
  },
  {
   "cell_type": "code",
   "execution_count": null,
   "metadata": {},
   "outputs": [],
   "source": [
    "# Search the Data API\n",
    "async with Session() as sess:\n",
    "    cl = DataClient(sess)\n",
    "    items = cl.run_search(search_id=request['id'])\n",
    "    item_list = [i async for i in items]"
   ]
  },
  {
   "cell_type": "code",
   "execution_count": null,
   "metadata": {},
   "outputs": [],
   "source": [
    "print(len(item_list))"
   ]
  },
  {
   "cell_type": "code",
   "execution_count": null,
   "metadata": {},
   "outputs": [],
   "source": [
    "# Let's look at the first item in our results list\n",
    "item = item_list[0]\n",
    "item_id = item_list[0]['id']\n",
    "item_id"
   ]
  },
  {
   "cell_type": "markdown",
   "metadata": {},
   "source": [
    "## The `udm2` asset"
   ]
  },
  {
   "cell_type": "markdown",
   "metadata": {},
   "source": [
    "In addition to metadata for filtering, the `udm2` asset provides a pixel-by-pixel map that identifies the classification of each pixel. See the [UDM2 Cloud Detection](udm2_clouds.ipynb) notebook for an example map.\n",
    "\n",
    "The `udm2` structure is to use a separate band for each classification type. Band 2, for example, indicates that a pixel is snowy when its value is 1, band 3 indicates shadow and so on. \""
   ]
  },
  {
   "cell_type": "markdown",
   "metadata": {},
   "source": [
    "The following Python will download the data above and then display pixels that fall into a certain classifications."
   ]
  },
  {
   "cell_type": "markdown",
   "metadata": {},
   "source": [
    "First, we need to activate the asset that we've identified:"
   ]
  },
  {
   "cell_type": "code",
   "execution_count": null,
   "metadata": {},
   "outputs": [],
   "source": [
    "async def download_asset(item_type, item_id, asset_type, destination_folder, overwrite=True):\n",
    "    cl = DataClient(Session())\n",
    "\n",
    "    # Get Asset\n",
    "    asset_desc = await cl.get_asset(item_type_id=item_type, item_id=item_id, asset_type_id=asset_type)\n",
    "\n",
    "    # Activate Asset\n",
    "    await cl.activate_asset(asset=asset_desc)\n",
    "\n",
    "    # Wait for asset to become active\n",
    "    print('Awaiting asset activation...', end=' ')\n",
    "    asset = await cl.wait_asset(asset_desc)\n",
    "\n",
    "    # Download Asset\n",
    "    print('Done. Downloading asset.')\n",
    "    asset_path = await cl.download_asset(asset, directory=destination_folder, overwrite=overwrite)\n",
    "    \n",
    "    return asset_path"
   ]
  },
  {
   "cell_type": "code",
   "execution_count": null,
   "metadata": {},
   "outputs": [],
   "source": [
    "data_folder = 'data'"
   ]
  },
  {
   "cell_type": "markdown",
   "metadata": {},
   "source": [
    "The following cells will activate and download the desired assets. However, activation can take several minutes to finish."
   ]
  },
  {
   "cell_type": "code",
   "execution_count": null,
   "metadata": {},
   "outputs": [],
   "source": [
    "# Activate and download UDM asset\n",
    "udm2_file = await download_asset('PSScene', item_id, 'ortho_udm2', data_folder)"
   ]
  },
  {
   "cell_type": "code",
   "execution_count": null,
   "metadata": {},
   "outputs": [],
   "source": [
    "# Activate and download image asset\n",
    "img_file = await download_asset('PSScene', item_id, 'ortho_analytic_4b', data_folder)"
   ]
  },
  {
   "cell_type": "markdown",
   "metadata": {},
   "source": [
    "### Visualize Image and UDM2"
   ]
  },
  {
   "cell_type": "code",
   "execution_count": null,
   "metadata": {},
   "outputs": [],
   "source": [
    "with rasterio.open(udm2_file) as src:\n",
    "    shadow_mask = src.read(3).astype(bool)\n",
    "    cloud_mask = src.read(6).astype(bool)\n",
    "    \n",
    "show(shadow_mask, title=\"shadow\", cmap=\"binary\")\n",
    "show(cloud_mask, title=\"cloud\", cmap=\"binary\")"
   ]
  },
  {
   "cell_type": "code",
   "execution_count": null,
   "metadata": {},
   "outputs": [],
   "source": [
    "mask = shadow_mask + cloud_mask\n",
    "show(mask, title=\"mask\", cmap=\"binary\")"
   ]
  },
  {
   "cell_type": "code",
   "execution_count": null,
   "metadata": {},
   "outputs": [],
   "source": [
    "with rasterio.open(img_file) as src:\n",
    "    profile = src.profile\n",
    "    img_data = src.read([3, 2, 1], masked=True) / 10000.0 # apply RGB ordering and scale down"
   ]
  },
  {
   "cell_type": "code",
   "execution_count": null,
   "metadata": {},
   "outputs": [],
   "source": [
    "show(img_data, title=item_id)"
   ]
  },
  {
   "cell_type": "code",
   "execution_count": null,
   "metadata": {},
   "outputs": [],
   "source": [
    "img_data.mask = mask\n",
    "img_data = img_data.filled(fill_value=0)"
   ]
  },
  {
   "cell_type": "code",
   "execution_count": null,
   "metadata": {},
   "outputs": [],
   "source": [
    "show(img_data, title=\"masked image\")"
   ]
  },
  {
   "cell_type": "markdown",
   "metadata": {},
   "source": [
    "The image stored in `img_data` now has cloudy / cloud-shadowy pixels masked out and can be saved or used for analysis."
   ]
  }
 ],
 "metadata": {
  "kernelspec": {
   "display_name": "Python 3 (ipykernel)",
   "language": "python",
   "name": "python3"
  },
  "language_info": {
   "codemirror_mode": {
    "name": "ipython",
    "version": 3
   },
   "file_extension": ".py",
   "mimetype": "text/x-python",
   "name": "python",
   "nbconvert_exporter": "python",
   "pygments_lexer": "ipython3",
   "version": "3.9.18"
  }
 },
 "nbformat": 4,
 "nbformat_minor": 1
}
