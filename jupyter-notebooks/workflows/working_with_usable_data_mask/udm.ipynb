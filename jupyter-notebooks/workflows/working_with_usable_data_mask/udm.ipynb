{
 "cells": [
  {
   "cell_type": "markdown",
   "metadata": {},
   "source": [
    "# Working with the Unusable Data Mask (UDM)\n",
    "\n",
    "## Introduction\n",
    "The Unusable Data Mask (UDM) is provided with many Planet products. It provides pixel-by-pixel information on quality issues that may affect the usability of each pixel, depending on the application. Specifications for the UDM are given in the [Imagery Spec Sheet](https://assets.planet.com/docs/Planet_Combined_Imagery_Product_Specs_letter_screen.pdf) and the [UDM2 API documentation](https://developers.planet.com/docs/api/udm-2/).\n",
    "\n",
    "In 2018, Planet released a major overhaul with the launch of UDM2, now called the 'Usable Data Mask' (UDM2). The original UDM product is still available as part of UDM2 and is stored in the 8th channel of the data UDM2 data asset. This Notebook demonstrates how to access and work with the original UDM asset.\n",
    "\n",
    "The UDM is an 8-bit single-band image. Pixel quality issues are bit-encoded. For example, if Bit 0 is set to 1 for a pixel in the UDM, then the pixel is in an area that was not imaged by the spacecraft, and the pixel is 'blackfill'. If all bits are set to zero, there is no quality issue with the pixel. The full description of UDM bit meanings is given below.\n",
    "\n",
    "How we convert a UDM to a mask depends on which quality issues we are concerned about. If we require no quality issues, then we mask out all pixels that have a non-zero value (any bits set to 1). However, if we have our own cloud detection algorithm and do not want to exclude pixels that are suspected to be cloud covered, then we mask out all pixels that have bits other than Bit 1 (cloud-covered) set to 1.\n",
    "\n",
    "In this notebook, we demonstrate downloading, visualizing, and converting the UDM to a binary mask. The UDM is basically a classified image, where the binary representation provides the bit-encoded quality information. Therefore, we visualize the UDM as such. Next we convert the UDM to a binary mask for use in masking the scene. We create two different masks: one where all pixels with quality concerns are masked and another where pixels with quality concerns in the NIR are not masked.\n",
    "\n",
    "### UDM Bit Description\n",
    "\n",
    "The UDM bit description is copied from the [Imagery Spec Sheet](https://assets.planet.com/docs/Planet_Combined_Imagery_Product_Specs_letter_screen.pdf) and given here for convenience in interpreting the UDM.\n",
    "\n",
    "* Bit 0: Identifies whether the area contains blackfill in all bands (this area was not imaged by the spacecraft). A value of “1” indicates blackfill.\n",
    "* Bit 1: Identifies whether the area is cloud covered. A value of “1” indicates cloud covered. Cloud detection is performed on a decimated version of the image (i.e. the browse image) and hence small clouds may be missed. Cloud areas are those that have pixel values in the assessed band (Red, NIR or Green) that are above a configurable threshold. This algorithm will:\n",
    "  Assess snow as cloud;\n",
    "  Assess cloud shadow as cloud free;\n",
    "  Assess haze as cloud free.\n",
    "* Bit 2: Identifies whether the area contains missing (lost during downlink) or suspect (contains downlink errors) data in the Blue band. A value of “1” indicates missing/suspect data. If the product does not include this band, the value is set to “0”.\n",
    "* Bit 3: Identifies whether the area contains missing (lost during downlink and hence blackfilled) or suspect (contains downlink errors) data in the Green band. A value of “1” indicates missing/suspect data. If the product does not include this band, the value is set to “0”.\n",
    "* Bit 4: Identifies whether the area contains missing (lost during downlink) or suspect (contains downlink errors) data in the Red band. A value of “1” indicates missing/suspect data. If the product does not include this band, the value is set to “0”.\n",
    "* Bit 5: Identifies whether the area contains missing (lost during downlink) or suspect (contains downlink errors) data in the Red Edge band. A value of “1” indicates missing/suspect data. If the product does not include this band, the value is set to “0”.\n",
    "* Bit 6: Identifies whether the area contains missing (lost during downlink) or suspect (contains downlink errors) data in the NIR band. A value of “1” indicates missing/suspect data. If the product does not include this band, the value is set to “0”.\n",
    "* Bit 7: Identifies whether the area contains missing (lost during downlink) or suspect (contains downlink errors) data in the Coastal Blue and/or Green I and/or Yellow Band. A value of “1” indicates missing/suspect data. If the product does not include this band, the value is set to “0.”"
   ]
  },
  {
   "cell_type": "markdown",
   "metadata": {},
   "source": [
    "## Install Dependencies and Set up Notebook"
   ]
  },
  {
   "cell_type": "code",
   "execution_count": null,
   "metadata": {},
   "outputs": [],
   "source": [
    "from collections import OrderedDict\n",
    "import os\n",
    "import subprocess\n",
    "\n",
    "import matplotlib\n",
    "import matplotlib.colors as colors\n",
    "import matplotlib.patches as mpatches\n",
    "import matplotlib.pyplot as plt\n",
    "import numpy as np\n",
    "from planet import Session, DataClient, Auth\n",
    "import rasterio\n",
    "\n",
    "%matplotlib inline"
   ]
  },
  {
   "cell_type": "code",
   "execution_count": null,
   "metadata": {},
   "outputs": [],
   "source": [
    "# If your Planet API Key is not set as an environment variable, you can paste it below\n",
    "API_KEY = os.getenv('PL_API_KEY', 'PASTE_YOUR_KEY_HERE')\n",
    "\n",
    "client = Auth.from_key(API_KEY)"
   ]
  },
  {
   "cell_type": "markdown",
   "metadata": {},
   "source": [
    "## Download UDM\n",
    "\n",
    "To download the UDM for a scene, we will use the Planet Python SDK.\n",
    "\n",
    "We will save the UDM in the `data` folder. This folder isn't tracked by git so the downloaded image file will not bloat our git repository."
   ]
  },
  {
   "cell_type": "code",
   "execution_count": null,
   "metadata": {},
   "outputs": [],
   "source": [
    "# Create the data folder if it doesn't exist\n",
    "data_folder = 'data'\n",
    "if not os.path.isdir(data_folder): os.mkdir(data_folder)"
   ]
  },
  {
   "cell_type": "code",
   "execution_count": null,
   "metadata": {},
   "outputs": [],
   "source": [
    "# Define a helper function for activating and downloading image assets\n",
    "async def download_asset(item_type, item_id, asset_type, destination_folder, overwrite=True):\n",
    "    cl = DataClient(Session())\n",
    "\n",
    "    # Get Asset\n",
    "    asset_desc = await cl.get_asset(item_type_id=item_type, item_id=item_id, asset_type_id=asset_type)\n",
    "\n",
    "    # Activate Asset\n",
    "    await cl.activate_asset(asset=asset_desc)\n",
    "\n",
    "    # Wait for asset to become active\n",
    "    print('Awaiting asset activation...', end=' ')\n",
    "    asset = await cl.wait_asset(asset_desc)\n",
    "\n",
    "    # Download Asset\n",
    "    print('Done. Downloading asset.')\n",
    "    asset_path = await cl.download_asset(asset, directory=destination_folder, overwrite=overwrite)\n",
    "    \n",
    "    return asset_path"
   ]
  },
  {
   "cell_type": "code",
   "execution_count": null,
   "metadata": {},
   "outputs": [],
   "source": [
    "# Specify the item_type, item_id, and asset_type\n",
    "item_type = 'PSScene'\n",
    "item_id = '20231015_180428_88_24bc'\n",
    "asset_type = 'basic_udm2'"
   ]
  },
  {
   "cell_type": "code",
   "execution_count": null,
   "metadata": {},
   "outputs": [],
   "source": [
    "asset_path = await download_asset(item_type, item_id, asset_type, data_folder)"
   ]
  },
  {
   "cell_type": "code",
   "execution_count": null,
   "metadata": {},
   "outputs": [],
   "source": [
    "# store the udm filename for processing and make sure the file exists\n",
    "udm_filename = asset_path\n",
    "print(udm_filename)\n",
    "assert os.path.isfile(udm_filename)"
   ]
  },
  {
   "cell_type": "markdown",
   "metadata": {},
   "source": [
    "## Visualize UDM\n",
    "\n",
    "Since the UDM is bit-encoded, its scale is not linear. In fact, each unique value represents a different quality classification. Therefore, we will treat it as a classified image. To visualize the UDM as a classified image, we will first define some utility functions for visualizing a classified band with matplotlib.\n",
    "\n",
    "### Visualizing a Classified Band"
   ]
  },
  {
   "cell_type": "code",
   "execution_count": null,
   "metadata": {},
   "outputs": [],
   "source": [
    "def plot_classified_band(class_band, class_labels=None, cmap='rainbow',\n",
    "                         title='Class Labels', figdim=10):\n",
    "    fig = plt.figure(figsize=(figdim, figdim))\n",
    "    ax = fig.add_subplot(1, 1, 1)\n",
    "    imshow_class_band(ax, class_band, class_labels, cmap=cmap)\n",
    "    ax.set_title(title)\n",
    "    ax.set_axis_off()\n",
    "\n",
    "def imshow_class_band(ax, class_band, class_labels=None, cmap='rainbow'):\n",
    "    \"\"\"Show classified band with colormap normalization and color legend. Alters ax in place.\n",
    "    \n",
    "    Possible cmaps ref: https://matplotlib.org/examples/color/colormaps_reference.html\n",
    "    \"\"\"\n",
    "    class_norm = _ClassNormalize(class_band)\n",
    "    im = ax.imshow(class_band, cmap=cmap, norm=class_norm, interpolation='none')\n",
    "\n",
    "    try:\n",
    "        # add class label legend\n",
    "        # https://stackoverflow.com/questions/25482876/how-to-add-legend-to-imshow-in-matplotlib\n",
    "        color_mapping = class_norm.mapping\n",
    "        colors = [im.cmap(color_mapping[k]) for k in class_labels.keys()]\n",
    "        labels = class_labels.values()\n",
    "\n",
    "        # https://matplotlib.org/users/legend_guide.html\n",
    "        # tag: #creating-artists-specifically-for-adding-to-the-legend-aka-proxy-artists\n",
    "        patches = [mpatches.Patch(color=c, label=l) for c,l in zip(colors, labels)]\n",
    "\n",
    "        ax.legend(handles=patches, bbox_to_anchor=(1, 1), loc='upper right', borderaxespad=0.)\n",
    "    except AttributeError:\n",
    "        # class_labels not specified\n",
    "        pass\n",
    "\n",
    "# https://matplotlib.org/users/colormapnorms.html#custom-normalization-two-linear-ranges\n",
    "class _ClassNormalize(colors.Normalize):\n",
    "    \"\"\"Matplotlib colormap normalizer for a classified band.\n",
    "    \n",
    "    Inspired by https://matplotlib.org/users/colormapnorms.html#custom-normalization-two-linear-ranges\n",
    "    \"\"\"\n",
    "    def __init__(self, arry):\n",
    "        # get unique unmasked values\n",
    "        values = [v for v in np.unique(arry)\n",
    "                  if not isinstance(v, np.ma.core.MaskedConstant)]\n",
    "\n",
    "        # map unique values to points in the range 0-1\n",
    "        color_ticks = np.array(range(len(values)), dtype=float) / (len(values) - 1)\n",
    "        self._mapping = dict((v, ct) for v, ct in zip(values, color_ticks))\n",
    "        \n",
    "        # Initialize base Normalize instance\n",
    "        vmin = 0\n",
    "        vmax = 1\n",
    "        clip = False\n",
    "        colors.Normalize.__init__(self, vmin, vmax, clip)\n",
    "    \n",
    "    def __call__(self, arry, clip=None):\n",
    "        '''Create classified representation of arry for display.'''\n",
    "        # round array back to ints for logical comparison\n",
    "        arry = np.around(arry)\n",
    "        new_arry = arry.copy()\n",
    "        for k, v in self._mapping.items():\n",
    "            new_arry[arry==k] = v\n",
    "        return new_arry\n",
    "    \n",
    "    @property\n",
    "    def mapping(self):\n",
    "        '''property required for colors.Normalize classes\n",
    "        \n",
    "        We update the _mapping property in __init__ and __call__ and just\n",
    "        return that property here.\n",
    "        '''\n",
    "        return self._mapping\n",
    "    \n",
    "# Test out classified band visualization\n",
    "test_classified_band = np.array(range(9)).reshape((3, 3))\n",
    "plot_classified_band(test_classified_band, title='Test Classified Band', figdim=2)"
   ]
  },
  {
   "cell_type": "markdown",
   "metadata": {},
   "source": [
    "### Load and Visualize UDM\n",
    "\n",
    "Above we downloaded the `basic_udm2` asset as a TIF file. Later notebooks explore the information contained in the various channels of this data structure. The original UDM asset is stored in channel 7. We show how to access it below."
   ]
  },
  {
   "cell_type": "code",
   "execution_count": null,
   "metadata": {},
   "outputs": [],
   "source": [
    "# Utility functions for loading a UDM image and identifying \n",
    "# binary representation as class labels\n",
    "def load_udm(udm_filename):\n",
    "    '''Load single-band bit-encoded UDM as a 2D array.'''\n",
    "    with rasterio.open(udm_filename, 'r') as src:\n",
    "        # The original UDM asset is in channel 7\n",
    "        udm = src.read()[7, ...]\n",
    "    return udm\n",
    "\n",
    "def get_udm_labels(udm):\n",
    "    '''Get the interpretation of the UDM binary values'''    \n",
    "    def get_label(v):\n",
    "        if v == 0:\n",
    "            label = 'clear'\n",
    "        elif v == 1:\n",
    "            label = 'blackfill'\n",
    "        else:\n",
    "            labels = []\n",
    "            if v & int('10', 2):\n",
    "                labels.append('cloud')\n",
    "            if v & int('11111100', 2):\n",
    "                bands = []\n",
    "                if v & int('100', 2):\n",
    "                    bands.append('Blue')\n",
    "                if v & int('1000', 2):\n",
    "                    bands.append('Green')\n",
    "                if v & int('10000', 2):\n",
    "                    bands.append('Red')\n",
    "                if v & int('100000', 2):\n",
    "                    bands.append('Red-Edge')\n",
    "                if v & int('1000000', 2):\n",
    "                    bands.append('NIR')\n",
    "                if v & int('10000000', 2):\n",
    "                    bands.append('Coastal Blue/Green I/Yellow')\n",
    "                labels.append('missing/suspect {} data'.format(', '.join(bands)))\n",
    "                \n",
    "            if not len(labels):\n",
    "                labels.append('{0:08b}'.format(v))\n",
    "\n",
    "            label = ' + '.join(labels)\n",
    "        return label\n",
    "\n",
    "    return OrderedDict((v, get_label(v)) for v in np.unique(udm))"
   ]
  },
  {
   "cell_type": "code",
   "execution_count": null,
   "metadata": {},
   "outputs": [],
   "source": [
    "udm = load_udm(udm_filename)\n",
    "udm_labels = get_udm_labels(udm)\n",
    "plot_classified_band(udm, class_labels=udm_labels, title='UDM')"
   ]
  },
  {
   "cell_type": "markdown",
   "metadata": {},
   "source": [
    "With this visualization, we can easily see the pixels with quality concerns. The upper-left and lower-right corners contain blackfill (Bit 1 is set to 1). Throughout the image, there are several rectangles that have suspect NIR data (Bit 6 is set to 1) - likely saturation in the NIR band. There are just a few pixels that may have cloud cover (Bit 1 set to 1), and/or suspect Blue, Green or Red data (Bits 2, 3, and 4, respectively)."
   ]
  },
  {
   "cell_type": "markdown",
   "metadata": {},
   "source": [
    "## Convert UDM to Mask\n",
    "\n",
    "In this section, we convert the UDM to a boolean mask that can be applied to the scene. In the mask, pixels with `True` (Integer representation is `1`) values are masked, pixels with `False` (Integer representation is `0`) values are not masked. We will create two different masks. First, we will mask out all pixels with quality concerns. This is the most likely use case. Second, we will not mask pixels that have suspect NIR values. This would apply to a use case where we only want to work with the visible (RGB) bands and aren't concerned with quality issues in the NIR band.\n",
    "\n",
    "### Mask all Pixels with Quality Concerns"
   ]
  },
  {
   "cell_type": "code",
   "execution_count": null,
   "metadata": {},
   "outputs": [],
   "source": [
    "mask_class_labels = {0: 'unmasked', 1: 'masked'}\n",
    "mask_cmap = 'viridis' # looks better when just two colors are displayed"
   ]
  },
  {
   "cell_type": "code",
   "execution_count": null,
   "metadata": {},
   "outputs": [],
   "source": [
    "def udm_to_mask_all(udm_array):\n",
    "    '''Create a mask from the udm, masking all pixels with quality concerns''' \n",
    "    return udm_array != 0\n",
    "\n",
    "plot_classified_band(udm_to_mask_all(udm),\n",
    "                     class_labels=mask_class_labels,\n",
    "                     cmap=mask_cmap,\n",
    "                     title='Mask All Quality Issues')"
   ]
  },
  {
   "cell_type": "markdown",
   "metadata": {},
   "source": [
    "### Mask Pixels with RGB Quality Concerns\n",
    "\n",
    "We saw some missing/suspect Blue channel data earlier, but it's hard to locate the pixel in the image. Let's make a mask of all RGB pixels with quality concerns (leaving out Bit 6, which is the NIR band)."
   ]
  },
  {
   "cell_type": "code",
   "execution_count": null,
   "metadata": {},
   "outputs": [],
   "source": [
    "def udm_to_mask_rgb(udm_array):\n",
    "    '''Create a mask from the udm, masking only pixels with RGB quality concerns''' \n",
    "    # RGB quality concern Bits: 2, 3, 4, 5, 7\n",
    "    test_bits = int('10111100', 2) # check for bits 2, 3, 4, 5, 7\n",
    "    bit_matches = udm_array & test_bits # bit-wise logical AND operator\n",
    "    return bit_matches != 0 # mask any pixels that match test bits\n",
    "\n",
    "plot_classified_band(udm_to_mask_rgb(udm),\n",
    "                     class_labels=mask_class_labels,\n",
    "                     cmap=mask_cmap,\n",
    "                     title='Mask RGB Quality Issues')"
   ]
  },
  {
   "cell_type": "markdown",
   "metadata": {},
   "source": [
    "You may have to squint, but we can see what appears to be a single pixel with quality concerns."
   ]
  },
  {
   "cell_type": "markdown",
   "metadata": {},
   "source": [
    "## Conclusion\n",
    "\n",
    "In this notebook, we have downloaded the UDM, visualized it with the binary representation of the values, interpreted the binary representation using the Bit value information, and converted the UDM to two different masks with different definitions of pixel quality concerns that should be masked."
   ]
  }
 ],
 "metadata": {
  "kernelspec": {
   "display_name": "Python 3 (ipykernel)",
   "language": "python",
   "name": "python3"
  },
  "language_info": {
   "codemirror_mode": {
    "name": "ipython",
    "version": 3
   },
   "file_extension": ".py",
   "mimetype": "text/x-python",
   "name": "python",
   "nbconvert_exporter": "python",
   "pygments_lexer": "ipython3",
   "version": "3.9.18"
  }
 },
 "nbformat": 4,
 "nbformat_minor": 2
}
