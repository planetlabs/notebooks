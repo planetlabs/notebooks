{
 "cells": [
  {
   "cell_type": "markdown",
   "id": "6b92d600",
   "metadata": {},
   "source": [
    "# Publish PlanetScope Imagery to ArcGIS Image for ArcGIS Online\n",
    "\n",
    "This script takes activated Planet orders and publishes them as Image Services with ArcGIS Online.  With Planet imagery published in ArcGIS Online, you are able to:\n",
    "\n",
    "* Use the imagery in analytics workflows using raster functions or raster analytics\n",
    "* Access full bit-depth imagery for custom stretching or band combinations performed on the fly\n",
    "* Securely share imagery with your end-users since it is hosted inside of ArcGIS Online\n",
    "\n",
    "This script specifically works with PlanetScope 8-band analytics surface reflectance assets, but could be modified to work with additional asset types.  For example, this could be extended to support Planet Basemaps or SkySat imagery.\n",
    "\n",
    "### Prerequisites\n",
    "\n",
    "* Access to ArcGIS Online with an [ArcGIS Image for ArcGIS Online license](https://www.esri.com/en-us/arcgis/products/arcgis-image/options/arcgis-online)\n",
    "* A previously placed order for PlanetScope 8-band imagery, either through our [Order's API](https://developers.planet.com/docs/orders/), [ArcGIS Pro Integration](https://developers.planet.com/docs/integrations/arcgis/), or [Explorer](https://www.planet.com/explorer)\n",
    "* Edit the config.py file in this notebooks folder which is used to store credentials for ArcGIS Online and Planet's platform.\n"
   ]
  },
  {
   "cell_type": "code",
   "execution_count": 91,
   "id": "e1917e19",
   "metadata": {},
   "outputs": [],
   "source": [
    "import arcgis\n",
    "from arcgis.gis import GIS\n",
    "from arcgis.raster.analytics import copy_raster, create_image_collection, list_datastore_content\n",
    "import os\n",
    "import planet \n",
    "import asyncio\n",
    "import glob\n",
    "from zipfile import ZipFile\n",
    "from pathlib import Path\n",
    "import pandas as pd\n",
    "import datetime"
   ]
  },
  {
   "cell_type": "code",
   "execution_count": null,
   "metadata": {},
   "outputs": [],
   "source": [
    "# Connect to Planet API\n",
    "\n",
    "pl_api_key = os.environ.get(\"PL_API_KEY\")\n",
    "plsdk_auth = planet.Auth.from_key(key=pl_api_key)\n",
    "sess = planet.Session(plsdk_auth)\n",
    "pl = planet.Planet(sess)"
   ]
  },
  {
   "cell_type": "markdown",
   "id": "563bc070",
   "metadata": {},
   "source": [
    "First, you need to provide an order ID to publish.  You could get the order ID from:\n",
    "\n",
    "* Manually from [Planet Explorer](https://www.planet.com/explorer) or your [planet.com account orders page](https://www.planet.com/account/#/orders)\n",
    "* Or programatically from Planet's Orders API\n",
    "\n",
    "For example, a script could be used to search for orders from with the last 24 hours to be published to ArcGIS Online.\n",
    "\n",
    "For this script, choose an order for the asset type <code>analytic_8b_sr_udm2</code> and which was not delivered to hosted data."
   ]
  },
  {
   "cell_type": "code",
   "execution_count": 57,
   "id": "cb4371ee",
   "metadata": {},
   "outputs": [
    {
     "data": {
      "text/html": [
       "<div>\n",
       "<style scoped>\n",
       "    .dataframe tbody tr th:only-of-type {\n",
       "        vertical-align: middle;\n",
       "    }\n",
       "\n",
       "    .dataframe tbody tr th {\n",
       "        vertical-align: top;\n",
       "    }\n",
       "\n",
       "    .dataframe thead th {\n",
       "        text-align: right;\n",
       "    }\n",
       "</style>\n",
       "<table border=\"1\" class=\"dataframe\">\n",
       "  <thead>\n",
       "    <tr style=\"text-align: right;\">\n",
       "      <th></th>\n",
       "      <th>ID</th>\n",
       "      <th>Created</th>\n",
       "      <th>Name</th>\n",
       "      <th>State</th>\n",
       "      <th>Item Type</th>\n",
       "      <th>Product Bundle</th>\n",
       "    </tr>\n",
       "  </thead>\n",
       "  <tbody>\n",
       "    <tr>\n",
       "      <th>0</th>\n",
       "      <td>6bb2fac9-ce05-4700-b5db-2504f28223dd</td>\n",
       "      <td>2025-06-10T18:10:30.564596Z</td>\n",
       "      <td>scenes order, direct download</td>\n",
       "      <td>success</td>\n",
       "      <td>PSScene</td>\n",
       "      <td>analytic_udm2</td>\n",
       "    </tr>\n",
       "    <tr>\n",
       "      <th>1</th>\n",
       "      <td>dfdf25e0-96c1-4fef-8d38-d65a26673916</td>\n",
       "      <td>2025-06-10T18:07:24.63035Z</td>\n",
       "      <td>San Francisco May 31</td>\n",
       "      <td>success</td>\n",
       "      <td>PSScene</td>\n",
       "      <td>analytic_8b_sr_udm2</td>\n",
       "    </tr>\n",
       "    <tr>\n",
       "      <th>2</th>\n",
       "      <td>2d2a4501-c0f6-4649-bec5-3a6a95be803e</td>\n",
       "      <td>2025-06-10T17:51:56.180156Z</td>\n",
       "      <td>Pheonix Order</td>\n",
       "      <td>success</td>\n",
       "      <td>PSScene</td>\n",
       "      <td>analytic_8b_sr_udm2</td>\n",
       "    </tr>\n",
       "  </tbody>\n",
       "</table>\n",
       "</div>"
      ],
      "text/plain": [
       "                                     ID                      Created  \\\n",
       "0  6bb2fac9-ce05-4700-b5db-2504f28223dd  2025-06-10T18:10:30.564596Z   \n",
       "1  dfdf25e0-96c1-4fef-8d38-d65a26673916   2025-06-10T18:07:24.63035Z   \n",
       "2  2d2a4501-c0f6-4649-bec5-3a6a95be803e  2025-06-10T17:51:56.180156Z   \n",
       "\n",
       "                            Name    State Item Type       Product Bundle  \n",
       "0  scenes order, direct download  success   PSScene        analytic_udm2  \n",
       "1           San Francisco May 31  success   PSScene  analytic_8b_sr_udm2  \n",
       "2                  Pheonix Order  success   PSScene  analytic_8b_sr_udm2  "
      ]
     },
     "execution_count": 57,
     "metadata": {},
     "output_type": "execute_result"
    }
   ],
   "source": [
    "# Collect all orders\n",
    "all_orders = []\n",
    "\n",
    "# Get the generator from list_orders\n",
    "orders_generator = pl.orders.list_orders()\n",
    "\n",
    "# Iterate through the generator to get each order\n",
    "for order in orders_generator:\n",
    "    all_orders.append(order)\n",
    "\n",
    "# Extract relevant fields into a list of dictionaries\n",
    "orders_data = []\n",
    "for order in all_orders:\n",
    "    # Extract product details if available\n",
    "    item_type = \"N/A\"\n",
    "    product_bundle = \"N/A\"\n",
    "    if order.get('products') and len(order['products']) > 0:\n",
    "        item_type = order['products'][0].get('item_type', 'N/A')\n",
    "        product_bundle = order['products'][0].get('product_bundle', 'N/A')\n",
    "    \n",
    "    # Create a simplified dictionary with just the fields we want\n",
    "    order_info = {\n",
    "        'ID': order.get('id', 'N/A'),\n",
    "        'Created': order.get('created_on', 'N/A'),\n",
    "        'Name': order.get('name', 'N/A'),\n",
    "        'State': order.get('state', 'N/A'),\n",
    "        'Item Type': item_type,\n",
    "        'Product Bundle': product_bundle\n",
    "    }\n",
    "    orders_data.append(order_info)\n",
    "\n",
    "# Create and display DataFrame\n",
    "orders_df = pd.DataFrame(orders_data)\n",
    "orders_df"
   ]
  },
  {
   "cell_type": "code",
   "execution_count": 63,
   "id": "959592a8",
   "metadata": {},
   "outputs": [
    {
     "name": "stdout",
     "output_type": "stream",
     "text": [
      "Order to be published: scenes order, direct download - id: 6bb2fac9-ce05-4700-b5db-2504f28223dd\n"
     ]
    }
   ],
   "source": [
    "# Select the first order ID to use in the next steps, or specify your own\n",
    "my_order_id = orders_df.iloc[0].ID\n",
    "# my_order_id = \"your-planet-order-id\"\n",
    "my_order_name = pl.orders.get_order(my_order_id)['name']\n",
    "\n",
    "print(f'Order to be published: {my_order_name} - id: {my_order_id}')"
   ]
  },
  {
   "cell_type": "code",
   "execution_count": 89,
   "id": "89dff08b",
   "metadata": {},
   "outputs": [
    {
     "name": "stdout",
     "output_type": "stream",
     "text": [
      "Processing order: scenes order, direct download\n",
      "All files will be stored in: planet_downloads\\6bb2fac9-ce05-4700-b5db-2504f28223dd\n",
      "Order contains direct file links - downloading individual files...\n",
      "Downloading 6bb2fac9-ce05-4700-b5db-2504f28223dd/PSScene/20250531_185113_13_24b9_3B_udm2.tif...\n"
     ]
    },
    {
     "name": "stderr",
     "output_type": "stream",
     "text": [
      "planet_downloads\\6bb2fac9-ce05-4700-b5db-2504f28223dd\\PSScene\\20250531_185113_13_24b9_3B_udm2.tif: 100%|██████████| 3.06k/3.06k [00:00<00:00, 8.62MB/s]\n"
     ]
    },
    {
     "name": "stdout",
     "output_type": "stream",
     "text": [
      "Downloading 6bb2fac9-ce05-4700-b5db-2504f28223dd/PSScene/20250531_185113_13_24b9_3B_AnalyticMS_metadata.xml...\n"
     ]
    },
    {
     "name": "stderr",
     "output_type": "stream",
     "text": [
      "planet_downloads\\6bb2fac9-ce05-4700-b5db-2504f28223dd\\PSScene\\20250531_185113_13_24b9_3B_AnalyticMS_metadata.xml: 100%|██████████| 0.01k/0.01k [00:00<00:00, 2.42MB/s]\n"
     ]
    },
    {
     "name": "stdout",
     "output_type": "stream",
     "text": [
      "Downloading 6bb2fac9-ce05-4700-b5db-2504f28223dd/PSScene/20250531_185113_13_24b9_3B_AnalyticMS.tif...\n"
     ]
    },
    {
     "name": "stderr",
     "output_type": "stream",
     "text": [
      "planet_downloads\\6bb2fac9-ce05-4700-b5db-2504f28223dd\\PSScene\\20250531_185113_13_24b9_3B_AnalyticMS.tif: 100%|██████████| 372k/372k [00:19<00:00, 20.4MB/s] \n"
     ]
    },
    {
     "name": "stdout",
     "output_type": "stream",
     "text": [
      "Downloading 6bb2fac9-ce05-4700-b5db-2504f28223dd/PSScene/20250531_185113_13_24b9_metadata.json...\n"
     ]
    },
    {
     "name": "stderr",
     "output_type": "stream",
     "text": [
      "planet_downloads\\6bb2fac9-ce05-4700-b5db-2504f28223dd\\PSScene\\20250531_185113_13_24b9_metadata.json: 100%|██████████| 980/980 [00:00<00:00, 491kB/s]\n"
     ]
    },
    {
     "name": "stdout",
     "output_type": "stream",
     "text": [
      "Downloading 6bb2fac9-ce05-4700-b5db-2504f28223dd/PSScene/20250531_185111_32_24b9_3B_udm2.tif...\n"
     ]
    },
    {
     "name": "stderr",
     "output_type": "stream",
     "text": [
      "planet_downloads\\6bb2fac9-ce05-4700-b5db-2504f28223dd\\PSScene\\20250531_185111_32_24b9_3B_udm2.tif: 100%|██████████| 3.46k/3.46k [00:00<00:00, 30.5MB/s]\n"
     ]
    },
    {
     "name": "stdout",
     "output_type": "stream",
     "text": [
      "Downloading 6bb2fac9-ce05-4700-b5db-2504f28223dd/PSScene/20250531_185111_32_24b9_3B_AnalyticMS_metadata.xml...\n"
     ]
    },
    {
     "name": "stderr",
     "output_type": "stream",
     "text": [
      "planet_downloads\\6bb2fac9-ce05-4700-b5db-2504f28223dd\\PSScene\\20250531_185111_32_24b9_3B_AnalyticMS_metadata.xml: 100%|██████████| 0.01k/0.01k [00:00<00:00, 3.25MB/s]\n"
     ]
    },
    {
     "name": "stdout",
     "output_type": "stream",
     "text": [
      "Downloading 6bb2fac9-ce05-4700-b5db-2504f28223dd/PSScene/20250531_185111_32_24b9_3B_AnalyticMS.tif...\n"
     ]
    },
    {
     "name": "stderr",
     "output_type": "stream",
     "text": [
      "planet_downloads\\6bb2fac9-ce05-4700-b5db-2504f28223dd\\PSScene\\20250531_185111_32_24b9_3B_AnalyticMS.tif: 100%|██████████| 373k/373k [00:19<00:00, 20.0MB/s] \n"
     ]
    },
    {
     "name": "stdout",
     "output_type": "stream",
     "text": [
      "Downloading 6bb2fac9-ce05-4700-b5db-2504f28223dd/PSScene/20250531_185111_32_24b9_metadata.json...\n"
     ]
    },
    {
     "name": "stderr",
     "output_type": "stream",
     "text": [
      "planet_downloads\\6bb2fac9-ce05-4700-b5db-2504f28223dd\\PSScene\\20250531_185111_32_24b9_metadata.json: 100%|██████████| 975/975 [00:00<00:00, 483kB/s]\n"
     ]
    },
    {
     "name": "stdout",
     "output_type": "stream",
     "text": [
      "Downloading 6bb2fac9-ce05-4700-b5db-2504f28223dd/PSScene/20250531_191452_15_2507_3B_udm2.tif...\n"
     ]
    },
    {
     "name": "stderr",
     "output_type": "stream",
     "text": [
      "planet_downloads\\6bb2fac9-ce05-4700-b5db-2504f28223dd\\PSScene\\20250531_191452_15_2507_3B_udm2.tif: 100%|██████████| 5.16k/5.16k [00:00<00:00, 17.7MB/s]\n"
     ]
    },
    {
     "name": "stdout",
     "output_type": "stream",
     "text": [
      "Downloading 6bb2fac9-ce05-4700-b5db-2504f28223dd/PSScene/20250531_191452_15_2507_3B_AnalyticMS_metadata.xml...\n"
     ]
    },
    {
     "name": "stderr",
     "output_type": "stream",
     "text": [
      "planet_downloads\\6bb2fac9-ce05-4700-b5db-2504f28223dd\\PSScene\\20250531_191452_15_2507_3B_AnalyticMS_metadata.xml: 100%|██████████| 0.01k/0.01k [00:00<00:00, 4.32MB/s]\n"
     ]
    },
    {
     "name": "stdout",
     "output_type": "stream",
     "text": [
      "Downloading 6bb2fac9-ce05-4700-b5db-2504f28223dd/PSScene/20250531_191452_15_2507_3B_AnalyticMS.tif...\n"
     ]
    },
    {
     "name": "stderr",
     "output_type": "stream",
     "text": [
      "planet_downloads\\6bb2fac9-ce05-4700-b5db-2504f28223dd\\PSScene\\20250531_191452_15_2507_3B_AnalyticMS.tif: 100%|██████████| 537k/537k [00:30<00:00, 18.2MB/s] \n"
     ]
    },
    {
     "name": "stdout",
     "output_type": "stream",
     "text": [
      "Downloading 6bb2fac9-ce05-4700-b5db-2504f28223dd/PSScene/20250531_191452_15_2507_metadata.json...\n"
     ]
    },
    {
     "name": "stderr",
     "output_type": "stream",
     "text": [
      "planet_downloads\\6bb2fac9-ce05-4700-b5db-2504f28223dd\\PSScene\\20250531_191452_15_2507_metadata.json: 100%|██████████| 972/972 [00:00<00:00, 482kB/s]\n"
     ]
    },
    {
     "name": "stdout",
     "output_type": "stream",
     "text": [
      "Downloading 6bb2fac9-ce05-4700-b5db-2504f28223dd/PSScene/20250531_191449_94_2507_3B_udm2.tif...\n"
     ]
    },
    {
     "name": "stderr",
     "output_type": "stream",
     "text": [
      "planet_downloads\\6bb2fac9-ce05-4700-b5db-2504f28223dd\\PSScene\\20250531_191449_94_2507_3B_udm2.tif: 100%|██████████| 4.81k/4.81k [00:00<00:00, 27.0MB/s]\n"
     ]
    },
    {
     "name": "stdout",
     "output_type": "stream",
     "text": [
      "Downloading 6bb2fac9-ce05-4700-b5db-2504f28223dd/PSScene/20250531_191449_94_2507_3B_AnalyticMS_metadata.xml...\n"
     ]
    },
    {
     "name": "stderr",
     "output_type": "stream",
     "text": [
      "planet_downloads\\6bb2fac9-ce05-4700-b5db-2504f28223dd\\PSScene\\20250531_191449_94_2507_3B_AnalyticMS_metadata.xml: 100%|██████████| 0.01k/0.01k [00:00<00:00, 4.68MB/s]\n"
     ]
    },
    {
     "name": "stdout",
     "output_type": "stream",
     "text": [
      "Downloading 6bb2fac9-ce05-4700-b5db-2504f28223dd/PSScene/20250531_191449_94_2507_3B_AnalyticMS.tif...\n"
     ]
    },
    {
     "name": "stderr",
     "output_type": "stream",
     "text": [
      "planet_downloads\\6bb2fac9-ce05-4700-b5db-2504f28223dd\\PSScene\\20250531_191449_94_2507_3B_AnalyticMS.tif: 100%|██████████| 555k/555k [00:32<00:00, 18.1MB/s] \n"
     ]
    },
    {
     "name": "stdout",
     "output_type": "stream",
     "text": [
      "Downloading 6bb2fac9-ce05-4700-b5db-2504f28223dd/PSScene/20250531_191449_94_2507_metadata.json...\n"
     ]
    },
    {
     "name": "stderr",
     "output_type": "stream",
     "text": [
      "planet_downloads\\6bb2fac9-ce05-4700-b5db-2504f28223dd\\PSScene\\20250531_191449_94_2507_metadata.json: 100%|██████████| 972/972 [00:00<00:00, 611kB/s]\n"
     ]
    },
    {
     "name": "stdout",
     "output_type": "stream",
     "text": [
      "Downloading 6bb2fac9-ce05-4700-b5db-2504f28223dd/PSScene/20250531_191447_74_2507_3B_udm2.tif...\n"
     ]
    },
    {
     "name": "stderr",
     "output_type": "stream",
     "text": [
      "planet_downloads\\6bb2fac9-ce05-4700-b5db-2504f28223dd\\PSScene\\20250531_191447_74_2507_3B_udm2.tif: 100%|██████████| 3.28k/3.28k [00:00<00:00, 12.6MB/s]\n"
     ]
    },
    {
     "name": "stdout",
     "output_type": "stream",
     "text": [
      "Downloading 6bb2fac9-ce05-4700-b5db-2504f28223dd/PSScene/20250531_191447_74_2507_3B_AnalyticMS_metadata.xml...\n"
     ]
    },
    {
     "name": "stderr",
     "output_type": "stream",
     "text": [
      "planet_downloads\\6bb2fac9-ce05-4700-b5db-2504f28223dd\\PSScene\\20250531_191447_74_2507_3B_AnalyticMS_metadata.xml: 100%|██████████| 0.01k/0.01k [00:00<00:00, 3.37MB/s]\n"
     ]
    },
    {
     "name": "stdout",
     "output_type": "stream",
     "text": [
      "Downloading 6bb2fac9-ce05-4700-b5db-2504f28223dd/PSScene/20250531_191447_74_2507_3B_AnalyticMS.tif...\n"
     ]
    },
    {
     "name": "stderr",
     "output_type": "stream",
     "text": [
      "planet_downloads\\6bb2fac9-ce05-4700-b5db-2504f28223dd\\PSScene\\20250531_191447_74_2507_3B_AnalyticMS.tif: 100%|██████████| 558k/558k [00:34<00:00, 17.2MB/s] \n"
     ]
    },
    {
     "name": "stdout",
     "output_type": "stream",
     "text": [
      "Downloading 6bb2fac9-ce05-4700-b5db-2504f28223dd/PSScene/20250531_191447_74_2507_metadata.json...\n"
     ]
    },
    {
     "name": "stderr",
     "output_type": "stream",
     "text": [
      "planet_downloads\\6bb2fac9-ce05-4700-b5db-2504f28223dd\\PSScene\\20250531_191447_74_2507_metadata.json: 100%|██████████| 977/977 [00:00<00:00, 508kB/s]\n"
     ]
    },
    {
     "name": "stdout",
     "output_type": "stream",
     "text": [
      "Downloading 6bb2fac9-ce05-4700-b5db-2504f28223dd/PSScene/20250531_185109_51_24b9_3B_udm2.tif...\n"
     ]
    },
    {
     "name": "stderr",
     "output_type": "stream",
     "text": [
      "planet_downloads\\6bb2fac9-ce05-4700-b5db-2504f28223dd\\PSScene\\20250531_185109_51_24b9_3B_udm2.tif: 100%|██████████| 2.95k/2.95k [00:00<00:00, 26.7MB/s]\n"
     ]
    },
    {
     "name": "stdout",
     "output_type": "stream",
     "text": [
      "Downloading 6bb2fac9-ce05-4700-b5db-2504f28223dd/PSScene/20250531_185109_51_24b9_3B_AnalyticMS_metadata.xml...\n"
     ]
    },
    {
     "name": "stderr",
     "output_type": "stream",
     "text": [
      "planet_downloads\\6bb2fac9-ce05-4700-b5db-2504f28223dd\\PSScene\\20250531_185109_51_24b9_3B_AnalyticMS_metadata.xml: 100%|██████████| 0.01k/0.01k [00:00<00:00, 1.91MB/s]\n"
     ]
    },
    {
     "name": "stdout",
     "output_type": "stream",
     "text": [
      "Downloading 6bb2fac9-ce05-4700-b5db-2504f28223dd/PSScene/20250531_185109_51_24b9_3B_AnalyticMS.tif...\n"
     ]
    },
    {
     "name": "stderr",
     "output_type": "stream",
     "text": [
      "planet_downloads\\6bb2fac9-ce05-4700-b5db-2504f28223dd\\PSScene\\20250531_185109_51_24b9_3B_AnalyticMS.tif: 100%|██████████| 366k/366k [00:21<00:00, 17.6MB/s] \n"
     ]
    },
    {
     "name": "stdout",
     "output_type": "stream",
     "text": [
      "Downloading 6bb2fac9-ce05-4700-b5db-2504f28223dd/PSScene/20250531_185109_51_24b9_metadata.json...\n"
     ]
    },
    {
     "name": "stderr",
     "output_type": "stream",
     "text": [
      "planet_downloads\\6bb2fac9-ce05-4700-b5db-2504f28223dd\\PSScene\\20250531_185109_51_24b9_metadata.json: 100%|██████████| 977/977 [00:00<00:00, 347kB/s]\n"
     ]
    },
    {
     "name": "stdout",
     "output_type": "stream",
     "text": [
      "Downloading 6bb2fac9-ce05-4700-b5db-2504f28223dd/manifest.json...\n"
     ]
    },
    {
     "name": "stderr",
     "output_type": "stream",
     "text": [
      "planet_downloads\\6bb2fac9-ce05-4700-b5db-2504f28223dd\\manifest.json: 100%|██████████| 0.01k/0.01k [00:00<00:00, 1.69MB/s]"
     ]
    },
    {
     "name": "stdout",
     "output_type": "stream",
     "text": [
      "\n",
      "Download complete! Found 6 SR tiff files:\n",
      "  planet_downloads\\6bb2fac9-ce05-4700-b5db-2504f28223dd\\PSScene\\20250531_185109_51_24b9_3B_AnalyticMS.tif\n",
      "  planet_downloads\\6bb2fac9-ce05-4700-b5db-2504f28223dd\\PSScene\\20250531_185111_32_24b9_3B_AnalyticMS.tif\n",
      "  planet_downloads\\6bb2fac9-ce05-4700-b5db-2504f28223dd\\PSScene\\20250531_185113_13_24b9_3B_AnalyticMS.tif\n",
      "  planet_downloads\\6bb2fac9-ce05-4700-b5db-2504f28223dd\\PSScene\\20250531_191447_74_2507_3B_AnalyticMS.tif\n",
      "  planet_downloads\\6bb2fac9-ce05-4700-b5db-2504f28223dd\\PSScene\\20250531_191449_94_2507_3B_AnalyticMS.tif\n",
      "  planet_downloads\\6bb2fac9-ce05-4700-b5db-2504f28223dd\\PSScene\\20250531_191452_15_2507_3B_AnalyticMS.tif\n",
      "\n",
      "All files stored in: planet_downloads\\6bb2fac9-ce05-4700-b5db-2504f28223dd\n",
      "File paths available in 'local_tiff_files' array\n"
     ]
    },
    {
     "name": "stderr",
     "output_type": "stream",
     "text": [
      "\n"
     ]
    }
   ],
   "source": [
    "# Create download directory if it doesn't exist\n",
    "download_dir = Path(\"./planet_downloads\")\n",
    "download_dir.mkdir(exist_ok=True)\n",
    "\n",
    "# Create order-specific directory\n",
    "order_dir = download_dir / my_order_id\n",
    "order_dir.mkdir(exist_ok=True)\n",
    "\n",
    "# Array to store local file paths\n",
    "local_tiff_files = []\n",
    "\n",
    "# Create an async Planet API session\n",
    "async with planet.Session() as ps:\n",
    "    \n",
    "    # Create a Planet API client using the modern method\n",
    "    client = ps.client('orders')\n",
    "    \n",
    "    # Get the order details and name\n",
    "    order_details = await client.get_order(order_id=my_order_id)\n",
    "    order_name = order_details['name']\n",
    "    print(f\"Processing order: {order_name}\")\n",
    "    print(f\"All files will be stored in: {order_dir}\")\n",
    "\n",
    "    # Check if the order has been successfully completed\n",
    "    if order_details['state'] != 'success':\n",
    "        print(\"Order isn't completed yet\")\n",
    "        raise Exception(\"Order not ready for download\")\n",
    "\n",
    "    # Check if the order contains zip archives or direct file links\n",
    "    zip_archives = [r['name'] for r in order_details['_links']['results'] if r['name'].endswith(\".zip\")]\n",
    "    \n",
    "    if len(zip_archives) > 0:\n",
    "        print(\"Order contains zip archives - downloading and extracting...\")\n",
    "        \n",
    "        # Create subfolders for organization\n",
    "        raw_dir = order_dir / \"raw_downloads\"\n",
    "        extracted_dir = order_dir / \"extracted\"\n",
    "        raw_dir.mkdir(exist_ok=True)\n",
    "        extracted_dir.mkdir(exist_ok=True)\n",
    "        \n",
    "        # Download all assets including zip archives to the raw downloads folder within order directory\n",
    "        download_results = await client.download_order(\n",
    "            my_order_id, \n",
    "            directory=raw_dir,  # Download to raw folder within order directory\n",
    "            overwrite=True,\n",
    "            progress_bar=True\n",
    "        )\n",
    "        \n",
    "        # Create a list of all zip files that were downloaded\n",
    "        zip_files = [x for x in download_results if x.suffix == \".zip\"]\n",
    "        \n",
    "        # Extract each zip file to the extracted folder\n",
    "        for zip_file in zip_files:\n",
    "            print(f\"Extracting {zip_file.name}...\")\n",
    "            with ZipFile(zip_file) as z:\n",
    "                z.extractall(extracted_dir)  # Extract to extracted folder\n",
    "        \n",
    "        # Find all relevant tiff files in the extracted directory\n",
    "        local_tiff_files = [file for file in extracted_dir.glob(\"**/*.tif\") if \"udm\" not in file.name.lower()]\n",
    "\n",
    "    else:\n",
    "        print(\"Order contains direct file links - downloading individual files...\")\n",
    "        \n",
    "        # Download each tiff file individually to the order directory\n",
    "        for result in order_details['_links']['results']:\n",
    "            filename = result['name']\n",
    "            location = result['location']\n",
    "            \n",
    "            print(f\"Downloading {filename}...\")\n",
    "            downloaded_file = await client.download_asset(\n",
    "                location=location,\n",
    "                filename=filename,\n",
    "                directory=download_dir,  # Download directly to order directory\n",
    "                overwrite=True,\n",
    "                progress_bar=True\n",
    "            )\n",
    "            \n",
    "        # Find all relevant tiff files in the extracted directory\n",
    "        local_tiff_files = [file for file in order_dir.glob(\"**/*.tif\") if \"udm\" not in file.name.lower()]\n",
    "        \n",
    "print(f\"\\nDownload complete! Found {len(local_tiff_files)} SR tiff files:\")\n",
    "for file_path in local_tiff_files:\n",
    "    print(f\"  {file_path}\")\n",
    "\n",
    "print(f\"\\nAll files stored in: {order_dir}\")\n",
    "print(f\"File paths available in 'local_tiff_files' array\")\n",
    "\n",
    "# The local_tiff_files array now contains Path objects for all downloaded tiff files\n",
    "# You can use these for processing and delete them later when done"
   ]
  },
  {
   "cell_type": "markdown",
   "id": "a21ed3e0",
   "metadata": {},
   "source": [
    "## Publish to ArcGIS Online\n",
    "\n",
    "Now the imagery can be published to ArcGIS Online!  Simply authenticate to ArcGIS Online, create a unique name for your imagery layer, and publish the imagery layer."
   ]
  },
  {
   "cell_type": "code",
   "execution_count": null,
   "id": "ee80307f",
   "metadata": {},
   "outputs": [],
   "source": [
    "# Connect to ArcGIS Online\n",
    "gis = arcgis.gis.GIS(url=\"https://www.arcgis.com\", client_id=\"8q9yiqWxN3WydTob\")\n",
    "# gis = arcgis.gis.GIS(url=\"https://www.arcgis.com\", client_id=\"your-arcgis-client-id\")\n",
    "gis"
   ]
  },
  {
   "cell_type": "code",
   "execution_count": null,
   "id": "847b1ca8",
   "metadata": {},
   "outputs": [],
   "source": [
    "if not local_tiff_files:\n",
    "    print(\"No tiff files found. Make sure to run the Planet download code first.\")\n",
    "else:\n",
    "    # Create a unique timestamp\n",
    "    timestamp = datetime.datetime.now().strftime('%Y%m%d%H%M%S')\n",
    "    \n",
    "    # Use timestamp and order name to create a unique name for the image collection\n",
    "    # Extract a meaningful identifier from the first file name\n",
    "    first_file_stem = local_tiff_files[0].stem\n",
    "    scene_id = first_file_stem.split('_')[0]  # Get the scene ID part\n",
    "    layer_name = f\"PlanetLabs_{scene_id}_{timestamp}\"\n",
    "    \n",
    "    print(f\"Creating image collection: {layer_name}\")\n",
    "    print(f\"Processing {len(local_tiff_files)} Planet images...\")\n",
    "    \n",
    "    # Convert Path objects to strings for the API\n",
    "    # Use the order directory directly since everything is now flat\n",
    "    order_dir = download_dir / my_order_id\n",
    "    input_folder = str(order_dir)  # Use the order-specific folder containing all images\n",
    "    \n",
    "    # Create the image collection using Planet imagery\n",
    "    # Note: This can take significant time with large datasets\n",
    "    try:\n",
    "        published_imagery_layer = create_image_collection(\n",
    "            image_collection=layer_name,\n",
    "            input_rasters=input_folder,\n",
    "            raster_type_name=\"Raster Dataset\",  # Generic raster type - ArcGIS will detect metadata\n",
    "            context={\n",
    "                \"outSR\": {\"wkid\": 3857},  # Web Mercator projection\n",
    "                \"defineNodata\": True,\n",
    "                \"noDataArguments\": {\n",
    "                    \"noDataValues\": [0],  # Planet uses 0 for nodata\n",
    "                    \"compositeValue\": True\n",
    "                },\n",
    "                \"buildFootprints\": True,  # Enable footprints for better mosaicking\n",
    "                \"buildOverview\": True,\n",
    "                \"image_collection_properties\": {\n",
    "                    \"imageCollectionType\": \"Satellite\"\n",
    "                }\n",
    "            },\n",
    "            gis=gis\n",
    "        )\n",
    "        \n",
    "        print(f\"✅ Successfully created image collection: {layer_name}\")\n",
    "        print(f\"📍 Image service URL: {published_imagery_layer.url}\")\n",
    "        print(f\"🆔 Item ID: {published_imagery_layer.itemid}\")\n",
    "        \n",
    "        # Store the result for later use\n",
    "        planet_image_collection = published_imagery_layer\n",
    "        \n",
    "    except Exception as e:\n",
    "        print(f\"❌ Error creating image collection: {str(e)}\")\n",
    "        print(\"This might be due to:\")\n",
    "        print(\"- Insufficient ArcGIS Online privileges\")\n",
    "        print(\"- Raster analysis not configured properly\")\n",
    "        print(\"- Large dataset size (try with fewer images first)\")"
   ]
  },
  {
   "cell_type": "markdown",
   "id": "9839139d",
   "metadata": {},
   "source": [
    "## View the New Image Service and Clean Up Folders\n",
    "Now we can view the Image Service by drawing it on a map directly in this notebook!  Or you can view it in your ArcGIS Online environment.\n",
    "\n",
    "#### Want to see the data now? [Check out this map here.](https://planetlabs.maps.arcgis.com/apps/instant/basic/index.html?appid=eaeaa5cf78694c63b9955ff7c87e479f)"
   ]
  },
  {
   "cell_type": "code",
   "execution_count": null,
   "id": "8a2a7608",
   "metadata": {},
   "outputs": [],
   "source": [
    "# view the new imagery layer on an arcgis map\n",
    "# this layer can now be added to other maps, analyzed with ArcGIS Raster Analytics tools, and more\n",
    "\n",
    "my_map = gis.map(location = planet_image_collection.extent, zoomlevel = 11)\n",
    "my_map.basemap = \"imagery\"\n",
    "my_map.add_layer(planet_image_collection)\n",
    "my_map"
   ]
  }
 ],
 "metadata": {
  "kernelspec": {
   "display_name": "sentinel-hub",
   "language": "python",
   "name": "python3"
  },
  "language_info": {
   "codemirror_mode": {
    "name": "ipython",
    "version": 3
   },
   "file_extension": ".py",
   "mimetype": "text/x-python",
   "name": "python",
   "nbconvert_exporter": "python",
   "pygments_lexer": "ipython3",
   "version": "3.11.8"
  }
 },
 "nbformat": 4,
 "nbformat_minor": 5
}
