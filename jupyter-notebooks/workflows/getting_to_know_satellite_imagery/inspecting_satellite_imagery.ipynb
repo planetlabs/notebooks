{
 "cells": [
  {
   "cell_type": "markdown",
   "metadata": {},
   "source": [
    "# Inspecting Satellite Imagery using Rasterio\n",
    "## A first look at satellite data with Python\n",
    "\n",
    "At this point, you will have learned different ways of searching for, filtering, and downloading satellite imagery. Now let's use one of these acquired datasets and dig into it a bit with Python.\n",
    "\n",
    "Here we're going to use a Python library called [Rasterio](https://rasterio.readthedocs.io/en/stable/): you may be familiar with it already, or perhaps with the related C library, [GDAL](https://gdal.org/). If you've used [Numpy](http://www.numpy.org/) before, working with [Rasterio](https://rasterio.readthedocs.io/en/stable/) will feel very familiar."
   ]
  },
  {
   "cell_type": "code",
   "execution_count": 1,
   "metadata": {},
   "outputs": [],
   "source": [
    "from __future__ import division\n",
    "\n",
    "import math\n",
    "\n",
    "import rasterio\n",
    "\n",
    "\n",
    "# This notebook explores a single 4 band (blue, green, red, NIR) PlanetScope scene in a UTM projection.\n",
    "image_file = \"example.tif\"\n",
    "\n",
    "satdat = rasterio.open(image_file)"
   ]
  },
  {
   "cell_type": "markdown",
   "metadata": {},
   "source": [
    "## Basic details\n",
    "What can we learn about this satellite image using just Python?"
   ]
  },
  {
   "cell_type": "code",
   "execution_count": 2,
   "metadata": {},
   "outputs": [
    {
     "name": "stdout",
     "output_type": "stream",
     "text": [
      "BoundingBox(left=544170.0, bottom=3759147.0, right=550146.0, top=3766416.0)\n"
     ]
    }
   ],
   "source": [
    "# Minimum bounding box in projected units\n",
    "\n",
    "print(satdat.bounds)"
   ]
  },
  {
   "cell_type": "code",
   "execution_count": 3,
   "metadata": {},
   "outputs": [
    {
     "name": "stdout",
     "output_type": "stream",
     "text": [
      "Width: 5976.0, Height: 7269.0\n"
     ]
    }
   ],
   "source": [
    "# Get dimensions, in map units (using the example GeoTIFF, that's meters)\n",
    "\n",
    "width_in_projected_units = satdat.bounds.right - satdat.bounds.left\n",
    "height_in_projected_units = satdat.bounds.top - satdat.bounds.bottom\n",
    "\n",
    "print(\"Width: {}, Height: {}\".format(width_in_projected_units, height_in_projected_units))"
   ]
  },
  {
   "cell_type": "code",
   "execution_count": 4,
   "metadata": {},
   "outputs": [
    {
     "name": "stdout",
     "output_type": "stream",
     "text": [
      "Rows: 2423, Columns: 1992\n"
     ]
    }
   ],
   "source": [
    "# Number of rows and columns.\n",
    "\n",
    "print(\"Rows: {}, Columns: {}\".format(satdat.height, satdat.width))"
   ]
  },
  {
   "cell_type": "code",
   "execution_count": 5,
   "metadata": {},
   "outputs": [
    {
     "name": "stdout",
     "output_type": "stream",
     "text": [
      "3.0 3.0\n",
      "Are the pixels square: True\n"
     ]
    }
   ],
   "source": [
    "# This dataset's projection uses meters as distance units.  What are the dimensions of a single pixel in meters?\n",
    "\n",
    "xres = (satdat.bounds.right - satdat.bounds.left) / satdat.width\n",
    "yres = (satdat.bounds.top - satdat.bounds.bottom) / satdat.height\n",
    "\n",
    "print(xres, yres)\n",
    "print(\"Are the pixels square: {}\".format(xres == yres))"
   ]
  },
  {
   "cell_type": "code",
   "execution_count": 6,
   "metadata": {},
   "outputs": [
    {
     "data": {
      "text/plain": [
       "CRS({'init': 'epsg:32611'})"
      ]
     },
     "execution_count": 6,
     "metadata": {},
     "output_type": "execute_result"
    }
   ],
   "source": [
    "# Get coordinate reference system\n",
    "\n",
    "satdat.crs"
   ]
  },
  {
   "cell_type": "code",
   "execution_count": 7,
   "metadata": {},
   "outputs": [
    {
     "name": "stdout",
     "output_type": "stream",
     "text": [
      "Top left corner coordinates: (544170.0, 3766416.0)\n",
      "Bottom right corner coordinates: (551436.0, 3760443.0)\n"
     ]
    }
   ],
   "source": [
    "# Convert pixel coordinates to world coordinates.\n",
    "\n",
    "# Upper left pixel\n",
    "row_min = 0\n",
    "col_min = 0\n",
    "\n",
    "# Lower right pixel.  Rows and columns are zero indexing.\n",
    "row_max = satdat.height - 1\n",
    "col_max = satdat.width - 1\n",
    "\n",
    "# Transform coordinates with the dataset's affine transformation.\n",
    "topleft = satdat.transform * (row_min, col_min)\n",
    "botright = satdat.transform * (row_max, col_max)\n",
    "\n",
    "print(\"Top left corner coordinates: {}\".format(topleft))\n",
    "print(\"Bottom right corner coordinates: {}\".format(botright))"
   ]
  },
  {
   "cell_type": "code",
   "execution_count": 8,
   "metadata": {},
   "outputs": [
    {
     "name": "stdout",
     "output_type": "stream",
     "text": [
      "{'driver': 'GTiff', 'dtype': 'uint16', 'nodata': 0.0, 'width': 1992, 'height': 2423, 'count': 4, 'crs': CRS({'init': 'epsg:32611'}), 'transform': Affine(3.0, 0.0, 544170.0,\n",
      "       0.0, -3.0, 3766416.0)}\n"
     ]
    }
   ],
   "source": [
    "# All of the metadata required to create an image of the same dimensions, datatype, format, etc. is stored in\n",
    "# one location.\n",
    "\n",
    "print(satdat.meta)"
   ]
  },
  {
   "cell_type": "markdown",
   "metadata": {},
   "source": [
    "## Bands\n",
    "So far, we haven't done too much geospatial-raster-specific work yet. Since we know we're inspecting a multispectral satellite image, let's see what we can learn about its bands."
   ]
  },
  {
   "cell_type": "code",
   "execution_count": 9,
   "metadata": {},
   "outputs": [
    {
     "name": "stdout",
     "output_type": "stream",
     "text": [
      "4\n",
      "(1, 2, 3, 4)\n"
     ]
    }
   ],
   "source": [
    "# The dataset reports a band count.\n",
    "print(satdat.count)\n",
    "\n",
    "# And provides a sequence of band indexes.  These are one indexing, not zero indexing like Numpy arrays.\n",
    "print(satdat.indexes)"
   ]
  },
  {
   "cell_type": "markdown",
   "metadata": {},
   "source": [
    "Because we know we're look at a PlanetScope 4-band analytic satellite image, we can define the bands by their order:"
   ]
  },
  {
   "cell_type": "code",
   "execution_count": 10,
   "metadata": {},
   "outputs": [],
   "source": [
    "# PlanetScope 4-band band order: BGRN\n",
    "\n",
    "blue, green, red, nir = satdat.read()\n",
    "\n",
    "# Or the slightly less efficient:\n",
    "#    blue = satdat.read(1)\n",
    "#    green = satdat.read(2)\n",
    "#    red = satdat.read(3)\n",
    "#    nir = satdat.read(4)\n",
    "\n",
    "# Or read the entire dataset into a single 3D array:\n",
    "#    data = satdat.read()"
   ]
  },
  {
   "cell_type": "markdown",
   "metadata": {},
   "source": [
    "## Pixels\n",
    "\n",
    "In a raster dataset, each pixel has a value. Pixels are arranged in a grid, and pixels representing equivalent data have the same value:\n",
    "\n",
    "![pixels2.png](pixels2.png)"
   ]
  },
  {
   "cell_type": "code",
   "execution_count": 11,
   "metadata": {},
   "outputs": [
    {
     "name": "stdout",
     "output_type": "stream",
     "text": [
      "<class 'numpy.ndarray'>\n"
     ]
    }
   ],
   "source": [
    "# Bands are stored as Numpy arrays.\n",
    "\n",
    "print(type(blue))"
   ]
  },
  {
   "cell_type": "code",
   "execution_count": 12,
   "metadata": {},
   "outputs": [
    {
     "name": "stdout",
     "output_type": "stream",
     "text": [
      "2\n"
     ]
    }
   ],
   "source": [
    "# How many dimensions would a single raster band have?  Two dimensions: rows and columns.\n",
    "\n",
    "print(blue.ndim)"
   ]
  },
  {
   "cell_type": "code",
   "execution_count": 13,
   "metadata": {},
   "outputs": [
    {
     "name": "stdout",
     "output_type": "stream",
     "text": [
      "[[7261 7137 7087 ... 7015 6868 6891]\n",
      " [7180 7076 7166 ... 7387 7391 7431]\n",
      " [7424 7436 7443 ... 7497 7713 7760]\n",
      " ...\n",
      " [7791 7840 8139 ... 7108 7086 7267]\n",
      " [7873 8132 8441 ... 7134 7023 7042]\n",
      " [8320 8464 8542 ... 6893 6921 6989]]\n",
      "uint16\n"
     ]
    }
   ],
   "source": [
    "# Glimpse at the band's values and datatype.\n",
    "\n",
    "print(blue)\n",
    "print(blue.dtype)"
   ]
  },
  {
   "cell_type": "code",
   "execution_count": 14,
   "metadata": {},
   "outputs": [
    {
     "name": "stdout",
     "output_type": "stream",
     "text": [
      "Band 1 min 3493 max 22058\n",
      "Band 2 min 2905 max 17846\n",
      "Band 3 min 2048 max 19242\n",
      "Band 4 min 1132 max 13004\n",
      "Overall min/max: 1132 22058\n"
     ]
    }
   ],
   "source": [
    "# Output a min & max pixel value in each band.\n",
    "\n",
    "for bidx in satdat.indexes:\n",
    "    data = satdat.read(bidx)\n",
    "    print(\"Band {bidx} min {min} max {max}\".format(bidx=bidx, min=data.min(), max=data.max()))\n",
    "\n",
    "\n",
    "# And an overall min/max for the entire dataset.\n",
    "    \n",
    "data = satdat.read()\n",
    "print(\"Overall min/max: {} {}\".format(data.min(), data.max()))"
   ]
  },
  {
   "cell_type": "code",
   "execution_count": 15,
   "metadata": {},
   "outputs": [
    {
     "name": "stdout",
     "output_type": "stream",
     "text": [
      "Red: 3856\n",
      "Green: 4610\n",
      "Blue: 5097\n",
      "NIR: 3208\n"
     ]
    }
   ],
   "source": [
    "# Let's grab the pixel 2km east and 2km south of the upper left corner\n",
    "\n",
    "# World coordinates for the desired pixel.\n",
    "x_coord = satdat.bounds.left - 2000\n",
    "y_coord = satdat.bounds.top + 2000\n",
    "\n",
    "# Convert world coordinates to pixel.  World coordinates may not transform precisely to row and column indexes,\n",
    "# but a Numpy array can only be indexed by integer values.  The 'op' parameter for 'satdat.index()' determines\n",
    "# how the transformed values are rounded.  In some cases any point falling within a pixel should be considered\n",
    "# contained, and in other cases only points falling within one portion of the pixels hould be considered contained.\n",
    "# The 'op' parameter lets users make this decision on their own.  The values must still be cast to integers.\n",
    "col, row = satdat.index(x_coord, y_coord, op=math.floor)\n",
    "col = int(col)\n",
    "row = int(row)\n",
    "\n",
    "\n",
    "# Now let's look at the value of each band at this pixel\n",
    "print(\"Red: {}\".format(red[row, col]))\n",
    "print(\"Green: {}\".format(green[row, col]))\n",
    "print(\"Blue: {}\".format(blue[row, col]))\n",
    "print(\"NIR: {}\".format(nir[row, col]))"
   ]
  }
 ],
 "metadata": {
  "kernelspec": {
   "display_name": "Python 3",
   "language": "python",
   "name": "python3"
  },
  "language_info": {
   "codemirror_mode": {
    "name": "ipython",
    "version": 3
   },
   "file_extension": ".py",
   "mimetype": "text/x-python",
   "name": "python",
   "nbconvert_exporter": "python",
   "pygments_lexer": "ipython3",
   "version": "3.6.6"
  }
 },
 "nbformat": 4,
 "nbformat_minor": 2
}
