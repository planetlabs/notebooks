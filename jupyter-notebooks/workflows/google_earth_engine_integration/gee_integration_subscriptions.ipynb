{
 "cells": [
  {
   "cell_type": "markdown",
   "metadata": {},
   "source": [
    "# GEE Delivery with the Subscriptions API\n",
    "\n",
    "In this notebook we're going to cover how to order data using the [Subscriptions API](https://developers.planet.com/docs/subscriptions/) and deliver it to [Google Earth Engine (GEE)](https://earthengine.google.com/) using [Planet’s GEE Delivery Integration](https://developers.planet.com/docs/integrations/gee/).\n",
    "\n",
    "**Prerequisites:** \n",
    "- [Planet's Python SDK 2.0](https://github.com/planetlabs/planet-client-python) installed and initialized in your environment. Please follow instructions in [our docs](https://planet-sdk-for-python-v2.readthedocs.io/en/latest/get-started/quick-start-guide/) to authenticate your account with Planet servers. (**This notebook is not compatible with earlier versions of Planet's Python SDK**)\n",
    "- The Earth Engine python api installed in your environment. Please follow instructions in [our docs](https://developers.google.com/earth-engine/python_install) to install the Earth Engine python api.\n",
    "- A GEE project with EE API enabled - `planet-earthengine-staging`\n",
    "- A pre-existing GEE [ImageCollection](https://developers.google.com/earth-engine/guides/ic_creating) - `gee-integration-testing`\n",
    "- Sufficient Quota\n",
    "- A service account key file with EE editor access to the GEE project"
   ]
  },
  {
   "cell_type": "markdown",
   "metadata": {},
   "source": [
    "### Setting up credentials"
   ]
  },
  {
   "cell_type": "code",
   "execution_count": 2,
   "metadata": {},
   "outputs": [],
   "source": [
    "import planet\n",
    "import ee\n",
    "import os\n",
    "import base64\n",
    "from planet import Auth, Session, SubscriptionsClient\n",
    "\n",
    "API_KEY = os.environ.get(\"PLANET_API_KEY\")\n",
    "JSON_KEY_FILE_PATH = \"<SERVICE_ACCOUNT_JSON_FILE_PATH>\"\n",
    "\n",
    "with open(JSON_KEY_FILE_PATH, \"rb\") as f:\n",
    "    base64_key = base64.b64encode(f.read()).decode()\n",
    "\n",
    "auth = Auth.from_key(API_KEY)"
   ]
  },
  {
   "cell_type": "markdown",
   "metadata": {},
   "source": [
    "### Set up source block"
   ]
  },
  {
   "cell_type": "code",
   "execution_count": 5,
   "metadata": {},
   "outputs": [],
   "source": [
    "import datetime\n",
    "\n",
    "aoi = {\n",
    "    \"coordinates\": [\n",
    "        [\n",
    "            [139.5648193359375, 35.42374884923695],\n",
    "            [140.1031494140625, 35.42374884923695],\n",
    "            [140.1031494140625, 35.77102915686019],\n",
    "            [139.5648193359375, 35.77102915686019],\n",
    "            [139.5648193359375, 35.42374884923695],\n",
    "        ]\n",
    "    ],\n",
    "    \"type\": \"Polygon\",\n",
    "}\n",
    "\n",
    "start_time = datetime.datetime.now() - datetime.timedelta(days=10)\n",
    "start_time = start_time.replace(hour=0, minute=0, second=0, microsecond=0)\n",
    "end_time = start_time + datetime.timedelta(days=30)\n",
    "\n",
    "source = planet.subscription_request.catalog_source(\n",
    "    item_types=[\"PSScene\"],\n",
    "    asset_types=[\"ortho_analytic_4b\", \"ortho_udm2\", \"ortho_visual\"],\n",
    "    geometry=aoi,\n",
    "    start_time=start_time,\n",
    "    end_time=end_time,\n",
    ")"
   ]
  },
  {
   "cell_type": "markdown",
   "metadata": {},
   "source": [
    "### Set up delivery block and create subscription"
   ]
  },
  {
   "cell_type": "code",
   "execution_count": 8,
   "metadata": {},
   "outputs": [
    {
     "data": {
      "text/plain": [
       "{'name': 'gee-integration-test',\n",
       " 'source': {'type': 'catalog',\n",
       "  'parameters': {'asset_types': ['ortho_analytic_4b',\n",
       "    'ortho_udm2',\n",
       "    'ortho_visual'],\n",
       "   'item_types': ['PSScene'],\n",
       "   'geometry': {'coordinates': [[[139.5648193359375, 35.42374884923695],\n",
       "      [140.1031494140625, 35.42374884923695],\n",
       "      [140.1031494140625, 35.77102915686019],\n",
       "      [139.5648193359375, 35.77102915686019],\n",
       "      [139.5648193359375, 35.42374884923695]]],\n",
       "    'type': 'Polygon'},\n",
       "   'start_time': '2023-09-08T00:00:00Z',\n",
       "   'end_time': '2023-10-08T00:00:00Z',\n",
       "   'publishing_stages': ['standard', 'finalized'],\n",
       "   'time_range_type': 'published'}},\n",
       " 'delivery': {'type': 'google_earth_engine',\n",
       "  'parameters': {'collection': 'gee-integration-testing',\n",
       "   'credentials': '<REDACTED>',\n",
       "   'project': 'planet-earthengine-staging'}},\n",
       " 'created': '2023-09-18T18:57:08.319871Z',\n",
       " '_links': {'_self': 'https://api.planet.com/subscriptions/v1/b3272acc-c198-44e0-8c77-35b2d17838e4'},\n",
       " 'status': 'preparing',\n",
       " 'id': 'b3272acc-c198-44e0-8c77-35b2d17838e4',\n",
       " 'updated': '2023-09-18T18:57:08.319871Z'}"
      ]
     },
     "execution_count": 8,
     "metadata": {},
     "output_type": "execute_result"
    }
   ],
   "source": [
    "earth_engine_delivery = {\n",
    "    \"type\": \"google_earth_engine\",\n",
    "    \"parameters\": {\n",
    "        \"project\": \"planet-earthengine-staging\",\n",
    "        \"collection\": \"gee-integration-testing\",\n",
    "        \"credentials\": base64_key,\n",
    "    },\n",
    "}\n",
    "\n",
    "sub_desc = planet.subscription_request.build_request(\n",
    "    name=\"gee-integration-test\",\n",
    "    source=source,\n",
    "    delivery=earth_engine_delivery,\n",
    ")\n",
    "\n",
    "async with Session(auth=auth) as sess:\n",
    "    cl = SubscriptionsClient(sess)\n",
    "    sub = await cl.create_subscription(sub_desc)\n",
    "\n",
    "sub"
   ]
  },
  {
   "cell_type": "markdown",
   "metadata": {},
   "source": [
    "### Wait for subscription to run, and wait for results"
   ]
  },
  {
   "cell_type": "code",
   "execution_count": 13,
   "metadata": {},
   "outputs": [
    {
     "name": "stdout",
     "output_type": "stream",
     "text": [
      "Subscription: b3272acc-c198-44e0-8c77-35b2d17838e4 is now running\n",
      "Result: ccdec65c-73a7-48be-9562-dab559e1aade is still running\n",
      "Result: c26ac3c6-e5bf-4625-b0ea-a0774d48a842 succeeded\n",
      "Result: 92e85d56-b2e2-496a-9e6d-02aa26d2cca8 is still running\n",
      "Result: f924409a-34cf-4637-b39f-fb22618a3082 is still running\n",
      "Result: 8ba9aca0-d1b8-476c-91aa-e781f0cec4da succeeded\n"
     ]
    },
    {
     "data": {
      "text/plain": [
       "[{'id': 'c26ac3c6-e5bf-4625-b0ea-a0774d48a842',\n",
       "  'status': 'success',\n",
       "  'properties': {'item_id': '20230912_003259_12_24b4',\n",
       "   'item_types': ['PSScene']},\n",
       "  'created': '2023-09-18T18:57:13.615322Z',\n",
       "  'updated': '2023-09-18T19:05:27.207838Z',\n",
       "  'completed': '2023-09-18T19:05:27.207838Z',\n",
       "  'errors': {},\n",
       "  'outputs': ['3IY7YWR4YXJT3ABZQKEQLZUP (projects/planet-earthengine-staging/assets/gee-integration-testing/20230912_003259_12_24b4_3B_AnalyticMS)',\n",
       "   'DPU6EY4URKABCKPOZEDBJEBB (projects/planet-earthengine-staging/assets/gee-integration-testing/20230912_003259_12_24b4_3B_Visual)']},\n",
       " {'id': '8ba9aca0-d1b8-476c-91aa-e781f0cec4da',\n",
       "  'status': 'success',\n",
       "  'properties': {'item_id': '20230910_003337_52_2442',\n",
       "   'item_types': ['PSScene']},\n",
       "  'created': '2023-09-18T18:57:13.615289Z',\n",
       "  'updated': '2023-09-18T19:05:47.238997Z',\n",
       "  'completed': '2023-09-18T19:05:47.238997Z',\n",
       "  'errors': {},\n",
       "  'outputs': ['YPOTBYMWG5CHMPZSOPQODBA5 (projects/planet-earthengine-staging/assets/gee-integration-testing/20230910_003337_52_2442_3B_AnalyticMS)',\n",
       "   'V52VP2VJSRMHSMBX3Q55YBRD (projects/planet-earthengine-staging/assets/gee-integration-testing/20230910_003337_52_2442_3B_Visual)']}]"
      ]
     },
     "execution_count": 13,
     "metadata": {},
     "output_type": "execute_result"
    }
   ],
   "source": [
    "import time\n",
    "\n",
    "async with Session(auth=auth) as sess:\n",
    "    # first wait for subscription to transition to ready/completed\n",
    "    until = datetime.datetime.now() + datetime.timedelta(minutes=5)\n",
    "    while datetime.datetime.now() < until:\n",
    "        cl = SubscriptionsClient(sess)\n",
    "        sub = await cl.get_subscription(subscription_id=sub[\"id\"])\n",
    "        if sub[\"status\"] in [\"preparing\", \"pending\"]:\n",
    "            print(f'Current status: {sub[\"status\"]}. Sleeping for 10 seconds')\n",
    "            time.sleep(10)\n",
    "        elif sub[\"status\"] == \"running\":\n",
    "            print(f'Subscription: {sub[\"id\"]} is now running')\n",
    "            break\n",
    "        elif sub[\"status\"] == \"completed\":\n",
    "            print(f'Subscription: {sub[\"id\"]} is completed')\n",
    "            break\n",
    "        else:\n",
    "            raise RuntimeError(\n",
    "                f'Subscription: {sub[\"id\"]} resulted in status: {sub[\"status\"]}'\n",
    "            )\n",
    "    if sub[\"status\"] != \"completed\" and sub[\"status\"] != \"running\":\n",
    "        raise RuntimeError(\n",
    "            f'Subscription: {sub[\"id\"]} did not transition to running in time'\n",
    "        )\n",
    "\n",
    "    # then wait for some results to appear\n",
    "    until = datetime.datetime.now() + datetime.timedelta(minutes=5)\n",
    "    results = []\n",
    "    while datetime.datetime.now() < until:\n",
    "        results_desc = cl.get_results(subscription_id=sub[\"id\"], limit=5)\n",
    "        results_desc_list = [i async for i in results_desc]\n",
    "        if len(results_desc_list) == 0:\n",
    "            print(f\"No results yet. Sleeping for 10 seconds\")\n",
    "            time.sleep(10)\n",
    "        else:\n",
    "            for result in results_desc_list:\n",
    "                if result[\"status\"] == \"queued\":\n",
    "                    print(f'Result: {result[\"id\"]} is queued')\n",
    "                elif result[\"status\"] == \"running\":\n",
    "                    print(f'Result: {result[\"id\"]} is still running')\n",
    "                elif result[\"status\"] == \"processing\":\n",
    "                    print(f'Result: {result[\"id\"]} is still running')\n",
    "                elif result[\"status\"] == \"failed\":\n",
    "                    print(f'Result: {result[\"id\"]} failed')\n",
    "                elif result[\"status\"] == \"success\":\n",
    "                    print(f'Result: {result[\"id\"]} succeeded')\n",
    "                    results.append(result)\n",
    "                else:\n",
    "                    raise RuntimeError(\n",
    "                        f'Result: {result[\"id\"]} resulted in status: {result[\"status\"]}'\n",
    "                    )\n",
    "            if len(results) > 0:\n",
    "                break\n",
    "            print(\"results not ready\")\n",
    "            break\n",
    "    if not results:\n",
    "        raise RuntimeError(\n",
    "            f'Subscription: {sub[\"id\"]} did not return any results in time'\n",
    "        )\n",
    "\n",
    "results"
   ]
  },
  {
   "cell_type": "markdown",
   "metadata": {},
   "source": [
    "### Wait for images to ingest into GEE\n",
    "\n",
    "Above we can see some successful subscription deliveries to GEE. Here \"success\" just means our delivery system has kicked off an image [import task](https://developers.google.com/earth-engine/reference/rest/v1/projects.image/import). Since this import task was initiated using the service account we provided in the delivery configuration, we can check the status of our import task by authenticating with the python EE client using the same service account credentials.  \n",
    "\n",
    "In the results json above, the GEE task ID is stored in the results list, along with the EE asset path, seperated by a space.\n"
   ]
  },
  {
   "cell_type": "code",
   "execution_count": 15,
   "metadata": {},
   "outputs": [
    {
     "name": "stdout",
     "output_type": "stream",
     "text": [
      "Task: 3IY7YWR4YXJT3ABZQKEQLZUP completed\n"
     ]
    },
    {
     "data": {
      "text/plain": [
       "{'state': 'COMPLETED',\n",
       " 'description': 'Ingest image: \"projects/planet-earthengine-staging/assets/gee-integration-testing/20230912_003259_12_24b4_3B_AnalyticMS\"',\n",
       " 'creation_timestamp_ms': 1695063915509,\n",
       " 'update_timestamp_ms': 1695065068731,\n",
       " 'start_timestamp_ms': 1695064447988,\n",
       " 'task_type': 'INGEST_IMAGE',\n",
       " 'destination_uris': ['https://code.earthengine.google.com/?asset=projects/planet-earthengine-staging/assets/gee-integration-testing/20230912_003259_12_24b4_3B_AnalyticMS'],\n",
       " 'attempt': 1,\n",
       " 'id': '3IY7YWR4YXJT3ABZQKEQLZUP',\n",
       " 'name': 'projects/earthengine-legacy/operations/3IY7YWR4YXJT3ABZQKEQLZUP'}"
      ]
     },
     "execution_count": 15,
     "metadata": {},
     "output_type": "execute_result"
    }
   ],
   "source": [
    "ee_creds = ee.ServiceAccountCredentials(None, key_file=JSON_KEY_FILE_PATH)\n",
    "ee.Initialize()\n",
    "\n",
    "output = results[0][\"outputs\"][0]\n",
    "split_output = output.split(\" \")\n",
    "task_id = split_output[0]\n",
    "asset_path = split_output[1][1:-1]  # remove parentheses\n",
    "\n",
    "until = datetime.datetime.now() + datetime.timedelta(minutes=5)\n",
    "while datetime.datetime.now() < until:\n",
    "    task = ee.data.getTaskStatus(task_id)[0]\n",
    "    if task[\"state\"] == \"READY\":\n",
    "        print(f\"Task: {task_id} is ready\")\n",
    "        ee.data.startProcessing(task_id)\n",
    "    if task[\"state\"] == \"RUNNING\":\n",
    "        print(f\"Task: {task_id} is still running\")\n",
    "        time.sleep(10)\n",
    "    elif task[\"state\"] == \"COMPLETED\":\n",
    "        print(f\"Task: {task_id} completed\")\n",
    "        break\n",
    "    elif task[\"state\"] == \"FAILED\" or task[\"state\"] == \"CANCELLED\":\n",
    "        print(f\"Task: {task_id} failed or cancelled: {task}\")\n",
    "        break\n",
    "    else:\n",
    "        raise RuntimeError(\n",
    "            f'Task: {task_id} resulted in status: {task[\"state\"]}: {task}'\n",
    "        )\n",
    "if task[\"state\"] != \"COMPLETED\":\n",
    "    raise RuntimeError(f\"Task: {task_id} did not complete in time\")\n",
    "task"
   ]
  },
  {
   "cell_type": "markdown",
   "metadata": {},
   "source": [
    "### Get Earth engine image properties\n",
    "\n",
    "Below, we can see some of the info of the image we ingested into Earth Engine. It includes metadata you would typically find in metadata.json/data api, in addition to `subscription_id`. Since we included the `orth_udm2` asset type in the `asset_types` field of the subscription source block, the udm bands are appended to the BGRN bands you would typically find in `ortho_analytic_4b`.  "
   ]
  },
  {
   "cell_type": "code",
   "execution_count": 19,
   "metadata": {},
   "outputs": [
    {
     "data": {
      "text/plain": [
       "{'type': 'Image',\n",
       " 'bands': [{'id': 'Blue',\n",
       "   'data_type': {'type': 'PixelType',\n",
       "    'precision': 'int',\n",
       "    'min': 0,\n",
       "    'max': 65535},\n",
       "   'dimensions': [12834, 9273],\n",
       "   'crs': 'EPSG:32654',\n",
       "   'crs_transform': [3, 0, 370287, 0, -3, 3956373]},\n",
       "  {'id': 'Green',\n",
       "   'data_type': {'type': 'PixelType',\n",
       "    'precision': 'int',\n",
       "    'min': 0,\n",
       "    'max': 65535},\n",
       "   'dimensions': [12834, 9273],\n",
       "   'crs': 'EPSG:32654',\n",
       "   'crs_transform': [3, 0, 370287, 0, -3, 3956373]},\n",
       "  {'id': 'Red',\n",
       "   'data_type': {'type': 'PixelType',\n",
       "    'precision': 'int',\n",
       "    'min': 0,\n",
       "    'max': 65535},\n",
       "   'dimensions': [12834, 9273],\n",
       "   'crs': 'EPSG:32654',\n",
       "   'crs_transform': [3, 0, 370287, 0, -3, 3956373]},\n",
       "  {'id': 'Near-Infrared',\n",
       "   'data_type': {'type': 'PixelType',\n",
       "    'precision': 'int',\n",
       "    'min': 0,\n",
       "    'max': 65535},\n",
       "   'dimensions': [12834, 9273],\n",
       "   'crs': 'EPSG:32654',\n",
       "   'crs_transform': [3, 0, 370287, 0, -3, 3956373]},\n",
       "  {'id': 'udm2_1',\n",
       "   'data_type': {'type': 'PixelType',\n",
       "    'precision': 'int',\n",
       "    'min': 0,\n",
       "    'max': 255},\n",
       "   'dimensions': [12834, 9273],\n",
       "   'crs': 'EPSG:32654',\n",
       "   'crs_transform': [3, 0, 370287, 0, -3, 3956373]},\n",
       "  {'id': 'udm2_2',\n",
       "   'data_type': {'type': 'PixelType',\n",
       "    'precision': 'int',\n",
       "    'min': 0,\n",
       "    'max': 255},\n",
       "   'dimensions': [12834, 9273],\n",
       "   'crs': 'EPSG:32654',\n",
       "   'crs_transform': [3, 0, 370287, 0, -3, 3956373]},\n",
       "  {'id': 'udm2_3',\n",
       "   'data_type': {'type': 'PixelType',\n",
       "    'precision': 'int',\n",
       "    'min': 0,\n",
       "    'max': 255},\n",
       "   'dimensions': [12834, 9273],\n",
       "   'crs': 'EPSG:32654',\n",
       "   'crs_transform': [3, 0, 370287, 0, -3, 3956373]},\n",
       "  {'id': 'udm2_4',\n",
       "   'data_type': {'type': 'PixelType',\n",
       "    'precision': 'int',\n",
       "    'min': 0,\n",
       "    'max': 255},\n",
       "   'dimensions': [12834, 9273],\n",
       "   'crs': 'EPSG:32654',\n",
       "   'crs_transform': [3, 0, 370287, 0, -3, 3956373]},\n",
       "  {'id': 'udm2_5',\n",
       "   'data_type': {'type': 'PixelType',\n",
       "    'precision': 'int',\n",
       "    'min': 0,\n",
       "    'max': 255},\n",
       "   'dimensions': [12834, 9273],\n",
       "   'crs': 'EPSG:32654',\n",
       "   'crs_transform': [3, 0, 370287, 0, -3, 3956373]},\n",
       "  {'id': 'udm2_6',\n",
       "   'data_type': {'type': 'PixelType',\n",
       "    'precision': 'int',\n",
       "    'min': 0,\n",
       "    'max': 255},\n",
       "   'dimensions': [12834, 9273],\n",
       "   'crs': 'EPSG:32654',\n",
       "   'crs_transform': [3, 0, 370287, 0, -3, 3956373]},\n",
       "  {'id': 'udm2_7',\n",
       "   'data_type': {'type': 'PixelType',\n",
       "    'precision': 'int',\n",
       "    'min': 0,\n",
       "    'max': 255},\n",
       "   'dimensions': [12834, 9273],\n",
       "   'crs': 'EPSG:32654',\n",
       "   'crs_transform': [3, 0, 370287, 0, -3, 3956373]},\n",
       "  {'id': 'udm2_8',\n",
       "   'data_type': {'type': 'PixelType',\n",
       "    'precision': 'int',\n",
       "    'min': 0,\n",
       "    'max': 255},\n",
       "   'dimensions': [12834, 9273],\n",
       "   'crs': 'EPSG:32654',\n",
       "   'crs_transform': [3, 0, 370287, 0, -3, 3956373]}],\n",
       " 'id': 'projects/planet-earthengine-staging/assets/gee-integration-testing/20230912_003259_12_24b4_3B_AnalyticMS',\n",
       " 'version': 1695065068570264,\n",
       " 'properties': {'visible_confidence_percent': 72,\n",
       "  'satellite_id': '24b4',\n",
       "  'item_type': 'PSScene',\n",
       "  'instrument': 'PSB.SD',\n",
       "  'visible_percent': 79,\n",
       "  'snow_ice_percent': 5,\n",
       "  'subscription_id': 'b3272acc-c198-44e0-8c77-35b2d17838e4',\n",
       "  'cloud_percent': 21,\n",
       "  'sun_azimuth': 130.7,\n",
       "  'provider': 'planetscope',\n",
       "  'system:footprint': {'type': 'LinearRing',\n",
       "   'coordinates': [[139.56996088479391, 35.49205750987615],\n",
       "    [139.56996500490297, 35.49205734709447],\n",
       "    [139.99433556397688, 35.4963411687054],\n",
       "    [139.99435067488534, 35.49635222961639],\n",
       "    [139.99436742999035, 35.49636176184707],\n",
       "    [139.994368447824, 35.49636617593838],\n",
       "    [139.99122358061825, 35.747132897315346],\n",
       "    [139.99120987972896, 35.74714519314889],\n",
       "    [139.99119821440283, 35.747158860305],\n",
       "    [139.99119414328283, 35.74715941479819],\n",
       "    [139.99118999387233, 35.74715965752431],\n",
       "    [139.56549299103943, 35.74283627942866],\n",
       "    [139.5654778333038, 35.742825124436834],\n",
       "    [139.56546112093318, 35.74281557746922],\n",
       "    [139.5654601104179, 35.74281111628158],\n",
       "    [139.56993134439776, 35.492083947169974],\n",
       "    [139.5699450262636, 35.492071656795495],\n",
       "    [139.56995676468514, 35.49205809314438],\n",
       "    [139.56996088479391, 35.49205750987615]]},\n",
       "  'ground_control': 'true',\n",
       "  'view_angle': 5,\n",
       "  'cloud_cover': 0.21,\n",
       "  'asset_type': 'ortho_analytic_4b',\n",
       "  'strip_id': '6767754',\n",
       "  'acquired': '2023-09-12T00:32:59.126532Z',\n",
       "  'publishing_stage': 'finalized',\n",
       "  'sun_elevation': 47.9,\n",
       "  'light_haze_percent': 0,\n",
       "  'shadow_percent': 5,\n",
       "  'system:time_end': 1694478779126,\n",
       "  'quality_category': 'test',\n",
       "  'published': '2023-09-12T03:06:46Z',\n",
       "  'satellite_azimuth': 100.7,\n",
       "  'heavy_haze_percent': 0,\n",
       "  'pixel_resolution': 3,\n",
       "  'clear_percent': 69,\n",
       "  'system:time_start': 1694478779126,\n",
       "  'anomalous_pixels': 0,\n",
       "  'clear_confidence_percent': 86,\n",
       "  'gsd': 3.9,\n",
       "  'system:asset_size': 719022374,\n",
       "  'updated': '2023-09-13T04:24:34Z',\n",
       "  'system:index': '20230912_003259_12_24b4_3B_AnalyticMS'}}"
      ]
     },
     "execution_count": 19,
     "metadata": {},
     "output_type": "execute_result"
    }
   ],
   "source": [
    "info = ee.Image(asset_path).getInfo()\n",
    "info"
   ]
  },
  {
   "cell_type": "markdown",
   "metadata": {},
   "source": [
    "### Visualize the image in Earth Engine"
   ]
  },
  {
   "cell_type": "code",
   "execution_count": 23,
   "metadata": {},
   "outputs": [
    {
     "data": {
      "image/png": "[encoded data removed]",
      "text/plain": [
       "<IPython.core.display.Image object>"
      ]
     },
     "execution_count": 23,
     "metadata": {},
     "output_type": "execute_result"
    }
   ],
   "source": [
    "params = {\n",
    "    'dimensions': 256,\n",
    "    'bands': ['Red', 'Green', 'Blue'],\n",
    "}\n",
    "url = ee.Image(asset_path).getThumbURL(params)\n",
    "\n",
    "import requests\n",
    "from IPython.display import Image\n",
    "\n",
    "Image(requests.get(url).content)"
   ]
  }
 ],
 "metadata": {
  "kernelspec": {
   "display_name": "Python 3",
   "language": "python",
   "name": "python3"
  },
  "language_info": {
   "codemirror_mode": {
    "name": "ipython",
    "version": 3
   },
   "file_extension": ".py",
   "mimetype": "text/x-python",
   "name": "python",
   "nbconvert_exporter": "python",
   "pygments_lexer": "ipython3",
   "version": "3.10.12"
  },
  "orig_nbformat": 4
 },
 "nbformat": 4,
 "nbformat_minor": 2
}
