{
 "cells": [
  {
   "cell_type": "markdown",
   "metadata": {},
   "source": [
    "# Rasters to Vectors: Roads\n",
    "\n",
    "This notebook demonstrates the process of converting an output of the Analytics Feed (road footprint raster) into a vector dataset, using the following steps:\n",
    "\n",
    "1. Obtaining An Analytics Raster\n",
    "2. Downloading Quad Raster\n",
    "3. Visualizing Road Image\n",
    "4. Converting Roads Raster to Vector Features using the following techniques:\n",
    "    * GDAL CLI\n",
    "    * Rasterio (no processing)\n",
    "    * Rasterio (with simplification)\n",
    "    * Rasterio (flexible function, filtering and simplification as example)"
   ]
  },
  {
   "cell_type": "code",
   "execution_count": null,
   "metadata": {},
   "outputs": [],
   "source": [
    "import json\n",
    "import os\n",
    "import requests\n",
    "import fiona\n",
    "import matplotlib.pyplot as plt\n",
    "from planet import Auth\n",
    "from planet import Session, DataClient, OrdersClient\n",
    "import rasterio\n",
    "from rasterio import features as rfeatures\n",
    "from rasterio.enums import Resampling\n",
    "from rasterio.plot import show\n",
    "import shapely\n",
    "from shapely.geometry import shape as sshape"
   ]
  },
  {
   "cell_type": "code",
   "execution_count": null,
   "metadata": {},
   "outputs": [],
   "source": [
    "# if your Planet API Key is not set as an environment variable, you can paste it below\n",
    "API_KEY = os.environ.get('PL_API_KEY', 'PASTE_API_KEY_HERE')\n",
    "\n",
    "client = Auth.from_key(API_KEY)\n",
    "\n",
    "# Use our API key as the basic authentication username\n",
    "apiAuth = (API_KEY, '')"
   ]
  },
  {
   "cell_type": "markdown",
   "metadata": {},
   "source": [
    "## Obtain Analytics Raster\n",
    "\n",
    "### Identify road feed feature for download\n",
    "\n",
    "We want to download the most recent feature from the feed for road detection in Kirazli, Turkey."
   ]
  },
  {
   "cell_type": "code",
   "execution_count": null,
   "metadata": {},
   "outputs": [],
   "source": [
    "# This ID is for a subscription for monthly road detection in Kirazli, Turkey\n",
    "subscription_id = 'f184516c-b948-406f-b257-deaa66c3f38a'"
   ]
  },
  {
   "cell_type": "code",
   "execution_count": null,
   "metadata": {},
   "outputs": [],
   "source": [
    "# Planet Analytics API base url\n",
    "PAA_BASE_URL = \"https://api.planet.com/analytics/\"\n",
    "\n",
    "# Define collections endpoint\n",
    "collections_endpoint = 'collections/'\n",
    "\n",
    "# Construct the URL for the HTTP request \n",
    "# (Planet Analytics API base URL + desired endpoint)\n",
    "collections_request_url = PAA_BASE_URL + collections_endpoint"
   ]
  },
  {
   "cell_type": "code",
   "execution_count": null,
   "metadata": {},
   "outputs": [],
   "source": [
    "# Request Collection Items\n",
    "# We're interested in the items in the collection\n",
    "\n",
    "# Construct the URL for the subscription's Results Collection\n",
    "collection_results_url = collections_request_url + subscription_id + '/' + 'items'\n",
    "\n",
    "print(\"Request URL: {}\".format(collection_results_url))\n",
    "\n",
    "# Get subscription results collection\n",
    "collection_items = requests.get(collection_results_url, auth=apiAuth).json()\n",
    "\n",
    "# Pretty Print response JSON\n",
    "print(json.dumps(collection_items, sort_keys=True, indent=4))"
   ]
  },
  {
   "cell_type": "code",
   "execution_count": null,
   "metadata": {},
   "outputs": [],
   "source": [
    "# How many features do we have in this collection?\n",
    "\n",
    "features = collection_items['features']\n",
    "print('{} features in collection'.format(len(features)))"
   ]
  },
  {
   "cell_type": "code",
   "execution_count": null,
   "metadata": {},
   "outputs": [],
   "source": [
    "# sort features by acquisition date and take latest feature\n",
    "\n",
    "features.sort(key=lambda k: k['properties']['first_acquired'])\n",
    "feature = features[-1]\n",
    "\n",
    "print (feature)\n",
    "\n",
    "print(feature['properties']['first_acquired'])"
   ]
  },
  {
   "cell_type": "markdown",
   "metadata": {},
   "source": [
    "### Download Quad Raster"
   ]
  },
  {
   "cell_type": "code",
   "execution_count": null,
   "metadata": {},
   "outputs": [],
   "source": [
    "feature_links = feature['links']\n",
    "feature_links"
   ]
  },
  {
   "cell_type": "code",
   "execution_count": null,
   "metadata": {
    "scrolled": true
   },
   "outputs": [],
   "source": [
    "# Construct the URL to target quad\n",
    "target_quad = list(filter(lambda link: link['rel'] == 'target-quad', feature_links))[0]['href']\n",
    "\n",
    "print(\"Target (Result) Quad URL:\\n{}\\n\".format(target_quad))"
   ]
  },
  {
   "cell_type": "markdown",
   "metadata": {},
   "source": [
    "Clicking the link in the above cell will download the COG (.tiff) file!"
   ]
  },
  {
   "cell_type": "markdown",
   "metadata": {},
   "source": [
    "### Visualize Roads Image\n",
    "\n",
    "The output of the analytics road detection is a boolean image where road pixels are given a value of True and non-road pixels are given a value of False."
   ]
  },
  {
   "cell_type": "code",
   "execution_count": null,
   "metadata": {},
   "outputs": [],
   "source": [
    "# Set filepaths for target quad (raster), and folder where you'd like our vector files to be downloaded\n",
    "\n",
    "filename = \"TIFF_FILEPATH_HERE\"\n",
    "dest = \"VECTOR_DESTINATION_HERE\""
   ]
  },
  {
   "cell_type": "code",
   "execution_count": null,
   "metadata": {},
   "outputs": [],
   "source": [
    "def _open(filepath, factor=1):\n",
    "    with rasterio.open(filepath) as dataset:\n",
    "        height = int(dataset.height / factor)\n",
    "        width = int(dataset.width / factor)\n",
    "        data = dataset.read(\n",
    "            out_shape=(dataset.count, height, width)\n",
    "        )\n",
    "    return data\n",
    "\n",
    "def open_bool(filepath, factor=1):\n",
    "    data = _open(filepath, factor=factor)\n",
    "    return data[0,:,:]\n",
    "\n",
    "def get_figsize(factor):\n",
    "    return tuple(2 * [int(25/factor)])\n",
    "\n",
    "\n",
    "\n",
    "factor = 1\n",
    "figsize = (15, 15)\n",
    "\n",
    "roads = open_bool(filepath, factor=factor)\n",
    "fig = plt.figure(figsize=figsize)\n",
    "# show(roads, title=\"footprints\", cmap=\"binary\")\n",
    "show(roads[2500:3000, 0:500], title=\"footprints\", cmap=\"binary\")"
   ]
  },
  {
   "cell_type": "markdown",
   "metadata": {},
   "source": [
    "## Convert Roads to Vector Features\n",
    "\n",
    "### GDAL Command-Line Interface (CLI)\n",
    "\n",
    "GDAL provides a python script that can be run via the CLI. It is quite easy to run and fast, though it doesn't allow for some of the convenient pixel-space filtering and processing that rasterio provides and we will use later on."
   ]
  },
  {
   "cell_type": "code",
   "execution_count": null,
   "metadata": {},
   "outputs": [],
   "source": [
    "def get_layer_name(filepath):\n",
    "    # get the default layer output layer name based on the \n",
    "    # output filename. I wish there was a way to specify\n",
    "    # the output layer name but attempts have failed thus far.\n",
    "    return filepath.split('/')[-1].split('.')[0]\n",
    "\n",
    "gdal_tmp_output_filename = os.path.join(dest, 'test_gdal_all.shp')\n",
    "gdal_tmp_output_layer_name = get_layer_name(gdal_tmp_output_filename)\n",
    "gdal_output_filename = os.path.join(dest, 'test_gdal.shp')\n",
    "gdal_output_layer_name = get_layer_name(gdal_output_filename)"
   ]
  },
  {
   "cell_type": "code",
   "execution_count": null,
   "metadata": {},
   "outputs": [],
   "source": [
    "# convert the binary image into polygons\n",
    "# creates polygons for road footprints as well as regions between\n",
    "# and around road footprints\n",
    "!gdal_polygonize.py $filepath $gdal_tmp_output_filename"
   ]
  },
  {
   "cell_type": "code",
   "execution_count": null,
   "metadata": {},
   "outputs": [],
   "source": [
    "# get number of features, this includes inside and outside road footprints\n",
    "!ogrinfo -so  $gdal_tmp_output_filename $gdal_tmp_output_layer_name | grep 'Feature Count'"
   ]
  },
  {
   "cell_type": "code",
   "execution_count": null,
   "metadata": {},
   "outputs": [],
   "source": [
    "# get number of road footprint features\n",
    "# road footprints are associated with image value (DN) of 255\n",
    "!ogrinfo -so $gdal_tmp_output_filename -sql \"SELECT * FROM $gdal_tmp_output_layer_name WHERE DN=255\" \\\n",
    "    | grep 'Feature Count'"
   ]
  },
  {
   "cell_type": "code",
   "execution_count": null,
   "metadata": {},
   "outputs": [],
   "source": [
    "# create a new shapefile with only road footprints\n",
    "!ogr2ogr -sql \"SELECT * FROM $gdal_tmp_output_layer_name WHERE DN=255\" \\\n",
    "    $gdal_output_filename $gdal_tmp_output_filename"
   ]
  },
  {
   "cell_type": "code",
   "execution_count": null,
   "metadata": {},
   "outputs": [],
   "source": [
    "# confirm the number of road footprint features\n",
    "!ogrinfo -so $gdal_output_filename -sql \"SELECT * FROM $gdal_output_layer_name WHERE DN=255\" \\\n",
    "    | grep 'Feature Count'"
   ]
  },
  {
   "cell_type": "markdown",
   "metadata": {},
   "source": [
    "### Rasterio - no filtering\n",
    "\n",
    "In this section we use rasterio to convert the binary roads raster into a vector dataset. The vectors are written to disk as a shapefile. The shapefile can be imported into geospatial programs such as QGIS or ArcGIS for visualization and further processing.\n",
    "\n",
    "This is basic conversion to vector shapes. No filtering based on size (useful for removing small 1 or 2 pixel road segments), smoothing to remove pixel edges, or conversion to the road centerlines is performed here. These additional 'features' will be provided in sections below this one in the future."
   ]
  },
  {
   "cell_type": "code",
   "execution_count": null,
   "metadata": {},
   "outputs": [],
   "source": [
    "def roads_as_vectors(filepath): \n",
    "    with rasterio.open(filepath) as dataset:\n",
    "        roads = dataset.read(1)\n",
    "        road_mask = roads == 255 # mask non-road pixels\n",
    "\n",
    "        # transforms roads features to image crs\n",
    "        road_shapes = rfeatures.shapes(roads, mask=road_mask, connectivity=8, transform=dataset.transform)\n",
    "        road_geometries = (r for r, _ in road_shapes)\n",
    "        \n",
    "        crs = dataset.crs\n",
    "    return (road_geometries, crs)\n",
    "\n",
    "def save_as_shapefile(output_filename, geometries, crs):\n",
    "    driver='ESRI Shapefile'\n",
    "    schema = {'geometry': 'Polygon', 'properties': []}\n",
    "    with fiona.open(output_filename, mode='w', driver=driver, schema=schema, crs=crs) as c:\n",
    "        count = 0\n",
    "        for g in geometries:\n",
    "            count += 1;\n",
    "            c.write({'geometry': g, 'properties': {}})\n",
    "        print('wrote {} geometries to {}'.format(count, output_filename))\n",
    "\n",
    "        \n",
    "road_geometries, crs = roads_as_vectors(filepath)\n",
    "output_filename = os.path.join('data', 'test.shp')\n",
    "save_as_shapefile(output_filename, road_geometries, crs)"
   ]
  },
  {
   "cell_type": "markdown",
   "metadata": {},
   "source": [
    "### Rasterio - Filtering and Simplifying\n",
    "\n",
    "In this section, we use `shapely` to filter the road vectors by size and simplify them so we don't have a million pixel edges."
   ]
  },
  {
   "cell_type": "code",
   "execution_count": null,
   "metadata": {},
   "outputs": [],
   "source": [
    "def roads_as_vectors_with_filtering(filepath, min_pixel_size=5): \n",
    "    with rasterio.open(filepath) as dataset:\n",
    "        roads = dataset.read(1)\n",
    "        road_mask = roads == 255 # mask non-road pixels\n",
    "\n",
    "        # we skip transform on vectorization so we can perform filtering in pixel space\n",
    "        road_shapes = rfeatures.shapes(roads, mask=road_mask, connectivity=8)\n",
    "        road_geometries = (r for r, _ in road_shapes)\n",
    "        geo_shapes = (sshape(g) for g in road_geometries)\n",
    "\n",
    "        # filter to shapes bigger than min_pixel_size\n",
    "        geo_shapes = (s for s in geo_shapes if s.area > min_pixel_size)\n",
    "    \n",
    "        # simplify so we don't have a million pixel edge points\n",
    "        tolerance = 1 #1.5\n",
    "        geo_shapes = (g.simplify(tolerance, preserve_topology=False)\n",
    "                      for g in geo_shapes)\n",
    "\n",
    "        # apply image transform    \n",
    "        # rasterio transform: (a, b, c, d, e, f, 0, 0, 1), c and f are offsets\n",
    "        # shapely: a b d e c/xoff f/yoff\n",
    "        d = dataset.transform\n",
    "        shapely_transform = [d[0], d[1], d[3], d[4], d[2], d[5]]\n",
    "        proj_shapes = (shapely.affinity.affine_transform(g, shapely_transform)\n",
    "                       for g in geo_shapes)\n",
    "        \n",
    "        road_geometries = (shapely.geometry.mapping(s) for s in proj_shapes)\n",
    "        \n",
    "        crs = dataset.crs\n",
    "    return (road_geometries, crs)"
   ]
  },
  {
   "cell_type": "code",
   "execution_count": null,
   "metadata": {},
   "outputs": [],
   "source": [
    "road_geometries_filt, crs = roads_as_vectors_with_filtering(filepath)\n",
    "output_filename = os.path.join('data', 'test_filt.shp')\n",
    "save_as_shapefile(output_filename, road_geometries_filt, crs)"
   ]
  }
 ],
 "metadata": {
  "kernelspec": {
   "display_name": "Python 3 (ipykernel)",
   "language": "python",
   "name": "python3"
  },
  "language_info": {
   "codemirror_mode": {
    "name": "ipython",
    "version": 3
   },
   "file_extension": ".py",
   "mimetype": "text/x-python",
   "name": "python",
   "nbconvert_exporter": "python",
   "pygments_lexer": "ipython3",
   "version": "3.8.13"
  }
 },
 "nbformat": 4,
 "nbformat_minor": 4
}
