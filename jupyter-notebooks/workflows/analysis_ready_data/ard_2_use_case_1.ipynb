{
 "cells": [
  {
   "attachments": {},
   "cell_type": "markdown",
   "metadata": {},
   "source": [
    "# Analysis Ready Data Tutorial Part 2: Use Case 1\n",
    "\n",
    "Time-series analysis (e.g. change detection and trend detection) is a powerful application of satellite imagery. However, a great deal of processing is required to prepare imagery for analysis. Analysis Ready Data (ARD), preprocessed time-series stacks of overhead imagery, allow for time-series analysis without any additional processing of the imagery. See [Analysis Data Defined](https://medium.com/planet-stories/analysis-ready-data-defined-5694f6f48815) for an excellent introduction and discussion on ARD.\n",
    "\n",
    "In [Part 1](ard_1_intro_and_best_practices.ipynb) of this tutorial, we introduced ARD and covered the how and whys of using the Data and Orders APIs to create and interpret ARD.\n",
    "\n",
    "This second part of the tutorial focuses on the first of two use cases. The use case addressed in this tutorial is:\n",
    "\n",
    "* As a software engineer at an ag-tech company, I'd like to be able to order Planet imagery programmatically in a way that enables the data scientist at my organization to create time-series algorithms (e.g. monitoring NDVI curves over time) without further data cleaning and processing.\n",
    "\n",
    "Please see the first part of the tutorial for an introduction to the Data and Orders APIs along with best practices. A lot of functionality developed in that tutorial will be copied here in a compact form.\n",
    "\n",
    "## Introduction\n",
    "\n",
    "Two things are interesting about this use case. First, we are calculating NDVI, and second, we are compositing scenes together. We are also using UDM2s. What are NDVI and UDM2s, what is compositing, and why do we want to do it?\n",
    "\n",
    "Great questions!\n",
    "\n",
    "NDVI stands for Normalized Difference Vegetation Index. It is commonly used to find out if vegetation is growing. You can find out more about NDVI at [USGS](https://www.usgs.gov/land-resources/eros/phenology/science/ndvi-foundation-remote-sensing-phenology?qt-science_center_objects=0#qt-science_center_objects) and [Wikipedia](https://en.wikipedia.org/wiki/Normalized_difference_vegetation_index). What we care about here is that NDVI uses the red and near-infrared bands of an image and returns one band with values that range from -1 to 1. So, we expect a single-band image for each order.\n",
    "\n",
    "[UDM2s](https://developers.planet.com/docs/data/udm-2/), or Usable Data Masks, use machine learning image segmentation techniques to identify which pixels in the image are clear or cloudy, or are contaminated by light or heavy haze, or snow. The resulting image mask layers, packaged as a GeoTIFF, helps visualize what parts of the image contain these elements and what parts are clear.\n",
    "\n",
    "Compositing is a way to stitch multiple scenes together for maximum coverage. We want this because for a time series, we just want one image for each date and we want that one image to have the most coverage to minimize holes in our data. The composite tool takes in multiple scenes and returns one image. If we feed it scenes from a whole timestack, we still just get one image back! So, to avoid that disaster, we group our scenes by date and only composite the scenes that were collected on the same date.\n",
    "\n",
    "\n",
    "## Implementation\n",
    "\n",
    "The use case we will cover is: *As a software engineer at an ag-tech company, I'd like to be able to order Planet imagery programmatically in a way that enables the data scientist at my organization to create time-series algorithms (e.g. monitoring ndvi curves over time) without further data cleaning and processing.*\n",
    "\n",
    "For this use case, the area of interest and time range are not specified. The need for no further processing indicates we should specify a strict usable pixel data filter. For time-series analysis the daily coverage of PS satellites is ideal. For our time-series analysis, we would like a single image that covers the entire area of interest (AOI). However, it may take multiple scenes to cover the entire AOI. Therefore, we will use the Composite tool to make a composite for each day in the time series analysis. This is a little tricky because the Composite tool just composites all of the scenes associated with the ids ordered. So we need to parse the scene ids we got from the Data API to get scene ids for each day, then submit an order for each day.\n",
    "\n",
    "We will be searching for a PSScene image in the date range April 1st - May 1st 2019 with a clear percentage of 90% or above. \n",
    "\n",
    "To summarize, these are the steps:\n",
    "1. [Initialize API client](#Step-1:-Initialize-API-client)\n",
    "2. [Search Data API](#Step-2:-Search-Data-API)\n",
    "3. [Group IDs by Date](#Step-3:-Group-IDs-by-Date)\n",
    "4. [Submit Orders](#Step-4:-Submit-Orders)\n",
    "5. [Download Orders](#Step-5:-Download-Orders)\n",
    "6. [Unzip and Verify Orders](#Step-6:-Unzip-and-Verify-Orders)\n",
    "\n",
    "Note that, due to the processing-intensiveness of visualizing the NDVI images and [UDM2s](https://developers.planet.com/docs/data/udm-2/), we will be covering visualization in the next notebook, [Analysis Ready Data Tutorial Part 2: Use Case 1 - Visualization](ard_2_use_case_1_visualize_images.ipynb)"
   ]
  },
  {
   "attachments": {},
   "cell_type": "markdown",
   "metadata": {},
   "source": [
    "Open in Colab below:"
   ]
  },
  {
   "attachments": {},
   "cell_type": "markdown",
   "metadata": {},
   "source": [
    "<a target=\"_blank\" href=\"https://colab.research.google.com/github/planetlabs/notebooks/blob/master/jupyter-notebooks/analysis-ready-data/ard_2_use_case_1.ipynb\">\n",
    "  <img src=\"https://colab.research.google.com/assets/colab-badge.svg\" alt=\"Open In Colab\"/>\n",
    "</a>"
   ]
  },
  {
   "attachments": {},
   "cell_type": "markdown",
   "metadata": {},
   "source": [
    "#### Import Dependencies"
   ]
  },
  {
   "cell_type": "code",
   "execution_count": 1,
   "metadata": {},
   "outputs": [],
   "source": [
    "import asyncio\n",
    "from copy import copy\n",
    "from datetime import datetime\n",
    "from itertools import chain\n",
    "import json\n",
    "import os\n",
    "from pathlib import Path\n",
    "\n",
    "from pprint import pprint\n",
    "from zipfile import ZipFile\n",
    "import numpy as np\n",
    "import planet\n",
    "from planet import Auth\n",
    "from planet import Session, DataClient, OrdersClient, data_filter\n",
    "from planet.order_request import build_request, product"
   ]
  },
  {
   "attachments": {},
   "cell_type": "markdown",
   "metadata": {},
   "source": [
    "#### Step 1: Initialize API client"
   ]
  },
  {
   "cell_type": "code",
   "execution_count": 2,
   "metadata": {},
   "outputs": [],
   "source": [
    "\"\"\"\n",
    "If your Planet API Key is not set as an environment variable, you can paste it below\n",
    "Note: please be sure to follow the security guidelines put forth by your \n",
    "organization when using this API Key in the keychain\n",
    "\"\"\"\n",
    "API_KEY = os.environ.get('PL_API_KEY', 'PASTE_YOUR_KEY_HERE')\n",
    "\n",
    "client = planet.Auth.from_key(API_KEY)"
   ]
  },
  {
   "attachments": {},
   "cell_type": "markdown",
   "metadata": {},
   "source": [
    "#### Step 2: Search Data API\n",
    "\n",
    "The goal of this step is to get the scene ids that meet the search criteria for this use case."
   ]
  },
  {
   "cell_type": "code",
   "execution_count": 3,
   "metadata": {},
   "outputs": [],
   "source": [
    "# Define test data for the filter\n",
    "\n",
    "# Iowa crops aoi\n",
    "test_aoi_geom = {\n",
    "    \"type\": \"Polygon\",\n",
    "    \"coordinates\": [\n",
    "        [\n",
    "            [-93.299129, 42.699599],\n",
    "            [-93.299674, 42.812757],\n",
    "            [-93.288436, 42.861921],\n",
    "            [-93.265332, 42.924817],\n",
    "            [-92.993873, 42.925124],\n",
    "            [-92.993888, 42.773637],\n",
    "            [-92.998396, 42.754529],\n",
    "            [-93.019154, 42.699988],\n",
    "            [-93.299129, 42.699599]\n",
    "        ]\n",
    "    ]\n",
    "}"
   ]
  },
  {
   "cell_type": "code",
   "execution_count": 4,
   "metadata": {},
   "outputs": [],
   "source": [
    "# Create an API Request from the search specifications\n",
    "\n",
    "item_type = ['PSScene']\n",
    "\n",
    "geom_filter = data_filter.geometry_filter(test_aoi_geom)\n",
    "clear_percent_filter = data_filter.range_filter('clear_percent', 90)\n",
    "date_range_filter = data_filter.date_range_filter(\"acquired\", datetime(\n",
    "    month=4, day=1, year=2019), datetime(month=5, day=1, year=2019))\n",
    "cloud_cover_filter = data_filter.range_filter('cloud_cover', None, 0.1)\n",
    "\n",
    "combined_filter = data_filter.and_filter(\n",
    "    [geom_filter, clear_percent_filter, date_range_filter])\n",
    "\n",
    "async with Session() as sess:\n",
    "    cl = sess.client('data')\n",
    "    request = await cl.create_search(name='temp_search2', search_filter=combined_filter, item_types=item_type)"
   ]
  },
  {
   "cell_type": "code",
   "execution_count": 5,
   "metadata": {},
   "outputs": [
    {
     "name": "stdout",
     "output_type": "stream",
     "text": [
      "{'__daily_email_enabled': False,\n",
      " '_links': {'_self': 'https://api.planet.com/data/v1/searches/bdae6a6a26af4d239de12b82433e8515',\n",
      "            'results': 'https://api.planet.com/data/v1/searches/bdae6a6a26af4d239de12b82433e8515/results'},\n",
      " 'created': '2023-07-07T14:17:17.369726Z',\n",
      " 'filter': {'config': [{'config': {'coordinates': [[[-93.299129, 42.699599],\n",
      "                                                    [-93.299674, 42.812757],\n",
      "                                                    [-93.288436, 42.861921],\n",
      "                                                    [-93.265332, 42.924817],\n",
      "                                                    [-92.993873, 42.925124],\n",
      "                                                    [-92.993888, 42.773637],\n",
      "                                                    [-92.998396, 42.754529],\n",
      "                                                    [-93.019154, 42.699988],\n",
      "                                                    [-93.299129, 42.699599]]],\n",
      "                                   'type': 'Polygon'},\n",
      "                        'field_name': 'geometry',\n",
      "                        'type': 'GeometryFilter'},\n",
      "                       {'config': {'gt': 90.0},\n",
      "                        'field_name': 'clear_percent',\n",
      "                        'type': 'RangeFilter'},\n",
      "                       {'config': {'gt': '2019-04-01T00:00:00Z',\n",
      "                                   'lt': '2019-05-01T00:00:00Z'},\n",
      "                        'field_name': 'acquired',\n",
      "                        'type': 'DateRangeFilter'}],\n",
      "            'type': 'AndFilter'},\n",
      " 'id': 'bdae6a6a26af4d239de12b82433e8515',\n",
      " 'item_types': ['PSScene'],\n",
      " 'last_executed': None,\n",
      " 'name': 'temp_search2',\n",
      " 'search_type': 'saved',\n",
      " 'updated': '2023-07-07T14:17:17.369726Z'}\n"
     ]
    }
   ],
   "source": [
    "# Let's look at our search request.\n",
    "# Note: This is just the request's structure, the search hasn't been implemented yet\n",
    "pprint(request)"
   ]
  },
  {
   "cell_type": "code",
   "execution_count": 6,
   "metadata": {},
   "outputs": [],
   "source": [
    "# Search the Data API\n",
    "async with Session() as sess:\n",
    "    cl = sess.client('data')\n",
    "    items = cl.run_search(search_id=request['id'])\n",
    "    item_list = [i async for i in items]"
   ]
  },
  {
   "cell_type": "code",
   "execution_count": 7,
   "metadata": {},
   "outputs": [
    {
     "name": "stdout",
     "output_type": "stream",
     "text": [
      "80\n"
     ]
    }
   ],
   "source": [
    "print(len(item_list))"
   ]
  },
  {
   "attachments": {},
   "cell_type": "markdown",
   "metadata": {},
   "source": [
    "#### Step 3: Group IDs by Date"
   ]
  },
  {
   "cell_type": "code",
   "execution_count": 8,
   "metadata": {
    "scrolled": true
   },
   "outputs": [
    {
     "name": "stdout",
     "output_type": "stream",
     "text": [
      "{'_links': {'_self': 'https://api.planet.com/data/v1/item-types/PSScene/items/20190426_163458_0e3a', 'assets': 'https://api.planet.com/data/v1/item-types/PSScene/items/20190426_163458_0e3a/assets/', 'thumbnail': 'https://tiles.planet.com/data/v1/item-types/PSScene/items/20190426_163458_0e3a/thumb'}, '_permissions': ['assets.basic_analytic_4b:download', 'assets.basic_analytic_4b_rpc:download', 'assets.basic_analytic_4b_xml:download', 'assets.basic_udm2:download', 'assets.ortho_analytic_3b:download', 'assets.ortho_analytic_3b_xml:download', 'assets.ortho_analytic_4b:download', 'assets.ortho_analytic_4b_sr:download', 'assets.ortho_analytic_4b_xml:download', 'assets.ortho_udm2:download', 'assets.ortho_visual:download'], 'assets': ['basic_analytic_4b', 'basic_analytic_4b_rpc', 'basic_analytic_4b_xml', 'basic_udm2', 'ortho_analytic_3b', 'ortho_analytic_3b_xml', 'ortho_analytic_4b', 'ortho_analytic_4b_sr', 'ortho_analytic_4b_xml', 'ortho_udm2', 'ortho_visual'], 'geometry': {'coordinates': [[[-93.43937458787262, 42.99173746404502], [-93.46173953873257, 42.91973708027283], [-93.15515299463495, 42.86855218895958], [-93.13295466312405, 42.940673598097845], [-93.43937458787262, 42.99173746404502]]], 'type': 'Polygon'}, 'id': '20190426_163458_0e3a', 'properties': {'acquired': '2019-04-26T16:34:58.516944Z', 'anomalous_pixels': 0, 'clear_confidence_percent': 96, 'clear_percent': 100, 'cloud_cover': 0, 'cloud_percent': 0, 'ground_control': True, 'gsd': 3.9, 'heavy_haze_percent': 0, 'instrument': 'PS2', 'item_type': 'PSScene', 'light_haze_percent': 0, 'pixel_resolution': 3, 'provider': 'planetscope', 'published': '2021-03-04T00:39:01Z', 'publishing_stage': 'finalized', 'quality_category': 'standard', 'satellite_azimuth': 270.6, 'satellite_id': '0e3a', 'shadow_percent': 0, 'snow_ice_percent': 0, 'strip_id': '2314603', 'sun_azimuth': 137.4, 'sun_elevation': 54.1, 'updated': '2021-03-04T00:39:01Z', 'view_angle': 1, 'visible_confidence_percent': 75, 'visible_percent': 100}, 'type': 'Feature'}\n"
     ]
    }
   ],
   "source": [
    "# Check out an item just for fun\n",
    "print(item_list[0])"
   ]
  },
  {
   "cell_type": "code",
   "execution_count": 9,
   "metadata": {},
   "outputs": [
    {
     "name": "stdout",
     "output_type": "stream",
     "text": [
      "'2019-04-26'\n"
     ]
    }
   ],
   "source": [
    "# Let's grab this first item in our list and look at the date it was acquired\n",
    "item = item_list[0]\n",
    "acquired_date = item['properties']['acquired'].split('T')[0]\n",
    "pprint(acquired_date)"
   ]
  },
  {
   "cell_type": "code",
   "execution_count": 10,
   "metadata": {},
   "outputs": [],
   "source": [
    "# We can create a function to get the acquired dates for all of our search results\n",
    "def get_acquired_date(item):\n",
    "    return item['properties']['acquired'].split('T')[0]\n",
    "\n",
    "acquired_dates = [get_acquired_date(item) for item in item_list]"
   ]
  },
  {
   "cell_type": "code",
   "execution_count": 11,
   "metadata": {},
   "outputs": [
    {
     "name": "stdout",
     "output_type": "stream",
     "text": [
      "{'2019-04-02',\n",
      " '2019-04-08',\n",
      " '2019-04-15',\n",
      " '2019-04-19',\n",
      " '2019-04-20',\n",
      " '2019-04-21',\n",
      " '2019-04-23',\n",
      " '2019-04-24',\n",
      " '2019-04-26'}\n"
     ]
    }
   ],
   "source": [
    "# Let's look at the unique values of Acquired Date for our results\n",
    "unique_acquired_dates = set(acquired_dates)\n",
    "pprint(unique_acquired_dates)"
   ]
  },
  {
   "cell_type": "code",
   "execution_count": 12,
   "metadata": {
    "scrolled": true
   },
   "outputs": [
    {
     "name": "stdout",
     "output_type": "stream",
     "text": [
      "{'2019-04-02': ['20190402_163633_0e16',\n",
      "                '20190402_163631_0e16',\n",
      "                '20190402_163634_0e16'],\n",
      " '2019-04-08': ['20190408_163738_1025',\n",
      "                '20190408_163736_1025',\n",
      "                '20190408_163735_1025',\n",
      "                '20190408_164038_100e',\n",
      "                '20190408_164036_100e',\n",
      "                '20190408_164037_100e',\n",
      "                '20190408_164035_100e',\n",
      "                '20190408_164034_100e',\n",
      "                '20190408_154008_1020',\n",
      "                '20190408_154005_1020',\n",
      "                '20190408_154006_1020',\n",
      "                '20190408_154004_1020',\n",
      "                '20190408_154007_1020'],\n",
      " '2019-04-15': ['20190415_170304_85_1068', '20190415_170302_79_1068'],\n",
      " '2019-04-19': ['20190419_164002_1035',\n",
      "                '20190419_164003_1035',\n",
      "                '20190419_164000_1035',\n",
      "                '20190419_164001_1035',\n",
      "                '20190419_164004_1035'],\n",
      " '2019-04-20': ['20190420_164137_1002',\n",
      "                '20190420_164136_1002',\n",
      "                '20190420_164135_1002',\n",
      "                '20190420_164134_1002',\n",
      "                '20190420_164133_1002',\n",
      "                '20190420_163148_0e19',\n",
      "                '20190420_163149_0e19',\n",
      "                '20190420_163153_0e19',\n",
      "                '20190420_163150_0e19',\n",
      "                '20190420_163152_0e19'],\n",
      " '2019-04-21': ['20190421_164035_1011',\n",
      "                '20190421_164033_1011',\n",
      "                '20190421_164034_1011',\n",
      "                '20190421_153723_0f46',\n",
      "                '20190421_153725_0f46',\n",
      "                '20190421_153724_0f46'],\n",
      " '2019-04-23': ['20190423_164035_0f15',\n",
      "                '20190423_164036_0f15',\n",
      "                '20190423_164033_0f15',\n",
      "                '20190423_164037_0f15',\n",
      "                '20190423_164034_0f15',\n",
      "                '20190423_164113_0f12',\n",
      "                '20190423_164114_0f12',\n",
      "                '20190423_164115_0f12',\n",
      "                '20190423_164112_0f12',\n",
      "                '20190423_153728_0f36',\n",
      "                '20190423_153729_0f36',\n",
      "                '20190423_153725_0f36',\n",
      "                '20190423_153726_0f36',\n",
      "                '20190423_153727_0f36'],\n",
      " '2019-04-24': ['20190424_163723_0f35',\n",
      "                '20190424_163721_0f35',\n",
      "                '20190424_163724_0f35',\n",
      "                '20190424_163725_0f35',\n",
      "                '20190424_163720_0f35',\n",
      "                '20190424_153652_1020',\n",
      "                '20190424_153651_1020',\n",
      "                '20190424_153650_1020',\n",
      "                '20190424_153649_1020',\n",
      "                '20190424_153648_1020',\n",
      "                '20190424_163409_0e19',\n",
      "                '20190424_163404_0e19',\n",
      "                '20190424_163405_0e19',\n",
      "                '20190424_163408_0e19',\n",
      "                '20190424_163407_0e19'],\n",
      " '2019-04-26': ['20190426_163458_0e3a',\n",
      "                '20190426_163501_0e3a',\n",
      "                '20190426_163500_0e3a',\n",
      "                '20190426_163459_0e3a',\n",
      "                '20190426_170325_31_105c',\n",
      "                '20190426_153655_1054',\n",
      "                '20190426_153657_1054',\n",
      "                '20190426_153656_1054',\n",
      "                '20190426_153658_1054',\n",
      "                '20190426_153656_1_1054',\n",
      "                '20190426_170322_82_105c',\n",
      "                '20190426_170320_32_105c']}\n"
     ]
    }
   ],
   "source": [
    "# We can also list our Image IDs grouped based on Acquired Date\n",
    "\n",
    "def get_date_item_ids(date, all_items):\n",
    "    \"\"\"\n",
    "    Get the item IDs for items with a specific acquired date.\n",
    "\n",
    "    Args:\n",
    "        date (str): The target acquired date in string format (e.g., '2023-06-27').\n",
    "        all_items (list): A list of item dictionaries, each containing an 'id' field and 'acquired' field.\n",
    "\n",
    "    Returns:\n",
    "        list: A list of item IDs that have the specified acquired date.\n",
    "    \"\"\"\n",
    "    return [i['id'] for i in all_items if get_acquired_date(i) == date]\n",
    "\n",
    "\n",
    "def get_ids_by_date(items):\n",
    "    \"\"\"\n",
    "    Returns a dictionary mapping of acquired dates of the Image IDs to lists of item IDs.\n",
    "\n",
    "    Args:\n",
    "        items (list): A list of items.\n",
    "\n",
    "    Returns:\n",
    "        dict: A dictionary where the keys are acquired dates and the values are lists of item IDs.\n",
    "    \"\"\"\n",
    "    acquired_dates = [get_acquired_date(item) for item in items]\n",
    "    unique_acquired_dates = set(acquired_dates)\n",
    "\n",
    "    ids_by_date = dict((d, get_date_item_ids(d, items))\n",
    "                       for d in unique_acquired_dates)\n",
    "    return ids_by_date\n",
    "\n",
    "\n",
    "ids_by_date = get_ids_by_date(item_list)\n",
    "pprint(ids_by_date)"
   ]
  },
  {
   "cell_type": "code",
   "execution_count": 13,
   "metadata": {
    "scrolled": true
   },
   "outputs": [
    {
     "data": {
      "text/plain": [
       "['20190402_163633_0e16', '20190402_163631_0e16', '20190402_163634_0e16']"
      ]
     },
     "execution_count": 13,
     "metadata": {},
     "output_type": "execute_result"
    }
   ],
   "source": [
    "ids_by_date[list(unique_acquired_dates)[0]]"
   ]
  },
  {
   "attachments": {},
   "cell_type": "markdown",
   "metadata": {},
   "source": [
    "#### Step 4: Submit Orders\n",
    "\n",
    "Now that we have the scene ids for each collect date, we can create the orders for each date. The output of each order is a single zip file that contains one composited scene and one composited UDM2.\n",
    "\n",
    "For this step we will just use the Python API. See the first part of this [notebook](ard_1_intro_and_best_practices.ipynb) for a demonstration of how to use the CLI.\n",
    "\n",
    "##### Step 4.1: Build Order Toolchain"
   ]
  },
  {
   "cell_type": "code",
   "execution_count": 14,
   "metadata": {},
   "outputs": [],
   "source": [
    "item_type = 'PSScene'\n",
    "bundle = 'analytic_sr_udm2'\n",
    "name = 'tutorial_order2'"
   ]
  },
  {
   "cell_type": "code",
   "execution_count": 15,
   "metadata": {},
   "outputs": [
    {
     "name": "stdout",
     "output_type": "stream",
     "text": [
      "[{'clip': {'aoi': {'coordinates': [[[-93.299129, 42.699599],\n",
      "                                    [-93.299674, 42.812757],\n",
      "                                    [-93.288436, 42.861921],\n",
      "                                    [-93.265332, 42.924817],\n",
      "                                    [-92.993873, 42.925124],\n",
      "                                    [-92.993888, 42.773637],\n",
      "                                    [-92.998396, 42.754529],\n",
      "                                    [-93.019154, 42.699988],\n",
      "                                    [-93.299129, 42.699599]]],\n",
      "                   'type': 'Polygon'}}},\n",
      " {'bandmath': {'b1': '(b4 - b3) / (b4+b3)', 'pixel_type': '32R'}},\n",
      " {'composite': {}}]\n"
     ]
    }
   ],
   "source": [
    "# Specify tools\n",
    "\n",
    "# Clip to AOI\n",
    "clip_tool = {'clip': {'aoi': test_aoi_geom}}\n",
    "\n",
    "# Convert to NDVI\n",
    "bandmath_tool = {'bandmath': {\n",
    "    \"pixel_type\": \"32R\",\n",
    "    \"b1\": \"(b4 - b3) / (b4+b3)\"\n",
    "}}\n",
    "\n",
    "# Composite\n",
    "composite_tool = {\n",
    "    \"composite\": {\n",
    "    }\n",
    "}\n",
    "\n",
    "tools = [clip_tool, bandmath_tool, composite_tool]\n",
    "pprint(tools)"
   ]
  },
  {
   "cell_type": "code",
   "execution_count": 16,
   "metadata": {},
   "outputs": [],
   "source": [
    "# Build the order request using the Python SDK's order_request feature\n",
    "# We will put this into a function so we can loop over all of our dates/image_IDs of interest.\n",
    "def build_order_request(ids):\n",
    "    products = [product(ids, bundle, item_type)]\n",
    "    request = build_request('test_order_sdk_method_2',\n",
    "                            products=products, tools=tools)\n",
    "    return request"
   ]
  },
  {
   "cell_type": "code",
   "execution_count": 17,
   "metadata": {
    "scrolled": true
   },
   "outputs": [
    {
     "name": "stdout",
     "output_type": "stream",
     "text": [
      "[{'name': 'test_order_sdk_method_2',\n",
      "  'products': [{'item_ids': ['20190402_163633_0e16',\n",
      "                             '20190402_163631_0e16',\n",
      "                             '20190402_163634_0e16'],\n",
      "                'item_type': 'PSScene',\n",
      "                'product_bundle': 'analytic_sr_udm2'}],\n",
      "  'tools': [{'clip': {'aoi': {'coordinates': [[[-93.299129, 42.699599],\n",
      "                                               [-93.299674, 42.812757],\n",
      "                                               [-93.288436, 42.861921],\n",
      "                                               [-93.265332, 42.924817],\n",
      "                                               [-92.993873, 42.925124],\n",
      "                                               [-92.993888, 42.773637],\n",
      "                                               [-92.998396, 42.754529],\n",
      "                                               [-93.019154, 42.699988],\n",
      "                                               [-93.299129, 42.699599]]],\n",
      "                              'type': 'Polygon'}}},\n",
      "            {'bandmath': {'b1': '(b4 - b3) / (b4+b3)', 'pixel_type': '32R'}},\n",
      "            {'composite': {}}]},\n",
      " {'name': 'test_order_sdk_method_2',\n",
      "  'products': [{'item_ids': ['20190423_164035_0f15',\n",
      "                             '20190423_164036_0f15',\n",
      "                             '20190423_164033_0f15',\n",
      "                             '20190423_164037_0f15',\n",
      "                             '20190423_164034_0f15',\n",
      "                             '20190423_164113_0f12',\n",
      "                             '20190423_164114_0f12',\n",
      "                             '20190423_164115_0f12',\n",
      "                             '20190423_164112_0f12',\n",
      "                             '20190423_153728_0f36',\n",
      "                             '20190423_153729_0f36',\n",
      "                             '20190423_153725_0f36',\n",
      "                             '20190423_153726_0f36',\n",
      "                             '20190423_153727_0f36'],\n",
      "                'item_type': 'PSScene',\n",
      "                'product_bundle': 'analytic_sr_udm2'}],\n",
      "  'tools': [{'clip': {'aoi': {'coordinates': [[[-93.299129, 42.699599],\n",
      "                                               [-93.299674, 42.812757],\n",
      "                                               [-93.288436, 42.861921],\n",
      "                                               [-93.265332, 42.924817],\n",
      "                                               [-92.993873, 42.925124],\n",
      "                                               [-92.993888, 42.773637],\n",
      "                                               [-92.998396, 42.754529],\n",
      "                                               [-93.019154, 42.699988],\n",
      "                                               [-93.299129, 42.699599]]],\n",
      "                              'type': 'Polygon'}}},\n",
      "            {'bandmath': {'b1': '(b4 - b3) / (b4+b3)', 'pixel_type': '32R'}},\n",
      "            {'composite': {}}]},\n",
      " {'name': 'test_order_sdk_method_2',\n",
      "  'products': [{'item_ids': ['20190426_163458_0e3a',\n",
      "                             '20190426_163501_0e3a',\n",
      "                             '20190426_163500_0e3a',\n",
      "                             '20190426_163459_0e3a',\n",
      "                             '20190426_170325_31_105c',\n",
      "                             '20190426_153655_1054',\n",
      "                             '20190426_153657_1054',\n",
      "                             '20190426_153656_1054',\n",
      "                             '20190426_153658_1054',\n",
      "                             '20190426_153656_1_1054',\n",
      "                             '20190426_170322_82_105c',\n",
      "                             '20190426_170320_32_105c'],\n",
      "                'item_type': 'PSScene',\n",
      "                'product_bundle': 'analytic_sr_udm2'}],\n",
      "  'tools': [{'clip': {'aoi': {'coordinates': [[[-93.299129, 42.699599],\n",
      "                                               [-93.299674, 42.812757],\n",
      "                                               [-93.288436, 42.861921],\n",
      "                                               [-93.265332, 42.924817],\n",
      "                                               [-92.993873, 42.925124],\n",
      "                                               [-92.993888, 42.773637],\n",
      "                                               [-92.998396, 42.754529],\n",
      "                                               [-93.019154, 42.699988],\n",
      "                                               [-93.299129, 42.699599]]],\n",
      "                              'type': 'Polygon'}}},\n",
      "            {'bandmath': {'b1': '(b4 - b3) / (b4+b3)', 'pixel_type': '32R'}},\n",
      "            {'composite': {}}]},\n",
      " {'name': 'test_order_sdk_method_2',\n",
      "  'products': [{'item_ids': ['20190421_164035_1011',\n",
      "                             '20190421_164033_1011',\n",
      "                             '20190421_164034_1011',\n",
      "                             '20190421_153723_0f46',\n",
      "                             '20190421_153725_0f46',\n",
      "                             '20190421_153724_0f46'],\n",
      "                'item_type': 'PSScene',\n",
      "                'product_bundle': 'analytic_sr_udm2'}],\n",
      "  'tools': [{'clip': {'aoi': {'coordinates': [[[-93.299129, 42.699599],\n",
      "                                               [-93.299674, 42.812757],\n",
      "                                               [-93.288436, 42.861921],\n",
      "                                               [-93.265332, 42.924817],\n",
      "                                               [-92.993873, 42.925124],\n",
      "                                               [-92.993888, 42.773637],\n",
      "                                               [-92.998396, 42.754529],\n",
      "                                               [-93.019154, 42.699988],\n",
      "                                               [-93.299129, 42.699599]]],\n",
      "                              'type': 'Polygon'}}},\n",
      "            {'bandmath': {'b1': '(b4 - b3) / (b4+b3)', 'pixel_type': '32R'}},\n",
      "            {'composite': {}}]},\n",
      " {'name': 'test_order_sdk_method_2',\n",
      "  'products': [{'item_ids': ['20190415_170304_85_1068',\n",
      "                             '20190415_170302_79_1068'],\n",
      "                'item_type': 'PSScene',\n",
      "                'product_bundle': 'analytic_sr_udm2'}],\n",
      "  'tools': [{'clip': {'aoi': {'coordinates': [[[-93.299129, 42.699599],\n",
      "                                               [-93.299674, 42.812757],\n",
      "                                               [-93.288436, 42.861921],\n",
      "                                               [-93.265332, 42.924817],\n",
      "                                               [-92.993873, 42.925124],\n",
      "                                               [-92.993888, 42.773637],\n",
      "                                               [-92.998396, 42.754529],\n",
      "                                               [-93.019154, 42.699988],\n",
      "                                               [-93.299129, 42.699599]]],\n",
      "                              'type': 'Polygon'}}},\n",
      "            {'bandmath': {'b1': '(b4 - b3) / (b4+b3)', 'pixel_type': '32R'}},\n",
      "            {'composite': {}}]},\n",
      " {'name': 'test_order_sdk_method_2',\n",
      "  'products': [{'item_ids': ['20190408_163738_1025',\n",
      "                             '20190408_163736_1025',\n",
      "                             '20190408_163735_1025',\n",
      "                             '20190408_164038_100e',\n",
      "                             '20190408_164036_100e',\n",
      "                             '20190408_164037_100e',\n",
      "                             '20190408_164035_100e',\n",
      "                             '20190408_164034_100e',\n",
      "                             '20190408_154008_1020',\n",
      "                             '20190408_154005_1020',\n",
      "                             '20190408_154006_1020',\n",
      "                             '20190408_154004_1020',\n",
      "                             '20190408_154007_1020'],\n",
      "                'item_type': 'PSScene',\n",
      "                'product_bundle': 'analytic_sr_udm2'}],\n",
      "  'tools': [{'clip': {'aoi': {'coordinates': [[[-93.299129, 42.699599],\n",
      "                                               [-93.299674, 42.812757],\n",
      "                                               [-93.288436, 42.861921],\n",
      "                                               [-93.265332, 42.924817],\n",
      "                                               [-92.993873, 42.925124],\n",
      "                                               [-92.993888, 42.773637],\n",
      "                                               [-92.998396, 42.754529],\n",
      "                                               [-93.019154, 42.699988],\n",
      "                                               [-93.299129, 42.699599]]],\n",
      "                              'type': 'Polygon'}}},\n",
      "            {'bandmath': {'b1': '(b4 - b3) / (b4+b3)', 'pixel_type': '32R'}},\n",
      "            {'composite': {}}]},\n",
      " {'name': 'test_order_sdk_method_2',\n",
      "  'products': [{'item_ids': ['20190420_164137_1002',\n",
      "                             '20190420_164136_1002',\n",
      "                             '20190420_164135_1002',\n",
      "                             '20190420_164134_1002',\n",
      "                             '20190420_164133_1002',\n",
      "                             '20190420_163148_0e19',\n",
      "                             '20190420_163149_0e19',\n",
      "                             '20190420_163153_0e19',\n",
      "                             '20190420_163150_0e19',\n",
      "                             '20190420_163152_0e19'],\n",
      "                'item_type': 'PSScene',\n",
      "                'product_bundle': 'analytic_sr_udm2'}],\n",
      "  'tools': [{'clip': {'aoi': {'coordinates': [[[-93.299129, 42.699599],\n",
      "                                               [-93.299674, 42.812757],\n",
      "                                               [-93.288436, 42.861921],\n",
      "                                               [-93.265332, 42.924817],\n",
      "                                               [-92.993873, 42.925124],\n",
      "                                               [-92.993888, 42.773637],\n",
      "                                               [-92.998396, 42.754529],\n",
      "                                               [-93.019154, 42.699988],\n",
      "                                               [-93.299129, 42.699599]]],\n",
      "                              'type': 'Polygon'}}},\n",
      "            {'bandmath': {'b1': '(b4 - b3) / (b4+b3)', 'pixel_type': '32R'}},\n",
      "            {'composite': {}}]},\n",
      " {'name': 'test_order_sdk_method_2',\n",
      "  'products': [{'item_ids': ['20190419_164002_1035',\n",
      "                             '20190419_164003_1035',\n",
      "                             '20190419_164000_1035',\n",
      "                             '20190419_164001_1035',\n",
      "                             '20190419_164004_1035'],\n",
      "                'item_type': 'PSScene',\n",
      "                'product_bundle': 'analytic_sr_udm2'}],\n",
      "  'tools': [{'clip': {'aoi': {'coordinates': [[[-93.299129, 42.699599],\n",
      "                                               [-93.299674, 42.812757],\n",
      "                                               [-93.288436, 42.861921],\n",
      "                                               [-93.265332, 42.924817],\n",
      "                                               [-92.993873, 42.925124],\n",
      "                                               [-92.993888, 42.773637],\n",
      "                                               [-92.998396, 42.754529],\n",
      "                                               [-93.019154, 42.699988],\n",
      "                                               [-93.299129, 42.699599]]],\n",
      "                              'type': 'Polygon'}}},\n",
      "            {'bandmath': {'b1': '(b4 - b3) / (b4+b3)', 'pixel_type': '32R'}},\n",
      "            {'composite': {}}]},\n",
      " {'name': 'test_order_sdk_method_2',\n",
      "  'products': [{'item_ids': ['20190424_163723_0f35',\n",
      "                             '20190424_163721_0f35',\n",
      "                             '20190424_163724_0f35',\n",
      "                             '20190424_163725_0f35',\n",
      "                             '20190424_163720_0f35',\n",
      "                             '20190424_153652_1020',\n",
      "                             '20190424_153651_1020',\n",
      "                             '20190424_153650_1020',\n",
      "                             '20190424_153649_1020',\n",
      "                             '20190424_153648_1020',\n",
      "                             '20190424_163409_0e19',\n",
      "                             '20190424_163404_0e19',\n",
      "                             '20190424_163405_0e19',\n",
      "                             '20190424_163408_0e19',\n",
      "                             '20190424_163407_0e19'],\n",
      "                'item_type': 'PSScene',\n",
      "                'product_bundle': 'analytic_sr_udm2'}],\n",
      "  'tools': [{'clip': {'aoi': {'coordinates': [[[-93.299129, 42.699599],\n",
      "                                               [-93.299674, 42.812757],\n",
      "                                               [-93.288436, 42.861921],\n",
      "                                               [-93.265332, 42.924817],\n",
      "                                               [-92.993873, 42.925124],\n",
      "                                               [-92.993888, 42.773637],\n",
      "                                               [-92.998396, 42.754529],\n",
      "                                               [-93.019154, 42.699988],\n",
      "                                               [-93.299129, 42.699599]]],\n",
      "                              'type': 'Polygon'}}},\n",
      "            {'bandmath': {'b1': '(b4 - b3) / (b4+b3)', 'pixel_type': '32R'}},\n",
      "            {'composite': {}}]}]\n"
     ]
    }
   ],
   "source": [
    "list_of_order_requests = []\n",
    "\n",
    "for date in list(unique_acquired_dates):\n",
    "    ids = ids_by_date[date]\n",
    "    list_of_order_requests.append(build_order_request(ids))\n",
    "\n",
    "pprint(list_of_order_requests)"
   ]
  },
  {
   "attachments": {},
   "cell_type": "markdown",
   "metadata": {},
   "source": [
    "##### Step 4.2: Submit Orders\n",
    "\n",
    "In this section, for the sake of demonstration, we limit our orders to 2. Feel free to increase this limit if you want!"
   ]
  },
  {
   "cell_type": "code",
   "execution_count": 18,
   "metadata": {},
   "outputs": [],
   "source": [
    "order_limit = 2\n",
    "list_orders = []\n",
    "\n",
    "# Place the order\n",
    "for order_request in list_of_order_requests[:order_limit]:\n",
    "    async with Session() as sess:\n",
    "        cl = sess.client('orders')\n",
    "        order = await cl.create_order(order_request)\n",
    "    list_orders.append(order)"
   ]
  },
  {
   "cell_type": "code",
   "execution_count": 19,
   "metadata": {},
   "outputs": [
    {
     "name": "stdout",
     "output_type": "stream",
     "text": [
      "[{'_links': {'_self': 'https://api.planet.com/compute/ops/orders/v2/6fe46be0-e53b-49d2-b3a3-16dbc600b4d8'},\n",
      "  'created_on': '2023-07-07T14:17:19.871Z',\n",
      "  'error_hints': [],\n",
      "  'id': '6fe46be0-e53b-49d2-b3a3-16dbc600b4d8',\n",
      "  'last_message': 'Preparing order',\n",
      "  'last_modified': '2023-07-07T14:17:19.871Z',\n",
      "  'name': 'test_order_sdk_method_2',\n",
      "  'products': [{'item_ids': ['20190402_163633_0e16',\n",
      "                             '20190402_163631_0e16',\n",
      "                             '20190402_163634_0e16'],\n",
      "                'item_type': 'PSScene',\n",
      "                'product_bundle': 'analytic_sr_udm2'}],\n",
      "  'state': 'queued',\n",
      "  'tools': [{'clip': {'aoi': {'coordinates': [[[-93.299129, 42.699599],\n",
      "                                               [-93.299674, 42.812757],\n",
      "                                               [-93.288436, 42.861921],\n",
      "                                               [-93.265332, 42.924817],\n",
      "                                               [-92.993873, 42.925124],\n",
      "                                               [-92.993888, 42.773637],\n",
      "                                               [-92.998396, 42.754529],\n",
      "                                               [-93.019154, 42.699988],\n",
      "                                               [-93.299129, 42.699599]]],\n",
      "                              'type': 'Polygon'}}},\n",
      "            {'bandmath': {'b1': '(b4 - b3) / (b4+b3)', 'pixel_type': '32R'}},\n",
      "            {'composite': {}}]},\n",
      " {'_links': {'_self': 'https://api.planet.com/compute/ops/orders/v2/b4945b89-0f89-4fae-9cd7-255020978060'},\n",
      "  'created_on': '2023-07-07T14:17:20.973Z',\n",
      "  'error_hints': [],\n",
      "  'id': 'b4945b89-0f89-4fae-9cd7-255020978060',\n",
      "  'last_message': 'Preparing order',\n",
      "  'last_modified': '2023-07-07T14:17:20.973Z',\n",
      "  'name': 'test_order_sdk_method_2',\n",
      "  'products': [{'item_ids': ['20190423_164035_0f15',\n",
      "                             '20190423_164036_0f15',\n",
      "                             '20190423_164033_0f15',\n",
      "                             '20190423_164037_0f15',\n",
      "                             '20190423_164034_0f15',\n",
      "                             '20190423_164113_0f12',\n",
      "                             '20190423_164114_0f12',\n",
      "                             '20190423_164115_0f12',\n",
      "                             '20190423_164112_0f12',\n",
      "                             '20190423_153728_0f36',\n",
      "                             '20190423_153729_0f36',\n",
      "                             '20190423_153725_0f36',\n",
      "                             '20190423_153726_0f36',\n",
      "                             '20190423_153727_0f36'],\n",
      "                'item_type': 'PSScene',\n",
      "                'product_bundle': 'analytic_sr_udm2'}],\n",
      "  'state': 'queued',\n",
      "  'tools': [{'clip': {'aoi': {'coordinates': [[[-93.299129, 42.699599],\n",
      "                                               [-93.299674, 42.812757],\n",
      "                                               [-93.288436, 42.861921],\n",
      "                                               [-93.265332, 42.924817],\n",
      "                                               [-92.993873, 42.925124],\n",
      "                                               [-92.993888, 42.773637],\n",
      "                                               [-92.998396, 42.754529],\n",
      "                                               [-93.019154, 42.699988],\n",
      "                                               [-93.299129, 42.699599]]],\n",
      "                              'type': 'Polygon'}}},\n",
      "            {'bandmath': {'b1': '(b4 - b3) / (b4+b3)', 'pixel_type': '32R'}},\n",
      "            {'composite': {}}]}]\n"
     ]
    }
   ],
   "source": [
    "# View the orders info\n",
    "pprint(list_orders)"
   ]
  },
  {
   "attachments": {},
   "cell_type": "markdown",
   "metadata": {},
   "source": [
    "### Step 5: Download Orders\n",
    "\n",
    "##### Step 5.1: Wait Until Orders are Successful\n",
    "\n",
    "Before we can download the orders, they have to be prepared on the server.\n",
    "\n",
    "##### Step 5.2: Run Download\n",
    "\n",
    "For this step we will use the Planet Python Orders API because we want to be able to download multiple orders at once, something the CLI does not yet support."
   ]
  },
  {
   "cell_type": "code",
   "execution_count": 20,
   "metadata": {},
   "outputs": [
    {
     "name": "stdout",
     "output_type": "stream",
     "text": [
      "['6fe46be0-e53b-49d2-b3a3-16dbc600b4d8', 'b4945b89-0f89-4fae-9cd7-255020978060']\n"
     ]
    }
   ],
   "source": [
    "# Since we have multiple Order IDs, let's get them into a list\n",
    "order_id_list = []\n",
    "\n",
    "for order in list_orders:\n",
    "    order_id = order[\"id\"]\n",
    "    order_id_list.append(order_id)\n",
    "\n",
    "print(order_id_list)"
   ]
  },
  {
   "cell_type": "code",
   "execution_count": 21,
   "metadata": {},
   "outputs": [],
   "source": [
    "# Establish the directory where we want to download the data\n",
    "data_dir = os.path.join('data', 'use_case_1')\n",
    "\n",
    "# Make the download directory if it doesn't exist\n",
    "Path(data_dir).mkdir(parents=True, exist_ok=True)"
   ]
  },
  {
   "cell_type": "code",
   "execution_count": 22,
   "metadata": {},
   "outputs": [
    {
     "ename": "CancelledError",
     "evalue": "",
     "output_type": "error",
     "traceback": [
      "\u001b[0;31m---------------------------------------------------------------------------\u001b[0m",
      "\u001b[0;31mCancelledError\u001b[0m                            Traceback (most recent call last)",
      "File \u001b[0;32m/opt/anaconda3/lib/python3.9/asyncio/tasks.py:652\u001b[0m, in \u001b[0;36msleep\u001b[0;34m(delay, result, loop)\u001b[0m\n\u001b[1;32m    651\u001b[0m \u001b[39mtry\u001b[39;00m:\n\u001b[0;32m--> 652\u001b[0m     \u001b[39mreturn\u001b[39;00m \u001b[39mawait\u001b[39;00m future\n\u001b[1;32m    653\u001b[0m \u001b[39mfinally\u001b[39;00m:\n",
      "\u001b[0;31mCancelledError\u001b[0m: ",
      "\nDuring handling of the above exception, another exception occurred:\n",
      "\u001b[0;31mCancelledError\u001b[0m                            Traceback (most recent call last)",
      "\u001b[1;32m/Users/em.steuer/repos/notebooks/jupyter-notebooks/analysis-ready-data/ard_2_use_case_1.ipynb Cell 32\u001b[0m in \u001b[0;36m<cell line: 7>\u001b[0;34m()\u001b[0m\n\u001b[1;32m      <a href='vscode-notebook-cell:/Users/em.steuer/repos/notebooks/jupyter-notebooks/analysis-ready-data/ard_2_use_case_1.ipynb#X44sZmlsZQ%3D%3D?line=6'>7</a>\u001b[0m \u001b[39masync\u001b[39;00m \u001b[39mwith\u001b[39;00m Session() \u001b[39mas\u001b[39;00m sess:\n\u001b[1;32m      <a href='vscode-notebook-cell:/Users/em.steuer/repos/notebooks/jupyter-notebooks/analysis-ready-data/ard_2_use_case_1.ipynb#X44sZmlsZQ%3D%3D?line=7'>8</a>\u001b[0m     cl \u001b[39m=\u001b[39m sess\u001b[39m.\u001b[39mclient(\u001b[39m'\u001b[39m\u001b[39morders\u001b[39m\u001b[39m'\u001b[39m)\n\u001b[0;32m----> <a href='vscode-notebook-cell:/Users/em.steuer/repos/notebooks/jupyter-notebooks/analysis-ready-data/ard_2_use_case_1.ipynb#X44sZmlsZQ%3D%3D?line=8'>9</a>\u001b[0m     \u001b[39mawait\u001b[39;00m asyncio\u001b[39m.\u001b[39mgather(\n\u001b[1;32m     <a href='vscode-notebook-cell:/Users/em.steuer/repos/notebooks/jupyter-notebooks/analysis-ready-data/ard_2_use_case_1.ipynb#X44sZmlsZQ%3D%3D?line=9'>10</a>\u001b[0m         cl\u001b[39m.\u001b[39mwait(order_id_list[\u001b[39m0\u001b[39m]),\n\u001b[1;32m     <a href='vscode-notebook-cell:/Users/em.steuer/repos/notebooks/jupyter-notebooks/analysis-ready-data/ard_2_use_case_1.ipynb#X44sZmlsZQ%3D%3D?line=10'>11</a>\u001b[0m         cl\u001b[39m.\u001b[39mwait(order_id_list[\u001b[39m1\u001b[39m]),\n\u001b[1;32m     <a href='vscode-notebook-cell:/Users/em.steuer/repos/notebooks/jupyter-notebooks/analysis-ready-data/ard_2_use_case_1.ipynb#X44sZmlsZQ%3D%3D?line=11'>12</a>\u001b[0m     )\n",
      "\u001b[0;31mCancelledError\u001b[0m: "
     ]
    }
   ],
   "source": [
    "\"\"\"\n",
    "First, we will make sure the orders have reached a downloadable state. \n",
    "Then, we will download the orders.\n",
    "This may take several minutes.\n",
    "\"\"\"\n",
    "\n",
    "async with Session() as sess:\n",
    "    cl = sess.client('orders')\n",
    "    await asyncio.gather(\n",
    "        cl.wait(order_id_list[0]),\n",
    "        cl.wait(order_id_list[1]),\n",
    "    )"
   ]
  },
  {
   "cell_type": "code",
   "execution_count": null,
   "metadata": {},
   "outputs": [],
   "source": [
    "async with Session() as sess:\n",
    "    cl = sess.client('orders')\n",
    "    await asyncio.gather(\n",
    "        cl.download_order(order_id_list[0], data_dir),\n",
    "        cl.download_order(order_id_list[1], data_dir),\n",
    "    )"
   ]
  },
  {
   "cell_type": "code",
   "execution_count": null,
   "metadata": {},
   "outputs": [
    {
     "name": "stdout",
     "output_type": "stream",
     "text": [
      "\u001b[34m50c290fd-687a-4395-9f9a-0e389823479a\u001b[m\u001b[m \u001b[34mb9ddd81d-0539-435b-b635-6bed947ef2ee\u001b[m\u001b[m\n",
      "\u001b[34m6d00095c-474b-4c69-8024-bc21a5241c25\u001b[m\u001b[m \u001b[34mbc6f0bce-ea98-4cbd-8a5a-df8eae6742c4\u001b[m\u001b[m\n",
      "\u001b[34m7309fefd-2493-4ba6-bba8-9d55276d272f\u001b[m\u001b[m \u001b[34mc4180539-85ab-4a13-911b-ed20600b4e0d\u001b[m\u001b[m\n",
      "\u001b[34m8011394b-7118-4178-a132-8d7c84306c1d\u001b[m\u001b[m \u001b[34mf06c7576-351b-4890-9a86-a215d210400c\u001b[m\u001b[m\n",
      "\u001b[34m8be63c8c-291f-4dd2-9c5f-c921b6702da4\u001b[m\u001b[m \u001b[34mfe1eb38d-907d-469c-ad66-7a3392c7942a\u001b[m\u001b[m\n",
      "\u001b[34m8f7ea899-c2d2-4789-8a0d-da23572dd580\u001b[m\u001b[m locations.zip\n",
      "\u001b[34mb3aedba2-2594-4104-8098-c8d7787ddaa5\u001b[m\u001b[m\n"
     ]
    }
   ],
   "source": [
    "# Let's check our downloaded file locations\n",
    "!ls data/use_case_1"
   ]
  },
  {
   "cell_type": "code",
   "execution_count": null,
   "metadata": {},
   "outputs": [
    {
     "name": "stdout",
     "output_type": "stream",
     "text": [
      "'data/use_case_1'\n"
     ]
    }
   ],
   "source": [
    "pprint(data_dir)"
   ]
  },
  {
   "cell_type": "code",
   "execution_count": null,
   "metadata": {},
   "outputs": [
    {
     "name": "stdout",
     "output_type": "stream",
     "text": [
      "['data/use_case_1/7309fefd-2493-4ba6-bba8-9d55276d272f/20190420_164135_1002_metadata.json',\n",
      " 'data/use_case_1/7309fefd-2493-4ba6-bba8-9d55276d272f/20190420_163150_0e19_metadata.json',\n",
      " 'data/use_case_1/7309fefd-2493-4ba6-bba8-9d55276d272f/composite.tif',\n",
      " 'data/use_case_1/7309fefd-2493-4ba6-bba8-9d55276d272f/20190420_164134_1002_3B_AnalyticMS_metadata_clip.xml',\n",
      " 'data/use_case_1/7309fefd-2493-4ba6-bba8-9d55276d272f/20190420_163148_0e19_3B_AnalyticMS_metadata_clip.xml',\n",
      " 'data/use_case_1/7309fefd-2493-4ba6-bba8-9d55276d272f/20190420_163149_0e19_3B_AnalyticMS_metadata_clip.xml',\n",
      " 'data/use_case_1/7309fefd-2493-4ba6-bba8-9d55276d272f/20190420_164133_1002_metadata.json',\n",
      " 'data/use_case_1/7309fefd-2493-4ba6-bba8-9d55276d272f/20190420_163152_0e19_3B_AnalyticMS_metadata_clip.xml',\n",
      " 'data/use_case_1/7309fefd-2493-4ba6-bba8-9d55276d272f/20190420_164133_1002_3B_AnalyticMS_metadata_clip.xml',\n",
      " 'data/use_case_1/7309fefd-2493-4ba6-bba8-9d55276d272f/20190420_164136_1002_metadata.json',\n",
      " 'data/use_case_1/7309fefd-2493-4ba6-bba8-9d55276d272f/20190420_163148_0e19_metadata.json',\n",
      " 'data/use_case_1/7309fefd-2493-4ba6-bba8-9d55276d272f/20190420_163153_0e19_3B_AnalyticMS_metadata_clip.xml',\n",
      " 'data/use_case_1/7309fefd-2493-4ba6-bba8-9d55276d272f/20190420_163149_0e19_metadata.json',\n",
      " 'data/use_case_1/7309fefd-2493-4ba6-bba8-9d55276d272f/20190420_163150_0e19_3B_AnalyticMS_metadata_clip.xml',\n",
      " 'data/use_case_1/7309fefd-2493-4ba6-bba8-9d55276d272f/20190420_164136_1002_3B_AnalyticMS_metadata_clip.xml',\n",
      " 'data/use_case_1/7309fefd-2493-4ba6-bba8-9d55276d272f/20190420_164137_1002_3B_AnalyticMS_metadata_clip.xml',\n",
      " 'data/use_case_1/7309fefd-2493-4ba6-bba8-9d55276d272f/20190420_164135_1002_3B_AnalyticMS_metadata_clip.xml',\n",
      " 'data/use_case_1/7309fefd-2493-4ba6-bba8-9d55276d272f/composite_metadata.json',\n",
      " 'data/use_case_1/7309fefd-2493-4ba6-bba8-9d55276d272f/20190420_163152_0e19_metadata.json',\n",
      " 'data/use_case_1/7309fefd-2493-4ba6-bba8-9d55276d272f/composite_udm2.tif',\n",
      " 'data/use_case_1/7309fefd-2493-4ba6-bba8-9d55276d272f/20190420_164137_1002_metadata.json',\n",
      " 'data/use_case_1/7309fefd-2493-4ba6-bba8-9d55276d272f/20190420_164134_1002_metadata.json',\n",
      " 'data/use_case_1/7309fefd-2493-4ba6-bba8-9d55276d272f/20190420_163153_0e19_metadata.json',\n",
      " 'data/use_case_1/f06c7576-351b-4890-9a86-a215d210400c/20190408_154008_1020_3B_AnalyticMS_metadata_clip.xml',\n",
      " 'data/use_case_1/f06c7576-351b-4890-9a86-a215d210400c/20190408_163736_1025_3B_AnalyticMS_metadata_clip.xml',\n",
      " 'data/use_case_1/f06c7576-351b-4890-9a86-a215d210400c/20190408_163735_1025_3B_AnalyticMS_metadata_clip.xml',\n",
      " 'data/use_case_1/f06c7576-351b-4890-9a86-a215d210400c/20190408_163736_1025_metadata.json',\n",
      " 'data/use_case_1/f06c7576-351b-4890-9a86-a215d210400c/20190408_154004_1020_metadata.json',\n",
      " 'data/use_case_1/f06c7576-351b-4890-9a86-a215d210400c/20190408_164038_100e_metadata.json',\n",
      " 'data/use_case_1/f06c7576-351b-4890-9a86-a215d210400c/20190408_154005_1020_3B_AnalyticMS_metadata_clip.xml',\n",
      " 'data/use_case_1/f06c7576-351b-4890-9a86-a215d210400c/20190408_164035_100e_metadata.json',\n",
      " 'data/use_case_1/f06c7576-351b-4890-9a86-a215d210400c/20190408_164037_100e_3B_AnalyticMS_metadata_clip.xml',\n",
      " 'data/use_case_1/f06c7576-351b-4890-9a86-a215d210400c/20190408_163735_1025_metadata.json',\n",
      " 'data/use_case_1/f06c7576-351b-4890-9a86-a215d210400c/composite_udm2.tif',\n",
      " 'data/use_case_1/f06c7576-351b-4890-9a86-a215d210400c/composite.tif',\n",
      " 'data/use_case_1/f06c7576-351b-4890-9a86-a215d210400c/20190408_154008_1020_metadata.json',\n",
      " 'data/use_case_1/f06c7576-351b-4890-9a86-a215d210400c/20190408_154006_1020_3B_AnalyticMS_metadata_clip.xml',\n",
      " 'data/use_case_1/f06c7576-351b-4890-9a86-a215d210400c/20190408_164034_100e_3B_AnalyticMS_metadata_clip.xml',\n",
      " 'data/use_case_1/f06c7576-351b-4890-9a86-a215d210400c/20190408_154007_1020_metadata.json',\n",
      " 'data/use_case_1/f06c7576-351b-4890-9a86-a215d210400c/20190408_154005_1020_metadata.json',\n",
      " 'data/use_case_1/f06c7576-351b-4890-9a86-a215d210400c/20190408_154006_1020_metadata.json',\n",
      " 'data/use_case_1/f06c7576-351b-4890-9a86-a215d210400c/20190408_164038_100e_3B_AnalyticMS_metadata_clip.xml',\n",
      " 'data/use_case_1/f06c7576-351b-4890-9a86-a215d210400c/20190408_154004_1020_3B_AnalyticMS_metadata_clip.xml',\n",
      " 'data/use_case_1/f06c7576-351b-4890-9a86-a215d210400c/20190408_164036_100e_3B_AnalyticMS_metadata_clip.xml',\n",
      " 'data/use_case_1/f06c7576-351b-4890-9a86-a215d210400c/20190408_164035_100e_3B_AnalyticMS_metadata_clip.xml',\n",
      " 'data/use_case_1/f06c7576-351b-4890-9a86-a215d210400c/20190408_163738_1025_metadata.json',\n",
      " 'data/use_case_1/f06c7576-351b-4890-9a86-a215d210400c/20190408_164037_100e_metadata.json',\n",
      " 'data/use_case_1/f06c7576-351b-4890-9a86-a215d210400c/composite_metadata.json',\n",
      " 'data/use_case_1/f06c7576-351b-4890-9a86-a215d210400c/20190408_164036_100e_metadata.json',\n",
      " 'data/use_case_1/f06c7576-351b-4890-9a86-a215d210400c/20190408_163738_1025_3B_AnalyticMS_metadata_clip.xml',\n",
      " 'data/use_case_1/f06c7576-351b-4890-9a86-a215d210400c/20190408_164034_100e_metadata.json',\n",
      " 'data/use_case_1/f06c7576-351b-4890-9a86-a215d210400c/20190408_154007_1020_3B_AnalyticMS_metadata_clip.xml']\n"
     ]
    }
   ],
   "source": [
    "locations = []\n",
    "\n",
    "\n",
    "def get_download_locations(download_dir, order_id_list):\n",
    "    \"\"\"\n",
    "    Retrieves the download locations of files based on the provided order IDs.\n",
    "\n",
    "    Args:\n",
    "        download_dir (str): The directory where the download files are stored.\n",
    "        order_id_list (list): A list of order IDs.\n",
    "\n",
    "    Returns:\n",
    "        list: A list of download locations.\n",
    "    \"\"\"\n",
    "    for order_id in order_id_list:\n",
    "        manifest_file = os.path.join(download_dir, order_id, 'manifest.json')\n",
    "        with open(manifest_file, 'r') as src:\n",
    "            manifest = json.load(src)\n",
    "        location = [os.path.join(data_dir, order_id, f['path'])\n",
    "                    for f in manifest['files']]\n",
    "        locations.append(location)\n",
    "    return locations\n",
    "\n",
    "\n",
    "locations = get_download_locations(data_dir, order_id_list)\n",
    "\n",
    "# Un-nest our locations object\n",
    "locations = list(chain.from_iterable(locations))\n",
    "\n",
    "pprint(locations)"
   ]
  },
  {
   "attachments": {},
   "cell_type": "markdown",
   "metadata": {
    "collapsed": true
   },
   "source": [
    "#### Step 6: Unzip and Verify Orders\n",
    "\n",
    "In this step we will simply unzip the orders and view one of the ordered composite images.\n",
    "\n",
    "##### 6.1: Unzip Order\n",
    "\n",
    "In this section, we will unzip each order into a directory named after the downloaded zip file."
   ]
  },
  {
   "cell_type": "code",
   "execution_count": null,
   "metadata": {},
   "outputs": [],
   "source": [
    "def unzip(filename):\n",
    "    location = Path(filename)\n",
    "\n",
    "    zipdir = location.parent / location.stem\n",
    "    with ZipFile(location) as myzip:\n",
    "        myzip.extractall(zipdir)\n",
    "    return zipdir"
   ]
  },
  {
   "cell_type": "code",
   "execution_count": null,
   "metadata": {},
   "outputs": [],
   "source": [
    "def get_unzipped_files(zipdir):\n",
    "    filedir = zipdir / 'files'\n",
    "    filenames = os.listdir(filedir)\n",
    "    return [filedir / f for f in filenames]"
   ]
  },
  {
   "cell_type": "code",
   "execution_count": null,
   "metadata": {},
   "outputs": [
    {
     "name": "stdout",
     "output_type": "stream",
     "text": [
      "['data/use_case_1/7309fefd-2493-4ba6-bba8-9d55276d272f/20190420_164135_1002_metadata.json',\n",
      " 'data/use_case_1/7309fefd-2493-4ba6-bba8-9d55276d272f/20190420_163150_0e19_metadata.json',\n",
      " 'data/use_case_1/7309fefd-2493-4ba6-bba8-9d55276d272f/composite.tif',\n",
      " 'data/use_case_1/7309fefd-2493-4ba6-bba8-9d55276d272f/20190420_164134_1002_3B_AnalyticMS_metadata_clip.xml',\n",
      " 'data/use_case_1/7309fefd-2493-4ba6-bba8-9d55276d272f/20190420_163148_0e19_3B_AnalyticMS_metadata_clip.xml',\n",
      " 'data/use_case_1/7309fefd-2493-4ba6-bba8-9d55276d272f/20190420_163149_0e19_3B_AnalyticMS_metadata_clip.xml',\n",
      " 'data/use_case_1/7309fefd-2493-4ba6-bba8-9d55276d272f/20190420_164133_1002_metadata.json',\n",
      " 'data/use_case_1/7309fefd-2493-4ba6-bba8-9d55276d272f/20190420_163152_0e19_3B_AnalyticMS_metadata_clip.xml',\n",
      " 'data/use_case_1/7309fefd-2493-4ba6-bba8-9d55276d272f/20190420_164133_1002_3B_AnalyticMS_metadata_clip.xml',\n",
      " 'data/use_case_1/7309fefd-2493-4ba6-bba8-9d55276d272f/20190420_164136_1002_metadata.json',\n",
      " 'data/use_case_1/7309fefd-2493-4ba6-bba8-9d55276d272f/20190420_163148_0e19_metadata.json',\n",
      " 'data/use_case_1/7309fefd-2493-4ba6-bba8-9d55276d272f/20190420_163153_0e19_3B_AnalyticMS_metadata_clip.xml',\n",
      " 'data/use_case_1/7309fefd-2493-4ba6-bba8-9d55276d272f/20190420_163149_0e19_metadata.json',\n",
      " 'data/use_case_1/7309fefd-2493-4ba6-bba8-9d55276d272f/20190420_163150_0e19_3B_AnalyticMS_metadata_clip.xml',\n",
      " 'data/use_case_1/7309fefd-2493-4ba6-bba8-9d55276d272f/20190420_164136_1002_3B_AnalyticMS_metadata_clip.xml',\n",
      " 'data/use_case_1/7309fefd-2493-4ba6-bba8-9d55276d272f/20190420_164137_1002_3B_AnalyticMS_metadata_clip.xml',\n",
      " 'data/use_case_1/7309fefd-2493-4ba6-bba8-9d55276d272f/20190420_164135_1002_3B_AnalyticMS_metadata_clip.xml',\n",
      " 'data/use_case_1/7309fefd-2493-4ba6-bba8-9d55276d272f/composite_metadata.json',\n",
      " 'data/use_case_1/7309fefd-2493-4ba6-bba8-9d55276d272f/20190420_163152_0e19_metadata.json',\n",
      " 'data/use_case_1/7309fefd-2493-4ba6-bba8-9d55276d272f/composite_udm2.tif',\n",
      " 'data/use_case_1/7309fefd-2493-4ba6-bba8-9d55276d272f/20190420_164137_1002_metadata.json',\n",
      " 'data/use_case_1/7309fefd-2493-4ba6-bba8-9d55276d272f/20190420_164134_1002_metadata.json',\n",
      " 'data/use_case_1/7309fefd-2493-4ba6-bba8-9d55276d272f/20190420_163153_0e19_metadata.json',\n",
      " 'data/use_case_1/f06c7576-351b-4890-9a86-a215d210400c/20190408_154008_1020_3B_AnalyticMS_metadata_clip.xml',\n",
      " 'data/use_case_1/f06c7576-351b-4890-9a86-a215d210400c/20190408_163736_1025_3B_AnalyticMS_metadata_clip.xml',\n",
      " 'data/use_case_1/f06c7576-351b-4890-9a86-a215d210400c/20190408_163735_1025_3B_AnalyticMS_metadata_clip.xml',\n",
      " 'data/use_case_1/f06c7576-351b-4890-9a86-a215d210400c/20190408_163736_1025_metadata.json',\n",
      " 'data/use_case_1/f06c7576-351b-4890-9a86-a215d210400c/20190408_154004_1020_metadata.json',\n",
      " 'data/use_case_1/f06c7576-351b-4890-9a86-a215d210400c/20190408_164038_100e_metadata.json',\n",
      " 'data/use_case_1/f06c7576-351b-4890-9a86-a215d210400c/20190408_154005_1020_3B_AnalyticMS_metadata_clip.xml',\n",
      " 'data/use_case_1/f06c7576-351b-4890-9a86-a215d210400c/20190408_164035_100e_metadata.json',\n",
      " 'data/use_case_1/f06c7576-351b-4890-9a86-a215d210400c/20190408_164037_100e_3B_AnalyticMS_metadata_clip.xml',\n",
      " 'data/use_case_1/f06c7576-351b-4890-9a86-a215d210400c/20190408_163735_1025_metadata.json',\n",
      " 'data/use_case_1/f06c7576-351b-4890-9a86-a215d210400c/composite_udm2.tif',\n",
      " 'data/use_case_1/f06c7576-351b-4890-9a86-a215d210400c/composite.tif',\n",
      " 'data/use_case_1/f06c7576-351b-4890-9a86-a215d210400c/20190408_154008_1020_metadata.json',\n",
      " 'data/use_case_1/f06c7576-351b-4890-9a86-a215d210400c/20190408_154006_1020_3B_AnalyticMS_metadata_clip.xml',\n",
      " 'data/use_case_1/f06c7576-351b-4890-9a86-a215d210400c/20190408_164034_100e_3B_AnalyticMS_metadata_clip.xml',\n",
      " 'data/use_case_1/f06c7576-351b-4890-9a86-a215d210400c/20190408_154007_1020_metadata.json',\n",
      " 'data/use_case_1/f06c7576-351b-4890-9a86-a215d210400c/20190408_154005_1020_metadata.json',\n",
      " 'data/use_case_1/f06c7576-351b-4890-9a86-a215d210400c/20190408_154006_1020_metadata.json',\n",
      " 'data/use_case_1/f06c7576-351b-4890-9a86-a215d210400c/20190408_164038_100e_3B_AnalyticMS_metadata_clip.xml',\n",
      " 'data/use_case_1/f06c7576-351b-4890-9a86-a215d210400c/20190408_154004_1020_3B_AnalyticMS_metadata_clip.xml',\n",
      " 'data/use_case_1/f06c7576-351b-4890-9a86-a215d210400c/20190408_164036_100e_3B_AnalyticMS_metadata_clip.xml',\n",
      " 'data/use_case_1/f06c7576-351b-4890-9a86-a215d210400c/20190408_164035_100e_3B_AnalyticMS_metadata_clip.xml',\n",
      " 'data/use_case_1/f06c7576-351b-4890-9a86-a215d210400c/20190408_163738_1025_metadata.json',\n",
      " 'data/use_case_1/f06c7576-351b-4890-9a86-a215d210400c/20190408_164037_100e_metadata.json',\n",
      " 'data/use_case_1/f06c7576-351b-4890-9a86-a215d210400c/composite_metadata.json',\n",
      " 'data/use_case_1/f06c7576-351b-4890-9a86-a215d210400c/20190408_164036_100e_metadata.json',\n",
      " 'data/use_case_1/f06c7576-351b-4890-9a86-a215d210400c/20190408_163738_1025_3B_AnalyticMS_metadata_clip.xml',\n",
      " 'data/use_case_1/f06c7576-351b-4890-9a86-a215d210400c/20190408_164034_100e_metadata.json',\n",
      " 'data/use_case_1/f06c7576-351b-4890-9a86-a215d210400c/20190408_154007_1020_3B_AnalyticMS_metadata_clip.xml']\n"
     ]
    }
   ],
   "source": [
    "pprint(locations)"
   ]
  },
  {
   "attachments": {},
   "cell_type": "markdown",
   "metadata": {},
   "source": [
    "##### 6.2: Verify Orders\n",
    "\n",
    "In this section we will view the orders manually in QGIS. In the next part of this tutorial, we will visualize the NDVI composite image with the UDM. But for now, we just want to make sure we got what we ordered.\n",
    "\n",
    "In the explorer, navigate to the data folder (should be `*/notebooks/analysis-ready-data/data/use_case_1/`). In any of the subfolders (named with the `order_id`), go into `files` and find the file named `composite.tif`). Drag that file into QGIS to visualize."
   ]
  }
 ],
 "metadata": {
  "kernelspec": {
   "display_name": "Python 3 (ipykernel)",
   "language": "python",
   "name": "python3"
  },
  "language_info": {
   "codemirror_mode": {
    "name": "ipython",
    "version": 3
   },
   "file_extension": ".py",
   "mimetype": "text/x-python",
   "name": "python",
   "nbconvert_exporter": "python",
   "pygments_lexer": "ipython3",
   "version": "3.9.12"
  }
 },
 "nbformat": 4,
 "nbformat_minor": 4
}
