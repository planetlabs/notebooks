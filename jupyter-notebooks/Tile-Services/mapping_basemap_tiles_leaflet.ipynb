{
 "cells": [
  {
   "cell_type": "markdown",
   "metadata": {},
   "source": [
    "[![Open In Colab](https://colab.research.google.com/assets/colab-badge.svg)](https://colab.research.google.com/github/planetlabs/notebooks/blob/master/jupyter-notebooks/Tile-Services/mapping_basemap_tiles_leaflet.ipynb)\n",
    "\n",
    "# Tile Services Mapping Demo with Leaflet\n",
    "\n",
    "This notebook demonstrates how to render Planet Basemaps via [XYZ Tile Services](https://docs.planet.com/develop/apis/tiles/#basemap-tile-service).\n",
    "\n",
    "In this example, you will build an interactive map that looks like this one:\n",
    "\n",
    "![leaflet_map.png](images/leaflet_map.png)"
   ]
  },
  {
   "cell_type": "markdown",
   "metadata": {},
   "source": [
    "## Setup"
   ]
  },
  {
   "cell_type": "code",
   "execution_count": 10,
   "metadata": {},
   "outputs": [],
   "source": [
    "import os\n",
    "from ipyleaflet import TileLayer, Map, basemaps, LayersControl"
   ]
  },
  {
   "cell_type": "code",
   "execution_count": 6,
   "metadata": {},
   "outputs": [],
   "source": [
    "# setup Planet API key\n",
    "pl_api_key = os.getenv('PL_API_KEY')\n",
    "if not pl_api_key:\n",
    "    import getpass\n",
    "    pl_api_key = getpass.getpass('Planet API Key: ')"
   ]
  },
  {
   "cell_type": "code",
   "execution_count": 7,
   "metadata": {},
   "outputs": [],
   "source": [
    "# You may need to adjust this to a location within your own Area of Access\n",
    "lat, lon = 37.7749, -122.4194"
   ]
  },
  {
   "cell_type": "markdown",
   "metadata": {},
   "source": [
    "## Make the Map"
   ]
  },
  {
   "cell_type": "code",
   "execution_count": null,
   "metadata": {},
   "outputs": [],
   "source": [
    "m = Map(\n",
    "    center=(lat, lon),\n",
    "    zoom=12,\n",
    "    basemap=basemaps.CartoDB.Positron # this is an underlying basemap that will show up below our Planet tile layers\n",
    ")\n",
    "\n",
    "# replace these with different basemap names if you do not have access to global monthly basemaps\n",
    "basemap_names = ['global_monthly_2024_11_mosaic', 'global_monthly_2024_08_mosaic', 'global_monthly_2024_05_mosaic']\n",
    "for basemap in basemap_names:\n",
    "    layer = TileLayer(\n",
    "        url=f'https://tiles.planet.com/basemaps/v1/planet-tiles/{basemap}/gmap/{{z}}/{{x}}/{{y}}.png?api_key={pl_api_key}',\n",
    "        name=basemap,\n",
    "        attribution='Planet Labs PBC'\n",
    "    )\n",
    "    m.add_layer(layer)\n",
    "\n",
    "# Add layer control\n",
    "layer_control = LayersControl(position='topright')\n",
    "m.add_control(layer_control)\n",
    "\n",
    "# Display the map\n",
    "m"
   ]
  },
  {
   "cell_type": "markdown",
   "metadata": {},
   "source": [
    "You should now see a rendered map with one layer per basemap.\n",
    "Try toggling layers on/off to see how the area in view changed over time."
   ]
  }
 ],
 "metadata": {
  "kernelspec": {
   "display_name": "sentinel-hub",
   "language": "python",
   "name": "python3"
  },
  "language_info": {
   "codemirror_mode": {
    "name": "ipython",
    "version": 3
   },
   "file_extension": ".py",
   "mimetype": "text/x-python",
   "name": "python",
   "nbconvert_exporter": "python",
   "pygments_lexer": "ipython3",
   "version": "3.11.8"
  }
 },
 "nbformat": 4,
 "nbformat_minor": 4
}
