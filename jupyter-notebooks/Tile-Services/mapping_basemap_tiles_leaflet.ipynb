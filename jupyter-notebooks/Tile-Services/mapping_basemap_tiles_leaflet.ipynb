{
 "cells": [
  {
   "cell_type": "markdown",
   "metadata": {},
   "source": [
    "# Tile Services Mapping Demo\n",
    "\n",
    "This notebook demonstrates how to render Planet Basemaps via [XYZ Tile Services](https://developers.planet.com/docs/basemaps/tile-services/#basemap-tile-service).\n",
    "\n",
    "In this example, you will build an interactive map that looks like this one:\n",
    "\n",
    "![leaflet_map.png](images/leaflet_map.png)"
   ]
  },
  {
   "cell_type": "markdown",
   "metadata": {},
   "source": [
    "## Setup"
   ]
  },
  {
   "cell_type": "code",
   "execution_count": 1,
   "metadata": {},
   "outputs": [],
   "source": [
    "## install ipyleaflet if needed\n",
    "# !pip install ipyleaflet"
   ]
  },
  {
   "cell_type": "code",
   "execution_count": 2,
   "metadata": {},
   "outputs": [],
   "source": [
    "import getpass\n",
    "import os\n",
    "import ipyleaflet\n",
    "from ipyleaflet import TileLayer, Map, basemaps"
   ]
  },
  {
   "cell_type": "code",
   "execution_count": 3,
   "metadata": {},
   "outputs": [],
   "source": [
    "# setup Planet API key\n",
    "PLANET_API_KEY = os.getenv('PL_API_KEY')\n",
    "if not PLANET_API_KEY:\n",
    "    PLANET_API_KEY = getpass.getpass('Enter your Planet API key: ')"
   ]
  },
  {
   "cell_type": "code",
   "execution_count": 4,
   "metadata": {},
   "outputs": [],
   "source": [
    "# You may need to adjust this to a location within your own Area of Access\n",
    "lat, lon = 37.7749, -122.4194"
   ]
  },
  {
   "cell_type": "markdown",
   "metadata": {},
   "source": [
    "## Make the Map"
   ]
  },
  {
   "cell_type": "code",
   "execution_count": 5,
   "metadata": {},
   "outputs": [
    {
     "data": {
      "application/vnd.jupyter.widget-view+json": {
       "model_id": "498a071f22fa46e9aa6a6884dfea749e",
       "version_major": 2,
       "version_minor": 0
      },
      "text/plain": [
       "Map(center=[37.7749, -122.4194], controls=(ZoomControl(options=['position', 'zoom_in_text', 'zoom_in_title', '…"
      ]
     },
     "execution_count": 5,
     "metadata": {},
     "output_type": "execute_result"
    }
   ],
   "source": [
    "m = Map(\n",
    "    center=(lat, lon),\n",
    "    zoom=12,\n",
    "    basemap=basemaps.CartoDB.Positron # this is an underlying basemap that will show up below our Planet tile layers\n",
    ")\n",
    "\n",
    "# replace these with different basemap names if you do not have access to global monthly basemaps\n",
    "basemap_names = ['global_monthly_2024_11_mosaic', 'global_monthly_2024_08_mosaic', 'global_monthly_2024_05_mosaic']\n",
    "for basemap in basemap_names:\n",
    "    layer = TileLayer(\n",
    "        url=f'https://tiles.planet.com/basemaps/v1/planet-tiles/{basemap}/gmap/{{z}}/{{x}}/{{y}}.png?api_key={PLANET_API_KEY}',\n",
    "        name=basemap,\n",
    "        attribution='Planet Labs PBC'\n",
    "    )\n",
    "    m.add_layer(layer)\n",
    "\n",
    "# Add layer control\n",
    "layer_control = ipyleaflet.LayersControl(position='topright')\n",
    "m.add_control(layer_control)\n",
    "\n",
    "# Display the map\n",
    "m"
   ]
  },
  {
   "cell_type": "markdown",
   "metadata": {},
   "source": [
    "You should now see a rendered map with one layer per basemap.\n",
    "Try toggling layers on/off to see how the area in view changed over time."
   ]
  }
 ],
 "metadata": {
  "kernelspec": {
   "display_name": "Python 3 (ipykernel)",
   "language": "python",
   "name": "python3"
  },
  "language_info": {
   "codemirror_mode": {
    "name": "ipython",
    "version": 3
   },
   "file_extension": ".py",
   "mimetype": "text/x-python",
   "name": "python",
   "nbconvert_exporter": "python",
   "pygments_lexer": "ipython3",
   "version": "3.11.6"
  }
 },
 "nbformat": 4,
 "nbformat_minor": 4
}
